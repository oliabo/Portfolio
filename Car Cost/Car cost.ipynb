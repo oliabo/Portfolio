{
 "cells": [
  {
   "cell_type": "markdown",
   "metadata": {},
   "source": [
    "# Определение стоимости автомобилей"
   ]
  },
  {
   "cell_type": "markdown",
   "metadata": {},
   "source": [
    "### Описание проекта\n",
    "\n",
    "Сервис по продаже автомобилей с пробегом «Не бит, не крашен» разрабатывает приложение для привлечения новых клиентов. В нём можно быстро узнать рыночную стоимость своего автомобиля. В нашем распоряжении исторические данные: технические характеристики, комплектации и цены автомобилей. Нужно построить модель для определения стоимости. \n",
    "\n",
    "Заказчику важны:\n",
    "\n",
    "- качество предсказания;\n",
    "- скорость предсказания;\n",
    "- время обучения."
   ]
  },
  {
   "cell_type": "markdown",
   "metadata": {},
   "source": [
    "## Подготовка данных"
   ]
  },
  {
   "cell_type": "code",
   "execution_count": 1,
   "metadata": {},
   "outputs": [],
   "source": [
    "import pandas as pd\n",
    "import seaborn as sns\n",
    "import matplotlib.pyplot as plt\n",
    "import numpy as np\n",
    "from sklearn.preprocessing import OneHotEncoder\n",
    "from sklearn.utils import shuffle\n",
    "from sklearn.tree import DecisionTreeRegressor\n",
    "from sklearn.ensemble import RandomForestRegressor\n",
    "from sklearn.linear_model import LinearRegression\n",
    "from sklearn.model_selection import train_test_split, cross_val_score, GridSearchCV, KFold\n",
    "from sklearn.metrics import mean_squared_error, make_scorer\n",
    "from sklearn.dummy import DummyRegressor\n",
    "from catboost import CatBoostRegressor\n",
    "from lightgbm import LGBMRegressor"
   ]
  },
  {
   "cell_type": "code",
   "execution_count": 2,
   "metadata": {},
   "outputs": [],
   "source": [
    "STATE = np.random.RandomState(12345)"
   ]
  },
  {
   "cell_type": "code",
   "execution_count": 3,
   "metadata": {},
   "outputs": [],
   "source": [
    "data = pd.read_csv('/datasets/autos.csv')"
   ]
  },
  {
   "cell_type": "code",
   "execution_count": 4,
   "metadata": {},
   "outputs": [
    {
     "name": "stdout",
     "output_type": "stream",
     "text": [
      "<class 'pandas.core.frame.DataFrame'>\n",
      "RangeIndex: 354369 entries, 0 to 354368\n",
      "Data columns (total 16 columns):\n",
      " #   Column             Non-Null Count   Dtype \n",
      "---  ------             --------------   ----- \n",
      " 0   DateCrawled        354369 non-null  object\n",
      " 1   Price              354369 non-null  int64 \n",
      " 2   VehicleType        316879 non-null  object\n",
      " 3   RegistrationYear   354369 non-null  int64 \n",
      " 4   Gearbox            334536 non-null  object\n",
      " 5   Power              354369 non-null  int64 \n",
      " 6   Model              334664 non-null  object\n",
      " 7   Kilometer          354369 non-null  int64 \n",
      " 8   RegistrationMonth  354369 non-null  int64 \n",
      " 9   FuelType           321474 non-null  object\n",
      " 10  Brand              354369 non-null  object\n",
      " 11  Repaired           283215 non-null  object\n",
      " 12  DateCreated        354369 non-null  object\n",
      " 13  NumberOfPictures   354369 non-null  int64 \n",
      " 14  PostalCode         354369 non-null  int64 \n",
      " 15  LastSeen           354369 non-null  object\n",
      "dtypes: int64(7), object(9)\n",
      "memory usage: 43.3+ MB\n"
     ]
    },
    {
     "data": {
      "text/html": [
       "<div>\n",
       "<style scoped>\n",
       "    .dataframe tbody tr th:only-of-type {\n",
       "        vertical-align: middle;\n",
       "    }\n",
       "\n",
       "    .dataframe tbody tr th {\n",
       "        vertical-align: top;\n",
       "    }\n",
       "\n",
       "    .dataframe thead th {\n",
       "        text-align: right;\n",
       "    }\n",
       "</style>\n",
       "<table border=\"1\" class=\"dataframe\">\n",
       "  <thead>\n",
       "    <tr style=\"text-align: right;\">\n",
       "      <th></th>\n",
       "      <th>DateCrawled</th>\n",
       "      <th>Price</th>\n",
       "      <th>VehicleType</th>\n",
       "      <th>RegistrationYear</th>\n",
       "      <th>Gearbox</th>\n",
       "      <th>Power</th>\n",
       "      <th>Model</th>\n",
       "      <th>Kilometer</th>\n",
       "      <th>RegistrationMonth</th>\n",
       "      <th>FuelType</th>\n",
       "      <th>Brand</th>\n",
       "      <th>Repaired</th>\n",
       "      <th>DateCreated</th>\n",
       "      <th>NumberOfPictures</th>\n",
       "      <th>PostalCode</th>\n",
       "      <th>LastSeen</th>\n",
       "    </tr>\n",
       "  </thead>\n",
       "  <tbody>\n",
       "    <tr>\n",
       "      <th>0</th>\n",
       "      <td>2016-03-24 11:52:17</td>\n",
       "      <td>480</td>\n",
       "      <td>NaN</td>\n",
       "      <td>1993</td>\n",
       "      <td>manual</td>\n",
       "      <td>0</td>\n",
       "      <td>golf</td>\n",
       "      <td>150000</td>\n",
       "      <td>0</td>\n",
       "      <td>petrol</td>\n",
       "      <td>volkswagen</td>\n",
       "      <td>NaN</td>\n",
       "      <td>2016-03-24 00:00:00</td>\n",
       "      <td>0</td>\n",
       "      <td>70435</td>\n",
       "      <td>2016-04-07 03:16:57</td>\n",
       "    </tr>\n",
       "    <tr>\n",
       "      <th>1</th>\n",
       "      <td>2016-03-24 10:58:45</td>\n",
       "      <td>18300</td>\n",
       "      <td>coupe</td>\n",
       "      <td>2011</td>\n",
       "      <td>manual</td>\n",
       "      <td>190</td>\n",
       "      <td>NaN</td>\n",
       "      <td>125000</td>\n",
       "      <td>5</td>\n",
       "      <td>gasoline</td>\n",
       "      <td>audi</td>\n",
       "      <td>yes</td>\n",
       "      <td>2016-03-24 00:00:00</td>\n",
       "      <td>0</td>\n",
       "      <td>66954</td>\n",
       "      <td>2016-04-07 01:46:50</td>\n",
       "    </tr>\n",
       "    <tr>\n",
       "      <th>2</th>\n",
       "      <td>2016-03-14 12:52:21</td>\n",
       "      <td>9800</td>\n",
       "      <td>suv</td>\n",
       "      <td>2004</td>\n",
       "      <td>auto</td>\n",
       "      <td>163</td>\n",
       "      <td>grand</td>\n",
       "      <td>125000</td>\n",
       "      <td>8</td>\n",
       "      <td>gasoline</td>\n",
       "      <td>jeep</td>\n",
       "      <td>NaN</td>\n",
       "      <td>2016-03-14 00:00:00</td>\n",
       "      <td>0</td>\n",
       "      <td>90480</td>\n",
       "      <td>2016-04-05 12:47:46</td>\n",
       "    </tr>\n",
       "    <tr>\n",
       "      <th>3</th>\n",
       "      <td>2016-03-17 16:54:04</td>\n",
       "      <td>1500</td>\n",
       "      <td>small</td>\n",
       "      <td>2001</td>\n",
       "      <td>manual</td>\n",
       "      <td>75</td>\n",
       "      <td>golf</td>\n",
       "      <td>150000</td>\n",
       "      <td>6</td>\n",
       "      <td>petrol</td>\n",
       "      <td>volkswagen</td>\n",
       "      <td>no</td>\n",
       "      <td>2016-03-17 00:00:00</td>\n",
       "      <td>0</td>\n",
       "      <td>91074</td>\n",
       "      <td>2016-03-17 17:40:17</td>\n",
       "    </tr>\n",
       "    <tr>\n",
       "      <th>4</th>\n",
       "      <td>2016-03-31 17:25:20</td>\n",
       "      <td>3600</td>\n",
       "      <td>small</td>\n",
       "      <td>2008</td>\n",
       "      <td>manual</td>\n",
       "      <td>69</td>\n",
       "      <td>fabia</td>\n",
       "      <td>90000</td>\n",
       "      <td>7</td>\n",
       "      <td>gasoline</td>\n",
       "      <td>skoda</td>\n",
       "      <td>no</td>\n",
       "      <td>2016-03-31 00:00:00</td>\n",
       "      <td>0</td>\n",
       "      <td>60437</td>\n",
       "      <td>2016-04-06 10:17:21</td>\n",
       "    </tr>\n",
       "  </tbody>\n",
       "</table>\n",
       "</div>"
      ],
      "text/plain": [
       "           DateCrawled  Price VehicleType  RegistrationYear Gearbox  Power  \\\n",
       "0  2016-03-24 11:52:17    480         NaN              1993  manual      0   \n",
       "1  2016-03-24 10:58:45  18300       coupe              2011  manual    190   \n",
       "2  2016-03-14 12:52:21   9800         suv              2004    auto    163   \n",
       "3  2016-03-17 16:54:04   1500       small              2001  manual     75   \n",
       "4  2016-03-31 17:25:20   3600       small              2008  manual     69   \n",
       "\n",
       "   Model  Kilometer  RegistrationMonth  FuelType       Brand Repaired  \\\n",
       "0   golf     150000                  0    petrol  volkswagen      NaN   \n",
       "1    NaN     125000                  5  gasoline        audi      yes   \n",
       "2  grand     125000                  8  gasoline        jeep      NaN   \n",
       "3   golf     150000                  6    petrol  volkswagen       no   \n",
       "4  fabia      90000                  7  gasoline       skoda       no   \n",
       "\n",
       "           DateCreated  NumberOfPictures  PostalCode             LastSeen  \n",
       "0  2016-03-24 00:00:00                 0       70435  2016-04-07 03:16:57  \n",
       "1  2016-03-24 00:00:00                 0       66954  2016-04-07 01:46:50  \n",
       "2  2016-03-14 00:00:00                 0       90480  2016-04-05 12:47:46  \n",
       "3  2016-03-17 00:00:00                 0       91074  2016-03-17 17:40:17  \n",
       "4  2016-03-31 00:00:00                 0       60437  2016-04-06 10:17:21  "
      ]
     },
     "execution_count": 4,
     "metadata": {},
     "output_type": "execute_result"
    }
   ],
   "source": [
    "data.info()\n",
    "data.head()"
   ]
  },
  {
   "cell_type": "code",
   "execution_count": 5,
   "metadata": {},
   "outputs": [
    {
     "data": {
      "text/plain": [
       "4"
      ]
     },
     "execution_count": 5,
     "metadata": {},
     "output_type": "execute_result"
    }
   ],
   "source": [
    "# Проверим, есть ли дубликаты в данных \n",
    "data.duplicated().sum()"
   ]
  },
  {
   "cell_type": "markdown",
   "metadata": {},
   "source": [
    "Всего 4 дубликата из 354369 строк - такое количество не должно повлиять на модель. Оставим их."
   ]
  },
  {
   "cell_type": "code",
   "execution_count": 6,
   "metadata": {},
   "outputs": [
    {
     "data": {
      "text/plain": [
       "Series([], dtype: float64)"
      ]
     },
     "execution_count": 6,
     "metadata": {},
     "output_type": "execute_result"
    }
   ],
   "source": [
    "# Посмотрим на корреляцию между признаками\n",
    "corr = data.corr()\n",
    "corr[(corr > 0.8) & (corr < 0.9999)].unstack().dropna().sort_values(ascending=False)"
   ]
  },
  {
   "cell_type": "markdown",
   "metadata": {},
   "source": [
    "Корреляции между количественными признаками не обнаружено"
   ]
  },
  {
   "cell_type": "code",
   "execution_count": 7,
   "metadata": {},
   "outputs": [
    {
     "data": {
      "text/plain": [
       "Repaired             71154\n",
       "VehicleType          37490\n",
       "FuelType             32895\n",
       "Gearbox              19833\n",
       "Model                19705\n",
       "DateCrawled              0\n",
       "Price                    0\n",
       "RegistrationYear         0\n",
       "Power                    0\n",
       "Kilometer                0\n",
       "RegistrationMonth        0\n",
       "Brand                    0\n",
       "DateCreated              0\n",
       "NumberOfPictures         0\n",
       "PostalCode               0\n",
       "LastSeen                 0\n",
       "dtype: int64"
      ]
     },
     "execution_count": 7,
     "metadata": {},
     "output_type": "execute_result"
    }
   ],
   "source": [
    "# Посмотрим на пропуски в датасетах\n",
    "data.isna().sum().sort_values(ascending=False)"
   ]
  },
  {
   "cell_type": "code",
   "execution_count": 8,
   "metadata": {},
   "outputs": [
    {
     "data": {
      "text/plain": [
       "10115    819\n",
       "65428    613\n",
       "66333    343\n",
       "32257    317\n",
       "44145    317\n",
       "        ... \n",
       "21782      1\n",
       "9517       1\n",
       "29367      1\n",
       "38325      1\n",
       "82404      1\n",
       "Name: PostalCode, Length: 8143, dtype: int64"
      ]
     },
     "execution_count": 8,
     "metadata": {},
     "output_type": "execute_result"
    }
   ],
   "source": [
    "data['PostalCode'].value_counts()"
   ]
  },
  {
   "cell_type": "code",
   "execution_count": 10,
   "metadata": {},
   "outputs": [
    {
     "name": "stdout",
     "output_type": "stream",
     "text": [
      "[1000, 1001, 1039, 1111, 1200, 1234, 1253, 1255, 1300, 1400, 1500, 1600, 1602, 1688, 1800, 1910, 1915, 1919, 1920, 1923, 1925, 1927, 1928, 1929, 1930, 1931, 1932, 1933, 1934, 1935, 1936, 1937, 1938, 1940, 1941, 1942, 1943, 1944, 1945, 1946, 1947, 1948, 1949, 1950, 1951, 1952, 1953, 1954, 1955, 1956, 1957, 1958, 1959, 1960, 1961, 1962, 1963, 1964, 1965, 1966, 1967, 1968, 1969, 1970, 1971, 1972, 1973, 1974, 1975, 1976, 1977, 1978, 1979, 1980, 1981, 1982, 1983, 1984, 1985, 1986, 1987, 1988, 1989, 1990, 1991, 1992, 1993, 1994, 1995, 1996, 1997, 1998, 1999, 2000, 2001, 2002, 2003, 2004, 2005, 2006, 2007, 2008, 2009, 2010, 2011, 2012, 2013, 2014, 2015, 2016, 2017, 2018, 2019, 2066, 2200, 2222, 2290, 2500, 2800, 2900, 3000, 3200, 3500, 3700, 3800, 4000, 4100, 4500, 4800, 5000, 5300, 5555, 5600, 5900, 5911, 6000, 6500, 7000, 7100, 7500, 7800, 8000, 8200, 8455, 8500, 8888, 9000, 9229, 9450, 9996, 9999]\n"
     ]
    }
   ],
   "source": [
    "print(sorted(data['RegistrationYear'].unique()))"
   ]
  },
  {
   "cell_type": "code",
   "execution_count": 11,
   "metadata": {},
   "outputs": [
    {
     "data": {
      "text/plain": [
       "array([ 0,  5,  8,  6,  7, 10, 12, 11,  2,  3,  1,  4,  9])"
      ]
     },
     "execution_count": 11,
     "metadata": {},
     "output_type": "execute_result"
    }
   ],
   "source": [
    "data['RegistrationMonth'].unique()"
   ]
  },
  {
   "cell_type": "markdown",
   "metadata": {},
   "source": [
    "Данные по пропускам для столбца Repaired можно заменить на no, так как скорее всего если эт информация пропущена, значит авто не было в ремонте."
   ]
  },
  {
   "cell_type": "code",
   "execution_count": 14,
   "metadata": {},
   "outputs": [],
   "source": [
    "data['Repaired'] = data['Repaired'].fillna('no')"
   ]
  },
  {
   "cell_type": "code",
   "execution_count": 15,
   "metadata": {},
   "outputs": [
    {
     "data": {
      "text/plain": [
       "0"
      ]
     },
     "execution_count": 15,
     "metadata": {},
     "output_type": "execute_result"
    }
   ],
   "source": [
    "data['Repaired'].isna().sum()"
   ]
  },
  {
   "cell_type": "code",
   "execution_count": 25,
   "metadata": {},
   "outputs": [],
   "source": [
    "import warnings\n",
    "warnings.filterwarnings(\"ignore\")"
   ]
  },
  {
   "cell_type": "code",
   "execution_count": 26,
   "metadata": {},
   "outputs": [],
   "source": [
    "data['LastSeen'] = pd.to_datetime(data['LastSeen'])"
   ]
  },
  {
   "cell_type": "code",
   "execution_count": 27,
   "metadata": {},
   "outputs": [],
   "source": [
    "MIN_ADEQUATE_POWER = 10.0\n",
    "MAX_ADEQUATE_POWER = 1000.0\n",
    "\n",
    "MIN_ADEQUATE_YEAR = 1950\n",
    "\n",
    "LOW_ADEQUATE_PRICE = 10\n",
    "\n",
    "def clean_dataset(dataset):\n",
    "    \"\"\"Процедура очистки набора данных от выявленных на этапе анализа данных недостатков.\"\"\"\n",
    "\n",
    "    print('1 Удаление полных дубликатов...')\n",
    "    dataset = dataset.drop(dataset[dataset.duplicated()].index)\n",
    "\n",
    "    print(f'2 Удаление объявлений с неадекватным ценовым предложением (меньше {LOW_ADEQUATE_PRICE})')\n",
    "    dataset = dataset.drop(dataset[dataset.Price < LOW_ADEQUATE_PRICE].index)\n",
    "     \n",
    "    max_adequate_year = dataset['LastSeen'].dt.year.max()\n",
    "    print(f'3 Удаление автомобилей с регистрацией до {MIN_ADEQUATE_YEAR} и после {max_adequate_year} года...')\n",
    "    dataset = dataset[dataset['RegistrationYear'].between(\n",
    "        MIN_ADEQUATE_YEAR,\n",
    "        max_adequate_year\n",
    "    )].copy()\n",
    "\n",
    "    print('4 Очистка месяца регистрации автомобиля...')\n",
    "    dataset['RegistrationMonth'] = dataset['RegistrationMonth'].clip(lower=1, upper=12)\n",
    "\n",
    "    print('5 Удаление ненужных полей')\n",
    "    dataset = dataset.drop(columns=[\n",
    "        'DateCrawled', 'DateCreated', 'PostalCode', 'LastSeen', 'NumberOfPictures'\n",
    "    ], axis=1)\n",
    "    \n",
    "    \n",
    "    print('6 Деление на трейн и тест выборки')\n",
    "    train, test = train_test_split(\n",
    "        dataset, test_size=0.2, random_state=STATE\n",
    "    )\n",
    "    \n",
    "    print('7 Удаление автомобилей c неадекватной мощностью из обучающей выборки...')\n",
    "    train = train.drop(train[~train['Power'].between(\n",
    "        MIN_ADEQUATE_POWER, MAX_ADEQUATE_POWER\n",
    "    )].index)\n",
    "    \n",
    "    print('8 Пометка автомобилей с неадекватной мощностью в тестовой выборке...')\n",
    "    test['Power'] = test['Power'].where(test['Power'] >= MIN_ADEQUATE_POWER)\n",
    "    test['Power'] = test['Power'].where(test['Power'] <= MAX_ADEQUATE_POWER)\n",
    "\n",
    "    return train, test"
   ]
  },
  {
   "cell_type": "code",
   "execution_count": 28,
   "metadata": {},
   "outputs": [
    {
     "name": "stdout",
     "output_type": "stream",
     "text": [
      "1 Удаление полных дубликатов...\n",
      "2 Удаление объявлений с неадекватным ценовым предложением (меньше 10)\n",
      "3 Удаление автомобилей с регистрацией до 1950 и после 2016 года...\n",
      "4 Очистка месяца регистрации автомобиля...\n",
      "5 Удаление ненужных полей\n",
      "6 Деление на трейн и тест выборки\n",
      "7 Удаление автомобилей c неадекватной мощностью из обучающей выборки...\n",
      "8 Пометка автомобилей с неадекватной мощностью в тестовой выборке...\n"
     ]
    }
   ],
   "source": [
    "train, test = clean_dataset(data)"
   ]
  },
  {
   "cell_type": "code",
   "execution_count": 29,
   "metadata": {},
   "outputs": [
    {
     "data": {
      "text/plain": [
       "Price                    0\n",
       "VehicleType           8764\n",
       "RegistrationYear         0\n",
       "Gearbox               4218\n",
       "Power                    0\n",
       "Model                 8730\n",
       "Kilometer                0\n",
       "RegistrationMonth        0\n",
       "FuelType             12317\n",
       "Brand                    0\n",
       "Repaired                 0\n",
       "dtype: int64"
      ]
     },
     "execution_count": 29,
     "metadata": {},
     "output_type": "execute_result"
    }
   ],
   "source": [
    "train.isna().sum()"
   ]
  },
  {
   "cell_type": "code",
   "execution_count": 30,
   "metadata": {},
   "outputs": [
    {
     "data": {
      "text/plain": [
       "Price                   0\n",
       "VehicleType          3905\n",
       "RegistrationYear        0\n",
       "Gearbox              3099\n",
       "Power                6521\n",
       "Model                3145\n",
       "Kilometer               0\n",
       "RegistrationMonth       0\n",
       "FuelType             4774\n",
       "Brand                   0\n",
       "Repaired                0\n",
       "dtype: int64"
      ]
     },
     "execution_count": 30,
     "metadata": {},
     "output_type": "execute_result"
    }
   ],
   "source": [
    "test.isna().sum()"
   ]
  },
  {
   "cell_type": "code",
   "execution_count": 31,
   "metadata": {},
   "outputs": [],
   "source": [
    "def fill_na_values(dataset, train):\n",
    "    \"\"\"Процедура заполнения пропусков в тестировании.\"\"\"\n",
    "    \n",
    "    def get_fill_value(data, key):\n",
    "        key = tuple(key) if key.shape[0] > 1 else key[0]\n",
    "        return data.loc[key] if data.index.isin([key]).any() else np.nan\n",
    "\n",
    "    def apply_agg_func(x):\n",
    "        try:\n",
    "            return agg_func(x)\n",
    "        except:\n",
    "            return np.nan\n",
    "    \n",
    "    group_list = ['Brand', 'RegistrationYear']\n",
    "    group_list_sup = ['Brand']\n",
    "    \n",
    "    def fill_na(fill_column, empty_idx, group_list):\n",
    "        dataset.loc[empty_idx, fill_column] = dataset.loc[empty_idx][group_list].apply(\n",
    "            lambda x: get_fill_value(train_fill_values, x), axis=1, raw=False\n",
    "        )\n",
    "        return dataset\n",
    "    \n",
    "    # заполняем столбцы 'Model', 'VehicleType', 'FuelType', 'Gearbox' модальным значением\n",
    "    for fill_column in ['Power', 'Model', 'VehicleType', 'FuelType', 'Gearbox']:\n",
    "        agg_func = lambda x: x.value_counts().idxmax()\n",
    "        if fill_column == 'Power':\n",
    "            train_fill_values = train.groupby(group_list)[fill_column].agg('median')\n",
    "        else:\n",
    "            train_fill_values = train.groupby(group_list)[fill_column].agg(apply_agg_func)\n",
    "        empty_idx = dataset[dataset[fill_column].isna()].index\n",
    "        dataset.loc[empty_idx, fill_column] = fill_na(fill_column, empty_idx, group_list)\n",
    "        \n",
    "        # если остались NaN\n",
    "        if dataset.loc[empty_idx, fill_column].isna().sum() > 0:\n",
    "            if fill_column in ['Model', 'VehicleType']:\n",
    "                dataset[fill_column] = dataset[fill_column].fillna('unknown')\n",
    "            dataset[fill_column] = dataset[fill_column].fillna(train[fill_column].agg(agg_func))\n",
    "\n",
    "    return dataset"
   ]
  },
  {
   "cell_type": "code",
   "execution_count": 32,
   "metadata": {},
   "outputs": [],
   "source": [
    "train = fill_na_values(train, train)"
   ]
  },
  {
   "cell_type": "code",
   "execution_count": 33,
   "metadata": {},
   "outputs": [],
   "source": [
    "test = fill_na_values(test, train)"
   ]
  },
  {
   "cell_type": "code",
   "execution_count": 34,
   "metadata": {},
   "outputs": [
    {
     "data": {
      "text/plain": [
       "Price                0\n",
       "VehicleType          0\n",
       "RegistrationYear     0\n",
       "Gearbox              0\n",
       "Power                0\n",
       "Model                0\n",
       "Kilometer            0\n",
       "RegistrationMonth    0\n",
       "FuelType             0\n",
       "Brand                0\n",
       "Repaired             0\n",
       "dtype: int64"
      ]
     },
     "execution_count": 34,
     "metadata": {},
     "output_type": "execute_result"
    }
   ],
   "source": [
    "train.isna().sum()"
   ]
  },
  {
   "cell_type": "code",
   "execution_count": 35,
   "metadata": {},
   "outputs": [
    {
     "data": {
      "text/plain": [
       "Price                0\n",
       "VehicleType          0\n",
       "RegistrationYear     0\n",
       "Gearbox              0\n",
       "Power                0\n",
       "Model                0\n",
       "Kilometer            0\n",
       "RegistrationMonth    0\n",
       "FuelType             0\n",
       "Brand                0\n",
       "Repaired             0\n",
       "dtype: int64"
      ]
     },
     "execution_count": 35,
     "metadata": {},
     "output_type": "execute_result"
    }
   ],
   "source": [
    "test.isna().sum()"
   ]
  },
  {
   "cell_type": "code",
   "execution_count": 34,
   "metadata": {},
   "outputs": [],
   "source": [
    "features_train = train.drop(['Price'], axis=1)\n",
    "target_train = train['Price']\n",
    "features_test = test.drop(['Price'], axis=1)\n",
    "target_test = test['Price']"
   ]
  },
  {
   "cell_type": "code",
   "execution_count": 35,
   "metadata": {},
   "outputs": [
    {
     "data": {
      "text/plain": [
       "(236535, 10)"
      ]
     },
     "execution_count": 35,
     "metadata": {},
     "output_type": "execute_result"
    }
   ],
   "source": [
    "features_train.shape"
   ]
  },
  {
   "cell_type": "code",
   "execution_count": 36,
   "metadata": {},
   "outputs": [
    {
     "data": {
      "text/plain": [
       "(236535,)"
      ]
     },
     "execution_count": 36,
     "metadata": {},
     "output_type": "execute_result"
    }
   ],
   "source": [
    "target_train.shape"
   ]
  },
  {
   "cell_type": "code",
   "execution_count": 37,
   "metadata": {
    "scrolled": true
   },
   "outputs": [],
   "source": [
    "# Применим технику OHE для тренировочной выборки. Напишем для этого функцию\n",
    "features_list = ['Repaired', 'VehicleType', 'FuelType', 'Gearbox', 'Model', 'Brand']\n",
    "ohe_train = OneHotEncoder(sparse=False, handle_unknown='ignore')\n",
    "ohe_train.fit(features_train.loc[:,features_list])\n",
    "\n",
    "def ohe(features, target):\n",
    "    ohe_features = ohe_train.transform(features.loc[:,features_list])\n",
    "    ohe_feature_array = pd.DataFrame(ohe_features)\n",
    "    features = features.drop(features_list, axis=1).reset_index(drop=True)\n",
    "    new_features = pd.concat([features, ohe_feature_array], axis=1)\n",
    "    features_train_new, target_train_new = shuffle(new_features, target, random_state=STATE)\n",
    "    return (features_train_new, target_train_new)\n",
    "\n",
    "features_train_new, target_train_new = ohe(features_train, target_train)"
   ]
  },
  {
   "cell_type": "code",
   "execution_count": 38,
   "metadata": {},
   "outputs": [],
   "source": [
    "# Применим технику OHE для тестовой выборки\n",
    "\n",
    "features_test_new, target_test_new = ohe(features_test, target_test)"
   ]
  },
  {
   "cell_type": "code",
   "execution_count": 40,
   "metadata": {},
   "outputs": [
    {
     "data": {
      "text/html": [
       "<div>\n",
       "<style scoped>\n",
       "    .dataframe tbody tr th:only-of-type {\n",
       "        vertical-align: middle;\n",
       "    }\n",
       "\n",
       "    .dataframe tbody tr th {\n",
       "        vertical-align: top;\n",
       "    }\n",
       "\n",
       "    .dataframe thead th {\n",
       "        text-align: right;\n",
       "    }\n",
       "</style>\n",
       "<table border=\"1\" class=\"dataframe\">\n",
       "  <thead>\n",
       "    <tr style=\"text-align: right;\">\n",
       "      <th></th>\n",
       "      <th>RegistrationYear</th>\n",
       "      <th>Power</th>\n",
       "      <th>Kilometer</th>\n",
       "      <th>RegistrationMonth</th>\n",
       "      <th>0</th>\n",
       "      <th>1</th>\n",
       "      <th>2</th>\n",
       "      <th>3</th>\n",
       "      <th>4</th>\n",
       "      <th>5</th>\n",
       "      <th>...</th>\n",
       "      <th>300</th>\n",
       "      <th>301</th>\n",
       "      <th>302</th>\n",
       "      <th>303</th>\n",
       "      <th>304</th>\n",
       "      <th>305</th>\n",
       "      <th>306</th>\n",
       "      <th>307</th>\n",
       "      <th>308</th>\n",
       "      <th>309</th>\n",
       "    </tr>\n",
       "  </thead>\n",
       "  <tbody>\n",
       "    <tr>\n",
       "      <th>236231</th>\n",
       "      <td>2004</td>\n",
       "      <td>163.0</td>\n",
       "      <td>70000</td>\n",
       "      <td>5</td>\n",
       "      <td>1.0</td>\n",
       "      <td>0.0</td>\n",
       "      <td>0.0</td>\n",
       "      <td>1.0</td>\n",
       "      <td>0.0</td>\n",
       "      <td>0.0</td>\n",
       "      <td>...</td>\n",
       "      <td>0.0</td>\n",
       "      <td>0.0</td>\n",
       "      <td>0.0</td>\n",
       "      <td>0.0</td>\n",
       "      <td>0.0</td>\n",
       "      <td>0.0</td>\n",
       "      <td>0.0</td>\n",
       "      <td>0.0</td>\n",
       "      <td>0.0</td>\n",
       "      <td>0.0</td>\n",
       "    </tr>\n",
       "    <tr>\n",
       "      <th>93281</th>\n",
       "      <td>2006</td>\n",
       "      <td>77.0</td>\n",
       "      <td>100000</td>\n",
       "      <td>2</td>\n",
       "      <td>1.0</td>\n",
       "      <td>0.0</td>\n",
       "      <td>0.0</td>\n",
       "      <td>0.0</td>\n",
       "      <td>0.0</td>\n",
       "      <td>0.0</td>\n",
       "      <td>...</td>\n",
       "      <td>0.0</td>\n",
       "      <td>0.0</td>\n",
       "      <td>0.0</td>\n",
       "      <td>0.0</td>\n",
       "      <td>0.0</td>\n",
       "      <td>0.0</td>\n",
       "      <td>0.0</td>\n",
       "      <td>0.0</td>\n",
       "      <td>0.0</td>\n",
       "      <td>0.0</td>\n",
       "    </tr>\n",
       "    <tr>\n",
       "      <th>194939</th>\n",
       "      <td>2001</td>\n",
       "      <td>125.0</td>\n",
       "      <td>150000</td>\n",
       "      <td>3</td>\n",
       "      <td>1.0</td>\n",
       "      <td>0.0</td>\n",
       "      <td>0.0</td>\n",
       "      <td>0.0</td>\n",
       "      <td>0.0</td>\n",
       "      <td>0.0</td>\n",
       "      <td>...</td>\n",
       "      <td>0.0</td>\n",
       "      <td>0.0</td>\n",
       "      <td>0.0</td>\n",
       "      <td>0.0</td>\n",
       "      <td>0.0</td>\n",
       "      <td>0.0</td>\n",
       "      <td>0.0</td>\n",
       "      <td>0.0</td>\n",
       "      <td>0.0</td>\n",
       "      <td>0.0</td>\n",
       "    </tr>\n",
       "    <tr>\n",
       "      <th>151310</th>\n",
       "      <td>2013</td>\n",
       "      <td>135.0</td>\n",
       "      <td>60000</td>\n",
       "      <td>1</td>\n",
       "      <td>1.0</td>\n",
       "      <td>0.0</td>\n",
       "      <td>0.0</td>\n",
       "      <td>0.0</td>\n",
       "      <td>0.0</td>\n",
       "      <td>0.0</td>\n",
       "      <td>...</td>\n",
       "      <td>0.0</td>\n",
       "      <td>0.0</td>\n",
       "      <td>0.0</td>\n",
       "      <td>0.0</td>\n",
       "      <td>0.0</td>\n",
       "      <td>0.0</td>\n",
       "      <td>0.0</td>\n",
       "      <td>0.0</td>\n",
       "      <td>0.0</td>\n",
       "      <td>0.0</td>\n",
       "    </tr>\n",
       "    <tr>\n",
       "      <th>235957</th>\n",
       "      <td>2004</td>\n",
       "      <td>97.0</td>\n",
       "      <td>125000</td>\n",
       "      <td>12</td>\n",
       "      <td>1.0</td>\n",
       "      <td>0.0</td>\n",
       "      <td>0.0</td>\n",
       "      <td>0.0</td>\n",
       "      <td>0.0</td>\n",
       "      <td>0.0</td>\n",
       "      <td>...</td>\n",
       "      <td>0.0</td>\n",
       "      <td>0.0</td>\n",
       "      <td>0.0</td>\n",
       "      <td>0.0</td>\n",
       "      <td>0.0</td>\n",
       "      <td>0.0</td>\n",
       "      <td>1.0</td>\n",
       "      <td>0.0</td>\n",
       "      <td>0.0</td>\n",
       "      <td>0.0</td>\n",
       "    </tr>\n",
       "  </tbody>\n",
       "</table>\n",
       "<p>5 rows × 314 columns</p>\n",
       "</div>"
      ],
      "text/plain": [
       "        RegistrationYear  Power  Kilometer  RegistrationMonth    0    1    2  \\\n",
       "236231              2004  163.0      70000                  5  1.0  0.0  0.0   \n",
       "93281               2006   77.0     100000                  2  1.0  0.0  0.0   \n",
       "194939              2001  125.0     150000                  3  1.0  0.0  0.0   \n",
       "151310              2013  135.0      60000                  1  1.0  0.0  0.0   \n",
       "235957              2004   97.0     125000                 12  1.0  0.0  0.0   \n",
       "\n",
       "          3    4    5  ...  300  301  302  303  304  305  306  307  308  309  \n",
       "236231  1.0  0.0  0.0  ...  0.0  0.0  0.0  0.0  0.0  0.0  0.0  0.0  0.0  0.0  \n",
       "93281   0.0  0.0  0.0  ...  0.0  0.0  0.0  0.0  0.0  0.0  0.0  0.0  0.0  0.0  \n",
       "194939  0.0  0.0  0.0  ...  0.0  0.0  0.0  0.0  0.0  0.0  0.0  0.0  0.0  0.0  \n",
       "151310  0.0  0.0  0.0  ...  0.0  0.0  0.0  0.0  0.0  0.0  0.0  0.0  0.0  0.0  \n",
       "235957  0.0  0.0  0.0  ...  0.0  0.0  0.0  0.0  0.0  0.0  1.0  0.0  0.0  0.0  \n",
       "\n",
       "[5 rows x 314 columns]"
      ]
     },
     "execution_count": 40,
     "metadata": {},
     "output_type": "execute_result"
    }
   ],
   "source": [
    "#features_train_new.shape\n",
    "features_train_new.head()"
   ]
  },
  {
   "cell_type": "code",
   "execution_count": 41,
   "metadata": {},
   "outputs": [
    {
     "data": {
      "text/html": [
       "<div>\n",
       "<style scoped>\n",
       "    .dataframe tbody tr th:only-of-type {\n",
       "        vertical-align: middle;\n",
       "    }\n",
       "\n",
       "    .dataframe tbody tr th {\n",
       "        vertical-align: top;\n",
       "    }\n",
       "\n",
       "    .dataframe thead th {\n",
       "        text-align: right;\n",
       "    }\n",
       "</style>\n",
       "<table border=\"1\" class=\"dataframe\">\n",
       "  <thead>\n",
       "    <tr style=\"text-align: right;\">\n",
       "      <th></th>\n",
       "      <th>RegistrationYear</th>\n",
       "      <th>Power</th>\n",
       "      <th>Kilometer</th>\n",
       "      <th>RegistrationMonth</th>\n",
       "      <th>0</th>\n",
       "      <th>1</th>\n",
       "      <th>2</th>\n",
       "      <th>3</th>\n",
       "      <th>4</th>\n",
       "      <th>5</th>\n",
       "      <th>...</th>\n",
       "      <th>300</th>\n",
       "      <th>301</th>\n",
       "      <th>302</th>\n",
       "      <th>303</th>\n",
       "      <th>304</th>\n",
       "      <th>305</th>\n",
       "      <th>306</th>\n",
       "      <th>307</th>\n",
       "      <th>308</th>\n",
       "      <th>309</th>\n",
       "    </tr>\n",
       "  </thead>\n",
       "  <tbody>\n",
       "    <tr>\n",
       "      <th>20564</th>\n",
       "      <td>2006</td>\n",
       "      <td>75.0</td>\n",
       "      <td>150000</td>\n",
       "      <td>5</td>\n",
       "      <td>1.0</td>\n",
       "      <td>0.0</td>\n",
       "      <td>0.0</td>\n",
       "      <td>0.0</td>\n",
       "      <td>0.0</td>\n",
       "      <td>0.0</td>\n",
       "      <td>...</td>\n",
       "      <td>1.0</td>\n",
       "      <td>0.0</td>\n",
       "      <td>0.0</td>\n",
       "      <td>0.0</td>\n",
       "      <td>0.0</td>\n",
       "      <td>0.0</td>\n",
       "      <td>0.0</td>\n",
       "      <td>0.0</td>\n",
       "      <td>0.0</td>\n",
       "      <td>0.0</td>\n",
       "    </tr>\n",
       "    <tr>\n",
       "      <th>3071</th>\n",
       "      <td>1996</td>\n",
       "      <td>88.0</td>\n",
       "      <td>125000</td>\n",
       "      <td>2</td>\n",
       "      <td>1.0</td>\n",
       "      <td>0.0</td>\n",
       "      <td>0.0</td>\n",
       "      <td>0.0</td>\n",
       "      <td>0.0</td>\n",
       "      <td>0.0</td>\n",
       "      <td>...</td>\n",
       "      <td>0.0</td>\n",
       "      <td>0.0</td>\n",
       "      <td>0.0</td>\n",
       "      <td>0.0</td>\n",
       "      <td>0.0</td>\n",
       "      <td>0.0</td>\n",
       "      <td>0.0</td>\n",
       "      <td>0.0</td>\n",
       "      <td>0.0</td>\n",
       "      <td>0.0</td>\n",
       "    </tr>\n",
       "    <tr>\n",
       "      <th>16315</th>\n",
       "      <td>1999</td>\n",
       "      <td>54.0</td>\n",
       "      <td>150000</td>\n",
       "      <td>1</td>\n",
       "      <td>1.0</td>\n",
       "      <td>0.0</td>\n",
       "      <td>0.0</td>\n",
       "      <td>0.0</td>\n",
       "      <td>0.0</td>\n",
       "      <td>0.0</td>\n",
       "      <td>...</td>\n",
       "      <td>0.0</td>\n",
       "      <td>0.0</td>\n",
       "      <td>0.0</td>\n",
       "      <td>0.0</td>\n",
       "      <td>0.0</td>\n",
       "      <td>0.0</td>\n",
       "      <td>0.0</td>\n",
       "      <td>0.0</td>\n",
       "      <td>0.0</td>\n",
       "      <td>0.0</td>\n",
       "    </tr>\n",
       "    <tr>\n",
       "      <th>6114</th>\n",
       "      <td>2008</td>\n",
       "      <td>170.0</td>\n",
       "      <td>150000</td>\n",
       "      <td>6</td>\n",
       "      <td>1.0</td>\n",
       "      <td>0.0</td>\n",
       "      <td>1.0</td>\n",
       "      <td>0.0</td>\n",
       "      <td>0.0</td>\n",
       "      <td>0.0</td>\n",
       "      <td>...</td>\n",
       "      <td>0.0</td>\n",
       "      <td>0.0</td>\n",
       "      <td>0.0</td>\n",
       "      <td>0.0</td>\n",
       "      <td>0.0</td>\n",
       "      <td>0.0</td>\n",
       "      <td>0.0</td>\n",
       "      <td>0.0</td>\n",
       "      <td>1.0</td>\n",
       "      <td>0.0</td>\n",
       "    </tr>\n",
       "    <tr>\n",
       "      <th>43306</th>\n",
       "      <td>1999</td>\n",
       "      <td>286.0</td>\n",
       "      <td>150000</td>\n",
       "      <td>5</td>\n",
       "      <td>1.0</td>\n",
       "      <td>0.0</td>\n",
       "      <td>0.0</td>\n",
       "      <td>0.0</td>\n",
       "      <td>0.0</td>\n",
       "      <td>0.0</td>\n",
       "      <td>...</td>\n",
       "      <td>0.0</td>\n",
       "      <td>0.0</td>\n",
       "      <td>0.0</td>\n",
       "      <td>0.0</td>\n",
       "      <td>0.0</td>\n",
       "      <td>0.0</td>\n",
       "      <td>0.0</td>\n",
       "      <td>0.0</td>\n",
       "      <td>0.0</td>\n",
       "      <td>0.0</td>\n",
       "    </tr>\n",
       "  </tbody>\n",
       "</table>\n",
       "<p>5 rows × 314 columns</p>\n",
       "</div>"
      ],
      "text/plain": [
       "       RegistrationYear  Power  Kilometer  RegistrationMonth    0    1    2  \\\n",
       "20564              2006   75.0     150000                  5  1.0  0.0  0.0   \n",
       "3071               1996   88.0     125000                  2  1.0  0.0  0.0   \n",
       "16315              1999   54.0     150000                  1  1.0  0.0  0.0   \n",
       "6114               2008  170.0     150000                  6  1.0  0.0  1.0   \n",
       "43306              1999  286.0     150000                  5  1.0  0.0  0.0   \n",
       "\n",
       "         3    4    5  ...  300  301  302  303  304  305  306  307  308  309  \n",
       "20564  0.0  0.0  0.0  ...  1.0  0.0  0.0  0.0  0.0  0.0  0.0  0.0  0.0  0.0  \n",
       "3071   0.0  0.0  0.0  ...  0.0  0.0  0.0  0.0  0.0  0.0  0.0  0.0  0.0  0.0  \n",
       "16315  0.0  0.0  0.0  ...  0.0  0.0  0.0  0.0  0.0  0.0  0.0  0.0  0.0  0.0  \n",
       "6114   0.0  0.0  0.0  ...  0.0  0.0  0.0  0.0  0.0  0.0  0.0  0.0  1.0  0.0  \n",
       "43306  0.0  0.0  0.0  ...  0.0  0.0  0.0  0.0  0.0  0.0  0.0  0.0  0.0  0.0  \n",
       "\n",
       "[5 rows x 314 columns]"
      ]
     },
     "execution_count": 41,
     "metadata": {},
     "output_type": "execute_result"
    }
   ],
   "source": [
    "#features_test_new.shape\n",
    "features_test_new.head()"
   ]
  },
  {
   "cell_type": "markdown",
   "metadata": {},
   "source": [
    "Изучили и подготовили данные для дальнейшей работы с ними. Подготовили выборки для обучения моделей. "
   ]
  },
  {
   "cell_type": "markdown",
   "metadata": {},
   "source": [
    "## Обучение моделей"
   ]
  },
  {
   "cell_type": "code",
   "execution_count": 42,
   "metadata": {
    "scrolled": true
   },
   "outputs": [
    {
     "name": "stdout",
     "output_type": "stream",
     "text": [
      "Fitting 3 folds for each of 40 candidates, totalling 120 fits\n",
      "[CV 1/3; 1/40] START max_depth=5, n_estimators=10...............................\n",
      "[CV 1/3; 1/40] END .............max_depth=5, n_estimators=10; total time=   9.4s\n",
      "[CV 2/3; 1/40] START max_depth=5, n_estimators=10...............................\n",
      "[CV 2/3; 1/40] END .............max_depth=5, n_estimators=10; total time=   9.4s\n",
      "[CV 3/3; 1/40] START max_depth=5, n_estimators=10...............................\n",
      "[CV 3/3; 1/40] END .............max_depth=5, n_estimators=10; total time=   9.3s\n",
      "[CV 1/3; 2/40] START max_depth=5, n_estimators=20...............................\n",
      "[CV 1/3; 2/40] END .............max_depth=5, n_estimators=20; total time=  18.3s\n",
      "[CV 2/3; 2/40] START max_depth=5, n_estimators=20...............................\n",
      "[CV 2/3; 2/40] END .............max_depth=5, n_estimators=20; total time=  18.3s\n",
      "[CV 3/3; 2/40] START max_depth=5, n_estimators=20...............................\n",
      "[CV 3/3; 2/40] END .............max_depth=5, n_estimators=20; total time=  18.5s\n",
      "[CV 1/3; 3/40] START max_depth=5, n_estimators=30...............................\n",
      "[CV 1/3; 3/40] END .............max_depth=5, n_estimators=30; total time=  27.4s\n",
      "[CV 2/3; 3/40] START max_depth=5, n_estimators=30...............................\n",
      "[CV 2/3; 3/40] END .............max_depth=5, n_estimators=30; total time=  26.9s\n",
      "[CV 3/3; 3/40] START max_depth=5, n_estimators=30...............................\n",
      "[CV 3/3; 3/40] END .............max_depth=5, n_estimators=30; total time=  28.2s\n",
      "[CV 1/3; 4/40] START max_depth=5, n_estimators=40...............................\n",
      "[CV 1/3; 4/40] END .............max_depth=5, n_estimators=40; total time=  37.1s\n",
      "[CV 2/3; 4/40] START max_depth=5, n_estimators=40...............................\n",
      "[CV 2/3; 4/40] END .............max_depth=5, n_estimators=40; total time=  35.5s\n",
      "[CV 3/3; 4/40] START max_depth=5, n_estimators=40...............................\n",
      "[CV 3/3; 4/40] END .............max_depth=5, n_estimators=40; total time=  36.2s\n",
      "[CV 1/3; 5/40] START max_depth=6, n_estimators=10...............................\n",
      "[CV 1/3; 5/40] END .............max_depth=6, n_estimators=10; total time=  11.0s\n",
      "[CV 2/3; 5/40] START max_depth=6, n_estimators=10...............................\n",
      "[CV 2/3; 5/40] END .............max_depth=6, n_estimators=10; total time=  11.2s\n",
      "[CV 3/3; 5/40] START max_depth=6, n_estimators=10...............................\n",
      "[CV 3/3; 5/40] END .............max_depth=6, n_estimators=10; total time=  11.4s\n",
      "[CV 1/3; 6/40] START max_depth=6, n_estimators=20...............................\n",
      "[CV 1/3; 6/40] END .............max_depth=6, n_estimators=20; total time=  21.4s\n",
      "[CV 2/3; 6/40] START max_depth=6, n_estimators=20...............................\n",
      "[CV 2/3; 6/40] END .............max_depth=6, n_estimators=20; total time=  21.5s\n",
      "[CV 3/3; 6/40] START max_depth=6, n_estimators=20...............................\n",
      "[CV 3/3; 6/40] END .............max_depth=6, n_estimators=20; total time=  22.0s\n",
      "[CV 1/3; 7/40] START max_depth=6, n_estimators=30...............................\n",
      "[CV 1/3; 7/40] END .............max_depth=6, n_estimators=30; total time=  32.0s\n",
      "[CV 2/3; 7/40] START max_depth=6, n_estimators=30...............................\n",
      "[CV 2/3; 7/40] END .............max_depth=6, n_estimators=30; total time=  31.9s\n",
      "[CV 3/3; 7/40] START max_depth=6, n_estimators=30...............................\n",
      "[CV 3/3; 7/40] END .............max_depth=6, n_estimators=30; total time=  32.1s\n",
      "[CV 1/3; 8/40] START max_depth=6, n_estimators=40...............................\n",
      "[CV 1/3; 8/40] END .............max_depth=6, n_estimators=40; total time=  43.1s\n",
      "[CV 2/3; 8/40] START max_depth=6, n_estimators=40...............................\n",
      "[CV 2/3; 8/40] END .............max_depth=6, n_estimators=40; total time=  42.3s\n",
      "[CV 3/3; 8/40] START max_depth=6, n_estimators=40...............................\n",
      "[CV 3/3; 8/40] END .............max_depth=6, n_estimators=40; total time=  42.4s\n",
      "[CV 1/3; 9/40] START max_depth=7, n_estimators=10...............................\n",
      "[CV 1/3; 9/40] END .............max_depth=7, n_estimators=10; total time=  12.8s\n",
      "[CV 2/3; 9/40] START max_depth=7, n_estimators=10...............................\n",
      "[CV 2/3; 9/40] END .............max_depth=7, n_estimators=10; total time=  12.7s\n",
      "[CV 3/3; 9/40] START max_depth=7, n_estimators=10...............................\n",
      "[CV 3/3; 9/40] END .............max_depth=7, n_estimators=10; total time=  12.6s\n",
      "[CV 1/3; 10/40] START max_depth=7, n_estimators=20..............................\n",
      "[CV 1/3; 10/40] END ............max_depth=7, n_estimators=20; total time=  24.9s\n",
      "[CV 2/3; 10/40] START max_depth=7, n_estimators=20..............................\n",
      "[CV 2/3; 10/40] END ............max_depth=7, n_estimators=20; total time=  24.8s\n",
      "[CV 3/3; 10/40] START max_depth=7, n_estimators=20..............................\n",
      "[CV 3/3; 10/40] END ............max_depth=7, n_estimators=20; total time=  24.6s\n",
      "[CV 1/3; 11/40] START max_depth=7, n_estimators=30..............................\n",
      "[CV 1/3; 11/40] END ............max_depth=7, n_estimators=30; total time=  37.4s\n",
      "[CV 2/3; 11/40] START max_depth=7, n_estimators=30..............................\n",
      "[CV 2/3; 11/40] END ............max_depth=7, n_estimators=30; total time=  35.9s\n",
      "[CV 3/3; 11/40] START max_depth=7, n_estimators=30..............................\n",
      "[CV 3/3; 11/40] END ............max_depth=7, n_estimators=30; total time=  36.8s\n",
      "[CV 1/3; 12/40] START max_depth=7, n_estimators=40..............................\n",
      "[CV 1/3; 12/40] END ............max_depth=7, n_estimators=40; total time=  48.5s\n",
      "[CV 2/3; 12/40] START max_depth=7, n_estimators=40..............................\n",
      "[CV 2/3; 12/40] END ............max_depth=7, n_estimators=40; total time=  49.8s\n",
      "[CV 3/3; 12/40] START max_depth=7, n_estimators=40..............................\n",
      "[CV 3/3; 12/40] END ............max_depth=7, n_estimators=40; total time=  49.7s\n",
      "[CV 1/3; 13/40] START max_depth=8, n_estimators=10..............................\n",
      "[CV 1/3; 13/40] END ............max_depth=8, n_estimators=10; total time=  14.2s\n",
      "[CV 2/3; 13/40] START max_depth=8, n_estimators=10..............................\n",
      "[CV 2/3; 13/40] END ............max_depth=8, n_estimators=10; total time=  14.1s\n",
      "[CV 3/3; 13/40] START max_depth=8, n_estimators=10..............................\n",
      "[CV 3/3; 13/40] END ............max_depth=8, n_estimators=10; total time=  14.2s\n",
      "[CV 1/3; 14/40] START max_depth=8, n_estimators=20..............................\n",
      "[CV 1/3; 14/40] END ............max_depth=8, n_estimators=20; total time=  27.5s\n",
      "[CV 2/3; 14/40] START max_depth=8, n_estimators=20..............................\n",
      "[CV 2/3; 14/40] END ............max_depth=8, n_estimators=20; total time=  26.7s\n",
      "[CV 3/3; 14/40] START max_depth=8, n_estimators=20..............................\n",
      "[CV 3/3; 14/40] END ............max_depth=8, n_estimators=20; total time=  27.0s\n",
      "[CV 1/3; 15/40] START max_depth=8, n_estimators=30..............................\n",
      "[CV 1/3; 15/40] END ............max_depth=8, n_estimators=30; total time=  37.8s\n",
      "[CV 2/3; 15/40] START max_depth=8, n_estimators=30..............................\n",
      "[CV 2/3; 15/40] END ............max_depth=8, n_estimators=30; total time=  37.0s\n",
      "[CV 3/3; 15/40] START max_depth=8, n_estimators=30..............................\n",
      "[CV 3/3; 15/40] END ............max_depth=8, n_estimators=30; total time=  37.7s\n",
      "[CV 1/3; 16/40] START max_depth=8, n_estimators=40..............................\n",
      "[CV 1/3; 16/40] END ............max_depth=8, n_estimators=40; total time=  50.7s\n",
      "[CV 2/3; 16/40] START max_depth=8, n_estimators=40..............................\n",
      "[CV 2/3; 16/40] END ............max_depth=8, n_estimators=40; total time=  50.3s\n",
      "[CV 3/3; 16/40] START max_depth=8, n_estimators=40..............................\n",
      "[CV 3/3; 16/40] END ............max_depth=8, n_estimators=40; total time=  51.3s\n",
      "[CV 1/3; 17/40] START max_depth=9, n_estimators=10..............................\n",
      "[CV 1/3; 17/40] END ............max_depth=9, n_estimators=10; total time=  14.7s\n",
      "[CV 2/3; 17/40] START max_depth=9, n_estimators=10..............................\n",
      "[CV 2/3; 17/40] END ............max_depth=9, n_estimators=10; total time=  14.1s\n",
      "[CV 3/3; 17/40] START max_depth=9, n_estimators=10..............................\n",
      "[CV 3/3; 17/40] END ............max_depth=9, n_estimators=10; total time=  14.3s\n",
      "[CV 1/3; 18/40] START max_depth=9, n_estimators=20..............................\n",
      "[CV 1/3; 18/40] END ............max_depth=9, n_estimators=20; total time=  27.9s\n",
      "[CV 2/3; 18/40] START max_depth=9, n_estimators=20..............................\n",
      "[CV 2/3; 18/40] END ............max_depth=9, n_estimators=20; total time=  27.1s\n",
      "[CV 3/3; 18/40] START max_depth=9, n_estimators=20..............................\n",
      "[CV 3/3; 18/40] END ............max_depth=9, n_estimators=20; total time=  27.6s\n",
      "[CV 1/3; 19/40] START max_depth=9, n_estimators=30..............................\n",
      "[CV 1/3; 19/40] END ............max_depth=9, n_estimators=30; total time=  41.1s\n",
      "[CV 2/3; 19/40] START max_depth=9, n_estimators=30..............................\n",
      "[CV 2/3; 19/40] END ............max_depth=9, n_estimators=30; total time=  41.4s\n",
      "[CV 3/3; 19/40] START max_depth=9, n_estimators=30..............................\n",
      "[CV 3/3; 19/40] END ............max_depth=9, n_estimators=30; total time=  41.5s\n",
      "[CV 1/3; 20/40] START max_depth=9, n_estimators=40..............................\n",
      "[CV 1/3; 20/40] END ............max_depth=9, n_estimators=40; total time=  58.5s\n",
      "[CV 2/3; 20/40] START max_depth=9, n_estimators=40..............................\n",
      "[CV 2/3; 20/40] END ............max_depth=9, n_estimators=40; total time=  58.2s\n",
      "[CV 3/3; 20/40] START max_depth=9, n_estimators=40..............................\n",
      "[CV 3/3; 20/40] END ............max_depth=9, n_estimators=40; total time=  55.4s\n",
      "[CV 1/3; 21/40] START max_depth=10, n_estimators=10.............................\n",
      "[CV 1/3; 21/40] END ...........max_depth=10, n_estimators=10; total time=  14.9s\n",
      "[CV 2/3; 21/40] START max_depth=10, n_estimators=10.............................\n",
      "[CV 2/3; 21/40] END ...........max_depth=10, n_estimators=10; total time=  15.0s\n",
      "[CV 3/3; 21/40] START max_depth=10, n_estimators=10.............................\n",
      "[CV 3/3; 21/40] END ...........max_depth=10, n_estimators=10; total time=  15.1s\n",
      "[CV 1/3; 22/40] START max_depth=10, n_estimators=20.............................\n",
      "[CV 1/3; 22/40] END ...........max_depth=10, n_estimators=20; total time=  29.5s\n",
      "[CV 2/3; 22/40] START max_depth=10, n_estimators=20.............................\n",
      "[CV 2/3; 22/40] END ...........max_depth=10, n_estimators=20; total time=  29.4s\n",
      "[CV 3/3; 22/40] START max_depth=10, n_estimators=20.............................\n",
      "[CV 3/3; 22/40] END ...........max_depth=10, n_estimators=20; total time=  30.4s\n",
      "[CV 1/3; 23/40] START max_depth=10, n_estimators=30.............................\n",
      "[CV 1/3; 23/40] END ...........max_depth=10, n_estimators=30; total time=  45.3s\n",
      "[CV 2/3; 23/40] START max_depth=10, n_estimators=30.............................\n",
      "[CV 2/3; 23/40] END ...........max_depth=10, n_estimators=30; total time=  45.2s\n",
      "[CV 3/3; 23/40] START max_depth=10, n_estimators=30.............................\n",
      "[CV 3/3; 23/40] END ...........max_depth=10, n_estimators=30; total time=  47.0s\n",
      "[CV 1/3; 24/40] START max_depth=10, n_estimators=40.............................\n",
      "[CV 1/3; 24/40] END ...........max_depth=10, n_estimators=40; total time= 1.1min\n",
      "[CV 2/3; 24/40] START max_depth=10, n_estimators=40.............................\n",
      "[CV 2/3; 24/40] END ...........max_depth=10, n_estimators=40; total time= 1.1min\n",
      "[CV 3/3; 24/40] START max_depth=10, n_estimators=40.............................\n",
      "[CV 3/3; 24/40] END ...........max_depth=10, n_estimators=40; total time= 1.1min\n",
      "[CV 1/3; 25/40] START max_depth=11, n_estimators=10.............................\n",
      "[CV 1/3; 25/40] END ...........max_depth=11, n_estimators=10; total time=  17.3s\n",
      "[CV 2/3; 25/40] START max_depth=11, n_estimators=10.............................\n",
      "[CV 2/3; 25/40] END ...........max_depth=11, n_estimators=10; total time=  17.4s\n",
      "[CV 3/3; 25/40] START max_depth=11, n_estimators=10.............................\n",
      "[CV 3/3; 25/40] END ...........max_depth=11, n_estimators=10; total time=  17.7s\n",
      "[CV 1/3; 26/40] START max_depth=11, n_estimators=20.............................\n",
      "[CV 1/3; 26/40] END ...........max_depth=11, n_estimators=20; total time=  34.8s\n",
      "[CV 2/3; 26/40] START max_depth=11, n_estimators=20.............................\n",
      "[CV 2/3; 26/40] END ...........max_depth=11, n_estimators=20; total time=  33.8s\n",
      "[CV 3/3; 26/40] START max_depth=11, n_estimators=20.............................\n",
      "[CV 3/3; 26/40] END ...........max_depth=11, n_estimators=20; total time=  34.5s\n",
      "[CV 1/3; 27/40] START max_depth=11, n_estimators=30.............................\n",
      "[CV 1/3; 27/40] END ...........max_depth=11, n_estimators=30; total time=  52.9s\n",
      "[CV 2/3; 27/40] START max_depth=11, n_estimators=30.............................\n",
      "[CV 2/3; 27/40] END ...........max_depth=11, n_estimators=30; total time=  51.3s\n",
      "[CV 3/3; 27/40] START max_depth=11, n_estimators=30.............................\n",
      "[CV 3/3; 27/40] END ...........max_depth=11, n_estimators=30; total time=  51.3s\n",
      "[CV 1/3; 28/40] START max_depth=11, n_estimators=40.............................\n",
      "[CV 1/3; 28/40] END ...........max_depth=11, n_estimators=40; total time= 1.1min\n",
      "[CV 2/3; 28/40] START max_depth=11, n_estimators=40.............................\n",
      "[CV 2/3; 28/40] END ...........max_depth=11, n_estimators=40; total time= 1.1min\n",
      "[CV 3/3; 28/40] START max_depth=11, n_estimators=40.............................\n",
      "[CV 3/3; 28/40] END ...........max_depth=11, n_estimators=40; total time= 1.1min\n",
      "[CV 1/3; 29/40] START max_depth=12, n_estimators=10.............................\n",
      "[CV 1/3; 29/40] END ...........max_depth=12, n_estimators=10; total time=  18.5s\n",
      "[CV 2/3; 29/40] START max_depth=12, n_estimators=10.............................\n",
      "[CV 2/3; 29/40] END ...........max_depth=12, n_estimators=10; total time=  18.1s\n",
      "[CV 3/3; 29/40] START max_depth=12, n_estimators=10.............................\n",
      "[CV 3/3; 29/40] END ...........max_depth=12, n_estimators=10; total time=  18.5s\n",
      "[CV 1/3; 30/40] START max_depth=12, n_estimators=20.............................\n",
      "[CV 1/3; 30/40] END ...........max_depth=12, n_estimators=20; total time=  35.3s\n",
      "[CV 2/3; 30/40] START max_depth=12, n_estimators=20.............................\n",
      "[CV 2/3; 30/40] END ...........max_depth=12, n_estimators=20; total time=  34.5s\n",
      "[CV 3/3; 30/40] START max_depth=12, n_estimators=20.............................\n",
      "[CV 3/3; 30/40] END ...........max_depth=12, n_estimators=20; total time=  33.4s\n",
      "[CV 1/3; 31/40] START max_depth=12, n_estimators=30.............................\n",
      "[CV 1/3; 31/40] END ...........max_depth=12, n_estimators=30; total time=  50.2s\n",
      "[CV 2/3; 31/40] START max_depth=12, n_estimators=30.............................\n",
      "[CV 2/3; 31/40] END ...........max_depth=12, n_estimators=30; total time=  49.2s\n",
      "[CV 3/3; 31/40] START max_depth=12, n_estimators=30.............................\n",
      "[CV 3/3; 31/40] END ...........max_depth=12, n_estimators=30; total time=  49.8s\n",
      "[CV 1/3; 32/40] START max_depth=12, n_estimators=40.............................\n",
      "[CV 1/3; 32/40] END ...........max_depth=12, n_estimators=40; total time= 1.1min\n",
      "[CV 2/3; 32/40] START max_depth=12, n_estimators=40.............................\n",
      "[CV 2/3; 32/40] END ...........max_depth=12, n_estimators=40; total time= 1.1min\n",
      "[CV 3/3; 32/40] START max_depth=12, n_estimators=40.............................\n",
      "[CV 3/3; 32/40] END ...........max_depth=12, n_estimators=40; total time= 1.1min\n",
      "[CV 1/3; 33/40] START max_depth=13, n_estimators=10.............................\n",
      "[CV 1/3; 33/40] END ...........max_depth=13, n_estimators=10; total time=  18.6s\n",
      "[CV 2/3; 33/40] START max_depth=13, n_estimators=10.............................\n",
      "[CV 2/3; 33/40] END ...........max_depth=13, n_estimators=10; total time=  18.0s\n",
      "[CV 3/3; 33/40] START max_depth=13, n_estimators=10.............................\n",
      "[CV 3/3; 33/40] END ...........max_depth=13, n_estimators=10; total time=  18.3s\n",
      "[CV 1/3; 34/40] START max_depth=13, n_estimators=20.............................\n",
      "[CV 1/3; 34/40] END ...........max_depth=13, n_estimators=20; total time=  35.9s\n",
      "[CV 2/3; 34/40] START max_depth=13, n_estimators=20.............................\n",
      "[CV 2/3; 34/40] END ...........max_depth=13, n_estimators=20; total time=  35.1s\n",
      "[CV 3/3; 34/40] START max_depth=13, n_estimators=20.............................\n",
      "[CV 3/3; 34/40] END ...........max_depth=13, n_estimators=20; total time=  35.9s\n",
      "[CV 1/3; 35/40] START max_depth=13, n_estimators=30.............................\n",
      "[CV 1/3; 35/40] END ...........max_depth=13, n_estimators=30; total time=  55.2s\n",
      "[CV 2/3; 35/40] START max_depth=13, n_estimators=30.............................\n",
      "[CV 2/3; 35/40] END ...........max_depth=13, n_estimators=30; total time=  53.1s\n",
      "[CV 3/3; 35/40] START max_depth=13, n_estimators=30.............................\n",
      "[CV 3/3; 35/40] END ...........max_depth=13, n_estimators=30; total time=  58.9s\n",
      "[CV 1/3; 36/40] START max_depth=13, n_estimators=40.............................\n",
      "[CV 1/3; 36/40] END ...........max_depth=13, n_estimators=40; total time= 1.3min\n",
      "[CV 2/3; 36/40] START max_depth=13, n_estimators=40.............................\n",
      "[CV 2/3; 36/40] END ...........max_depth=13, n_estimators=40; total time= 1.2min\n",
      "[CV 3/3; 36/40] START max_depth=13, n_estimators=40.............................\n",
      "[CV 3/3; 36/40] END ...........max_depth=13, n_estimators=40; total time= 1.2min\n",
      "[CV 1/3; 37/40] START max_depth=14, n_estimators=10.............................\n",
      "[CV 1/3; 37/40] END ...........max_depth=14, n_estimators=10; total time=  18.8s\n",
      "[CV 2/3; 37/40] START max_depth=14, n_estimators=10.............................\n",
      "[CV 2/3; 37/40] END ...........max_depth=14, n_estimators=10; total time=  19.3s\n",
      "[CV 3/3; 37/40] START max_depth=14, n_estimators=10.............................\n",
      "[CV 3/3; 37/40] END ...........max_depth=14, n_estimators=10; total time=  19.2s\n",
      "[CV 1/3; 38/40] START max_depth=14, n_estimators=20.............................\n",
      "[CV 1/3; 38/40] END ...........max_depth=14, n_estimators=20; total time=  37.3s\n",
      "[CV 2/3; 38/40] START max_depth=14, n_estimators=20.............................\n",
      "[CV 2/3; 38/40] END ...........max_depth=14, n_estimators=20; total time=  38.4s\n",
      "[CV 3/3; 38/40] START max_depth=14, n_estimators=20.............................\n",
      "[CV 3/3; 38/40] END ...........max_depth=14, n_estimators=20; total time=  37.9s\n",
      "[CV 1/3; 39/40] START max_depth=14, n_estimators=30.............................\n",
      "[CV 1/3; 39/40] END ...........max_depth=14, n_estimators=30; total time=  55.2s\n",
      "[CV 2/3; 39/40] START max_depth=14, n_estimators=30.............................\n",
      "[CV 2/3; 39/40] END ...........max_depth=14, n_estimators=30; total time=  55.1s\n",
      "[CV 3/3; 39/40] START max_depth=14, n_estimators=30.............................\n",
      "[CV 3/3; 39/40] END ...........max_depth=14, n_estimators=30; total time=  59.1s\n",
      "[CV 1/3; 40/40] START max_depth=14, n_estimators=40.............................\n",
      "[CV 1/3; 40/40] END ...........max_depth=14, n_estimators=40; total time= 1.4min\n",
      "[CV 2/3; 40/40] START max_depth=14, n_estimators=40.............................\n",
      "[CV 2/3; 40/40] END ...........max_depth=14, n_estimators=40; total time= 1.3min\n",
      "[CV 3/3; 40/40] START max_depth=14, n_estimators=40.............................\n",
      "[CV 3/3; 40/40] END ...........max_depth=14, n_estimators=40; total time= 1.3min\n",
      "-1714.296573571303\n",
      "CPU times: user 1h 14min 41s, sys: 39 s, total: 1h 15min 20s\n",
      "Wall time: 1h 15min 27s\n"
     ]
    }
   ],
   "source": [
    "%%time\n",
    "# Модель случайного леса\n",
    "forest = RandomForestRegressor(random_state=STATE)\n",
    "param_grid={'n_estimators':range(10, 50, 10), 'max_depth': range(5, 15)}\n",
    "grid_forest = GridSearchCV(forest, param_grid, verbose=10, cv=3, n_jobs=-1,\n",
    "                          scoring='neg_root_mean_squared_error')\n",
    "grid_forest.fit(features_train_new, target_train_new)\n",
    "print(grid_forest.best_score_)"
   ]
  },
  {
   "cell_type": "code",
   "execution_count": 43,
   "metadata": {},
   "outputs": [
    {
     "name": "stdout",
     "output_type": "stream",
     "text": [
      "rmse= 1483.039999438121\n"
     ]
    }
   ],
   "source": [
    "predictions_valid = grid_forest.predict(features_train_new)\n",
    "mse = mean_squared_error(target_train_new, predictions_valid)\n",
    "\n",
    "print('rmse=',mse ** 0.5)"
   ]
  },
  {
   "cell_type": "code",
   "execution_count": 45,
   "metadata": {},
   "outputs": [
    {
     "name": "stdout",
     "output_type": "stream",
     "text": [
      "CPU times: user 132 µs, sys: 2 µs, total: 134 µs\n",
      "Wall time: 137 µs\n"
     ]
    }
   ],
   "source": [
    "%%time\n",
    "# Модель CatBoost\n",
    "\n",
    "catboost = CatBoostRegressor(loss_function='RMSE', silent=True, random_seed=0) #random_state=STATE)\n",
    "param_grid={'n_estimators':range(1, 50, 10), 'depth':range(1,16), 'learning_rate':[0.1, 0.5, 0.8]}\n",
    "grid_catboost = GridSearchCV(catboost, param_grid, verbose=10, cv=3)"
   ]
  },
  {
   "cell_type": "code",
   "execution_count": 46,
   "metadata": {
    "scrolled": true
   },
   "outputs": [
    {
     "name": "stdout",
     "output_type": "stream",
     "text": [
      "Fitting 3 folds for each of 225 candidates, totalling 675 fits\n",
      "[CV 1/3; 1/225] START depth=1, learning_rate=0.1, n_estimators=1................\n",
      "[CV 1/3; 1/225] END depth=1, learning_rate=0.1, n_estimators=1; total time=   1.9s\n",
      "[CV 2/3; 1/225] START depth=1, learning_rate=0.1, n_estimators=1................\n",
      "[CV 2/3; 1/225] END depth=1, learning_rate=0.1, n_estimators=1; total time=   1.7s\n",
      "[CV 3/3; 1/225] START depth=1, learning_rate=0.1, n_estimators=1................\n",
      "[CV 3/3; 1/225] END depth=1, learning_rate=0.1, n_estimators=1; total time=   1.7s\n",
      "[CV 1/3; 2/225] START depth=1, learning_rate=0.1, n_estimators=11...............\n",
      "[CV 1/3; 2/225] END depth=1, learning_rate=0.1, n_estimators=11; total time=   1.8s\n",
      "[CV 2/3; 2/225] START depth=1, learning_rate=0.1, n_estimators=11...............\n",
      "[CV 2/3; 2/225] END depth=1, learning_rate=0.1, n_estimators=11; total time=   1.8s\n",
      "[CV 3/3; 2/225] START depth=1, learning_rate=0.1, n_estimators=11...............\n",
      "[CV 3/3; 2/225] END depth=1, learning_rate=0.1, n_estimators=11; total time=   1.8s\n",
      "[CV 1/3; 3/225] START depth=1, learning_rate=0.1, n_estimators=21...............\n",
      "[CV 1/3; 3/225] END depth=1, learning_rate=0.1, n_estimators=21; total time=   2.0s\n",
      "[CV 2/3; 3/225] START depth=1, learning_rate=0.1, n_estimators=21...............\n",
      "[CV 2/3; 3/225] END depth=1, learning_rate=0.1, n_estimators=21; total time=   1.9s\n",
      "[CV 3/3; 3/225] START depth=1, learning_rate=0.1, n_estimators=21...............\n",
      "[CV 3/3; 3/225] END depth=1, learning_rate=0.1, n_estimators=21; total time=   2.0s\n",
      "[CV 1/3; 4/225] START depth=1, learning_rate=0.1, n_estimators=31...............\n",
      "[CV 1/3; 4/225] END depth=1, learning_rate=0.1, n_estimators=31; total time=   2.1s\n",
      "[CV 2/3; 4/225] START depth=1, learning_rate=0.1, n_estimators=31...............\n",
      "[CV 2/3; 4/225] END depth=1, learning_rate=0.1, n_estimators=31; total time=   2.1s\n",
      "[CV 3/3; 4/225] START depth=1, learning_rate=0.1, n_estimators=31...............\n",
      "[CV 3/3; 4/225] END depth=1, learning_rate=0.1, n_estimators=31; total time=   2.2s\n",
      "[CV 1/3; 5/225] START depth=1, learning_rate=0.1, n_estimators=41...............\n",
      "[CV 1/3; 5/225] END depth=1, learning_rate=0.1, n_estimators=41; total time=   2.2s\n",
      "[CV 2/3; 5/225] START depth=1, learning_rate=0.1, n_estimators=41...............\n",
      "[CV 2/3; 5/225] END depth=1, learning_rate=0.1, n_estimators=41; total time=   2.4s\n",
      "[CV 3/3; 5/225] START depth=1, learning_rate=0.1, n_estimators=41...............\n",
      "[CV 3/3; 5/225] END depth=1, learning_rate=0.1, n_estimators=41; total time=   2.3s\n",
      "[CV 1/3; 6/225] START depth=1, learning_rate=0.5, n_estimators=1................\n",
      "[CV 1/3; 6/225] END depth=1, learning_rate=0.5, n_estimators=1; total time=   1.7s\n",
      "[CV 2/3; 6/225] START depth=1, learning_rate=0.5, n_estimators=1................\n",
      "[CV 2/3; 6/225] END depth=1, learning_rate=0.5, n_estimators=1; total time=   1.7s\n",
      "[CV 3/3; 6/225] START depth=1, learning_rate=0.5, n_estimators=1................\n",
      "[CV 3/3; 6/225] END depth=1, learning_rate=0.5, n_estimators=1; total time=   1.6s\n",
      "[CV 1/3; 7/225] START depth=1, learning_rate=0.5, n_estimators=11...............\n",
      "[CV 1/3; 7/225] END depth=1, learning_rate=0.5, n_estimators=11; total time=   1.9s\n",
      "[CV 2/3; 7/225] START depth=1, learning_rate=0.5, n_estimators=11...............\n",
      "[CV 2/3; 7/225] END depth=1, learning_rate=0.5, n_estimators=11; total time=   1.9s\n",
      "[CV 3/3; 7/225] START depth=1, learning_rate=0.5, n_estimators=11...............\n",
      "[CV 3/3; 7/225] END depth=1, learning_rate=0.5, n_estimators=11; total time=   1.8s\n",
      "[CV 1/3; 8/225] START depth=1, learning_rate=0.5, n_estimators=21...............\n",
      "[CV 1/3; 8/225] END depth=1, learning_rate=0.5, n_estimators=21; total time=   2.0s\n",
      "[CV 2/3; 8/225] START depth=1, learning_rate=0.5, n_estimators=21...............\n",
      "[CV 2/3; 8/225] END depth=1, learning_rate=0.5, n_estimators=21; total time=   2.0s\n",
      "[CV 3/3; 8/225] START depth=1, learning_rate=0.5, n_estimators=21...............\n",
      "[CV 3/3; 8/225] END depth=1, learning_rate=0.5, n_estimators=21; total time=   2.0s\n",
      "[CV 1/3; 9/225] START depth=1, learning_rate=0.5, n_estimators=31...............\n",
      "[CV 1/3; 9/225] END depth=1, learning_rate=0.5, n_estimators=31; total time=   2.2s\n",
      "[CV 2/3; 9/225] START depth=1, learning_rate=0.5, n_estimators=31...............\n",
      "[CV 2/3; 9/225] END depth=1, learning_rate=0.5, n_estimators=31; total time=   2.2s\n",
      "[CV 3/3; 9/225] START depth=1, learning_rate=0.5, n_estimators=31...............\n",
      "[CV 3/3; 9/225] END depth=1, learning_rate=0.5, n_estimators=31; total time=   2.2s\n",
      "[CV 1/3; 10/225] START depth=1, learning_rate=0.5, n_estimators=41..............\n",
      "[CV 1/3; 10/225] END depth=1, learning_rate=0.5, n_estimators=41; total time=   2.3s\n",
      "[CV 2/3; 10/225] START depth=1, learning_rate=0.5, n_estimators=41..............\n",
      "[CV 2/3; 10/225] END depth=1, learning_rate=0.5, n_estimators=41; total time=   2.4s\n",
      "[CV 3/3; 10/225] START depth=1, learning_rate=0.5, n_estimators=41..............\n",
      "[CV 3/3; 10/225] END depth=1, learning_rate=0.5, n_estimators=41; total time=   2.2s\n",
      "[CV 1/3; 11/225] START depth=1, learning_rate=0.8, n_estimators=1...............\n",
      "[CV 1/3; 11/225] END depth=1, learning_rate=0.8, n_estimators=1; total time=   1.7s\n",
      "[CV 2/3; 11/225] START depth=1, learning_rate=0.8, n_estimators=1...............\n",
      "[CV 2/3; 11/225] END depth=1, learning_rate=0.8, n_estimators=1; total time=   1.7s\n",
      "[CV 3/3; 11/225] START depth=1, learning_rate=0.8, n_estimators=1...............\n",
      "[CV 3/3; 11/225] END depth=1, learning_rate=0.8, n_estimators=1; total time=   1.7s\n",
      "[CV 1/3; 12/225] START depth=1, learning_rate=0.8, n_estimators=11..............\n",
      "[CV 1/3; 12/225] END depth=1, learning_rate=0.8, n_estimators=11; total time=   1.9s\n",
      "[CV 2/3; 12/225] START depth=1, learning_rate=0.8, n_estimators=11..............\n",
      "[CV 2/3; 12/225] END depth=1, learning_rate=0.8, n_estimators=11; total time=   1.8s\n",
      "[CV 3/3; 12/225] START depth=1, learning_rate=0.8, n_estimators=11..............\n",
      "[CV 3/3; 12/225] END depth=1, learning_rate=0.8, n_estimators=11; total time=   1.8s\n",
      "[CV 1/3; 13/225] START depth=1, learning_rate=0.8, n_estimators=21..............\n",
      "[CV 1/3; 13/225] END depth=1, learning_rate=0.8, n_estimators=21; total time=   2.1s\n",
      "[CV 2/3; 13/225] START depth=1, learning_rate=0.8, n_estimators=21..............\n",
      "[CV 2/3; 13/225] END depth=1, learning_rate=0.8, n_estimators=21; total time=   2.3s\n",
      "[CV 3/3; 13/225] START depth=1, learning_rate=0.8, n_estimators=21..............\n",
      "[CV 3/3; 13/225] END depth=1, learning_rate=0.8, n_estimators=21; total time=   2.2s\n",
      "[CV 1/3; 14/225] START depth=1, learning_rate=0.8, n_estimators=31..............\n",
      "[CV 1/3; 14/225] END depth=1, learning_rate=0.8, n_estimators=31; total time=   2.3s\n",
      "[CV 2/3; 14/225] START depth=1, learning_rate=0.8, n_estimators=31..............\n",
      "[CV 2/3; 14/225] END depth=1, learning_rate=0.8, n_estimators=31; total time=   2.4s\n",
      "[CV 3/3; 14/225] START depth=1, learning_rate=0.8, n_estimators=31..............\n",
      "[CV 3/3; 14/225] END depth=1, learning_rate=0.8, n_estimators=31; total time=   2.4s\n",
      "[CV 1/3; 15/225] START depth=1, learning_rate=0.8, n_estimators=41..............\n",
      "[CV 1/3; 15/225] END depth=1, learning_rate=0.8, n_estimators=41; total time=   2.6s\n",
      "[CV 2/3; 15/225] START depth=1, learning_rate=0.8, n_estimators=41..............\n",
      "[CV 2/3; 15/225] END depth=1, learning_rate=0.8, n_estimators=41; total time=   2.3s\n",
      "[CV 3/3; 15/225] START depth=1, learning_rate=0.8, n_estimators=41..............\n",
      "[CV 3/3; 15/225] END depth=1, learning_rate=0.8, n_estimators=41; total time=   2.3s\n",
      "[CV 1/3; 16/225] START depth=2, learning_rate=0.1, n_estimators=1...............\n",
      "[CV 1/3; 16/225] END depth=2, learning_rate=0.1, n_estimators=1; total time=   1.7s\n",
      "[CV 2/3; 16/225] START depth=2, learning_rate=0.1, n_estimators=1...............\n",
      "[CV 2/3; 16/225] END depth=2, learning_rate=0.1, n_estimators=1; total time=   1.7s\n",
      "[CV 3/3; 16/225] START depth=2, learning_rate=0.1, n_estimators=1...............\n",
      "[CV 3/3; 16/225] END depth=2, learning_rate=0.1, n_estimators=1; total time=   1.7s\n",
      "[CV 1/3; 17/225] START depth=2, learning_rate=0.1, n_estimators=11..............\n",
      "[CV 1/3; 17/225] END depth=2, learning_rate=0.1, n_estimators=11; total time=   1.9s\n",
      "[CV 2/3; 17/225] START depth=2, learning_rate=0.1, n_estimators=11..............\n",
      "[CV 2/3; 17/225] END depth=2, learning_rate=0.1, n_estimators=11; total time=   1.8s\n",
      "[CV 3/3; 17/225] START depth=2, learning_rate=0.1, n_estimators=11..............\n",
      "[CV 3/3; 17/225] END depth=2, learning_rate=0.1, n_estimators=11; total time=   1.9s\n",
      "[CV 1/3; 18/225] START depth=2, learning_rate=0.1, n_estimators=21..............\n",
      "[CV 1/3; 18/225] END depth=2, learning_rate=0.1, n_estimators=21; total time=   2.0s\n",
      "[CV 2/3; 18/225] START depth=2, learning_rate=0.1, n_estimators=21..............\n",
      "[CV 2/3; 18/225] END depth=2, learning_rate=0.1, n_estimators=21; total time=   2.0s\n",
      "[CV 3/3; 18/225] START depth=2, learning_rate=0.1, n_estimators=21..............\n",
      "[CV 3/3; 18/225] END depth=2, learning_rate=0.1, n_estimators=21; total time=   2.0s\n",
      "[CV 1/3; 19/225] START depth=2, learning_rate=0.1, n_estimators=31..............\n",
      "[CV 1/3; 19/225] END depth=2, learning_rate=0.1, n_estimators=31; total time=   2.1s\n",
      "[CV 2/3; 19/225] START depth=2, learning_rate=0.1, n_estimators=31..............\n",
      "[CV 2/3; 19/225] END depth=2, learning_rate=0.1, n_estimators=31; total time=   2.2s\n",
      "[CV 3/3; 19/225] START depth=2, learning_rate=0.1, n_estimators=31..............\n",
      "[CV 3/3; 19/225] END depth=2, learning_rate=0.1, n_estimators=31; total time=   2.2s\n",
      "[CV 1/3; 20/225] START depth=2, learning_rate=0.1, n_estimators=41..............\n",
      "[CV 1/3; 20/225] END depth=2, learning_rate=0.1, n_estimators=41; total time=   2.3s\n",
      "[CV 2/3; 20/225] START depth=2, learning_rate=0.1, n_estimators=41..............\n",
      "[CV 2/3; 20/225] END depth=2, learning_rate=0.1, n_estimators=41; total time=   2.4s\n",
      "[CV 3/3; 20/225] START depth=2, learning_rate=0.1, n_estimators=41..............\n",
      "[CV 3/3; 20/225] END depth=2, learning_rate=0.1, n_estimators=41; total time=   2.4s\n",
      "[CV 1/3; 21/225] START depth=2, learning_rate=0.5, n_estimators=1...............\n",
      "[CV 1/3; 21/225] END depth=2, learning_rate=0.5, n_estimators=1; total time=   1.6s\n",
      "[CV 2/3; 21/225] START depth=2, learning_rate=0.5, n_estimators=1...............\n",
      "[CV 2/3; 21/225] END depth=2, learning_rate=0.5, n_estimators=1; total time=   1.7s\n",
      "[CV 3/3; 21/225] START depth=2, learning_rate=0.5, n_estimators=1...............\n",
      "[CV 3/3; 21/225] END depth=2, learning_rate=0.5, n_estimators=1; total time=   1.7s\n",
      "[CV 1/3; 22/225] START depth=2, learning_rate=0.5, n_estimators=11..............\n",
      "[CV 1/3; 22/225] END depth=2, learning_rate=0.5, n_estimators=11; total time=   1.9s\n",
      "[CV 2/3; 22/225] START depth=2, learning_rate=0.5, n_estimators=11..............\n",
      "[CV 2/3; 22/225] END depth=2, learning_rate=0.5, n_estimators=11; total time=   1.9s\n",
      "[CV 3/3; 22/225] START depth=2, learning_rate=0.5, n_estimators=11..............\n",
      "[CV 3/3; 22/225] END depth=2, learning_rate=0.5, n_estimators=11; total time=   1.9s\n",
      "[CV 1/3; 23/225] START depth=2, learning_rate=0.5, n_estimators=21..............\n",
      "[CV 1/3; 23/225] END depth=2, learning_rate=0.5, n_estimators=21; total time=   2.0s\n",
      "[CV 2/3; 23/225] START depth=2, learning_rate=0.5, n_estimators=21..............\n",
      "[CV 2/3; 23/225] END depth=2, learning_rate=0.5, n_estimators=21; total time=   2.0s\n",
      "[CV 3/3; 23/225] START depth=2, learning_rate=0.5, n_estimators=21..............\n",
      "[CV 3/3; 23/225] END depth=2, learning_rate=0.5, n_estimators=21; total time=   2.0s\n",
      "[CV 1/3; 24/225] START depth=2, learning_rate=0.5, n_estimators=31..............\n",
      "[CV 1/3; 24/225] END depth=2, learning_rate=0.5, n_estimators=31; total time=   2.3s\n",
      "[CV 2/3; 24/225] START depth=2, learning_rate=0.5, n_estimators=31..............\n",
      "[CV 2/3; 24/225] END depth=2, learning_rate=0.5, n_estimators=31; total time=   2.3s\n",
      "[CV 3/3; 24/225] START depth=2, learning_rate=0.5, n_estimators=31..............\n",
      "[CV 3/3; 24/225] END depth=2, learning_rate=0.5, n_estimators=31; total time=   2.3s\n",
      "[CV 1/3; 25/225] START depth=2, learning_rate=0.5, n_estimators=41..............\n",
      "[CV 1/3; 25/225] END depth=2, learning_rate=0.5, n_estimators=41; total time=   2.4s\n",
      "[CV 2/3; 25/225] START depth=2, learning_rate=0.5, n_estimators=41..............\n",
      "[CV 2/3; 25/225] END depth=2, learning_rate=0.5, n_estimators=41; total time=   2.4s\n",
      "[CV 3/3; 25/225] START depth=2, learning_rate=0.5, n_estimators=41..............\n",
      "[CV 3/3; 25/225] END depth=2, learning_rate=0.5, n_estimators=41; total time=   2.4s\n",
      "[CV 1/3; 26/225] START depth=2, learning_rate=0.8, n_estimators=1...............\n",
      "[CV 1/3; 26/225] END depth=2, learning_rate=0.8, n_estimators=1; total time=   1.7s\n",
      "[CV 2/3; 26/225] START depth=2, learning_rate=0.8, n_estimators=1...............\n",
      "[CV 2/3; 26/225] END depth=2, learning_rate=0.8, n_estimators=1; total time=   1.7s\n",
      "[CV 3/3; 26/225] START depth=2, learning_rate=0.8, n_estimators=1...............\n",
      "[CV 3/3; 26/225] END depth=2, learning_rate=0.8, n_estimators=1; total time=   1.7s\n",
      "[CV 1/3; 27/225] START depth=2, learning_rate=0.8, n_estimators=11..............\n",
      "[CV 1/3; 27/225] END depth=2, learning_rate=0.8, n_estimators=11; total time=   1.8s\n",
      "[CV 2/3; 27/225] START depth=2, learning_rate=0.8, n_estimators=11..............\n",
      "[CV 2/3; 27/225] END depth=2, learning_rate=0.8, n_estimators=11; total time=   2.0s\n",
      "[CV 3/3; 27/225] START depth=2, learning_rate=0.8, n_estimators=11..............\n",
      "[CV 3/3; 27/225] END depth=2, learning_rate=0.8, n_estimators=11; total time=   1.8s\n",
      "[CV 1/3; 28/225] START depth=2, learning_rate=0.8, n_estimators=21..............\n",
      "[CV 1/3; 28/225] END depth=2, learning_rate=0.8, n_estimators=21; total time=   2.0s\n",
      "[CV 2/3; 28/225] START depth=2, learning_rate=0.8, n_estimators=21..............\n",
      "[CV 2/3; 28/225] END depth=2, learning_rate=0.8, n_estimators=21; total time=   2.1s\n",
      "[CV 3/3; 28/225] START depth=2, learning_rate=0.8, n_estimators=21..............\n",
      "[CV 3/3; 28/225] END depth=2, learning_rate=0.8, n_estimators=21; total time=   2.0s\n",
      "[CV 1/3; 29/225] START depth=2, learning_rate=0.8, n_estimators=31..............\n",
      "[CV 1/3; 29/225] END depth=2, learning_rate=0.8, n_estimators=31; total time=   2.4s\n",
      "[CV 2/3; 29/225] START depth=2, learning_rate=0.8, n_estimators=31..............\n",
      "[CV 2/3; 29/225] END depth=2, learning_rate=0.8, n_estimators=31; total time=   2.1s\n",
      "[CV 3/3; 29/225] START depth=2, learning_rate=0.8, n_estimators=31..............\n",
      "[CV 3/3; 29/225] END depth=2, learning_rate=0.8, n_estimators=31; total time=   2.3s\n",
      "[CV 1/3; 30/225] START depth=2, learning_rate=0.8, n_estimators=41..............\n",
      "[CV 1/3; 30/225] END depth=2, learning_rate=0.8, n_estimators=41; total time=   2.4s\n",
      "[CV 2/3; 30/225] START depth=2, learning_rate=0.8, n_estimators=41..............\n",
      "[CV 2/3; 30/225] END depth=2, learning_rate=0.8, n_estimators=41; total time=   2.4s\n",
      "[CV 3/3; 30/225] START depth=2, learning_rate=0.8, n_estimators=41..............\n",
      "[CV 3/3; 30/225] END depth=2, learning_rate=0.8, n_estimators=41; total time=   2.6s\n",
      "[CV 1/3; 31/225] START depth=3, learning_rate=0.1, n_estimators=1...............\n",
      "[CV 1/3; 31/225] END depth=3, learning_rate=0.1, n_estimators=1; total time=   1.7s\n",
      "[CV 2/3; 31/225] START depth=3, learning_rate=0.1, n_estimators=1...............\n",
      "[CV 2/3; 31/225] END depth=3, learning_rate=0.1, n_estimators=1; total time=   1.7s\n",
      "[CV 3/3; 31/225] START depth=3, learning_rate=0.1, n_estimators=1...............\n",
      "[CV 3/3; 31/225] END depth=3, learning_rate=0.1, n_estimators=1; total time=   1.7s\n",
      "[CV 1/3; 32/225] START depth=3, learning_rate=0.1, n_estimators=11..............\n",
      "[CV 1/3; 32/225] END depth=3, learning_rate=0.1, n_estimators=11; total time=   1.9s\n",
      "[CV 2/3; 32/225] START depth=3, learning_rate=0.1, n_estimators=11..............\n",
      "[CV 2/3; 32/225] END depth=3, learning_rate=0.1, n_estimators=11; total time=   2.2s\n",
      "[CV 3/3; 32/225] START depth=3, learning_rate=0.1, n_estimators=11..............\n",
      "[CV 3/3; 32/225] END depth=3, learning_rate=0.1, n_estimators=11; total time=   1.9s\n",
      "[CV 1/3; 33/225] START depth=3, learning_rate=0.1, n_estimators=21..............\n",
      "[CV 1/3; 33/225] END depth=3, learning_rate=0.1, n_estimators=21; total time=   2.0s\n",
      "[CV 2/3; 33/225] START depth=3, learning_rate=0.1, n_estimators=21..............\n",
      "[CV 2/3; 33/225] END depth=3, learning_rate=0.1, n_estimators=21; total time=   2.1s\n",
      "[CV 3/3; 33/225] START depth=3, learning_rate=0.1, n_estimators=21..............\n",
      "[CV 3/3; 33/225] END depth=3, learning_rate=0.1, n_estimators=21; total time=   2.2s\n",
      "[CV 1/3; 34/225] START depth=3, learning_rate=0.1, n_estimators=31..............\n",
      "[CV 1/3; 34/225] END depth=3, learning_rate=0.1, n_estimators=31; total time=   2.3s\n",
      "[CV 2/3; 34/225] START depth=3, learning_rate=0.1, n_estimators=31..............\n",
      "[CV 2/3; 34/225] END depth=3, learning_rate=0.1, n_estimators=31; total time=   2.3s\n",
      "[CV 3/3; 34/225] START depth=3, learning_rate=0.1, n_estimators=31..............\n",
      "[CV 3/3; 34/225] END depth=3, learning_rate=0.1, n_estimators=31; total time=   2.3s\n",
      "[CV 1/3; 35/225] START depth=3, learning_rate=0.1, n_estimators=41..............\n",
      "[CV 1/3; 35/225] END depth=3, learning_rate=0.1, n_estimators=41; total time=   2.5s\n",
      "[CV 2/3; 35/225] START depth=3, learning_rate=0.1, n_estimators=41..............\n",
      "[CV 2/3; 35/225] END depth=3, learning_rate=0.1, n_estimators=41; total time=   2.5s\n",
      "[CV 3/3; 35/225] START depth=3, learning_rate=0.1, n_estimators=41..............\n",
      "[CV 3/3; 35/225] END depth=3, learning_rate=0.1, n_estimators=41; total time=   2.5s\n",
      "[CV 1/3; 36/225] START depth=3, learning_rate=0.5, n_estimators=1...............\n",
      "[CV 1/3; 36/225] END depth=3, learning_rate=0.5, n_estimators=1; total time=   1.7s\n",
      "[CV 2/3; 36/225] START depth=3, learning_rate=0.5, n_estimators=1...............\n",
      "[CV 2/3; 36/225] END depth=3, learning_rate=0.5, n_estimators=1; total time=   1.7s\n",
      "[CV 3/3; 36/225] START depth=3, learning_rate=0.5, n_estimators=1...............\n",
      "[CV 3/3; 36/225] END depth=3, learning_rate=0.5, n_estimators=1; total time=   1.6s\n",
      "[CV 1/3; 37/225] START depth=3, learning_rate=0.5, n_estimators=11..............\n",
      "[CV 1/3; 37/225] END depth=3, learning_rate=0.5, n_estimators=11; total time=   2.1s\n",
      "[CV 2/3; 37/225] START depth=3, learning_rate=0.5, n_estimators=11..............\n",
      "[CV 2/3; 37/225] END depth=3, learning_rate=0.5, n_estimators=11; total time=   1.8s\n",
      "[CV 3/3; 37/225] START depth=3, learning_rate=0.5, n_estimators=11..............\n",
      "[CV 3/3; 37/225] END depth=3, learning_rate=0.5, n_estimators=11; total time=   1.9s\n",
      "[CV 1/3; 38/225] START depth=3, learning_rate=0.5, n_estimators=21..............\n",
      "[CV 1/3; 38/225] END depth=3, learning_rate=0.5, n_estimators=21; total time=   2.0s\n",
      "[CV 2/3; 38/225] START depth=3, learning_rate=0.5, n_estimators=21..............\n",
      "[CV 2/3; 38/225] END depth=3, learning_rate=0.5, n_estimators=21; total time=   2.0s\n",
      "[CV 3/3; 38/225] START depth=3, learning_rate=0.5, n_estimators=21..............\n",
      "[CV 3/3; 38/225] END depth=3, learning_rate=0.5, n_estimators=21; total time=   2.3s\n",
      "[CV 1/3; 39/225] START depth=3, learning_rate=0.5, n_estimators=31..............\n",
      "[CV 1/3; 39/225] END depth=3, learning_rate=0.5, n_estimators=31; total time=   2.2s\n",
      "[CV 2/3; 39/225] START depth=3, learning_rate=0.5, n_estimators=31..............\n",
      "[CV 2/3; 39/225] END depth=3, learning_rate=0.5, n_estimators=31; total time=   2.2s\n",
      "[CV 3/3; 39/225] START depth=3, learning_rate=0.5, n_estimators=31..............\n",
      "[CV 3/3; 39/225] END depth=3, learning_rate=0.5, n_estimators=31; total time=   2.2s\n",
      "[CV 1/3; 40/225] START depth=3, learning_rate=0.5, n_estimators=41..............\n",
      "[CV 1/3; 40/225] END depth=3, learning_rate=0.5, n_estimators=41; total time=   2.5s\n",
      "[CV 2/3; 40/225] START depth=3, learning_rate=0.5, n_estimators=41..............\n",
      "[CV 2/3; 40/225] END depth=3, learning_rate=0.5, n_estimators=41; total time=   2.5s\n",
      "[CV 3/3; 40/225] START depth=3, learning_rate=0.5, n_estimators=41..............\n",
      "[CV 3/3; 40/225] END depth=3, learning_rate=0.5, n_estimators=41; total time=   2.3s\n",
      "[CV 1/3; 41/225] START depth=3, learning_rate=0.8, n_estimators=1...............\n",
      "[CV 1/3; 41/225] END depth=3, learning_rate=0.8, n_estimators=1; total time=   1.8s\n",
      "[CV 2/3; 41/225] START depth=3, learning_rate=0.8, n_estimators=1...............\n",
      "[CV 2/3; 41/225] END depth=3, learning_rate=0.8, n_estimators=1; total time=   1.7s\n",
      "[CV 3/3; 41/225] START depth=3, learning_rate=0.8, n_estimators=1...............\n",
      "[CV 3/3; 41/225] END depth=3, learning_rate=0.8, n_estimators=1; total time=   1.8s\n",
      "[CV 1/3; 42/225] START depth=3, learning_rate=0.8, n_estimators=11..............\n",
      "[CV 1/3; 42/225] END depth=3, learning_rate=0.8, n_estimators=11; total time=   1.8s\n",
      "[CV 2/3; 42/225] START depth=3, learning_rate=0.8, n_estimators=11..............\n",
      "[CV 2/3; 42/225] END depth=3, learning_rate=0.8, n_estimators=11; total time=   1.8s\n",
      "[CV 3/3; 42/225] START depth=3, learning_rate=0.8, n_estimators=11..............\n",
      "[CV 3/3; 42/225] END depth=3, learning_rate=0.8, n_estimators=11; total time=   1.9s\n",
      "[CV 1/3; 43/225] START depth=3, learning_rate=0.8, n_estimators=21..............\n",
      "[CV 1/3; 43/225] END depth=3, learning_rate=0.8, n_estimators=21; total time=   2.0s\n",
      "[CV 2/3; 43/225] START depth=3, learning_rate=0.8, n_estimators=21..............\n",
      "[CV 2/3; 43/225] END depth=3, learning_rate=0.8, n_estimators=21; total time=   2.1s\n",
      "[CV 3/3; 43/225] START depth=3, learning_rate=0.8, n_estimators=21..............\n",
      "[CV 3/3; 43/225] END depth=3, learning_rate=0.8, n_estimators=21; total time=   2.0s\n",
      "[CV 1/3; 44/225] START depth=3, learning_rate=0.8, n_estimators=31..............\n",
      "[CV 1/3; 44/225] END depth=3, learning_rate=0.8, n_estimators=31; total time=   2.3s\n",
      "[CV 2/3; 44/225] START depth=3, learning_rate=0.8, n_estimators=31..............\n",
      "[CV 2/3; 44/225] END depth=3, learning_rate=0.8, n_estimators=31; total time=   2.2s\n",
      "[CV 3/3; 44/225] START depth=3, learning_rate=0.8, n_estimators=31..............\n",
      "[CV 3/3; 44/225] END depth=3, learning_rate=0.8, n_estimators=31; total time=   2.2s\n",
      "[CV 1/3; 45/225] START depth=3, learning_rate=0.8, n_estimators=41..............\n",
      "[CV 1/3; 45/225] END depth=3, learning_rate=0.8, n_estimators=41; total time=   2.5s\n",
      "[CV 2/3; 45/225] START depth=3, learning_rate=0.8, n_estimators=41..............\n",
      "[CV 2/3; 45/225] END depth=3, learning_rate=0.8, n_estimators=41; total time=   2.4s\n",
      "[CV 3/3; 45/225] START depth=3, learning_rate=0.8, n_estimators=41..............\n",
      "[CV 3/3; 45/225] END depth=3, learning_rate=0.8, n_estimators=41; total time=   2.4s\n",
      "[CV 1/3; 46/225] START depth=4, learning_rate=0.1, n_estimators=1...............\n",
      "[CV 1/3; 46/225] END depth=4, learning_rate=0.1, n_estimators=1; total time=   1.7s\n",
      "[CV 2/3; 46/225] START depth=4, learning_rate=0.1, n_estimators=1...............\n",
      "[CV 2/3; 46/225] END depth=4, learning_rate=0.1, n_estimators=1; total time=   1.7s\n",
      "[CV 3/3; 46/225] START depth=4, learning_rate=0.1, n_estimators=1...............\n",
      "[CV 3/3; 46/225] END depth=4, learning_rate=0.1, n_estimators=1; total time=   1.7s\n",
      "[CV 1/3; 47/225] START depth=4, learning_rate=0.1, n_estimators=11..............\n",
      "[CV 1/3; 47/225] END depth=4, learning_rate=0.1, n_estimators=11; total time=   1.9s\n",
      "[CV 2/3; 47/225] START depth=4, learning_rate=0.1, n_estimators=11..............\n",
      "[CV 2/3; 47/225] END depth=4, learning_rate=0.1, n_estimators=11; total time=   1.9s\n",
      "[CV 3/3; 47/225] START depth=4, learning_rate=0.1, n_estimators=11..............\n",
      "[CV 3/3; 47/225] END depth=4, learning_rate=0.1, n_estimators=11; total time=   2.0s\n",
      "[CV 1/3; 48/225] START depth=4, learning_rate=0.1, n_estimators=21..............\n",
      "[CV 1/3; 48/225] END depth=4, learning_rate=0.1, n_estimators=21; total time=   2.1s\n",
      "[CV 2/3; 48/225] START depth=4, learning_rate=0.1, n_estimators=21..............\n",
      "[CV 2/3; 48/225] END depth=4, learning_rate=0.1, n_estimators=21; total time=   2.2s\n",
      "[CV 3/3; 48/225] START depth=4, learning_rate=0.1, n_estimators=21..............\n",
      "[CV 3/3; 48/225] END depth=4, learning_rate=0.1, n_estimators=21; total time=   2.1s\n",
      "[CV 1/3; 49/225] START depth=4, learning_rate=0.1, n_estimators=31..............\n",
      "[CV 1/3; 49/225] END depth=4, learning_rate=0.1, n_estimators=31; total time=   2.3s\n",
      "[CV 2/3; 49/225] START depth=4, learning_rate=0.1, n_estimators=31..............\n",
      "[CV 2/3; 49/225] END depth=4, learning_rate=0.1, n_estimators=31; total time=   2.3s\n",
      "[CV 3/3; 49/225] START depth=4, learning_rate=0.1, n_estimators=31..............\n",
      "[CV 3/3; 49/225] END depth=4, learning_rate=0.1, n_estimators=31; total time=   2.3s\n",
      "[CV 1/3; 50/225] START depth=4, learning_rate=0.1, n_estimators=41..............\n",
      "[CV 1/3; 50/225] END depth=4, learning_rate=0.1, n_estimators=41; total time=   2.4s\n",
      "[CV 2/3; 50/225] START depth=4, learning_rate=0.1, n_estimators=41..............\n",
      "[CV 2/3; 50/225] END depth=4, learning_rate=0.1, n_estimators=41; total time=   2.5s\n",
      "[CV 3/3; 50/225] START depth=4, learning_rate=0.1, n_estimators=41..............\n",
      "[CV 3/3; 50/225] END depth=4, learning_rate=0.1, n_estimators=41; total time=   2.4s\n",
      "[CV 1/3; 51/225] START depth=4, learning_rate=0.5, n_estimators=1...............\n",
      "[CV 1/3; 51/225] END depth=4, learning_rate=0.5, n_estimators=1; total time=   1.6s\n",
      "[CV 2/3; 51/225] START depth=4, learning_rate=0.5, n_estimators=1...............\n",
      "[CV 2/3; 51/225] END depth=4, learning_rate=0.5, n_estimators=1; total time=   1.7s\n",
      "[CV 3/3; 51/225] START depth=4, learning_rate=0.5, n_estimators=1...............\n",
      "[CV 3/3; 51/225] END depth=4, learning_rate=0.5, n_estimators=1; total time=   1.6s\n",
      "[CV 1/3; 52/225] START depth=4, learning_rate=0.5, n_estimators=11..............\n",
      "[CV 1/3; 52/225] END depth=4, learning_rate=0.5, n_estimators=11; total time=   1.9s\n",
      "[CV 2/3; 52/225] START depth=4, learning_rate=0.5, n_estimators=11..............\n",
      "[CV 2/3; 52/225] END depth=4, learning_rate=0.5, n_estimators=11; total time=   2.8s\n",
      "[CV 3/3; 52/225] START depth=4, learning_rate=0.5, n_estimators=11..............\n",
      "[CV 3/3; 52/225] END depth=4, learning_rate=0.5, n_estimators=11; total time=   1.9s\n",
      "[CV 1/3; 53/225] START depth=4, learning_rate=0.5, n_estimators=21..............\n",
      "[CV 1/3; 53/225] END depth=4, learning_rate=0.5, n_estimators=21; total time=   2.1s\n",
      "[CV 2/3; 53/225] START depth=4, learning_rate=0.5, n_estimators=21..............\n",
      "[CV 2/3; 53/225] END depth=4, learning_rate=0.5, n_estimators=21; total time=   2.1s\n",
      "[CV 3/3; 53/225] START depth=4, learning_rate=0.5, n_estimators=21..............\n",
      "[CV 3/3; 53/225] END depth=4, learning_rate=0.5, n_estimators=21; total time=   2.3s\n",
      "[CV 1/3; 54/225] START depth=4, learning_rate=0.5, n_estimators=31..............\n",
      "[CV 1/3; 54/225] END depth=4, learning_rate=0.5, n_estimators=31; total time=   2.3s\n",
      "[CV 2/3; 54/225] START depth=4, learning_rate=0.5, n_estimators=31..............\n",
      "[CV 2/3; 54/225] END depth=4, learning_rate=0.5, n_estimators=31; total time=   2.3s\n",
      "[CV 3/3; 54/225] START depth=4, learning_rate=0.5, n_estimators=31..............\n",
      "[CV 3/3; 54/225] END depth=4, learning_rate=0.5, n_estimators=31; total time=   2.3s\n",
      "[CV 1/3; 55/225] START depth=4, learning_rate=0.5, n_estimators=41..............\n",
      "[CV 1/3; 55/225] END depth=4, learning_rate=0.5, n_estimators=41; total time=   2.4s\n",
      "[CV 2/3; 55/225] START depth=4, learning_rate=0.5, n_estimators=41..............\n",
      "[CV 2/3; 55/225] END depth=4, learning_rate=0.5, n_estimators=41; total time=   2.5s\n",
      "[CV 3/3; 55/225] START depth=4, learning_rate=0.5, n_estimators=41..............\n",
      "[CV 3/3; 55/225] END depth=4, learning_rate=0.5, n_estimators=41; total time=   2.5s\n",
      "[CV 1/3; 56/225] START depth=4, learning_rate=0.8, n_estimators=1...............\n",
      "[CV 1/3; 56/225] END depth=4, learning_rate=0.8, n_estimators=1; total time=   1.8s\n",
      "[CV 2/3; 56/225] START depth=4, learning_rate=0.8, n_estimators=1...............\n",
      "[CV 2/3; 56/225] END depth=4, learning_rate=0.8, n_estimators=1; total time=   1.6s\n",
      "[CV 3/3; 56/225] START depth=4, learning_rate=0.8, n_estimators=1...............\n",
      "[CV 3/3; 56/225] END depth=4, learning_rate=0.8, n_estimators=1; total time=   1.6s\n",
      "[CV 1/3; 57/225] START depth=4, learning_rate=0.8, n_estimators=11..............\n",
      "[CV 1/3; 57/225] END depth=4, learning_rate=0.8, n_estimators=11; total time=   2.0s\n",
      "[CV 2/3; 57/225] START depth=4, learning_rate=0.8, n_estimators=11..............\n",
      "[CV 2/3; 57/225] END depth=4, learning_rate=0.8, n_estimators=11; total time=   1.9s\n",
      "[CV 3/3; 57/225] START depth=4, learning_rate=0.8, n_estimators=11..............\n",
      "[CV 3/3; 57/225] END depth=4, learning_rate=0.8, n_estimators=11; total time=   1.9s\n",
      "[CV 1/3; 58/225] START depth=4, learning_rate=0.8, n_estimators=21..............\n",
      "[CV 1/3; 58/225] END depth=4, learning_rate=0.8, n_estimators=21; total time=   2.0s\n",
      "[CV 2/3; 58/225] START depth=4, learning_rate=0.8, n_estimators=21..............\n",
      "[CV 2/3; 58/225] END depth=4, learning_rate=0.8, n_estimators=21; total time=   2.2s\n",
      "[CV 3/3; 58/225] START depth=4, learning_rate=0.8, n_estimators=21..............\n",
      "[CV 3/3; 58/225] END depth=4, learning_rate=0.8, n_estimators=21; total time=   2.1s\n",
      "[CV 1/3; 59/225] START depth=4, learning_rate=0.8, n_estimators=31..............\n",
      "[CV 1/3; 59/225] END depth=4, learning_rate=0.8, n_estimators=31; total time=   2.3s\n",
      "[CV 2/3; 59/225] START depth=4, learning_rate=0.8, n_estimators=31..............\n",
      "[CV 2/3; 59/225] END depth=4, learning_rate=0.8, n_estimators=31; total time=   2.7s\n",
      "[CV 3/3; 59/225] START depth=4, learning_rate=0.8, n_estimators=31..............\n",
      "[CV 3/3; 59/225] END depth=4, learning_rate=0.8, n_estimators=31; total time=   2.3s\n",
      "[CV 1/3; 60/225] START depth=4, learning_rate=0.8, n_estimators=41..............\n",
      "[CV 1/3; 60/225] END depth=4, learning_rate=0.8, n_estimators=41; total time=   2.5s\n",
      "[CV 2/3; 60/225] START depth=4, learning_rate=0.8, n_estimators=41..............\n",
      "[CV 2/3; 60/225] END depth=4, learning_rate=0.8, n_estimators=41; total time=   2.6s\n",
      "[CV 3/3; 60/225] START depth=4, learning_rate=0.8, n_estimators=41..............\n",
      "[CV 3/3; 60/225] END depth=4, learning_rate=0.8, n_estimators=41; total time=   2.5s\n",
      "[CV 1/3; 61/225] START depth=5, learning_rate=0.1, n_estimators=1...............\n",
      "[CV 1/3; 61/225] END depth=5, learning_rate=0.1, n_estimators=1; total time=   1.7s\n",
      "[CV 2/3; 61/225] START depth=5, learning_rate=0.1, n_estimators=1...............\n",
      "[CV 2/3; 61/225] END depth=5, learning_rate=0.1, n_estimators=1; total time=   1.7s\n",
      "[CV 3/3; 61/225] START depth=5, learning_rate=0.1, n_estimators=1...............\n",
      "[CV 3/3; 61/225] END depth=5, learning_rate=0.1, n_estimators=1; total time=   1.8s\n",
      "[CV 1/3; 62/225] START depth=5, learning_rate=0.1, n_estimators=11..............\n",
      "[CV 1/3; 62/225] END depth=5, learning_rate=0.1, n_estimators=11; total time=   1.9s\n",
      "[CV 2/3; 62/225] START depth=5, learning_rate=0.1, n_estimators=11..............\n",
      "[CV 2/3; 62/225] END depth=5, learning_rate=0.1, n_estimators=11; total time=   2.1s\n",
      "[CV 3/3; 62/225] START depth=5, learning_rate=0.1, n_estimators=11..............\n",
      "[CV 3/3; 62/225] END depth=5, learning_rate=0.1, n_estimators=11; total time=   2.0s\n",
      "[CV 1/3; 63/225] START depth=5, learning_rate=0.1, n_estimators=21..............\n",
      "[CV 1/3; 63/225] END depth=5, learning_rate=0.1, n_estimators=21; total time=   2.2s\n",
      "[CV 2/3; 63/225] START depth=5, learning_rate=0.1, n_estimators=21..............\n",
      "[CV 2/3; 63/225] END depth=5, learning_rate=0.1, n_estimators=21; total time=   2.2s\n",
      "[CV 3/3; 63/225] START depth=5, learning_rate=0.1, n_estimators=21..............\n",
      "[CV 3/3; 63/225] END depth=5, learning_rate=0.1, n_estimators=21; total time=   2.3s\n",
      "[CV 1/3; 64/225] START depth=5, learning_rate=0.1, n_estimators=31..............\n",
      "[CV 1/3; 64/225] END depth=5, learning_rate=0.1, n_estimators=31; total time=   2.3s\n",
      "[CV 2/3; 64/225] START depth=5, learning_rate=0.1, n_estimators=31..............\n",
      "[CV 2/3; 64/225] END depth=5, learning_rate=0.1, n_estimators=31; total time=   2.3s\n",
      "[CV 3/3; 64/225] START depth=5, learning_rate=0.1, n_estimators=31..............\n",
      "[CV 3/3; 64/225] END depth=5, learning_rate=0.1, n_estimators=31; total time=   2.3s\n",
      "[CV 1/3; 65/225] START depth=5, learning_rate=0.1, n_estimators=41..............\n",
      "[CV 1/3; 65/225] END depth=5, learning_rate=0.1, n_estimators=41; total time=   2.6s\n",
      "[CV 2/3; 65/225] START depth=5, learning_rate=0.1, n_estimators=41..............\n",
      "[CV 2/3; 65/225] END depth=5, learning_rate=0.1, n_estimators=41; total time=   2.5s\n",
      "[CV 3/3; 65/225] START depth=5, learning_rate=0.1, n_estimators=41..............\n",
      "[CV 3/3; 65/225] END depth=5, learning_rate=0.1, n_estimators=41; total time=   2.5s\n",
      "[CV 1/3; 66/225] START depth=5, learning_rate=0.5, n_estimators=1...............\n",
      "[CV 1/3; 66/225] END depth=5, learning_rate=0.5, n_estimators=1; total time=   1.7s\n",
      "[CV 2/3; 66/225] START depth=5, learning_rate=0.5, n_estimators=1...............\n",
      "[CV 2/3; 66/225] END depth=5, learning_rate=0.5, n_estimators=1; total time=   2.2s\n",
      "[CV 3/3; 66/225] START depth=5, learning_rate=0.5, n_estimators=1...............\n",
      "[CV 3/3; 66/225] END depth=5, learning_rate=0.5, n_estimators=1; total time=   1.7s\n",
      "[CV 1/3; 67/225] START depth=5, learning_rate=0.5, n_estimators=11..............\n",
      "[CV 1/3; 67/225] END depth=5, learning_rate=0.5, n_estimators=11; total time=   1.8s\n",
      "[CV 2/3; 67/225] START depth=5, learning_rate=0.5, n_estimators=11..............\n",
      "[CV 2/3; 67/225] END depth=5, learning_rate=0.5, n_estimators=11; total time=   1.9s\n",
      "[CV 3/3; 67/225] START depth=5, learning_rate=0.5, n_estimators=11..............\n",
      "[CV 3/3; 67/225] END depth=5, learning_rate=0.5, n_estimators=11; total time=   1.9s\n",
      "[CV 1/3; 68/225] START depth=5, learning_rate=0.5, n_estimators=21..............\n",
      "[CV 1/3; 68/225] END depth=5, learning_rate=0.5, n_estimators=21; total time=   2.1s\n",
      "[CV 2/3; 68/225] START depth=5, learning_rate=0.5, n_estimators=21..............\n",
      "[CV 2/3; 68/225] END depth=5, learning_rate=0.5, n_estimators=21; total time=   2.2s\n",
      "[CV 3/3; 68/225] START depth=5, learning_rate=0.5, n_estimators=21..............\n",
      "[CV 3/3; 68/225] END depth=5, learning_rate=0.5, n_estimators=21; total time=   2.1s\n",
      "[CV 1/3; 69/225] START depth=5, learning_rate=0.5, n_estimators=31..............\n",
      "[CV 1/3; 69/225] END depth=5, learning_rate=0.5, n_estimators=31; total time=   2.3s\n",
      "[CV 2/3; 69/225] START depth=5, learning_rate=0.5, n_estimators=31..............\n",
      "[CV 2/3; 69/225] END depth=5, learning_rate=0.5, n_estimators=31; total time=   2.3s\n",
      "[CV 3/3; 69/225] START depth=5, learning_rate=0.5, n_estimators=31..............\n",
      "[CV 3/3; 69/225] END depth=5, learning_rate=0.5, n_estimators=31; total time=   2.3s\n",
      "[CV 1/3; 70/225] START depth=5, learning_rate=0.5, n_estimators=41..............\n",
      "[CV 1/3; 70/225] END depth=5, learning_rate=0.5, n_estimators=41; total time=   2.6s\n",
      "[CV 2/3; 70/225] START depth=5, learning_rate=0.5, n_estimators=41..............\n",
      "[CV 2/3; 70/225] END depth=5, learning_rate=0.5, n_estimators=41; total time=   2.5s\n",
      "[CV 3/3; 70/225] START depth=5, learning_rate=0.5, n_estimators=41..............\n",
      "[CV 3/3; 70/225] END depth=5, learning_rate=0.5, n_estimators=41; total time=   2.5s\n",
      "[CV 1/3; 71/225] START depth=5, learning_rate=0.8, n_estimators=1...............\n",
      "[CV 1/3; 71/225] END depth=5, learning_rate=0.8, n_estimators=1; total time=   1.7s\n",
      "[CV 2/3; 71/225] START depth=5, learning_rate=0.8, n_estimators=1...............\n",
      "[CV 2/3; 71/225] END depth=5, learning_rate=0.8, n_estimators=1; total time=   4.6s\n",
      "[CV 3/3; 71/225] START depth=5, learning_rate=0.8, n_estimators=1...............\n",
      "[CV 3/3; 71/225] END depth=5, learning_rate=0.8, n_estimators=1; total time=   2.1s\n",
      "[CV 1/3; 72/225] START depth=5, learning_rate=0.8, n_estimators=11..............\n",
      "[CV 1/3; 72/225] END depth=5, learning_rate=0.8, n_estimators=11; total time=   1.9s\n",
      "[CV 2/3; 72/225] START depth=5, learning_rate=0.8, n_estimators=11..............\n",
      "[CV 2/3; 72/225] END depth=5, learning_rate=0.8, n_estimators=11; total time=   1.9s\n",
      "[CV 3/3; 72/225] START depth=5, learning_rate=0.8, n_estimators=11..............\n",
      "[CV 3/3; 72/225] END depth=5, learning_rate=0.8, n_estimators=11; total time=   2.0s\n",
      "[CV 1/3; 73/225] START depth=5, learning_rate=0.8, n_estimators=21..............\n",
      "[CV 1/3; 73/225] END depth=5, learning_rate=0.8, n_estimators=21; total time=   2.1s\n",
      "[CV 2/3; 73/225] START depth=5, learning_rate=0.8, n_estimators=21..............\n",
      "[CV 2/3; 73/225] END depth=5, learning_rate=0.8, n_estimators=21; total time=   2.1s\n",
      "[CV 3/3; 73/225] START depth=5, learning_rate=0.8, n_estimators=21..............\n",
      "[CV 3/3; 73/225] END depth=5, learning_rate=0.8, n_estimators=21; total time=   2.1s\n",
      "[CV 1/3; 74/225] START depth=5, learning_rate=0.8, n_estimators=31..............\n",
      "[CV 1/3; 74/225] END depth=5, learning_rate=0.8, n_estimators=31; total time=   2.4s\n",
      "[CV 2/3; 74/225] START depth=5, learning_rate=0.8, n_estimators=31..............\n",
      "[CV 2/3; 74/225] END depth=5, learning_rate=0.8, n_estimators=31; total time=   4.0s\n",
      "[CV 3/3; 74/225] START depth=5, learning_rate=0.8, n_estimators=31..............\n",
      "[CV 3/3; 74/225] END depth=5, learning_rate=0.8, n_estimators=31; total time=   2.4s\n",
      "[CV 1/3; 75/225] START depth=5, learning_rate=0.8, n_estimators=41..............\n",
      "[CV 1/3; 75/225] END depth=5, learning_rate=0.8, n_estimators=41; total time=   2.6s\n",
      "[CV 2/3; 75/225] START depth=5, learning_rate=0.8, n_estimators=41..............\n",
      "[CV 2/3; 75/225] END depth=5, learning_rate=0.8, n_estimators=41; total time=   2.6s\n",
      "[CV 3/3; 75/225] START depth=5, learning_rate=0.8, n_estimators=41..............\n",
      "[CV 3/3; 75/225] END depth=5, learning_rate=0.8, n_estimators=41; total time=   2.6s\n",
      "[CV 1/3; 76/225] START depth=6, learning_rate=0.1, n_estimators=1...............\n",
      "[CV 1/3; 76/225] END depth=6, learning_rate=0.1, n_estimators=1; total time=   1.8s\n",
      "[CV 2/3; 76/225] START depth=6, learning_rate=0.1, n_estimators=1...............\n",
      "[CV 2/3; 76/225] END depth=6, learning_rate=0.1, n_estimators=1; total time=   1.7s\n",
      "[CV 3/3; 76/225] START depth=6, learning_rate=0.1, n_estimators=1...............\n",
      "[CV 3/3; 76/225] END depth=6, learning_rate=0.1, n_estimators=1; total time=   1.7s\n",
      "[CV 1/3; 77/225] START depth=6, learning_rate=0.1, n_estimators=11..............\n",
      "[CV 1/3; 77/225] END depth=6, learning_rate=0.1, n_estimators=11; total time=   2.4s\n",
      "[CV 2/3; 77/225] START depth=6, learning_rate=0.1, n_estimators=11..............\n",
      "[CV 2/3; 77/225] END depth=6, learning_rate=0.1, n_estimators=11; total time=   2.3s\n",
      "[CV 3/3; 77/225] START depth=6, learning_rate=0.1, n_estimators=11..............\n",
      "[CV 3/3; 77/225] END depth=6, learning_rate=0.1, n_estimators=11; total time=   2.3s\n",
      "[CV 1/3; 78/225] START depth=6, learning_rate=0.1, n_estimators=21..............\n",
      "[CV 1/3; 78/225] END depth=6, learning_rate=0.1, n_estimators=21; total time=   2.4s\n",
      "[CV 2/3; 78/225] START depth=6, learning_rate=0.1, n_estimators=21..............\n",
      "[CV 2/3; 78/225] END depth=6, learning_rate=0.1, n_estimators=21; total time=   2.5s\n",
      "[CV 3/3; 78/225] START depth=6, learning_rate=0.1, n_estimators=21..............\n",
      "[CV 3/3; 78/225] END depth=6, learning_rate=0.1, n_estimators=21; total time=   2.6s\n",
      "[CV 1/3; 79/225] START depth=6, learning_rate=0.1, n_estimators=31..............\n",
      "[CV 1/3; 79/225] END depth=6, learning_rate=0.1, n_estimators=31; total time=   2.8s\n",
      "[CV 2/3; 79/225] START depth=6, learning_rate=0.1, n_estimators=31..............\n",
      "[CV 2/3; 79/225] END depth=6, learning_rate=0.1, n_estimators=31; total time=   2.7s\n",
      "[CV 3/3; 79/225] START depth=6, learning_rate=0.1, n_estimators=31..............\n",
      "[CV 3/3; 79/225] END depth=6, learning_rate=0.1, n_estimators=31; total time=   2.6s\n",
      "[CV 1/3; 80/225] START depth=6, learning_rate=0.1, n_estimators=41..............\n",
      "[CV 1/3; 80/225] END depth=6, learning_rate=0.1, n_estimators=41; total time=   3.0s\n",
      "[CV 2/3; 80/225] START depth=6, learning_rate=0.1, n_estimators=41..............\n",
      "[CV 2/3; 80/225] END depth=6, learning_rate=0.1, n_estimators=41; total time=   3.1s\n",
      "[CV 3/3; 80/225] START depth=6, learning_rate=0.1, n_estimators=41..............\n",
      "[CV 3/3; 80/225] END depth=6, learning_rate=0.1, n_estimators=41; total time=   3.2s\n",
      "[CV 1/3; 81/225] START depth=6, learning_rate=0.5, n_estimators=1...............\n",
      "[CV 1/3; 81/225] END depth=6, learning_rate=0.5, n_estimators=1; total time=   1.9s\n",
      "[CV 2/3; 81/225] START depth=6, learning_rate=0.5, n_estimators=1...............\n",
      "[CV 2/3; 81/225] END depth=6, learning_rate=0.5, n_estimators=1; total time=   1.8s\n",
      "[CV 3/3; 81/225] START depth=6, learning_rate=0.5, n_estimators=1...............\n",
      "[CV 3/3; 81/225] END depth=6, learning_rate=0.5, n_estimators=1; total time=   1.8s\n",
      "[CV 1/3; 82/225] START depth=6, learning_rate=0.5, n_estimators=11..............\n",
      "[CV 1/3; 82/225] END depth=6, learning_rate=0.5, n_estimators=11; total time=   2.1s\n",
      "[CV 2/3; 82/225] START depth=6, learning_rate=0.5, n_estimators=11..............\n",
      "[CV 2/3; 82/225] END depth=6, learning_rate=0.5, n_estimators=11; total time=   2.2s\n",
      "[CV 3/3; 82/225] START depth=6, learning_rate=0.5, n_estimators=11..............\n",
      "[CV 3/3; 82/225] END depth=6, learning_rate=0.5, n_estimators=11; total time=   2.1s\n",
      "[CV 1/3; 83/225] START depth=6, learning_rate=0.5, n_estimators=21..............\n",
      "[CV 1/3; 83/225] END depth=6, learning_rate=0.5, n_estimators=21; total time=   2.2s\n",
      "[CV 2/3; 83/225] START depth=6, learning_rate=0.5, n_estimators=21..............\n",
      "[CV 2/3; 83/225] END depth=6, learning_rate=0.5, n_estimators=21; total time=   2.4s\n",
      "[CV 3/3; 83/225] START depth=6, learning_rate=0.5, n_estimators=21..............\n",
      "[CV 3/3; 83/225] END depth=6, learning_rate=0.5, n_estimators=21; total time=   2.3s\n",
      "[CV 1/3; 84/225] START depth=6, learning_rate=0.5, n_estimators=31..............\n",
      "[CV 1/3; 84/225] END depth=6, learning_rate=0.5, n_estimators=31; total time=   2.7s\n",
      "[CV 2/3; 84/225] START depth=6, learning_rate=0.5, n_estimators=31..............\n",
      "[CV 2/3; 84/225] END depth=6, learning_rate=0.5, n_estimators=31; total time=   2.8s\n",
      "[CV 3/3; 84/225] START depth=6, learning_rate=0.5, n_estimators=31..............\n",
      "[CV 3/3; 84/225] END depth=6, learning_rate=0.5, n_estimators=31; total time=   2.6s\n",
      "[CV 1/3; 85/225] START depth=6, learning_rate=0.5, n_estimators=41..............\n",
      "[CV 1/3; 85/225] END depth=6, learning_rate=0.5, n_estimators=41; total time=   3.0s\n",
      "[CV 2/3; 85/225] START depth=6, learning_rate=0.5, n_estimators=41..............\n",
      "[CV 2/3; 85/225] END depth=6, learning_rate=0.5, n_estimators=41; total time=   2.8s\n",
      "[CV 3/3; 85/225] START depth=6, learning_rate=0.5, n_estimators=41..............\n",
      "[CV 3/3; 85/225] END depth=6, learning_rate=0.5, n_estimators=41; total time=   2.9s\n",
      "[CV 1/3; 86/225] START depth=6, learning_rate=0.8, n_estimators=1...............\n",
      "[CV 1/3; 86/225] END depth=6, learning_rate=0.8, n_estimators=1; total time=   1.9s\n",
      "[CV 2/3; 86/225] START depth=6, learning_rate=0.8, n_estimators=1...............\n",
      "[CV 2/3; 86/225] END depth=6, learning_rate=0.8, n_estimators=1; total time=   1.8s\n",
      "[CV 3/3; 86/225] START depth=6, learning_rate=0.8, n_estimators=1...............\n",
      "[CV 3/3; 86/225] END depth=6, learning_rate=0.8, n_estimators=1; total time=   1.9s\n",
      "[CV 1/3; 87/225] START depth=6, learning_rate=0.8, n_estimators=11..............\n",
      "[CV 1/3; 87/225] END depth=6, learning_rate=0.8, n_estimators=11; total time=   2.1s\n",
      "[CV 2/3; 87/225] START depth=6, learning_rate=0.8, n_estimators=11..............\n",
      "[CV 2/3; 87/225] END depth=6, learning_rate=0.8, n_estimators=11; total time=   2.0s\n",
      "[CV 3/3; 87/225] START depth=6, learning_rate=0.8, n_estimators=11..............\n",
      "[CV 3/3; 87/225] END depth=6, learning_rate=0.8, n_estimators=11; total time=   2.0s\n",
      "[CV 1/3; 88/225] START depth=6, learning_rate=0.8, n_estimators=21..............\n",
      "[CV 1/3; 88/225] END depth=6, learning_rate=0.8, n_estimators=21; total time=   2.4s\n",
      "[CV 2/3; 88/225] START depth=6, learning_rate=0.8, n_estimators=21..............\n",
      "[CV 2/3; 88/225] END depth=6, learning_rate=0.8, n_estimators=21; total time=   2.3s\n",
      "[CV 3/3; 88/225] START depth=6, learning_rate=0.8, n_estimators=21..............\n",
      "[CV 3/3; 88/225] END depth=6, learning_rate=0.8, n_estimators=21; total time=   2.7s\n",
      "[CV 1/3; 89/225] START depth=6, learning_rate=0.8, n_estimators=31..............\n",
      "[CV 1/3; 89/225] END depth=6, learning_rate=0.8, n_estimators=31; total time=   3.0s\n",
      "[CV 2/3; 89/225] START depth=6, learning_rate=0.8, n_estimators=31..............\n",
      "[CV 2/3; 89/225] END depth=6, learning_rate=0.8, n_estimators=31; total time=   2.4s\n",
      "[CV 3/3; 89/225] START depth=6, learning_rate=0.8, n_estimators=31..............\n",
      "[CV 3/3; 89/225] END depth=6, learning_rate=0.8, n_estimators=31; total time=   2.4s\n",
      "[CV 1/3; 90/225] START depth=6, learning_rate=0.8, n_estimators=41..............\n",
      "[CV 1/3; 90/225] END depth=6, learning_rate=0.8, n_estimators=41; total time=   2.7s\n",
      "[CV 2/3; 90/225] START depth=6, learning_rate=0.8, n_estimators=41..............\n",
      "[CV 2/3; 90/225] END depth=6, learning_rate=0.8, n_estimators=41; total time=   2.6s\n",
      "[CV 3/3; 90/225] START depth=6, learning_rate=0.8, n_estimators=41..............\n",
      "[CV 3/3; 90/225] END depth=6, learning_rate=0.8, n_estimators=41; total time=   2.9s\n",
      "[CV 1/3; 91/225] START depth=7, learning_rate=0.1, n_estimators=1...............\n",
      "[CV 1/3; 91/225] END depth=7, learning_rate=0.1, n_estimators=1; total time=   1.7s\n",
      "[CV 2/3; 91/225] START depth=7, learning_rate=0.1, n_estimators=1...............\n",
      "[CV 2/3; 91/225] END depth=7, learning_rate=0.1, n_estimators=1; total time=   1.7s\n",
      "[CV 3/3; 91/225] START depth=7, learning_rate=0.1, n_estimators=1...............\n",
      "[CV 3/3; 91/225] END depth=7, learning_rate=0.1, n_estimators=1; total time=   1.8s\n",
      "[CV 1/3; 92/225] START depth=7, learning_rate=0.1, n_estimators=11..............\n",
      "[CV 1/3; 92/225] END depth=7, learning_rate=0.1, n_estimators=11; total time=   2.0s\n",
      "[CV 2/3; 92/225] START depth=7, learning_rate=0.1, n_estimators=11..............\n",
      "[CV 2/3; 92/225] END depth=7, learning_rate=0.1, n_estimators=11; total time=   2.0s\n",
      "[CV 3/3; 92/225] START depth=7, learning_rate=0.1, n_estimators=11..............\n",
      "[CV 3/3; 92/225] END depth=7, learning_rate=0.1, n_estimators=11; total time=   1.9s\n",
      "[CV 1/3; 93/225] START depth=7, learning_rate=0.1, n_estimators=21..............\n",
      "[CV 1/3; 93/225] END depth=7, learning_rate=0.1, n_estimators=21; total time=   2.3s\n",
      "[CV 2/3; 93/225] START depth=7, learning_rate=0.1, n_estimators=21..............\n",
      "[CV 2/3; 93/225] END depth=7, learning_rate=0.1, n_estimators=21; total time=   2.2s\n",
      "[CV 3/3; 93/225] START depth=7, learning_rate=0.1, n_estimators=21..............\n",
      "[CV 3/3; 93/225] END depth=7, learning_rate=0.1, n_estimators=21; total time=   2.2s\n",
      "[CV 1/3; 94/225] START depth=7, learning_rate=0.1, n_estimators=31..............\n",
      "[CV 1/3; 94/225] END depth=7, learning_rate=0.1, n_estimators=31; total time=   2.5s\n",
      "[CV 2/3; 94/225] START depth=7, learning_rate=0.1, n_estimators=31..............\n",
      "[CV 2/3; 94/225] END depth=7, learning_rate=0.1, n_estimators=31; total time=   2.6s\n",
      "[CV 3/3; 94/225] START depth=7, learning_rate=0.1, n_estimators=31..............\n",
      "[CV 3/3; 94/225] END depth=7, learning_rate=0.1, n_estimators=31; total time=   2.6s\n",
      "[CV 1/3; 95/225] START depth=7, learning_rate=0.1, n_estimators=41..............\n",
      "[CV 1/3; 95/225] END depth=7, learning_rate=0.1, n_estimators=41; total time=   2.8s\n",
      "[CV 2/3; 95/225] START depth=7, learning_rate=0.1, n_estimators=41..............\n",
      "[CV 2/3; 95/225] END depth=7, learning_rate=0.1, n_estimators=41; total time=   2.8s\n",
      "[CV 3/3; 95/225] START depth=7, learning_rate=0.1, n_estimators=41..............\n",
      "[CV 3/3; 95/225] END depth=7, learning_rate=0.1, n_estimators=41; total time=   2.7s\n",
      "[CV 1/3; 96/225] START depth=7, learning_rate=0.5, n_estimators=1...............\n",
      "[CV 1/3; 96/225] END depth=7, learning_rate=0.5, n_estimators=1; total time=   1.8s\n",
      "[CV 2/3; 96/225] START depth=7, learning_rate=0.5, n_estimators=1...............\n",
      "[CV 2/3; 96/225] END depth=7, learning_rate=0.5, n_estimators=1; total time=   1.7s\n",
      "[CV 3/3; 96/225] START depth=7, learning_rate=0.5, n_estimators=1...............\n",
      "[CV 3/3; 96/225] END depth=7, learning_rate=0.5, n_estimators=1; total time=   1.8s\n",
      "[CV 1/3; 97/225] START depth=7, learning_rate=0.5, n_estimators=11..............\n",
      "[CV 1/3; 97/225] END depth=7, learning_rate=0.5, n_estimators=11; total time=   2.0s\n",
      "[CV 2/3; 97/225] START depth=7, learning_rate=0.5, n_estimators=11..............\n",
      "[CV 2/3; 97/225] END depth=7, learning_rate=0.5, n_estimators=11; total time=   2.1s\n",
      "[CV 3/3; 97/225] START depth=7, learning_rate=0.5, n_estimators=11..............\n",
      "[CV 3/3; 97/225] END depth=7, learning_rate=0.5, n_estimators=11; total time=   2.1s\n",
      "[CV 1/3; 98/225] START depth=7, learning_rate=0.5, n_estimators=21..............\n",
      "[CV 1/3; 98/225] END depth=7, learning_rate=0.5, n_estimators=21; total time=   2.4s\n",
      "[CV 2/3; 98/225] START depth=7, learning_rate=0.5, n_estimators=21..............\n",
      "[CV 2/3; 98/225] END depth=7, learning_rate=0.5, n_estimators=21; total time=   2.3s\n",
      "[CV 3/3; 98/225] START depth=7, learning_rate=0.5, n_estimators=21..............\n",
      "[CV 3/3; 98/225] END depth=7, learning_rate=0.5, n_estimators=21; total time=   2.2s\n",
      "[CV 1/3; 99/225] START depth=7, learning_rate=0.5, n_estimators=31..............\n",
      "[CV 1/3; 99/225] END depth=7, learning_rate=0.5, n_estimators=31; total time=   2.6s\n",
      "[CV 2/3; 99/225] START depth=7, learning_rate=0.5, n_estimators=31..............\n",
      "[CV 2/3; 99/225] END depth=7, learning_rate=0.5, n_estimators=31; total time=   2.6s\n",
      "[CV 3/3; 99/225] START depth=7, learning_rate=0.5, n_estimators=31..............\n",
      "[CV 3/3; 99/225] END depth=7, learning_rate=0.5, n_estimators=31; total time=   2.8s\n",
      "[CV 1/3; 100/225] START depth=7, learning_rate=0.5, n_estimators=41.............\n",
      "[CV 1/3; 100/225] END depth=7, learning_rate=0.5, n_estimators=41; total time=   3.1s\n",
      "[CV 2/3; 100/225] START depth=7, learning_rate=0.5, n_estimators=41.............\n",
      "[CV 2/3; 100/225] END depth=7, learning_rate=0.5, n_estimators=41; total time=   3.3s\n",
      "[CV 3/3; 100/225] START depth=7, learning_rate=0.5, n_estimators=41.............\n",
      "[CV 3/3; 100/225] END depth=7, learning_rate=0.5, n_estimators=41; total time=   3.1s\n",
      "[CV 1/3; 101/225] START depth=7, learning_rate=0.8, n_estimators=1..............\n",
      "[CV 1/3; 101/225] END depth=7, learning_rate=0.8, n_estimators=1; total time=   2.0s\n",
      "[CV 2/3; 101/225] START depth=7, learning_rate=0.8, n_estimators=1..............\n",
      "[CV 2/3; 101/225] END depth=7, learning_rate=0.8, n_estimators=1; total time=   1.9s\n",
      "[CV 3/3; 101/225] START depth=7, learning_rate=0.8, n_estimators=1..............\n",
      "[CV 3/3; 101/225] END depth=7, learning_rate=0.8, n_estimators=1; total time=   2.1s\n",
      "[CV 1/3; 102/225] START depth=7, learning_rate=0.8, n_estimators=11.............\n",
      "[CV 1/3; 102/225] END depth=7, learning_rate=0.8, n_estimators=11; total time=   2.3s\n",
      "[CV 2/3; 102/225] START depth=7, learning_rate=0.8, n_estimators=11.............\n",
      "[CV 2/3; 102/225] END depth=7, learning_rate=0.8, n_estimators=11; total time=   2.1s\n",
      "[CV 3/3; 102/225] START depth=7, learning_rate=0.8, n_estimators=11.............\n",
      "[CV 3/3; 102/225] END depth=7, learning_rate=0.8, n_estimators=11; total time=   2.1s\n",
      "[CV 1/3; 103/225] START depth=7, learning_rate=0.8, n_estimators=21.............\n",
      "[CV 1/3; 103/225] END depth=7, learning_rate=0.8, n_estimators=21; total time=   2.5s\n",
      "[CV 2/3; 103/225] START depth=7, learning_rate=0.8, n_estimators=21.............\n",
      "[CV 2/3; 103/225] END depth=7, learning_rate=0.8, n_estimators=21; total time=   2.5s\n",
      "[CV 3/3; 103/225] START depth=7, learning_rate=0.8, n_estimators=21.............\n",
      "[CV 3/3; 103/225] END depth=7, learning_rate=0.8, n_estimators=21; total time=   2.5s\n",
      "[CV 1/3; 104/225] START depth=7, learning_rate=0.8, n_estimators=31.............\n",
      "[CV 1/3; 104/225] END depth=7, learning_rate=0.8, n_estimators=31; total time=   3.0s\n",
      "[CV 2/3; 104/225] START depth=7, learning_rate=0.8, n_estimators=31.............\n",
      "[CV 2/3; 104/225] END depth=7, learning_rate=0.8, n_estimators=31; total time=   2.9s\n",
      "[CV 3/3; 104/225] START depth=7, learning_rate=0.8, n_estimators=31.............\n",
      "[CV 3/3; 104/225] END depth=7, learning_rate=0.8, n_estimators=31; total time=   2.9s\n",
      "[CV 1/3; 105/225] START depth=7, learning_rate=0.8, n_estimators=41.............\n",
      "[CV 1/3; 105/225] END depth=7, learning_rate=0.8, n_estimators=41; total time=   3.0s\n",
      "[CV 2/3; 105/225] START depth=7, learning_rate=0.8, n_estimators=41.............\n",
      "[CV 2/3; 105/225] END depth=7, learning_rate=0.8, n_estimators=41; total time=   2.9s\n",
      "[CV 3/3; 105/225] START depth=7, learning_rate=0.8, n_estimators=41.............\n",
      "[CV 3/3; 105/225] END depth=7, learning_rate=0.8, n_estimators=41; total time=   3.0s\n",
      "[CV 1/3; 106/225] START depth=8, learning_rate=0.1, n_estimators=1..............\n",
      "[CV 1/3; 106/225] END depth=8, learning_rate=0.1, n_estimators=1; total time=   2.0s\n",
      "[CV 2/3; 106/225] START depth=8, learning_rate=0.1, n_estimators=1..............\n",
      "[CV 2/3; 106/225] END depth=8, learning_rate=0.1, n_estimators=1; total time=   1.9s\n",
      "[CV 3/3; 106/225] START depth=8, learning_rate=0.1, n_estimators=1..............\n",
      "[CV 3/3; 106/225] END depth=8, learning_rate=0.1, n_estimators=1; total time=   1.9s\n",
      "[CV 1/3; 107/225] START depth=8, learning_rate=0.1, n_estimators=11.............\n",
      "[CV 1/3; 107/225] END depth=8, learning_rate=0.1, n_estimators=11; total time=   2.2s\n",
      "[CV 2/3; 107/225] START depth=8, learning_rate=0.1, n_estimators=11.............\n",
      "[CV 2/3; 107/225] END depth=8, learning_rate=0.1, n_estimators=11; total time=   2.1s\n",
      "[CV 3/3; 107/225] START depth=8, learning_rate=0.1, n_estimators=11.............\n",
      "[CV 3/3; 107/225] END depth=8, learning_rate=0.1, n_estimators=11; total time=   2.5s\n",
      "[CV 1/3; 108/225] START depth=8, learning_rate=0.1, n_estimators=21.............\n",
      "[CV 1/3; 108/225] END depth=8, learning_rate=0.1, n_estimators=21; total time=   2.4s\n",
      "[CV 2/3; 108/225] START depth=8, learning_rate=0.1, n_estimators=21.............\n",
      "[CV 2/3; 108/225] END depth=8, learning_rate=0.1, n_estimators=21; total time=   2.6s\n",
      "[CV 3/3; 108/225] START depth=8, learning_rate=0.1, n_estimators=21.............\n",
      "[CV 3/3; 108/225] END depth=8, learning_rate=0.1, n_estimators=21; total time=   2.3s\n",
      "[CV 1/3; 109/225] START depth=8, learning_rate=0.1, n_estimators=31.............\n",
      "[CV 1/3; 109/225] END depth=8, learning_rate=0.1, n_estimators=31; total time=   2.6s\n",
      "[CV 2/3; 109/225] START depth=8, learning_rate=0.1, n_estimators=31.............\n",
      "[CV 2/3; 109/225] END depth=8, learning_rate=0.1, n_estimators=31; total time=   2.6s\n",
      "[CV 3/3; 109/225] START depth=8, learning_rate=0.1, n_estimators=31.............\n",
      "[CV 3/3; 109/225] END depth=8, learning_rate=0.1, n_estimators=31; total time=   2.5s\n",
      "[CV 1/3; 110/225] START depth=8, learning_rate=0.1, n_estimators=41.............\n",
      "[CV 1/3; 110/225] END depth=8, learning_rate=0.1, n_estimators=41; total time=   3.0s\n",
      "[CV 2/3; 110/225] START depth=8, learning_rate=0.1, n_estimators=41.............\n",
      "[CV 2/3; 110/225] END depth=8, learning_rate=0.1, n_estimators=41; total time=   3.0s\n",
      "[CV 3/3; 110/225] START depth=8, learning_rate=0.1, n_estimators=41.............\n",
      "[CV 3/3; 110/225] END depth=8, learning_rate=0.1, n_estimators=41; total time=   2.8s\n",
      "[CV 1/3; 111/225] START depth=8, learning_rate=0.5, n_estimators=1..............\n",
      "[CV 1/3; 111/225] END depth=8, learning_rate=0.5, n_estimators=1; total time=   1.7s\n",
      "[CV 2/3; 111/225] START depth=8, learning_rate=0.5, n_estimators=1..............\n",
      "[CV 2/3; 111/225] END depth=8, learning_rate=0.5, n_estimators=1; total time=   1.7s\n",
      "[CV 3/3; 111/225] START depth=8, learning_rate=0.5, n_estimators=1..............\n",
      "[CV 3/3; 111/225] END depth=8, learning_rate=0.5, n_estimators=1; total time=   1.8s\n",
      "[CV 1/3; 112/225] START depth=8, learning_rate=0.5, n_estimators=11.............\n",
      "[CV 1/3; 112/225] END depth=8, learning_rate=0.5, n_estimators=11; total time=   2.0s\n",
      "[CV 2/3; 112/225] START depth=8, learning_rate=0.5, n_estimators=11.............\n",
      "[CV 2/3; 112/225] END depth=8, learning_rate=0.5, n_estimators=11; total time=   2.0s\n",
      "[CV 3/3; 112/225] START depth=8, learning_rate=0.5, n_estimators=11.............\n",
      "[CV 3/3; 112/225] END depth=8, learning_rate=0.5, n_estimators=11; total time=   2.0s\n",
      "[CV 1/3; 113/225] START depth=8, learning_rate=0.5, n_estimators=21.............\n",
      "[CV 1/3; 113/225] END depth=8, learning_rate=0.5, n_estimators=21; total time=   2.3s\n",
      "[CV 2/3; 113/225] START depth=8, learning_rate=0.5, n_estimators=21.............\n",
      "[CV 2/3; 113/225] END depth=8, learning_rate=0.5, n_estimators=21; total time=   2.4s\n",
      "[CV 3/3; 113/225] START depth=8, learning_rate=0.5, n_estimators=21.............\n",
      "[CV 3/3; 113/225] END depth=8, learning_rate=0.5, n_estimators=21; total time=   2.3s\n",
      "[CV 1/3; 114/225] START depth=8, learning_rate=0.5, n_estimators=31.............\n",
      "[CV 1/3; 114/225] END depth=8, learning_rate=0.5, n_estimators=31; total time=   2.6s\n",
      "[CV 2/3; 114/225] START depth=8, learning_rate=0.5, n_estimators=31.............\n",
      "[CV 2/3; 114/225] END depth=8, learning_rate=0.5, n_estimators=31; total time=   2.6s\n",
      "[CV 3/3; 114/225] START depth=8, learning_rate=0.5, n_estimators=31.............\n",
      "[CV 3/3; 114/225] END depth=8, learning_rate=0.5, n_estimators=31; total time=   2.6s\n",
      "[CV 1/3; 115/225] START depth=8, learning_rate=0.5, n_estimators=41.............\n",
      "[CV 1/3; 115/225] END depth=8, learning_rate=0.5, n_estimators=41; total time=   2.7s\n",
      "[CV 2/3; 115/225] START depth=8, learning_rate=0.5, n_estimators=41.............\n",
      "[CV 2/3; 115/225] END depth=8, learning_rate=0.5, n_estimators=41; total time=   2.8s\n",
      "[CV 3/3; 115/225] START depth=8, learning_rate=0.5, n_estimators=41.............\n",
      "[CV 3/3; 115/225] END depth=8, learning_rate=0.5, n_estimators=41; total time=   2.8s\n",
      "[CV 1/3; 116/225] START depth=8, learning_rate=0.8, n_estimators=1..............\n",
      "[CV 1/3; 116/225] END depth=8, learning_rate=0.8, n_estimators=1; total time=   1.7s\n",
      "[CV 2/3; 116/225] START depth=8, learning_rate=0.8, n_estimators=1..............\n",
      "[CV 2/3; 116/225] END depth=8, learning_rate=0.8, n_estimators=1; total time=   1.7s\n",
      "[CV 3/3; 116/225] START depth=8, learning_rate=0.8, n_estimators=1..............\n",
      "[CV 3/3; 116/225] END depth=8, learning_rate=0.8, n_estimators=1; total time=   1.8s\n",
      "[CV 1/3; 117/225] START depth=8, learning_rate=0.8, n_estimators=11.............\n",
      "[CV 1/3; 117/225] END depth=8, learning_rate=0.8, n_estimators=11; total time=   2.0s\n",
      "[CV 2/3; 117/225] START depth=8, learning_rate=0.8, n_estimators=11.............\n",
      "[CV 2/3; 117/225] END depth=8, learning_rate=0.8, n_estimators=11; total time=   2.1s\n",
      "[CV 3/3; 117/225] START depth=8, learning_rate=0.8, n_estimators=11.............\n",
      "[CV 3/3; 117/225] END depth=8, learning_rate=0.8, n_estimators=11; total time=   2.1s\n",
      "[CV 1/3; 118/225] START depth=8, learning_rate=0.8, n_estimators=21.............\n",
      "[CV 1/3; 118/225] END depth=8, learning_rate=0.8, n_estimators=21; total time=   2.3s\n",
      "[CV 2/3; 118/225] START depth=8, learning_rate=0.8, n_estimators=21.............\n",
      "[CV 2/3; 118/225] END depth=8, learning_rate=0.8, n_estimators=21; total time=   2.3s\n",
      "[CV 3/3; 118/225] START depth=8, learning_rate=0.8, n_estimators=21.............\n",
      "[CV 3/3; 118/225] END depth=8, learning_rate=0.8, n_estimators=21; total time=   2.3s\n",
      "[CV 1/3; 119/225] START depth=8, learning_rate=0.8, n_estimators=31.............\n",
      "[CV 1/3; 119/225] END depth=8, learning_rate=0.8, n_estimators=31; total time=   2.7s\n",
      "[CV 2/3; 119/225] START depth=8, learning_rate=0.8, n_estimators=31.............\n",
      "[CV 2/3; 119/225] END depth=8, learning_rate=0.8, n_estimators=31; total time=   2.5s\n",
      "[CV 3/3; 119/225] START depth=8, learning_rate=0.8, n_estimators=31.............\n",
      "[CV 3/3; 119/225] END depth=8, learning_rate=0.8, n_estimators=31; total time=   2.5s\n",
      "[CV 1/3; 120/225] START depth=8, learning_rate=0.8, n_estimators=41.............\n",
      "[CV 1/3; 120/225] END depth=8, learning_rate=0.8, n_estimators=41; total time=   2.9s\n",
      "[CV 2/3; 120/225] START depth=8, learning_rate=0.8, n_estimators=41.............\n",
      "[CV 2/3; 120/225] END depth=8, learning_rate=0.8, n_estimators=41; total time=   2.8s\n",
      "[CV 3/3; 120/225] START depth=8, learning_rate=0.8, n_estimators=41.............\n",
      "[CV 3/3; 120/225] END depth=8, learning_rate=0.8, n_estimators=41; total time=   2.8s\n",
      "[CV 1/3; 121/225] START depth=9, learning_rate=0.1, n_estimators=1..............\n",
      "[CV 1/3; 121/225] END depth=9, learning_rate=0.1, n_estimators=1; total time=   1.8s\n",
      "[CV 2/3; 121/225] START depth=9, learning_rate=0.1, n_estimators=1..............\n",
      "[CV 2/3; 121/225] END depth=9, learning_rate=0.1, n_estimators=1; total time=   1.7s\n",
      "[CV 3/3; 121/225] START depth=9, learning_rate=0.1, n_estimators=1..............\n",
      "[CV 3/3; 121/225] END depth=9, learning_rate=0.1, n_estimators=1; total time=   1.8s\n",
      "[CV 1/3; 122/225] START depth=9, learning_rate=0.1, n_estimators=11.............\n",
      "[CV 1/3; 122/225] END depth=9, learning_rate=0.1, n_estimators=11; total time=   2.1s\n",
      "[CV 2/3; 122/225] START depth=9, learning_rate=0.1, n_estimators=11.............\n",
      "[CV 2/3; 122/225] END depth=9, learning_rate=0.1, n_estimators=11; total time=   2.3s\n",
      "[CV 3/3; 122/225] START depth=9, learning_rate=0.1, n_estimators=11.............\n",
      "[CV 3/3; 122/225] END depth=9, learning_rate=0.1, n_estimators=11; total time=   2.2s\n",
      "[CV 1/3; 123/225] START depth=9, learning_rate=0.1, n_estimators=21.............\n",
      "[CV 1/3; 123/225] END depth=9, learning_rate=0.1, n_estimators=21; total time=   2.5s\n",
      "[CV 2/3; 123/225] START depth=9, learning_rate=0.1, n_estimators=21.............\n",
      "[CV 2/3; 123/225] END depth=9, learning_rate=0.1, n_estimators=21; total time=   2.5s\n",
      "[CV 3/3; 123/225] START depth=9, learning_rate=0.1, n_estimators=21.............\n",
      "[CV 3/3; 123/225] END depth=9, learning_rate=0.1, n_estimators=21; total time=   2.4s\n",
      "[CV 1/3; 124/225] START depth=9, learning_rate=0.1, n_estimators=31.............\n",
      "[CV 1/3; 124/225] END depth=9, learning_rate=0.1, n_estimators=31; total time=   2.8s\n",
      "[CV 2/3; 124/225] START depth=9, learning_rate=0.1, n_estimators=31.............\n",
      "[CV 2/3; 124/225] END depth=9, learning_rate=0.1, n_estimators=31; total time=   3.1s\n",
      "[CV 3/3; 124/225] START depth=9, learning_rate=0.1, n_estimators=31.............\n",
      "[CV 3/3; 124/225] END depth=9, learning_rate=0.1, n_estimators=31; total time=   3.0s\n",
      "[CV 1/3; 125/225] START depth=9, learning_rate=0.1, n_estimators=41.............\n",
      "[CV 1/3; 125/225] END depth=9, learning_rate=0.1, n_estimators=41; total time=   3.2s\n",
      "[CV 2/3; 125/225] START depth=9, learning_rate=0.1, n_estimators=41.............\n",
      "[CV 2/3; 125/225] END depth=9, learning_rate=0.1, n_estimators=41; total time=   2.9s\n",
      "[CV 3/3; 125/225] START depth=9, learning_rate=0.1, n_estimators=41.............\n",
      "[CV 3/3; 125/225] END depth=9, learning_rate=0.1, n_estimators=41; total time=   3.2s\n",
      "[CV 1/3; 126/225] START depth=9, learning_rate=0.5, n_estimators=1..............\n",
      "[CV 1/3; 126/225] END depth=9, learning_rate=0.5, n_estimators=1; total time=   1.8s\n",
      "[CV 2/3; 126/225] START depth=9, learning_rate=0.5, n_estimators=1..............\n",
      "[CV 2/3; 126/225] END depth=9, learning_rate=0.5, n_estimators=1; total time=   1.9s\n",
      "[CV 3/3; 126/225] START depth=9, learning_rate=0.5, n_estimators=1..............\n",
      "[CV 3/3; 126/225] END depth=9, learning_rate=0.5, n_estimators=1; total time=   1.7s\n",
      "[CV 1/3; 127/225] START depth=9, learning_rate=0.5, n_estimators=11.............\n",
      "[CV 1/3; 127/225] END depth=9, learning_rate=0.5, n_estimators=11; total time=   2.1s\n",
      "[CV 2/3; 127/225] START depth=9, learning_rate=0.5, n_estimators=11.............\n",
      "[CV 2/3; 127/225] END depth=9, learning_rate=0.5, n_estimators=11; total time=   2.1s\n",
      "[CV 3/3; 127/225] START depth=9, learning_rate=0.5, n_estimators=11.............\n",
      "[CV 3/3; 127/225] END depth=9, learning_rate=0.5, n_estimators=11; total time=   2.1s\n",
      "[CV 1/3; 128/225] START depth=9, learning_rate=0.5, n_estimators=21.............\n",
      "[CV 1/3; 128/225] END depth=9, learning_rate=0.5, n_estimators=21; total time=   2.5s\n",
      "[CV 2/3; 128/225] START depth=9, learning_rate=0.5, n_estimators=21.............\n",
      "[CV 2/3; 128/225] END depth=9, learning_rate=0.5, n_estimators=21; total time=   2.5s\n",
      "[CV 3/3; 128/225] START depth=9, learning_rate=0.5, n_estimators=21.............\n",
      "[CV 3/3; 128/225] END depth=9, learning_rate=0.5, n_estimators=21; total time=   2.5s\n",
      "[CV 1/3; 129/225] START depth=9, learning_rate=0.5, n_estimators=31.............\n",
      "[CV 1/3; 129/225] END depth=9, learning_rate=0.5, n_estimators=31; total time=   2.9s\n",
      "[CV 2/3; 129/225] START depth=9, learning_rate=0.5, n_estimators=31.............\n",
      "[CV 2/3; 129/225] END depth=9, learning_rate=0.5, n_estimators=31; total time=   2.7s\n",
      "[CV 3/3; 129/225] START depth=9, learning_rate=0.5, n_estimators=31.............\n",
      "[CV 3/3; 129/225] END depth=9, learning_rate=0.5, n_estimators=31; total time=   2.7s\n",
      "[CV 1/3; 130/225] START depth=9, learning_rate=0.5, n_estimators=41.............\n",
      "[CV 1/3; 130/225] END depth=9, learning_rate=0.5, n_estimators=41; total time=   3.0s\n",
      "[CV 2/3; 130/225] START depth=9, learning_rate=0.5, n_estimators=41.............\n",
      "[CV 2/3; 130/225] END depth=9, learning_rate=0.5, n_estimators=41; total time=   3.2s\n",
      "[CV 3/3; 130/225] START depth=9, learning_rate=0.5, n_estimators=41.............\n",
      "[CV 3/3; 130/225] END depth=9, learning_rate=0.5, n_estimators=41; total time=   3.2s\n",
      "[CV 1/3; 131/225] START depth=9, learning_rate=0.8, n_estimators=1..............\n",
      "[CV 1/3; 131/225] END depth=9, learning_rate=0.8, n_estimators=1; total time=   1.8s\n",
      "[CV 2/3; 131/225] START depth=9, learning_rate=0.8, n_estimators=1..............\n",
      "[CV 2/3; 131/225] END depth=9, learning_rate=0.8, n_estimators=1; total time=   1.8s\n",
      "[CV 3/3; 131/225] START depth=9, learning_rate=0.8, n_estimators=1..............\n",
      "[CV 3/3; 131/225] END depth=9, learning_rate=0.8, n_estimators=1; total time=   2.2s\n",
      "[CV 1/3; 132/225] START depth=9, learning_rate=0.8, n_estimators=11.............\n",
      "[CV 1/3; 132/225] END depth=9, learning_rate=0.8, n_estimators=11; total time=   2.3s\n",
      "[CV 2/3; 132/225] START depth=9, learning_rate=0.8, n_estimators=11.............\n",
      "[CV 2/3; 132/225] END depth=9, learning_rate=0.8, n_estimators=11; total time=   2.8s\n",
      "[CV 3/3; 132/225] START depth=9, learning_rate=0.8, n_estimators=11.............\n",
      "[CV 3/3; 132/225] END depth=9, learning_rate=0.8, n_estimators=11; total time=   2.6s\n",
      "[CV 1/3; 133/225] START depth=9, learning_rate=0.8, n_estimators=21.............\n",
      "[CV 1/3; 133/225] END depth=9, learning_rate=0.8, n_estimators=21; total time=   2.8s\n",
      "[CV 2/3; 133/225] START depth=9, learning_rate=0.8, n_estimators=21.............\n",
      "[CV 2/3; 133/225] END depth=9, learning_rate=0.8, n_estimators=21; total time=   3.0s\n",
      "[CV 3/3; 133/225] START depth=9, learning_rate=0.8, n_estimators=21.............\n",
      "[CV 3/3; 133/225] END depth=9, learning_rate=0.8, n_estimators=21; total time=   2.7s\n",
      "[CV 1/3; 134/225] START depth=9, learning_rate=0.8, n_estimators=31.............\n",
      "[CV 1/3; 134/225] END depth=9, learning_rate=0.8, n_estimators=31; total time=   2.9s\n",
      "[CV 2/3; 134/225] START depth=9, learning_rate=0.8, n_estimators=31.............\n",
      "[CV 2/3; 134/225] END depth=9, learning_rate=0.8, n_estimators=31; total time=   3.0s\n",
      "[CV 3/3; 134/225] START depth=9, learning_rate=0.8, n_estimators=31.............\n",
      "[CV 3/3; 134/225] END depth=9, learning_rate=0.8, n_estimators=31; total time=   3.6s\n",
      "[CV 1/3; 135/225] START depth=9, learning_rate=0.8, n_estimators=41.............\n",
      "[CV 1/3; 135/225] END depth=9, learning_rate=0.8, n_estimators=41; total time=   4.0s\n",
      "[CV 2/3; 135/225] START depth=9, learning_rate=0.8, n_estimators=41.............\n",
      "[CV 2/3; 135/225] END depth=9, learning_rate=0.8, n_estimators=41; total time=   3.6s\n",
      "[CV 3/3; 135/225] START depth=9, learning_rate=0.8, n_estimators=41.............\n",
      "[CV 3/3; 135/225] END depth=9, learning_rate=0.8, n_estimators=41; total time=   3.9s\n",
      "[CV 1/3; 136/225] START depth=10, learning_rate=0.1, n_estimators=1.............\n",
      "[CV 1/3; 136/225] END depth=10, learning_rate=0.1, n_estimators=1; total time=   2.2s\n",
      "[CV 2/3; 136/225] START depth=10, learning_rate=0.1, n_estimators=1.............\n",
      "[CV 2/3; 136/225] END depth=10, learning_rate=0.1, n_estimators=1; total time=   2.3s\n",
      "[CV 3/3; 136/225] START depth=10, learning_rate=0.1, n_estimators=1.............\n",
      "[CV 3/3; 136/225] END depth=10, learning_rate=0.1, n_estimators=1; total time=   2.0s\n",
      "[CV 1/3; 137/225] START depth=10, learning_rate=0.1, n_estimators=11............\n",
      "[CV 1/3; 137/225] END depth=10, learning_rate=0.1, n_estimators=11; total time=   2.9s\n",
      "[CV 2/3; 137/225] START depth=10, learning_rate=0.1, n_estimators=11............\n",
      "[CV 2/3; 137/225] END depth=10, learning_rate=0.1, n_estimators=11; total time=   4.0s\n",
      "[CV 3/3; 137/225] START depth=10, learning_rate=0.1, n_estimators=11............\n",
      "[CV 3/3; 137/225] END depth=10, learning_rate=0.1, n_estimators=11; total time=   2.5s\n",
      "[CV 1/3; 138/225] START depth=10, learning_rate=0.1, n_estimators=21............\n",
      "[CV 1/3; 138/225] END depth=10, learning_rate=0.1, n_estimators=21; total time=   3.0s\n",
      "[CV 2/3; 138/225] START depth=10, learning_rate=0.1, n_estimators=21............\n",
      "[CV 2/3; 138/225] END depth=10, learning_rate=0.1, n_estimators=21; total time=   4.4s\n",
      "[CV 3/3; 138/225] START depth=10, learning_rate=0.1, n_estimators=21............\n",
      "[CV 3/3; 138/225] END depth=10, learning_rate=0.1, n_estimators=21; total time=   4.6s\n",
      "[CV 1/3; 139/225] START depth=10, learning_rate=0.1, n_estimators=31............\n",
      "[CV 1/3; 139/225] END depth=10, learning_rate=0.1, n_estimators=31; total time=   4.9s\n",
      "[CV 2/3; 139/225] START depth=10, learning_rate=0.1, n_estimators=31............\n",
      "[CV 2/3; 139/225] END depth=10, learning_rate=0.1, n_estimators=31; total time=   3.3s\n",
      "[CV 3/3; 139/225] START depth=10, learning_rate=0.1, n_estimators=31............\n",
      "[CV 3/3; 139/225] END depth=10, learning_rate=0.1, n_estimators=31; total time=   3.9s\n",
      "[CV 1/3; 140/225] START depth=10, learning_rate=0.1, n_estimators=41............\n",
      "[CV 1/3; 140/225] END depth=10, learning_rate=0.1, n_estimators=41; total time=   4.3s\n",
      "[CV 2/3; 140/225] START depth=10, learning_rate=0.1, n_estimators=41............\n",
      "[CV 2/3; 140/225] END depth=10, learning_rate=0.1, n_estimators=41; total time=   4.0s\n",
      "[CV 3/3; 140/225] START depth=10, learning_rate=0.1, n_estimators=41............\n",
      "[CV 3/3; 140/225] END depth=10, learning_rate=0.1, n_estimators=41; total time=   3.9s\n",
      "[CV 1/3; 141/225] START depth=10, learning_rate=0.5, n_estimators=1.............\n",
      "[CV 1/3; 141/225] END depth=10, learning_rate=0.5, n_estimators=1; total time=   2.1s\n",
      "[CV 2/3; 141/225] START depth=10, learning_rate=0.5, n_estimators=1.............\n",
      "[CV 2/3; 141/225] END depth=10, learning_rate=0.5, n_estimators=1; total time=   1.9s\n",
      "[CV 3/3; 141/225] START depth=10, learning_rate=0.5, n_estimators=1.............\n",
      "[CV 3/3; 141/225] END depth=10, learning_rate=0.5, n_estimators=1; total time=   2.0s\n",
      "[CV 1/3; 142/225] START depth=10, learning_rate=0.5, n_estimators=11............\n",
      "[CV 1/3; 142/225] END depth=10, learning_rate=0.5, n_estimators=11; total time=   5.2s\n",
      "[CV 2/3; 142/225] START depth=10, learning_rate=0.5, n_estimators=11............\n",
      "[CV 2/3; 142/225] END depth=10, learning_rate=0.5, n_estimators=11; total time=   2.5s\n",
      "[CV 3/3; 142/225] START depth=10, learning_rate=0.5, n_estimators=11............\n",
      "[CV 3/3; 142/225] END depth=10, learning_rate=0.5, n_estimators=11; total time=   2.5s\n",
      "[CV 1/3; 143/225] START depth=10, learning_rate=0.5, n_estimators=21............\n",
      "[CV 1/3; 143/225] END depth=10, learning_rate=0.5, n_estimators=21; total time=   3.1s\n",
      "[CV 2/3; 143/225] START depth=10, learning_rate=0.5, n_estimators=21............\n",
      "[CV 2/3; 143/225] END depth=10, learning_rate=0.5, n_estimators=21; total time=   3.3s\n",
      "[CV 3/3; 143/225] START depth=10, learning_rate=0.5, n_estimators=21............\n",
      "[CV 3/3; 143/225] END depth=10, learning_rate=0.5, n_estimators=21; total time=   3.1s\n",
      "[CV 1/3; 144/225] START depth=10, learning_rate=0.5, n_estimators=31............\n",
      "[CV 1/3; 144/225] END depth=10, learning_rate=0.5, n_estimators=31; total time=   3.7s\n",
      "[CV 2/3; 144/225] START depth=10, learning_rate=0.5, n_estimators=31............\n",
      "[CV 2/3; 144/225] END depth=10, learning_rate=0.5, n_estimators=31; total time=   3.3s\n",
      "[CV 3/3; 144/225] START depth=10, learning_rate=0.5, n_estimators=31............\n",
      "[CV 3/3; 144/225] END depth=10, learning_rate=0.5, n_estimators=31; total time=   3.5s\n",
      "[CV 1/3; 145/225] START depth=10, learning_rate=0.5, n_estimators=41............\n",
      "[CV 1/3; 145/225] END depth=10, learning_rate=0.5, n_estimators=41; total time=   4.0s\n",
      "[CV 2/3; 145/225] START depth=10, learning_rate=0.5, n_estimators=41............\n",
      "[CV 2/3; 145/225] END depth=10, learning_rate=0.5, n_estimators=41; total time=   4.1s\n",
      "[CV 3/3; 145/225] START depth=10, learning_rate=0.5, n_estimators=41............\n",
      "[CV 3/3; 145/225] END depth=10, learning_rate=0.5, n_estimators=41; total time=   4.4s\n",
      "[CV 1/3; 146/225] START depth=10, learning_rate=0.8, n_estimators=1.............\n",
      "[CV 1/3; 146/225] END depth=10, learning_rate=0.8, n_estimators=1; total time=   1.9s\n",
      "[CV 2/3; 146/225] START depth=10, learning_rate=0.8, n_estimators=1.............\n",
      "[CV 2/3; 146/225] END depth=10, learning_rate=0.8, n_estimators=1; total time=   1.9s\n",
      "[CV 3/3; 146/225] START depth=10, learning_rate=0.8, n_estimators=1.............\n",
      "[CV 3/3; 146/225] END depth=10, learning_rate=0.8, n_estimators=1; total time=   2.0s\n",
      "[CV 1/3; 147/225] START depth=10, learning_rate=0.8, n_estimators=11............\n",
      "[CV 1/3; 147/225] END depth=10, learning_rate=0.8, n_estimators=11; total time=   2.6s\n",
      "[CV 2/3; 147/225] START depth=10, learning_rate=0.8, n_estimators=11............\n",
      "[CV 2/3; 147/225] END depth=10, learning_rate=0.8, n_estimators=11; total time=   2.3s\n",
      "[CV 3/3; 147/225] START depth=10, learning_rate=0.8, n_estimators=11............\n",
      "[CV 3/3; 147/225] END depth=10, learning_rate=0.8, n_estimators=11; total time=   2.7s\n",
      "[CV 1/3; 148/225] START depth=10, learning_rate=0.8, n_estimators=21............\n",
      "[CV 1/3; 148/225] END depth=10, learning_rate=0.8, n_estimators=21; total time=   3.9s\n",
      "[CV 2/3; 148/225] START depth=10, learning_rate=0.8, n_estimators=21............\n",
      "[CV 2/3; 148/225] END depth=10, learning_rate=0.8, n_estimators=21; total time=   2.8s\n",
      "[CV 3/3; 148/225] START depth=10, learning_rate=0.8, n_estimators=21............\n",
      "[CV 3/3; 148/225] END depth=10, learning_rate=0.8, n_estimators=21; total time=   3.2s\n",
      "[CV 1/3; 149/225] START depth=10, learning_rate=0.8, n_estimators=31............\n",
      "[CV 1/3; 149/225] END depth=10, learning_rate=0.8, n_estimators=31; total time=   3.9s\n",
      "[CV 2/3; 149/225] START depth=10, learning_rate=0.8, n_estimators=31............\n",
      "[CV 2/3; 149/225] END depth=10, learning_rate=0.8, n_estimators=31; total time=   4.0s\n",
      "[CV 3/3; 149/225] START depth=10, learning_rate=0.8, n_estimators=31............\n",
      "[CV 3/3; 149/225] END depth=10, learning_rate=0.8, n_estimators=31; total time=   3.4s\n",
      "[CV 1/3; 150/225] START depth=10, learning_rate=0.8, n_estimators=41............\n",
      "[CV 1/3; 150/225] END depth=10, learning_rate=0.8, n_estimators=41; total time=   3.9s\n",
      "[CV 2/3; 150/225] START depth=10, learning_rate=0.8, n_estimators=41............\n",
      "[CV 2/3; 150/225] END depth=10, learning_rate=0.8, n_estimators=41; total time=   4.1s\n",
      "[CV 3/3; 150/225] START depth=10, learning_rate=0.8, n_estimators=41............\n",
      "[CV 3/3; 150/225] END depth=10, learning_rate=0.8, n_estimators=41; total time=   3.8s\n",
      "[CV 1/3; 151/225] START depth=11, learning_rate=0.1, n_estimators=1.............\n",
      "[CV 1/3; 151/225] END depth=11, learning_rate=0.1, n_estimators=1; total time=   2.9s\n",
      "[CV 2/3; 151/225] START depth=11, learning_rate=0.1, n_estimators=1.............\n",
      "[CV 2/3; 151/225] END depth=11, learning_rate=0.1, n_estimators=1; total time=   2.0s\n",
      "[CV 3/3; 151/225] START depth=11, learning_rate=0.1, n_estimators=1.............\n",
      "[CV 3/3; 151/225] END depth=11, learning_rate=0.1, n_estimators=1; total time=   1.9s\n",
      "[CV 1/3; 152/225] START depth=11, learning_rate=0.1, n_estimators=11............\n",
      "[CV 1/3; 152/225] END depth=11, learning_rate=0.1, n_estimators=11; total time=   3.0s\n",
      "[CV 2/3; 152/225] START depth=11, learning_rate=0.1, n_estimators=11............\n",
      "[CV 2/3; 152/225] END depth=11, learning_rate=0.1, n_estimators=11; total time=   3.1s\n",
      "[CV 3/3; 152/225] START depth=11, learning_rate=0.1, n_estimators=11............\n",
      "[CV 3/3; 152/225] END depth=11, learning_rate=0.1, n_estimators=11; total time=   2.6s\n",
      "[CV 1/3; 153/225] START depth=11, learning_rate=0.1, n_estimators=21............\n",
      "[CV 1/3; 153/225] END depth=11, learning_rate=0.1, n_estimators=21; total time=   3.0s\n",
      "[CV 2/3; 153/225] START depth=11, learning_rate=0.1, n_estimators=21............\n",
      "[CV 2/3; 153/225] END depth=11, learning_rate=0.1, n_estimators=21; total time=   3.7s\n",
      "[CV 3/3; 153/225] START depth=11, learning_rate=0.1, n_estimators=21............\n",
      "[CV 3/3; 153/225] END depth=11, learning_rate=0.1, n_estimators=21; total time=   3.3s\n",
      "[CV 1/3; 154/225] START depth=11, learning_rate=0.1, n_estimators=31............\n",
      "[CV 1/3; 154/225] END depth=11, learning_rate=0.1, n_estimators=31; total time=   3.9s\n",
      "[CV 2/3; 154/225] START depth=11, learning_rate=0.1, n_estimators=31............\n",
      "[CV 2/3; 154/225] END depth=11, learning_rate=0.1, n_estimators=31; total time=   3.7s\n",
      "[CV 3/3; 154/225] START depth=11, learning_rate=0.1, n_estimators=31............\n",
      "[CV 3/3; 154/225] END depth=11, learning_rate=0.1, n_estimators=31; total time=   3.9s\n",
      "[CV 1/3; 155/225] START depth=11, learning_rate=0.1, n_estimators=41............\n",
      "[CV 1/3; 155/225] END depth=11, learning_rate=0.1, n_estimators=41; total time=   4.8s\n",
      "[CV 2/3; 155/225] START depth=11, learning_rate=0.1, n_estimators=41............\n",
      "[CV 2/3; 155/225] END depth=11, learning_rate=0.1, n_estimators=41; total time=   4.7s\n",
      "[CV 3/3; 155/225] START depth=11, learning_rate=0.1, n_estimators=41............\n",
      "[CV 3/3; 155/225] END depth=11, learning_rate=0.1, n_estimators=41; total time=   5.0s\n",
      "[CV 1/3; 156/225] START depth=11, learning_rate=0.5, n_estimators=1.............\n",
      "[CV 1/3; 156/225] END depth=11, learning_rate=0.5, n_estimators=1; total time=   1.9s\n",
      "[CV 2/3; 156/225] START depth=11, learning_rate=0.5, n_estimators=1.............\n",
      "[CV 2/3; 156/225] END depth=11, learning_rate=0.5, n_estimators=1; total time=   1.9s\n",
      "[CV 3/3; 156/225] START depth=11, learning_rate=0.5, n_estimators=1.............\n",
      "[CV 3/3; 156/225] END depth=11, learning_rate=0.5, n_estimators=1; total time=   1.8s\n",
      "[CV 1/3; 157/225] START depth=11, learning_rate=0.5, n_estimators=11............\n",
      "[CV 1/3; 157/225] END depth=11, learning_rate=0.5, n_estimators=11; total time=   3.0s\n",
      "[CV 2/3; 157/225] START depth=11, learning_rate=0.5, n_estimators=11............\n",
      "[CV 2/3; 157/225] END depth=11, learning_rate=0.5, n_estimators=11; total time=   2.8s\n",
      "[CV 3/3; 157/225] START depth=11, learning_rate=0.5, n_estimators=11............\n",
      "[CV 3/3; 157/225] END depth=11, learning_rate=0.5, n_estimators=11; total time=   2.9s\n",
      "[CV 1/3; 158/225] START depth=11, learning_rate=0.5, n_estimators=21............\n",
      "[CV 1/3; 158/225] END depth=11, learning_rate=0.5, n_estimators=21; total time=   3.7s\n",
      "[CV 2/3; 158/225] START depth=11, learning_rate=0.5, n_estimators=21............\n",
      "[CV 2/3; 158/225] END depth=11, learning_rate=0.5, n_estimators=21; total time=   3.5s\n",
      "[CV 3/3; 158/225] START depth=11, learning_rate=0.5, n_estimators=21............\n",
      "[CV 3/3; 158/225] END depth=11, learning_rate=0.5, n_estimators=21; total time=   3.5s\n",
      "[CV 1/3; 159/225] START depth=11, learning_rate=0.5, n_estimators=31............\n",
      "[CV 1/3; 159/225] END depth=11, learning_rate=0.5, n_estimators=31; total time=   4.2s\n",
      "[CV 2/3; 159/225] START depth=11, learning_rate=0.5, n_estimators=31............\n",
      "[CV 2/3; 159/225] END depth=11, learning_rate=0.5, n_estimators=31; total time=   3.7s\n",
      "[CV 3/3; 159/225] START depth=11, learning_rate=0.5, n_estimators=31............\n",
      "[CV 3/3; 159/225] END depth=11, learning_rate=0.5, n_estimators=31; total time=   4.1s\n",
      "[CV 1/3; 160/225] START depth=11, learning_rate=0.5, n_estimators=41............\n",
      "[CV 1/3; 160/225] END depth=11, learning_rate=0.5, n_estimators=41; total time=   4.6s\n",
      "[CV 2/3; 160/225] START depth=11, learning_rate=0.5, n_estimators=41............\n",
      "[CV 2/3; 160/225] END depth=11, learning_rate=0.5, n_estimators=41; total time=   4.9s\n",
      "[CV 3/3; 160/225] START depth=11, learning_rate=0.5, n_estimators=41............\n",
      "[CV 3/3; 160/225] END depth=11, learning_rate=0.5, n_estimators=41; total time=   4.5s\n",
      "[CV 1/3; 161/225] START depth=11, learning_rate=0.8, n_estimators=1.............\n",
      "[CV 1/3; 161/225] END depth=11, learning_rate=0.8, n_estimators=1; total time=   2.1s\n",
      "[CV 2/3; 161/225] START depth=11, learning_rate=0.8, n_estimators=1.............\n",
      "[CV 2/3; 161/225] END depth=11, learning_rate=0.8, n_estimators=1; total time=   1.9s\n",
      "[CV 3/3; 161/225] START depth=11, learning_rate=0.8, n_estimators=1.............\n",
      "[CV 3/3; 161/225] END depth=11, learning_rate=0.8, n_estimators=1; total time=   1.9s\n",
      "[CV 1/3; 162/225] START depth=11, learning_rate=0.8, n_estimators=11............\n",
      "[CV 1/3; 162/225] END depth=11, learning_rate=0.8, n_estimators=11; total time=   2.7s\n",
      "[CV 2/3; 162/225] START depth=11, learning_rate=0.8, n_estimators=11............\n",
      "[CV 2/3; 162/225] END depth=11, learning_rate=0.8, n_estimators=11; total time=   2.4s\n",
      "[CV 3/3; 162/225] START depth=11, learning_rate=0.8, n_estimators=11............\n",
      "[CV 3/3; 162/225] END depth=11, learning_rate=0.8, n_estimators=11; total time=   2.7s\n",
      "[CV 1/3; 163/225] START depth=11, learning_rate=0.8, n_estimators=21............\n",
      "[CV 1/3; 163/225] END depth=11, learning_rate=0.8, n_estimators=21; total time=   3.3s\n",
      "[CV 2/3; 163/225] START depth=11, learning_rate=0.8, n_estimators=21............\n",
      "[CV 2/3; 163/225] END depth=11, learning_rate=0.8, n_estimators=21; total time=   3.3s\n",
      "[CV 3/3; 163/225] START depth=11, learning_rate=0.8, n_estimators=21............\n",
      "[CV 3/3; 163/225] END depth=11, learning_rate=0.8, n_estimators=21; total time=   3.3s\n",
      "[CV 1/3; 164/225] START depth=11, learning_rate=0.8, n_estimators=31............\n",
      "[CV 1/3; 164/225] END depth=11, learning_rate=0.8, n_estimators=31; total time=   3.8s\n",
      "[CV 2/3; 164/225] START depth=11, learning_rate=0.8, n_estimators=31............\n",
      "[CV 2/3; 164/225] END depth=11, learning_rate=0.8, n_estimators=31; total time=   3.7s\n",
      "[CV 3/3; 164/225] START depth=11, learning_rate=0.8, n_estimators=31............\n",
      "[CV 3/3; 164/225] END depth=11, learning_rate=0.8, n_estimators=31; total time=   4.0s\n",
      "[CV 1/3; 165/225] START depth=11, learning_rate=0.8, n_estimators=41............\n",
      "[CV 1/3; 165/225] END depth=11, learning_rate=0.8, n_estimators=41; total time=   4.7s\n",
      "[CV 2/3; 165/225] START depth=11, learning_rate=0.8, n_estimators=41............\n",
      "[CV 2/3; 165/225] END depth=11, learning_rate=0.8, n_estimators=41; total time=   4.8s\n",
      "[CV 3/3; 165/225] START depth=11, learning_rate=0.8, n_estimators=41............\n",
      "[CV 3/3; 165/225] END depth=11, learning_rate=0.8, n_estimators=41; total time=   4.4s\n",
      "[CV 1/3; 166/225] START depth=12, learning_rate=0.1, n_estimators=1.............\n",
      "[CV 1/3; 166/225] END depth=12, learning_rate=0.1, n_estimators=1; total time=   2.2s\n",
      "[CV 2/3; 166/225] START depth=12, learning_rate=0.1, n_estimators=1.............\n",
      "[CV 2/3; 166/225] END depth=12, learning_rate=0.1, n_estimators=1; total time=   2.2s\n",
      "[CV 3/3; 166/225] START depth=12, learning_rate=0.1, n_estimators=1.............\n",
      "[CV 3/3; 166/225] END depth=12, learning_rate=0.1, n_estimators=1; total time=   1.9s\n",
      "[CV 1/3; 167/225] START depth=12, learning_rate=0.1, n_estimators=11............\n",
      "[CV 1/3; 167/225] END depth=12, learning_rate=0.1, n_estimators=11; total time=  13.2s\n",
      "[CV 2/3; 167/225] START depth=12, learning_rate=0.1, n_estimators=11............\n",
      "[CV 2/3; 167/225] END depth=12, learning_rate=0.1, n_estimators=11; total time=   3.0s\n",
      "[CV 3/3; 167/225] START depth=12, learning_rate=0.1, n_estimators=11............\n",
      "[CV 3/3; 167/225] END depth=12, learning_rate=0.1, n_estimators=11; total time=   3.2s\n",
      "[CV 1/3; 168/225] START depth=12, learning_rate=0.1, n_estimators=21............\n",
      "[CV 1/3; 168/225] END depth=12, learning_rate=0.1, n_estimators=21; total time=   3.6s\n",
      "[CV 2/3; 168/225] START depth=12, learning_rate=0.1, n_estimators=21............\n",
      "[CV 2/3; 168/225] END depth=12, learning_rate=0.1, n_estimators=21; total time=   3.6s\n",
      "[CV 3/3; 168/225] START depth=12, learning_rate=0.1, n_estimators=21............\n",
      "[CV 3/3; 168/225] END depth=12, learning_rate=0.1, n_estimators=21; total time=   3.8s\n",
      "[CV 1/3; 169/225] START depth=12, learning_rate=0.1, n_estimators=31............\n",
      "[CV 1/3; 169/225] END depth=12, learning_rate=0.1, n_estimators=31; total time=   4.7s\n",
      "[CV 2/3; 169/225] START depth=12, learning_rate=0.1, n_estimators=31............\n",
      "[CV 2/3; 169/225] END depth=12, learning_rate=0.1, n_estimators=31; total time=   4.7s\n",
      "[CV 3/3; 169/225] START depth=12, learning_rate=0.1, n_estimators=31............\n",
      "[CV 3/3; 169/225] END depth=12, learning_rate=0.1, n_estimators=31; total time=   4.6s\n",
      "[CV 1/3; 170/225] START depth=12, learning_rate=0.1, n_estimators=41............\n",
      "[CV 1/3; 170/225] END depth=12, learning_rate=0.1, n_estimators=41; total time=   5.4s\n",
      "[CV 2/3; 170/225] START depth=12, learning_rate=0.1, n_estimators=41............\n",
      "[CV 2/3; 170/225] END depth=12, learning_rate=0.1, n_estimators=41; total time=   5.3s\n",
      "[CV 3/3; 170/225] START depth=12, learning_rate=0.1, n_estimators=41............\n",
      "[CV 3/3; 170/225] END depth=12, learning_rate=0.1, n_estimators=41; total time=   6.1s\n",
      "[CV 1/3; 171/225] START depth=12, learning_rate=0.5, n_estimators=1.............\n",
      "[CV 1/3; 171/225] END depth=12, learning_rate=0.5, n_estimators=1; total time=   1.8s\n",
      "[CV 2/3; 171/225] START depth=12, learning_rate=0.5, n_estimators=1.............\n",
      "[CV 2/3; 171/225] END depth=12, learning_rate=0.5, n_estimators=1; total time=   1.9s\n",
      "[CV 3/3; 171/225] START depth=12, learning_rate=0.5, n_estimators=1.............\n",
      "[CV 3/3; 171/225] END depth=12, learning_rate=0.5, n_estimators=1; total time=   1.9s\n",
      "[CV 1/3; 172/225] START depth=12, learning_rate=0.5, n_estimators=11............\n",
      "[CV 1/3; 172/225] END depth=12, learning_rate=0.5, n_estimators=11; total time=   2.8s\n",
      "[CV 2/3; 172/225] START depth=12, learning_rate=0.5, n_estimators=11............\n",
      "[CV 2/3; 172/225] END depth=12, learning_rate=0.5, n_estimators=11; total time=   6.2s\n",
      "[CV 3/3; 172/225] START depth=12, learning_rate=0.5, n_estimators=11............\n",
      "[CV 3/3; 172/225] END depth=12, learning_rate=0.5, n_estimators=11; total time=   3.1s\n",
      "[CV 1/3; 173/225] START depth=12, learning_rate=0.5, n_estimators=21............\n",
      "[CV 1/3; 173/225] END depth=12, learning_rate=0.5, n_estimators=21; total time=   3.7s\n",
      "[CV 2/3; 173/225] START depth=12, learning_rate=0.5, n_estimators=21............\n",
      "[CV 2/3; 173/225] END depth=12, learning_rate=0.5, n_estimators=21; total time=   3.6s\n",
      "[CV 3/3; 173/225] START depth=12, learning_rate=0.5, n_estimators=21............\n",
      "[CV 3/3; 173/225] END depth=12, learning_rate=0.5, n_estimators=21; total time=   3.7s\n",
      "[CV 1/3; 174/225] START depth=12, learning_rate=0.5, n_estimators=31............\n",
      "[CV 1/3; 174/225] END depth=12, learning_rate=0.5, n_estimators=31; total time=   4.8s\n",
      "[CV 2/3; 174/225] START depth=12, learning_rate=0.5, n_estimators=31............\n",
      "[CV 2/3; 174/225] END depth=12, learning_rate=0.5, n_estimators=31; total time=   4.8s\n",
      "[CV 3/3; 174/225] START depth=12, learning_rate=0.5, n_estimators=31............\n",
      "[CV 3/3; 174/225] END depth=12, learning_rate=0.5, n_estimators=31; total time=   4.7s\n",
      "[CV 1/3; 175/225] START depth=12, learning_rate=0.5, n_estimators=41............\n",
      "[CV 1/3; 175/225] END depth=12, learning_rate=0.5, n_estimators=41; total time=   5.3s\n",
      "[CV 2/3; 175/225] START depth=12, learning_rate=0.5, n_estimators=41............\n",
      "[CV 2/3; 175/225] END depth=12, learning_rate=0.5, n_estimators=41; total time=   5.4s\n",
      "[CV 3/3; 175/225] START depth=12, learning_rate=0.5, n_estimators=41............\n",
      "[CV 3/3; 175/225] END depth=12, learning_rate=0.5, n_estimators=41; total time=   5.2s\n",
      "[CV 1/3; 176/225] START depth=12, learning_rate=0.8, n_estimators=1.............\n",
      "[CV 1/3; 176/225] END depth=12, learning_rate=0.8, n_estimators=1; total time=   1.9s\n",
      "[CV 2/3; 176/225] START depth=12, learning_rate=0.8, n_estimators=1.............\n",
      "[CV 2/3; 176/225] END depth=12, learning_rate=0.8, n_estimators=1; total time=   1.7s\n",
      "[CV 3/3; 176/225] START depth=12, learning_rate=0.8, n_estimators=1.............\n",
      "[CV 3/3; 176/225] END depth=12, learning_rate=0.8, n_estimators=1; total time=   2.0s\n",
      "[CV 1/3; 177/225] START depth=12, learning_rate=0.8, n_estimators=11............\n",
      "[CV 1/3; 177/225] END depth=12, learning_rate=0.8, n_estimators=11; total time=   2.9s\n",
      "[CV 2/3; 177/225] START depth=12, learning_rate=0.8, n_estimators=11............\n",
      "[CV 2/3; 177/225] END depth=12, learning_rate=0.8, n_estimators=11; total time=   2.6s\n",
      "[CV 3/3; 177/225] START depth=12, learning_rate=0.8, n_estimators=11............\n",
      "[CV 3/3; 177/225] END depth=12, learning_rate=0.8, n_estimators=11; total time=   2.8s\n",
      "[CV 1/3; 178/225] START depth=12, learning_rate=0.8, n_estimators=21............\n",
      "[CV 1/3; 178/225] END depth=12, learning_rate=0.8, n_estimators=21; total time=   3.7s\n",
      "[CV 2/3; 178/225] START depth=12, learning_rate=0.8, n_estimators=21............\n",
      "[CV 2/3; 178/225] END depth=12, learning_rate=0.8, n_estimators=21; total time=   3.9s\n",
      "[CV 3/3; 178/225] START depth=12, learning_rate=0.8, n_estimators=21............\n",
      "[CV 3/3; 178/225] END depth=12, learning_rate=0.8, n_estimators=21; total time=   3.7s\n",
      "[CV 1/3; 179/225] START depth=12, learning_rate=0.8, n_estimators=31............\n",
      "[CV 1/3; 179/225] END depth=12, learning_rate=0.8, n_estimators=31; total time=   4.9s\n",
      "[CV 2/3; 179/225] START depth=12, learning_rate=0.8, n_estimators=31............\n",
      "[CV 2/3; 179/225] END depth=12, learning_rate=0.8, n_estimators=31; total time=   4.8s\n",
      "[CV 3/3; 179/225] START depth=12, learning_rate=0.8, n_estimators=31............\n",
      "[CV 3/3; 179/225] END depth=12, learning_rate=0.8, n_estimators=31; total time=   4.7s\n",
      "[CV 1/3; 180/225] START depth=12, learning_rate=0.8, n_estimators=41............\n",
      "[CV 1/3; 180/225] END depth=12, learning_rate=0.8, n_estimators=41; total time=   5.4s\n",
      "[CV 2/3; 180/225] START depth=12, learning_rate=0.8, n_estimators=41............\n",
      "[CV 2/3; 180/225] END depth=12, learning_rate=0.8, n_estimators=41; total time=   5.2s\n",
      "[CV 3/3; 180/225] START depth=12, learning_rate=0.8, n_estimators=41............\n",
      "[CV 3/3; 180/225] END depth=12, learning_rate=0.8, n_estimators=41; total time=   5.4s\n",
      "[CV 1/3; 181/225] START depth=13, learning_rate=0.1, n_estimators=1.............\n",
      "[CV 1/3; 181/225] END depth=13, learning_rate=0.1, n_estimators=1; total time=   1.8s\n",
      "[CV 2/3; 181/225] START depth=13, learning_rate=0.1, n_estimators=1.............\n",
      "[CV 2/3; 181/225] END depth=13, learning_rate=0.1, n_estimators=1; total time=   2.1s\n",
      "[CV 3/3; 181/225] START depth=13, learning_rate=0.1, n_estimators=1.............\n",
      "[CV 3/3; 181/225] END depth=13, learning_rate=0.1, n_estimators=1; total time=   1.9s\n",
      "[CV 1/3; 182/225] START depth=13, learning_rate=0.1, n_estimators=11............\n",
      "[CV 1/3; 182/225] END depth=13, learning_rate=0.1, n_estimators=11; total time=   3.1s\n",
      "[CV 2/3; 182/225] START depth=13, learning_rate=0.1, n_estimators=11............\n",
      "[CV 2/3; 182/225] END depth=13, learning_rate=0.1, n_estimators=11; total time=   3.2s\n",
      "[CV 3/3; 182/225] START depth=13, learning_rate=0.1, n_estimators=11............\n",
      "[CV 3/3; 182/225] END depth=13, learning_rate=0.1, n_estimators=11; total time=   3.5s\n",
      "[CV 1/3; 183/225] START depth=13, learning_rate=0.1, n_estimators=21............\n",
      "[CV 1/3; 183/225] END depth=13, learning_rate=0.1, n_estimators=21; total time=   4.6s\n",
      "[CV 2/3; 183/225] START depth=13, learning_rate=0.1, n_estimators=21............\n",
      "[CV 2/3; 183/225] END depth=13, learning_rate=0.1, n_estimators=21; total time=   4.6s\n",
      "[CV 3/3; 183/225] START depth=13, learning_rate=0.1, n_estimators=21............\n",
      "[CV 3/3; 183/225] END depth=13, learning_rate=0.1, n_estimators=21; total time=   5.4s\n",
      "[CV 1/3; 184/225] START depth=13, learning_rate=0.1, n_estimators=31............\n",
      "[CV 1/3; 184/225] END depth=13, learning_rate=0.1, n_estimators=31; total time=   5.8s\n",
      "[CV 2/3; 184/225] START depth=13, learning_rate=0.1, n_estimators=31............\n",
      "[CV 2/3; 184/225] END depth=13, learning_rate=0.1, n_estimators=31; total time=   5.7s\n",
      "[CV 3/3; 184/225] START depth=13, learning_rate=0.1, n_estimators=31............\n",
      "[CV 3/3; 184/225] END depth=13, learning_rate=0.1, n_estimators=31; total time=   6.2s\n",
      "[CV 1/3; 185/225] START depth=13, learning_rate=0.1, n_estimators=41............\n",
      "[CV 1/3; 185/225] END depth=13, learning_rate=0.1, n_estimators=41; total time=   6.9s\n",
      "[CV 2/3; 185/225] START depth=13, learning_rate=0.1, n_estimators=41............\n",
      "[CV 2/3; 185/225] END depth=13, learning_rate=0.1, n_estimators=41; total time=  17.3s\n",
      "[CV 3/3; 185/225] START depth=13, learning_rate=0.1, n_estimators=41............\n",
      "[CV 3/3; 185/225] END depth=13, learning_rate=0.1, n_estimators=41; total time=   7.2s\n",
      "[CV 1/3; 186/225] START depth=13, learning_rate=0.5, n_estimators=1.............\n",
      "[CV 1/3; 186/225] END depth=13, learning_rate=0.5, n_estimators=1; total time=   1.8s\n",
      "[CV 2/3; 186/225] START depth=13, learning_rate=0.5, n_estimators=1.............\n",
      "[CV 2/3; 186/225] END depth=13, learning_rate=0.5, n_estimators=1; total time=   1.9s\n",
      "[CV 3/3; 186/225] START depth=13, learning_rate=0.5, n_estimators=1.............\n",
      "[CV 3/3; 186/225] END depth=13, learning_rate=0.5, n_estimators=1; total time=   2.1s\n",
      "[CV 1/3; 187/225] START depth=13, learning_rate=0.5, n_estimators=11............\n",
      "[CV 1/3; 187/225] END depth=13, learning_rate=0.5, n_estimators=11; total time=   3.4s\n",
      "[CV 2/3; 187/225] START depth=13, learning_rate=0.5, n_estimators=11............\n",
      "[CV 2/3; 187/225] END depth=13, learning_rate=0.5, n_estimators=11; total time=   3.5s\n",
      "[CV 3/3; 187/225] START depth=13, learning_rate=0.5, n_estimators=11............\n",
      "[CV 3/3; 187/225] END depth=13, learning_rate=0.5, n_estimators=11; total time=   3.2s\n",
      "[CV 1/3; 188/225] START depth=13, learning_rate=0.5, n_estimators=21............\n",
      "[CV 1/3; 188/225] END depth=13, learning_rate=0.5, n_estimators=21; total time=   4.8s\n",
      "[CV 2/3; 188/225] START depth=13, learning_rate=0.5, n_estimators=21............\n",
      "[CV 2/3; 188/225] END depth=13, learning_rate=0.5, n_estimators=21; total time=   4.4s\n",
      "[CV 3/3; 188/225] START depth=13, learning_rate=0.5, n_estimators=21............\n",
      "[CV 3/3; 188/225] END depth=13, learning_rate=0.5, n_estimators=21; total time=   4.5s\n",
      "[CV 1/3; 189/225] START depth=13, learning_rate=0.5, n_estimators=31............\n",
      "[CV 1/3; 189/225] END depth=13, learning_rate=0.5, n_estimators=31; total time=   5.6s\n",
      "[CV 2/3; 189/225] START depth=13, learning_rate=0.5, n_estimators=31............\n",
      "[CV 2/3; 189/225] END depth=13, learning_rate=0.5, n_estimators=31; total time=   8.0s\n",
      "[CV 3/3; 189/225] START depth=13, learning_rate=0.5, n_estimators=31............\n",
      "[CV 3/3; 189/225] END depth=13, learning_rate=0.5, n_estimators=31; total time=   5.9s\n",
      "[CV 1/3; 190/225] START depth=13, learning_rate=0.5, n_estimators=41............\n",
      "[CV 1/3; 190/225] END depth=13, learning_rate=0.5, n_estimators=41; total time=   7.2s\n",
      "[CV 2/3; 190/225] START depth=13, learning_rate=0.5, n_estimators=41............\n",
      "[CV 2/3; 190/225] END depth=13, learning_rate=0.5, n_estimators=41; total time=   7.2s\n",
      "[CV 3/3; 190/225] START depth=13, learning_rate=0.5, n_estimators=41............\n",
      "[CV 3/3; 190/225] END depth=13, learning_rate=0.5, n_estimators=41; total time=   7.3s\n",
      "[CV 1/3; 191/225] START depth=13, learning_rate=0.8, n_estimators=1.............\n",
      "[CV 1/3; 191/225] END depth=13, learning_rate=0.8, n_estimators=1; total time=   2.1s\n",
      "[CV 2/3; 191/225] START depth=13, learning_rate=0.8, n_estimators=1.............\n",
      "[CV 2/3; 191/225] END depth=13, learning_rate=0.8, n_estimators=1; total time=   2.3s\n",
      "[CV 3/3; 191/225] START depth=13, learning_rate=0.8, n_estimators=1.............\n",
      "[CV 3/3; 191/225] END depth=13, learning_rate=0.8, n_estimators=1; total time=   2.2s\n",
      "[CV 1/3; 192/225] START depth=13, learning_rate=0.8, n_estimators=11............\n",
      "[CV 1/3; 192/225] END depth=13, learning_rate=0.8, n_estimators=11; total time=   3.4s\n",
      "[CV 2/3; 192/225] START depth=13, learning_rate=0.8, n_estimators=11............\n",
      "[CV 2/3; 192/225] END depth=13, learning_rate=0.8, n_estimators=11; total time=   4.5s\n",
      "[CV 3/3; 192/225] START depth=13, learning_rate=0.8, n_estimators=11............\n",
      "[CV 3/3; 192/225] END depth=13, learning_rate=0.8, n_estimators=11; total time=   3.3s\n",
      "[CV 1/3; 193/225] START depth=13, learning_rate=0.8, n_estimators=21............\n",
      "[CV 1/3; 193/225] END depth=13, learning_rate=0.8, n_estimators=21; total time=   5.4s\n",
      "[CV 2/3; 193/225] START depth=13, learning_rate=0.8, n_estimators=21............\n",
      "[CV 2/3; 193/225] END depth=13, learning_rate=0.8, n_estimators=21; total time=   5.9s\n",
      "[CV 3/3; 193/225] START depth=13, learning_rate=0.8, n_estimators=21............\n",
      "[CV 3/3; 193/225] END depth=13, learning_rate=0.8, n_estimators=21; total time=   5.2s\n",
      "[CV 1/3; 194/225] START depth=13, learning_rate=0.8, n_estimators=31............\n",
      "[CV 1/3; 194/225] END depth=13, learning_rate=0.8, n_estimators=31; total time=   6.1s\n",
      "[CV 2/3; 194/225] START depth=13, learning_rate=0.8, n_estimators=31............\n",
      "[CV 2/3; 194/225] END depth=13, learning_rate=0.8, n_estimators=31; total time=   6.3s\n",
      "[CV 3/3; 194/225] START depth=13, learning_rate=0.8, n_estimators=31............\n",
      "[CV 3/3; 194/225] END depth=13, learning_rate=0.8, n_estimators=31; total time=   6.2s\n",
      "[CV 1/3; 195/225] START depth=13, learning_rate=0.8, n_estimators=41............\n",
      "[CV 1/3; 195/225] END depth=13, learning_rate=0.8, n_estimators=41; total time=   7.5s\n",
      "[CV 2/3; 195/225] START depth=13, learning_rate=0.8, n_estimators=41............\n",
      "[CV 2/3; 195/225] END depth=13, learning_rate=0.8, n_estimators=41; total time=   7.6s\n",
      "[CV 3/3; 195/225] START depth=13, learning_rate=0.8, n_estimators=41............\n",
      "[CV 3/3; 195/225] END depth=13, learning_rate=0.8, n_estimators=41; total time=   7.9s\n",
      "[CV 1/3; 196/225] START depth=14, learning_rate=0.1, n_estimators=1.............\n",
      "[CV 1/3; 196/225] END depth=14, learning_rate=0.1, n_estimators=1; total time=   2.1s\n",
      "[CV 2/3; 196/225] START depth=14, learning_rate=0.1, n_estimators=1.............\n",
      "[CV 2/3; 196/225] END depth=14, learning_rate=0.1, n_estimators=1; total time=   2.1s\n",
      "[CV 3/3; 196/225] START depth=14, learning_rate=0.1, n_estimators=1.............\n",
      "[CV 3/3; 196/225] END depth=14, learning_rate=0.1, n_estimators=1; total time=   2.1s\n",
      "[CV 1/3; 197/225] START depth=14, learning_rate=0.1, n_estimators=11............\n",
      "[CV 1/3; 197/225] END depth=14, learning_rate=0.1, n_estimators=11; total time=   5.0s\n",
      "[CV 2/3; 197/225] START depth=14, learning_rate=0.1, n_estimators=11............\n",
      "[CV 2/3; 197/225] END depth=14, learning_rate=0.1, n_estimators=11; total time=   5.3s\n",
      "[CV 3/3; 197/225] START depth=14, learning_rate=0.1, n_estimators=11............\n",
      "[CV 3/3; 197/225] END depth=14, learning_rate=0.1, n_estimators=11; total time=   5.1s\n",
      "[CV 1/3; 198/225] START depth=14, learning_rate=0.1, n_estimators=21............\n",
      "[CV 1/3; 198/225] END depth=14, learning_rate=0.1, n_estimators=21; total time=   8.1s\n",
      "[CV 2/3; 198/225] START depth=14, learning_rate=0.1, n_estimators=21............\n",
      "[CV 2/3; 198/225] END depth=14, learning_rate=0.1, n_estimators=21; total time=   7.9s\n",
      "[CV 3/3; 198/225] START depth=14, learning_rate=0.1, n_estimators=21............\n",
      "[CV 3/3; 198/225] END depth=14, learning_rate=0.1, n_estimators=21; total time=   8.0s\n",
      "[CV 1/3; 199/225] START depth=14, learning_rate=0.1, n_estimators=31............\n",
      "[CV 1/3; 199/225] END depth=14, learning_rate=0.1, n_estimators=31; total time=  10.9s\n",
      "[CV 2/3; 199/225] START depth=14, learning_rate=0.1, n_estimators=31............\n",
      "[CV 2/3; 199/225] END depth=14, learning_rate=0.1, n_estimators=31; total time=  10.6s\n",
      "[CV 3/3; 199/225] START depth=14, learning_rate=0.1, n_estimators=31............\n",
      "[CV 3/3; 199/225] END depth=14, learning_rate=0.1, n_estimators=31; total time=  10.9s\n",
      "[CV 1/3; 200/225] START depth=14, learning_rate=0.1, n_estimators=41............\n",
      "[CV 1/3; 200/225] END depth=14, learning_rate=0.1, n_estimators=41; total time=  13.5s\n",
      "[CV 2/3; 200/225] START depth=14, learning_rate=0.1, n_estimators=41............\n",
      "[CV 2/3; 200/225] END depth=14, learning_rate=0.1, n_estimators=41; total time=  13.7s\n",
      "[CV 3/3; 200/225] START depth=14, learning_rate=0.1, n_estimators=41............\n",
      "[CV 3/3; 200/225] END depth=14, learning_rate=0.1, n_estimators=41; total time=  14.2s\n",
      "[CV 1/3; 201/225] START depth=14, learning_rate=0.5, n_estimators=1.............\n",
      "[CV 1/3; 201/225] END depth=14, learning_rate=0.5, n_estimators=1; total time=   2.2s\n",
      "[CV 2/3; 201/225] START depth=14, learning_rate=0.5, n_estimators=1.............\n",
      "[CV 2/3; 201/225] END depth=14, learning_rate=0.5, n_estimators=1; total time=   2.8s\n",
      "[CV 3/3; 201/225] START depth=14, learning_rate=0.5, n_estimators=1.............\n",
      "[CV 3/3; 201/225] END depth=14, learning_rate=0.5, n_estimators=1; total time=   2.2s\n",
      "[CV 1/3; 202/225] START depth=14, learning_rate=0.5, n_estimators=11............\n",
      "[CV 1/3; 202/225] END depth=14, learning_rate=0.5, n_estimators=11; total time=   4.9s\n",
      "[CV 2/3; 202/225] START depth=14, learning_rate=0.5, n_estimators=11............\n",
      "[CV 2/3; 202/225] END depth=14, learning_rate=0.5, n_estimators=11; total time=   5.3s\n",
      "[CV 3/3; 202/225] START depth=14, learning_rate=0.5, n_estimators=11............\n",
      "[CV 3/3; 202/225] END depth=14, learning_rate=0.5, n_estimators=11; total time=   5.2s\n",
      "[CV 1/3; 203/225] START depth=14, learning_rate=0.5, n_estimators=21............\n",
      "[CV 1/3; 203/225] END depth=14, learning_rate=0.5, n_estimators=21; total time=   8.4s\n",
      "[CV 2/3; 203/225] START depth=14, learning_rate=0.5, n_estimators=21............\n",
      "[CV 2/3; 203/225] END depth=14, learning_rate=0.5, n_estimators=21; total time=   7.8s\n",
      "[CV 3/3; 203/225] START depth=14, learning_rate=0.5, n_estimators=21............\n",
      "[CV 3/3; 203/225] END depth=14, learning_rate=0.5, n_estimators=21; total time=   8.0s\n",
      "[CV 1/3; 204/225] START depth=14, learning_rate=0.5, n_estimators=31............\n",
      "[CV 1/3; 204/225] END depth=14, learning_rate=0.5, n_estimators=31; total time=  10.6s\n",
      "[CV 2/3; 204/225] START depth=14, learning_rate=0.5, n_estimators=31............\n",
      "[CV 2/3; 204/225] END depth=14, learning_rate=0.5, n_estimators=31; total time=  11.2s\n",
      "[CV 3/3; 204/225] START depth=14, learning_rate=0.5, n_estimators=31............\n",
      "[CV 3/3; 204/225] END depth=14, learning_rate=0.5, n_estimators=31; total time=  12.2s\n",
      "[CV 1/3; 205/225] START depth=14, learning_rate=0.5, n_estimators=41............\n",
      "[CV 1/3; 205/225] END depth=14, learning_rate=0.5, n_estimators=41; total time=  13.8s\n",
      "[CV 2/3; 205/225] START depth=14, learning_rate=0.5, n_estimators=41............\n",
      "[CV 2/3; 205/225] END depth=14, learning_rate=0.5, n_estimators=41; total time=  13.5s\n",
      "[CV 3/3; 205/225] START depth=14, learning_rate=0.5, n_estimators=41............\n",
      "[CV 3/3; 205/225] END depth=14, learning_rate=0.5, n_estimators=41; total time=  13.7s\n",
      "[CV 1/3; 206/225] START depth=14, learning_rate=0.8, n_estimators=1.............\n",
      "[CV 1/3; 206/225] END depth=14, learning_rate=0.8, n_estimators=1; total time=   2.3s\n",
      "[CV 2/3; 206/225] START depth=14, learning_rate=0.8, n_estimators=1.............\n",
      "[CV 2/3; 206/225] END depth=14, learning_rate=0.8, n_estimators=1; total time=   2.3s\n",
      "[CV 3/3; 206/225] START depth=14, learning_rate=0.8, n_estimators=1.............\n",
      "[CV 3/3; 206/225] END depth=14, learning_rate=0.8, n_estimators=1; total time=   2.3s\n",
      "[CV 1/3; 207/225] START depth=14, learning_rate=0.8, n_estimators=11............\n",
      "[CV 1/3; 207/225] END depth=14, learning_rate=0.8, n_estimators=11; total time=   5.6s\n",
      "[CV 2/3; 207/225] START depth=14, learning_rate=0.8, n_estimators=11............\n",
      "[CV 2/3; 207/225] END depth=14, learning_rate=0.8, n_estimators=11; total time=   5.5s\n",
      "[CV 3/3; 207/225] START depth=14, learning_rate=0.8, n_estimators=11............\n",
      "[CV 3/3; 207/225] END depth=14, learning_rate=0.8, n_estimators=11; total time=   5.1s\n",
      "[CV 1/3; 208/225] START depth=14, learning_rate=0.8, n_estimators=21............\n",
      "[CV 1/3; 208/225] END depth=14, learning_rate=0.8, n_estimators=21; total time=   8.4s\n",
      "[CV 2/3; 208/225] START depth=14, learning_rate=0.8, n_estimators=21............\n",
      "[CV 2/3; 208/225] END depth=14, learning_rate=0.8, n_estimators=21; total time=   8.0s\n",
      "[CV 3/3; 208/225] START depth=14, learning_rate=0.8, n_estimators=21............\n",
      "[CV 3/3; 208/225] END depth=14, learning_rate=0.8, n_estimators=21; total time=   8.4s\n",
      "[CV 1/3; 209/225] START depth=14, learning_rate=0.8, n_estimators=31............\n",
      "[CV 1/3; 209/225] END depth=14, learning_rate=0.8, n_estimators=31; total time=  11.1s\n",
      "[CV 2/3; 209/225] START depth=14, learning_rate=0.8, n_estimators=31............\n",
      "[CV 2/3; 209/225] END depth=14, learning_rate=0.8, n_estimators=31; total time=  11.0s\n",
      "[CV 3/3; 209/225] START depth=14, learning_rate=0.8, n_estimators=31............\n",
      "[CV 3/3; 209/225] END depth=14, learning_rate=0.8, n_estimators=31; total time=  11.0s\n",
      "[CV 1/3; 210/225] START depth=14, learning_rate=0.8, n_estimators=41............\n",
      "[CV 1/3; 210/225] END depth=14, learning_rate=0.8, n_estimators=41; total time=  13.6s\n",
      "[CV 2/3; 210/225] START depth=14, learning_rate=0.8, n_estimators=41............\n",
      "[CV 2/3; 210/225] END depth=14, learning_rate=0.8, n_estimators=41; total time=  13.7s\n",
      "[CV 3/3; 210/225] START depth=14, learning_rate=0.8, n_estimators=41............\n",
      "[CV 3/3; 210/225] END depth=14, learning_rate=0.8, n_estimators=41; total time=  14.1s\n",
      "[CV 1/3; 211/225] START depth=15, learning_rate=0.1, n_estimators=1.............\n",
      "[CV 1/3; 211/225] END depth=15, learning_rate=0.1, n_estimators=1; total time=   2.5s\n",
      "[CV 2/3; 211/225] START depth=15, learning_rate=0.1, n_estimators=1.............\n",
      "[CV 2/3; 211/225] END depth=15, learning_rate=0.1, n_estimators=1; total time=   2.5s\n",
      "[CV 3/3; 211/225] START depth=15, learning_rate=0.1, n_estimators=1.............\n",
      "[CV 3/3; 211/225] END depth=15, learning_rate=0.1, n_estimators=1; total time=   2.5s\n",
      "[CV 1/3; 212/225] START depth=15, learning_rate=0.1, n_estimators=11............\n",
      "[CV 1/3; 212/225] END depth=15, learning_rate=0.1, n_estimators=11; total time=   9.1s\n",
      "[CV 2/3; 212/225] START depth=15, learning_rate=0.1, n_estimators=11............\n",
      "[CV 2/3; 212/225] END depth=15, learning_rate=0.1, n_estimators=11; total time=   9.5s\n",
      "[CV 3/3; 212/225] START depth=15, learning_rate=0.1, n_estimators=11............\n",
      "[CV 3/3; 212/225] END depth=15, learning_rate=0.1, n_estimators=11; total time=   8.3s\n",
      "[CV 1/3; 213/225] START depth=15, learning_rate=0.1, n_estimators=21............\n",
      "[CV 1/3; 213/225] END depth=15, learning_rate=0.1, n_estimators=21; total time=  14.2s\n",
      "[CV 2/3; 213/225] START depth=15, learning_rate=0.1, n_estimators=21............\n",
      "[CV 2/3; 213/225] END depth=15, learning_rate=0.1, n_estimators=21; total time=  13.8s\n",
      "[CV 3/3; 213/225] START depth=15, learning_rate=0.1, n_estimators=21............\n",
      "[CV 3/3; 213/225] END depth=15, learning_rate=0.1, n_estimators=21; total time=  13.6s\n",
      "[CV 1/3; 214/225] START depth=15, learning_rate=0.1, n_estimators=31............\n",
      "[CV 1/3; 214/225] END depth=15, learning_rate=0.1, n_estimators=31; total time=  20.5s\n",
      "[CV 2/3; 214/225] START depth=15, learning_rate=0.1, n_estimators=31............\n",
      "[CV 2/3; 214/225] END depth=15, learning_rate=0.1, n_estimators=31; total time=  20.6s\n",
      "[CV 3/3; 214/225] START depth=15, learning_rate=0.1, n_estimators=31............\n",
      "[CV 3/3; 214/225] END depth=15, learning_rate=0.1, n_estimators=31; total time=  19.7s\n",
      "[CV 1/3; 215/225] START depth=15, learning_rate=0.1, n_estimators=41............\n",
      "[CV 1/3; 215/225] END depth=15, learning_rate=0.1, n_estimators=41; total time=  26.8s\n",
      "[CV 2/3; 215/225] START depth=15, learning_rate=0.1, n_estimators=41............\n",
      "[CV 2/3; 215/225] END depth=15, learning_rate=0.1, n_estimators=41; total time=  26.2s\n",
      "[CV 3/3; 215/225] START depth=15, learning_rate=0.1, n_estimators=41............\n",
      "[CV 3/3; 215/225] END depth=15, learning_rate=0.1, n_estimators=41; total time=  25.8s\n",
      "[CV 1/3; 216/225] START depth=15, learning_rate=0.5, n_estimators=1.............\n",
      "[CV 1/3; 216/225] END depth=15, learning_rate=0.5, n_estimators=1; total time=   2.2s\n",
      "[CV 2/3; 216/225] START depth=15, learning_rate=0.5, n_estimators=1.............\n",
      "[CV 2/3; 216/225] END depth=15, learning_rate=0.5, n_estimators=1; total time=   2.3s\n",
      "[CV 3/3; 216/225] START depth=15, learning_rate=0.5, n_estimators=1.............\n",
      "[CV 3/3; 216/225] END depth=15, learning_rate=0.5, n_estimators=1; total time=   2.3s\n",
      "[CV 1/3; 217/225] START depth=15, learning_rate=0.5, n_estimators=11............\n",
      "[CV 1/3; 217/225] END depth=15, learning_rate=0.5, n_estimators=11; total time=   7.9s\n",
      "[CV 2/3; 217/225] START depth=15, learning_rate=0.5, n_estimators=11............\n",
      "[CV 2/3; 217/225] END depth=15, learning_rate=0.5, n_estimators=11; total time=   8.0s\n",
      "[CV 3/3; 217/225] START depth=15, learning_rate=0.5, n_estimators=11............\n",
      "[CV 3/3; 217/225] END depth=15, learning_rate=0.5, n_estimators=11; total time=   7.9s\n",
      "[CV 1/3; 218/225] START depth=15, learning_rate=0.5, n_estimators=21............\n",
      "[CV 1/3; 218/225] END depth=15, learning_rate=0.5, n_estimators=21; total time=  14.0s\n",
      "[CV 2/3; 218/225] START depth=15, learning_rate=0.5, n_estimators=21............\n",
      "[CV 2/3; 218/225] END depth=15, learning_rate=0.5, n_estimators=21; total time=  14.4s\n",
      "[CV 3/3; 218/225] START depth=15, learning_rate=0.5, n_estimators=21............\n",
      "[CV 3/3; 218/225] END depth=15, learning_rate=0.5, n_estimators=21; total time=  14.4s\n",
      "[CV 1/3; 219/225] START depth=15, learning_rate=0.5, n_estimators=31............\n",
      "[CV 1/3; 219/225] END depth=15, learning_rate=0.5, n_estimators=31; total time=  19.4s\n",
      "[CV 2/3; 219/225] START depth=15, learning_rate=0.5, n_estimators=31............\n",
      "[CV 2/3; 219/225] END depth=15, learning_rate=0.5, n_estimators=31; total time=  19.3s\n",
      "[CV 3/3; 219/225] START depth=15, learning_rate=0.5, n_estimators=31............\n",
      "[CV 3/3; 219/225] END depth=15, learning_rate=0.5, n_estimators=31; total time=  19.9s\n",
      "[CV 1/3; 220/225] START depth=15, learning_rate=0.5, n_estimators=41............\n",
      "[CV 1/3; 220/225] END depth=15, learning_rate=0.5, n_estimators=41; total time=  26.3s\n",
      "[CV 2/3; 220/225] START depth=15, learning_rate=0.5, n_estimators=41............\n",
      "[CV 2/3; 220/225] END depth=15, learning_rate=0.5, n_estimators=41; total time=  25.9s\n",
      "[CV 3/3; 220/225] START depth=15, learning_rate=0.5, n_estimators=41............\n",
      "[CV 3/3; 220/225] END depth=15, learning_rate=0.5, n_estimators=41; total time=  26.4s\n",
      "[CV 1/3; 221/225] START depth=15, learning_rate=0.8, n_estimators=1.............\n",
      "[CV 1/3; 221/225] END depth=15, learning_rate=0.8, n_estimators=1; total time=   2.3s\n",
      "[CV 2/3; 221/225] START depth=15, learning_rate=0.8, n_estimators=1.............\n",
      "[CV 2/3; 221/225] END depth=15, learning_rate=0.8, n_estimators=1; total time=   2.3s\n",
      "[CV 3/3; 221/225] START depth=15, learning_rate=0.8, n_estimators=1.............\n",
      "[CV 3/3; 221/225] END depth=15, learning_rate=0.8, n_estimators=1; total time=   2.3s\n",
      "[CV 1/3; 222/225] START depth=15, learning_rate=0.8, n_estimators=11............\n",
      "[CV 1/3; 222/225] END depth=15, learning_rate=0.8, n_estimators=11; total time=   8.4s\n",
      "[CV 2/3; 222/225] START depth=15, learning_rate=0.8, n_estimators=11............\n",
      "[CV 2/3; 222/225] END depth=15, learning_rate=0.8, n_estimators=11; total time=   8.5s\n",
      "[CV 3/3; 222/225] START depth=15, learning_rate=0.8, n_estimators=11............\n",
      "[CV 3/3; 222/225] END depth=15, learning_rate=0.8, n_estimators=11; total time=   8.4s\n",
      "[CV 1/3; 223/225] START depth=15, learning_rate=0.8, n_estimators=21............\n",
      "[CV 1/3; 223/225] END depth=15, learning_rate=0.8, n_estimators=21; total time=  14.4s\n",
      "[CV 2/3; 223/225] START depth=15, learning_rate=0.8, n_estimators=21............\n",
      "[CV 2/3; 223/225] END depth=15, learning_rate=0.8, n_estimators=21; total time=  14.3s\n",
      "[CV 3/3; 223/225] START depth=15, learning_rate=0.8, n_estimators=21............\n",
      "[CV 3/3; 223/225] END depth=15, learning_rate=0.8, n_estimators=21; total time=  14.6s\n",
      "[CV 1/3; 224/225] START depth=15, learning_rate=0.8, n_estimators=31............\n",
      "[CV 1/3; 224/225] END depth=15, learning_rate=0.8, n_estimators=31; total time=  20.6s\n",
      "[CV 2/3; 224/225] START depth=15, learning_rate=0.8, n_estimators=31............\n",
      "[CV 2/3; 224/225] END depth=15, learning_rate=0.8, n_estimators=31; total time=  20.8s\n",
      "[CV 3/3; 224/225] START depth=15, learning_rate=0.8, n_estimators=31............\n",
      "[CV 3/3; 224/225] END depth=15, learning_rate=0.8, n_estimators=31; total time=  20.1s\n",
      "[CV 1/3; 225/225] START depth=15, learning_rate=0.8, n_estimators=41............\n",
      "[CV 1/3; 225/225] END depth=15, learning_rate=0.8, n_estimators=41; total time=  27.0s\n",
      "[CV 2/3; 225/225] START depth=15, learning_rate=0.8, n_estimators=41............\n",
      "[CV 2/3; 225/225] END depth=15, learning_rate=0.8, n_estimators=41; total time=  27.7s\n",
      "[CV 3/3; 225/225] START depth=15, learning_rate=0.8, n_estimators=41............\n",
      "[CV 3/3; 225/225] END depth=15, learning_rate=0.8, n_estimators=41; total time=  27.1s\n",
      "0.8767466383568134\n",
      "CPU times: user 33min 3s, sys: 5min 26s, total: 38min 29s\n",
      "Wall time: 44min 18s\n"
     ]
    }
   ],
   "source": [
    "%%time\n",
    "grid_catboost.fit(features_train_new, target_train_new)\n",
    "print(grid_catboost.best_score_)"
   ]
  },
  {
   "cell_type": "code",
   "execution_count": 47,
   "metadata": {},
   "outputs": [
    {
     "name": "stdout",
     "output_type": "stream",
     "text": [
      "rmse= 1454.538425758973\n",
      "CPU times: user 141 ms, sys: 79 µs, total: 141 ms\n",
      "Wall time: 140 ms\n"
     ]
    }
   ],
   "source": [
    "%%time\n",
    "\n",
    "predictions_valid = grid_catboost.predict(features_train_new)\n",
    "mse = mean_squared_error(target_train_new, predictions_valid)\n",
    "\n",
    "print('rmse=',mse ** 0.5)"
   ]
  },
  {
   "cell_type": "code",
   "execution_count": 48,
   "metadata": {},
   "outputs": [
    {
     "name": "stdout",
     "output_type": "stream",
     "text": [
      "CPU times: user 94 µs, sys: 0 ns, total: 94 µs\n",
      "Wall time: 100 µs\n"
     ]
    }
   ],
   "source": [
    "%%time\n",
    "# модель lightGBM\n",
    "lgbm = LGBMRegressor(boosting_type='gbdt', random_state=STATE, n_estimators=20)\n",
    "param_grid={'max_depth':range(1, 20, 5), 'num_leaves':range(1, 30, 10), 'learning_rate':[0.01, 0.1, 0.5]}\n",
    "grid_lgbm = GridSearchCV(lgbm, param_grid, verbose=10, cv=3, n_jobs=-1)\n",
    "                          #scoring='neg_root_mean_squared_error')"
   ]
  },
  {
   "cell_type": "code",
   "execution_count": 49,
   "metadata": {},
   "outputs": [
    {
     "name": "stdout",
     "output_type": "stream",
     "text": [
      "Fitting 3 folds for each of 36 candidates, totalling 108 fits\n",
      "[CV 1/3; 1/36] START learning_rate=0.01, max_depth=1, num_leaves=1..............\n"
     ]
    },
    {
     "name": "stderr",
     "output_type": "stream",
     "text": [
      "[LightGBM] [Fatal] Check failed: (num_leaves) > (1) at /__w/1/s/python-package/compile/src/io/config_auto.cpp, line 334 .\n",
      "\n"
     ]
    },
    {
     "name": "stdout",
     "output_type": "stream",
     "text": [
      "[CV 1/3; 1/36] END learning_rate=0.01, max_depth=1, num_leaves=1; total time=   0.7s\n",
      "[CV 2/3; 1/36] START learning_rate=0.01, max_depth=1, num_leaves=1..............\n"
     ]
    },
    {
     "name": "stderr",
     "output_type": "stream",
     "text": [
      "[LightGBM] [Fatal] Check failed: (num_leaves) > (1) at /__w/1/s/python-package/compile/src/io/config_auto.cpp, line 334 .\n",
      "\n"
     ]
    },
    {
     "name": "stdout",
     "output_type": "stream",
     "text": [
      "[CV 2/3; 1/36] END learning_rate=0.01, max_depth=1, num_leaves=1; total time=   0.6s\n",
      "[CV 3/3; 1/36] START learning_rate=0.01, max_depth=1, num_leaves=1..............\n"
     ]
    },
    {
     "name": "stderr",
     "output_type": "stream",
     "text": [
      "[LightGBM] [Fatal] Check failed: (num_leaves) > (1) at /__w/1/s/python-package/compile/src/io/config_auto.cpp, line 334 .\n",
      "\n"
     ]
    },
    {
     "name": "stdout",
     "output_type": "stream",
     "text": [
      "[CV 3/3; 1/36] END learning_rate=0.01, max_depth=1, num_leaves=1; total time=   0.6s\n",
      "[CV 1/3; 2/36] START learning_rate=0.01, max_depth=1, num_leaves=11.............\n",
      "[CV 1/3; 2/36] END learning_rate=0.01, max_depth=1, num_leaves=11; total time=  18.9s\n",
      "[CV 2/3; 2/36] START learning_rate=0.01, max_depth=1, num_leaves=11.............\n",
      "[CV 2/3; 2/36] END learning_rate=0.01, max_depth=1, num_leaves=11; total time=  18.4s\n",
      "[CV 3/3; 2/36] START learning_rate=0.01, max_depth=1, num_leaves=11.............\n",
      "[CV 3/3; 2/36] END learning_rate=0.01, max_depth=1, num_leaves=11; total time=  18.8s\n",
      "[CV 1/3; 3/36] START learning_rate=0.01, max_depth=1, num_leaves=21.............\n",
      "[CV 1/3; 3/36] END learning_rate=0.01, max_depth=1, num_leaves=21; total time=  18.8s\n",
      "[CV 2/3; 3/36] START learning_rate=0.01, max_depth=1, num_leaves=21.............\n",
      "[CV 2/3; 3/36] END learning_rate=0.01, max_depth=1, num_leaves=21; total time=  19.1s\n",
      "[CV 3/3; 3/36] START learning_rate=0.01, max_depth=1, num_leaves=21.............\n",
      "[CV 3/3; 3/36] END learning_rate=0.01, max_depth=1, num_leaves=21; total time=  18.6s\n",
      "[CV 1/3; 4/36] START learning_rate=0.01, max_depth=6, num_leaves=1..............\n"
     ]
    },
    {
     "name": "stderr",
     "output_type": "stream",
     "text": [
      "[LightGBM] [Fatal] Check failed: (num_leaves) > (1) at /__w/1/s/python-package/compile/src/io/config_auto.cpp, line 334 .\n",
      "\n"
     ]
    },
    {
     "name": "stdout",
     "output_type": "stream",
     "text": [
      "[CV 1/3; 4/36] END learning_rate=0.01, max_depth=6, num_leaves=1; total time=   0.8s\n",
      "[CV 2/3; 4/36] START learning_rate=0.01, max_depth=6, num_leaves=1..............\n"
     ]
    },
    {
     "name": "stderr",
     "output_type": "stream",
     "text": [
      "[LightGBM] [Fatal] Check failed: (num_leaves) > (1) at /__w/1/s/python-package/compile/src/io/config_auto.cpp, line 334 .\n",
      "\n"
     ]
    },
    {
     "name": "stdout",
     "output_type": "stream",
     "text": [
      "[CV 2/3; 4/36] END learning_rate=0.01, max_depth=6, num_leaves=1; total time=   0.6s\n",
      "[CV 3/3; 4/36] START learning_rate=0.01, max_depth=6, num_leaves=1..............\n"
     ]
    },
    {
     "name": "stderr",
     "output_type": "stream",
     "text": [
      "[LightGBM] [Fatal] Check failed: (num_leaves) > (1) at /__w/1/s/python-package/compile/src/io/config_auto.cpp, line 334 .\n",
      "\n"
     ]
    },
    {
     "name": "stdout",
     "output_type": "stream",
     "text": [
      "[CV 3/3; 4/36] END learning_rate=0.01, max_depth=6, num_leaves=1; total time=   0.7s\n",
      "[CV 1/3; 5/36] START learning_rate=0.01, max_depth=6, num_leaves=11.............\n",
      "[CV 1/3; 5/36] END learning_rate=0.01, max_depth=6, num_leaves=11; total time= 1.3min\n",
      "[CV 2/3; 5/36] START learning_rate=0.01, max_depth=6, num_leaves=11.............\n",
      "[CV 2/3; 5/36] END learning_rate=0.01, max_depth=6, num_leaves=11; total time= 1.3min\n",
      "[CV 3/3; 5/36] START learning_rate=0.01, max_depth=6, num_leaves=11.............\n",
      "[CV 3/3; 5/36] END learning_rate=0.01, max_depth=6, num_leaves=11; total time= 1.3min\n",
      "[CV 1/3; 6/36] START learning_rate=0.01, max_depth=6, num_leaves=21.............\n",
      "[CV 1/3; 6/36] END learning_rate=0.01, max_depth=6, num_leaves=21; total time= 2.6min\n",
      "[CV 2/3; 6/36] START learning_rate=0.01, max_depth=6, num_leaves=21.............\n",
      "[CV 2/3; 6/36] END learning_rate=0.01, max_depth=6, num_leaves=21; total time= 2.6min\n",
      "[CV 3/3; 6/36] START learning_rate=0.01, max_depth=6, num_leaves=21.............\n",
      "[CV 3/3; 6/36] END learning_rate=0.01, max_depth=6, num_leaves=21; total time= 2.6min\n",
      "[CV 1/3; 7/36] START learning_rate=0.01, max_depth=11, num_leaves=1.............\n"
     ]
    },
    {
     "name": "stderr",
     "output_type": "stream",
     "text": [
      "[LightGBM] [Fatal] Check failed: (num_leaves) > (1) at /__w/1/s/python-package/compile/src/io/config_auto.cpp, line 334 .\n",
      "\n"
     ]
    },
    {
     "name": "stdout",
     "output_type": "stream",
     "text": [
      "[CV 1/3; 7/36] END learning_rate=0.01, max_depth=11, num_leaves=1; total time=   0.6s\n",
      "[CV 2/3; 7/36] START learning_rate=0.01, max_depth=11, num_leaves=1.............\n"
     ]
    },
    {
     "name": "stderr",
     "output_type": "stream",
     "text": [
      "[LightGBM] [Fatal] Check failed: (num_leaves) > (1) at /__w/1/s/python-package/compile/src/io/config_auto.cpp, line 334 .\n",
      "\n"
     ]
    },
    {
     "name": "stdout",
     "output_type": "stream",
     "text": [
      "[CV 2/3; 7/36] END learning_rate=0.01, max_depth=11, num_leaves=1; total time=   0.6s\n",
      "[CV 3/3; 7/36] START learning_rate=0.01, max_depth=11, num_leaves=1.............\n"
     ]
    },
    {
     "name": "stderr",
     "output_type": "stream",
     "text": [
      "[LightGBM] [Fatal] Check failed: (num_leaves) > (1) at /__w/1/s/python-package/compile/src/io/config_auto.cpp, line 334 .\n",
      "\n"
     ]
    },
    {
     "name": "stdout",
     "output_type": "stream",
     "text": [
      "[CV 3/3; 7/36] END learning_rate=0.01, max_depth=11, num_leaves=1; total time=   0.6s\n",
      "[CV 1/3; 8/36] START learning_rate=0.01, max_depth=11, num_leaves=11............\n",
      "[CV 1/3; 8/36] END learning_rate=0.01, max_depth=11, num_leaves=11; total time= 1.4min\n",
      "[CV 2/3; 8/36] START learning_rate=0.01, max_depth=11, num_leaves=11............\n",
      "[CV 2/3; 8/36] END learning_rate=0.01, max_depth=11, num_leaves=11; total time= 1.5min\n",
      "[CV 3/3; 8/36] START learning_rate=0.01, max_depth=11, num_leaves=11............\n",
      "[CV 3/3; 8/36] END learning_rate=0.01, max_depth=11, num_leaves=11; total time= 1.5min\n",
      "[CV 1/3; 9/36] START learning_rate=0.01, max_depth=11, num_leaves=21............\n",
      "[CV 1/3; 9/36] END learning_rate=0.01, max_depth=11, num_leaves=21; total time= 2.7min\n",
      "[CV 2/3; 9/36] START learning_rate=0.01, max_depth=11, num_leaves=21............\n",
      "[CV 2/3; 9/36] END learning_rate=0.01, max_depth=11, num_leaves=21; total time= 2.6min\n",
      "[CV 3/3; 9/36] START learning_rate=0.01, max_depth=11, num_leaves=21............\n",
      "[CV 3/3; 9/36] END learning_rate=0.01, max_depth=11, num_leaves=21; total time= 2.7min\n",
      "[CV 1/3; 10/36] START learning_rate=0.01, max_depth=16, num_leaves=1............\n"
     ]
    },
    {
     "name": "stderr",
     "output_type": "stream",
     "text": [
      "[LightGBM] [Fatal] Check failed: (num_leaves) > (1) at /__w/1/s/python-package/compile/src/io/config_auto.cpp, line 334 .\n",
      "\n"
     ]
    },
    {
     "name": "stdout",
     "output_type": "stream",
     "text": [
      "[CV 1/3; 10/36] END learning_rate=0.01, max_depth=16, num_leaves=1; total time=   0.7s\n",
      "[CV 2/3; 10/36] START learning_rate=0.01, max_depth=16, num_leaves=1............\n"
     ]
    },
    {
     "name": "stderr",
     "output_type": "stream",
     "text": [
      "[LightGBM] [Fatal] Check failed: (num_leaves) > (1) at /__w/1/s/python-package/compile/src/io/config_auto.cpp, line 334 .\n",
      "\n"
     ]
    },
    {
     "name": "stdout",
     "output_type": "stream",
     "text": [
      "[CV 2/3; 10/36] END learning_rate=0.01, max_depth=16, num_leaves=1; total time=   0.7s\n",
      "[CV 3/3; 10/36] START learning_rate=0.01, max_depth=16, num_leaves=1............\n"
     ]
    },
    {
     "name": "stderr",
     "output_type": "stream",
     "text": [
      "[LightGBM] [Fatal] Check failed: (num_leaves) > (1) at /__w/1/s/python-package/compile/src/io/config_auto.cpp, line 334 .\n",
      "\n"
     ]
    },
    {
     "name": "stdout",
     "output_type": "stream",
     "text": [
      "[CV 3/3; 10/36] END learning_rate=0.01, max_depth=16, num_leaves=1; total time=   0.7s\n",
      "[CV 1/3; 11/36] START learning_rate=0.01, max_depth=16, num_leaves=11...........\n",
      "[CV 1/3; 11/36] END learning_rate=0.01, max_depth=16, num_leaves=11; total time= 1.4min\n",
      "[CV 2/3; 11/36] START learning_rate=0.01, max_depth=16, num_leaves=11...........\n",
      "[CV 2/3; 11/36] END learning_rate=0.01, max_depth=16, num_leaves=11; total time= 1.5min\n",
      "[CV 3/3; 11/36] START learning_rate=0.01, max_depth=16, num_leaves=11...........\n",
      "[CV 3/3; 11/36] END learning_rate=0.01, max_depth=16, num_leaves=11; total time= 1.5min\n",
      "[CV 1/3; 12/36] START learning_rate=0.01, max_depth=16, num_leaves=21...........\n",
      "[CV 1/3; 12/36] END learning_rate=0.01, max_depth=16, num_leaves=21; total time= 2.6min\n",
      "[CV 2/3; 12/36] START learning_rate=0.01, max_depth=16, num_leaves=21...........\n",
      "[CV 2/3; 12/36] END learning_rate=0.01, max_depth=16, num_leaves=21; total time= 2.7min\n",
      "[CV 3/3; 12/36] START learning_rate=0.01, max_depth=16, num_leaves=21...........\n",
      "[CV 3/3; 12/36] END learning_rate=0.01, max_depth=16, num_leaves=21; total time=  57.9s\n",
      "[CV 1/3; 13/36] START learning_rate=0.1, max_depth=1, num_leaves=1..............\n"
     ]
    },
    {
     "name": "stderr",
     "output_type": "stream",
     "text": [
      "[LightGBM] [Fatal] Check failed: (num_leaves) > (1) at /__w/1/s/python-package/compile/src/io/config_auto.cpp, line 334 .\n",
      "\n"
     ]
    },
    {
     "name": "stdout",
     "output_type": "stream",
     "text": [
      "[CV 1/3; 13/36] END learning_rate=0.1, max_depth=1, num_leaves=1; total time=   0.7s\n",
      "[CV 2/3; 13/36] START learning_rate=0.1, max_depth=1, num_leaves=1..............\n"
     ]
    },
    {
     "name": "stderr",
     "output_type": "stream",
     "text": [
      "[LightGBM] [Fatal] Check failed: (num_leaves) > (1) at /__w/1/s/python-package/compile/src/io/config_auto.cpp, line 334 .\n",
      "\n"
     ]
    },
    {
     "name": "stdout",
     "output_type": "stream",
     "text": [
      "[CV 2/3; 13/36] END learning_rate=0.1, max_depth=1, num_leaves=1; total time=   0.6s\n",
      "[CV 3/3; 13/36] START learning_rate=0.1, max_depth=1, num_leaves=1..............\n"
     ]
    },
    {
     "name": "stderr",
     "output_type": "stream",
     "text": [
      "[LightGBM] [Fatal] Check failed: (num_leaves) > (1) at /__w/1/s/python-package/compile/src/io/config_auto.cpp, line 334 .\n",
      "\n"
     ]
    },
    {
     "name": "stdout",
     "output_type": "stream",
     "text": [
      "[CV 3/3; 13/36] END learning_rate=0.1, max_depth=1, num_leaves=1; total time=   0.6s\n",
      "[CV 1/3; 14/36] START learning_rate=0.1, max_depth=1, num_leaves=11.............\n",
      "[CV 1/3; 14/36] END learning_rate=0.1, max_depth=1, num_leaves=11; total time=  18.2s\n",
      "[CV 2/3; 14/36] START learning_rate=0.1, max_depth=1, num_leaves=11.............\n",
      "[CV 2/3; 14/36] END learning_rate=0.1, max_depth=1, num_leaves=11; total time=  18.9s\n",
      "[CV 3/3; 14/36] START learning_rate=0.1, max_depth=1, num_leaves=11.............\n",
      "[CV 3/3; 14/36] END learning_rate=0.1, max_depth=1, num_leaves=11; total time=  14.8s\n",
      "[CV 1/3; 15/36] START learning_rate=0.1, max_depth=1, num_leaves=21.............\n",
      "[CV 1/3; 15/36] END learning_rate=0.1, max_depth=1, num_leaves=21; total time=  20.6s\n",
      "[CV 2/3; 15/36] START learning_rate=0.1, max_depth=1, num_leaves=21.............\n",
      "[CV 2/3; 15/36] END learning_rate=0.1, max_depth=1, num_leaves=21; total time=  12.6s\n",
      "[CV 3/3; 15/36] START learning_rate=0.1, max_depth=1, num_leaves=21.............\n",
      "[CV 3/3; 15/36] END learning_rate=0.1, max_depth=1, num_leaves=21; total time=  15.2s\n",
      "[CV 1/3; 16/36] START learning_rate=0.1, max_depth=6, num_leaves=1..............\n"
     ]
    },
    {
     "name": "stderr",
     "output_type": "stream",
     "text": [
      "[LightGBM] [Fatal] Check failed: (num_leaves) > (1) at /__w/1/s/python-package/compile/src/io/config_auto.cpp, line 334 .\n",
      "\n"
     ]
    },
    {
     "name": "stdout",
     "output_type": "stream",
     "text": [
      "[CV 1/3; 16/36] END learning_rate=0.1, max_depth=6, num_leaves=1; total time=   0.7s\n",
      "[CV 2/3; 16/36] START learning_rate=0.1, max_depth=6, num_leaves=1..............\n"
     ]
    },
    {
     "name": "stderr",
     "output_type": "stream",
     "text": [
      "[LightGBM] [Fatal] Check failed: (num_leaves) > (1) at /__w/1/s/python-package/compile/src/io/config_auto.cpp, line 334 .\n",
      "\n"
     ]
    },
    {
     "name": "stdout",
     "output_type": "stream",
     "text": [
      "[CV 2/3; 16/36] END learning_rate=0.1, max_depth=6, num_leaves=1; total time=   0.6s\n",
      "[CV 3/3; 16/36] START learning_rate=0.1, max_depth=6, num_leaves=1..............\n"
     ]
    },
    {
     "name": "stderr",
     "output_type": "stream",
     "text": [
      "[LightGBM] [Fatal] Check failed: (num_leaves) > (1) at /__w/1/s/python-package/compile/src/io/config_auto.cpp, line 334 .\n",
      "\n"
     ]
    },
    {
     "name": "stdout",
     "output_type": "stream",
     "text": [
      "[CV 3/3; 16/36] END learning_rate=0.1, max_depth=6, num_leaves=1; total time=   0.6s\n",
      "[CV 1/3; 17/36] START learning_rate=0.1, max_depth=6, num_leaves=11.............\n",
      "[CV 1/3; 17/36] END learning_rate=0.1, max_depth=6, num_leaves=11; total time= 1.2min\n",
      "[CV 2/3; 17/36] START learning_rate=0.1, max_depth=6, num_leaves=11.............\n",
      "[CV 2/3; 17/36] END learning_rate=0.1, max_depth=6, num_leaves=11; total time= 1.2min\n",
      "[CV 3/3; 17/36] START learning_rate=0.1, max_depth=6, num_leaves=11.............\n",
      "[CV 3/3; 17/36] END learning_rate=0.1, max_depth=6, num_leaves=11; total time=  48.8s\n",
      "[CV 1/3; 18/36] START learning_rate=0.1, max_depth=6, num_leaves=21.............\n",
      "[CV 1/3; 18/36] END learning_rate=0.1, max_depth=6, num_leaves=21; total time= 1.2min\n",
      "[CV 2/3; 18/36] START learning_rate=0.1, max_depth=6, num_leaves=21.............\n",
      "[CV 2/3; 18/36] END learning_rate=0.1, max_depth=6, num_leaves=21; total time= 1.1min\n",
      "[CV 3/3; 18/36] START learning_rate=0.1, max_depth=6, num_leaves=21.............\n",
      "[CV 3/3; 18/36] END learning_rate=0.1, max_depth=6, num_leaves=21; total time= 1.1min\n",
      "[CV 1/3; 19/36] START learning_rate=0.1, max_depth=11, num_leaves=1.............\n"
     ]
    },
    {
     "name": "stderr",
     "output_type": "stream",
     "text": [
      "[LightGBM] [Fatal] Check failed: (num_leaves) > (1) at /__w/1/s/python-package/compile/src/io/config_auto.cpp, line 334 .\n",
      "\n"
     ]
    },
    {
     "name": "stdout",
     "output_type": "stream",
     "text": [
      "[CV 1/3; 19/36] END learning_rate=0.1, max_depth=11, num_leaves=1; total time=   0.7s\n",
      "[CV 2/3; 19/36] START learning_rate=0.1, max_depth=11, num_leaves=1.............\n"
     ]
    },
    {
     "name": "stderr",
     "output_type": "stream",
     "text": [
      "[LightGBM] [Fatal] Check failed: (num_leaves) > (1) at /__w/1/s/python-package/compile/src/io/config_auto.cpp, line 334 .\n",
      "\n"
     ]
    },
    {
     "name": "stdout",
     "output_type": "stream",
     "text": [
      "[CV 2/3; 19/36] END learning_rate=0.1, max_depth=11, num_leaves=1; total time=   0.6s\n",
      "[CV 3/3; 19/36] START learning_rate=0.1, max_depth=11, num_leaves=1.............\n"
     ]
    },
    {
     "name": "stderr",
     "output_type": "stream",
     "text": [
      "[LightGBM] [Fatal] Check failed: (num_leaves) > (1) at /__w/1/s/python-package/compile/src/io/config_auto.cpp, line 334 .\n",
      "\n"
     ]
    },
    {
     "name": "stdout",
     "output_type": "stream",
     "text": [
      "[CV 3/3; 19/36] END learning_rate=0.1, max_depth=11, num_leaves=1; total time=   0.6s\n",
      "[CV 1/3; 20/36] START learning_rate=0.1, max_depth=11, num_leaves=11............\n",
      "[CV 1/3; 20/36] END learning_rate=0.1, max_depth=11, num_leaves=11; total time= 1.4min\n",
      "[CV 2/3; 20/36] START learning_rate=0.1, max_depth=11, num_leaves=11............\n",
      "[CV 2/3; 20/36] END learning_rate=0.1, max_depth=11, num_leaves=11; total time=  44.1s\n",
      "[CV 3/3; 20/36] START learning_rate=0.1, max_depth=11, num_leaves=11............\n",
      "[CV 3/3; 20/36] END learning_rate=0.1, max_depth=11, num_leaves=11; total time=  28.1s\n",
      "[CV 1/3; 21/36] START learning_rate=0.1, max_depth=11, num_leaves=21............\n",
      "[CV 1/3; 21/36] END learning_rate=0.1, max_depth=11, num_leaves=21; total time= 1.5min\n",
      "[CV 2/3; 21/36] START learning_rate=0.1, max_depth=11, num_leaves=21............\n",
      "[CV 2/3; 21/36] END learning_rate=0.1, max_depth=11, num_leaves=21; total time= 1.6min\n",
      "[CV 3/3; 21/36] START learning_rate=0.1, max_depth=11, num_leaves=21............\n",
      "[CV 3/3; 21/36] END learning_rate=0.1, max_depth=11, num_leaves=21; total time= 2.0min\n",
      "[CV 1/3; 22/36] START learning_rate=0.1, max_depth=16, num_leaves=1.............\n"
     ]
    },
    {
     "name": "stderr",
     "output_type": "stream",
     "text": [
      "[LightGBM] [Fatal] Check failed: (num_leaves) > (1) at /__w/1/s/python-package/compile/src/io/config_auto.cpp, line 334 .\n",
      "\n"
     ]
    },
    {
     "name": "stdout",
     "output_type": "stream",
     "text": [
      "[CV 1/3; 22/36] END learning_rate=0.1, max_depth=16, num_leaves=1; total time=   0.6s\n",
      "[CV 2/3; 22/36] START learning_rate=0.1, max_depth=16, num_leaves=1.............\n"
     ]
    },
    {
     "name": "stderr",
     "output_type": "stream",
     "text": [
      "[LightGBM] [Fatal] Check failed: (num_leaves) > (1) at /__w/1/s/python-package/compile/src/io/config_auto.cpp, line 334 .\n",
      "\n"
     ]
    },
    {
     "name": "stdout",
     "output_type": "stream",
     "text": [
      "[CV 2/3; 22/36] END learning_rate=0.1, max_depth=16, num_leaves=1; total time=   0.6s\n",
      "[CV 3/3; 22/36] START learning_rate=0.1, max_depth=16, num_leaves=1.............\n"
     ]
    },
    {
     "name": "stderr",
     "output_type": "stream",
     "text": [
      "[LightGBM] [Fatal] Check failed: (num_leaves) > (1) at /__w/1/s/python-package/compile/src/io/config_auto.cpp, line 334 .\n",
      "\n"
     ]
    },
    {
     "name": "stdout",
     "output_type": "stream",
     "text": [
      "[CV 3/3; 22/36] END learning_rate=0.1, max_depth=16, num_leaves=1; total time=   0.6s\n",
      "[CV 1/3; 23/36] START learning_rate=0.1, max_depth=16, num_leaves=11............\n",
      "[CV 1/3; 23/36] END learning_rate=0.1, max_depth=16, num_leaves=11; total time=   3.2s\n",
      "[CV 2/3; 23/36] START learning_rate=0.1, max_depth=16, num_leaves=11............\n",
      "[CV 2/3; 23/36] END learning_rate=0.1, max_depth=16, num_leaves=11; total time=   3.4s\n",
      "[CV 3/3; 23/36] START learning_rate=0.1, max_depth=16, num_leaves=11............\n",
      "[CV 3/3; 23/36] END learning_rate=0.1, max_depth=16, num_leaves=11; total time=   3.1s\n",
      "[CV 1/3; 24/36] START learning_rate=0.1, max_depth=16, num_leaves=21............\n",
      "[CV 1/3; 24/36] END learning_rate=0.1, max_depth=16, num_leaves=21; total time=   3.4s\n",
      "[CV 2/3; 24/36] START learning_rate=0.1, max_depth=16, num_leaves=21............\n",
      "[CV 2/3; 24/36] END learning_rate=0.1, max_depth=16, num_leaves=21; total time=   3.5s\n",
      "[CV 3/3; 24/36] START learning_rate=0.1, max_depth=16, num_leaves=21............\n",
      "[CV 3/3; 24/36] END learning_rate=0.1, max_depth=16, num_leaves=21; total time=   3.3s\n",
      "[CV 1/3; 25/36] START learning_rate=0.5, max_depth=1, num_leaves=1..............\n"
     ]
    },
    {
     "name": "stderr",
     "output_type": "stream",
     "text": [
      "[LightGBM] [Fatal] Check failed: (num_leaves) > (1) at /__w/1/s/python-package/compile/src/io/config_auto.cpp, line 334 .\n",
      "\n"
     ]
    },
    {
     "name": "stdout",
     "output_type": "stream",
     "text": [
      "[CV 1/3; 25/36] END learning_rate=0.5, max_depth=1, num_leaves=1; total time=   0.6s\n",
      "[CV 2/3; 25/36] START learning_rate=0.5, max_depth=1, num_leaves=1..............\n"
     ]
    },
    {
     "name": "stderr",
     "output_type": "stream",
     "text": [
      "[LightGBM] [Fatal] Check failed: (num_leaves) > (1) at /__w/1/s/python-package/compile/src/io/config_auto.cpp, line 334 .\n",
      "\n"
     ]
    },
    {
     "name": "stdout",
     "output_type": "stream",
     "text": [
      "[CV 2/3; 25/36] END learning_rate=0.5, max_depth=1, num_leaves=1; total time=   0.6s\n",
      "[CV 3/3; 25/36] START learning_rate=0.5, max_depth=1, num_leaves=1..............\n"
     ]
    },
    {
     "name": "stderr",
     "output_type": "stream",
     "text": [
      "[LightGBM] [Fatal] Check failed: (num_leaves) > (1) at /__w/1/s/python-package/compile/src/io/config_auto.cpp, line 334 .\n",
      "\n"
     ]
    },
    {
     "name": "stdout",
     "output_type": "stream",
     "text": [
      "[CV 3/3; 25/36] END learning_rate=0.5, max_depth=1, num_leaves=1; total time=   0.6s\n",
      "[CV 1/3; 26/36] START learning_rate=0.5, max_depth=1, num_leaves=11.............\n",
      "[CV 1/3; 26/36] END learning_rate=0.5, max_depth=1, num_leaves=11; total time=   2.9s\n",
      "[CV 2/3; 26/36] START learning_rate=0.5, max_depth=1, num_leaves=11.............\n",
      "[CV 2/3; 26/36] END learning_rate=0.5, max_depth=1, num_leaves=11; total time=   5.7s\n",
      "[CV 3/3; 26/36] START learning_rate=0.5, max_depth=1, num_leaves=11.............\n",
      "[CV 3/3; 26/36] END learning_rate=0.5, max_depth=1, num_leaves=11; total time=   5.1s\n",
      "[CV 1/3; 27/36] START learning_rate=0.5, max_depth=1, num_leaves=21.............\n",
      "[CV 1/3; 27/36] END learning_rate=0.5, max_depth=1, num_leaves=21; total time=   4.6s\n",
      "[CV 2/3; 27/36] START learning_rate=0.5, max_depth=1, num_leaves=21.............\n",
      "[CV 2/3; 27/36] END learning_rate=0.5, max_depth=1, num_leaves=21; total time=   7.0s\n",
      "[CV 3/3; 27/36] START learning_rate=0.5, max_depth=1, num_leaves=21.............\n",
      "[CV 3/3; 27/36] END learning_rate=0.5, max_depth=1, num_leaves=21; total time=   6.4s\n",
      "[CV 1/3; 28/36] START learning_rate=0.5, max_depth=6, num_leaves=1..............\n"
     ]
    },
    {
     "name": "stderr",
     "output_type": "stream",
     "text": [
      "[LightGBM] [Fatal] Check failed: (num_leaves) > (1) at /__w/1/s/python-package/compile/src/io/config_auto.cpp, line 334 .\n",
      "\n"
     ]
    },
    {
     "name": "stdout",
     "output_type": "stream",
     "text": [
      "[CV 1/3; 28/36] END learning_rate=0.5, max_depth=6, num_leaves=1; total time=   0.6s\n",
      "[CV 2/3; 28/36] START learning_rate=0.5, max_depth=6, num_leaves=1..............\n"
     ]
    },
    {
     "name": "stderr",
     "output_type": "stream",
     "text": [
      "[LightGBM] [Fatal] Check failed: (num_leaves) > (1) at /__w/1/s/python-package/compile/src/io/config_auto.cpp, line 334 .\n",
      "\n"
     ]
    },
    {
     "name": "stdout",
     "output_type": "stream",
     "text": [
      "[CV 2/3; 28/36] END learning_rate=0.5, max_depth=6, num_leaves=1; total time=   0.6s\n",
      "[CV 3/3; 28/36] START learning_rate=0.5, max_depth=6, num_leaves=1..............\n"
     ]
    },
    {
     "name": "stderr",
     "output_type": "stream",
     "text": [
      "[LightGBM] [Fatal] Check failed: (num_leaves) > (1) at /__w/1/s/python-package/compile/src/io/config_auto.cpp, line 334 .\n",
      "\n"
     ]
    },
    {
     "name": "stdout",
     "output_type": "stream",
     "text": [
      "[CV 3/3; 28/36] END learning_rate=0.5, max_depth=6, num_leaves=1; total time=   0.6s\n",
      "[CV 1/3; 29/36] START learning_rate=0.5, max_depth=6, num_leaves=11.............\n",
      "[CV 1/3; 29/36] END learning_rate=0.5, max_depth=6, num_leaves=11; total time=   5.4s\n",
      "[CV 2/3; 29/36] START learning_rate=0.5, max_depth=6, num_leaves=11.............\n",
      "[CV 2/3; 29/36] END learning_rate=0.5, max_depth=6, num_leaves=11; total time=   3.1s\n",
      "[CV 3/3; 29/36] START learning_rate=0.5, max_depth=6, num_leaves=11.............\n",
      "[CV 3/3; 29/36] END learning_rate=0.5, max_depth=6, num_leaves=11; total time=   3.2s\n",
      "[CV 1/3; 30/36] START learning_rate=0.5, max_depth=6, num_leaves=21.............\n",
      "[CV 1/3; 30/36] END learning_rate=0.5, max_depth=6, num_leaves=21; total time=   3.2s\n",
      "[CV 2/3; 30/36] START learning_rate=0.5, max_depth=6, num_leaves=21.............\n",
      "[CV 2/3; 30/36] END learning_rate=0.5, max_depth=6, num_leaves=21; total time=   3.2s\n",
      "[CV 3/3; 30/36] START learning_rate=0.5, max_depth=6, num_leaves=21.............\n",
      "[CV 3/3; 30/36] END learning_rate=0.5, max_depth=6, num_leaves=21; total time=   3.4s\n",
      "[CV 1/3; 31/36] START learning_rate=0.5, max_depth=11, num_leaves=1.............\n"
     ]
    },
    {
     "name": "stderr",
     "output_type": "stream",
     "text": [
      "[LightGBM] [Fatal] Check failed: (num_leaves) > (1) at /__w/1/s/python-package/compile/src/io/config_auto.cpp, line 334 .\n",
      "\n"
     ]
    },
    {
     "name": "stdout",
     "output_type": "stream",
     "text": [
      "[CV 1/3; 31/36] END learning_rate=0.5, max_depth=11, num_leaves=1; total time=   0.6s\n",
      "[CV 2/3; 31/36] START learning_rate=0.5, max_depth=11, num_leaves=1.............\n"
     ]
    },
    {
     "name": "stderr",
     "output_type": "stream",
     "text": [
      "[LightGBM] [Fatal] Check failed: (num_leaves) > (1) at /__w/1/s/python-package/compile/src/io/config_auto.cpp, line 334 .\n",
      "\n"
     ]
    },
    {
     "name": "stdout",
     "output_type": "stream",
     "text": [
      "[CV 2/3; 31/36] END learning_rate=0.5, max_depth=11, num_leaves=1; total time=   0.6s\n",
      "[CV 3/3; 31/36] START learning_rate=0.5, max_depth=11, num_leaves=1.............\n"
     ]
    },
    {
     "name": "stderr",
     "output_type": "stream",
     "text": [
      "[LightGBM] [Fatal] Check failed: (num_leaves) > (1) at /__w/1/s/python-package/compile/src/io/config_auto.cpp, line 334 .\n",
      "\n"
     ]
    },
    {
     "name": "stdout",
     "output_type": "stream",
     "text": [
      "[CV 3/3; 31/36] END learning_rate=0.5, max_depth=11, num_leaves=1; total time=   0.6s\n",
      "[CV 1/3; 32/36] START learning_rate=0.5, max_depth=11, num_leaves=11............\n",
      "[CV 1/3; 32/36] END learning_rate=0.5, max_depth=11, num_leaves=11; total time=   3.0s\n",
      "[CV 2/3; 32/36] START learning_rate=0.5, max_depth=11, num_leaves=11............\n",
      "[CV 2/3; 32/36] END learning_rate=0.5, max_depth=11, num_leaves=11; total time=   3.3s\n",
      "[CV 3/3; 32/36] START learning_rate=0.5, max_depth=11, num_leaves=11............\n",
      "[CV 3/3; 32/36] END learning_rate=0.5, max_depth=11, num_leaves=11; total time=   3.2s\n",
      "[CV 1/3; 33/36] START learning_rate=0.5, max_depth=11, num_leaves=21............\n",
      "[CV 1/3; 33/36] END learning_rate=0.5, max_depth=11, num_leaves=21; total time=   3.3s\n",
      "[CV 2/3; 33/36] START learning_rate=0.5, max_depth=11, num_leaves=21............\n",
      "[CV 2/3; 33/36] END learning_rate=0.5, max_depth=11, num_leaves=21; total time=   3.3s\n",
      "[CV 3/3; 33/36] START learning_rate=0.5, max_depth=11, num_leaves=21............\n",
      "[CV 3/3; 33/36] END learning_rate=0.5, max_depth=11, num_leaves=21; total time=   3.5s\n",
      "[CV 1/3; 34/36] START learning_rate=0.5, max_depth=16, num_leaves=1.............\n"
     ]
    },
    {
     "name": "stderr",
     "output_type": "stream",
     "text": [
      "[LightGBM] [Fatal] Check failed: (num_leaves) > (1) at /__w/1/s/python-package/compile/src/io/config_auto.cpp, line 334 .\n",
      "\n"
     ]
    },
    {
     "name": "stdout",
     "output_type": "stream",
     "text": [
      "[CV 1/3; 34/36] END learning_rate=0.5, max_depth=16, num_leaves=1; total time=   0.7s\n",
      "[CV 2/3; 34/36] START learning_rate=0.5, max_depth=16, num_leaves=1.............\n"
     ]
    },
    {
     "name": "stderr",
     "output_type": "stream",
     "text": [
      "[LightGBM] [Fatal] Check failed: (num_leaves) > (1) at /__w/1/s/python-package/compile/src/io/config_auto.cpp, line 334 .\n",
      "\n"
     ]
    },
    {
     "name": "stdout",
     "output_type": "stream",
     "text": [
      "[CV 2/3; 34/36] END learning_rate=0.5, max_depth=16, num_leaves=1; total time=   0.6s\n",
      "[CV 3/3; 34/36] START learning_rate=0.5, max_depth=16, num_leaves=1.............\n"
     ]
    },
    {
     "name": "stderr",
     "output_type": "stream",
     "text": [
      "[LightGBM] [Fatal] Check failed: (num_leaves) > (1) at /__w/1/s/python-package/compile/src/io/config_auto.cpp, line 334 .\n",
      "\n"
     ]
    },
    {
     "name": "stdout",
     "output_type": "stream",
     "text": [
      "[CV 3/3; 34/36] END learning_rate=0.5, max_depth=16, num_leaves=1; total time=   0.6s\n",
      "[CV 1/3; 35/36] START learning_rate=0.5, max_depth=16, num_leaves=11............\n",
      "[CV 1/3; 35/36] END learning_rate=0.5, max_depth=16, num_leaves=11; total time=   3.4s\n",
      "[CV 2/3; 35/36] START learning_rate=0.5, max_depth=16, num_leaves=11............\n",
      "[CV 2/3; 35/36] END learning_rate=0.5, max_depth=16, num_leaves=11; total time=   3.3s\n",
      "[CV 3/3; 35/36] START learning_rate=0.5, max_depth=16, num_leaves=11............\n",
      "[CV 3/3; 35/36] END learning_rate=0.5, max_depth=16, num_leaves=11; total time=   3.3s\n",
      "[CV 1/3; 36/36] START learning_rate=0.5, max_depth=16, num_leaves=21............\n",
      "[CV 1/3; 36/36] END learning_rate=0.5, max_depth=16, num_leaves=21; total time=   3.5s\n",
      "[CV 2/3; 36/36] START learning_rate=0.5, max_depth=16, num_leaves=21............\n",
      "[CV 2/3; 36/36] END learning_rate=0.5, max_depth=16, num_leaves=21; total time=   3.4s\n",
      "[CV 3/3; 36/36] START learning_rate=0.5, max_depth=16, num_leaves=21............\n",
      "[CV 3/3; 36/36] END learning_rate=0.5, max_depth=16, num_leaves=21; total time=   3.2s\n",
      "0.8527261632589789\n",
      "CPU times: user 54min 11s, sys: 36.3 s, total: 54min 47s\n",
      "Wall time: 54min 55s\n"
     ]
    }
   ],
   "source": [
    "%%time\n",
    "grid_lgbm.fit(features_train_new, target_train_new)\n",
    "print(grid_lgbm.best_score_)"
   ]
  },
  {
   "cell_type": "code",
   "execution_count": 50,
   "metadata": {},
   "outputs": [
    {
     "name": "stdout",
     "output_type": "stream",
     "text": [
      "rmse= 1751.3112316029394\n",
      "CPU times: user 1.09 s, sys: 242 ms, total: 1.34 s\n",
      "Wall time: 1.33 s\n"
     ]
    }
   ],
   "source": [
    "%%time\n",
    "\n",
    "predictions_valid = grid_lgbm.predict(features_train_new)\n",
    "mse = mean_squared_error(target_train_new, predictions_valid)\n",
    "\n",
    "print('rmse=',mse ** 0.5)"
   ]
  },
  {
   "cell_type": "markdown",
   "metadata": {},
   "source": [
    "## Анализ моделей"
   ]
  },
  {
   "cell_type": "markdown",
   "metadata": {},
   "source": [
    "Я обучила 3 модели: случайный лес, CatBoost и LightGBM. Результаты получились такие:\n",
    "1. Модель случайного леса обучалась 1 час и 15 минут. В итоге результат RMSE = 1483.\n",
    "2. Модель CatBoost обучалась более 40 минут и выдала результат RMSE = 1454\n",
    "3. Модель LightGBM самая сложная оказалась. Обучение длилось 55 минут, а RMSE = 1751. \n",
    "\n",
    "Таким образом делаю вывод, что по RMSE и времени обучения лучший результат у модели CatBoost."
   ]
  },
  {
   "cell_type": "code",
   "execution_count": 51,
   "metadata": {},
   "outputs": [
    {
     "name": "stdout",
     "output_type": "stream",
     "text": [
      "rmse= 1727.4227195490844\n",
      "CPU times: user 46.1 ms, sys: 7.44 ms, total: 53.5 ms\n",
      "Wall time: 51.9 ms\n"
     ]
    }
   ],
   "source": [
    "%%time\n",
    "# Проверим нашу модель на тестовой выборке  \n",
    "\n",
    "predictions_valid = grid_catboost.predict(features_test_new)\n",
    "mse = mean_squared_error(target_test_new, predictions_valid)\n",
    "\n",
    "print('rmse=',mse ** 0.5)"
   ]
  },
  {
   "cell_type": "markdown",
   "metadata": {},
   "source": [
    "RMSE на тестовой выборке получился равным 1727, что вполне соответствует требованиям. "
   ]
  },
  {
   "cell_type": "markdown",
   "metadata": {},
   "source": [
    "ВЫВОДЫ: Я изучила, обработала и подготовила к обучению данные. Затем я выбрала 3 модели для обучения и путем перебора разных гиперпараметров нашла оптимальную модель. Добилась требуемого значения RMSE не выше 2500, которое подтвердилось и на тестовой выборке. "
   ]
  }
 ],
 "metadata": {
  "ExecuteTimeLog": [
   {
    "duration": 495,
    "start_time": "2023-02-01T06:20:05.546Z"
   },
   {
    "duration": 3497,
    "start_time": "2023-02-01T06:23:00.503Z"
   },
   {
    "duration": 132,
    "start_time": "2023-02-01T06:23:27.560Z"
   },
   {
    "duration": 4,
    "start_time": "2023-02-01T06:36:44.019Z"
   },
   {
    "duration": 257,
    "start_time": "2023-02-01T06:40:40.883Z"
   },
   {
    "duration": 74,
    "start_time": "2023-02-01T06:44:19.588Z"
   },
   {
    "duration": 296,
    "start_time": "2023-02-01T06:48:28.976Z"
   },
   {
    "duration": 391,
    "start_time": "2023-02-01T06:48:36.296Z"
   },
   {
    "duration": 76,
    "start_time": "2023-02-01T06:51:03.551Z"
   },
   {
    "duration": 74,
    "start_time": "2023-02-01T06:53:21.027Z"
   },
   {
    "duration": 1213,
    "start_time": "2023-02-01T06:53:28.543Z"
   },
   {
    "duration": 1482,
    "start_time": "2023-02-01T06:54:17.160Z"
   },
   {
    "duration": 814,
    "start_time": "2023-02-01T06:54:18.644Z"
   },
   {
    "duration": 144,
    "start_time": "2023-02-01T06:54:19.460Z"
   },
   {
    "duration": 278,
    "start_time": "2023-02-01T06:54:19.606Z"
   },
   {
    "duration": 78,
    "start_time": "2023-02-01T06:54:19.887Z"
   },
   {
    "duration": 313,
    "start_time": "2023-02-01T06:54:19.967Z"
   },
   {
    "duration": 68,
    "start_time": "2023-02-01T06:54:20.282Z"
   },
   {
    "duration": 543941,
    "start_time": "2023-02-01T06:54:20.351Z"
   },
   {
    "duration": 1504,
    "start_time": "2023-02-02T18:58:07.047Z"
   },
   {
    "duration": 2782,
    "start_time": "2023-02-02T18:58:08.553Z"
   },
   {
    "duration": 129,
    "start_time": "2023-02-02T18:58:11.337Z"
   },
   {
    "duration": 248,
    "start_time": "2023-02-02T18:58:11.468Z"
   },
   {
    "duration": 81,
    "start_time": "2023-02-02T18:58:11.718Z"
   },
   {
    "duration": 275,
    "start_time": "2023-02-02T18:58:11.800Z"
   },
   {
    "duration": 71,
    "start_time": "2023-02-02T18:58:12.077Z"
   },
   {
    "duration": 22,
    "start_time": "2023-02-02T19:36:04.556Z"
   },
   {
    "duration": 92,
    "start_time": "2023-02-02T19:36:21.957Z"
   },
   {
    "duration": 3,
    "start_time": "2023-02-02T20:17:51.209Z"
   },
   {
    "duration": 3,
    "start_time": "2023-02-02T20:17:58.896Z"
   },
   {
    "duration": 15,
    "start_time": "2023-02-02T20:18:38.873Z"
   },
   {
    "duration": 82,
    "start_time": "2023-02-02T20:19:23.399Z"
   },
   {
    "duration": 109,
    "start_time": "2023-02-02T20:24:40.134Z"
   },
   {
    "duration": 3,
    "start_time": "2023-02-02T20:26:39.618Z"
   },
   {
    "duration": 47,
    "start_time": "2023-02-02T21:32:11.486Z"
   },
   {
    "duration": 20,
    "start_time": "2023-02-02T21:35:11.427Z"
   },
   {
    "duration": 7606,
    "start_time": "2023-02-02T21:38:49.925Z"
   },
   {
    "duration": 3,
    "start_time": "2023-02-02T21:40:26.956Z"
   },
   {
    "duration": 7513,
    "start_time": "2023-02-02T21:40:32.398Z"
   },
   {
    "duration": 7532,
    "start_time": "2023-02-02T21:42:09.692Z"
   },
   {
    "duration": 72,
    "start_time": "2023-02-02T21:43:12.341Z"
   },
   {
    "duration": 91,
    "start_time": "2023-02-02T21:43:27.149Z"
   },
   {
    "duration": 2287,
    "start_time": "2023-02-02T21:43:48.709Z"
   },
   {
    "duration": 1716,
    "start_time": "2023-02-05T17:45:16.218Z"
   },
   {
    "duration": 2,
    "start_time": "2023-02-05T17:45:17.937Z"
   },
   {
    "duration": 2954,
    "start_time": "2023-02-05T17:45:17.941Z"
   },
   {
    "duration": 153,
    "start_time": "2023-02-05T17:45:20.897Z"
   },
   {
    "duration": 441,
    "start_time": "2023-02-05T17:45:21.052Z"
   },
   {
    "duration": 75,
    "start_time": "2023-02-05T17:45:21.496Z"
   },
   {
    "duration": 164,
    "start_time": "2023-02-05T17:45:21.573Z"
   },
   {
    "duration": 20,
    "start_time": "2023-02-05T17:45:21.739Z"
   },
   {
    "duration": 43,
    "start_time": "2023-02-05T17:45:21.761Z"
   },
   {
    "duration": 134,
    "start_time": "2023-02-05T17:45:21.808Z"
   },
   {
    "duration": 8008,
    "start_time": "2023-02-05T17:45:21.944Z"
   },
   {
    "duration": 2621,
    "start_time": "2023-02-05T17:45:29.954Z"
   },
   {
    "duration": 2,
    "start_time": "2023-02-05T19:59:43.328Z"
   },
   {
    "duration": 110,
    "start_time": "2023-02-05T20:02:42.208Z"
   },
   {
    "duration": 8,
    "start_time": "2023-02-05T20:03:14.480Z"
   },
   {
    "duration": 9,
    "start_time": "2023-02-05T20:06:21.633Z"
   },
   {
    "duration": 12,
    "start_time": "2023-02-05T20:06:32.708Z"
   },
   {
    "duration": 11,
    "start_time": "2023-02-05T20:06:53.503Z"
   },
   {
    "duration": 2725,
    "start_time": "2023-02-05T21:21:45.852Z"
   },
   {
    "duration": 2543,
    "start_time": "2023-02-05T21:22:46.251Z"
   },
   {
    "duration": 1565,
    "start_time": "2023-02-11T18:48:19.186Z"
   },
   {
    "duration": 2,
    "start_time": "2023-02-11T18:48:20.754Z"
   },
   {
    "duration": 1000,
    "start_time": "2023-02-11T18:48:20.758Z"
   },
   {
    "duration": 131,
    "start_time": "2023-02-11T18:48:21.760Z"
   },
   {
    "duration": 436,
    "start_time": "2023-02-11T18:48:21.893Z"
   },
   {
    "duration": 86,
    "start_time": "2023-02-11T18:48:22.331Z"
   },
   {
    "duration": 108,
    "start_time": "2023-02-11T18:48:22.419Z"
   },
   {
    "duration": 23,
    "start_time": "2023-02-11T18:48:22.528Z"
   },
   {
    "duration": 27,
    "start_time": "2023-02-11T18:48:22.552Z"
   },
   {
    "duration": 111,
    "start_time": "2023-02-11T18:48:22.580Z"
   },
   {
    "duration": 8768,
    "start_time": "2023-02-11T18:48:22.692Z"
   },
   {
    "duration": 2899,
    "start_time": "2023-02-11T18:48:31.462Z"
   },
   {
    "duration": 2907,
    "start_time": "2023-02-11T18:48:34.362Z"
   },
   {
    "duration": 21,
    "start_time": "2023-02-11T19:00:42.901Z"
   },
   {
    "duration": 15,
    "start_time": "2023-02-11T19:01:12.486Z"
   },
   {
    "duration": 24,
    "start_time": "2023-02-11T19:03:35.619Z"
   },
   {
    "duration": 17,
    "start_time": "2023-02-11T19:03:38.366Z"
   },
   {
    "duration": 88,
    "start_time": "2023-02-11T19:05:27.089Z"
   },
   {
    "duration": 58,
    "start_time": "2023-02-11T19:05:41.236Z"
   },
   {
    "duration": 21,
    "start_time": "2023-02-11T19:07:06.573Z"
   },
   {
    "duration": 78,
    "start_time": "2023-02-11T19:07:06.596Z"
   },
   {
    "duration": 7110,
    "start_time": "2023-02-11T19:07:06.676Z"
   },
   {
    "duration": 2451,
    "start_time": "2023-02-11T19:07:13.788Z"
   },
   {
    "duration": 2520,
    "start_time": "2023-02-11T19:07:16.241Z"
   },
   {
    "duration": 1923,
    "start_time": "2023-02-13T12:06:16.059Z"
   },
   {
    "duration": 6,
    "start_time": "2023-02-13T13:08:45.864Z"
   },
   {
    "duration": 10,
    "start_time": "2023-02-13T13:08:45.873Z"
   },
   {
    "duration": 3325,
    "start_time": "2023-02-13T13:08:45.886Z"
   },
   {
    "duration": 153,
    "start_time": "2023-02-13T13:08:49.214Z"
   },
   {
    "duration": 515,
    "start_time": "2023-02-13T13:08:49.369Z"
   },
   {
    "duration": 115,
    "start_time": "2023-02-13T13:08:49.886Z"
   },
   {
    "duration": 130,
    "start_time": "2023-02-13T13:08:50.002Z"
   },
   {
    "duration": 35,
    "start_time": "2023-02-13T13:08:50.135Z"
   },
   {
    "duration": 26,
    "start_time": "2023-02-13T13:08:50.173Z"
   },
   {
    "duration": 122,
    "start_time": "2023-02-13T13:08:50.201Z"
   },
   {
    "duration": 24,
    "start_time": "2023-02-13T13:08:50.325Z"
   },
   {
    "duration": 142,
    "start_time": "2023-02-13T13:08:50.351Z"
   },
   {
    "duration": 6375,
    "start_time": "2023-02-13T13:08:50.495Z"
   },
   {
    "duration": 2140,
    "start_time": "2023-02-13T13:08:56.872Z"
   },
   {
    "duration": 2081,
    "start_time": "2023-02-13T13:08:59.014Z"
   },
   {
    "duration": 8783,
    "start_time": "2023-02-13T13:09:01.097Z"
   },
   {
    "duration": 8285,
    "start_time": "2023-02-13T13:16:48.377Z"
   },
   {
    "duration": 8526,
    "start_time": "2023-02-13T13:29:09.400Z"
   },
   {
    "duration": 10363,
    "start_time": "2023-02-13T13:29:50.222Z"
   },
   {
    "duration": 19344,
    "start_time": "2023-02-13T13:30:17.559Z"
   },
   {
    "duration": 19031,
    "start_time": "2023-02-13T13:42:12.879Z"
   },
   {
    "duration": 18805,
    "start_time": "2023-02-13T14:05:49.624Z"
   },
   {
    "duration": 19053,
    "start_time": "2023-02-13T15:49:25.682Z"
   },
   {
    "duration": 20208,
    "start_time": "2023-02-13T16:05:07.684Z"
   },
   {
    "duration": 11910,
    "start_time": "2023-02-13T16:05:52.514Z"
   },
   {
    "duration": 5,
    "start_time": "2023-02-13T17:07:07.245Z"
   },
   {
    "duration": 13853,
    "start_time": "2023-02-13T17:07:18.918Z"
   },
   {
    "duration": 0,
    "start_time": "2023-02-13T17:07:32.773Z"
   },
   {
    "duration": 20327,
    "start_time": "2023-02-13T17:08:10.829Z"
   },
   {
    "duration": 15,
    "start_time": "2023-02-13T17:09:13.610Z"
   },
   {
    "duration": 7,
    "start_time": "2023-02-13T17:09:38.701Z"
   },
   {
    "duration": 10,
    "start_time": "2023-02-13T17:09:58.182Z"
   },
   {
    "duration": 41,
    "start_time": "2023-02-13T17:10:07.150Z"
   },
   {
    "duration": 67,
    "start_time": "2023-02-13T17:10:35.522Z"
   },
   {
    "duration": 9,
    "start_time": "2023-02-13T17:11:25.098Z"
   },
   {
    "duration": 10,
    "start_time": "2023-02-13T17:11:31.488Z"
   },
   {
    "duration": 5,
    "start_time": "2023-02-13T17:11:55.507Z"
   },
   {
    "duration": 5,
    "start_time": "2023-02-13T17:12:19.251Z"
   },
   {
    "duration": 4,
    "start_time": "2023-02-13T17:12:36.207Z"
   },
   {
    "duration": 9,
    "start_time": "2023-02-13T17:17:08.488Z"
   },
   {
    "duration": 13,
    "start_time": "2023-02-13T17:17:29.264Z"
   },
   {
    "duration": 5,
    "start_time": "2023-02-13T17:17:36.073Z"
   },
   {
    "duration": 6188,
    "start_time": "2023-02-13T17:35:50.495Z"
   },
   {
    "duration": 2161,
    "start_time": "2023-02-13T17:36:00.303Z"
   },
   {
    "duration": 2326,
    "start_time": "2023-02-13T17:36:03.225Z"
   },
   {
    "duration": 12,
    "start_time": "2023-02-13T17:36:07.471Z"
   },
   {
    "duration": 1366,
    "start_time": "2023-02-13T17:36:58.064Z"
   },
   {
    "duration": 3,
    "start_time": "2023-02-13T17:36:59.432Z"
   },
   {
    "duration": 942,
    "start_time": "2023-02-13T17:36:59.436Z"
   },
   {
    "duration": 155,
    "start_time": "2023-02-13T17:37:00.379Z"
   },
   {
    "duration": 499,
    "start_time": "2023-02-13T17:37:00.536Z"
   },
   {
    "duration": 79,
    "start_time": "2023-02-13T17:37:01.037Z"
   },
   {
    "duration": 143,
    "start_time": "2023-02-13T17:37:01.118Z"
   },
   {
    "duration": 75,
    "start_time": "2023-02-13T17:37:01.263Z"
   },
   {
    "duration": 65,
    "start_time": "2023-02-13T17:37:01.340Z"
   },
   {
    "duration": 119,
    "start_time": "2023-02-13T17:37:01.406Z"
   },
   {
    "duration": 14,
    "start_time": "2023-02-13T17:37:01.526Z"
   },
   {
    "duration": 92,
    "start_time": "2023-02-13T17:37:01.550Z"
   },
   {
    "duration": 6552,
    "start_time": "2023-02-13T17:37:01.643Z"
   },
   {
    "duration": 2200,
    "start_time": "2023-02-13T17:37:08.197Z"
   },
   {
    "duration": 2244,
    "start_time": "2023-02-13T17:37:10.399Z"
   },
   {
    "duration": 22,
    "start_time": "2023-02-13T17:37:12.645Z"
   },
   {
    "duration": 7,
    "start_time": "2023-02-13T17:37:12.669Z"
   },
   {
    "duration": 8,
    "start_time": "2023-02-13T17:37:12.678Z"
   },
   {
    "duration": 16445,
    "start_time": "2023-02-13T17:37:12.688Z"
   },
   {
    "duration": 0,
    "start_time": "2023-02-13T17:37:29.134Z"
   },
   {
    "duration": 0,
    "start_time": "2023-02-13T17:37:29.136Z"
   },
   {
    "duration": 9,
    "start_time": "2023-02-13T17:37:58.811Z"
   },
   {
    "duration": 11,
    "start_time": "2023-02-13T17:38:21.133Z"
   },
   {
    "duration": 16,
    "start_time": "2023-02-13T17:39:29.915Z"
   },
   {
    "duration": 11,
    "start_time": "2023-02-13T17:39:57.484Z"
   },
   {
    "duration": 15,
    "start_time": "2023-02-13T17:42:18.405Z"
   },
   {
    "duration": 6,
    "start_time": "2023-02-13T17:42:29.873Z"
   },
   {
    "duration": 21,
    "start_time": "2023-02-13T17:42:29.881Z"
   },
   {
    "duration": 1064,
    "start_time": "2023-02-13T17:42:29.904Z"
   },
   {
    "duration": 176,
    "start_time": "2023-02-13T17:42:30.970Z"
   },
   {
    "duration": 468,
    "start_time": "2023-02-13T17:42:31.148Z"
   },
   {
    "duration": 79,
    "start_time": "2023-02-13T17:42:31.617Z"
   },
   {
    "duration": 165,
    "start_time": "2023-02-13T17:42:31.698Z"
   },
   {
    "duration": 20,
    "start_time": "2023-02-13T17:42:31.866Z"
   },
   {
    "duration": 35,
    "start_time": "2023-02-13T17:42:31.888Z"
   },
   {
    "duration": 110,
    "start_time": "2023-02-13T17:42:31.925Z"
   },
   {
    "duration": 26,
    "start_time": "2023-02-13T17:42:32.036Z"
   },
   {
    "duration": 88,
    "start_time": "2023-02-13T17:42:32.064Z"
   },
   {
    "duration": 7584,
    "start_time": "2023-02-13T17:42:32.154Z"
   },
   {
    "duration": 2885,
    "start_time": "2023-02-13T17:42:39.742Z"
   },
   {
    "duration": 2865,
    "start_time": "2023-02-13T17:42:42.630Z"
   },
   {
    "duration": 5,
    "start_time": "2023-02-13T17:42:45.499Z"
   },
   {
    "duration": 12,
    "start_time": "2023-02-13T17:42:45.506Z"
   },
   {
    "duration": 13,
    "start_time": "2023-02-13T17:42:45.520Z"
   },
   {
    "duration": 16372,
    "start_time": "2023-02-13T17:42:45.536Z"
   },
   {
    "duration": 0,
    "start_time": "2023-02-13T17:43:01.910Z"
   },
   {
    "duration": 0,
    "start_time": "2023-02-13T17:43:01.911Z"
   },
   {
    "duration": 7704,
    "start_time": "2023-02-13T17:43:13.986Z"
   },
   {
    "duration": 2604,
    "start_time": "2023-02-13T17:43:25.075Z"
   },
   {
    "duration": 2552,
    "start_time": "2023-02-13T17:43:27.684Z"
   },
   {
    "duration": 14,
    "start_time": "2023-02-13T17:43:37.997Z"
   },
   {
    "duration": 1808,
    "start_time": "2023-02-14T09:39:00.856Z"
   },
   {
    "duration": 4,
    "start_time": "2023-02-14T09:39:02.668Z"
   },
   {
    "duration": 1311,
    "start_time": "2023-02-14T09:39:02.674Z"
   },
   {
    "duration": 166,
    "start_time": "2023-02-14T09:39:03.987Z"
   },
   {
    "duration": 496,
    "start_time": "2023-02-14T09:39:04.155Z"
   },
   {
    "duration": 78,
    "start_time": "2023-02-14T09:39:04.657Z"
   },
   {
    "duration": 129,
    "start_time": "2023-02-14T09:39:04.737Z"
   },
   {
    "duration": 29,
    "start_time": "2023-02-14T09:39:04.868Z"
   },
   {
    "duration": 24,
    "start_time": "2023-02-14T09:39:04.898Z"
   },
   {
    "duration": 131,
    "start_time": "2023-02-14T09:39:04.924Z"
   },
   {
    "duration": 21,
    "start_time": "2023-02-14T09:39:05.073Z"
   },
   {
    "duration": 127,
    "start_time": "2023-02-14T09:39:05.095Z"
   },
   {
    "duration": 4033,
    "start_time": "2023-02-14T09:39:05.224Z"
   },
   {
    "duration": 733,
    "start_time": "2023-02-14T09:39:09.258Z"
   },
   {
    "duration": 789,
    "start_time": "2023-02-14T09:39:09.993Z"
   },
   {
    "duration": 34,
    "start_time": "2023-02-14T09:39:10.784Z"
   },
   {
    "duration": 62,
    "start_time": "2023-02-14T09:39:10.820Z"
   },
   {
    "duration": 17,
    "start_time": "2023-02-14T09:39:10.883Z"
   },
   {
    "duration": 7804502,
    "start_time": "2023-02-14T09:39:10.901Z"
   },
   {
    "duration": 2,
    "start_time": "2023-02-14T11:49:15.405Z"
   },
   {
    "duration": 141,
    "start_time": "2023-02-14T11:49:15.409Z"
   },
   {
    "duration": 847,
    "start_time": "2023-02-14T12:14:41.771Z"
   },
   {
    "duration": 7542024,
    "start_time": "2023-02-14T13:25:09.009Z"
   },
   {
    "duration": 28,
    "start_time": "2023-02-14T15:30:51.035Z"
   },
   {
    "duration": 340280,
    "start_time": "2023-02-14T15:32:05.825Z"
   },
   {
    "duration": 1680,
    "start_time": "2023-02-15T09:52:18.271Z"
   },
   {
    "duration": 4,
    "start_time": "2023-02-15T09:52:19.953Z"
   },
   {
    "duration": 3483,
    "start_time": "2023-02-15T09:52:19.958Z"
   },
   {
    "duration": 171,
    "start_time": "2023-02-15T09:52:23.444Z"
   },
   {
    "duration": 540,
    "start_time": "2023-02-15T09:52:23.621Z"
   },
   {
    "duration": 80,
    "start_time": "2023-02-15T09:52:24.163Z"
   },
   {
    "duration": 141,
    "start_time": "2023-02-15T09:52:24.245Z"
   },
   {
    "duration": 45,
    "start_time": "2023-02-15T09:52:24.390Z"
   },
   {
    "duration": 47,
    "start_time": "2023-02-15T09:52:24.437Z"
   },
   {
    "duration": 144,
    "start_time": "2023-02-15T09:52:24.488Z"
   },
   {
    "duration": 17,
    "start_time": "2023-02-15T09:52:24.634Z"
   },
   {
    "duration": 151,
    "start_time": "2023-02-15T09:52:24.654Z"
   },
   {
    "duration": 2888,
    "start_time": "2023-02-15T09:52:24.807Z"
   },
   {
    "duration": 650,
    "start_time": "2023-02-15T09:52:27.697Z"
   },
   {
    "duration": 653,
    "start_time": "2023-02-15T09:52:28.349Z"
   },
   {
    "duration": 3,
    "start_time": "2023-02-15T09:52:29.004Z"
   },
   {
    "duration": 7881460,
    "start_time": "2023-02-15T09:52:29.009Z"
   },
   {
    "duration": 887,
    "start_time": "2023-02-15T12:03:50.471Z"
   },
   {
    "duration": 415080,
    "start_time": "2023-02-15T12:03:51.360Z"
   },
   {
    "duration": 250,
    "start_time": "2023-02-15T12:10:46.442Z"
   },
   {
    "duration": 372255,
    "start_time": "2023-02-15T12:38:07.240Z"
   },
   {
    "duration": 61,
    "start_time": "2023-02-15T13:21:08.468Z"
   },
   {
    "duration": 40,
    "start_time": "2023-02-15T13:21:30.084Z"
   },
   {
    "duration": 57,
    "start_time": "2023-02-15T13:33:53.113Z"
   },
   {
    "duration": 83,
    "start_time": "2023-02-15T13:35:44.138Z"
   },
   {
    "duration": 150,
    "start_time": "2023-02-15T13:35:58.555Z"
   },
   {
    "duration": 6,
    "start_time": "2023-02-15T13:36:20.256Z"
   },
   {
    "duration": 5108898,
    "start_time": "2023-02-15T13:36:33.081Z"
   },
   {
    "duration": 15,
    "start_time": "2023-02-15T15:04:40.840Z"
   },
   {
    "duration": 5,
    "start_time": "2023-02-15T15:04:59.506Z"
   },
   {
    "duration": 7,
    "start_time": "2023-02-15T15:05:11.053Z"
   },
   {
    "duration": 6583,
    "start_time": "2023-02-15T15:05:23.707Z"
   },
   {
    "duration": 12,
    "start_time": "2023-02-15T15:05:42.723Z"
   },
   {
    "duration": 3577,
    "start_time": "2023-02-15T15:05:44.841Z"
   },
   {
    "duration": 9,
    "start_time": "2023-02-15T15:06:01.351Z"
   },
   {
    "duration": 7706,
    "start_time": "2023-02-15T15:06:05.741Z"
   },
   {
    "duration": 5,
    "start_time": "2023-02-15T15:06:22.475Z"
   },
   {
    "duration": 9485,
    "start_time": "2023-02-15T15:06:25.273Z"
   },
   {
    "duration": 5,
    "start_time": "2023-02-15T15:06:41.964Z"
   },
   {
    "duration": 13462,
    "start_time": "2023-02-15T15:06:47.752Z"
   },
   {
    "duration": 4,
    "start_time": "2023-02-15T15:07:06.573Z"
   },
   {
    "duration": 19908,
    "start_time": "2023-02-15T15:07:11.354Z"
   },
   {
    "duration": 24988,
    "start_time": "2023-02-15T15:07:47.155Z"
   },
   {
    "duration": 2848430,
    "start_time": "2023-02-15T15:08:22.181Z"
   },
   {
    "duration": 37,
    "start_time": "2023-02-15T15:55:50.612Z"
   },
   {
    "duration": 127534,
    "start_time": "2023-02-15T15:56:26.842Z"
   },
   {
    "duration": 3,
    "start_time": "2023-02-15T15:58:47.490Z"
   },
   {
    "duration": 6,
    "start_time": "2023-02-15T15:59:27.247Z"
   },
   {
    "duration": 65887,
    "start_time": "2023-02-15T15:59:30.711Z"
   },
   {
    "duration": 8,
    "start_time": "2023-02-15T16:01:10.154Z"
   },
   {
    "duration": 433307,
    "start_time": "2023-02-15T16:01:14.602Z"
   },
   {
    "duration": 196,
    "start_time": "2023-02-15T16:08:27.911Z"
   },
   {
    "duration": 4,
    "start_time": "2023-02-15T16:08:32.561Z"
   },
   {
    "duration": 5,
    "start_time": "2023-02-15T16:10:00.385Z"
   },
   {
    "duration": 4238,
    "start_time": "2023-02-15T16:10:05.064Z"
   },
   {
    "duration": 8,
    "start_time": "2023-02-15T16:11:19.050Z"
   },
   {
    "duration": 5,
    "start_time": "2023-02-15T16:11:30.894Z"
   },
   {
    "duration": 94550,
    "start_time": "2023-02-15T16:11:34.159Z"
   },
   {
    "duration": 5,
    "start_time": "2023-02-15T16:13:08.711Z"
   },
   {
    "duration": 4,
    "start_time": "2023-02-15T16:13:11.392Z"
   },
   {
    "duration": 3541,
    "start_time": "2023-02-15T16:13:15.451Z"
   },
   {
    "duration": 6,
    "start_time": "2023-02-15T16:16:57.578Z"
   },
   {
    "duration": 146,
    "start_time": "2023-02-15T20:10:50.129Z"
   },
   {
    "duration": 1423,
    "start_time": "2023-02-15T20:13:24.061Z"
   },
   {
    "duration": 3,
    "start_time": "2023-02-15T20:13:25.486Z"
   },
   {
    "duration": 3066,
    "start_time": "2023-02-15T20:13:25.491Z"
   },
   {
    "duration": 138,
    "start_time": "2023-02-15T20:13:28.558Z"
   },
   {
    "duration": 448,
    "start_time": "2023-02-15T20:13:28.699Z"
   },
   {
    "duration": 77,
    "start_time": "2023-02-15T20:13:29.149Z"
   },
   {
    "duration": 129,
    "start_time": "2023-02-15T20:13:29.227Z"
   },
   {
    "duration": 22,
    "start_time": "2023-02-15T20:13:29.357Z"
   },
   {
    "duration": 43,
    "start_time": "2023-02-15T20:13:29.381Z"
   },
   {
    "duration": 100,
    "start_time": "2023-02-15T20:13:29.426Z"
   },
   {
    "duration": 14,
    "start_time": "2023-02-15T20:13:29.527Z"
   },
   {
    "duration": 101,
    "start_time": "2023-02-15T20:13:29.542Z"
   },
   {
    "duration": 2527,
    "start_time": "2023-02-15T20:13:29.644Z"
   },
   {
    "duration": 608,
    "start_time": "2023-02-15T20:13:32.173Z"
   },
   {
    "duration": 580,
    "start_time": "2023-02-15T20:13:32.783Z"
   },
   {
    "duration": 4,
    "start_time": "2023-02-15T20:13:33.365Z"
   },
   {
    "duration": 2065597,
    "start_time": "2023-02-15T20:13:33.371Z"
   },
   {
    "duration": 320,
    "start_time": "2023-02-15T20:47:58.970Z"
   },
   {
    "duration": 369556,
    "start_time": "2023-02-15T20:47:59.291Z"
   },
   {
    "duration": 4,
    "start_time": "2023-02-15T20:54:08.849Z"
   },
   {
    "duration": 2569704,
    "start_time": "2023-02-15T20:54:08.854Z"
   },
   {
    "duration": 109302,
    "start_time": "2023-02-15T21:36:58.560Z"
   },
   {
    "duration": 5,
    "start_time": "2023-02-15T21:38:47.864Z"
   },
   {
    "duration": 394664,
    "start_time": "2023-02-15T21:38:47.871Z"
   },
   {
    "duration": 10857,
    "start_time": "2023-02-16T02:33:01.566Z"
   },
   {
    "duration": 217390,
    "start_time": "2023-02-16T06:37:09.126Z"
   },
   {
    "duration": 6,
    "start_time": "2023-02-16T06:45:08.250Z"
   },
   {
    "duration": 101356,
    "start_time": "2023-02-16T06:45:31.243Z"
   },
   {
    "duration": 89,
    "start_time": "2023-02-16T11:35:18.719Z"
   },
   {
    "duration": 63,
    "start_time": "2023-02-16T12:26:45.020Z"
   },
   {
    "duration": 73,
    "start_time": "2023-02-16T12:38:18.828Z"
   },
   {
    "duration": 102,
    "start_time": "2023-02-16T12:44:21.825Z"
   },
   {
    "duration": 62,
    "start_time": "2023-02-16T14:01:25.540Z"
   },
   {
    "duration": 50,
    "start_time": "2023-02-16T14:10:29.742Z"
   },
   {
    "duration": 1846,
    "start_time": "2023-02-16T14:11:04.541Z"
   },
   {
    "duration": 1481,
    "start_time": "2023-02-16T14:11:17.561Z"
   },
   {
    "duration": 4,
    "start_time": "2023-02-16T14:11:20.654Z"
   },
   {
    "duration": 2807,
    "start_time": "2023-02-16T14:11:21.113Z"
   },
   {
    "duration": 144,
    "start_time": "2023-02-16T14:11:23.923Z"
   },
   {
    "duration": 495,
    "start_time": "2023-02-16T14:11:25.305Z"
   },
   {
    "duration": 76,
    "start_time": "2023-02-16T14:11:28.931Z"
   },
   {
    "duration": 142,
    "start_time": "2023-02-16T14:11:29.815Z"
   },
   {
    "duration": 24,
    "start_time": "2023-02-16T14:11:32.185Z"
   },
   {
    "duration": 22,
    "start_time": "2023-02-16T14:11:58.831Z"
   },
   {
    "duration": 101,
    "start_time": "2023-02-16T14:11:59.461Z"
   },
   {
    "duration": 13,
    "start_time": "2023-02-16T14:12:03.138Z"
   },
   {
    "duration": 99,
    "start_time": "2023-02-16T14:12:22.510Z"
   },
   {
    "duration": 2297,
    "start_time": "2023-02-16T14:12:52.144Z"
   },
   {
    "duration": 661,
    "start_time": "2023-02-16T14:12:56.433Z"
   },
   {
    "duration": 632,
    "start_time": "2023-02-16T14:12:57.096Z"
   },
   {
    "duration": 4,
    "start_time": "2023-02-16T14:12:57.730Z"
   },
   {
    "duration": 60,
    "start_time": "2023-02-16T14:17:47.691Z"
   },
   {
    "duration": 3,
    "start_time": "2023-02-16T14:51:57.692Z"
   },
   {
    "duration": 3,
    "start_time": "2023-02-16T14:51:59.227Z"
   },
   {
    "duration": 745,
    "start_time": "2023-02-16T14:51:59.566Z"
   },
   {
    "duration": 129,
    "start_time": "2023-02-16T14:52:00.312Z"
   },
   {
    "duration": 399,
    "start_time": "2023-02-16T14:52:01.132Z"
   },
   {
    "duration": 61,
    "start_time": "2023-02-16T14:52:12.377Z"
   },
   {
    "duration": 11,
    "start_time": "2023-02-16T14:52:20.886Z"
   },
   {
    "duration": 4,
    "start_time": "2023-02-16T15:09:42.481Z"
   },
   {
    "duration": 8,
    "start_time": "2023-02-16T15:09:43.259Z"
   },
   {
    "duration": 752,
    "start_time": "2023-02-16T15:09:43.476Z"
   },
   {
    "duration": 175,
    "start_time": "2023-02-16T15:09:44.229Z"
   },
   {
    "duration": 404,
    "start_time": "2023-02-16T15:09:44.405Z"
   },
   {
    "duration": 77,
    "start_time": "2023-02-16T15:09:44.948Z"
   },
   {
    "duration": 164,
    "start_time": "2023-02-16T15:09:45.447Z"
   },
   {
    "duration": 18,
    "start_time": "2023-02-16T15:09:46.680Z"
   },
   {
    "duration": 20,
    "start_time": "2023-02-16T15:09:47.834Z"
   },
   {
    "duration": 95,
    "start_time": "2023-02-16T15:09:48.069Z"
   },
   {
    "duration": 17,
    "start_time": "2023-02-16T15:09:48.772Z"
   },
   {
    "duration": 83,
    "start_time": "2023-02-16T15:09:49.770Z"
   },
   {
    "duration": 16,
    "start_time": "2023-02-16T15:09:59.622Z"
   },
   {
    "duration": 1718,
    "start_time": "2023-02-17T11:53:27.722Z"
   },
   {
    "duration": 4,
    "start_time": "2023-02-17T11:54:19.447Z"
   },
   {
    "duration": 10,
    "start_time": "2023-02-17T12:23:04.878Z"
   },
   {
    "duration": 3,
    "start_time": "2023-02-17T12:23:15.812Z"
   },
   {
    "duration": 1069,
    "start_time": "2023-02-17T12:23:16.749Z"
   },
   {
    "duration": 135,
    "start_time": "2023-02-17T12:23:18.289Z"
   },
   {
    "duration": 450,
    "start_time": "2023-02-17T12:23:19.439Z"
   },
   {
    "duration": 87,
    "start_time": "2023-02-17T12:23:22.309Z"
   },
   {
    "duration": 106,
    "start_time": "2023-02-17T12:23:26.118Z"
   },
   {
    "duration": 24,
    "start_time": "2023-02-17T12:23:28.125Z"
   },
   {
    "duration": 804,
    "start_time": "2023-02-17T12:23:29.519Z"
   },
   {
    "duration": 858,
    "start_time": "2023-02-17T12:23:43.829Z"
   },
   {
    "duration": 74,
    "start_time": "2023-02-17T12:23:48.805Z"
   },
   {
    "duration": 4,
    "start_time": "2023-02-17T12:24:01.072Z"
   },
   {
    "duration": 3,
    "start_time": "2023-02-17T12:24:02.119Z"
   },
   {
    "duration": 784,
    "start_time": "2023-02-17T12:24:02.543Z"
   },
   {
    "duration": 119,
    "start_time": "2023-02-17T12:24:03.329Z"
   },
   {
    "duration": 432,
    "start_time": "2023-02-17T12:24:03.450Z"
   },
   {
    "duration": 66,
    "start_time": "2023-02-17T12:24:06.557Z"
   },
   {
    "duration": 113,
    "start_time": "2023-02-17T12:24:09.805Z"
   },
   {
    "duration": 7,
    "start_time": "2023-02-17T12:24:13.273Z"
   },
   {
    "duration": 11,
    "start_time": "2023-02-17T12:24:32.767Z"
   },
   {
    "duration": 6,
    "start_time": "2023-02-17T12:31:10.620Z"
   },
   {
    "duration": 7,
    "start_time": "2023-02-17T12:31:41.745Z"
   },
   {
    "duration": 118,
    "start_time": "2023-02-17T12:37:59.236Z"
   },
   {
    "duration": 140,
    "start_time": "2023-02-17T12:38:17.268Z"
   },
   {
    "duration": 3,
    "start_time": "2023-02-17T12:42:57.414Z"
   },
   {
    "duration": 6,
    "start_time": "2023-02-17T12:43:02.832Z"
   },
   {
    "duration": 15,
    "start_time": "2023-02-17T12:44:12.256Z"
   },
   {
    "duration": 21,
    "start_time": "2023-02-17T13:27:06.133Z"
   },
   {
    "duration": 4,
    "start_time": "2023-02-17T13:27:12.433Z"
   },
   {
    "duration": 5,
    "start_time": "2023-02-17T19:32:35.768Z"
   },
   {
    "duration": 5,
    "start_time": "2023-02-17T19:33:33.700Z"
   },
   {
    "duration": 7,
    "start_time": "2023-02-17T19:34:03.423Z"
   },
   {
    "duration": 8,
    "start_time": "2023-02-17T19:34:52.485Z"
   },
   {
    "duration": 12,
    "start_time": "2023-02-17T19:39:59.913Z"
   },
   {
    "duration": 9,
    "start_time": "2023-02-17T19:40:22.646Z"
   },
   {
    "duration": 13,
    "start_time": "2023-02-17T19:40:46.723Z"
   },
   {
    "duration": 7,
    "start_time": "2023-02-17T19:41:33.410Z"
   },
   {
    "duration": 5,
    "start_time": "2023-02-17T19:42:01.420Z"
   },
   {
    "duration": 61,
    "start_time": "2023-02-17T20:02:53.007Z"
   },
   {
    "duration": 95,
    "start_time": "2023-02-17T20:04:15.428Z"
   },
   {
    "duration": 19,
    "start_time": "2023-02-17T20:05:09.738Z"
   },
   {
    "duration": 14,
    "start_time": "2023-02-17T20:05:19.957Z"
   },
   {
    "duration": 54,
    "start_time": "2023-02-17T20:05:29.985Z"
   },
   {
    "duration": 96,
    "start_time": "2023-02-17T20:05:31.419Z"
   },
   {
    "duration": 50,
    "start_time": "2023-02-17T20:06:00.976Z"
   },
   {
    "duration": 15,
    "start_time": "2023-02-17T20:06:22.813Z"
   },
   {
    "duration": 45,
    "start_time": "2023-02-17T20:11:09.923Z"
   },
   {
    "duration": 54,
    "start_time": "2023-02-17T20:12:02.635Z"
   },
   {
    "duration": 15,
    "start_time": "2023-02-17T20:12:05.275Z"
   },
   {
    "duration": 50,
    "start_time": "2023-02-17T20:13:03.621Z"
   },
   {
    "duration": 15,
    "start_time": "2023-02-17T20:13:04.795Z"
   },
   {
    "duration": 49,
    "start_time": "2023-02-17T20:16:36.121Z"
   },
   {
    "duration": 18,
    "start_time": "2023-02-17T20:16:49.067Z"
   },
   {
    "duration": 15,
    "start_time": "2023-02-17T20:16:53.277Z"
   },
   {
    "duration": 15,
    "start_time": "2023-02-17T20:17:17.533Z"
   },
   {
    "duration": 17,
    "start_time": "2023-02-17T20:17:21.343Z"
   },
   {
    "duration": 14,
    "start_time": "2023-02-17T20:17:25.558Z"
   },
   {
    "duration": 17,
    "start_time": "2023-02-17T20:20:25.086Z"
   },
   {
    "duration": 15,
    "start_time": "2023-02-17T20:20:27.318Z"
   },
   {
    "duration": 25,
    "start_time": "2023-02-17T20:21:38.644Z"
   },
   {
    "duration": 159,
    "start_time": "2023-02-17T20:25:15.440Z"
   },
   {
    "duration": 6129,
    "start_time": "2023-02-17T20:29:43.243Z"
   },
   {
    "duration": 10,
    "start_time": "2023-02-17T20:29:52.444Z"
   },
   {
    "duration": 173,
    "start_time": "2023-02-17T20:30:34.897Z"
   },
   {
    "duration": 6361,
    "start_time": "2023-02-17T20:30:38.380Z"
   },
   {
    "duration": 914,
    "start_time": "2023-02-17T20:30:46.626Z"
   },
   {
    "duration": 4,
    "start_time": "2023-02-17T20:30:52.480Z"
   },
   {
    "duration": 86,
    "start_time": "2023-02-17T20:38:08.280Z"
   },
   {
    "duration": 1446,
    "start_time": "2023-02-17T20:45:30.200Z"
   },
   {
    "duration": 3,
    "start_time": "2023-02-17T20:45:31.648Z"
   },
   {
    "duration": 1032,
    "start_time": "2023-02-17T20:45:31.652Z"
   },
   {
    "duration": 130,
    "start_time": "2023-02-17T20:45:32.686Z"
   },
   {
    "duration": 475,
    "start_time": "2023-02-17T20:45:32.817Z"
   },
   {
    "duration": 77,
    "start_time": "2023-02-17T20:45:33.293Z"
   },
   {
    "duration": 110,
    "start_time": "2023-02-17T20:45:33.372Z"
   },
   {
    "duration": 21,
    "start_time": "2023-02-17T20:45:33.484Z"
   },
   {
    "duration": 24,
    "start_time": "2023-02-17T20:45:33.507Z"
   },
   {
    "duration": 8,
    "start_time": "2023-02-17T20:45:33.533Z"
   },
   {
    "duration": 6,
    "start_time": "2023-02-17T20:45:33.542Z"
   },
   {
    "duration": 8,
    "start_time": "2023-02-17T20:45:33.550Z"
   },
   {
    "duration": 7,
    "start_time": "2023-02-17T20:45:33.560Z"
   },
   {
    "duration": 44,
    "start_time": "2023-02-17T20:45:33.568Z"
   },
   {
    "duration": 14,
    "start_time": "2023-02-17T20:45:33.613Z"
   },
   {
    "duration": 4,
    "start_time": "2023-02-17T20:45:33.628Z"
   },
   {
    "duration": 69,
    "start_time": "2023-02-17T20:45:33.633Z"
   },
   {
    "duration": 28,
    "start_time": "2023-02-17T20:45:33.704Z"
   },
   {
    "duration": 2,
    "start_time": "2023-02-17T20:45:33.734Z"
   },
   {
    "duration": 103,
    "start_time": "2023-02-17T20:45:33.738Z"
   },
   {
    "duration": 6853,
    "start_time": "2023-02-17T20:45:33.842Z"
   },
   {
    "duration": 908,
    "start_time": "2023-02-17T20:45:40.697Z"
   },
   {
    "duration": 2,
    "start_time": "2023-02-17T20:45:41.606Z"
   },
   {
    "duration": 7,
    "start_time": "2023-02-17T20:45:41.610Z"
   },
   {
    "duration": 7027477,
    "start_time": "2023-02-17T20:45:41.618Z"
   },
   {
    "duration": 2294,
    "start_time": "2023-02-17T22:42:49.097Z"
   },
   {
    "duration": 2,
    "start_time": "2023-02-17T22:42:51.393Z"
   },
   {
    "duration": 156,
    "start_time": "2023-02-17T22:42:51.402Z"
   },
   {
    "duration": 51,
    "start_time": "2023-02-17T22:42:51.560Z"
   },
   {
    "duration": 122092,
    "start_time": "2023-02-17T22:42:51.612Z"
   },
   {
    "duration": 4,
    "start_time": "2023-02-17T22:44:53.706Z"
   },
   {
    "duration": 314998,
    "start_time": "2023-02-17T22:44:53.711Z"
   },
   {
    "duration": 18697,
    "start_time": "2023-02-17T22:50:08.711Z"
   },
   {
    "duration": 98394,
    "start_time": "2023-02-17T22:50:27.410Z"
   },
   {
    "duration": 49,
    "start_time": "2023-02-17T22:52:05.806Z"
   },
   {
    "duration": 37,
    "start_time": "2023-02-17T22:52:05.857Z"
   },
   {
    "duration": 49,
    "start_time": "2023-02-17T22:53:03.624Z"
   },
   {
    "duration": 61,
    "start_time": "2023-02-17T22:53:21.574Z"
   },
   {
    "duration": 4,
    "start_time": "2023-02-17T22:53:38.334Z"
   },
   {
    "duration": 2680447,
    "start_time": "2023-02-17T22:53:49.149Z"
   },
   {
    "duration": 11,
    "start_time": "2023-02-17T23:38:43.575Z"
   },
   {
    "duration": 2,
    "start_time": "2023-02-17T23:38:56.823Z"
   },
   {
    "duration": 9935,
    "start_time": "2023-02-17T23:45:17.553Z"
   },
   {
    "duration": 55,
    "start_time": "2023-02-18T08:33:59.896Z"
   },
   {
    "duration": 45,
    "start_time": "2023-02-18T08:34:02.211Z"
   },
   {
    "duration": 68,
    "start_time": "2023-02-18T20:01:13.561Z"
   },
   {
    "duration": 62,
    "start_time": "2023-02-18T20:32:52.774Z"
   },
   {
    "duration": 1611,
    "start_time": "2023-02-19T09:13:52.533Z"
   },
   {
    "duration": 3,
    "start_time": "2023-02-19T09:13:55.854Z"
   },
   {
    "duration": 1069,
    "start_time": "2023-02-19T09:13:56.338Z"
   },
   {
    "duration": 135,
    "start_time": "2023-02-19T09:13:57.409Z"
   },
   {
    "duration": 461,
    "start_time": "2023-02-19T09:13:57.546Z"
   },
   {
    "duration": 115,
    "start_time": "2023-02-19T09:14:00.336Z"
   },
   {
    "duration": 110,
    "start_time": "2023-02-19T09:14:03.373Z"
   },
   {
    "duration": 10,
    "start_time": "2023-02-19T09:14:05.759Z"
   },
   {
    "duration": 28,
    "start_time": "2023-02-19T09:14:06.429Z"
   },
   {
    "duration": 6,
    "start_time": "2023-02-19T09:14:09.519Z"
   },
   {
    "duration": 5,
    "start_time": "2023-02-19T09:14:10.774Z"
   },
   {
    "duration": 8,
    "start_time": "2023-02-19T09:14:11.677Z"
   },
   {
    "duration": 8,
    "start_time": "2023-02-19T09:14:13.160Z"
   },
   {
    "duration": 21,
    "start_time": "2023-02-19T09:14:17.279Z"
   },
   {
    "duration": 14,
    "start_time": "2023-02-19T09:14:17.765Z"
   },
   {
    "duration": 3,
    "start_time": "2023-02-19T09:14:18.575Z"
   },
   {
    "duration": 61,
    "start_time": "2023-02-19T09:14:26.423Z"
   },
   {
    "duration": 29,
    "start_time": "2023-02-19T09:14:27.974Z"
   },
   {
    "duration": 3,
    "start_time": "2023-02-19T09:14:30.536Z"
   },
   {
    "duration": 90,
    "start_time": "2023-02-19T09:14:32.193Z"
   },
   {
    "duration": 4410,
    "start_time": "2023-02-19T09:14:32.898Z"
   },
   {
    "duration": 800,
    "start_time": "2023-02-19T09:14:37.311Z"
   },
   {
    "duration": 2,
    "start_time": "2023-02-19T09:14:38.113Z"
   },
   {
    "duration": 3,
    "start_time": "2023-02-19T09:14:39.118Z"
   },
   {
    "duration": 143,
    "start_time": "2023-02-19T10:33:51.914Z"
   },
   {
    "duration": 51,
    "start_time": "2023-02-19T10:37:39.166Z"
   },
   {
    "duration": 68,
    "start_time": "2023-02-19T10:38:06.788Z"
   },
   {
    "duration": 67,
    "start_time": "2023-02-19T10:38:42.561Z"
   },
   {
    "duration": 68,
    "start_time": "2023-02-19T10:38:59.694Z"
   },
   {
    "duration": 48,
    "start_time": "2023-02-19T10:44:04.861Z"
   },
   {
    "duration": 312,
    "start_time": "2023-02-19T10:44:19.616Z"
   },
   {
    "duration": 338,
    "start_time": "2023-02-19T10:44:30.538Z"
   },
   {
    "duration": 4,
    "start_time": "2023-02-19T10:44:32.254Z"
   },
   {
    "duration": 9,
    "start_time": "2023-02-19T10:52:03.051Z"
   },
   {
    "duration": 4,
    "start_time": "2023-02-19T10:52:24.494Z"
   },
   {
    "duration": 6,
    "start_time": "2023-02-19T10:52:59.027Z"
   },
   {
    "duration": 10,
    "start_time": "2023-02-19T10:54:36.090Z"
   },
   {
    "duration": 4,
    "start_time": "2023-02-19T10:54:44.011Z"
   },
   {
    "duration": 12,
    "start_time": "2023-02-19T10:57:56.022Z"
   },
   {
    "duration": 11,
    "start_time": "2023-02-19T10:58:02.873Z"
   },
   {
    "duration": 10,
    "start_time": "2023-02-19T11:00:17.180Z"
   },
   {
    "duration": 10,
    "start_time": "2023-02-19T11:00:33.140Z"
   },
   {
    "duration": 28,
    "start_time": "2023-02-19T11:01:27.994Z"
   },
   {
    "duration": 5,
    "start_time": "2023-02-19T11:01:43.142Z"
   },
   {
    "duration": 32,
    "start_time": "2023-02-19T11:03:03.920Z"
   },
   {
    "duration": 14,
    "start_time": "2023-02-19T11:03:20.420Z"
   },
   {
    "duration": 12,
    "start_time": "2023-02-19T11:04:06.667Z"
   },
   {
    "duration": 11,
    "start_time": "2023-02-19T11:10:07.605Z"
   },
   {
    "duration": 10,
    "start_time": "2023-02-19T11:10:14.621Z"
   },
   {
    "duration": 25,
    "start_time": "2023-02-19T11:10:46.481Z"
   },
   {
    "duration": 10,
    "start_time": "2023-02-19T11:10:57.893Z"
   },
   {
    "duration": 20,
    "start_time": "2023-02-19T11:23:46.060Z"
   },
   {
    "duration": 24,
    "start_time": "2023-02-19T11:30:30.019Z"
   },
   {
    "duration": 31,
    "start_time": "2023-02-19T11:34:22.874Z"
   },
   {
    "duration": 31,
    "start_time": "2023-02-19T11:35:44.237Z"
   },
   {
    "duration": 20,
    "start_time": "2023-02-19T11:37:37.607Z"
   },
   {
    "duration": 33,
    "start_time": "2023-02-19T11:43:14.450Z"
   },
   {
    "duration": 18,
    "start_time": "2023-02-19T11:44:03.497Z"
   },
   {
    "duration": 20,
    "start_time": "2023-02-19T11:44:16.333Z"
   },
   {
    "duration": 97,
    "start_time": "2023-02-19T11:46:40.073Z"
   },
   {
    "duration": 53,
    "start_time": "2023-02-19T11:51:23.411Z"
   },
   {
    "duration": 12,
    "start_time": "2023-02-19T11:51:37.452Z"
   },
   {
    "duration": 14,
    "start_time": "2023-02-19T11:51:53.449Z"
   },
   {
    "duration": 13,
    "start_time": "2023-02-19T14:49:36.857Z"
   },
   {
    "duration": 46,
    "start_time": "2023-02-19T15:24:54.206Z"
   },
   {
    "duration": 5,
    "start_time": "2023-02-19T15:25:00.313Z"
   },
   {
    "duration": 53,
    "start_time": "2023-02-19T15:25:31.717Z"
   },
   {
    "duration": 7,
    "start_time": "2023-02-19T15:25:34.088Z"
   },
   {
    "duration": 4,
    "start_time": "2023-02-19T15:26:02.663Z"
   },
   {
    "duration": 6,
    "start_time": "2023-02-19T15:26:05.518Z"
   },
   {
    "duration": 6,
    "start_time": "2023-02-19T15:26:19.276Z"
   },
   {
    "duration": 6,
    "start_time": "2023-02-19T15:26:22.280Z"
   },
   {
    "duration": 6,
    "start_time": "2023-02-19T15:27:07.507Z"
   },
   {
    "duration": 10,
    "start_time": "2023-02-19T15:27:23.238Z"
   },
   {
    "duration": 11,
    "start_time": "2023-02-19T15:27:32.228Z"
   },
   {
    "duration": 8,
    "start_time": "2023-02-19T15:27:40.532Z"
   },
   {
    "duration": 7,
    "start_time": "2023-02-19T15:28:26.539Z"
   },
   {
    "duration": 9,
    "start_time": "2023-02-19T15:28:45.951Z"
   },
   {
    "duration": 4,
    "start_time": "2023-02-19T15:28:54.528Z"
   },
   {
    "duration": 7,
    "start_time": "2023-02-19T15:28:56.295Z"
   },
   {
    "duration": 26,
    "start_time": "2023-02-19T15:33:06.794Z"
   },
   {
    "duration": 31,
    "start_time": "2023-02-19T15:33:14.623Z"
   },
   {
    "duration": 10,
    "start_time": "2023-02-19T15:33:15.352Z"
   },
   {
    "duration": 38,
    "start_time": "2023-02-19T15:33:56.327Z"
   },
   {
    "duration": 29,
    "start_time": "2023-02-19T15:34:16.931Z"
   },
   {
    "duration": 22,
    "start_time": "2023-02-19T15:34:20.180Z"
   },
   {
    "duration": 14,
    "start_time": "2023-02-19T15:34:23.761Z"
   },
   {
    "duration": 7,
    "start_time": "2023-02-19T15:39:46.220Z"
   },
   {
    "duration": 9,
    "start_time": "2023-02-19T15:43:04.547Z"
   },
   {
    "duration": 2460,
    "start_time": "2023-02-19T15:52:33.641Z"
   },
   {
    "duration": 232,
    "start_time": "2023-02-19T16:07:50.881Z"
   },
   {
    "duration": 2555,
    "start_time": "2023-02-19T16:08:23.065Z"
   },
   {
    "duration": 2618,
    "start_time": "2023-02-19T16:08:36.795Z"
   },
   {
    "duration": 2716,
    "start_time": "2023-02-19T16:08:51.954Z"
   },
   {
    "duration": 2564,
    "start_time": "2023-02-19T16:11:44.184Z"
   },
   {
    "duration": 2585,
    "start_time": "2023-02-19T16:16:32.698Z"
   },
   {
    "duration": 2,
    "start_time": "2023-02-19T16:19:23.634Z"
   },
   {
    "duration": 925,
    "start_time": "2023-02-19T16:24:19.694Z"
   },
   {
    "duration": 1046,
    "start_time": "2023-02-19T16:24:26.335Z"
   },
   {
    "duration": 934,
    "start_time": "2023-02-19T16:25:26.466Z"
   },
   {
    "duration": 841,
    "start_time": "2023-02-19T16:25:58.370Z"
   },
   {
    "duration": 9,
    "start_time": "2023-02-19T16:26:44.485Z"
   },
   {
    "duration": 900,
    "start_time": "2023-02-19T16:27:18.713Z"
   },
   {
    "duration": 907,
    "start_time": "2023-02-19T16:27:36.556Z"
   },
   {
    "duration": 955,
    "start_time": "2023-02-19T16:27:43.822Z"
   },
   {
    "duration": 707,
    "start_time": "2023-02-19T16:28:31.580Z"
   },
   {
    "duration": 5,
    "start_time": "2023-02-19T16:29:03.566Z"
   },
   {
    "duration": 7,
    "start_time": "2023-02-19T16:29:38.190Z"
   },
   {
    "duration": 12,
    "start_time": "2023-02-19T16:30:32.155Z"
   },
   {
    "duration": 17,
    "start_time": "2023-02-19T16:30:50.606Z"
   },
   {
    "duration": 4,
    "start_time": "2023-02-19T16:30:59.176Z"
   },
   {
    "duration": 3,
    "start_time": "2023-02-19T16:30:59.981Z"
   },
   {
    "duration": 1230,
    "start_time": "2023-02-19T16:31:00.215Z"
   },
   {
    "duration": 140,
    "start_time": "2023-02-19T16:31:01.451Z"
   },
   {
    "duration": 476,
    "start_time": "2023-02-19T16:31:01.592Z"
   },
   {
    "duration": 81,
    "start_time": "2023-02-19T16:31:04.799Z"
   },
   {
    "duration": 128,
    "start_time": "2023-02-19T16:31:08.111Z"
   },
   {
    "duration": 11,
    "start_time": "2023-02-19T16:31:10.263Z"
   },
   {
    "duration": 23,
    "start_time": "2023-02-19T16:31:11.418Z"
   },
   {
    "duration": 6,
    "start_time": "2023-02-19T16:31:17.964Z"
   },
   {
    "duration": 8,
    "start_time": "2023-02-19T16:31:18.851Z"
   },
   {
    "duration": 8,
    "start_time": "2023-02-19T16:31:19.559Z"
   },
   {
    "duration": 10,
    "start_time": "2023-02-19T16:31:20.064Z"
   },
   {
    "duration": 22,
    "start_time": "2023-02-19T16:32:09.946Z"
   },
   {
    "duration": 21,
    "start_time": "2023-02-19T16:32:10.760Z"
   },
   {
    "duration": 2,
    "start_time": "2023-02-19T16:32:11.377Z"
   },
   {
    "duration": 70,
    "start_time": "2023-02-19T16:32:13.713Z"
   },
   {
    "duration": 20,
    "start_time": "2023-02-19T16:32:14.989Z"
   },
   {
    "duration": 3,
    "start_time": "2023-02-19T16:32:16.958Z"
   },
   {
    "duration": 90,
    "start_time": "2023-02-19T16:32:18.383Z"
   },
   {
    "duration": 25,
    "start_time": "2023-02-19T16:32:19.161Z"
   },
   {
    "duration": 516,
    "start_time": "2023-02-19T16:32:19.820Z"
   },
   {
    "duration": 30,
    "start_time": "2023-02-19T16:32:20.446Z"
   },
   {
    "duration": 19,
    "start_time": "2023-02-19T16:32:40.666Z"
   },
   {
    "duration": 25,
    "start_time": "2023-02-19T16:32:45.120Z"
   },
   {
    "duration": 19,
    "start_time": "2023-02-19T16:32:45.864Z"
   },
   {
    "duration": 3,
    "start_time": "2023-02-19T16:32:46.654Z"
   },
   {
    "duration": 3088,
    "start_time": "2023-02-19T16:33:11.876Z"
   },
   {
    "duration": 2,
    "start_time": "2023-02-19T16:33:32.891Z"
   },
   {
    "duration": 7,
    "start_time": "2023-02-19T16:33:40.777Z"
   },
   {
    "duration": 47,
    "start_time": "2023-02-19T16:33:42.024Z"
   },
   {
    "duration": 11,
    "start_time": "2023-02-19T17:40:30.399Z"
   },
   {
    "duration": 3,
    "start_time": "2023-02-19T17:40:35.031Z"
   },
   {
    "duration": 4,
    "start_time": "2023-02-19T17:40:53.786Z"
   },
   {
    "duration": 4,
    "start_time": "2023-02-19T17:41:22.333Z"
   },
   {
    "duration": 6,
    "start_time": "2023-02-19T17:41:33.454Z"
   },
   {
    "duration": 11,
    "start_time": "2023-02-19T17:41:49.076Z"
   },
   {
    "duration": 101,
    "start_time": "2023-02-19T17:42:16.964Z"
   },
   {
    "duration": 62,
    "start_time": "2023-02-19T17:42:18.940Z"
   },
   {
    "duration": 19,
    "start_time": "2023-02-19T17:42:25.796Z"
   },
   {
    "duration": 5,
    "start_time": "2023-02-19T17:42:26.500Z"
   },
   {
    "duration": 4803,
    "start_time": "2023-02-19T17:42:31.756Z"
   },
   {
    "duration": 5,
    "start_time": "2023-02-19T17:43:08.564Z"
   },
   {
    "duration": 5,
    "start_time": "2023-02-19T17:43:13.861Z"
   },
   {
    "duration": 4,
    "start_time": "2023-02-19T17:43:45.171Z"
   },
   {
    "duration": 5,
    "start_time": "2023-02-19T17:43:54.098Z"
   },
   {
    "duration": 5,
    "start_time": "2023-02-19T17:44:14.165Z"
   },
   {
    "duration": 10,
    "start_time": "2023-02-19T19:10:54.051Z"
   },
   {
    "duration": 14,
    "start_time": "2023-02-19T19:28:11.172Z"
   },
   {
    "duration": 13,
    "start_time": "2023-02-19T19:29:09.687Z"
   },
   {
    "duration": 13,
    "start_time": "2023-02-19T19:29:24.321Z"
   },
   {
    "duration": 13,
    "start_time": "2023-02-19T19:41:46.485Z"
   },
   {
    "duration": 44,
    "start_time": "2023-02-19T19:42:55.441Z"
   },
   {
    "duration": 15,
    "start_time": "2023-02-19T19:43:04.742Z"
   },
   {
    "duration": 12,
    "start_time": "2023-02-19T19:46:54.704Z"
   },
   {
    "duration": 9,
    "start_time": "2023-02-19T19:49:39.815Z"
   },
   {
    "duration": 12,
    "start_time": "2023-02-19T19:51:19.770Z"
   },
   {
    "duration": 13,
    "start_time": "2023-02-19T20:18:08.140Z"
   },
   {
    "duration": 17,
    "start_time": "2023-02-19T20:20:03.575Z"
   },
   {
    "duration": 18,
    "start_time": "2023-02-19T20:20:21.694Z"
   },
   {
    "duration": 16,
    "start_time": "2023-02-19T20:21:09.454Z"
   },
   {
    "duration": 17,
    "start_time": "2023-02-19T20:21:35.124Z"
   },
   {
    "duration": 4,
    "start_time": "2023-02-19T20:21:54.313Z"
   },
   {
    "duration": 4,
    "start_time": "2023-02-19T20:23:41.100Z"
   },
   {
    "duration": 5671,
    "start_time": "2023-02-19T20:23:45.656Z"
   },
   {
    "duration": 914,
    "start_time": "2023-02-19T20:23:54.797Z"
   },
   {
    "duration": 2,
    "start_time": "2023-02-19T20:24:02.083Z"
   },
   {
    "duration": 23,
    "start_time": "2023-02-19T20:24:04.135Z"
   },
   {
    "duration": 24,
    "start_time": "2023-02-19T20:24:08.131Z"
   },
   {
    "duration": 1512,
    "start_time": "2023-02-19T20:26:52.064Z"
   },
   {
    "duration": 3,
    "start_time": "2023-02-19T20:26:53.578Z"
   },
   {
    "duration": 889,
    "start_time": "2023-02-19T20:26:53.583Z"
   },
   {
    "duration": 140,
    "start_time": "2023-02-19T20:26:54.474Z"
   },
   {
    "duration": 1036,
    "start_time": "2023-02-19T20:26:54.615Z"
   },
   {
    "duration": 183,
    "start_time": "2023-02-19T20:26:55.653Z"
   },
   {
    "duration": 291,
    "start_time": "2023-02-19T20:26:55.838Z"
   },
   {
    "duration": 22,
    "start_time": "2023-02-19T20:26:56.131Z"
   },
   {
    "duration": 73,
    "start_time": "2023-02-19T20:26:56.155Z"
   },
   {
    "duration": 22,
    "start_time": "2023-02-19T20:26:56.231Z"
   },
   {
    "duration": 6,
    "start_time": "2023-02-19T20:26:56.255Z"
   },
   {
    "duration": 9,
    "start_time": "2023-02-19T20:26:56.262Z"
   },
   {
    "duration": 56,
    "start_time": "2023-02-19T20:26:56.273Z"
   },
   {
    "duration": 29,
    "start_time": "2023-02-19T20:26:56.330Z"
   },
   {
    "duration": 95,
    "start_time": "2023-02-19T20:26:56.362Z"
   },
   {
    "duration": 22,
    "start_time": "2023-02-19T20:26:56.458Z"
   },
   {
    "duration": 152,
    "start_time": "2023-02-19T20:26:56.481Z"
   },
   {
    "duration": 27,
    "start_time": "2023-02-19T20:26:56.634Z"
   },
   {
    "duration": 13,
    "start_time": "2023-02-19T20:26:56.663Z"
   },
   {
    "duration": 153,
    "start_time": "2023-02-19T20:26:56.677Z"
   },
   {
    "duration": 31,
    "start_time": "2023-02-19T20:26:56.832Z"
   },
   {
    "duration": 4,
    "start_time": "2023-02-19T20:26:56.865Z"
   },
   {
    "duration": 34,
    "start_time": "2023-02-19T20:26:56.871Z"
   },
   {
    "duration": 21,
    "start_time": "2023-02-19T20:26:56.907Z"
   },
   {
    "duration": 484,
    "start_time": "2023-02-19T20:26:56.929Z"
   },
   {
    "duration": 39,
    "start_time": "2023-02-19T20:26:57.415Z"
   },
   {
    "duration": 7,
    "start_time": "2023-02-19T20:26:57.455Z"
   },
   {
    "duration": 18,
    "start_time": "2023-02-19T20:26:57.466Z"
   },
   {
    "duration": 11,
    "start_time": "2023-02-19T20:26:57.486Z"
   },
   {
    "duration": 13,
    "start_time": "2023-02-19T20:26:57.499Z"
   },
   {
    "duration": 15,
    "start_time": "2023-02-19T20:26:57.514Z"
   },
   {
    "duration": 157,
    "start_time": "2023-02-19T20:26:57.531Z"
   },
   {
    "duration": 0,
    "start_time": "2023-02-19T20:26:57.690Z"
   },
   {
    "duration": 0,
    "start_time": "2023-02-19T20:26:57.691Z"
   },
   {
    "duration": 0,
    "start_time": "2023-02-19T20:26:57.692Z"
   },
   {
    "duration": 0,
    "start_time": "2023-02-19T20:26:57.692Z"
   },
   {
    "duration": 0,
    "start_time": "2023-02-19T20:26:57.693Z"
   },
   {
    "duration": 0,
    "start_time": "2023-02-19T20:26:57.694Z"
   },
   {
    "duration": 0,
    "start_time": "2023-02-19T20:26:57.695Z"
   },
   {
    "duration": 0,
    "start_time": "2023-02-19T20:26:57.696Z"
   },
   {
    "duration": 0,
    "start_time": "2023-02-19T20:26:57.697Z"
   },
   {
    "duration": 0,
    "start_time": "2023-02-19T20:26:57.698Z"
   },
   {
    "duration": 0,
    "start_time": "2023-02-19T20:26:57.698Z"
   },
   {
    "duration": 0,
    "start_time": "2023-02-19T20:26:57.699Z"
   },
   {
    "duration": 0,
    "start_time": "2023-02-19T20:26:57.700Z"
   },
   {
    "duration": 0,
    "start_time": "2023-02-19T20:26:57.701Z"
   },
   {
    "duration": 0,
    "start_time": "2023-02-19T20:26:57.702Z"
   },
   {
    "duration": 12,
    "start_time": "2023-02-19T20:27:25.086Z"
   },
   {
    "duration": 12,
    "start_time": "2023-02-19T20:27:38.159Z"
   },
   {
    "duration": 12,
    "start_time": "2023-02-19T20:27:38.174Z"
   },
   {
    "duration": 10,
    "start_time": "2023-02-19T20:27:38.188Z"
   },
   {
    "duration": 5,
    "start_time": "2023-02-19T20:27:38.200Z"
   },
   {
    "duration": 8,
    "start_time": "2023-02-19T20:27:38.208Z"
   },
   {
    "duration": 5,
    "start_time": "2023-02-19T20:27:38.218Z"
   },
   {
    "duration": 29,
    "start_time": "2023-02-19T20:27:38.225Z"
   },
   {
    "duration": 26,
    "start_time": "2023-02-19T20:27:38.256Z"
   },
   {
    "duration": 0,
    "start_time": "2023-02-19T20:27:38.284Z"
   },
   {
    "duration": 0,
    "start_time": "2023-02-19T20:27:38.286Z"
   },
   {
    "duration": 0,
    "start_time": "2023-02-19T20:27:38.287Z"
   },
   {
    "duration": 0,
    "start_time": "2023-02-19T20:27:38.288Z"
   },
   {
    "duration": 0,
    "start_time": "2023-02-19T20:27:38.290Z"
   },
   {
    "duration": 0,
    "start_time": "2023-02-19T20:27:38.291Z"
   },
   {
    "duration": 0,
    "start_time": "2023-02-19T20:27:38.293Z"
   },
   {
    "duration": 0,
    "start_time": "2023-02-19T20:27:38.295Z"
   },
   {
    "duration": 0,
    "start_time": "2023-02-19T20:27:38.297Z"
   },
   {
    "duration": 0,
    "start_time": "2023-02-19T20:27:38.299Z"
   },
   {
    "duration": 0,
    "start_time": "2023-02-19T20:27:38.300Z"
   },
   {
    "duration": 0,
    "start_time": "2023-02-19T20:27:38.302Z"
   },
   {
    "duration": 0,
    "start_time": "2023-02-19T20:27:38.303Z"
   },
   {
    "duration": 0,
    "start_time": "2023-02-19T20:27:38.304Z"
   },
   {
    "duration": 0,
    "start_time": "2023-02-19T20:27:38.327Z"
   },
   {
    "duration": 23,
    "start_time": "2023-02-19T20:28:04.030Z"
   },
   {
    "duration": 6,
    "start_time": "2023-02-19T20:28:28.773Z"
   },
   {
    "duration": 4,
    "start_time": "2023-02-19T20:28:30.025Z"
   },
   {
    "duration": 12,
    "start_time": "2023-02-19T20:28:44.197Z"
   },
   {
    "duration": 6,
    "start_time": "2023-02-19T20:28:44.324Z"
   },
   {
    "duration": 4,
    "start_time": "2023-02-19T20:28:45.270Z"
   },
   {
    "duration": 3,
    "start_time": "2023-02-19T20:28:46.108Z"
   },
   {
    "duration": 7,
    "start_time": "2023-02-19T20:28:49.324Z"
   },
   {
    "duration": 4,
    "start_time": "2023-02-19T20:28:50.656Z"
   },
   {
    "duration": 3,
    "start_time": "2023-02-19T20:28:52.025Z"
   },
   {
    "duration": 7,
    "start_time": "2023-02-19T20:29:16.756Z"
   },
   {
    "duration": 4,
    "start_time": "2023-02-19T20:29:17.615Z"
   },
   {
    "duration": 2,
    "start_time": "2023-02-19T20:29:18.333Z"
   },
   {
    "duration": 7,
    "start_time": "2023-02-19T20:29:20.132Z"
   },
   {
    "duration": 4,
    "start_time": "2023-02-19T20:29:21.166Z"
   },
   {
    "duration": 4,
    "start_time": "2023-02-19T20:29:33.930Z"
   },
   {
    "duration": 4,
    "start_time": "2023-02-19T20:29:36.023Z"
   },
   {
    "duration": 3,
    "start_time": "2023-02-19T20:29:36.563Z"
   },
   {
    "duration": 4,
    "start_time": "2023-02-19T20:29:45.058Z"
   },
   {
    "duration": 11,
    "start_time": "2023-02-19T20:29:58.125Z"
   },
   {
    "duration": 4,
    "start_time": "2023-02-19T20:30:03.799Z"
   },
   {
    "duration": 71,
    "start_time": "2023-02-19T20:30:07.190Z"
   },
   {
    "duration": 24,
    "start_time": "2023-02-19T20:30:08.071Z"
   },
   {
    "duration": 4,
    "start_time": "2023-02-19T20:30:08.976Z"
   },
   {
    "duration": 25,
    "start_time": "2023-02-19T20:30:10.330Z"
   },
   {
    "duration": 4,
    "start_time": "2023-02-19T20:30:13.342Z"
   },
   {
    "duration": 427,
    "start_time": "2023-02-19T20:30:14.383Z"
   },
   {
    "duration": 13,
    "start_time": "2023-02-19T20:30:23.070Z"
   },
   {
    "duration": 26,
    "start_time": "2023-02-19T20:30:27.926Z"
   },
   {
    "duration": 7,
    "start_time": "2023-02-19T20:30:28.880Z"
   },
   {
    "duration": 3,
    "start_time": "2023-02-19T20:30:29.775Z"
   },
   {
    "duration": 8,
    "start_time": "2023-02-19T20:30:33.878Z"
   },
   {
    "duration": 4,
    "start_time": "2023-02-19T20:30:36.521Z"
   },
   {
    "duration": 3,
    "start_time": "2023-02-19T20:30:42.226Z"
   },
   {
    "duration": 4,
    "start_time": "2023-02-19T20:30:43.360Z"
   },
   {
    "duration": 83,
    "start_time": "2023-02-19T20:31:00.279Z"
   },
   {
    "duration": 20,
    "start_time": "2023-02-19T20:31:01.430Z"
   },
   {
    "duration": 4,
    "start_time": "2023-02-19T20:31:02.527Z"
   },
   {
    "duration": 22,
    "start_time": "2023-02-19T20:31:03.567Z"
   },
   {
    "duration": 5,
    "start_time": "2023-02-19T20:31:04.494Z"
   },
   {
    "duration": 407,
    "start_time": "2023-02-19T20:31:08.975Z"
   },
   {
    "duration": 12,
    "start_time": "2023-02-19T20:31:44.142Z"
   },
   {
    "duration": 25,
    "start_time": "2023-02-19T20:31:50.525Z"
   },
   {
    "duration": 7,
    "start_time": "2023-02-19T20:31:51.458Z"
   },
   {
    "duration": 2,
    "start_time": "2023-02-19T20:31:53.230Z"
   },
   {
    "duration": 7,
    "start_time": "2023-02-19T20:31:56.231Z"
   },
   {
    "duration": 4,
    "start_time": "2023-02-19T20:31:57.125Z"
   },
   {
    "duration": 115,
    "start_time": "2023-02-19T20:33:50.660Z"
   },
   {
    "duration": 20,
    "start_time": "2023-02-19T20:33:51.695Z"
   },
   {
    "duration": 5,
    "start_time": "2023-02-19T20:33:54.039Z"
   },
   {
    "duration": 25,
    "start_time": "2023-02-19T20:33:55.156Z"
   },
   {
    "duration": 5,
    "start_time": "2023-02-19T20:33:56.288Z"
   },
   {
    "duration": 350,
    "start_time": "2023-02-19T20:34:02.213Z"
   },
   {
    "duration": 93,
    "start_time": "2023-02-20T17:47:51.300Z"
   },
   {
    "duration": 1635,
    "start_time": "2023-02-20T17:47:54.323Z"
   },
   {
    "duration": 3,
    "start_time": "2023-02-20T17:47:59.943Z"
   },
   {
    "duration": 1098,
    "start_time": "2023-02-20T17:48:00.461Z"
   },
   {
    "duration": 150,
    "start_time": "2023-02-20T17:48:01.561Z"
   },
   {
    "duration": 450,
    "start_time": "2023-02-20T17:48:02.171Z"
   },
   {
    "duration": 71,
    "start_time": "2023-02-20T17:48:03.749Z"
   },
   {
    "duration": 117,
    "start_time": "2023-02-20T17:48:05.325Z"
   },
   {
    "duration": 11,
    "start_time": "2023-02-20T17:48:06.646Z"
   },
   {
    "duration": 17,
    "start_time": "2023-02-20T17:48:07.126Z"
   },
   {
    "duration": 125,
    "start_time": "2023-02-20T17:48:16.476Z"
   },
   {
    "duration": 2,
    "start_time": "2023-02-20T17:48:22.453Z"
   },
   {
    "duration": 20,
    "start_time": "2023-02-20T17:48:31.236Z"
   },
   {
    "duration": 18,
    "start_time": "2023-02-20T17:48:32.013Z"
   },
   {
    "duration": 2,
    "start_time": "2023-02-20T17:48:36.225Z"
   },
   {
    "duration": 59,
    "start_time": "2023-02-20T17:48:40.472Z"
   },
   {
    "duration": 25,
    "start_time": "2023-02-20T17:48:44.959Z"
   },
   {
    "duration": 81,
    "start_time": "2023-02-20T17:50:03.162Z"
   },
   {
    "duration": 5,
    "start_time": "2023-02-20T17:50:09.979Z"
   },
   {
    "duration": 86,
    "start_time": "2023-02-20T17:50:16.568Z"
   },
   {
    "duration": 36,
    "start_time": "2023-02-20T17:50:17.148Z"
   },
   {
    "duration": 4,
    "start_time": "2023-02-20T17:50:17.727Z"
   },
   {
    "duration": 20,
    "start_time": "2023-02-20T17:50:18.266Z"
   },
   {
    "duration": 4,
    "start_time": "2023-02-20T17:50:18.759Z"
   },
   {
    "duration": 5,
    "start_time": "2023-02-20T17:50:21.127Z"
   },
   {
    "duration": 3,
    "start_time": "2023-02-20T17:50:46.987Z"
   },
   {
    "duration": 2,
    "start_time": "2023-02-20T17:51:05.393Z"
   },
   {
    "duration": 26,
    "start_time": "2023-02-20T17:51:12.640Z"
   },
   {
    "duration": 9,
    "start_time": "2023-02-20T17:53:13.708Z"
   },
   {
    "duration": 14,
    "start_time": "2023-02-20T17:53:17.332Z"
   },
   {
    "duration": 19,
    "start_time": "2023-02-20T17:53:40.645Z"
   },
   {
    "duration": 8,
    "start_time": "2023-02-20T17:55:21.570Z"
   },
   {
    "duration": 3,
    "start_time": "2023-02-20T17:55:45.107Z"
   },
   {
    "duration": 226,
    "start_time": "2023-02-20T17:55:56.103Z"
   },
   {
    "duration": 10,
    "start_time": "2023-02-20T17:56:07.253Z"
   },
   {
    "duration": 3,
    "start_time": "2023-02-20T17:56:07.687Z"
   },
   {
    "duration": 284,
    "start_time": "2023-02-20T17:56:08.098Z"
   },
   {
    "duration": 6,
    "start_time": "2023-02-20T17:56:34.439Z"
   },
   {
    "duration": 3,
    "start_time": "2023-02-20T17:56:34.941Z"
   },
   {
    "duration": 1474,
    "start_time": "2023-02-20T17:56:35.463Z"
   },
   {
    "duration": 4,
    "start_time": "2023-02-20T17:56:51.624Z"
   },
   {
    "duration": 3,
    "start_time": "2023-02-20T17:56:52.427Z"
   },
   {
    "duration": 748,
    "start_time": "2023-02-20T17:56:52.891Z"
   },
   {
    "duration": 137,
    "start_time": "2023-02-20T17:56:53.641Z"
   },
   {
    "duration": 382,
    "start_time": "2023-02-20T17:56:54.301Z"
   },
   {
    "duration": 93,
    "start_time": "2023-02-20T17:56:58.145Z"
   },
   {
    "duration": 160,
    "start_time": "2023-02-20T17:56:59.806Z"
   },
   {
    "duration": 19,
    "start_time": "2023-02-20T17:57:02.748Z"
   },
   {
    "duration": 2,
    "start_time": "2023-02-20T17:57:07.197Z"
   },
   {
    "duration": 7,
    "start_time": "2023-02-20T17:57:10.139Z"
   },
   {
    "duration": 6,
    "start_time": "2023-02-20T17:57:10.577Z"
   },
   {
    "duration": 8,
    "start_time": "2023-02-20T17:57:10.959Z"
   },
   {
    "duration": 3,
    "start_time": "2023-02-20T17:57:18.503Z"
   },
   {
    "duration": 2,
    "start_time": "2023-02-20T17:57:20.333Z"
   },
   {
    "duration": 36,
    "start_time": "2023-02-20T17:57:28.578Z"
   },
   {
    "duration": 22,
    "start_time": "2023-02-20T18:02:15.487Z"
   },
   {
    "duration": 2,
    "start_time": "2023-02-20T18:02:16.182Z"
   },
   {
    "duration": 6,
    "start_time": "2023-02-20T18:03:33.730Z"
   },
   {
    "duration": 5,
    "start_time": "2023-02-20T18:04:51.433Z"
   },
   {
    "duration": 2,
    "start_time": "2023-02-20T18:04:51.796Z"
   },
   {
    "duration": 530,
    "start_time": "2023-02-20T18:04:53.371Z"
   },
   {
    "duration": 8,
    "start_time": "2023-02-20T18:05:35.450Z"
   },
   {
    "duration": 3,
    "start_time": "2023-02-20T18:05:35.872Z"
   },
   {
    "duration": 567,
    "start_time": "2023-02-20T18:05:36.325Z"
   },
   {
    "duration": 1172,
    "start_time": "2023-02-20T18:07:11.025Z"
   },
   {
    "duration": 16,
    "start_time": "2023-02-20T18:07:17.332Z"
   },
   {
    "duration": 14,
    "start_time": "2023-02-20T18:07:27.676Z"
   },
   {
    "duration": 105,
    "start_time": "2023-02-20T18:08:13.482Z"
   },
   {
    "duration": 82,
    "start_time": "2023-02-20T18:08:21.714Z"
   },
   {
    "duration": 6,
    "start_time": "2023-02-20T18:08:23.444Z"
   },
   {
    "duration": 3,
    "start_time": "2023-02-20T18:08:25.181Z"
   },
   {
    "duration": 485,
    "start_time": "2023-02-20T18:08:25.702Z"
   },
   {
    "duration": 25,
    "start_time": "2023-02-20T18:08:51.113Z"
   },
   {
    "duration": 1671,
    "start_time": "2023-02-20T18:09:22.234Z"
   },
   {
    "duration": 7,
    "start_time": "2023-02-20T18:09:23.907Z"
   },
   {
    "duration": 921,
    "start_time": "2023-02-20T18:09:24.181Z"
   },
   {
    "duration": 164,
    "start_time": "2023-02-20T18:09:25.104Z"
   },
   {
    "duration": 542,
    "start_time": "2023-02-20T18:09:25.271Z"
   },
   {
    "duration": 76,
    "start_time": "2023-02-20T18:09:26.651Z"
   },
   {
    "duration": 127,
    "start_time": "2023-02-20T18:09:28.354Z"
   },
   {
    "duration": 11,
    "start_time": "2023-02-20T18:09:30.104Z"
   },
   {
    "duration": 3,
    "start_time": "2023-02-20T18:09:30.467Z"
   },
   {
    "duration": 6,
    "start_time": "2023-02-20T18:09:32.300Z"
   },
   {
    "duration": 8,
    "start_time": "2023-02-20T18:09:32.732Z"
   },
   {
    "duration": 3,
    "start_time": "2023-02-20T18:09:33.260Z"
   },
   {
    "duration": 3,
    "start_time": "2023-02-20T18:09:33.633Z"
   },
   {
    "duration": 27,
    "start_time": "2023-02-20T18:09:35.969Z"
   },
   {
    "duration": 18,
    "start_time": "2023-02-20T18:09:36.195Z"
   },
   {
    "duration": 2,
    "start_time": "2023-02-20T18:09:36.413Z"
   },
   {
    "duration": 3,
    "start_time": "2023-02-20T18:09:37.649Z"
   },
   {
    "duration": 36,
    "start_time": "2023-02-20T18:09:38.312Z"
   },
   {
    "duration": 3,
    "start_time": "2023-02-20T18:09:39.998Z"
   },
   {
    "duration": 3,
    "start_time": "2023-02-20T18:09:46.066Z"
   },
   {
    "duration": 3,
    "start_time": "2023-02-20T18:09:54.672Z"
   },
   {
    "duration": 3,
    "start_time": "2023-02-20T18:09:55.306Z"
   },
   {
    "duration": 3,
    "start_time": "2023-02-20T18:09:56.043Z"
   },
   {
    "duration": 4,
    "start_time": "2023-02-20T18:09:56.861Z"
   },
   {
    "duration": 127,
    "start_time": "2023-02-20T18:09:58.031Z"
   },
   {
    "duration": 6,
    "start_time": "2023-02-20T18:10:04.935Z"
   },
   {
    "duration": 2,
    "start_time": "2023-02-20T18:10:07.352Z"
   },
   {
    "duration": 26,
    "start_time": "2023-02-20T18:10:07.843Z"
   },
   {
    "duration": 746,
    "start_time": "2023-02-20T18:10:09.026Z"
   },
   {
    "duration": 10,
    "start_time": "2023-02-20T18:12:58.955Z"
   },
   {
    "duration": 3,
    "start_time": "2023-02-20T18:13:00.459Z"
   },
   {
    "duration": 718,
    "start_time": "2023-02-20T18:13:06.910Z"
   },
   {
    "duration": 4,
    "start_time": "2023-02-20T18:14:17.115Z"
   },
   {
    "duration": 10,
    "start_time": "2023-02-20T18:14:20.075Z"
   },
   {
    "duration": 4,
    "start_time": "2023-02-20T18:14:20.469Z"
   },
   {
    "duration": 688,
    "start_time": "2023-02-20T18:14:21.058Z"
   },
   {
    "duration": 56,
    "start_time": "2023-02-20T18:14:37.946Z"
   },
   {
    "duration": 7,
    "start_time": "2023-02-20T18:15:01.068Z"
   },
   {
    "duration": 7,
    "start_time": "2023-02-20T18:15:46.708Z"
   },
   {
    "duration": 669,
    "start_time": "2023-02-20T18:15:47.277Z"
   },
   {
    "duration": 6,
    "start_time": "2023-02-20T18:15:52.057Z"
   },
   {
    "duration": 646,
    "start_time": "2023-02-20T18:15:52.465Z"
   },
   {
    "duration": 89,
    "start_time": "2023-02-20T18:16:19.129Z"
   },
   {
    "duration": 740,
    "start_time": "2023-02-20T18:16:19.448Z"
   },
   {
    "duration": 6,
    "start_time": "2023-02-20T18:16:24.605Z"
   },
   {
    "duration": 664,
    "start_time": "2023-02-20T18:16:24.981Z"
   },
   {
    "duration": 6,
    "start_time": "2023-02-20T18:16:36.132Z"
   },
   {
    "duration": 685,
    "start_time": "2023-02-20T18:16:36.500Z"
   },
   {
    "duration": 6,
    "start_time": "2023-02-20T18:16:43.157Z"
   },
   {
    "duration": 5,
    "start_time": "2023-02-20T18:16:51.958Z"
   },
   {
    "duration": 7,
    "start_time": "2023-02-20T18:16:55.913Z"
   },
   {
    "duration": 18,
    "start_time": "2023-02-20T18:17:04.725Z"
   },
   {
    "duration": 6,
    "start_time": "2023-02-20T18:17:20.042Z"
   },
   {
    "duration": 49,
    "start_time": "2023-02-20T18:21:05.097Z"
   },
   {
    "duration": 344,
    "start_time": "2023-02-20T18:21:58.623Z"
   },
   {
    "duration": 5,
    "start_time": "2023-02-20T18:22:15.731Z"
   },
   {
    "duration": 14,
    "start_time": "2023-02-20T18:34:55.703Z"
   },
   {
    "duration": 11,
    "start_time": "2023-02-20T18:35:24.038Z"
   },
   {
    "duration": 1739,
    "start_time": "2023-02-20T18:35:38.491Z"
   },
   {
    "duration": 8,
    "start_time": "2023-02-20T18:35:45.002Z"
   },
   {
    "duration": 6,
    "start_time": "2023-02-20T18:36:21.208Z"
   },
   {
    "duration": 8564,
    "start_time": "2023-02-20T18:37:10.928Z"
   },
   {
    "duration": 7,
    "start_time": "2023-02-20T18:37:22.727Z"
   },
   {
    "duration": 8,
    "start_time": "2023-02-20T18:37:42.528Z"
   },
   {
    "duration": 4,
    "start_time": "2023-02-20T18:37:49.783Z"
   },
   {
    "duration": 4,
    "start_time": "2023-02-20T18:37:50.508Z"
   },
   {
    "duration": 722,
    "start_time": "2023-02-20T18:37:50.827Z"
   },
   {
    "duration": 141,
    "start_time": "2023-02-20T18:37:51.551Z"
   },
   {
    "duration": 418,
    "start_time": "2023-02-20T18:37:51.694Z"
   },
   {
    "duration": 84,
    "start_time": "2023-02-20T18:37:52.942Z"
   },
   {
    "duration": 121,
    "start_time": "2023-02-20T18:37:54.359Z"
   },
   {
    "duration": 12,
    "start_time": "2023-02-20T18:37:55.299Z"
   },
   {
    "duration": 3,
    "start_time": "2023-02-20T18:37:55.640Z"
   },
   {
    "duration": 5,
    "start_time": "2023-02-20T18:37:56.786Z"
   },
   {
    "duration": 6,
    "start_time": "2023-02-20T18:37:57.138Z"
   },
   {
    "duration": 3,
    "start_time": "2023-02-20T18:37:57.466Z"
   },
   {
    "duration": 3,
    "start_time": "2023-02-20T18:37:57.789Z"
   },
   {
    "duration": 21,
    "start_time": "2023-02-20T18:38:00.739Z"
   },
   {
    "duration": 17,
    "start_time": "2023-02-20T18:38:01.130Z"
   },
   {
    "duration": 3,
    "start_time": "2023-02-20T18:38:01.471Z"
   },
   {
    "duration": 2,
    "start_time": "2023-02-20T18:38:02.725Z"
   },
   {
    "duration": 34,
    "start_time": "2023-02-20T18:38:03.290Z"
   },
   {
    "duration": 2,
    "start_time": "2023-02-20T18:38:04.446Z"
   },
   {
    "duration": 3,
    "start_time": "2023-02-20T18:38:05.348Z"
   },
   {
    "duration": 2,
    "start_time": "2023-02-20T18:38:05.563Z"
   },
   {
    "duration": 3,
    "start_time": "2023-02-20T18:38:05.779Z"
   },
   {
    "duration": 3,
    "start_time": "2023-02-20T18:38:06.006Z"
   },
   {
    "duration": 2,
    "start_time": "2023-02-20T18:38:06.231Z"
   },
   {
    "duration": 3,
    "start_time": "2023-02-20T18:38:06.647Z"
   },
   {
    "duration": 74,
    "start_time": "2023-02-20T18:38:07.078Z"
   },
   {
    "duration": 7,
    "start_time": "2023-02-20T18:38:07.489Z"
   },
   {
    "duration": 740,
    "start_time": "2023-02-20T18:38:08.951Z"
   },
   {
    "duration": 13,
    "start_time": "2023-02-20T18:38:10.315Z"
   },
   {
    "duration": 7,
    "start_time": "2023-02-20T18:38:11.302Z"
   },
   {
    "duration": 13,
    "start_time": "2023-02-20T18:41:54.029Z"
   },
   {
    "duration": 8,
    "start_time": "2023-02-20T18:41:54.604Z"
   },
   {
    "duration": 628,
    "start_time": "2023-02-20T18:41:55.205Z"
   },
   {
    "duration": 7,
    "start_time": "2023-02-20T18:41:57.178Z"
   },
   {
    "duration": 7,
    "start_time": "2023-02-20T18:41:59.736Z"
   },
   {
    "duration": 2763,
    "start_time": "2023-02-20T18:42:00.234Z"
   },
   {
    "duration": 6,
    "start_time": "2023-02-20T18:42:02.999Z"
   },
   {
    "duration": 26,
    "start_time": "2023-02-20T18:42:21.479Z"
   },
   {
    "duration": 6,
    "start_time": "2023-02-20T18:49:00.769Z"
   },
   {
    "duration": 12941,
    "start_time": "2023-02-20T18:49:19.147Z"
   },
   {
    "duration": 55,
    "start_time": "2023-02-20T18:50:12.638Z"
   },
   {
    "duration": 67,
    "start_time": "2023-02-20T18:50:56.786Z"
   },
   {
    "duration": 8,
    "start_time": "2023-02-20T18:51:00.135Z"
   },
   {
    "duration": 5,
    "start_time": "2023-02-20T18:51:04.503Z"
   },
   {
    "duration": 6,
    "start_time": "2023-02-20T18:51:08.548Z"
   },
   {
    "duration": 725,
    "start_time": "2023-02-20T18:51:09.202Z"
   },
   {
    "duration": 87,
    "start_time": "2023-02-20T18:51:11.485Z"
   },
   {
    "duration": 4,
    "start_time": "2023-02-20T18:51:16.399Z"
   },
   {
    "duration": 3,
    "start_time": "2023-02-20T18:51:17.012Z"
   },
   {
    "duration": 774,
    "start_time": "2023-02-20T18:51:17.282Z"
   },
   {
    "duration": 157,
    "start_time": "2023-02-20T18:51:18.058Z"
   },
   {
    "duration": 388,
    "start_time": "2023-02-20T18:51:18.217Z"
   },
   {
    "duration": 69,
    "start_time": "2023-02-20T18:51:18.974Z"
   },
   {
    "duration": 122,
    "start_time": "2023-02-20T18:51:20.132Z"
   },
   {
    "duration": 17,
    "start_time": "2023-02-20T18:51:21.188Z"
   },
   {
    "duration": 2,
    "start_time": "2023-02-20T18:51:21.483Z"
   },
   {
    "duration": 6,
    "start_time": "2023-02-20T18:51:22.607Z"
   },
   {
    "duration": 7,
    "start_time": "2023-02-20T18:51:22.948Z"
   },
   {
    "duration": 3,
    "start_time": "2023-02-20T18:51:23.266Z"
   },
   {
    "duration": 3,
    "start_time": "2023-02-20T18:51:23.531Z"
   },
   {
    "duration": 20,
    "start_time": "2023-02-20T18:51:25.463Z"
   },
   {
    "duration": 16,
    "start_time": "2023-02-20T18:51:25.656Z"
   },
   {
    "duration": 2,
    "start_time": "2023-02-20T18:51:25.868Z"
   },
   {
    "duration": 2,
    "start_time": "2023-02-20T18:51:26.757Z"
   },
   {
    "duration": 38,
    "start_time": "2023-02-20T18:51:27.195Z"
   },
   {
    "duration": 2,
    "start_time": "2023-02-20T18:51:28.018Z"
   },
   {
    "duration": 2,
    "start_time": "2023-02-20T18:51:28.765Z"
   },
   {
    "duration": 2,
    "start_time": "2023-02-20T18:51:28.982Z"
   },
   {
    "duration": 3,
    "start_time": "2023-02-20T18:51:29.188Z"
   },
   {
    "duration": 2,
    "start_time": "2023-02-20T18:51:29.391Z"
   },
   {
    "duration": 4,
    "start_time": "2023-02-20T18:51:29.586Z"
   },
   {
    "duration": 3,
    "start_time": "2023-02-20T18:51:30.025Z"
   },
   {
    "duration": 69,
    "start_time": "2023-02-20T18:51:30.501Z"
   },
   {
    "duration": 6,
    "start_time": "2023-02-20T18:51:30.847Z"
   },
   {
    "duration": 693,
    "start_time": "2023-02-20T18:51:31.537Z"
   },
   {
    "duration": 70,
    "start_time": "2023-02-20T18:51:33.738Z"
   },
   {
    "duration": 4,
    "start_time": "2023-02-20T18:51:43.779Z"
   },
   {
    "duration": 6,
    "start_time": "2023-02-20T18:51:49.233Z"
   },
   {
    "duration": 14743,
    "start_time": "2023-02-20T18:51:50.189Z"
   },
   {
    "duration": 40,
    "start_time": "2023-02-20T18:52:04.935Z"
   },
   {
    "duration": 6,
    "start_time": "2023-02-20T18:56:35.005Z"
   },
   {
    "duration": 4,
    "start_time": "2023-02-20T18:56:43.533Z"
   },
   {
    "duration": 3,
    "start_time": "2023-02-20T18:56:44.379Z"
   },
   {
    "duration": 761,
    "start_time": "2023-02-20T18:56:44.733Z"
   },
   {
    "duration": 174,
    "start_time": "2023-02-20T18:56:45.496Z"
   },
   {
    "duration": 415,
    "start_time": "2023-02-20T18:56:45.673Z"
   },
   {
    "duration": 67,
    "start_time": "2023-02-20T18:56:46.987Z"
   },
   {
    "duration": 166,
    "start_time": "2023-02-20T18:56:48.227Z"
   },
   {
    "duration": 10,
    "start_time": "2023-02-20T18:56:48.916Z"
   },
   {
    "duration": 2,
    "start_time": "2023-02-20T18:56:49.134Z"
   },
   {
    "duration": 6,
    "start_time": "2023-02-20T18:56:49.965Z"
   },
   {
    "duration": 9,
    "start_time": "2023-02-20T18:56:50.205Z"
   },
   {
    "duration": 3,
    "start_time": "2023-02-20T18:56:50.521Z"
   },
   {
    "duration": 2,
    "start_time": "2023-02-20T18:56:50.801Z"
   },
   {
    "duration": 21,
    "start_time": "2023-02-20T18:56:53.194Z"
   },
   {
    "duration": 18,
    "start_time": "2023-02-20T18:56:53.470Z"
   },
   {
    "duration": 2,
    "start_time": "2023-02-20T18:56:53.723Z"
   },
   {
    "duration": 2,
    "start_time": "2023-02-20T18:56:54.968Z"
   },
   {
    "duration": 38,
    "start_time": "2023-02-20T18:56:55.506Z"
   },
   {
    "duration": 3,
    "start_time": "2023-02-20T18:56:56.733Z"
   },
   {
    "duration": 3,
    "start_time": "2023-02-20T18:56:57.508Z"
   },
   {
    "duration": 3,
    "start_time": "2023-02-20T18:56:57.726Z"
   },
   {
    "duration": 2,
    "start_time": "2023-02-20T18:56:57.960Z"
   },
   {
    "duration": 3,
    "start_time": "2023-02-20T18:56:58.101Z"
   },
   {
    "duration": 3,
    "start_time": "2023-02-20T18:56:58.893Z"
   },
   {
    "duration": 6,
    "start_time": "2023-02-20T18:56:58.899Z"
   },
   {
    "duration": 80,
    "start_time": "2023-02-20T18:56:59.020Z"
   },
   {
    "duration": 7,
    "start_time": "2023-02-20T18:56:59.281Z"
   },
   {
    "duration": 727,
    "start_time": "2023-02-20T18:57:01.434Z"
   },
   {
    "duration": 71,
    "start_time": "2023-02-20T18:57:02.792Z"
   },
   {
    "duration": 7,
    "start_time": "2023-02-20T18:57:03.621Z"
   },
   {
    "duration": 619,
    "start_time": "2023-02-20T18:57:04.847Z"
   },
   {
    "duration": 7,
    "start_time": "2023-02-20T18:57:39.996Z"
   },
   {
    "duration": 619,
    "start_time": "2023-02-20T18:57:40.534Z"
   },
   {
    "duration": 16,
    "start_time": "2023-02-20T18:58:41.827Z"
   },
   {
    "duration": 6,
    "start_time": "2023-02-20T18:59:18.497Z"
   },
   {
    "duration": 642,
    "start_time": "2023-02-20T18:59:19.125Z"
   },
   {
    "duration": 9,
    "start_time": "2023-02-20T19:00:26.638Z"
   },
   {
    "duration": 722,
    "start_time": "2023-02-20T19:00:27.000Z"
   },
   {
    "duration": 7,
    "start_time": "2023-02-20T19:00:36.494Z"
   },
   {
    "duration": 3592,
    "start_time": "2023-02-20T19:00:37.430Z"
   },
   {
    "duration": 7,
    "start_time": "2023-02-20T19:01:29.357Z"
   },
   {
    "duration": 3778,
    "start_time": "2023-02-20T19:01:29.683Z"
   },
   {
    "duration": 11,
    "start_time": "2023-02-20T19:02:11.100Z"
   },
   {
    "duration": 3227,
    "start_time": "2023-02-20T19:02:11.490Z"
   },
   {
    "duration": 8,
    "start_time": "2023-02-20T19:02:51.021Z"
   },
   {
    "duration": 3395,
    "start_time": "2023-02-20T19:02:52.284Z"
   },
   {
    "duration": 3412,
    "start_time": "2023-02-20T19:03:02.574Z"
   },
   {
    "duration": 9,
    "start_time": "2023-02-20T19:08:48.789Z"
   },
   {
    "duration": 16362,
    "start_time": "2023-02-20T19:08:49.251Z"
   },
   {
    "duration": 20,
    "start_time": "2023-02-20T19:10:03.583Z"
   },
   {
    "duration": 4,
    "start_time": "2023-02-20T19:10:57.493Z"
   },
   {
    "duration": 5,
    "start_time": "2023-02-20T19:10:58.104Z"
   },
   {
    "duration": 715,
    "start_time": "2023-02-20T19:10:58.771Z"
   },
   {
    "duration": 181,
    "start_time": "2023-02-20T19:10:59.488Z"
   },
   {
    "duration": 407,
    "start_time": "2023-02-20T19:10:59.670Z"
   },
   {
    "duration": 76,
    "start_time": "2023-02-20T19:11:00.078Z"
   },
   {
    "duration": 124,
    "start_time": "2023-02-20T19:11:00.936Z"
   },
   {
    "duration": 10,
    "start_time": "2023-02-20T19:11:01.650Z"
   },
   {
    "duration": 3,
    "start_time": "2023-02-20T19:11:01.855Z"
   },
   {
    "duration": 6,
    "start_time": "2023-02-20T19:11:02.744Z"
   },
   {
    "duration": 6,
    "start_time": "2023-02-20T19:11:02.974Z"
   },
   {
    "duration": 2,
    "start_time": "2023-02-20T19:11:03.197Z"
   },
   {
    "duration": 3,
    "start_time": "2023-02-20T19:11:03.410Z"
   },
   {
    "duration": 22,
    "start_time": "2023-02-20T19:11:05.240Z"
   },
   {
    "duration": 31,
    "start_time": "2023-02-20T19:11:05.379Z"
   },
   {
    "duration": 3,
    "start_time": "2023-02-20T19:11:05.580Z"
   },
   {
    "duration": 3,
    "start_time": "2023-02-20T19:11:06.555Z"
   },
   {
    "duration": 52,
    "start_time": "2023-02-20T19:11:07.051Z"
   },
   {
    "duration": 2,
    "start_time": "2023-02-20T19:11:07.980Z"
   },
   {
    "duration": 2,
    "start_time": "2023-02-20T19:11:08.847Z"
   },
   {
    "duration": 3,
    "start_time": "2023-02-20T19:11:09.059Z"
   },
   {
    "duration": 2,
    "start_time": "2023-02-20T19:11:09.270Z"
   },
   {
    "duration": 3,
    "start_time": "2023-02-20T19:11:09.519Z"
   },
   {
    "duration": 3,
    "start_time": "2023-02-20T19:11:09.800Z"
   },
   {
    "duration": 2,
    "start_time": "2023-02-20T19:11:10.240Z"
   },
   {
    "duration": 71,
    "start_time": "2023-02-20T19:11:10.488Z"
   },
   {
    "duration": 7,
    "start_time": "2023-02-20T19:11:10.806Z"
   },
   {
    "duration": 667,
    "start_time": "2023-02-20T19:11:11.545Z"
   },
   {
    "duration": 71,
    "start_time": "2023-02-20T19:11:12.421Z"
   },
   {
    "duration": 6,
    "start_time": "2023-02-20T19:11:13.242Z"
   },
   {
    "duration": 19,
    "start_time": "2023-02-20T19:11:20.930Z"
   },
   {
    "duration": 6,
    "start_time": "2023-02-20T19:11:53.011Z"
   },
   {
    "duration": 15383,
    "start_time": "2023-02-20T19:11:53.973Z"
   },
   {
    "duration": 21,
    "start_time": "2023-02-20T19:12:22.673Z"
   },
   {
    "duration": 11,
    "start_time": "2023-02-20T19:17:46.433Z"
   },
   {
    "duration": 9392,
    "start_time": "2023-02-20T19:17:47.586Z"
   },
   {
    "duration": 4,
    "start_time": "2023-02-20T19:17:56.980Z"
   },
   {
    "duration": 1495,
    "start_time": "2023-02-20T19:17:59.015Z"
   },
   {
    "duration": 3,
    "start_time": "2023-02-20T19:18:01.706Z"
   },
   {
    "duration": 861,
    "start_time": "2023-02-20T19:18:01.921Z"
   },
   {
    "duration": 142,
    "start_time": "2023-02-20T19:18:02.784Z"
   },
   {
    "duration": 469,
    "start_time": "2023-02-20T19:18:02.927Z"
   },
   {
    "duration": 76,
    "start_time": "2023-02-20T19:18:03.451Z"
   },
   {
    "duration": 121,
    "start_time": "2023-02-20T19:18:04.466Z"
   },
   {
    "duration": 12,
    "start_time": "2023-02-20T19:18:05.130Z"
   },
   {
    "duration": 3,
    "start_time": "2023-02-20T19:18:05.354Z"
   },
   {
    "duration": 5,
    "start_time": "2023-02-20T19:18:06.267Z"
   },
   {
    "duration": 6,
    "start_time": "2023-02-20T19:18:06.555Z"
   },
   {
    "duration": 3,
    "start_time": "2023-02-20T19:18:06.795Z"
   },
   {
    "duration": 3,
    "start_time": "2023-02-20T19:18:07.066Z"
   },
   {
    "duration": 21,
    "start_time": "2023-02-20T19:18:08.952Z"
   },
   {
    "duration": 17,
    "start_time": "2023-02-20T19:18:09.153Z"
   },
   {
    "duration": 3,
    "start_time": "2023-02-20T19:18:09.381Z"
   },
   {
    "duration": 2,
    "start_time": "2023-02-20T19:18:10.190Z"
   },
   {
    "duration": 37,
    "start_time": "2023-02-20T19:18:10.652Z"
   },
   {
    "duration": 2,
    "start_time": "2023-02-20T19:18:11.574Z"
   },
   {
    "duration": 3,
    "start_time": "2023-02-20T19:18:12.456Z"
   },
   {
    "duration": 3,
    "start_time": "2023-02-20T19:18:12.669Z"
   },
   {
    "duration": 3,
    "start_time": "2023-02-20T19:18:12.855Z"
   },
   {
    "duration": 2,
    "start_time": "2023-02-20T19:18:13.044Z"
   },
   {
    "duration": 2,
    "start_time": "2023-02-20T19:18:13.252Z"
   },
   {
    "duration": 3,
    "start_time": "2023-02-20T19:18:13.652Z"
   },
   {
    "duration": 100,
    "start_time": "2023-02-20T19:18:14.029Z"
   },
   {
    "duration": 7,
    "start_time": "2023-02-20T19:18:14.947Z"
   },
   {
    "duration": 803,
    "start_time": "2023-02-20T19:18:15.363Z"
   },
   {
    "duration": 70,
    "start_time": "2023-02-20T19:18:19.034Z"
   },
   {
    "duration": 21,
    "start_time": "2023-02-20T19:18:21.089Z"
   },
   {
    "duration": 7,
    "start_time": "2023-02-20T19:18:23.153Z"
   },
   {
    "duration": 20738,
    "start_time": "2023-02-20T19:18:25.039Z"
   },
   {
    "duration": 21,
    "start_time": "2023-02-20T19:18:48.754Z"
   },
   {
    "duration": 19,
    "start_time": "2023-02-20T19:18:51.398Z"
   },
   {
    "duration": 8,
    "start_time": "2023-02-20T19:19:16.359Z"
   },
   {
    "duration": 793,
    "start_time": "2023-02-20T19:19:23.167Z"
   },
   {
    "duration": 156,
    "start_time": "2023-02-20T19:19:23.963Z"
   },
   {
    "duration": 423,
    "start_time": "2023-02-20T19:19:24.121Z"
   },
   {
    "duration": 78,
    "start_time": "2023-02-20T19:19:24.815Z"
   },
   {
    "duration": 136,
    "start_time": "2023-02-20T19:19:25.781Z"
   },
   {
    "duration": 12,
    "start_time": "2023-02-20T19:19:26.378Z"
   },
   {
    "duration": 3,
    "start_time": "2023-02-20T19:19:26.582Z"
   },
   {
    "duration": 8,
    "start_time": "2023-02-20T19:19:27.417Z"
   },
   {
    "duration": 9,
    "start_time": "2023-02-20T19:19:27.644Z"
   },
   {
    "duration": 2,
    "start_time": "2023-02-20T19:19:27.853Z"
   },
   {
    "duration": 2,
    "start_time": "2023-02-20T19:19:28.052Z"
   },
   {
    "duration": 21,
    "start_time": "2023-02-20T19:19:29.814Z"
   },
   {
    "duration": 31,
    "start_time": "2023-02-20T19:19:29.992Z"
   },
   {
    "duration": 2,
    "start_time": "2023-02-20T19:19:30.199Z"
   },
   {
    "duration": 2,
    "start_time": "2023-02-20T19:19:31.012Z"
   },
   {
    "duration": 38,
    "start_time": "2023-02-20T19:19:31.453Z"
   },
   {
    "duration": 3,
    "start_time": "2023-02-20T19:19:32.271Z"
   },
   {
    "duration": 3,
    "start_time": "2023-02-20T19:19:33.127Z"
   },
   {
    "duration": 3,
    "start_time": "2023-02-20T19:19:33.333Z"
   },
   {
    "duration": 3,
    "start_time": "2023-02-20T19:19:33.597Z"
   },
   {
    "duration": 3,
    "start_time": "2023-02-20T19:19:33.864Z"
   },
   {
    "duration": 3,
    "start_time": "2023-02-20T19:19:34.083Z"
   },
   {
    "duration": 3,
    "start_time": "2023-02-20T19:19:34.624Z"
   },
   {
    "duration": 77,
    "start_time": "2023-02-20T19:19:34.985Z"
   },
   {
    "duration": 8,
    "start_time": "2023-02-20T19:19:35.399Z"
   },
   {
    "duration": 745,
    "start_time": "2023-02-20T19:19:35.932Z"
   },
   {
    "duration": 70,
    "start_time": "2023-02-20T19:19:38.784Z"
   },
   {
    "duration": 22,
    "start_time": "2023-02-20T19:19:39.298Z"
   },
   {
    "duration": 3,
    "start_time": "2023-02-20T19:19:50.523Z"
   },
   {
    "duration": 6,
    "start_time": "2023-02-20T19:19:57.472Z"
   },
   {
    "duration": 7,
    "start_time": "2023-02-20T19:19:58.070Z"
   },
   {
    "duration": 5455,
    "start_time": "2023-02-20T19:20:04.604Z"
   },
   {
    "duration": 20999,
    "start_time": "2023-02-20T19:20:13.508Z"
   },
   {
    "duration": 19,
    "start_time": "2023-02-20T19:20:34.509Z"
   },
   {
    "duration": 4,
    "start_time": "2023-02-20T19:20:34.530Z"
   },
   {
    "duration": 10,
    "start_time": "2023-02-20T19:21:10.667Z"
   },
   {
    "duration": 6,
    "start_time": "2023-02-20T19:21:12.797Z"
   },
   {
    "duration": 10,
    "start_time": "2023-02-20T19:21:13.084Z"
   },
   {
    "duration": 5583,
    "start_time": "2023-02-20T19:21:13.366Z"
   },
   {
    "duration": 53,
    "start_time": "2023-02-20T19:21:50.452Z"
   },
   {
    "duration": 37,
    "start_time": "2023-02-20T19:22:08.237Z"
   },
   {
    "duration": 50,
    "start_time": "2023-02-20T19:29:32.039Z"
   },
   {
    "duration": 7,
    "start_time": "2023-02-20T19:33:19.987Z"
   },
   {
    "duration": 7,
    "start_time": "2023-02-20T19:33:28.211Z"
   },
   {
    "duration": 7,
    "start_time": "2023-02-20T19:33:28.606Z"
   },
   {
    "duration": 22,
    "start_time": "2023-02-20T19:33:29.054Z"
   },
   {
    "duration": 5810,
    "start_time": "2023-02-20T19:33:45.002Z"
   },
   {
    "duration": 9,
    "start_time": "2023-02-20T19:34:05.150Z"
   },
   {
    "duration": 2315,
    "start_time": "2023-02-20T19:34:06.961Z"
   },
   {
    "duration": 5,
    "start_time": "2023-02-20T19:34:11.260Z"
   },
   {
    "duration": 13,
    "start_time": "2023-02-20T19:34:11.534Z"
   },
   {
    "duration": 22227,
    "start_time": "2023-02-20T19:34:11.801Z"
   },
   {
    "duration": 27,
    "start_time": "2023-02-20T19:34:34.030Z"
   },
   {
    "duration": 1578,
    "start_time": "2023-02-20T19:39:49.243Z"
   },
   {
    "duration": 5,
    "start_time": "2023-02-20T19:39:52.293Z"
   },
   {
    "duration": 1037,
    "start_time": "2023-02-20T19:39:52.550Z"
   },
   {
    "duration": 170,
    "start_time": "2023-02-20T19:39:53.589Z"
   },
   {
    "duration": 504,
    "start_time": "2023-02-20T19:39:53.761Z"
   },
   {
    "duration": 75,
    "start_time": "2023-02-20T19:39:54.269Z"
   },
   {
    "duration": 136,
    "start_time": "2023-02-20T19:39:55.362Z"
   },
   {
    "duration": 23,
    "start_time": "2023-02-20T19:39:56.022Z"
   },
   {
    "duration": 3,
    "start_time": "2023-02-20T19:39:56.252Z"
   },
   {
    "duration": 5,
    "start_time": "2023-02-20T19:39:57.097Z"
   },
   {
    "duration": 7,
    "start_time": "2023-02-20T19:39:57.319Z"
   },
   {
    "duration": 3,
    "start_time": "2023-02-20T19:39:57.826Z"
   },
   {
    "duration": 2,
    "start_time": "2023-02-20T19:39:58.104Z"
   },
   {
    "duration": 25,
    "start_time": "2023-02-20T19:40:00.197Z"
   },
   {
    "duration": 30,
    "start_time": "2023-02-20T19:40:00.456Z"
   },
   {
    "duration": 3,
    "start_time": "2023-02-20T19:40:00.704Z"
   },
   {
    "duration": 3,
    "start_time": "2023-02-20T19:40:01.794Z"
   },
   {
    "duration": 53,
    "start_time": "2023-02-20T19:40:02.948Z"
   },
   {
    "duration": 3,
    "start_time": "2023-02-20T19:40:03.878Z"
   },
   {
    "duration": 3,
    "start_time": "2023-02-20T19:40:04.623Z"
   },
   {
    "duration": 3,
    "start_time": "2023-02-20T19:40:04.807Z"
   },
   {
    "duration": 2,
    "start_time": "2023-02-20T19:40:04.991Z"
   },
   {
    "duration": 3,
    "start_time": "2023-02-20T19:40:05.179Z"
   },
   {
    "duration": 3,
    "start_time": "2023-02-20T19:40:05.383Z"
   },
   {
    "duration": 3,
    "start_time": "2023-02-20T19:40:05.899Z"
   },
   {
    "duration": 160,
    "start_time": "2023-02-20T19:40:06.709Z"
   },
   {
    "duration": 11,
    "start_time": "2023-02-20T19:40:07.381Z"
   },
   {
    "duration": 790,
    "start_time": "2023-02-20T19:40:08.147Z"
   },
   {
    "duration": 111,
    "start_time": "2023-02-20T19:40:15.995Z"
   },
   {
    "duration": 37,
    "start_time": "2023-02-20T19:40:16.958Z"
   },
   {
    "duration": 10,
    "start_time": "2023-02-20T19:40:17.697Z"
   },
   {
    "duration": 32982,
    "start_time": "2023-02-20T19:40:19.878Z"
   },
   {
    "duration": 23291,
    "start_time": "2023-02-20T19:40:52.862Z"
   },
   {
    "duration": 70,
    "start_time": "2023-02-20T19:41:16.156Z"
   },
   {
    "duration": 54,
    "start_time": "2023-02-20T19:41:16.229Z"
   },
   {
    "duration": 6,
    "start_time": "2023-02-20T19:42:06.977Z"
   },
   {
    "duration": 4,
    "start_time": "2023-02-20T19:42:10.551Z"
   },
   {
    "duration": 24,
    "start_time": "2023-02-20T19:44:34.062Z"
   },
   {
    "duration": 8,
    "start_time": "2023-02-20T19:44:57.104Z"
   },
   {
    "duration": 13,
    "start_time": "2023-02-20T19:45:11.118Z"
   },
   {
    "duration": 11,
    "start_time": "2023-02-20T19:45:52.623Z"
   },
   {
    "duration": 66,
    "start_time": "2023-02-20T19:50:54.206Z"
   },
   {
    "duration": 9,
    "start_time": "2023-02-20T19:51:24.417Z"
   },
   {
    "duration": 3,
    "start_time": "2023-02-20T19:52:35.614Z"
   },
   {
    "duration": 7,
    "start_time": "2023-02-20T19:54:32.602Z"
   },
   {
    "duration": 1629,
    "start_time": "2023-02-21T19:02:18.783Z"
   },
   {
    "duration": 3,
    "start_time": "2023-02-21T19:02:22.495Z"
   },
   {
    "duration": 1016,
    "start_time": "2023-02-21T19:02:23.183Z"
   },
   {
    "duration": 135,
    "start_time": "2023-02-21T19:02:24.201Z"
   },
   {
    "duration": 416,
    "start_time": "2023-02-21T19:02:25.281Z"
   },
   {
    "duration": 83,
    "start_time": "2023-02-21T19:02:29.383Z"
   },
   {
    "duration": 114,
    "start_time": "2023-02-21T19:02:33.141Z"
   },
   {
    "duration": 11,
    "start_time": "2023-02-21T19:02:34.965Z"
   },
   {
    "duration": 2,
    "start_time": "2023-02-21T19:02:35.591Z"
   },
   {
    "duration": 6,
    "start_time": "2023-02-21T19:02:37.734Z"
   },
   {
    "duration": 6,
    "start_time": "2023-02-21T19:02:38.432Z"
   },
   {
    "duration": 2,
    "start_time": "2023-02-21T19:02:39.080Z"
   },
   {
    "duration": 2,
    "start_time": "2023-02-21T19:02:39.750Z"
   },
   {
    "duration": 27,
    "start_time": "2023-02-21T19:02:46.526Z"
   },
   {
    "duration": 15,
    "start_time": "2023-02-21T19:02:47.111Z"
   },
   {
    "duration": 2,
    "start_time": "2023-02-21T19:02:47.854Z"
   },
   {
    "duration": 2,
    "start_time": "2023-02-21T19:02:50.446Z"
   },
   {
    "duration": 38,
    "start_time": "2023-02-21T19:02:51.758Z"
   },
   {
    "duration": 3,
    "start_time": "2023-02-21T19:02:55.118Z"
   },
   {
    "duration": 2,
    "start_time": "2023-02-21T19:02:57.464Z"
   },
   {
    "duration": 2,
    "start_time": "2023-02-21T19:02:57.993Z"
   },
   {
    "duration": 3,
    "start_time": "2023-02-21T19:02:58.821Z"
   },
   {
    "duration": 2,
    "start_time": "2023-02-21T19:02:59.175Z"
   },
   {
    "duration": 3,
    "start_time": "2023-02-21T19:03:00.105Z"
   },
   {
    "duration": 3,
    "start_time": "2023-02-21T19:03:12.438Z"
   },
   {
    "duration": 108,
    "start_time": "2023-02-21T19:03:17.407Z"
   },
   {
    "duration": 8,
    "start_time": "2023-02-21T19:03:29.095Z"
   },
   {
    "duration": 654,
    "start_time": "2023-02-21T19:03:35.733Z"
   },
   {
    "duration": 63,
    "start_time": "2023-02-21T19:03:48.096Z"
   },
   {
    "duration": 19,
    "start_time": "2023-02-21T19:03:49.121Z"
   },
   {
    "duration": 7,
    "start_time": "2023-02-21T19:03:53.336Z"
   },
   {
    "duration": 30306,
    "start_time": "2023-02-21T19:04:07.450Z"
   },
   {
    "duration": 19682,
    "start_time": "2023-02-21T19:04:43.767Z"
   },
   {
    "duration": 16,
    "start_time": "2023-02-21T19:30:52.600Z"
   },
   {
    "duration": 4,
    "start_time": "2023-02-21T19:31:02.680Z"
   },
   {
    "duration": 4,
    "start_time": "2023-02-21T19:31:04.056Z"
   },
   {
    "duration": 2622,
    "start_time": "2023-02-21T19:31:06.656Z"
   },
   {
    "duration": 675,
    "start_time": "2023-02-21T19:31:12.704Z"
   },
   {
    "duration": 2,
    "start_time": "2023-02-21T19:31:19.729Z"
   },
   {
    "duration": 23,
    "start_time": "2023-02-21T19:31:22.047Z"
   },
   {
    "duration": 23,
    "start_time": "2023-02-21T19:31:23.792Z"
   },
   {
    "duration": 4527878,
    "start_time": "2023-02-21T19:33:19.897Z"
   },
   {
    "duration": 1963,
    "start_time": "2023-02-21T20:49:05.954Z"
   },
   {
    "duration": 3,
    "start_time": "2023-02-21T20:49:25.488Z"
   },
   {
    "duration": 4,
    "start_time": "2023-02-21T20:49:30.023Z"
   },
   {
    "duration": 2658412,
    "start_time": "2023-02-21T20:49:35.320Z"
   },
   {
    "duration": 144,
    "start_time": "2023-02-21T21:35:30.789Z"
   },
   {
    "duration": 5,
    "start_time": "2023-02-21T21:35:52.524Z"
   },
   {
    "duration": 3295415,
    "start_time": "2023-02-21T21:35:59.795Z"
   },
   {
    "duration": 1338,
    "start_time": "2023-02-21T22:41:32.475Z"
   },
   {
    "duration": 56,
    "start_time": "2023-02-21T22:41:41.571Z"
   }
  ],
  "kernelspec": {
   "display_name": "Python 3 (ipykernel)",
   "language": "python",
   "name": "python3"
  },
  "language_info": {
   "codemirror_mode": {
    "name": "ipython",
    "version": 3
   },
   "file_extension": ".py",
   "mimetype": "text/x-python",
   "name": "python",
   "nbconvert_exporter": "python",
   "pygments_lexer": "ipython3",
   "version": "3.9.5"
  },
  "toc": {
   "base_numbering": 1,
   "nav_menu": {},
   "number_sections": true,
   "sideBar": true,
   "skip_h1_title": true,
   "title_cell": "Table of Contents",
   "title_sidebar": "Contents",
   "toc_cell": false,
   "toc_position": {
    "height": "calc(100% - 180px)",
    "left": "10px",
    "top": "150px",
    "width": "266.667px"
   },
   "toc_section_display": true,
   "toc_window_display": true
  }
 },
 "nbformat": 4,
 "nbformat_minor": 2
}
