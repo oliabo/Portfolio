{
 "cells": [
  {
   "cell_type": "markdown",
   "metadata": {},
   "source": [
    "# Выбор локации для скважины"
   ]
  },
  {
   "cell_type": "markdown",
   "metadata": {},
   "source": [
    "Нужно решить, где бурить новую скважину.\n",
    "\n",
    "У нас есть пробы нефти в трёх регионах: в каждом 10 000 месторождений, где измерили качество нефти и объём её запасов. Нужно построить модель машинного обучения, которая поможет определить регион, где добыча принесёт наибольшую прибыль. Проанализировать возможную прибыль и риски техникой *Bootstrap.*\n",
    "\n",
    "Шаги для выбора локации:\n",
    "\n",
    "- В избранном регионе ищут месторождения, для каждого определяют значения признаков;\n",
    "- Строят модель и оценивают объём запасов;\n",
    "- Выбирают месторождения с самым высокими оценками значений. Количество месторождений зависит от бюджета компании и стоимости разработки одной скважины;\n",
    "- Прибыль равна суммарной прибыли отобранных месторождений."
   ]
  },
  {
   "cell_type": "markdown",
   "metadata": {},
   "source": [
    "Условия задачи:\n",
    "Для обучения модели подходит только линейная регрессия (остальные — недостаточно предсказуемые).\n",
    "При разведке региона исследуют 500 точек, из которых с помощью машинного обучения выбирают 200 лучших для разработки.\n",
    "Бюджет на разработку скважин в регионе — 10 млрд рублей.\n",
    "При нынешних ценах один баррель сырья приносит 450 рублей дохода. Доход с каждой единицы продукта составляет 450 тыс. рублей, поскольку объём указан в тысячах баррелей.\n",
    "После оценки рисков нужно оставить лишь те регионы, в которых вероятность убытков меньше 2.5%. Среди них выбирают регион с наибольшей средней прибылью.\n"
   ]
  },
  {
   "cell_type": "markdown",
   "metadata": {},
   "source": [
    "## Загрузка и подготовка данных"
   ]
  },
  {
   "cell_type": "code",
   "execution_count": 2,
   "metadata": {},
   "outputs": [],
   "source": [
    "import pandas as pd\n",
    "import seaborn as sns\n",
    "import matplotlib.pyplot as plt\n",
    "import numpy as np\n",
    "from sklearn.tree import DecisionTreeRegressor\n",
    "from sklearn.ensemble import RandomForestRegressor\n",
    "from sklearn.linear_model import LinearRegression\n",
    "from sklearn.model_selection import train_test_split\n",
    "from sklearn.metrics import accuracy_score\n",
    "from sklearn.metrics import mean_squared_error\n",
    "from sklearn.preprocessing import OrdinalEncoder\n",
    "from sklearn.metrics import f1_score\n",
    "from sklearn.utils import shuffle\n",
    "from sklearn.metrics import roc_curve\n",
    "from sklearn.metrics import roc_auc_score\n",
    "from sklearn.preprocessing import StandardScaler"
   ]
  },
  {
   "cell_type": "code",
   "execution_count": 3,
   "metadata": {},
   "outputs": [],
   "source": [
    "data_0 = pd.read_csv('/datasets/geo_data_0.csv')\n",
    "data_1 = pd.read_csv('/datasets/geo_data_1.csv')\n",
    "data_2 = pd.read_csv('/datasets/geo_data_2.csv')"
   ]
  },
  {
   "cell_type": "code",
   "execution_count": 4,
   "metadata": {},
   "outputs": [
    {
     "name": "stdout",
     "output_type": "stream",
     "text": [
      "<class 'pandas.core.frame.DataFrame'>\n",
      "RangeIndex: 100000 entries, 0 to 99999\n",
      "Data columns (total 5 columns):\n",
      " #   Column   Non-Null Count   Dtype  \n",
      "---  ------   --------------   -----  \n",
      " 0   id       100000 non-null  object \n",
      " 1   f0       100000 non-null  float64\n",
      " 2   f1       100000 non-null  float64\n",
      " 3   f2       100000 non-null  float64\n",
      " 4   product  100000 non-null  float64\n",
      "dtypes: float64(4), object(1)\n",
      "memory usage: 3.8+ MB\n"
     ]
    },
    {
     "data": {
      "text/html": [
       "<div>\n",
       "<style scoped>\n",
       "    .dataframe tbody tr th:only-of-type {\n",
       "        vertical-align: middle;\n",
       "    }\n",
       "\n",
       "    .dataframe tbody tr th {\n",
       "        vertical-align: top;\n",
       "    }\n",
       "\n",
       "    .dataframe thead th {\n",
       "        text-align: right;\n",
       "    }\n",
       "</style>\n",
       "<table border=\"1\" class=\"dataframe\">\n",
       "  <thead>\n",
       "    <tr style=\"text-align: right;\">\n",
       "      <th></th>\n",
       "      <th>id</th>\n",
       "      <th>f0</th>\n",
       "      <th>f1</th>\n",
       "      <th>f2</th>\n",
       "      <th>product</th>\n",
       "    </tr>\n",
       "  </thead>\n",
       "  <tbody>\n",
       "    <tr>\n",
       "      <th>0</th>\n",
       "      <td>txEyH</td>\n",
       "      <td>0.705745</td>\n",
       "      <td>-0.497823</td>\n",
       "      <td>1.221170</td>\n",
       "      <td>105.280062</td>\n",
       "    </tr>\n",
       "    <tr>\n",
       "      <th>1</th>\n",
       "      <td>2acmU</td>\n",
       "      <td>1.334711</td>\n",
       "      <td>-0.340164</td>\n",
       "      <td>4.365080</td>\n",
       "      <td>73.037750</td>\n",
       "    </tr>\n",
       "    <tr>\n",
       "      <th>2</th>\n",
       "      <td>409Wp</td>\n",
       "      <td>1.022732</td>\n",
       "      <td>0.151990</td>\n",
       "      <td>1.419926</td>\n",
       "      <td>85.265647</td>\n",
       "    </tr>\n",
       "    <tr>\n",
       "      <th>3</th>\n",
       "      <td>iJLyR</td>\n",
       "      <td>-0.032172</td>\n",
       "      <td>0.139033</td>\n",
       "      <td>2.978566</td>\n",
       "      <td>168.620776</td>\n",
       "    </tr>\n",
       "    <tr>\n",
       "      <th>4</th>\n",
       "      <td>Xdl7t</td>\n",
       "      <td>1.988431</td>\n",
       "      <td>0.155413</td>\n",
       "      <td>4.751769</td>\n",
       "      <td>154.036647</td>\n",
       "    </tr>\n",
       "  </tbody>\n",
       "</table>\n",
       "</div>"
      ],
      "text/plain": [
       "      id        f0        f1        f2     product\n",
       "0  txEyH  0.705745 -0.497823  1.221170  105.280062\n",
       "1  2acmU  1.334711 -0.340164  4.365080   73.037750\n",
       "2  409Wp  1.022732  0.151990  1.419926   85.265647\n",
       "3  iJLyR -0.032172  0.139033  2.978566  168.620776\n",
       "4  Xdl7t  1.988431  0.155413  4.751769  154.036647"
      ]
     },
     "execution_count": 4,
     "metadata": {},
     "output_type": "execute_result"
    }
   ],
   "source": [
    "data_0.info()\n",
    "data_0.head()"
   ]
  },
  {
   "cell_type": "code",
   "execution_count": 5,
   "metadata": {},
   "outputs": [
    {
     "name": "stdout",
     "output_type": "stream",
     "text": [
      "<class 'pandas.core.frame.DataFrame'>\n",
      "RangeIndex: 100000 entries, 0 to 99999\n",
      "Data columns (total 5 columns):\n",
      " #   Column   Non-Null Count   Dtype  \n",
      "---  ------   --------------   -----  \n",
      " 0   id       100000 non-null  object \n",
      " 1   f0       100000 non-null  float64\n",
      " 2   f1       100000 non-null  float64\n",
      " 3   f2       100000 non-null  float64\n",
      " 4   product  100000 non-null  float64\n",
      "dtypes: float64(4), object(1)\n",
      "memory usage: 3.8+ MB\n"
     ]
    },
    {
     "data": {
      "text/html": [
       "<div>\n",
       "<style scoped>\n",
       "    .dataframe tbody tr th:only-of-type {\n",
       "        vertical-align: middle;\n",
       "    }\n",
       "\n",
       "    .dataframe tbody tr th {\n",
       "        vertical-align: top;\n",
       "    }\n",
       "\n",
       "    .dataframe thead th {\n",
       "        text-align: right;\n",
       "    }\n",
       "</style>\n",
       "<table border=\"1\" class=\"dataframe\">\n",
       "  <thead>\n",
       "    <tr style=\"text-align: right;\">\n",
       "      <th></th>\n",
       "      <th>id</th>\n",
       "      <th>f0</th>\n",
       "      <th>f1</th>\n",
       "      <th>f2</th>\n",
       "      <th>product</th>\n",
       "    </tr>\n",
       "  </thead>\n",
       "  <tbody>\n",
       "    <tr>\n",
       "      <th>0</th>\n",
       "      <td>kBEdx</td>\n",
       "      <td>-15.001348</td>\n",
       "      <td>-8.276000</td>\n",
       "      <td>-0.005876</td>\n",
       "      <td>3.179103</td>\n",
       "    </tr>\n",
       "    <tr>\n",
       "      <th>1</th>\n",
       "      <td>62mP7</td>\n",
       "      <td>14.272088</td>\n",
       "      <td>-3.475083</td>\n",
       "      <td>0.999183</td>\n",
       "      <td>26.953261</td>\n",
       "    </tr>\n",
       "    <tr>\n",
       "      <th>2</th>\n",
       "      <td>vyE1P</td>\n",
       "      <td>6.263187</td>\n",
       "      <td>-5.948386</td>\n",
       "      <td>5.001160</td>\n",
       "      <td>134.766305</td>\n",
       "    </tr>\n",
       "    <tr>\n",
       "      <th>3</th>\n",
       "      <td>KcrkZ</td>\n",
       "      <td>-13.081196</td>\n",
       "      <td>-11.506057</td>\n",
       "      <td>4.999415</td>\n",
       "      <td>137.945408</td>\n",
       "    </tr>\n",
       "    <tr>\n",
       "      <th>4</th>\n",
       "      <td>AHL4O</td>\n",
       "      <td>12.702195</td>\n",
       "      <td>-8.147433</td>\n",
       "      <td>5.004363</td>\n",
       "      <td>134.766305</td>\n",
       "    </tr>\n",
       "  </tbody>\n",
       "</table>\n",
       "</div>"
      ],
      "text/plain": [
       "      id         f0         f1        f2     product\n",
       "0  kBEdx -15.001348  -8.276000 -0.005876    3.179103\n",
       "1  62mP7  14.272088  -3.475083  0.999183   26.953261\n",
       "2  vyE1P   6.263187  -5.948386  5.001160  134.766305\n",
       "3  KcrkZ -13.081196 -11.506057  4.999415  137.945408\n",
       "4  AHL4O  12.702195  -8.147433  5.004363  134.766305"
      ]
     },
     "execution_count": 5,
     "metadata": {},
     "output_type": "execute_result"
    }
   ],
   "source": [
    "data_1.info()\n",
    "data_1.head()"
   ]
  },
  {
   "cell_type": "code",
   "execution_count": 6,
   "metadata": {},
   "outputs": [
    {
     "name": "stdout",
     "output_type": "stream",
     "text": [
      "<class 'pandas.core.frame.DataFrame'>\n",
      "RangeIndex: 100000 entries, 0 to 99999\n",
      "Data columns (total 5 columns):\n",
      " #   Column   Non-Null Count   Dtype  \n",
      "---  ------   --------------   -----  \n",
      " 0   id       100000 non-null  object \n",
      " 1   f0       100000 non-null  float64\n",
      " 2   f1       100000 non-null  float64\n",
      " 3   f2       100000 non-null  float64\n",
      " 4   product  100000 non-null  float64\n",
      "dtypes: float64(4), object(1)\n",
      "memory usage: 3.8+ MB\n"
     ]
    },
    {
     "data": {
      "text/html": [
       "<div>\n",
       "<style scoped>\n",
       "    .dataframe tbody tr th:only-of-type {\n",
       "        vertical-align: middle;\n",
       "    }\n",
       "\n",
       "    .dataframe tbody tr th {\n",
       "        vertical-align: top;\n",
       "    }\n",
       "\n",
       "    .dataframe thead th {\n",
       "        text-align: right;\n",
       "    }\n",
       "</style>\n",
       "<table border=\"1\" class=\"dataframe\">\n",
       "  <thead>\n",
       "    <tr style=\"text-align: right;\">\n",
       "      <th></th>\n",
       "      <th>id</th>\n",
       "      <th>f0</th>\n",
       "      <th>f1</th>\n",
       "      <th>f2</th>\n",
       "      <th>product</th>\n",
       "    </tr>\n",
       "  </thead>\n",
       "  <tbody>\n",
       "    <tr>\n",
       "      <th>0</th>\n",
       "      <td>fwXo0</td>\n",
       "      <td>-1.146987</td>\n",
       "      <td>0.963328</td>\n",
       "      <td>-0.828965</td>\n",
       "      <td>27.758673</td>\n",
       "    </tr>\n",
       "    <tr>\n",
       "      <th>1</th>\n",
       "      <td>WJtFt</td>\n",
       "      <td>0.262778</td>\n",
       "      <td>0.269839</td>\n",
       "      <td>-2.530187</td>\n",
       "      <td>56.069697</td>\n",
       "    </tr>\n",
       "    <tr>\n",
       "      <th>2</th>\n",
       "      <td>ovLUW</td>\n",
       "      <td>0.194587</td>\n",
       "      <td>0.289035</td>\n",
       "      <td>-5.586433</td>\n",
       "      <td>62.871910</td>\n",
       "    </tr>\n",
       "    <tr>\n",
       "      <th>3</th>\n",
       "      <td>q6cA6</td>\n",
       "      <td>2.236060</td>\n",
       "      <td>-0.553760</td>\n",
       "      <td>0.930038</td>\n",
       "      <td>114.572842</td>\n",
       "    </tr>\n",
       "    <tr>\n",
       "      <th>4</th>\n",
       "      <td>WPMUX</td>\n",
       "      <td>-0.515993</td>\n",
       "      <td>1.716266</td>\n",
       "      <td>5.899011</td>\n",
       "      <td>149.600746</td>\n",
       "    </tr>\n",
       "  </tbody>\n",
       "</table>\n",
       "</div>"
      ],
      "text/plain": [
       "      id        f0        f1        f2     product\n",
       "0  fwXo0 -1.146987  0.963328 -0.828965   27.758673\n",
       "1  WJtFt  0.262778  0.269839 -2.530187   56.069697\n",
       "2  ovLUW  0.194587  0.289035 -5.586433   62.871910\n",
       "3  q6cA6  2.236060 -0.553760  0.930038  114.572842\n",
       "4  WPMUX -0.515993  1.716266  5.899011  149.600746"
      ]
     },
     "execution_count": 6,
     "metadata": {},
     "output_type": "execute_result"
    }
   ],
   "source": [
    "data_2.info()\n",
    "data_2.head()"
   ]
  },
  {
   "cell_type": "code",
   "execution_count": 7,
   "metadata": {},
   "outputs": [
    {
     "data": {
      "text/plain": [
       "0"
      ]
     },
     "execution_count": 7,
     "metadata": {},
     "output_type": "execute_result"
    }
   ],
   "source": [
    "# Проверим на всякий случай есть ли в данных дубликаты\n",
    "data_0.duplicated().sum()"
   ]
  },
  {
   "cell_type": "code",
   "execution_count": 8,
   "metadata": {},
   "outputs": [
    {
     "data": {
      "text/plain": [
       "0"
      ]
     },
     "execution_count": 8,
     "metadata": {},
     "output_type": "execute_result"
    }
   ],
   "source": [
    "data_1.duplicated().sum()"
   ]
  },
  {
   "cell_type": "code",
   "execution_count": 9,
   "metadata": {},
   "outputs": [
    {
     "data": {
      "text/plain": [
       "0"
      ]
     },
     "execution_count": 9,
     "metadata": {},
     "output_type": "execute_result"
    }
   ],
   "source": [
    "data_2.duplicated().sum()"
   ]
  },
  {
   "cell_type": "markdown",
   "metadata": {},
   "source": [
    "Проверка данных на мультиколлинеарность"
   ]
  },
  {
   "cell_type": "code",
   "execution_count": 10,
   "metadata": {},
   "outputs": [
    {
     "data": {
      "text/plain": [
       "<AxesSubplot:>"
      ]
     },
     "execution_count": 10,
     "metadata": {},
     "output_type": "execute_result"
    },
    {
     "data": {
      "image/png": "[encoded data removed]",
      "text/plain": [
       "<Figure size 432x288 with 1 Axes>"
      ]
     },
     "metadata": {
      "needs_background": "light"
     },
     "output_type": "display_data"
    }
   ],
   "source": [
    "data_0['product'].hist()"
   ]
  },
  {
   "cell_type": "code",
   "execution_count": 11,
   "metadata": {},
   "outputs": [
    {
     "data": {
      "text/plain": [
       "<AxesSubplot:>"
      ]
     },
     "execution_count": 11,
     "metadata": {},
     "output_type": "execute_result"
    },
    {
     "data": {
      "image/png": "[encoded data removed]",
      "text/plain": [
       "<Figure size 432x288 with 1 Axes>"
      ]
     },
     "metadata": {
      "needs_background": "light"
     },
     "output_type": "display_data"
    }
   ],
   "source": [
    "data_1['product'].hist()"
   ]
  },
  {
   "cell_type": "code",
   "execution_count": 12,
   "metadata": {},
   "outputs": [
    {
     "data": {
      "text/plain": [
       "<AxesSubplot:>"
      ]
     },
     "execution_count": 12,
     "metadata": {},
     "output_type": "execute_result"
    },
    {
     "data": {
      "image/png": "[encoded data removed]",
      "text/plain": [
       "<Figure size 432x288 with 1 Axes>"
      ]
     },
     "metadata": {
      "needs_background": "light"
     },
     "output_type": "display_data"
    }
   ],
   "source": [
    "data_2['product'].hist()"
   ]
  },
  {
   "cell_type": "markdown",
   "metadata": {},
   "source": [
    "Самое интересное распределение в регионе №2 - чаще всего встречаются значения с минимальным и максимальным значением целевого признака"
   ]
  },
  {
   "cell_type": "code",
   "execution_count": 13,
   "metadata": {},
   "outputs": [
    {
     "data": {
      "text/plain": [
       "<AxesSubplot:>"
      ]
     },
     "execution_count": 13,
     "metadata": {},
     "output_type": "execute_result"
    },
    {
     "data": {
      "image/png": "[encoded data removed]",
      "text/plain": [
       "<Figure size 432x288 with 2 Axes>"
      ]
     },
     "metadata": {
      "needs_background": "light"
     },
     "output_type": "display_data"
    }
   ],
   "source": [
    "sns.heatmap(data_0.corr(), annot = True)"
   ]
  },
  {
   "cell_type": "code",
   "execution_count": 14,
   "metadata": {},
   "outputs": [
    {
     "data": {
      "text/plain": [
       "<AxesSubplot:>"
      ]
     },
     "execution_count": 14,
     "metadata": {},
     "output_type": "execute_result"
    },
    {
     "data": {
      "image/png": "[encoded data removed]",
      "text/plain": [
       "<Figure size 432x288 with 2 Axes>"
      ]
     },
     "metadata": {
      "needs_background": "light"
     },
     "output_type": "display_data"
    }
   ],
   "source": [
    "sns.heatmap(data_1.corr(), annot = True)"
   ]
  },
  {
   "cell_type": "code",
   "execution_count": 15,
   "metadata": {},
   "outputs": [
    {
     "data": {
      "text/plain": [
       "<AxesSubplot:>"
      ]
     },
     "execution_count": 15,
     "metadata": {},
     "output_type": "execute_result"
    },
    {
     "data": {
      "image/png": "[encoded data removed]",
      "text/plain": [
       "<Figure size 432x288 with 2 Axes>"
      ]
     },
     "metadata": {
      "needs_background": "light"
     },
     "output_type": "display_data"
    }
   ],
   "source": [
    "sns.heatmap(data_2.corr(), annot = True)"
   ]
  },
  {
   "cell_type": "markdown",
   "metadata": {},
   "source": [
    "В регионе 2 наблюдаем сильную корреляцию между признаком f2 и целевым признаком product"
   ]
  },
  {
   "cell_type": "markdown",
   "metadata": {},
   "source": [
    "Во всех 3 датасетах есть столбец id, который не дает никакой информации. Удалим этот столбец везде"
   ]
  },
  {
   "cell_type": "code",
   "execution_count": 16,
   "metadata": {},
   "outputs": [],
   "source": [
    "data_0 = data_0.drop(['id'], axis=1)"
   ]
  },
  {
   "cell_type": "code",
   "execution_count": 17,
   "metadata": {},
   "outputs": [],
   "source": [
    "data_1 = data_1.drop(['id'], axis=1)"
   ]
  },
  {
   "cell_type": "code",
   "execution_count": 18,
   "metadata": {},
   "outputs": [],
   "source": [
    "data_2 = data_2.drop(['id'], axis=1)"
   ]
  },
  {
   "cell_type": "markdown",
   "metadata": {},
   "source": [
    "## Обучение и проверка модели"
   ]
  },
  {
   "cell_type": "code",
   "execution_count": 19,
   "metadata": {},
   "outputs": [],
   "source": [
    "state = np.random.RandomState(12345)"
   ]
  },
  {
   "cell_type": "code",
   "execution_count": 20,
   "metadata": {},
   "outputs": [],
   "source": [
    "# Данные для 1 региона\n",
    "features_0 = data_0.drop(['product'], axis=1)\n",
    "target_0 = data_0['product']"
   ]
  },
  {
   "cell_type": "code",
   "execution_count": 21,
   "metadata": {},
   "outputs": [],
   "source": [
    "features_train_0, features_valid_0, target_train_0, target_valid_0 = \\\n",
    "train_test_split(features_0, target_0, test_size=0.25, random_state=state)"
   ]
  },
  {
   "cell_type": "code",
   "execution_count": 22,
   "metadata": {},
   "outputs": [
    {
     "name": "stdout",
     "output_type": "stream",
     "text": [
      "RMSE модели линейной регрессии на валидационной выборке: 37.5794217150813\n",
      "Средний запас сырья в 1 регионе: 92.50000000000001\n"
     ]
    }
   ],
   "source": [
    "# Обучим модель с помощью линейной регрессии\n",
    "model = LinearRegression() \n",
    "model.fit(features_train_0, target_train_0)\n",
    "predictions_valid_0 = model.predict(features_valid_0) \n",
    "result_0 = mean_squared_error(target_valid_0, predictions_valid_0)**0.5 \n",
    "print(\"RMSE модели линейной регрессии на валидационной выборке:\", result_0)\n",
    "print(\"Средний запас сырья в 1 регионе:\", target_0.mean())"
   ]
  },
  {
   "cell_type": "code",
   "execution_count": 23,
   "metadata": {},
   "outputs": [],
   "source": [
    "# Данные для 2 региона\n",
    "features_1 = data_1.drop(['product'], axis=1)\n",
    "target_1 = data_1['product']"
   ]
  },
  {
   "cell_type": "code",
   "execution_count": 24,
   "metadata": {},
   "outputs": [],
   "source": [
    "features_train_1, features_valid_1, target_train_1, target_valid_1 = \\\n",
    "train_test_split(features_1, target_1, test_size=0.25, random_state=state)"
   ]
  },
  {
   "cell_type": "code",
   "execution_count": 25,
   "metadata": {},
   "outputs": [
    {
     "name": "stdout",
     "output_type": "stream",
     "text": [
      "RMSE модели линейной регрессии на валидационной выборке: 0.889736773768065\n",
      "Средний запас сырья во 2 регионе: 68.82500000000002\n"
     ]
    }
   ],
   "source": [
    "# Обучим модель с помощью линейной регрессии\n",
    "model = LinearRegression() \n",
    "model.fit(features_train_1, target_train_1)\n",
    "predictions_valid_1 = model.predict(features_valid_1) \n",
    "result_1 = mean_squared_error(target_valid_1, predictions_valid_1)**0.5 \n",
    "print(\"RMSE модели линейной регрессии на валидационной выборке:\", result_1)\n",
    "print(\"Средний запас сырья во 2 регионе:\", target_1.mean())"
   ]
  },
  {
   "cell_type": "code",
   "execution_count": 26,
   "metadata": {},
   "outputs": [],
   "source": [
    "# Данные для 3 региона\n",
    "features_2 = data_2.drop(['product'], axis=1)\n",
    "target_2 = data_2['product']"
   ]
  },
  {
   "cell_type": "code",
   "execution_count": 27,
   "metadata": {},
   "outputs": [],
   "source": [
    "features_train_2, features_valid_2, target_train_2, target_valid_2 = \\\n",
    "train_test_split(features_2, target_2, test_size=0.25, random_state=state)"
   ]
  },
  {
   "cell_type": "code",
   "execution_count": 28,
   "metadata": {},
   "outputs": [
    {
     "name": "stdout",
     "output_type": "stream",
     "text": [
      "RMSE модели линейной регрессии на валидационной выборке: 39.958042459521614\n",
      "Средний запас сырья в 3 регионе: 95.00000000000004\n"
     ]
    }
   ],
   "source": [
    "# Обучим модель с помощью линейной регрессии\n",
    "model = LinearRegression() \n",
    "model.fit(features_train_2, target_train_2)\n",
    "predictions_valid_2 = model.predict(features_valid_2) \n",
    "result_2 = mean_squared_error(target_valid_2, predictions_valid_2)**0.5 \n",
    "print(\"RMSE модели линейной регрессии на валидационной выборке:\", result_2)\n",
    "print(\"Средний запас сырья в 3 регионе:\", target_2.mean())"
   ]
  },
  {
   "cell_type": "markdown",
   "metadata": {},
   "source": [
    "Получили первые данные по 3 регионам. В 1 и 3 регионах прогнозы по сырью почти одинаковы и выше, чем во 2 регионе. Корни из средней квадратичной ошибки в 1 и 3 регионах тоже отличаются не сильно, чего не скажешь о 2 регионе, здесь ошибка получилась очень маленькая."
   ]
  },
  {
   "cell_type": "markdown",
   "metadata": {},
   "source": [
    "## Подготовка к расчёту прибыли"
   ]
  },
  {
   "cell_type": "code",
   "execution_count": 29,
   "metadata": {},
   "outputs": [],
   "source": [
    "# Сохраним все ключевые значения в переменных \n",
    "BUDGET_200 = 10e9 # Бюджет для разработки 200 скважин\n",
    "BUDGET = 10e9 / 200 # Бюджет для разработки 1 скважины\n",
    "BAR_COST = 450000 # Доход с каждой единицы (1000 баррелей) продукта\n"
   ]
  },
  {
   "cell_type": "code",
   "execution_count": 30,
   "metadata": {},
   "outputs": [
    {
     "name": "stdout",
     "output_type": "stream",
     "text": [
      "Достаточный объем сырья для безубыточной работы скважины: 111.11111111111111\n"
     ]
    }
   ],
   "source": [
    "# Рассчитаем достаточный объем сырья для безубыточной работы скважины\n",
    "enough_volume = BUDGET / BAR_COST\n",
    "print(\"Достаточный объем сырья для безубыточной работы скважины:\", enough_volume)"
   ]
  },
  {
   "cell_type": "markdown",
   "metadata": {},
   "source": [
    "Неоьходимый нам объем сырья в 1 скважине приблизительно равен 111 тыс баррелей. Пока что средние значения для каждого региона меньше этой цифры, максимальное среднее значение в регионе №3, оно составляет 95 тыс баррелей."
   ]
  },
  {
   "cell_type": "markdown",
   "metadata": {},
   "source": [
    "## Расчёт прибыли и рисков "
   ]
  },
  {
   "cell_type": "code",
   "execution_count": 31,
   "metadata": {},
   "outputs": [],
   "source": [
    "def revenue(target, probabilities, count):\n",
    "    probs_sorted = probabilities.sort_values(ascending=False) \n",
    "    selected = target[probs_sorted.index][:count] \n",
    "    return BAR_COST * selected.sum() - BUDGET_200"
   ]
  },
  {
   "cell_type": "code",
   "execution_count": 32,
   "metadata": {},
   "outputs": [
    {
     "name": "stdout",
     "output_type": "stream",
     "text": [
      "3320826043.1398506\n"
     ]
    }
   ],
   "source": [
    "# Расчет прибыли для 1 региона\n",
    "predictions_valid_0 = pd.Series(predictions_valid_0, index=target_valid_0.index)\n",
    "res = revenue(target_valid_0, predictions_valid_0, 200)\n",
    "print(res)"
   ]
  },
  {
   "cell_type": "code",
   "execution_count": 33,
   "metadata": {},
   "outputs": [
    {
     "name": "stdout",
     "output_type": "stream",
     "text": [
      "2415086696.681511\n"
     ]
    }
   ],
   "source": [
    "# Расчет прибыли для 2 региона\n",
    "predictions_valid_1 = pd.Series(predictions_valid_1, index=target_valid_1.index)\n",
    "res = revenue(target_valid_1, predictions_valid_1, 200)\n",
    "print(res)"
   ]
  },
  {
   "cell_type": "code",
   "execution_count": 34,
   "metadata": {},
   "outputs": [
    {
     "name": "stdout",
     "output_type": "stream",
     "text": [
      "2539915945.842947\n"
     ]
    }
   ],
   "source": [
    "# Расчет прибыли для 3 региона\n",
    "predictions_valid_2 = pd.Series(predictions_valid_2, index=target_valid_2.index)\n",
    "res = revenue(target_valid_2, predictions_valid_2, 200)\n",
    "print(res)"
   ]
  },
  {
   "cell_type": "code",
   "execution_count": 35,
   "metadata": {},
   "outputs": [
    {
     "name": "stdout",
     "output_type": "stream",
     "text": [
      "0    4.056056e+08\n",
      "1    4.977058e+08\n",
      "2    4.555309e+08\n",
      "3    2.007743e+08\n",
      "4    4.310854e+08\n",
      "dtype: float64\n",
      "Средняя выручка: 423897237.91690534\n",
      "2,5% нижний квантиль: -76187813.89036272\n",
      "2,5% верхний квантиль: 957846531.951783\n",
      "Риск убытков: 0.048\n"
     ]
    }
   ],
   "source": [
    "# Средняя прибыль, 95%-й доверительный интервал и риск убытков - регион 1\n",
    "values = []\n",
    "risk = []\n",
    "for i in range(1000):\n",
    "    target_subsample = target_valid_0.sample(500, replace=True, random_state=state)\n",
    "    probs_subsample = predictions_valid_0[target_subsample.index] \n",
    "    \n",
    "    values.append(revenue(target_subsample, probs_subsample, 200))\n",
    "    if revenue(target_subsample, probs_subsample, 200) < 0:\n",
    "        risk.append(revenue(target_subsample, probs_subsample, 200))\n",
    "risk_prop = len(risk) / len(values)\n",
    "\n",
    "values = pd.Series(values)\n",
    "lower = values.quantile(0.025)\n",
    "upper = values.quantile(0.975)\n",
    "mean = values.mean()\n",
    "\n",
    "print(values.head(5))\n",
    "print(\"Средняя выручка:\", mean)\n",
    "print(\"2,5% нижний квантиль:\", lower)\n",
    "print(\"2,5% верхний квантиль:\", upper)\n",
    "print(\"Риск убытков:\", risk_prop)"
   ]
  },
  {
   "cell_type": "code",
   "execution_count": 36,
   "metadata": {},
   "outputs": [
    {
     "name": "stdout",
     "output_type": "stream",
     "text": [
      "0    3.842621e+08\n",
      "1    6.318661e+07\n",
      "2    1.158339e+09\n",
      "3    7.238732e+08\n",
      "4    7.503082e+08\n",
      "dtype: float64\n",
      "Средняя выручка: 513256698.9172609\n",
      "2,5% нижний квантиль: 108066895.23396212\n",
      "2,5% верхний квантиль: 928574439.2324963\n",
      "Риск убытков: 0.006\n"
     ]
    }
   ],
   "source": [
    "# Средняя прибыль, 95%-й доверительный интервал и риск убытков - регион 2\n",
    "values = []\n",
    "risk = []\n",
    "for i in range(1000):\n",
    "    target_subsample = target_valid_1.sample(500, replace=True, random_state=state)\n",
    "    probs_subsample = predictions_valid_1[target_subsample.index] \n",
    "    \n",
    "    values.append(revenue(target_subsample, probs_subsample, 200))\n",
    "    if revenue(target_subsample, probs_subsample, 200) < 0:\n",
    "        risk.append(revenue(target_subsample, probs_subsample, 200))\n",
    "risk_prop = len(risk) / len(values)\n",
    "\n",
    "values = pd.Series(values)\n",
    "lower = values.quantile(0.025)\n",
    "upper = values.quantile(0.975)\n",
    "mean = values.mean()\n",
    "\n",
    "print(values.head(5))\n",
    "print(\"Средняя выручка:\", mean)\n",
    "print(\"2,5% нижний квантиль:\", lower)\n",
    "print(\"2,5% верхний квантиль:\", upper)\n",
    "print(\"Риск убытков:\", risk_prop)"
   ]
  },
  {
   "cell_type": "code",
   "execution_count": 38,
   "metadata": {},
   "outputs": [
    {
     "name": "stdout",
     "output_type": "stream",
     "text": [
      "0    1.551682e+07\n",
      "1    2.136674e+08\n",
      "2    7.243272e+08\n",
      "3    2.526721e+08\n",
      "4    3.676756e+08\n",
      "dtype: float64\n",
      "Средняя выручка: 381120359.57590145\n",
      "2,5% нижний квантиль: -142800630.08786878\n",
      "2,5% верхний квантиль: 893380565.7504003\n",
      "Риск убытков: 0.074\n"
     ]
    }
   ],
   "source": [
    "# Средняя прибыль, 95%-й доверительный интервал и риск убытков - регион 3\n",
    "values = []\n",
    "risk = []\n",
    "for i in range(1000):\n",
    "    target_subsample = target_valid_2.sample(500, replace=True, random_state=state)\n",
    "    probs_subsample = predictions_valid_2[target_subsample.index] \n",
    "    \n",
    "    values.append(revenue(target_subsample, probs_subsample, 200))\n",
    "    if revenue(target_subsample, probs_subsample, 200) < 0:\n",
    "        risk.append(revenue(target_subsample, probs_subsample, 200))\n",
    "risk_prop = len(risk) / len(values)\n",
    "\n",
    "values = pd.Series(values)\n",
    "lower = values.quantile(0.025)\n",
    "upper = values.quantile(0.975)\n",
    "mean = values.mean()\n",
    "\n",
    "print(values.head(5))\n",
    "print(\"Средняя выручка:\", mean)\n",
    "print(\"2,5% нижний квантиль:\", lower)\n",
    "print(\"2,5% верхний квантиль:\", upper)\n",
    "print(\"Риск убытков:\", risk_prop)"
   ]
  },
  {
   "cell_type": "markdown",
   "metadata": {},
   "source": [
    "Лучший прогноз по прибыли показал регион №1, у него самые высокие значения. Далее идет регион №3 и сразу следом - регион №2. При этом техника Bootstrap с 1000 выборок показала, что лучшая средняя выручка и наименьшие риски у региона № 2 - более 500 млн, а риск уйти в минус - всего около 0,5%. Доверимся Bootstrap и предложим к разработке регион №2. "
   ]
  }
 ],
 "metadata": {
  "ExecuteTimeLog": [
   {
    "duration": 1847,
    "start_time": "2022-12-14T21:07:46.431Z"
   },
   {
    "duration": 8,
    "start_time": "2022-12-14T21:07:51.990Z"
   },
   {
    "duration": 4,
    "start_time": "2022-12-14T21:07:58.309Z"
   },
   {
    "duration": 1729,
    "start_time": "2022-12-14T21:09:43.232Z"
   },
   {
    "duration": 128,
    "start_time": "2022-12-14T21:10:31.121Z"
   },
   {
    "duration": 31,
    "start_time": "2022-12-14T21:10:45.366Z"
   },
   {
    "duration": 35,
    "start_time": "2022-12-14T21:10:55.784Z"
   },
   {
    "duration": 30,
    "start_time": "2022-12-14T21:11:17.085Z"
   },
   {
    "duration": 24,
    "start_time": "2022-12-14T21:11:30.041Z"
   },
   {
    "duration": 37,
    "start_time": "2022-12-14T21:11:35.159Z"
   },
   {
    "duration": 34,
    "start_time": "2022-12-14T21:11:40.682Z"
   },
   {
    "duration": 35,
    "start_time": "2022-12-14T21:11:48.744Z"
   },
   {
    "duration": 17,
    "start_time": "2022-12-14T21:14:32.463Z"
   },
   {
    "duration": 11,
    "start_time": "2022-12-14T21:15:41.801Z"
   },
   {
    "duration": 76,
    "start_time": "2022-12-14T21:15:51.043Z"
   },
   {
    "duration": 54,
    "start_time": "2022-12-14T21:15:56.632Z"
   },
   {
    "duration": 157,
    "start_time": "2022-12-14T21:16:08.454Z"
   },
   {
    "duration": 54,
    "start_time": "2022-12-14T21:16:17.063Z"
   },
   {
    "duration": 49,
    "start_time": "2022-12-14T21:16:22.975Z"
   },
   {
    "duration": 45,
    "start_time": "2022-12-14T21:16:25.388Z"
   },
   {
    "duration": 45,
    "start_time": "2022-12-15T20:57:30.600Z"
   },
   {
    "duration": 1539,
    "start_time": "2022-12-15T20:57:41.981Z"
   },
   {
    "duration": 1752,
    "start_time": "2022-12-15T20:57:43.522Z"
   },
   {
    "duration": 24,
    "start_time": "2022-12-15T20:57:45.276Z"
   },
   {
    "duration": 19,
    "start_time": "2022-12-15T20:57:45.302Z"
   },
   {
    "duration": 21,
    "start_time": "2022-12-15T20:57:45.322Z"
   },
   {
    "duration": 47,
    "start_time": "2022-12-15T20:57:45.344Z"
   },
   {
    "duration": 63,
    "start_time": "2022-12-15T20:57:45.393Z"
   },
   {
    "duration": 66,
    "start_time": "2022-12-15T20:57:45.458Z"
   },
   {
    "duration": 14,
    "start_time": "2022-12-15T20:57:45.526Z"
   },
   {
    "duration": 8,
    "start_time": "2022-12-15T20:58:25.408Z"
   },
   {
    "duration": 78,
    "start_time": "2022-12-15T20:58:41.353Z"
   },
   {
    "duration": 13,
    "start_time": "2022-12-15T20:58:55.001Z"
   },
   {
    "duration": 14,
    "start_time": "2022-12-15T20:59:02.166Z"
   },
   {
    "duration": 13,
    "start_time": "2022-12-15T20:59:07.310Z"
   },
   {
    "duration": 6,
    "start_time": "2022-12-15T20:59:14.800Z"
   },
   {
    "duration": 6,
    "start_time": "2022-12-15T20:59:20.025Z"
   },
   {
    "duration": 14,
    "start_time": "2022-12-15T20:59:25.141Z"
   },
   {
    "duration": 4,
    "start_time": "2022-12-15T21:03:52.983Z"
   },
   {
    "duration": 363,
    "start_time": "2022-12-15T21:03:52.989Z"
   },
   {
    "duration": 22,
    "start_time": "2022-12-15T21:03:53.354Z"
   },
   {
    "duration": 36,
    "start_time": "2022-12-15T21:03:53.377Z"
   },
   {
    "duration": 27,
    "start_time": "2022-12-15T21:03:53.416Z"
   },
   {
    "duration": 69,
    "start_time": "2022-12-15T21:03:53.445Z"
   },
   {
    "duration": 41,
    "start_time": "2022-12-15T21:03:53.515Z"
   },
   {
    "duration": 56,
    "start_time": "2022-12-15T21:03:53.558Z"
   },
   {
    "duration": 5,
    "start_time": "2022-12-15T21:03:53.616Z"
   },
   {
    "duration": 12,
    "start_time": "2022-12-15T21:03:53.622Z"
   },
   {
    "duration": 12,
    "start_time": "2022-12-15T21:03:53.636Z"
   },
   {
    "duration": 5,
    "start_time": "2022-12-15T22:00:59.150Z"
   },
   {
    "duration": 72,
    "start_time": "2022-12-15T22:02:39.233Z"
   },
   {
    "duration": 13,
    "start_time": "2022-12-15T22:02:50.587Z"
   },
   {
    "duration": 14,
    "start_time": "2022-12-15T22:09:54.650Z"
   },
   {
    "duration": 4,
    "start_time": "2022-12-15T22:10:23.934Z"
   },
   {
    "duration": 43,
    "start_time": "2022-12-15T22:10:29.532Z"
   },
   {
    "duration": 1107,
    "start_time": "2022-12-15T22:10:41.001Z"
   },
   {
    "duration": 4,
    "start_time": "2022-12-15T22:11:48.226Z"
   },
   {
    "duration": 1109,
    "start_time": "2022-12-15T22:13:18.276Z"
   },
   {
    "duration": 127624,
    "start_time": "2022-12-15T22:17:25.823Z"
   },
   {
    "duration": 1138,
    "start_time": "2022-12-15T22:27:46.706Z"
   },
   {
    "duration": 129907,
    "start_time": "2022-12-15T22:27:59.193Z"
   },
   {
    "duration": 4,
    "start_time": "2022-12-15T22:30:09.102Z"
   },
   {
    "duration": 19,
    "start_time": "2022-12-15T22:31:34.634Z"
   },
   {
    "duration": 18,
    "start_time": "2022-12-15T22:48:47.814Z"
   },
   {
    "duration": 16,
    "start_time": "2022-12-15T22:49:23.236Z"
   },
   {
    "duration": 14,
    "start_time": "2022-12-15T22:49:44.356Z"
   },
   {
    "duration": 5,
    "start_time": "2022-12-15T22:51:02.686Z"
   },
   {
    "duration": 14,
    "start_time": "2022-12-15T22:51:59.118Z"
   },
   {
    "duration": 23,
    "start_time": "2022-12-15T22:52:01.265Z"
   },
   {
    "duration": 17,
    "start_time": "2022-12-15T22:52:38.556Z"
   },
   {
    "duration": 15,
    "start_time": "2022-12-15T22:52:50.750Z"
   },
   {
    "duration": 4,
    "start_time": "2022-12-15T22:53:33.080Z"
   },
   {
    "duration": 11,
    "start_time": "2022-12-15T22:53:57.558Z"
   },
   {
    "duration": 23,
    "start_time": "2022-12-15T22:54:35.129Z"
   },
   {
    "duration": 1548,
    "start_time": "2022-12-16T18:27:26.890Z"
   },
   {
    "duration": 604,
    "start_time": "2022-12-16T18:27:28.440Z"
   },
   {
    "duration": 23,
    "start_time": "2022-12-16T18:27:29.045Z"
   },
   {
    "duration": 18,
    "start_time": "2022-12-16T18:27:29.070Z"
   },
   {
    "duration": 17,
    "start_time": "2022-12-16T18:27:29.089Z"
   },
   {
    "duration": 47,
    "start_time": "2022-12-16T18:27:29.108Z"
   },
   {
    "duration": 38,
    "start_time": "2022-12-16T18:27:29.157Z"
   },
   {
    "duration": 53,
    "start_time": "2022-12-16T18:27:29.197Z"
   },
   {
    "duration": 4,
    "start_time": "2022-12-16T18:27:29.252Z"
   },
   {
    "duration": 8,
    "start_time": "2022-12-16T18:27:29.258Z"
   },
   {
    "duration": 15,
    "start_time": "2022-12-16T18:27:29.268Z"
   },
   {
    "duration": 9,
    "start_time": "2022-12-16T18:27:29.285Z"
   },
   {
    "duration": 15,
    "start_time": "2022-12-16T18:27:29.295Z"
   },
   {
    "duration": 118,
    "start_time": "2022-12-16T18:27:29.311Z"
   },
   {
    "duration": 7,
    "start_time": "2022-12-16T18:27:29.522Z"
   },
   {
    "duration": 99,
    "start_time": "2022-12-16T18:27:29.531Z"
   },
   {
    "duration": 20,
    "start_time": "2022-12-16T18:27:29.632Z"
   },
   {
    "duration": 98,
    "start_time": "2022-12-16T18:27:29.724Z"
   },
   {
    "duration": 13,
    "start_time": "2022-12-16T18:27:29.823Z"
   },
   {
    "duration": 16,
    "start_time": "2022-12-16T18:27:29.838Z"
   },
   {
    "duration": 3,
    "start_time": "2022-12-16T19:34:15.925Z"
   },
   {
    "duration": 4,
    "start_time": "2022-12-16T19:43:57.553Z"
   },
   {
    "duration": 49,
    "start_time": "2022-12-16T19:44:15.397Z"
   },
   {
    "duration": 3,
    "start_time": "2022-12-16T19:44:25.198Z"
   },
   {
    "duration": 3,
    "start_time": "2022-12-16T19:44:29.331Z"
   },
   {
    "duration": 3,
    "start_time": "2022-12-16T19:45:20.334Z"
   },
   {
    "duration": 4,
    "start_time": "2022-12-16T19:45:55.275Z"
   },
   {
    "duration": 1470,
    "start_time": "2022-12-18T20:09:29.055Z"
   },
   {
    "duration": 2002,
    "start_time": "2022-12-18T20:09:30.527Z"
   },
   {
    "duration": 24,
    "start_time": "2022-12-18T20:09:32.532Z"
   },
   {
    "duration": 28,
    "start_time": "2022-12-18T20:09:32.558Z"
   },
   {
    "duration": 19,
    "start_time": "2022-12-18T20:09:32.587Z"
   },
   {
    "duration": 44,
    "start_time": "2022-12-18T20:09:32.626Z"
   },
   {
    "duration": 59,
    "start_time": "2022-12-18T20:09:32.672Z"
   },
   {
    "duration": 45,
    "start_time": "2022-12-18T20:09:32.733Z"
   },
   {
    "duration": 4,
    "start_time": "2022-12-18T20:09:32.779Z"
   },
   {
    "duration": 13,
    "start_time": "2022-12-18T20:09:32.785Z"
   },
   {
    "duration": 27,
    "start_time": "2022-12-18T20:09:32.799Z"
   },
   {
    "duration": 12,
    "start_time": "2022-12-18T20:09:32.828Z"
   },
   {
    "duration": 19,
    "start_time": "2022-12-18T20:09:32.842Z"
   },
   {
    "duration": 165,
    "start_time": "2022-12-18T20:09:32.862Z"
   },
   {
    "duration": 6,
    "start_time": "2022-12-18T20:09:33.029Z"
   },
   {
    "duration": 103,
    "start_time": "2022-12-18T20:09:33.037Z"
   },
   {
    "duration": 88,
    "start_time": "2022-12-18T20:09:33.141Z"
   },
   {
    "duration": 6,
    "start_time": "2022-12-18T20:09:33.231Z"
   },
   {
    "duration": 16,
    "start_time": "2022-12-18T20:09:33.326Z"
   },
   {
    "duration": 17,
    "start_time": "2022-12-18T20:09:33.343Z"
   },
   {
    "duration": 64,
    "start_time": "2022-12-18T20:09:33.363Z"
   },
   {
    "duration": 99,
    "start_time": "2022-12-18T20:09:33.429Z"
   },
   {
    "duration": 9,
    "start_time": "2022-12-18T23:07:23.488Z"
   },
   {
    "duration": 1688,
    "start_time": "2022-12-18T23:07:33.558Z"
   },
   {
    "duration": 1849,
    "start_time": "2022-12-18T23:07:35.248Z"
   },
   {
    "duration": 24,
    "start_time": "2022-12-18T23:07:37.099Z"
   },
   {
    "duration": 19,
    "start_time": "2022-12-18T23:07:37.124Z"
   },
   {
    "duration": 29,
    "start_time": "2022-12-18T23:07:37.146Z"
   },
   {
    "duration": 56,
    "start_time": "2022-12-18T23:07:37.177Z"
   },
   {
    "duration": 55,
    "start_time": "2022-12-18T23:07:37.234Z"
   },
   {
    "duration": 45,
    "start_time": "2022-12-18T23:07:37.290Z"
   },
   {
    "duration": 23,
    "start_time": "2022-12-18T23:07:37.337Z"
   },
   {
    "duration": 16,
    "start_time": "2022-12-18T23:07:37.365Z"
   },
   {
    "duration": 12,
    "start_time": "2022-12-18T23:07:37.383Z"
   },
   {
    "duration": 11,
    "start_time": "2022-12-18T23:07:37.397Z"
   },
   {
    "duration": 19,
    "start_time": "2022-12-18T23:07:37.410Z"
   },
   {
    "duration": 127,
    "start_time": "2022-12-18T23:07:37.432Z"
   },
   {
    "duration": 114,
    "start_time": "2022-12-18T23:07:37.560Z"
   },
   {
    "duration": 18,
    "start_time": "2022-12-18T23:07:37.676Z"
   },
   {
    "duration": 58,
    "start_time": "2022-12-18T23:07:37.695Z"
   },
   {
    "duration": 8,
    "start_time": "2022-12-18T23:07:37.755Z"
   },
   {
    "duration": 122,
    "start_time": "2022-12-18T23:07:37.765Z"
   },
   {
    "duration": 18,
    "start_time": "2022-12-18T23:07:37.889Z"
   },
   {
    "duration": 51,
    "start_time": "2022-12-18T23:07:37.909Z"
   },
   {
    "duration": 110,
    "start_time": "2022-12-18T23:07:37.962Z"
   },
   {
    "duration": 7,
    "start_time": "2022-12-18T23:07:38.073Z"
   },
   {
    "duration": 5,
    "start_time": "2022-12-18T23:43:45.665Z"
   },
   {
    "duration": 108,
    "start_time": "2022-12-18T23:48:10.432Z"
   },
   {
    "duration": 311,
    "start_time": "2022-12-18T23:48:16.640Z"
   },
   {
    "duration": 4,
    "start_time": "2022-12-18T23:48:35.921Z"
   },
   {
    "duration": 18,
    "start_time": "2022-12-18T23:49:42.233Z"
   },
   {
    "duration": 16,
    "start_time": "2022-12-19T00:10:06.885Z"
   },
   {
    "duration": 16,
    "start_time": "2022-12-19T00:15:00.359Z"
   },
   {
    "duration": 10,
    "start_time": "2022-12-19T00:19:02.780Z"
   },
   {
    "duration": 9,
    "start_time": "2022-12-19T00:19:45.913Z"
   },
   {
    "duration": 9,
    "start_time": "2022-12-19T00:20:26.562Z"
   },
   {
    "duration": 9,
    "start_time": "2022-12-19T00:21:49.840Z"
   },
   {
    "duration": 9,
    "start_time": "2022-12-19T00:22:11.505Z"
   },
   {
    "duration": 8,
    "start_time": "2022-12-19T00:22:38.097Z"
   },
   {
    "duration": 9,
    "start_time": "2022-12-19T00:28:05.339Z"
   },
   {
    "duration": 4,
    "start_time": "2022-12-19T00:28:26.517Z"
   },
   {
    "duration": 3,
    "start_time": "2022-12-19T00:28:31.676Z"
   },
   {
    "duration": 10,
    "start_time": "2022-12-19T00:33:37.025Z"
   },
   {
    "duration": 1261,
    "start_time": "2022-12-19T00:36:39.667Z"
   },
   {
    "duration": 1255,
    "start_time": "2022-12-19T00:38:08.811Z"
   },
   {
    "duration": 1249,
    "start_time": "2022-12-19T00:38:45.096Z"
   },
   {
    "duration": 1485,
    "start_time": "2022-12-20T05:12:25.712Z"
   },
   {
    "duration": 1847,
    "start_time": "2022-12-20T05:12:27.199Z"
   },
   {
    "duration": 26,
    "start_time": "2022-12-20T05:12:29.047Z"
   },
   {
    "duration": 26,
    "start_time": "2022-12-20T05:12:29.075Z"
   },
   {
    "duration": 19,
    "start_time": "2022-12-20T05:12:29.104Z"
   },
   {
    "duration": 69,
    "start_time": "2022-12-20T05:12:29.124Z"
   },
   {
    "duration": 42,
    "start_time": "2022-12-20T05:12:29.194Z"
   },
   {
    "duration": 65,
    "start_time": "2022-12-20T05:12:29.237Z"
   },
   {
    "duration": 4,
    "start_time": "2022-12-20T05:12:29.304Z"
   },
   {
    "duration": 8,
    "start_time": "2022-12-20T05:12:29.309Z"
   },
   {
    "duration": 15,
    "start_time": "2022-12-20T05:12:29.319Z"
   },
   {
    "duration": 5,
    "start_time": "2022-12-20T05:12:29.336Z"
   },
   {
    "duration": 7,
    "start_time": "2022-12-20T05:12:29.342Z"
   },
   {
    "duration": 28,
    "start_time": "2022-12-20T05:12:29.351Z"
   },
   {
    "duration": 199,
    "start_time": "2022-12-20T05:12:29.381Z"
   },
   {
    "duration": 6,
    "start_time": "2022-12-20T05:12:29.582Z"
   },
   {
    "duration": 97,
    "start_time": "2022-12-20T05:12:29.590Z"
   },
   {
    "duration": 16,
    "start_time": "2022-12-20T05:12:29.689Z"
   },
   {
    "duration": 73,
    "start_time": "2022-12-20T05:12:29.706Z"
   },
   {
    "duration": 101,
    "start_time": "2022-12-20T05:12:29.784Z"
   },
   {
    "duration": 16,
    "start_time": "2022-12-20T05:12:29.887Z"
   },
   {
    "duration": 74,
    "start_time": "2022-12-20T05:12:29.905Z"
   },
   {
    "duration": 104,
    "start_time": "2022-12-20T05:12:29.981Z"
   },
   {
    "duration": 13,
    "start_time": "2022-12-20T05:12:30.087Z"
   },
   {
    "duration": 24,
    "start_time": "2022-12-20T05:12:30.101Z"
   },
   {
    "duration": 16,
    "start_time": "2022-12-20T05:12:30.127Z"
   },
   {
    "duration": 8,
    "start_time": "2022-12-20T05:12:30.145Z"
   },
   {
    "duration": 1269,
    "start_time": "2022-12-20T05:12:30.155Z"
   },
   {
    "duration": 1207,
    "start_time": "2022-12-20T05:12:31.426Z"
   },
   {
    "duration": 1223,
    "start_time": "2022-12-20T05:12:32.635Z"
   },
   {
    "duration": 1373,
    "start_time": "2022-12-20T05:15:09.718Z"
   },
   {
    "duration": 1220,
    "start_time": "2022-12-20T05:15:29.412Z"
   },
   {
    "duration": 1406,
    "start_time": "2022-12-20T05:15:35.695Z"
   },
   {
    "duration": 2626,
    "start_time": "2022-12-20T05:23:41.997Z"
   },
   {
    "duration": 111,
    "start_time": "2022-12-20T05:25:20.497Z"
   },
   {
    "duration": 14,
    "start_time": "2022-12-20T05:27:03.657Z"
   },
   {
    "duration": 2384,
    "start_time": "2022-12-20T05:27:43.345Z"
   },
   {
    "duration": 2208,
    "start_time": "2022-12-20T05:28:05.243Z"
   },
   {
    "duration": 2118,
    "start_time": "2022-12-20T05:28:18.626Z"
   },
   {
    "duration": 81,
    "start_time": "2022-12-20T05:28:51.435Z"
   },
   {
    "duration": 2273,
    "start_time": "2022-12-20T05:29:13.298Z"
   },
   {
    "duration": 2218,
    "start_time": "2022-12-20T05:29:32.260Z"
   },
   {
    "duration": 2395,
    "start_time": "2022-12-20T05:29:43.555Z"
   },
   {
    "duration": 100,
    "start_time": "2022-12-20T05:30:06.477Z"
   },
   {
    "duration": 80,
    "start_time": "2022-12-20T05:30:11.066Z"
   },
   {
    "duration": 2194,
    "start_time": "2022-12-20T05:30:25.941Z"
   },
   {
    "duration": 2340,
    "start_time": "2022-12-20T05:33:03.413Z"
   },
   {
    "duration": 2189,
    "start_time": "2022-12-20T05:33:38.167Z"
   },
   {
    "duration": 2212,
    "start_time": "2022-12-20T05:33:44.229Z"
   },
   {
    "duration": 1819,
    "start_time": "2022-12-20T06:28:29.004Z"
   },
   {
    "duration": 365,
    "start_time": "2022-12-20T06:28:30.824Z"
   },
   {
    "duration": 24,
    "start_time": "2022-12-20T06:28:31.190Z"
   },
   {
    "duration": 69,
    "start_time": "2022-12-20T06:28:31.216Z"
   },
   {
    "duration": 70,
    "start_time": "2022-12-20T06:28:31.286Z"
   },
   {
    "duration": 69,
    "start_time": "2022-12-20T06:28:31.357Z"
   },
   {
    "duration": 44,
    "start_time": "2022-12-20T06:28:31.427Z"
   },
   {
    "duration": 43,
    "start_time": "2022-12-20T06:28:31.479Z"
   },
   {
    "duration": 8,
    "start_time": "2022-12-20T06:28:31.524Z"
   },
   {
    "duration": 56,
    "start_time": "2022-12-20T06:28:31.534Z"
   },
   {
    "duration": 28,
    "start_time": "2022-12-20T06:28:31.592Z"
   },
   {
    "duration": 34,
    "start_time": "2022-12-20T06:28:31.622Z"
   },
   {
    "duration": 70,
    "start_time": "2022-12-20T06:28:31.658Z"
   },
   {
    "duration": 57,
    "start_time": "2022-12-20T06:28:31.730Z"
   },
   {
    "duration": 41,
    "start_time": "2022-12-20T06:28:31.789Z"
   },
   {
    "duration": 146,
    "start_time": "2022-12-20T06:28:31.832Z"
   },
   {
    "duration": 14,
    "start_time": "2022-12-20T06:28:31.980Z"
   },
   {
    "duration": 53,
    "start_time": "2022-12-20T06:28:31.996Z"
   },
   {
    "duration": 174,
    "start_time": "2022-12-20T06:28:32.051Z"
   },
   {
    "duration": 75,
    "start_time": "2022-12-20T06:28:32.227Z"
   },
   {
    "duration": 57,
    "start_time": "2022-12-20T06:28:32.303Z"
   },
   {
    "duration": 170,
    "start_time": "2022-12-20T06:28:32.362Z"
   },
   {
    "duration": 39,
    "start_time": "2022-12-20T06:28:32.534Z"
   },
   {
    "duration": 79,
    "start_time": "2022-12-20T06:28:32.575Z"
   },
   {
    "duration": 46,
    "start_time": "2022-12-20T06:28:32.656Z"
   },
   {
    "duration": 31,
    "start_time": "2022-12-20T06:28:32.704Z"
   },
   {
    "duration": 66,
    "start_time": "2022-12-20T06:28:32.736Z"
   },
   {
    "duration": 2340,
    "start_time": "2022-12-20T06:28:32.805Z"
   },
   {
    "duration": 2145,
    "start_time": "2022-12-20T06:28:35.146Z"
   },
   {
    "duration": 2165,
    "start_time": "2022-12-20T06:28:37.292Z"
   },
   {
    "duration": 2063,
    "start_time": "2022-12-20T06:42:28.853Z"
   },
   {
    "duration": 2075,
    "start_time": "2022-12-20T06:42:44.888Z"
   },
   {
    "duration": 2089,
    "start_time": "2022-12-20T06:43:34.221Z"
   },
   {
    "duration": 1879,
    "start_time": "2022-12-20T06:43:55.553Z"
   },
   {
    "duration": 347,
    "start_time": "2022-12-20T06:43:57.434Z"
   },
   {
    "duration": 24,
    "start_time": "2022-12-20T06:43:57.783Z"
   },
   {
    "duration": 54,
    "start_time": "2022-12-20T06:43:57.809Z"
   },
   {
    "duration": 38,
    "start_time": "2022-12-20T06:43:57.864Z"
   },
   {
    "duration": 66,
    "start_time": "2022-12-20T06:43:57.904Z"
   },
   {
    "duration": 42,
    "start_time": "2022-12-20T06:43:57.972Z"
   },
   {
    "duration": 69,
    "start_time": "2022-12-20T06:43:58.016Z"
   },
   {
    "duration": 11,
    "start_time": "2022-12-20T06:43:58.087Z"
   },
   {
    "duration": 31,
    "start_time": "2022-12-20T06:43:58.101Z"
   },
   {
    "duration": 48,
    "start_time": "2022-12-20T06:43:58.134Z"
   },
   {
    "duration": 34,
    "start_time": "2022-12-20T06:43:58.184Z"
   },
   {
    "duration": 37,
    "start_time": "2022-12-20T06:43:58.220Z"
   },
   {
    "duration": 29,
    "start_time": "2022-12-20T06:43:58.259Z"
   },
   {
    "duration": 60,
    "start_time": "2022-12-20T06:43:58.290Z"
   },
   {
    "duration": 137,
    "start_time": "2022-12-20T06:43:58.352Z"
   },
   {
    "duration": 48,
    "start_time": "2022-12-20T06:43:58.490Z"
   },
   {
    "duration": 36,
    "start_time": "2022-12-20T06:43:58.539Z"
   },
   {
    "duration": 206,
    "start_time": "2022-12-20T06:43:58.578Z"
   },
   {
    "duration": 38,
    "start_time": "2022-12-20T06:43:58.786Z"
   },
   {
    "duration": 52,
    "start_time": "2022-12-20T06:43:58.826Z"
   },
   {
    "duration": 99,
    "start_time": "2022-12-20T06:43:58.880Z"
   },
   {
    "duration": 18,
    "start_time": "2022-12-20T06:43:58.980Z"
   },
   {
    "duration": 35,
    "start_time": "2022-12-20T06:43:58.999Z"
   },
   {
    "duration": 34,
    "start_time": "2022-12-20T06:43:59.035Z"
   },
   {
    "duration": 25,
    "start_time": "2022-12-20T06:43:59.071Z"
   },
   {
    "duration": 21,
    "start_time": "2022-12-20T06:43:59.097Z"
   },
   {
    "duration": 2191,
    "start_time": "2022-12-20T06:43:59.120Z"
   },
   {
    "duration": 2071,
    "start_time": "2022-12-20T06:44:01.312Z"
   },
   {
    "duration": 2131,
    "start_time": "2022-12-20T06:44:03.385Z"
   },
   {
    "duration": 2175,
    "start_time": "2022-12-20T06:44:05.517Z"
   },
   {
    "duration": 1886,
    "start_time": "2022-12-20T06:44:59.582Z"
   },
   {
    "duration": 340,
    "start_time": "2022-12-20T06:45:01.470Z"
   },
   {
    "duration": 25,
    "start_time": "2022-12-20T06:45:01.812Z"
   },
   {
    "duration": 28,
    "start_time": "2022-12-20T06:45:01.839Z"
   },
   {
    "duration": 26,
    "start_time": "2022-12-20T06:45:01.868Z"
   },
   {
    "duration": 45,
    "start_time": "2022-12-20T06:45:01.896Z"
   },
   {
    "duration": 65,
    "start_time": "2022-12-20T06:45:01.942Z"
   },
   {
    "duration": 44,
    "start_time": "2022-12-20T06:45:02.009Z"
   },
   {
    "duration": 4,
    "start_time": "2022-12-20T06:45:02.055Z"
   },
   {
    "duration": 7,
    "start_time": "2022-12-20T06:45:02.077Z"
   },
   {
    "duration": 9,
    "start_time": "2022-12-20T06:45:02.085Z"
   },
   {
    "duration": 6,
    "start_time": "2022-12-20T06:45:02.096Z"
   },
   {
    "duration": 10,
    "start_time": "2022-12-20T06:45:02.103Z"
   },
   {
    "duration": 27,
    "start_time": "2022-12-20T06:45:02.115Z"
   },
   {
    "duration": 38,
    "start_time": "2022-12-20T06:45:02.143Z"
   },
   {
    "duration": 99,
    "start_time": "2022-12-20T06:45:02.183Z"
   },
   {
    "duration": 21,
    "start_time": "2022-12-20T06:45:02.285Z"
   },
   {
    "duration": 71,
    "start_time": "2022-12-20T06:45:02.308Z"
   },
   {
    "duration": 97,
    "start_time": "2022-12-20T06:45:02.381Z"
   },
   {
    "duration": 13,
    "start_time": "2022-12-20T06:45:02.480Z"
   },
   {
    "duration": 17,
    "start_time": "2022-12-20T06:45:02.494Z"
   },
   {
    "duration": 66,
    "start_time": "2022-12-20T06:45:02.513Z"
   },
   {
    "duration": 108,
    "start_time": "2022-12-20T06:45:02.580Z"
   },
   {
    "duration": 23,
    "start_time": "2022-12-20T06:45:02.690Z"
   },
   {
    "duration": 15,
    "start_time": "2022-12-20T06:45:02.714Z"
   },
   {
    "duration": 18,
    "start_time": "2022-12-20T06:45:02.731Z"
   },
   {
    "duration": 15,
    "start_time": "2022-12-20T06:45:02.750Z"
   },
   {
    "duration": 2247,
    "start_time": "2022-12-20T06:45:02.768Z"
   },
   {
    "duration": 2161,
    "start_time": "2022-12-20T06:45:05.016Z"
   },
   {
    "duration": 2261,
    "start_time": "2022-12-20T06:45:07.179Z"
   },
   {
    "duration": 9,
    "start_time": "2022-12-20T06:53:35.948Z"
   },
   {
    "duration": 1832,
    "start_time": "2022-12-20T06:54:09.209Z"
   },
   {
    "duration": 377,
    "start_time": "2022-12-20T06:54:11.043Z"
   },
   {
    "duration": 25,
    "start_time": "2022-12-20T06:54:11.422Z"
   },
   {
    "duration": 32,
    "start_time": "2022-12-20T06:54:11.449Z"
   },
   {
    "duration": 21,
    "start_time": "2022-12-20T06:54:11.482Z"
   },
   {
    "duration": 47,
    "start_time": "2022-12-20T06:54:11.504Z"
   },
   {
    "duration": 63,
    "start_time": "2022-12-20T06:54:11.553Z"
   },
   {
    "duration": 61,
    "start_time": "2022-12-20T06:54:11.618Z"
   },
   {
    "duration": 4,
    "start_time": "2022-12-20T06:54:11.680Z"
   },
   {
    "duration": 8,
    "start_time": "2022-12-20T06:54:11.687Z"
   },
   {
    "duration": 11,
    "start_time": "2022-12-20T06:54:11.696Z"
   },
   {
    "duration": 17,
    "start_time": "2022-12-20T06:54:11.709Z"
   },
   {
    "duration": 7,
    "start_time": "2022-12-20T06:54:11.728Z"
   },
   {
    "duration": 18,
    "start_time": "2022-12-20T06:54:11.736Z"
   },
   {
    "duration": 30,
    "start_time": "2022-12-20T06:54:11.756Z"
   },
   {
    "duration": 96,
    "start_time": "2022-12-20T06:54:11.787Z"
   },
   {
    "duration": 108,
    "start_time": "2022-12-20T06:54:11.885Z"
   },
   {
    "duration": 19,
    "start_time": "2022-12-20T06:54:11.996Z"
   },
   {
    "duration": 97,
    "start_time": "2022-12-20T06:54:12.081Z"
   },
   {
    "duration": 13,
    "start_time": "2022-12-20T06:54:12.180Z"
   },
   {
    "duration": 22,
    "start_time": "2022-12-20T06:54:12.195Z"
   },
   {
    "duration": 60,
    "start_time": "2022-12-20T06:54:12.218Z"
   },
   {
    "duration": 104,
    "start_time": "2022-12-20T06:54:12.280Z"
   },
   {
    "duration": 7,
    "start_time": "2022-12-20T06:54:12.386Z"
   },
   {
    "duration": 17,
    "start_time": "2022-12-20T06:54:12.394Z"
   },
   {
    "duration": 9,
    "start_time": "2022-12-20T06:54:12.412Z"
   },
   {
    "duration": 9,
    "start_time": "2022-12-20T06:54:12.422Z"
   },
   {
    "duration": 2197,
    "start_time": "2022-12-20T06:54:12.433Z"
   },
   {
    "duration": 2167,
    "start_time": "2022-12-20T06:54:14.632Z"
   },
   {
    "duration": 8,
    "start_time": "2022-12-20T06:54:16.801Z"
   },
   {
    "duration": 2069,
    "start_time": "2022-12-20T06:54:16.810Z"
   },
   {
    "duration": 1554,
    "start_time": "2022-12-20T17:33:48.431Z"
   },
   {
    "duration": 744,
    "start_time": "2022-12-20T17:33:49.987Z"
   },
   {
    "duration": 25,
    "start_time": "2022-12-20T17:33:50.733Z"
   },
   {
    "duration": 22,
    "start_time": "2022-12-20T17:33:50.760Z"
   },
   {
    "duration": 28,
    "start_time": "2022-12-20T17:33:50.783Z"
   },
   {
    "duration": 42,
    "start_time": "2022-12-20T17:33:50.813Z"
   },
   {
    "duration": 60,
    "start_time": "2022-12-20T17:33:50.857Z"
   },
   {
    "duration": 47,
    "start_time": "2022-12-20T17:33:50.918Z"
   },
   {
    "duration": 4,
    "start_time": "2022-12-20T17:33:50.967Z"
   },
   {
    "duration": 26,
    "start_time": "2022-12-20T17:33:50.974Z"
   },
   {
    "duration": 8,
    "start_time": "2022-12-20T17:33:51.001Z"
   },
   {
    "duration": 7,
    "start_time": "2022-12-20T17:33:51.011Z"
   },
   {
    "duration": 10,
    "start_time": "2022-12-20T17:33:51.020Z"
   },
   {
    "duration": 21,
    "start_time": "2022-12-20T17:33:51.032Z"
   },
   {
    "duration": 145,
    "start_time": "2022-12-20T17:33:51.055Z"
   },
   {
    "duration": 7,
    "start_time": "2022-12-20T17:33:51.202Z"
   },
   {
    "duration": 46,
    "start_time": "2022-12-20T17:33:51.296Z"
   },
   {
    "duration": 39,
    "start_time": "2022-12-20T17:33:51.345Z"
   },
   {
    "duration": 120,
    "start_time": "2022-12-20T17:33:51.386Z"
   },
   {
    "duration": 16,
    "start_time": "2022-12-20T17:33:51.508Z"
   },
   {
    "duration": 170,
    "start_time": "2022-12-20T17:33:51.526Z"
   },
   {
    "duration": 3,
    "start_time": "2022-12-20T17:33:51.698Z"
   },
   {
    "duration": 8,
    "start_time": "2022-12-20T17:33:51.703Z"
   },
   {
    "duration": 10,
    "start_time": "2022-12-20T17:33:51.713Z"
   },
   {
    "duration": 15,
    "start_time": "2022-12-20T17:33:51.725Z"
   },
   {
    "duration": 58,
    "start_time": "2022-12-20T17:33:51.742Z"
   },
   {
    "duration": 10,
    "start_time": "2022-12-20T17:33:51.802Z"
   },
   {
    "duration": 2464,
    "start_time": "2022-12-20T17:33:51.815Z"
   },
   {
    "duration": 2338,
    "start_time": "2022-12-20T17:33:54.280Z"
   },
   {
    "duration": 8,
    "start_time": "2022-12-20T17:33:56.620Z"
   },
   {
    "duration": 2239,
    "start_time": "2022-12-20T17:33:56.630Z"
   },
   {
    "duration": 190432,
    "start_time": "2022-12-20T17:38:49.436Z"
   },
   {
    "duration": 322,
    "start_time": "2022-12-20T17:42:15.674Z"
   },
   {
    "duration": 0,
    "start_time": "2022-12-20T17:45:41.289Z"
   },
   {
    "duration": 307,
    "start_time": "2022-12-20T17:45:42.865Z"
   },
   {
    "duration": 234,
    "start_time": "2022-12-20T17:45:47.922Z"
   },
   {
    "duration": 224,
    "start_time": "2022-12-20T17:45:56.936Z"
   },
   {
    "duration": 392,
    "start_time": "2022-12-20T18:38:30.658Z"
   },
   {
    "duration": 166,
    "start_time": "2022-12-20T18:38:58.639Z"
   },
   {
    "duration": 164,
    "start_time": "2022-12-20T18:39:10.716Z"
   },
   {
    "duration": 168,
    "start_time": "2022-12-20T18:39:20.386Z"
   },
   {
    "duration": 3,
    "start_time": "2022-12-20T18:50:02.963Z"
   },
   {
    "duration": 3,
    "start_time": "2022-12-20T18:50:32.655Z"
   },
   {
    "duration": 3,
    "start_time": "2022-12-20T18:52:59.576Z"
   },
   {
    "duration": 9,
    "start_time": "2022-12-20T18:53:27.162Z"
   },
   {
    "duration": 10,
    "start_time": "2022-12-20T18:53:29.032Z"
   },
   {
    "duration": 9,
    "start_time": "2022-12-20T18:53:31.360Z"
   },
   {
    "duration": 2316,
    "start_time": "2022-12-20T18:53:41.873Z"
   },
   {
    "duration": 2266,
    "start_time": "2022-12-20T18:54:07.465Z"
   },
   {
    "duration": 2371,
    "start_time": "2022-12-20T18:54:48.308Z"
   },
   {
    "duration": 2057,
    "start_time": "2022-12-20T20:49:34.793Z"
   },
   {
    "duration": 1909,
    "start_time": "2022-12-20T20:49:36.852Z"
   },
   {
    "duration": 24,
    "start_time": "2022-12-20T20:49:38.763Z"
   },
   {
    "duration": 21,
    "start_time": "2022-12-20T20:49:38.789Z"
   },
   {
    "duration": 27,
    "start_time": "2022-12-20T20:49:38.811Z"
   },
   {
    "duration": 48,
    "start_time": "2022-12-20T20:49:38.840Z"
   },
   {
    "duration": 59,
    "start_time": "2022-12-20T20:49:38.889Z"
   },
   {
    "duration": 42,
    "start_time": "2022-12-20T20:49:38.950Z"
   },
   {
    "duration": 175,
    "start_time": "2022-12-20T20:49:38.993Z"
   },
   {
    "duration": 163,
    "start_time": "2022-12-20T20:49:39.170Z"
   },
   {
    "duration": 150,
    "start_time": "2022-12-20T20:49:39.341Z"
   },
   {
    "duration": 314,
    "start_time": "2022-12-20T20:49:39.493Z"
   },
   {
    "duration": 369,
    "start_time": "2022-12-20T20:49:39.808Z"
   },
   {
    "duration": 302,
    "start_time": "2022-12-20T20:49:40.179Z"
   },
   {
    "duration": 5,
    "start_time": "2022-12-20T20:49:40.483Z"
   },
   {
    "duration": 12,
    "start_time": "2022-12-20T20:49:40.489Z"
   },
   {
    "duration": 19,
    "start_time": "2022-12-20T20:49:40.503Z"
   },
   {
    "duration": 24,
    "start_time": "2022-12-20T20:49:40.526Z"
   },
   {
    "duration": 6,
    "start_time": "2022-12-20T20:49:40.552Z"
   },
   {
    "duration": 14,
    "start_time": "2022-12-20T20:49:40.560Z"
   },
   {
    "duration": 68,
    "start_time": "2022-12-20T20:49:40.575Z"
   },
   {
    "duration": 106,
    "start_time": "2022-12-20T20:49:40.645Z"
   },
   {
    "duration": 73,
    "start_time": "2022-12-20T20:49:40.753Z"
   },
   {
    "duration": 98,
    "start_time": "2022-12-20T20:49:40.828Z"
   },
   {
    "duration": 8,
    "start_time": "2022-12-20T20:49:40.929Z"
   },
   {
    "duration": 121,
    "start_time": "2022-12-20T20:49:40.941Z"
   },
   {
    "duration": 15,
    "start_time": "2022-12-20T20:49:41.064Z"
   },
   {
    "duration": 107,
    "start_time": "2022-12-20T20:49:41.122Z"
   },
   {
    "duration": 12,
    "start_time": "2022-12-20T20:49:41.233Z"
   },
   {
    "duration": 5,
    "start_time": "2022-12-20T20:49:41.246Z"
   },
   {
    "duration": 10,
    "start_time": "2022-12-20T20:49:41.253Z"
   },
   {
    "duration": 7,
    "start_time": "2022-12-20T20:49:41.265Z"
   },
   {
    "duration": 9,
    "start_time": "2022-12-20T20:49:41.274Z"
   },
   {
    "duration": 2340,
    "start_time": "2022-12-20T20:49:41.284Z"
   },
   {
    "duration": 2268,
    "start_time": "2022-12-20T20:49:43.628Z"
   },
   {
    "duration": 9,
    "start_time": "2022-12-20T20:49:45.898Z"
   },
   {
    "duration": 2226,
    "start_time": "2022-12-20T20:49:45.923Z"
   },
   {
    "duration": 51,
    "start_time": "2022-12-21T08:41:33.994Z"
   },
   {
    "duration": 1620,
    "start_time": "2022-12-21T08:41:47.946Z"
   },
   {
    "duration": 810,
    "start_time": "2022-12-21T08:41:49.569Z"
   },
   {
    "duration": 26,
    "start_time": "2022-12-21T08:41:50.381Z"
   },
   {
    "duration": 25,
    "start_time": "2022-12-21T08:41:50.409Z"
   },
   {
    "duration": 21,
    "start_time": "2022-12-21T08:41:50.438Z"
   },
   {
    "duration": 75,
    "start_time": "2022-12-21T08:41:50.461Z"
   },
   {
    "duration": 60,
    "start_time": "2022-12-21T08:41:50.538Z"
   },
   {
    "duration": 50,
    "start_time": "2022-12-21T08:41:50.600Z"
   },
   {
    "duration": 184,
    "start_time": "2022-12-21T08:41:50.652Z"
   },
   {
    "duration": 179,
    "start_time": "2022-12-21T08:41:50.838Z"
   },
   {
    "duration": 168,
    "start_time": "2022-12-21T08:41:51.019Z"
   },
   {
    "duration": 91,
    "start_time": "2022-12-21T08:41:51.189Z"
   },
   {
    "duration": 0,
    "start_time": "2022-12-21T08:41:51.283Z"
   },
   {
    "duration": 0,
    "start_time": "2022-12-21T08:41:51.284Z"
   },
   {
    "duration": 0,
    "start_time": "2022-12-21T08:41:51.296Z"
   },
   {
    "duration": 0,
    "start_time": "2022-12-21T08:41:51.298Z"
   },
   {
    "duration": 0,
    "start_time": "2022-12-21T08:41:51.300Z"
   },
   {
    "duration": 0,
    "start_time": "2022-12-21T08:41:51.301Z"
   },
   {
    "duration": 0,
    "start_time": "2022-12-21T08:41:51.302Z"
   },
   {
    "duration": 0,
    "start_time": "2022-12-21T08:41:51.303Z"
   },
   {
    "duration": 0,
    "start_time": "2022-12-21T08:41:51.304Z"
   },
   {
    "duration": 0,
    "start_time": "2022-12-21T08:41:51.305Z"
   },
   {
    "duration": 1,
    "start_time": "2022-12-21T08:41:51.306Z"
   },
   {
    "duration": 0,
    "start_time": "2022-12-21T08:41:51.308Z"
   },
   {
    "duration": 0,
    "start_time": "2022-12-21T08:41:51.309Z"
   },
   {
    "duration": 0,
    "start_time": "2022-12-21T08:41:51.310Z"
   },
   {
    "duration": 0,
    "start_time": "2022-12-21T08:41:51.311Z"
   },
   {
    "duration": 0,
    "start_time": "2022-12-21T08:41:51.312Z"
   },
   {
    "duration": 0,
    "start_time": "2022-12-21T08:41:51.313Z"
   },
   {
    "duration": 0,
    "start_time": "2022-12-21T08:41:51.314Z"
   },
   {
    "duration": 0,
    "start_time": "2022-12-21T08:41:51.315Z"
   },
   {
    "duration": 0,
    "start_time": "2022-12-21T08:41:51.316Z"
   },
   {
    "duration": 0,
    "start_time": "2022-12-21T08:41:51.317Z"
   },
   {
    "duration": 0,
    "start_time": "2022-12-21T08:41:51.319Z"
   },
   {
    "duration": 0,
    "start_time": "2022-12-21T08:41:51.320Z"
   },
   {
    "duration": 0,
    "start_time": "2022-12-21T08:41:51.321Z"
   },
   {
    "duration": 0,
    "start_time": "2022-12-21T08:41:51.322Z"
   },
   {
    "duration": 398,
    "start_time": "2022-12-21T08:42:37.751Z"
   },
   {
    "duration": 424,
    "start_time": "2022-12-21T08:42:45.645Z"
   },
   {
    "duration": 356,
    "start_time": "2022-12-21T08:42:56.275Z"
   },
   {
    "duration": 49,
    "start_time": "2023-08-22T20:28:24.184Z"
   },
   {
    "duration": 1604,
    "start_time": "2023-08-22T20:28:40.522Z"
   },
   {
    "duration": 1516,
    "start_time": "2023-08-22T20:28:42.129Z"
   },
   {
    "duration": 27,
    "start_time": "2023-08-22T20:28:43.646Z"
   },
   {
    "duration": 25,
    "start_time": "2023-08-22T20:28:43.675Z"
   },
   {
    "duration": 20,
    "start_time": "2023-08-22T20:28:43.703Z"
   },
   {
    "duration": 71,
    "start_time": "2023-08-22T20:28:43.725Z"
   },
   {
    "duration": 49,
    "start_time": "2023-08-22T20:28:43.798Z"
   },
   {
    "duration": 69,
    "start_time": "2023-08-22T20:28:43.849Z"
   },
   {
    "duration": 232,
    "start_time": "2023-08-22T20:28:43.921Z"
   },
   {
    "duration": 165,
    "start_time": "2023-08-22T20:28:44.155Z"
   },
   {
    "duration": 153,
    "start_time": "2023-08-22T20:28:44.321Z"
   },
   {
    "duration": 410,
    "start_time": "2023-08-22T20:28:44.476Z"
   },
   {
    "duration": 404,
    "start_time": "2023-08-22T20:28:44.888Z"
   },
   {
    "duration": 298,
    "start_time": "2023-08-22T20:28:45.296Z"
   },
   {
    "duration": 4,
    "start_time": "2023-08-22T20:28:45.596Z"
   },
   {
    "duration": 16,
    "start_time": "2023-08-22T20:28:45.602Z"
   },
   {
    "duration": 8,
    "start_time": "2023-08-22T20:28:45.620Z"
   },
   {
    "duration": 6,
    "start_time": "2023-08-22T20:28:45.630Z"
   },
   {
    "duration": 8,
    "start_time": "2023-08-22T20:28:45.637Z"
   },
   {
    "duration": 23,
    "start_time": "2023-08-22T20:28:45.647Z"
   },
   {
    "duration": 200,
    "start_time": "2023-08-22T20:28:45.671Z"
   },
   {
    "duration": 93,
    "start_time": "2023-08-22T20:28:45.877Z"
   },
   {
    "duration": 106,
    "start_time": "2023-08-22T20:28:45.972Z"
   },
   {
    "duration": 23,
    "start_time": "2023-08-22T20:28:46.080Z"
   },
   {
    "duration": 6,
    "start_time": "2023-08-22T20:28:46.168Z"
   },
   {
    "duration": 106,
    "start_time": "2023-08-22T20:28:46.176Z"
   },
   {
    "duration": 19,
    "start_time": "2023-08-22T20:28:46.284Z"
   },
   {
    "duration": 5,
    "start_time": "2023-08-22T20:28:46.371Z"
   },
   {
    "duration": 10,
    "start_time": "2023-08-22T20:28:46.467Z"
   },
   {
    "duration": 4,
    "start_time": "2023-08-22T20:28:46.480Z"
   },
   {
    "duration": 11,
    "start_time": "2023-08-22T20:28:46.485Z"
   },
   {
    "duration": 9,
    "start_time": "2023-08-22T20:28:46.498Z"
   },
   {
    "duration": 11,
    "start_time": "2023-08-22T20:28:46.508Z"
   },
   {
    "duration": 2300,
    "start_time": "2023-08-22T20:28:46.520Z"
   },
   {
    "duration": 2289,
    "start_time": "2023-08-22T20:28:48.821Z"
   },
   {
    "duration": 8,
    "start_time": "2023-08-22T20:28:51.112Z"
   },
   {
    "duration": 2396,
    "start_time": "2023-08-22T20:28:51.121Z"
   }
  ],
  "kernelspec": {
   "display_name": "Python 3 (ipykernel)",
   "language": "python",
   "name": "python3"
  },
  "language_info": {
   "codemirror_mode": {
    "name": "ipython",
    "version": 3
   },
   "file_extension": ".py",
   "mimetype": "text/x-python",
   "name": "python",
   "nbconvert_exporter": "python",
   "pygments_lexer": "ipython3",
   "version": "3.9.5"
  },
  "toc": {
   "base_numbering": 1,
   "nav_menu": {},
   "number_sections": true,
   "sideBar": true,
   "skip_h1_title": true,
   "title_cell": "Table of Contents",
   "title_sidebar": "Contents",
   "toc_cell": false,
   "toc_position": {},
   "toc_section_display": true,
   "toc_window_display": true
  }
 },
 "nbformat": 4,
 "nbformat_minor": 2
}
