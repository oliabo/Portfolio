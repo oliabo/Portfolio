{
 "cells": [
  {
   "cell_type": "markdown",
   "metadata": {},
   "source": [
    "# Исследование объявлений о продаже квартир\n",
    "\n",
    "### Описание проекта\n",
    "У нас есть данные сервиса Яндекс.Недвижимость — архив объявлений о продаже квартир в Санкт-Петербурге и соседних населённых пунктов за несколько лет. Определим рыночную стоимость объектов недвижимости. Нужно установить параметры, которые позволят построить автоматизированную систему: она отследит аномалии и мошенническую деятельность. \n",
    "\n",
    "### Описание данных \n",
    "airports_nearest — расстояние до ближайшего аэропорта в метрах (м)  \n",
    "balcony — число балконов  \n",
    "ceiling_height — высота потолков (м)  \n",
    "cityCenters_nearest — расстояние до центра города (м)  \n",
    "days_exposition — сколько дней было размещено объявление (от публикации до снятия)  \n",
    "first_day_exposition — дата публикации  \n",
    "floor — этаж  \n",
    "floors_total — всего этажей в доме  \n",
    "is_apartment — апартаменты (булев тип)  \n",
    "kitchen_area — площадь кухни в квадратных метрах (м²)  \n",
    "last_price — цена на момент снятия с публикации  \n",
    "living_area — жилая площадь в квадратных метрах (м²)  \n",
    "locality_name — название населённого пункта  \n",
    "open_plan — свободная планировка (булев тип)  \n",
    "parks_around3000 — число парков в радиусе 3 км  \n",
    "parks_nearest — расстояние до ближайшего парка (м)  \n",
    "ponds_around3000 — число водоёмов в радиусе 3 км  \n",
    "ponds_nearest — расстояние до ближайшего водоёма (м)  \n",
    "rooms — число комнат  \n",
    "studio — квартира-студия (булев тип)  \n",
    "total_area — общая площадь квартиры в квадратных метрах (м²)  \n",
    "total_images — число фотографий квартиры в объявлении"
   ]
  },
  {
   "cell_type": "markdown",
   "metadata": {},
   "source": [
    "### Общая информация"
   ]
  },
  {
   "cell_type": "code",
   "execution_count": 1,
   "metadata": {},
   "outputs": [],
   "source": [
    "import pandas as pd\n",
    "import numpy as nmp\n",
    "import seaborn as sbn\n",
    "import matplotlib.pyplot as plt"
   ]
  },
  {
   "cell_type": "code",
   "execution_count": 2,
   "metadata": {
    "scrolled": false
   },
   "outputs": [
    {
     "name": "stdout",
     "output_type": "stream",
     "text": [
      "<class 'pandas.core.frame.DataFrame'>\n",
      "RangeIndex: 23699 entries, 0 to 23698\n",
      "Data columns (total 22 columns):\n",
      " #   Column                Non-Null Count  Dtype  \n",
      "---  ------                --------------  -----  \n",
      " 0   total_images          23699 non-null  int64  \n",
      " 1   last_price            23699 non-null  float64\n",
      " 2   total_area            23699 non-null  float64\n",
      " 3   first_day_exposition  23699 non-null  object \n",
      " 4   rooms                 23699 non-null  int64  \n",
      " 5   ceiling_height        14504 non-null  float64\n",
      " 6   floors_total          23613 non-null  float64\n",
      " 7   living_area           21796 non-null  float64\n",
      " 8   floor                 23699 non-null  int64  \n",
      " 9   is_apartment          2775 non-null   object \n",
      " 10  studio                23699 non-null  bool   \n",
      " 11  open_plan             23699 non-null  bool   \n",
      " 12  kitchen_area          21421 non-null  float64\n",
      " 13  balcony               12180 non-null  float64\n",
      " 14  locality_name         23650 non-null  object \n",
      " 15  airports_nearest      18157 non-null  float64\n",
      " 16  cityCenters_nearest   18180 non-null  float64\n",
      " 17  parks_around3000      18181 non-null  float64\n",
      " 18  parks_nearest         8079 non-null   float64\n",
      " 19  ponds_around3000      18181 non-null  float64\n",
      " 20  ponds_nearest         9110 non-null   float64\n",
      " 21  days_exposition       20518 non-null  float64\n",
      "dtypes: bool(2), float64(14), int64(3), object(3)\n",
      "memory usage: 3.7+ MB\n"
     ]
    },
    {
     "data": {
      "text/html": [
       "<div>\n",
       "<style scoped>\n",
       "    .dataframe tbody tr th:only-of-type {\n",
       "        vertical-align: middle;\n",
       "    }\n",
       "\n",
       "    .dataframe tbody tr th {\n",
       "        vertical-align: top;\n",
       "    }\n",
       "\n",
       "    .dataframe thead th {\n",
       "        text-align: right;\n",
       "    }\n",
       "</style>\n",
       "<table border=\"1\" class=\"dataframe\">\n",
       "  <thead>\n",
       "    <tr style=\"text-align: right;\">\n",
       "      <th></th>\n",
       "      <th>total_images</th>\n",
       "      <th>last_price</th>\n",
       "      <th>total_area</th>\n",
       "      <th>first_day_exposition</th>\n",
       "      <th>rooms</th>\n",
       "      <th>ceiling_height</th>\n",
       "      <th>floors_total</th>\n",
       "      <th>living_area</th>\n",
       "      <th>floor</th>\n",
       "      <th>is_apartment</th>\n",
       "      <th>studio</th>\n",
       "      <th>open_plan</th>\n",
       "      <th>kitchen_area</th>\n",
       "      <th>balcony</th>\n",
       "      <th>locality_name</th>\n",
       "      <th>airports_nearest</th>\n",
       "      <th>cityCenters_nearest</th>\n",
       "      <th>parks_around3000</th>\n",
       "      <th>parks_nearest</th>\n",
       "      <th>ponds_around3000</th>\n",
       "      <th>ponds_nearest</th>\n",
       "      <th>days_exposition</th>\n",
       "    </tr>\n",
       "  </thead>\n",
       "  <tbody>\n",
       "    <tr>\n",
       "      <th>0</th>\n",
       "      <td>20</td>\n",
       "      <td>13000000.0</td>\n",
       "      <td>108.00</td>\n",
       "      <td>2019-03-07T00:00:00</td>\n",
       "      <td>3</td>\n",
       "      <td>2.70</td>\n",
       "      <td>16.0</td>\n",
       "      <td>51.00</td>\n",
       "      <td>8</td>\n",
       "      <td>NaN</td>\n",
       "      <td>False</td>\n",
       "      <td>False</td>\n",
       "      <td>25.00</td>\n",
       "      <td>NaN</td>\n",
       "      <td>Санкт-Петербург</td>\n",
       "      <td>18863.0</td>\n",
       "      <td>16028.0</td>\n",
       "      <td>1.0</td>\n",
       "      <td>482.0</td>\n",
       "      <td>2.0</td>\n",
       "      <td>755.0</td>\n",
       "      <td>NaN</td>\n",
       "    </tr>\n",
       "    <tr>\n",
       "      <th>1</th>\n",
       "      <td>7</td>\n",
       "      <td>3350000.0</td>\n",
       "      <td>40.40</td>\n",
       "      <td>2018-12-04T00:00:00</td>\n",
       "      <td>1</td>\n",
       "      <td>NaN</td>\n",
       "      <td>11.0</td>\n",
       "      <td>18.60</td>\n",
       "      <td>1</td>\n",
       "      <td>NaN</td>\n",
       "      <td>False</td>\n",
       "      <td>False</td>\n",
       "      <td>11.00</td>\n",
       "      <td>2.0</td>\n",
       "      <td>посёлок Шушары</td>\n",
       "      <td>12817.0</td>\n",
       "      <td>18603.0</td>\n",
       "      <td>0.0</td>\n",
       "      <td>NaN</td>\n",
       "      <td>0.0</td>\n",
       "      <td>NaN</td>\n",
       "      <td>81.0</td>\n",
       "    </tr>\n",
       "    <tr>\n",
       "      <th>2</th>\n",
       "      <td>10</td>\n",
       "      <td>5196000.0</td>\n",
       "      <td>56.00</td>\n",
       "      <td>2015-08-20T00:00:00</td>\n",
       "      <td>2</td>\n",
       "      <td>NaN</td>\n",
       "      <td>5.0</td>\n",
       "      <td>34.30</td>\n",
       "      <td>4</td>\n",
       "      <td>NaN</td>\n",
       "      <td>False</td>\n",
       "      <td>False</td>\n",
       "      <td>8.30</td>\n",
       "      <td>0.0</td>\n",
       "      <td>Санкт-Петербург</td>\n",
       "      <td>21741.0</td>\n",
       "      <td>13933.0</td>\n",
       "      <td>1.0</td>\n",
       "      <td>90.0</td>\n",
       "      <td>2.0</td>\n",
       "      <td>574.0</td>\n",
       "      <td>558.0</td>\n",
       "    </tr>\n",
       "    <tr>\n",
       "      <th>3</th>\n",
       "      <td>0</td>\n",
       "      <td>64900000.0</td>\n",
       "      <td>159.00</td>\n",
       "      <td>2015-07-24T00:00:00</td>\n",
       "      <td>3</td>\n",
       "      <td>NaN</td>\n",
       "      <td>14.0</td>\n",
       "      <td>NaN</td>\n",
       "      <td>9</td>\n",
       "      <td>NaN</td>\n",
       "      <td>False</td>\n",
       "      <td>False</td>\n",
       "      <td>NaN</td>\n",
       "      <td>0.0</td>\n",
       "      <td>Санкт-Петербург</td>\n",
       "      <td>28098.0</td>\n",
       "      <td>6800.0</td>\n",
       "      <td>2.0</td>\n",
       "      <td>84.0</td>\n",
       "      <td>3.0</td>\n",
       "      <td>234.0</td>\n",
       "      <td>424.0</td>\n",
       "    </tr>\n",
       "    <tr>\n",
       "      <th>4</th>\n",
       "      <td>2</td>\n",
       "      <td>10000000.0</td>\n",
       "      <td>100.00</td>\n",
       "      <td>2018-06-19T00:00:00</td>\n",
       "      <td>2</td>\n",
       "      <td>3.03</td>\n",
       "      <td>14.0</td>\n",
       "      <td>32.00</td>\n",
       "      <td>13</td>\n",
       "      <td>NaN</td>\n",
       "      <td>False</td>\n",
       "      <td>False</td>\n",
       "      <td>41.00</td>\n",
       "      <td>NaN</td>\n",
       "      <td>Санкт-Петербург</td>\n",
       "      <td>31856.0</td>\n",
       "      <td>8098.0</td>\n",
       "      <td>2.0</td>\n",
       "      <td>112.0</td>\n",
       "      <td>1.0</td>\n",
       "      <td>48.0</td>\n",
       "      <td>121.0</td>\n",
       "    </tr>\n",
       "    <tr>\n",
       "      <th>5</th>\n",
       "      <td>10</td>\n",
       "      <td>2890000.0</td>\n",
       "      <td>30.40</td>\n",
       "      <td>2018-09-10T00:00:00</td>\n",
       "      <td>1</td>\n",
       "      <td>NaN</td>\n",
       "      <td>12.0</td>\n",
       "      <td>14.40</td>\n",
       "      <td>5</td>\n",
       "      <td>NaN</td>\n",
       "      <td>False</td>\n",
       "      <td>False</td>\n",
       "      <td>9.10</td>\n",
       "      <td>NaN</td>\n",
       "      <td>городской посёлок Янино-1</td>\n",
       "      <td>NaN</td>\n",
       "      <td>NaN</td>\n",
       "      <td>NaN</td>\n",
       "      <td>NaN</td>\n",
       "      <td>NaN</td>\n",
       "      <td>NaN</td>\n",
       "      <td>55.0</td>\n",
       "    </tr>\n",
       "    <tr>\n",
       "      <th>6</th>\n",
       "      <td>6</td>\n",
       "      <td>3700000.0</td>\n",
       "      <td>37.30</td>\n",
       "      <td>2017-11-02T00:00:00</td>\n",
       "      <td>1</td>\n",
       "      <td>NaN</td>\n",
       "      <td>26.0</td>\n",
       "      <td>10.60</td>\n",
       "      <td>6</td>\n",
       "      <td>NaN</td>\n",
       "      <td>False</td>\n",
       "      <td>False</td>\n",
       "      <td>14.40</td>\n",
       "      <td>1.0</td>\n",
       "      <td>посёлок Парголово</td>\n",
       "      <td>52996.0</td>\n",
       "      <td>19143.0</td>\n",
       "      <td>0.0</td>\n",
       "      <td>NaN</td>\n",
       "      <td>0.0</td>\n",
       "      <td>NaN</td>\n",
       "      <td>155.0</td>\n",
       "    </tr>\n",
       "    <tr>\n",
       "      <th>7</th>\n",
       "      <td>5</td>\n",
       "      <td>7915000.0</td>\n",
       "      <td>71.60</td>\n",
       "      <td>2019-04-18T00:00:00</td>\n",
       "      <td>2</td>\n",
       "      <td>NaN</td>\n",
       "      <td>24.0</td>\n",
       "      <td>NaN</td>\n",
       "      <td>22</td>\n",
       "      <td>NaN</td>\n",
       "      <td>False</td>\n",
       "      <td>False</td>\n",
       "      <td>18.90</td>\n",
       "      <td>2.0</td>\n",
       "      <td>Санкт-Петербург</td>\n",
       "      <td>23982.0</td>\n",
       "      <td>11634.0</td>\n",
       "      <td>0.0</td>\n",
       "      <td>NaN</td>\n",
       "      <td>0.0</td>\n",
       "      <td>NaN</td>\n",
       "      <td>NaN</td>\n",
       "    </tr>\n",
       "    <tr>\n",
       "      <th>8</th>\n",
       "      <td>20</td>\n",
       "      <td>2900000.0</td>\n",
       "      <td>33.16</td>\n",
       "      <td>2018-05-23T00:00:00</td>\n",
       "      <td>1</td>\n",
       "      <td>NaN</td>\n",
       "      <td>27.0</td>\n",
       "      <td>15.43</td>\n",
       "      <td>26</td>\n",
       "      <td>NaN</td>\n",
       "      <td>False</td>\n",
       "      <td>False</td>\n",
       "      <td>8.81</td>\n",
       "      <td>NaN</td>\n",
       "      <td>посёлок Мурино</td>\n",
       "      <td>NaN</td>\n",
       "      <td>NaN</td>\n",
       "      <td>NaN</td>\n",
       "      <td>NaN</td>\n",
       "      <td>NaN</td>\n",
       "      <td>NaN</td>\n",
       "      <td>189.0</td>\n",
       "    </tr>\n",
       "    <tr>\n",
       "      <th>9</th>\n",
       "      <td>18</td>\n",
       "      <td>5400000.0</td>\n",
       "      <td>61.00</td>\n",
       "      <td>2017-02-26T00:00:00</td>\n",
       "      <td>3</td>\n",
       "      <td>2.50</td>\n",
       "      <td>9.0</td>\n",
       "      <td>43.60</td>\n",
       "      <td>7</td>\n",
       "      <td>NaN</td>\n",
       "      <td>False</td>\n",
       "      <td>False</td>\n",
       "      <td>6.50</td>\n",
       "      <td>2.0</td>\n",
       "      <td>Санкт-Петербург</td>\n",
       "      <td>50898.0</td>\n",
       "      <td>15008.0</td>\n",
       "      <td>0.0</td>\n",
       "      <td>NaN</td>\n",
       "      <td>0.0</td>\n",
       "      <td>NaN</td>\n",
       "      <td>289.0</td>\n",
       "    </tr>\n",
       "  </tbody>\n",
       "</table>\n",
       "</div>"
      ],
      "text/plain": [
       "   total_images  last_price  total_area first_day_exposition  rooms  \\\n",
       "0            20  13000000.0      108.00  2019-03-07T00:00:00      3   \n",
       "1             7   3350000.0       40.40  2018-12-04T00:00:00      1   \n",
       "2            10   5196000.0       56.00  2015-08-20T00:00:00      2   \n",
       "3             0  64900000.0      159.00  2015-07-24T00:00:00      3   \n",
       "4             2  10000000.0      100.00  2018-06-19T00:00:00      2   \n",
       "5            10   2890000.0       30.40  2018-09-10T00:00:00      1   \n",
       "6             6   3700000.0       37.30  2017-11-02T00:00:00      1   \n",
       "7             5   7915000.0       71.60  2019-04-18T00:00:00      2   \n",
       "8            20   2900000.0       33.16  2018-05-23T00:00:00      1   \n",
       "9            18   5400000.0       61.00  2017-02-26T00:00:00      3   \n",
       "\n",
       "   ceiling_height  floors_total  living_area  floor is_apartment  studio  \\\n",
       "0            2.70          16.0        51.00      8          NaN   False   \n",
       "1             NaN          11.0        18.60      1          NaN   False   \n",
       "2             NaN           5.0        34.30      4          NaN   False   \n",
       "3             NaN          14.0          NaN      9          NaN   False   \n",
       "4            3.03          14.0        32.00     13          NaN   False   \n",
       "5             NaN          12.0        14.40      5          NaN   False   \n",
       "6             NaN          26.0        10.60      6          NaN   False   \n",
       "7             NaN          24.0          NaN     22          NaN   False   \n",
       "8             NaN          27.0        15.43     26          NaN   False   \n",
       "9            2.50           9.0        43.60      7          NaN   False   \n",
       "\n",
       "   open_plan  kitchen_area  balcony              locality_name  \\\n",
       "0      False         25.00      NaN            Санкт-Петербург   \n",
       "1      False         11.00      2.0             посёлок Шушары   \n",
       "2      False          8.30      0.0            Санкт-Петербург   \n",
       "3      False           NaN      0.0            Санкт-Петербург   \n",
       "4      False         41.00      NaN            Санкт-Петербург   \n",
       "5      False          9.10      NaN  городской посёлок Янино-1   \n",
       "6      False         14.40      1.0          посёлок Парголово   \n",
       "7      False         18.90      2.0            Санкт-Петербург   \n",
       "8      False          8.81      NaN             посёлок Мурино   \n",
       "9      False          6.50      2.0            Санкт-Петербург   \n",
       "\n",
       "   airports_nearest  cityCenters_nearest  parks_around3000  parks_nearest  \\\n",
       "0           18863.0              16028.0               1.0          482.0   \n",
       "1           12817.0              18603.0               0.0            NaN   \n",
       "2           21741.0              13933.0               1.0           90.0   \n",
       "3           28098.0               6800.0               2.0           84.0   \n",
       "4           31856.0               8098.0               2.0          112.0   \n",
       "5               NaN                  NaN               NaN            NaN   \n",
       "6           52996.0              19143.0               0.0            NaN   \n",
       "7           23982.0              11634.0               0.0            NaN   \n",
       "8               NaN                  NaN               NaN            NaN   \n",
       "9           50898.0              15008.0               0.0            NaN   \n",
       "\n",
       "   ponds_around3000  ponds_nearest  days_exposition  \n",
       "0               2.0          755.0              NaN  \n",
       "1               0.0            NaN             81.0  \n",
       "2               2.0          574.0            558.0  \n",
       "3               3.0          234.0            424.0  \n",
       "4               1.0           48.0            121.0  \n",
       "5               NaN            NaN             55.0  \n",
       "6               0.0            NaN            155.0  \n",
       "7               0.0            NaN              NaN  \n",
       "8               NaN            NaN            189.0  \n",
       "9               0.0            NaN            289.0  "
      ]
     },
     "metadata": {},
     "output_type": "display_data"
    },
    {
     "data": {
      "image/png": "[encoded data removed]",
      "text/plain": [
       "<Figure size 1080x1440 with 20 Axes>"
      ]
     },
     "metadata": {
      "needs_background": "light"
     },
     "output_type": "display_data"
    }
   ],
   "source": [
    "data = pd.read_csv('/datasets/real_estate_data.csv', sep='\\t')\n",
    "pd.options.display.max_columns=100\n",
    "data.info()\n",
    "display(data.head(10))\n",
    "data.hist(figsize=(15, 20))\n",
    "plt.show()\n"
   ]
  },
  {
   "cell_type": "markdown",
   "metadata": {},
   "source": [
    "### Предобработка данных"
   ]
  },
  {
   "cell_type": "markdown",
   "metadata": {},
   "source": [
    "Сначала посмотрим, сколько пропусков имеется в каждом столбце таблицы"
   ]
  },
  {
   "cell_type": "code",
   "execution_count": 3,
   "metadata": {},
   "outputs": [
    {
     "name": "stdout",
     "output_type": "stream",
     "text": [
      "total_images                0\n",
      "last_price                  0\n",
      "total_area                  0\n",
      "first_day_exposition        0\n",
      "rooms                       0\n",
      "ceiling_height           9195\n",
      "floors_total               86\n",
      "living_area              1903\n",
      "floor                       0\n",
      "is_apartment            20924\n",
      "studio                      0\n",
      "open_plan                   0\n",
      "kitchen_area             2278\n",
      "balcony                 11519\n",
      "locality_name              49\n",
      "airports_nearest         5542\n",
      "cityCenters_nearest      5519\n",
      "parks_around3000         5518\n",
      "parks_nearest           15620\n",
      "ponds_around3000         5518\n",
      "ponds_nearest           14589\n",
      "days_exposition          3181\n",
      "dtype: int64\n"
     ]
    }
   ],
   "source": [
    "data.isna().sum()"
   ]
  },
  {
   "cell_type": "code",
   "execution_count": 4,
   "metadata": {},
   "outputs": [
    {
     "data": {
      "text/html": [
       "<style  type=\"text/css\" >\n",
       "#T_7bbae_row0_col0,#T_7bbae_row1_col0,#T_7bbae_row2_col0,#T_7bbae_row3_col0,#T_7bbae_row4_col0,#T_7bbae_row6_col0,#T_7bbae_row8_col0,#T_7bbae_row10_col0,#T_7bbae_row11_col0,#T_7bbae_row14_col0{\n",
       "            background-color:  #3b4cc0;\n",
       "            color:  #f1f1f1;\n",
       "        }#T_7bbae_row5_col0{\n",
       "            background-color:  #cdd9ec;\n",
       "            color:  #000000;\n",
       "        }#T_7bbae_row7_col0{\n",
       "            background-color:  #5673e0;\n",
       "            color:  #000000;\n",
       "        }#T_7bbae_row9_col0{\n",
       "            background-color:  #b40426;\n",
       "            color:  #f1f1f1;\n",
       "        }#T_7bbae_row12_col0{\n",
       "            background-color:  #5e7de7;\n",
       "            color:  #000000;\n",
       "        }#T_7bbae_row13_col0{\n",
       "            background-color:  #ead4c8;\n",
       "            color:  #000000;\n",
       "        }#T_7bbae_row15_col0,#T_7bbae_row16_col0,#T_7bbae_row17_col0,#T_7bbae_row19_col0{\n",
       "            background-color:  #90b2fe;\n",
       "            color:  #000000;\n",
       "        }#T_7bbae_row18_col0{\n",
       "            background-color:  #f4987a;\n",
       "            color:  #000000;\n",
       "        }#T_7bbae_row20_col0{\n",
       "            background-color:  #f7aa8c;\n",
       "            color:  #000000;\n",
       "        }#T_7bbae_row21_col0{\n",
       "            background-color:  #688aef;\n",
       "            color:  #000000;\n",
       "        }</style><table id=\"T_7bbae_\" ><thead>    <tr>        <th class=\"blank level0\" ></th>        <th class=\"col_heading level0 col0\" >0</th>    </tr></thead><tbody>\n",
       "                <tr>\n",
       "                        <th id=\"T_7bbae_level0_row0\" class=\"row_heading level0 row0\" >total_images</th>\n",
       "                        <td id=\"T_7bbae_row0_col0\" class=\"data row0 col0\" >0.000000</td>\n",
       "            </tr>\n",
       "            <tr>\n",
       "                        <th id=\"T_7bbae_level0_row1\" class=\"row_heading level0 row1\" >last_price</th>\n",
       "                        <td id=\"T_7bbae_row1_col0\" class=\"data row1 col0\" >0.000000</td>\n",
       "            </tr>\n",
       "            <tr>\n",
       "                        <th id=\"T_7bbae_level0_row2\" class=\"row_heading level0 row2\" >total_area</th>\n",
       "                        <td id=\"T_7bbae_row2_col0\" class=\"data row2 col0\" >0.000000</td>\n",
       "            </tr>\n",
       "            <tr>\n",
       "                        <th id=\"T_7bbae_level0_row3\" class=\"row_heading level0 row3\" >first_day_exposition</th>\n",
       "                        <td id=\"T_7bbae_row3_col0\" class=\"data row3 col0\" >0.000000</td>\n",
       "            </tr>\n",
       "            <tr>\n",
       "                        <th id=\"T_7bbae_level0_row4\" class=\"row_heading level0 row4\" >rooms</th>\n",
       "                        <td id=\"T_7bbae_row4_col0\" class=\"data row4 col0\" >0.000000</td>\n",
       "            </tr>\n",
       "            <tr>\n",
       "                        <th id=\"T_7bbae_level0_row5\" class=\"row_heading level0 row5\" >ceiling_height</th>\n",
       "                        <td id=\"T_7bbae_row5_col0\" class=\"data row5 col0\" >39.000000</td>\n",
       "            </tr>\n",
       "            <tr>\n",
       "                        <th id=\"T_7bbae_level0_row6\" class=\"row_heading level0 row6\" >floors_total</th>\n",
       "                        <td id=\"T_7bbae_row6_col0\" class=\"data row6 col0\" >0.000000</td>\n",
       "            </tr>\n",
       "            <tr>\n",
       "                        <th id=\"T_7bbae_level0_row7\" class=\"row_heading level0 row7\" >living_area</th>\n",
       "                        <td id=\"T_7bbae_row7_col0\" class=\"data row7 col0\" >8.000000</td>\n",
       "            </tr>\n",
       "            <tr>\n",
       "                        <th id=\"T_7bbae_level0_row8\" class=\"row_heading level0 row8\" >floor</th>\n",
       "                        <td id=\"T_7bbae_row8_col0\" class=\"data row8 col0\" >0.000000</td>\n",
       "            </tr>\n",
       "            <tr>\n",
       "                        <th id=\"T_7bbae_level0_row9\" class=\"row_heading level0 row9\" >is_apartment</th>\n",
       "                        <td id=\"T_7bbae_row9_col0\" class=\"data row9 col0\" >88.000000</td>\n",
       "            </tr>\n",
       "            <tr>\n",
       "                        <th id=\"T_7bbae_level0_row10\" class=\"row_heading level0 row10\" >studio</th>\n",
       "                        <td id=\"T_7bbae_row10_col0\" class=\"data row10 col0\" >0.000000</td>\n",
       "            </tr>\n",
       "            <tr>\n",
       "                        <th id=\"T_7bbae_level0_row11\" class=\"row_heading level0 row11\" >open_plan</th>\n",
       "                        <td id=\"T_7bbae_row11_col0\" class=\"data row11 col0\" >0.000000</td>\n",
       "            </tr>\n",
       "            <tr>\n",
       "                        <th id=\"T_7bbae_level0_row12\" class=\"row_heading level0 row12\" >kitchen_area</th>\n",
       "                        <td id=\"T_7bbae_row12_col0\" class=\"data row12 col0\" >10.000000</td>\n",
       "            </tr>\n",
       "            <tr>\n",
       "                        <th id=\"T_7bbae_level0_row13\" class=\"row_heading level0 row13\" >balcony</th>\n",
       "                        <td id=\"T_7bbae_row13_col0\" class=\"data row13 col0\" >49.000000</td>\n",
       "            </tr>\n",
       "            <tr>\n",
       "                        <th id=\"T_7bbae_level0_row14\" class=\"row_heading level0 row14\" >locality_name</th>\n",
       "                        <td id=\"T_7bbae_row14_col0\" class=\"data row14 col0\" >0.000000</td>\n",
       "            </tr>\n",
       "            <tr>\n",
       "                        <th id=\"T_7bbae_level0_row15\" class=\"row_heading level0 row15\" >airports_nearest</th>\n",
       "                        <td id=\"T_7bbae_row15_col0\" class=\"data row15 col0\" >23.000000</td>\n",
       "            </tr>\n",
       "            <tr>\n",
       "                        <th id=\"T_7bbae_level0_row16\" class=\"row_heading level0 row16\" >cityCenters_nearest</th>\n",
       "                        <td id=\"T_7bbae_row16_col0\" class=\"data row16 col0\" >23.000000</td>\n",
       "            </tr>\n",
       "            <tr>\n",
       "                        <th id=\"T_7bbae_level0_row17\" class=\"row_heading level0 row17\" >parks_around3000</th>\n",
       "                        <td id=\"T_7bbae_row17_col0\" class=\"data row17 col0\" >23.000000</td>\n",
       "            </tr>\n",
       "            <tr>\n",
       "                        <th id=\"T_7bbae_level0_row18\" class=\"row_heading level0 row18\" >parks_nearest</th>\n",
       "                        <td id=\"T_7bbae_row18_col0\" class=\"data row18 col0\" >66.000000</td>\n",
       "            </tr>\n",
       "            <tr>\n",
       "                        <th id=\"T_7bbae_level0_row19\" class=\"row_heading level0 row19\" >ponds_around3000</th>\n",
       "                        <td id=\"T_7bbae_row19_col0\" class=\"data row19 col0\" >23.000000</td>\n",
       "            </tr>\n",
       "            <tr>\n",
       "                        <th id=\"T_7bbae_level0_row20\" class=\"row_heading level0 row20\" >ponds_nearest</th>\n",
       "                        <td id=\"T_7bbae_row20_col0\" class=\"data row20 col0\" >62.000000</td>\n",
       "            </tr>\n",
       "            <tr>\n",
       "                        <th id=\"T_7bbae_level0_row21\" class=\"row_heading level0 row21\" >days_exposition</th>\n",
       "                        <td id=\"T_7bbae_row21_col0\" class=\"data row21 col0\" >13.000000</td>\n",
       "            </tr>\n",
       "    </tbody></table>"
      ],
      "text/plain": [
       "<pandas.io.formats.style.Styler at 0x7f8cb410c7f0>"
      ]
     },
     "execution_count": 4,
     "metadata": {},
     "output_type": "execute_result"
    }
   ],
   "source": [
    "pd.DataFrame(round(data.isna().mean()*100,)).style.background_gradient('coolwarm')"
   ]
  },
  {
   "cell_type": "markdown",
   "metadata": {},
   "source": [
    "Обработаем столбец first_day_exposition, переведем его содержимое из строк в даты. Это пригодится, чтобы вытащить из этого столба любую нужную информацию о времени. "
   ]
  },
  {
   "cell_type": "code",
   "execution_count": 5,
   "metadata": {
    "scrolled": false
   },
   "outputs": [
    {
     "name": "stdout",
     "output_type": "stream",
     "text": [
      "0   2019-03-07\n",
      "1   2018-12-04\n",
      "2   2015-08-20\n",
      "3   2015-07-24\n",
      "4   2018-06-19\n",
      "Name: first_day_exposition, dtype: datetime64[ns]\n"
     ]
    }
   ],
   "source": [
    "data['first_day_exposition'] = pd.to_datetime(data['first_day_exposition'], format='%Y-%m-%dT%H:%M:%S')\n",
    "print(data['first_day_exposition'].head())"
   ]
  },
  {
   "cell_type": "markdown",
   "metadata": {},
   "source": [
    "Ознакомимся с остальными данными ближе. В различных столбцах различное количество пропущенных значений. Так, например, \n",
    "в столбце ceiling_height пропущено очень много значений - 9195 из 23699, что составляет почти треть от всех данных. Но значения столбца ceiling_height не являются критически важными для оценки стоимость квартир. Поэтому такие пропуски достаточно заполнить медианным значением по этому столбцу. "
   ]
  },
  {
   "cell_type": "code",
   "execution_count": 6,
   "metadata": {
    "scrolled": true
   },
   "outputs": [],
   "source": [
    "data['ceiling_height'] = data['ceiling_height'].fillna(data['ceiling_height'].median())"
   ]
  },
  {
   "cell_type": "markdown",
   "metadata": {},
   "source": [
    "Обратимся к столбцам living_area и kitchen_area. Здесь пропуски в данных являются критичными, так как значения из этих столбцов напрямую влияют на стоимость квартиры. Понять приблизительную жилую площадь и площадь кухни можно, обратившись к столбцу total_area и посчитав медианные значения через соотношение значений для living_area к total_area и kitchen_area к total_area."
   ]
  },
  {
   "cell_type": "code",
   "execution_count": 7,
   "metadata": {},
   "outputs": [],
   "source": [
    "for area in ['living_area', 'kitchen_area']:\n",
    "    data[area] = data[area].fillna((data[area].median() / data['total_area'].median()) * data['total_area'])"
   ]
  },
  {
   "cell_type": "markdown",
   "metadata": {},
   "source": [
    "В столбце balcony также встречаются пропущенные значения, котороые говорят скорее всего о том, что балкона в кавартире нет. Здесь мы можем вместо пропущенных значений проставить 0."
   ]
  },
  {
   "cell_type": "code",
   "execution_count": 8,
   "metadata": {},
   "outputs": [],
   "source": [
    "data['balcony'] = data['balcony'].fillna(0)"
   ]
  },
  {
   "cell_type": "markdown",
   "metadata": {},
   "source": [
    "В столбцах со значениями, пропущенными на основе картографических данных, также есть пропуски. Судя по тому, что пропусков больше всего для тех квартир, которые находятся за чертой города, можно сделать вывод, что объекты, для которых пропущены значения, находятся слишком далеко от квартиры. Оставим такие пропуски без изменений. "
   ]
  },
  {
   "cell_type": "code",
   "execution_count": 9,
   "metadata": {},
   "outputs": [
    {
     "name": "stdout",
     "output_type": "stream",
     "text": [
      "<class 'pandas.core.frame.DataFrame'>\n",
      "RangeIndex: 23699 entries, 0 to 23698\n",
      "Data columns (total 22 columns):\n",
      " #   Column                Non-Null Count  Dtype         \n",
      "---  ------                --------------  -----         \n",
      " 0   total_images          23699 non-null  int64         \n",
      " 1   last_price            23699 non-null  float64       \n",
      " 2   total_area            23699 non-null  float64       \n",
      " 3   first_day_exposition  23699 non-null  datetime64[ns]\n",
      " 4   rooms                 23699 non-null  int64         \n",
      " 5   ceiling_height        23699 non-null  float64       \n",
      " 6   floors_total          23613 non-null  float64       \n",
      " 7   living_area           23699 non-null  float64       \n",
      " 8   floor                 23699 non-null  int64         \n",
      " 9   is_apartment          2775 non-null   object        \n",
      " 10  studio                23699 non-null  bool          \n",
      " 11  open_plan             23699 non-null  bool          \n",
      " 12  kitchen_area          23699 non-null  float64       \n",
      " 13  balcony               23699 non-null  float64       \n",
      " 14  locality_name         23650 non-null  object        \n",
      " 15  airports_nearest      18157 non-null  float64       \n",
      " 16  cityCenters_nearest   18180 non-null  float64       \n",
      " 17  parks_around3000      18181 non-null  float64       \n",
      " 18  parks_nearest         8079 non-null   float64       \n",
      " 19  ponds_around3000      18181 non-null  float64       \n",
      " 20  ponds_nearest         9110 non-null   float64       \n",
      " 21  days_exposition       20518 non-null  float64       \n",
      "dtypes: bool(2), datetime64[ns](1), float64(14), int64(3), object(2)\n",
      "memory usage: 3.7+ MB\n"
     ]
    }
   ],
   "source": [
    "data.info()"
   ]
  },
  {
   "cell_type": "markdown",
   "metadata": {},
   "source": [
    "В столбцах rooms, floor, floors_total, days_exposition пропущенные данные можно заменить медианным значением. "
   ]
  },
  {
   "cell_type": "code",
   "execution_count": 10,
   "metadata": {},
   "outputs": [],
   "source": [
    "for value in ['rooms', 'floor', 'floors_total', 'days_exposition']:\n",
    "    data[value] = data[value].fillna(data[value].median())"
   ]
  },
  {
   "cell_type": "markdown",
   "metadata": {},
   "source": [
    "Заменим тип данных float на int в тех столбцах, в которых это возможно"
   ]
  },
  {
   "cell_type": "code",
   "execution_count": 11,
   "metadata": {
    "scrolled": true
   },
   "outputs": [],
   "source": [
    "for value in ['last_price', 'floors_total', 'airports_nearest', 'airports_nearest', 'cityCenters_nearest',\n",
    "             'parks_around3000', 'parks_nearest', 'ponds_around3000', 'ponds_nearest']:\n",
    "    data[value] = data[value].astype('int', errors=\"ignore\")"
   ]
  },
  {
   "cell_type": "markdown",
   "metadata": {},
   "source": [
    "Проверим теперь данные на предмет явных дубликатов"
   ]
  },
  {
   "cell_type": "code",
   "execution_count": 12,
   "metadata": {},
   "outputs": [
    {
     "name": "stdout",
     "output_type": "stream",
     "text": [
      "Количество одинаковых объявлений: 0\n"
     ]
    }
   ],
   "source": [
    "print('Количество одинаковых объявлений:', data.duplicated().sum())"
   ]
  },
  {
   "cell_type": "markdown",
   "metadata": {},
   "source": [
    "Проверим, есть ли неявные дубликаты в названии населенных пунктов"
   ]
  },
  {
   "cell_type": "code",
   "execution_count": 13,
   "metadata": {},
   "outputs": [
    {
     "data": {
      "text/plain": [
       "array(['Бокситогорск', 'Волосово', 'Волхов', 'Всеволожск', 'Выборг',\n",
       "       'Высоцк', 'Гатчина', 'Зеленогорск', 'Ивангород', 'Каменногорск',\n",
       "       'Кингисепп', 'Кириши', 'Кировск', 'Колпино', 'Коммунар',\n",
       "       'Красное Село', 'Кронштадт', 'Кудрово', 'Лодейное Поле',\n",
       "       'Ломоносов', 'Луга', 'Любань', 'Мурино', 'Никольское',\n",
       "       'Новая Ладога', 'Отрадное', 'Павловск', 'Петергоф', 'Пикалёво',\n",
       "       'Подпорожье', 'Приморск', 'Приозерск', 'Пушкин', 'Санкт-Петербург',\n",
       "       'Светогорск', 'Сертолово', 'Сестрорецк', 'Сланцы', 'Сосновый Бор',\n",
       "       'Сясьстрой', 'Тихвин', 'Тосно', 'Шлиссельбург',\n",
       "       'городской поселок Большая Ижора', 'городской поселок Янино-1',\n",
       "       'городской посёлок Будогощь', 'городской посёлок Виллози',\n",
       "       'городской посёлок Лесогорский', 'городской посёлок Мга',\n",
       "       'городской посёлок Назия', 'городской посёлок Новоселье',\n",
       "       'городской посёлок Павлово', 'городской посёлок Рощино',\n",
       "       'городской посёлок Свирьстрой', 'городской посёлок Советский',\n",
       "       'городской посёлок Фёдоровское', 'городской посёлок Янино-1',\n",
       "       'деревня Агалатово', 'деревня Аро', 'деревня Батово',\n",
       "       'деревня Бегуницы', 'деревня Белогорка', 'деревня Большая Вруда',\n",
       "       'деревня Большая Пустомержа', 'деревня Большие Колпаны',\n",
       "       'деревня Большое Рейзино', 'деревня Большой Сабск', 'деревня Бор',\n",
       "       'деревня Борисова Грива', 'деревня Ваганово', 'деревня Вартемяги',\n",
       "       'деревня Вахнова Кара', 'деревня Выскатка', 'деревня Гарболово',\n",
       "       'деревня Глинка', 'деревня Горбунки', 'деревня Гостилицы',\n",
       "       'деревня Заклинье', 'деревня Заневка', 'деревня Зимитицы',\n",
       "       'деревня Извара', 'деревня Иссад', 'деревня Калитино',\n",
       "       'деревня Кальтино', 'деревня Камышовка', 'деревня Каськово',\n",
       "       'деревня Келози', 'деревня Кипень', 'деревня Кисельня',\n",
       "       'деревня Колтуши', 'деревня Коркино', 'деревня Котлы',\n",
       "       'деревня Кривко', 'деревня Кудрово', 'деревня Кузьмолово',\n",
       "       'деревня Курковицы', 'деревня Куровицы', 'деревня Куттузи',\n",
       "       'деревня Лаврики', 'деревня Лаголово', 'деревня Лампово',\n",
       "       'деревня Лесколово', 'деревня Лопухинка', 'деревня Лупполово',\n",
       "       'деревня Малая Романовка', 'деревня Малое Верево',\n",
       "       'деревня Малое Карлино', 'деревня Малые Колпаны',\n",
       "       'деревня Мануйлово', 'деревня Меньково', 'деревня Мины',\n",
       "       'деревня Мистолово', 'деревня Ненимяки', 'деревня Нижние Осельки',\n",
       "       'деревня Нижняя', 'деревня Низино', 'деревня Новое Девяткино',\n",
       "       'деревня Новолисино', 'деревня Нурма', 'деревня Оржицы',\n",
       "       'деревня Парицы', 'деревня Пельгора', 'деревня Пеники',\n",
       "       'деревня Пижма', 'деревня Пикколово', 'деревня Пудомяги',\n",
       "       'деревня Пустынка', 'деревня Пчева', 'деревня Рабитицы',\n",
       "       'деревня Разбегаево', 'деревня Раздолье', 'деревня Разметелево',\n",
       "       'деревня Рапполово', 'деревня Реброво', 'деревня Русско',\n",
       "       'деревня Сижно', 'деревня Снегирёвка', 'деревня Старая',\n",
       "       'деревня Старая Пустошь', 'деревня Старое Хинколово',\n",
       "       'деревня Старополье', 'деревня Старосиверская',\n",
       "       'деревня Старые Бегуницы', 'деревня Суоранда',\n",
       "       'деревня Сяськелево', 'деревня Тарасово', 'деревня Терпилицы',\n",
       "       'деревня Тихковицы', 'деревня Тойворово', 'деревня Торосово',\n",
       "       'деревня Торошковичи', 'деревня Трубников Бор',\n",
       "       'деревня Фалилеево', 'деревня Фёдоровское', 'деревня Хапо-Ое',\n",
       "       'деревня Хязельки', 'деревня Чудской Бор', 'деревня Шпаньково',\n",
       "       'деревня Щеглово', 'деревня Юкки', 'деревня Ялгино',\n",
       "       'деревня Яльгелево', 'деревня Ям-Тесово',\n",
       "       'коттеджный поселок Кивеннапа Север', 'коттеджный поселок Счастье',\n",
       "       'коттеджный посёлок Лесное', 'поселок Аннино', 'поселок Барышево',\n",
       "       'поселок Бугры', 'поселок Возрождение', 'поселок Войсковицы',\n",
       "       'поселок Володарское', 'поселок Гаврилово', 'поселок Гарболово',\n",
       "       'поселок Гладкое', 'поселок Глажево', 'поселок Глебычево',\n",
       "       'поселок Гончарово', 'поселок Громово', 'поселок Дружноселье',\n",
       "       'поселок Елизаветино', 'поселок Жилгородок', 'поселок Жилпосёлок',\n",
       "       'поселок Житково', 'поселок Заводской', 'поселок Запорожское',\n",
       "       'поселок Зимитицы', 'поселок Ильичёво', 'поселок Калитино',\n",
       "       'поселок Каложицы', 'поселок Кингисеппский', 'поселок Кирпичное',\n",
       "       'поселок Кобралово', 'поселок Кобринское', 'поселок Коммунары',\n",
       "       'поселок Коробицыно', 'поселок Котельский',\n",
       "       'поселок Красная Долина', 'поселок Красносельское',\n",
       "       'поселок Лесное', 'поселок Лисий Нос', 'поселок Лукаши',\n",
       "       'поселок Любань', 'поселок Мельниково', 'поселок Мичуринское',\n",
       "       'поселок Молодцово', 'поселок Мурино', 'поселок Новый Свет',\n",
       "       'поселок Новый Учхоз', 'поселок Оредеж',\n",
       "       'поселок Пансионат Зелёный Бор', 'поселок Первомайское',\n",
       "       'поселок Перово', 'поселок Петровское', 'поселок Победа',\n",
       "       'поселок Поляны', 'поселок Почап', 'поселок Починок',\n",
       "       'поселок Пушное', 'поселок Пчевжа', 'поселок Рабитицы',\n",
       "       'поселок Романовка', 'поселок Ромашки', 'поселок Рябово',\n",
       "       'поселок Севастьяново', 'поселок Селезнёво', 'поселок Сельцо',\n",
       "       'поселок Семиозерье', 'поселок Семрино', 'поселок Серебрянский',\n",
       "       'поселок Совхозный', 'поселок Старая Малукса',\n",
       "       'поселок Стеклянный', 'поселок Сумино', 'поселок Суходолье',\n",
       "       'поселок Тельмана', 'поселок Терволово', 'поселок Торковичи',\n",
       "       'поселок Тёсово-4', 'поселок Углово', 'поселок Усть-Луга',\n",
       "       'поселок Ушаки', 'поселок Цвелодубово', 'поселок Цвылёво',\n",
       "       'поселок городского типа Большая Ижора',\n",
       "       'поселок городского типа Вырица',\n",
       "       'поселок городского типа Дружная Горка',\n",
       "       'поселок городского типа Дубровка',\n",
       "       'поселок городского типа Ефимовский',\n",
       "       'поселок городского типа Кондратьево',\n",
       "       'поселок городского типа Красный Бор',\n",
       "       'поселок городского типа Кузьмоловский',\n",
       "       'поселок городского типа Лебяжье',\n",
       "       'поселок городского типа Лесогорский',\n",
       "       'поселок городского типа Назия',\n",
       "       'поселок городского типа Никольский',\n",
       "       'поселок городского типа Приладожский',\n",
       "       'поселок городского типа Рахья', 'поселок городского типа Рощино',\n",
       "       'поселок городского типа Рябово',\n",
       "       'поселок городского типа Синявино',\n",
       "       'поселок городского типа Советский',\n",
       "       'поселок городского типа Токсово',\n",
       "       'поселок городского типа Форносово',\n",
       "       'поселок городского типа имени Свердлова',\n",
       "       'поселок станции Вещево', 'поселок станции Корнево',\n",
       "       'поселок станции Лужайка', 'поселок станции Приветнинское',\n",
       "       'посёлок Александровская', 'посёлок Алексеевка', 'посёлок Аннино',\n",
       "       'посёлок Белоостров', 'посёлок Бугры', 'посёлок Возрождение',\n",
       "       'посёлок Войскорово', 'посёлок Высокоключевой',\n",
       "       'посёлок Гаврилово', 'посёлок Дзержинского', 'посёлок Жилгородок',\n",
       "       'посёлок Ильичёво', 'посёлок Кикерино', 'посёлок Кобралово',\n",
       "       'посёлок Коробицыно', 'посёлок Левашово', 'посёлок Ленинское',\n",
       "       'посёлок Лисий Нос', 'посёлок Мельниково', 'посёлок Металлострой',\n",
       "       'посёлок Мичуринское', 'посёлок Молодёжное', 'посёлок Мурино',\n",
       "       'посёлок Мыза-Ивановка', 'посёлок Новогорелово',\n",
       "       'посёлок Новый Свет', 'посёлок Пансионат Зелёный Бор',\n",
       "       'посёлок Парголово', 'посёлок Перово', 'посёлок Песочный',\n",
       "       'посёлок Петро-Славянка', 'посёлок Петровское',\n",
       "       'посёлок Платформа 69-й километр', 'посёлок Плодовое',\n",
       "       'посёлок Плоское', 'посёлок Победа', 'посёлок Поляны',\n",
       "       'посёлок Понтонный', 'посёлок Пригородный', 'посёлок Пудость',\n",
       "       'посёлок Репино', 'посёлок Ропша', 'посёлок Сапёрное',\n",
       "       'посёлок Сапёрный', 'посёлок Сосново', 'посёлок Старая Малукса',\n",
       "       'посёлок Стеклянный', 'посёлок Стрельна', 'посёлок Суйда',\n",
       "       'посёлок Сумино', 'посёлок Тельмана', 'посёлок Терволово',\n",
       "       'посёлок Торфяное', 'посёлок Усть-Ижора', 'посёлок Усть-Луга',\n",
       "       'посёлок Форт Красная Горка', 'посёлок Шугозеро', 'посёлок Шушары',\n",
       "       'посёлок Щеглово', 'посёлок городского типа Важины',\n",
       "       'посёлок городского типа Вознесенье',\n",
       "       'посёлок городского типа Вырица',\n",
       "       'посёлок городского типа Красный Бор',\n",
       "       'посёлок городского типа Кузнечное',\n",
       "       'посёлок городского типа Кузьмоловский',\n",
       "       'посёлок городского типа Лебяжье', 'посёлок городского типа Мга',\n",
       "       'посёлок городского типа Павлово',\n",
       "       'посёлок городского типа Рощино', 'посёлок городского типа Рябово',\n",
       "       'посёлок городского типа Сиверский',\n",
       "       'посёлок городского типа Тайцы', 'посёлок городского типа Токсово',\n",
       "       'посёлок городского типа Ульяновка',\n",
       "       'посёлок городского типа Форносово',\n",
       "       'посёлок городского типа имени Морозова',\n",
       "       'посёлок городского типа имени Свердлова',\n",
       "       'посёлок при железнодорожной станции Вещево',\n",
       "       'посёлок при железнодорожной станции Приветнинское',\n",
       "       'посёлок станции Громово', 'посёлок станции Свирь',\n",
       "       'садоводческое некоммерческое товарищество Лесная Поляна',\n",
       "       'садовое товарищество Новая Ропша',\n",
       "       'садовое товарищество Приладожский', 'садовое товарищество Рахья',\n",
       "       'садовое товарищество Садко', 'село Копорье', 'село Никольское',\n",
       "       'село Павлово', 'село Паша', 'село Путилово', 'село Рождествено',\n",
       "       'село Русско-Высоцкое', 'село Старая Ладога', 'село Шум', nan],\n",
       "      dtype=object)"
      ]
     },
     "execution_count": 13,
     "metadata": {},
     "output_type": "execute_result"
    }
   ],
   "source": [
    "data['locality_name'].sort_values().unique()"
   ]
  },
  {
   "cell_type": "code",
   "execution_count": 14,
   "metadata": {},
   "outputs": [],
   "source": [
    "#функция для переименования\n",
    "def replace_locality(from_loc, to_loc):\n",
    "    data['locality_name'] = data['locality_name'].replace(from_loc, to_loc, regex=True)\n",
    "for from_loc, to_loc in [\n",
    "    ('поселок', 'посёлок'),\n",
    "    ('коттеджный поселок', 'посёлок'),\n",
    "    ('коттеджный посёлок', 'посёлок'),\n",
    "    ('поселок городского типа', 'посёлок'),\n",
    "    ('поселок станции', 'посёлок'), \n",
    "    ('посёлок городского типа', 'посёлок'),\n",
    "    ('посёлок при железнодорожной станции', 'посёлок'),\n",
    "    ('посёлок станции', 'посёлок'),\n",
    "    ('городской поселок', 'посёлок'),\n",
    "    ('городской посёлок', 'посёлок'),\n",
    "    ('садоводческое некоммерческое товарищество', 'садовое товарищество')\n",
    "]:\n",
    "    replace_locality(from_loc, to_loc)\n",
    "    "
   ]
  },
  {
   "cell_type": "code",
   "execution_count": 15,
   "metadata": {},
   "outputs": [
    {
     "name": "stdout",
     "output_type": "stream",
     "text": [
      "<class 'pandas.core.frame.DataFrame'>\n",
      "RangeIndex: 23699 entries, 0 to 23698\n",
      "Data columns (total 22 columns):\n",
      " #   Column                Non-Null Count  Dtype         \n",
      "---  ------                --------------  -----         \n",
      " 0   total_images          23699 non-null  int64         \n",
      " 1   last_price            23699 non-null  int64         \n",
      " 2   total_area            23699 non-null  float64       \n",
      " 3   first_day_exposition  23699 non-null  datetime64[ns]\n",
      " 4   rooms                 23699 non-null  int64         \n",
      " 5   ceiling_height        23699 non-null  float64       \n",
      " 6   floors_total          23699 non-null  int64         \n",
      " 7   living_area           23699 non-null  float64       \n",
      " 8   floor                 23699 non-null  int64         \n",
      " 9   is_apartment          2775 non-null   object        \n",
      " 10  studio                23699 non-null  bool          \n",
      " 11  open_plan             23699 non-null  bool          \n",
      " 12  kitchen_area          23699 non-null  float64       \n",
      " 13  balcony               23699 non-null  float64       \n",
      " 14  locality_name         23650 non-null  object        \n",
      " 15  airports_nearest      18157 non-null  float64       \n",
      " 16  cityCenters_nearest   18180 non-null  float64       \n",
      " 17  parks_around3000      18181 non-null  float64       \n",
      " 18  parks_nearest         8079 non-null   float64       \n",
      " 19  ponds_around3000      18181 non-null  float64       \n",
      " 20  ponds_nearest         9110 non-null   float64       \n",
      " 21  days_exposition       23699 non-null  float64       \n",
      "dtypes: bool(2), datetime64[ns](1), float64(12), int64(5), object(2)\n",
      "memory usage: 3.7+ MB\n"
     ]
    }
   ],
   "source": [
    "data.info()"
   ]
  },
  {
   "cell_type": "markdown",
   "metadata": {},
   "source": [
    "Посмотрим общее описание данных в таблице"
   ]
  },
  {
   "cell_type": "code",
   "execution_count": 16,
   "metadata": {
    "scrolled": true
   },
   "outputs": [
    {
     "data": {
      "text/html": [
       "<div>\n",
       "<style scoped>\n",
       "    .dataframe tbody tr th:only-of-type {\n",
       "        vertical-align: middle;\n",
       "    }\n",
       "\n",
       "    .dataframe tbody tr th {\n",
       "        vertical-align: top;\n",
       "    }\n",
       "\n",
       "    .dataframe thead th {\n",
       "        text-align: right;\n",
       "    }\n",
       "</style>\n",
       "<table border=\"1\" class=\"dataframe\">\n",
       "  <thead>\n",
       "    <tr style=\"text-align: right;\">\n",
       "      <th></th>\n",
       "      <th>total_images</th>\n",
       "      <th>last_price</th>\n",
       "      <th>total_area</th>\n",
       "      <th>rooms</th>\n",
       "      <th>ceiling_height</th>\n",
       "      <th>floors_total</th>\n",
       "      <th>living_area</th>\n",
       "      <th>floor</th>\n",
       "      <th>kitchen_area</th>\n",
       "      <th>balcony</th>\n",
       "      <th>airports_nearest</th>\n",
       "      <th>cityCenters_nearest</th>\n",
       "      <th>parks_around3000</th>\n",
       "      <th>parks_nearest</th>\n",
       "      <th>ponds_around3000</th>\n",
       "      <th>ponds_nearest</th>\n",
       "      <th>days_exposition</th>\n",
       "    </tr>\n",
       "  </thead>\n",
       "  <tbody>\n",
       "    <tr>\n",
       "      <th>count</th>\n",
       "      <td>23699.000000</td>\n",
       "      <td>2.369900e+04</td>\n",
       "      <td>23699.000000</td>\n",
       "      <td>23699.000000</td>\n",
       "      <td>23699.000000</td>\n",
       "      <td>23699.000000</td>\n",
       "      <td>23699.000000</td>\n",
       "      <td>23699.000000</td>\n",
       "      <td>23699.000000</td>\n",
       "      <td>23699.000000</td>\n",
       "      <td>18157.000000</td>\n",
       "      <td>18180.000000</td>\n",
       "      <td>18181.000000</td>\n",
       "      <td>8079.000000</td>\n",
       "      <td>18181.000000</td>\n",
       "      <td>9110.000000</td>\n",
       "      <td>23699.000000</td>\n",
       "    </tr>\n",
       "    <tr>\n",
       "      <th>mean</th>\n",
       "      <td>9.858475</td>\n",
       "      <td>6.541549e+06</td>\n",
       "      <td>60.348651</td>\n",
       "      <td>2.070636</td>\n",
       "      <td>2.724358</td>\n",
       "      <td>10.667750</td>\n",
       "      <td>34.624296</td>\n",
       "      <td>5.892358</td>\n",
       "      <td>10.505495</td>\n",
       "      <td>0.591080</td>\n",
       "      <td>28793.672193</td>\n",
       "      <td>14191.277833</td>\n",
       "      <td>0.611408</td>\n",
       "      <td>490.804555</td>\n",
       "      <td>0.770255</td>\n",
       "      <td>517.980900</td>\n",
       "      <td>169.360226</td>\n",
       "    </tr>\n",
       "    <tr>\n",
       "      <th>std</th>\n",
       "      <td>5.682529</td>\n",
       "      <td>1.088701e+07</td>\n",
       "      <td>35.654083</td>\n",
       "      <td>1.078405</td>\n",
       "      <td>0.988298</td>\n",
       "      <td>6.585961</td>\n",
       "      <td>22.381873</td>\n",
       "      <td>4.885249</td>\n",
       "      <td>6.039401</td>\n",
       "      <td>0.959298</td>\n",
       "      <td>12630.880622</td>\n",
       "      <td>8608.386210</td>\n",
       "      <td>0.802074</td>\n",
       "      <td>342.317995</td>\n",
       "      <td>0.938346</td>\n",
       "      <td>277.720643</td>\n",
       "      <td>206.535633</td>\n",
       "    </tr>\n",
       "    <tr>\n",
       "      <th>min</th>\n",
       "      <td>0.000000</td>\n",
       "      <td>1.219000e+04</td>\n",
       "      <td>12.000000</td>\n",
       "      <td>0.000000</td>\n",
       "      <td>1.000000</td>\n",
       "      <td>1.000000</td>\n",
       "      <td>2.000000</td>\n",
       "      <td>1.000000</td>\n",
       "      <td>1.300000</td>\n",
       "      <td>0.000000</td>\n",
       "      <td>0.000000</td>\n",
       "      <td>181.000000</td>\n",
       "      <td>0.000000</td>\n",
       "      <td>1.000000</td>\n",
       "      <td>0.000000</td>\n",
       "      <td>13.000000</td>\n",
       "      <td>1.000000</td>\n",
       "    </tr>\n",
       "    <tr>\n",
       "      <th>25%</th>\n",
       "      <td>6.000000</td>\n",
       "      <td>3.400000e+06</td>\n",
       "      <td>40.000000</td>\n",
       "      <td>1.000000</td>\n",
       "      <td>2.600000</td>\n",
       "      <td>5.000000</td>\n",
       "      <td>19.000000</td>\n",
       "      <td>2.000000</td>\n",
       "      <td>7.000000</td>\n",
       "      <td>0.000000</td>\n",
       "      <td>18585.000000</td>\n",
       "      <td>9238.000000</td>\n",
       "      <td>0.000000</td>\n",
       "      <td>288.000000</td>\n",
       "      <td>0.000000</td>\n",
       "      <td>294.000000</td>\n",
       "      <td>45.000000</td>\n",
       "    </tr>\n",
       "    <tr>\n",
       "      <th>50%</th>\n",
       "      <td>9.000000</td>\n",
       "      <td>4.650000e+06</td>\n",
       "      <td>52.000000</td>\n",
       "      <td>2.000000</td>\n",
       "      <td>2.650000</td>\n",
       "      <td>9.000000</td>\n",
       "      <td>30.000000</td>\n",
       "      <td>4.000000</td>\n",
       "      <td>9.000000</td>\n",
       "      <td>0.000000</td>\n",
       "      <td>26726.000000</td>\n",
       "      <td>13098.500000</td>\n",
       "      <td>0.000000</td>\n",
       "      <td>455.000000</td>\n",
       "      <td>1.000000</td>\n",
       "      <td>502.000000</td>\n",
       "      <td>95.000000</td>\n",
       "    </tr>\n",
       "    <tr>\n",
       "      <th>75%</th>\n",
       "      <td>14.000000</td>\n",
       "      <td>6.800000e+06</td>\n",
       "      <td>69.900000</td>\n",
       "      <td>3.000000</td>\n",
       "      <td>2.700000</td>\n",
       "      <td>16.000000</td>\n",
       "      <td>42.173077</td>\n",
       "      <td>8.000000</td>\n",
       "      <td>12.000000</td>\n",
       "      <td>1.000000</td>\n",
       "      <td>37273.000000</td>\n",
       "      <td>16293.000000</td>\n",
       "      <td>1.000000</td>\n",
       "      <td>612.000000</td>\n",
       "      <td>1.000000</td>\n",
       "      <td>729.000000</td>\n",
       "      <td>199.000000</td>\n",
       "    </tr>\n",
       "    <tr>\n",
       "      <th>max</th>\n",
       "      <td>50.000000</td>\n",
       "      <td>7.630000e+08</td>\n",
       "      <td>900.000000</td>\n",
       "      <td>19.000000</td>\n",
       "      <td>100.000000</td>\n",
       "      <td>60.000000</td>\n",
       "      <td>409.700000</td>\n",
       "      <td>33.000000</td>\n",
       "      <td>112.000000</td>\n",
       "      <td>5.000000</td>\n",
       "      <td>84869.000000</td>\n",
       "      <td>65968.000000</td>\n",
       "      <td>3.000000</td>\n",
       "      <td>3190.000000</td>\n",
       "      <td>3.000000</td>\n",
       "      <td>1344.000000</td>\n",
       "      <td>1580.000000</td>\n",
       "    </tr>\n",
       "  </tbody>\n",
       "</table>\n",
       "</div>"
      ],
      "text/plain": [
       "       total_images    last_price    total_area         rooms  ceiling_height  \\\n",
       "count  23699.000000  2.369900e+04  23699.000000  23699.000000    23699.000000   \n",
       "mean       9.858475  6.541549e+06     60.348651      2.070636        2.724358   \n",
       "std        5.682529  1.088701e+07     35.654083      1.078405        0.988298   \n",
       "min        0.000000  1.219000e+04     12.000000      0.000000        1.000000   \n",
       "25%        6.000000  3.400000e+06     40.000000      1.000000        2.600000   \n",
       "50%        9.000000  4.650000e+06     52.000000      2.000000        2.650000   \n",
       "75%       14.000000  6.800000e+06     69.900000      3.000000        2.700000   \n",
       "max       50.000000  7.630000e+08    900.000000     19.000000      100.000000   \n",
       "\n",
       "       floors_total   living_area         floor  kitchen_area       balcony  \\\n",
       "count  23699.000000  23699.000000  23699.000000  23699.000000  23699.000000   \n",
       "mean      10.667750     34.624296      5.892358     10.505495      0.591080   \n",
       "std        6.585961     22.381873      4.885249      6.039401      0.959298   \n",
       "min        1.000000      2.000000      1.000000      1.300000      0.000000   \n",
       "25%        5.000000     19.000000      2.000000      7.000000      0.000000   \n",
       "50%        9.000000     30.000000      4.000000      9.000000      0.000000   \n",
       "75%       16.000000     42.173077      8.000000     12.000000      1.000000   \n",
       "max       60.000000    409.700000     33.000000    112.000000      5.000000   \n",
       "\n",
       "       airports_nearest  cityCenters_nearest  parks_around3000  parks_nearest  \\\n",
       "count      18157.000000         18180.000000      18181.000000    8079.000000   \n",
       "mean       28793.672193         14191.277833          0.611408     490.804555   \n",
       "std        12630.880622          8608.386210          0.802074     342.317995   \n",
       "min            0.000000           181.000000          0.000000       1.000000   \n",
       "25%        18585.000000          9238.000000          0.000000     288.000000   \n",
       "50%        26726.000000         13098.500000          0.000000     455.000000   \n",
       "75%        37273.000000         16293.000000          1.000000     612.000000   \n",
       "max        84869.000000         65968.000000          3.000000    3190.000000   \n",
       "\n",
       "       ponds_around3000  ponds_nearest  days_exposition  \n",
       "count      18181.000000    9110.000000     23699.000000  \n",
       "mean           0.770255     517.980900       169.360226  \n",
       "std            0.938346     277.720643       206.535633  \n",
       "min            0.000000      13.000000         1.000000  \n",
       "25%            0.000000     294.000000        45.000000  \n",
       "50%            1.000000     502.000000        95.000000  \n",
       "75%            1.000000     729.000000       199.000000  \n",
       "max            3.000000    1344.000000      1580.000000  "
      ]
     },
     "execution_count": 16,
     "metadata": {},
     "output_type": "execute_result"
    }
   ],
   "source": [
    "data.describe()"
   ]
  },
  {
   "cell_type": "markdown",
   "metadata": {},
   "source": [
    "Устраним редкие и выбивающиеся значения во всех столбцах"
   ]
  },
  {
   "cell_type": "code",
   "execution_count": 17,
   "metadata": {},
   "outputs": [],
   "source": [
    "#функция для удаления редких значений\n",
    "def data_quantile(value):\n",
    "    Q1 = data[value].quantile(0.10)\n",
    "    Q3 = data[value].quantile(0.90)\n",
    "    IQR = Q3 - Q1\n",
    "    data_IQR = data[(data[value] > (Q1 - 1.5*IQR)) & (data[value] < (1.5*IQR + Q3))]\n",
    "    data_IQR.boxplot(column=value)"
   ]
  },
  {
   "cell_type": "markdown",
   "metadata": {},
   "source": [
    "Посмотрим Boxplot для столбца total_area"
   ]
  },
  {
   "cell_type": "code",
   "execution_count": 18,
   "metadata": {
    "scrolled": true
   },
   "outputs": [
    {
     "data": {
      "image/png": "[encoded data removed]",
      "text/plain": [
       "<Figure size 432x288 with 1 Axes>"
      ]
     },
     "metadata": {
      "needs_background": "light"
     },
     "output_type": "display_data"
    }
   ],
   "source": [
    "data_quantile('total_area')"
   ]
  },
  {
   "cell_type": "markdown",
   "metadata": {},
   "source": [
    "По графику видно, что нижний ус оказался равным примерно 12.5 м, верхний - 112,5 м примерно. Выше верхнего уса находится довольно большое количество выбросов, но при этом медиана равна 50 м, значит выбросы выше верхнего квартиля всё же редкие. "
   ]
  },
  {
   "cell_type": "markdown",
   "metadata": {},
   "source": [
    "Посмотрим Boxplot для столбца living_area"
   ]
  },
  {
   "cell_type": "code",
   "execution_count": 19,
   "metadata": {
    "scrolled": false
   },
   "outputs": [
    {
     "data": {
      "image/png": "[encoded data removed]",
      "text/plain": [
       "<Figure size 432x288 with 1 Axes>"
      ]
     },
     "metadata": {
      "needs_background": "light"
     },
     "output_type": "display_data"
    }
   ],
   "source": [
    "data_quantile('living_area')"
   ]
  },
  {
   "cell_type": "markdown",
   "metadata": {},
   "source": [
    "По графику видно, что нижний ус стремится к 0, верхний - к 80 м. Выше верхнего уса находится довольно большое количество выбросов, но при этом медиана равна 30 м, значит выбросы выше верхнего квартиля всё же редкие."
   ]
  },
  {
   "cell_type": "markdown",
   "metadata": {},
   "source": [
    "Посмотрим Boxplot для столбца kitchen_area"
   ]
  },
  {
   "cell_type": "code",
   "execution_count": 20,
   "metadata": {},
   "outputs": [
    {
     "data": {
      "image/png": "[encoded data removed]",
      "text/plain": [
       "<Figure size 432x288 with 1 Axes>"
      ]
     },
     "metadata": {
      "needs_background": "light"
     },
     "output_type": "display_data"
    }
   ],
   "source": [
    "data_quantile('kitchen_area')"
   ]
  },
  {
   "cell_type": "markdown",
   "metadata": {},
   "source": [
    "По графику видно, что нижний ус примерно равен 2 м, верхний - 18 м. Выше верхнего уса находится довольно большое количество выбросов, но при этом медиана равна 9 м, значит выбросы выше верхнего квартиля всё же редкие."
   ]
  },
  {
   "cell_type": "markdown",
   "metadata": {},
   "source": [
    "Посмотрим Boxplot для столбца last_price"
   ]
  },
  {
   "cell_type": "code",
   "execution_count": 21,
   "metadata": {},
   "outputs": [
    {
     "data": {
      "image/png": "[encoded data removed]",
      "text/plain": [
       "<Figure size 432x288 with 1 Axes>"
      ]
     },
     "metadata": {
      "needs_background": "light"
     },
     "output_type": "display_data"
    }
   ],
   "source": [
    "data_quantile('last_price')"
   ]
  },
  {
   "cell_type": "markdown",
   "metadata": {},
   "source": [
    "По графику видно, что нижний ус равен 0 (не понимаю, что это значит? какие-то аномалии?). Верхний - чуть более 10 000 000. Выбросов выше верхнего уса очень много, но медиана при этом остается на уровне 5 000 000, значит эти выбросы редкие. "
   ]
  },
  {
   "cell_type": "markdown",
   "metadata": {},
   "source": [
    "Посмотрим Boxplot для столбца rooms"
   ]
  },
  {
   "cell_type": "code",
   "execution_count": 22,
   "metadata": {
    "scrolled": true
   },
   "outputs": [
    {
     "data": {
      "text/plain": [
       "<function matplotlib.pyplot.show(close=None, block=None)>"
      ]
     },
     "execution_count": 22,
     "metadata": {},
     "output_type": "execute_result"
    },
    {
     "data": {
      "image/png": "[encoded data removed]",
      "text/plain": [
       "<Figure size 432x288 with 1 Axes>"
      ]
     },
     "metadata": {
      "needs_background": "light"
     },
     "output_type": "display_data"
    }
   ],
   "source": [
    "#data_quantile('rooms')\n",
    "plt.boxplot(data['rooms'])\n",
    "plt.ylim(0,23)\n",
    "plt.show"
   ]
  },
  {
   "cell_type": "markdown",
   "metadata": {},
   "source": [
    "По графику видно, что нижний ус упирается в 1, верхний - 6-7. Выше верхнего уса совсем немного выбросов, а медиана на уровне примерно 2-3."
   ]
  },
  {
   "cell_type": "markdown",
   "metadata": {},
   "source": [
    "Посмотрим Boxplot для столбца floor"
   ]
  },
  {
   "cell_type": "code",
   "execution_count": 23,
   "metadata": {},
   "outputs": [
    {
     "data": {
      "image/png": "[encoded data removed]",
      "text/plain": [
       "<Figure size 432x288 with 1 Axes>"
      ]
     },
     "metadata": {
      "needs_background": "light"
     },
     "output_type": "display_data"
    }
   ],
   "source": [
    "data_quantile('floor')"
   ]
  },
  {
   "cell_type": "markdown",
   "metadata": {},
   "source": [
    "По графику видно, что нижний ус упирается в 1, верхний - 16-17. Выше верхнего уса совсем немного выбросов, а медиана на уровне примерно 4."
   ]
  },
  {
   "cell_type": "markdown",
   "metadata": {},
   "source": [
    "Посмотрим Boxplot для столбца floors_total"
   ]
  },
  {
   "cell_type": "code",
   "execution_count": 24,
   "metadata": {},
   "outputs": [
    {
     "data": {
      "image/png": "[encoded data removed]",
      "text/plain": [
       "<Figure size 432x288 with 1 Axes>"
      ]
     },
     "metadata": {
      "needs_background": "light"
     },
     "output_type": "display_data"
    }
   ],
   "source": [
    "data_quantile('floors_total')"
   ]
  },
  {
   "cell_type": "markdown",
   "metadata": {},
   "source": [
    "По графику видно, что нижний ус упирается в 1, верхний - около 29. Выше верхнего уса совсем немного выбросов, а медиана на уровне примерно 9."
   ]
  },
  {
   "cell_type": "markdown",
   "metadata": {},
   "source": [
    "Посмотрим Boxplot для столбца airports_nearest"
   ]
  },
  {
   "cell_type": "code",
   "execution_count": 25,
   "metadata": {},
   "outputs": [
    {
     "data": {
      "image/png": "[encoded data removed]",
      "text/plain": [
       "<Figure size 432x288 with 1 Axes>"
      ]
     },
     "metadata": {
      "needs_background": "light"
     },
     "output_type": "display_data"
    }
   ],
   "source": [
    "data_quantile('airports_nearest')"
   ]
  },
  {
   "cell_type": "markdown",
   "metadata": {},
   "source": [
    "По графику видно, что выше верхнего уса, который равен приблизительно 65000, есть довольно большое количество выбросов, но медиана при этом не стремится вверх, ее значение чуть меньше 30000."
   ]
  },
  {
   "cell_type": "markdown",
   "metadata": {},
   "source": [
    "Посмотрим Boxplot для столбца cityCenters_nearest"
   ]
  },
  {
   "cell_type": "code",
   "execution_count": 26,
   "metadata": {
    "scrolled": true
   },
   "outputs": [
    {
     "data": {
      "image/png": "[encoded data removed]",
      "text/plain": [
       "<Figure size 432x288 with 1 Axes>"
      ]
     },
     "metadata": {
      "needs_background": "light"
     },
     "output_type": "display_data"
    }
   ],
   "source": [
    "data_quantile('cityCenters_nearest')"
   ]
  },
  {
   "cell_type": "markdown",
   "metadata": {},
   "source": [
    "По графику видно, что выше верхнего уса, который равен приблизительно 28000, есть довольно большое количество выбросов, но медиана при этом не стремится вверх, ее значение около 13000."
   ]
  },
  {
   "cell_type": "markdown",
   "metadata": {},
   "source": [
    "Посмотрим Boxplot для столбца parks_nearest"
   ]
  },
  {
   "cell_type": "code",
   "execution_count": 27,
   "metadata": {},
   "outputs": [
    {
     "data": {
      "image/png": "[encoded data removed]",
      "text/plain": [
       "<Figure size 432x288 with 1 Axes>"
      ]
     },
     "metadata": {
      "needs_background": "light"
     },
     "output_type": "display_data"
    }
   ],
   "source": [
    "data_quantile('parks_nearest')"
   ]
  },
  {
   "cell_type": "markdown",
   "metadata": {},
   "source": [
    "По графику видно, что выше верхнего уса, который равен приблизительно 1100, есть довольно большое количество выбросов, но медиана при этом не стремится вверх, ее значение около 400."
   ]
  },
  {
   "cell_type": "markdown",
   "metadata": {},
   "source": [
    "Посмотрим Boxplot для столбца ponds_nearest"
   ]
  },
  {
   "cell_type": "code",
   "execution_count": 28,
   "metadata": {},
   "outputs": [
    {
     "data": {
      "image/png": "[encoded data removed]",
      "text/plain": [
       "<Figure size 432x288 with 1 Axes>"
      ]
     },
     "metadata": {
      "needs_background": "light"
     },
     "output_type": "display_data"
    }
   ],
   "source": [
    "data_quantile('ponds_nearest')"
   ]
  },
  {
   "cell_type": "markdown",
   "metadata": {},
   "source": [
    "По графику видно, что медиана здесь около 500 м. В СПб и окрестностях нет проблем с водоемами! =)"
   ]
  },
  {
   "cell_type": "markdown",
   "metadata": {},
   "source": [
    "Посмотрим Boxplot для столбца days_exposition"
   ]
  },
  {
   "cell_type": "code",
   "execution_count": 29,
   "metadata": {},
   "outputs": [
    {
     "data": {
      "image/png": "[encoded data removed]",
      "text/plain": [
       "<Figure size 432x288 with 1 Axes>"
      ]
     },
     "metadata": {
      "needs_background": "light"
     },
     "output_type": "display_data"
    }
   ],
   "source": [
    "data_quantile('days_exposition')"
   ]
  },
  {
   "cell_type": "markdown",
   "metadata": {},
   "source": [
    "По графику видно, что выше верхнего уса, который равен приблизительно 400, есть очень большое количество выбросов, но медиана при этом не стремится вверх, ее значение около 100."
   ]
  },
  {
   "cell_type": "markdown",
   "metadata": {},
   "source": [
    "Посмотрим, какие самые большие значения есть в столбце ceiling_height"
   ]
  },
  {
   "cell_type": "code",
   "execution_count": 31,
   "metadata": {},
   "outputs": [],
   "source": [
    "def correct_сeiling_height(i): #функция, для перевода в метры\n",
    "    if i >= 20:\n",
    "        i = i/10\n",
    "    return i\n",
    "data['ceiling_height'] = data['ceiling_height'].apply(correct_сeiling_height) # заменим на нормальные значения"
   ]
  },
  {
   "cell_type": "markdown",
   "metadata": {},
   "source": [
    "С попомщью метода boxplot мы посмотрели на медианные значения данных, размах \"усов\", то есть нормальные значения данных, а также увидели аномальные значения и отбросили их. Также в столбце ceiling_height заменили ошибочные введенные данные на корректные. "
   ]
  },
  {
   "cell_type": "code",
   "execution_count": 32,
   "metadata": {},
   "outputs": [
    {
     "name": "stdout",
     "output_type": "stream",
     "text": [
      "<class 'pandas.core.frame.DataFrame'>\n",
      "RangeIndex: 23699 entries, 0 to 23698\n",
      "Data columns (total 22 columns):\n",
      " #   Column                Non-Null Count  Dtype         \n",
      "---  ------                --------------  -----         \n",
      " 0   total_images          23699 non-null  int64         \n",
      " 1   last_price            23699 non-null  int64         \n",
      " 2   total_area            23699 non-null  float64       \n",
      " 3   first_day_exposition  23699 non-null  datetime64[ns]\n",
      " 4   rooms                 23699 non-null  int64         \n",
      " 5   ceiling_height        23699 non-null  float64       \n",
      " 6   floors_total          23699 non-null  int64         \n",
      " 7   living_area           23699 non-null  float64       \n",
      " 8   floor                 23699 non-null  int64         \n",
      " 9   is_apartment          2775 non-null   object        \n",
      " 10  studio                23699 non-null  bool          \n",
      " 11  open_plan             23699 non-null  bool          \n",
      " 12  kitchen_area          23699 non-null  float64       \n",
      " 13  balcony               23699 non-null  float64       \n",
      " 14  locality_name         23650 non-null  object        \n",
      " 15  airports_nearest      18157 non-null  float64       \n",
      " 16  cityCenters_nearest   18180 non-null  float64       \n",
      " 17  parks_around3000      18181 non-null  float64       \n",
      " 18  parks_nearest         8079 non-null   float64       \n",
      " 19  ponds_around3000      18181 non-null  float64       \n",
      " 20  ponds_nearest         9110 non-null   float64       \n",
      " 21  days_exposition       23699 non-null  float64       \n",
      "dtypes: bool(2), datetime64[ns](1), float64(12), int64(5), object(2)\n",
      "memory usage: 3.7+ MB\n"
     ]
    }
   ],
   "source": [
    "data.info()"
   ]
  },
  {
   "cell_type": "markdown",
   "metadata": {},
   "source": [
    "### Посчитайте и добавьте в таблицу новые столбцы"
   ]
  },
  {
   "cell_type": "markdown",
   "metadata": {},
   "source": [
    "Добавим в таблицу столбец \"год публикации объявления\""
   ]
  },
  {
   "cell_type": "code",
   "execution_count": 33,
   "metadata": {},
   "outputs": [],
   "source": [
    "data['first_day_exposition'] = pd.to_datetime(data['first_day_exposition'], format='%Y-%m-%dT%H:%M:%S')"
   ]
  },
  {
   "cell_type": "code",
   "execution_count": 34,
   "metadata": {},
   "outputs": [],
   "source": [
    "data['year_exposition'] = data['first_day_exposition'].dt.year"
   ]
  },
  {
   "cell_type": "markdown",
   "metadata": {},
   "source": [
    "Добавим в таблицу столбец \"месяц публикации объявления\""
   ]
  },
  {
   "cell_type": "code",
   "execution_count": 35,
   "metadata": {},
   "outputs": [],
   "source": [
    "data['month_exposition'] = data['first_day_exposition'].dt.month"
   ]
  },
  {
   "cell_type": "markdown",
   "metadata": {},
   "source": [
    "Добавим в таблицу столбец \"день публикации объявления\""
   ]
  },
  {
   "cell_type": "code",
   "execution_count": 36,
   "metadata": {},
   "outputs": [],
   "source": [
    "def day(data):\n",
    "    first_day_exposition = data['first_day_exposition'].weekday()\n",
    "    if first_day_exposition == 0:\n",
    "        return 'понедельник'\n",
    "    elif first_day_exposition == 1:\n",
    "        return 'вторник'\n",
    "    elif first_day_exposition == 2:\n",
    "        return 'среда'\n",
    "    elif first_day_exposition == 3:\n",
    "        return 'четверг'\n",
    "    elif first_day_exposition == 4:\n",
    "        return 'пятница'\n",
    "    elif first_day_exposition == 5:\n",
    "        return 'суббота'\n",
    "    elif first_day_exposition == 1:\n",
    "        return 'воскресенье'\n",
    "\n",
    "data['day_exposition'] = data.apply(day, axis=1)"
   ]
  },
  {
   "cell_type": "markdown",
   "metadata": {},
   "source": [
    "Добавим в таблицу столбец \"цена одного квадратного метра\""
   ]
  },
  {
   "cell_type": "code",
   "execution_count": 37,
   "metadata": {},
   "outputs": [],
   "source": [
    "data['cost_1m'] = (data['last_price'] / data['total_area']).astype('int')"
   ]
  },
  {
   "cell_type": "markdown",
   "metadata": {},
   "source": [
    "Добавим в таблицу столбец \"тип этажа квартиры\""
   ]
  },
  {
   "cell_type": "code",
   "execution_count": 38,
   "metadata": {},
   "outputs": [],
   "source": [
    "def type_floor(data):\n",
    "    floor = data['floor']\n",
    "    floors_total = data['floors_total']\n",
    "    if floor == 1:\n",
    "        return 'первый'\n",
    "    elif floor == floors_total:\n",
    "        return 'последний'\n",
    "    else:\n",
    "        return 'другой'\n",
    "    \n",
    "data['floor_type'] = data.apply(type_floor, axis=1)"
   ]
  },
  {
   "cell_type": "markdown",
   "metadata": {},
   "source": [
    "Добавим в таблицу столбец \"расстояние в км до центра города\""
   ]
  },
  {
   "cell_type": "code",
   "execution_count": 39,
   "metadata": {},
   "outputs": [],
   "source": [
    "data['cityCenters_nearest_km'] = (data['cityCenters_nearest'] / 1000).round()"
   ]
  },
  {
   "cell_type": "markdown",
   "metadata": {},
   "source": [
    "### Исследовательский анализ данных"
   ]
  },
  {
   "cell_type": "markdown",
   "metadata": {},
   "source": [
    "Построим гистограммы для каждого параметра:"
   ]
  },
  {
   "cell_type": "code",
   "execution_count": 40,
   "metadata": {},
   "outputs": [
    {
     "data": {
      "image/png": "[encoded data removed]",
      "text/plain": [
       "<Figure size 432x288 with 1 Axes>"
      ]
     },
     "metadata": {
      "needs_background": "light"
     },
     "output_type": "display_data"
    }
   ],
   "source": [
    "data['total_area'].hist(bins=20, range=(0,200))\n",
    "plt.show()"
   ]
  },
  {
   "cell_type": "markdown",
   "metadata": {},
   "source": [
    "Пик значений - 40-45 кв м"
   ]
  },
  {
   "cell_type": "code",
   "execution_count": 41,
   "metadata": {},
   "outputs": [
    {
     "data": {
      "image/png": "[encoded data removed]",
      "text/plain": [
       "<Figure size 432x288 with 1 Axes>"
      ]
     },
     "metadata": {
      "needs_background": "light"
     },
     "output_type": "display_data"
    }
   ],
   "source": [
    "data['living_area'].hist(bins=20, range=(0,100))\n",
    "plt.show()"
   ]
  },
  {
   "cell_type": "markdown",
   "metadata": {},
   "source": [
    "Пик значений - около 20 кв м"
   ]
  },
  {
   "cell_type": "code",
   "execution_count": 42,
   "metadata": {},
   "outputs": [
    {
     "data": {
      "image/png": "[encoded data removed]",
      "text/plain": [
       "<Figure size 432x288 with 1 Axes>"
      ]
     },
     "metadata": {
      "needs_background": "light"
     },
     "output_type": "display_data"
    }
   ],
   "source": [
    "data['kitchen_area'].hist(bins=20, range=(0,40))\n",
    "plt.show()"
   ]
  },
  {
   "cell_type": "markdown",
   "metadata": {},
   "source": [
    "Пик значений - около 8 кв м"
   ]
  },
  {
   "cell_type": "code",
   "execution_count": 43,
   "metadata": {},
   "outputs": [
    {
     "data": {
      "image/png": "[encoded data removed]",
      "text/plain": [
       "<Figure size 432x288 with 1 Axes>"
      ]
     },
     "metadata": {
      "needs_background": "light"
     },
     "output_type": "display_data"
    }
   ],
   "source": [
    "data['last_price'].hist(bins=30, range=(0, 15000000))\n",
    "plt.show()"
   ]
  },
  {
   "cell_type": "markdown",
   "metadata": {},
   "source": [
    "Пик значений - около 4 млн"
   ]
  },
  {
   "cell_type": "code",
   "execution_count": 44,
   "metadata": {},
   "outputs": [
    {
     "data": {
      "image/png": "[encoded data removed]",
      "text/plain": [
       "<Figure size 432x288 with 1 Axes>"
      ]
     },
     "metadata": {
      "needs_background": "light"
     },
     "output_type": "display_data"
    }
   ],
   "source": [
    "data['rooms'].hist(bins=10, range=(0,10))\n",
    "plt.show()"
   ]
  },
  {
   "cell_type": "markdown",
   "metadata": {},
   "source": [
    "Пик значений - 1-2 комнаты"
   ]
  },
  {
   "cell_type": "code",
   "execution_count": 45,
   "metadata": {},
   "outputs": [
    {
     "data": {
      "image/png": "[encoded data removed]",
      "text/plain": [
       "<Figure size 432x288 with 1 Axes>"
      ]
     },
     "metadata": {
      "needs_background": "light"
     },
     "output_type": "display_data"
    }
   ],
   "source": [
    "data['ceiling_height'].hist(bins=20, range=(2,5))\n",
    "plt.show()"
   ]
  },
  {
   "cell_type": "markdown",
   "metadata": {},
   "source": [
    "2,6 м - наиболее часто встречаемая высота потолков"
   ]
  },
  {
   "cell_type": "code",
   "execution_count": 46,
   "metadata": {},
   "outputs": [
    {
     "data": {
      "image/png": "[encoded data removed]",
      "text/plain": [
       "<Figure size 432x288 with 1 Axes>"
      ]
     },
     "metadata": {
      "needs_background": "light"
     },
     "output_type": "display_data"
    }
   ],
   "source": [
    "data['floor'].hist(bins=20, range=(0,30))\n",
    "plt.show()"
   ]
  },
  {
   "cell_type": "markdown",
   "metadata": {},
   "source": [
    "на 3-4 этажах расположено больше всего квартир"
   ]
  },
  {
   "cell_type": "code",
   "execution_count": 47,
   "metadata": {},
   "outputs": [
    {
     "data": {
      "image/png": "[encoded data removed]",
      "text/plain": [
       "<Figure size 432x288 with 1 Axes>"
      ]
     },
     "metadata": {
      "needs_background": "light"
     },
     "output_type": "display_data"
    }
   ],
   "source": [
    "data['floor_type'].hist()\n",
    "plt.show()"
   ]
  },
  {
   "cell_type": "markdown",
   "metadata": {},
   "source": [
    "Болше всего квартир расположено не на первом и не на последнем этажах"
   ]
  },
  {
   "cell_type": "code",
   "execution_count": 48,
   "metadata": {},
   "outputs": [
    {
     "data": {
      "image/png": "[encoded data removed]",
      "text/plain": [
       "<Figure size 432x288 with 1 Axes>"
      ]
     },
     "metadata": {
      "needs_background": "light"
     },
     "output_type": "display_data"
    }
   ],
   "source": [
    "data['floors_total'].hist(bins=10, range=(0,30))\n",
    "plt.show()"
   ]
  },
  {
   "cell_type": "markdown",
   "metadata": {},
   "source": [
    "Больше всего пятиэтажных домов"
   ]
  },
  {
   "cell_type": "code",
   "execution_count": 49,
   "metadata": {},
   "outputs": [
    {
     "data": {
      "image/png": "[encoded data removed]",
      "text/plain": [
       "<Figure size 432x288 with 1 Axes>"
      ]
     },
     "metadata": {
      "needs_background": "light"
     },
     "output_type": "display_data"
    }
   ],
   "source": [
    "data['cityCenters_nearest'].hist(bins=30)\n",
    "plt.show()"
   ]
  },
  {
   "cell_type": "markdown",
   "metadata": {},
   "source": [
    "Пик значений - около 12 000 м"
   ]
  },
  {
   "cell_type": "code",
   "execution_count": 50,
   "metadata": {},
   "outputs": [
    {
     "data": {
      "image/png": "[encoded data removed]",
      "text/plain": [
       "<Figure size 432x288 with 1 Axes>"
      ]
     },
     "metadata": {
      "needs_background": "light"
     },
     "output_type": "display_data"
    }
   ],
   "source": [
    "data['airports_nearest'].hist(bins=30)\n",
    "plt.show()"
   ]
  },
  {
   "cell_type": "markdown",
   "metadata": {},
   "source": [
    "Пик значений - около 26 000 м"
   ]
  },
  {
   "cell_type": "code",
   "execution_count": 51,
   "metadata": {},
   "outputs": [
    {
     "data": {
      "image/png": "[encoded data removed]",
      "text/plain": [
       "<Figure size 432x288 with 1 Axes>"
      ]
     },
     "metadata": {
      "needs_background": "light"
     },
     "output_type": "display_data"
    }
   ],
   "source": [
    "data['parks_nearest'].hist(bins=30)\n",
    "plt.show()"
   ]
  },
  {
   "cell_type": "markdown",
   "metadata": {},
   "source": [
    "Пик значений - около 500 м"
   ]
  },
  {
   "cell_type": "code",
   "execution_count": 52,
   "metadata": {},
   "outputs": [
    {
     "data": {
      "image/png": "[encoded data removed]",
      "text/plain": [
       "<Figure size 432x288 with 1 Axes>"
      ]
     },
     "metadata": {
      "needs_background": "light"
     },
     "output_type": "display_data"
    }
   ],
   "source": [
    "data['month_exposition'].hist(bins=30)\n",
    "plt.show()"
   ]
  },
  {
   "cell_type": "markdown",
   "metadata": {},
   "source": [
    "В феврале-марте опубликовано больше всего объявлений"
   ]
  },
  {
   "cell_type": "code",
   "execution_count": 53,
   "metadata": {},
   "outputs": [
    {
     "data": {
      "image/png": "[encoded data removed]",
      "text/plain": [
       "<Figure size 432x288 with 1 Axes>"
      ]
     },
     "metadata": {
      "needs_background": "light"
     },
     "output_type": "display_data"
    }
   ],
   "source": [
    "data['day_exposition'].hist(bins=30)\n",
    "plt.show()"
   ]
  },
  {
   "cell_type": "markdown",
   "metadata": {},
   "source": [
    "Во вторник и четверг публикуют больше всего объявлений"
   ]
  },
  {
   "cell_type": "markdown",
   "metadata": {},
   "source": [
    "Посмотрим также, сколько дней продаются квартиры"
   ]
  },
  {
   "cell_type": "code",
   "execution_count": 54,
   "metadata": {},
   "outputs": [
    {
     "data": {
      "image/png": "[encoded data removed]",
      "text/plain": [
       "<Figure size 432x288 with 1 Axes>"
      ]
     },
     "metadata": {
      "needs_background": "light"
     },
     "output_type": "display_data"
    },
    {
     "name": "stdout",
     "output_type": "stream",
     "text": [
      "Среднее значение для days_exposition: 169.36022616988058\n",
      "Медианное значение для days_exposition: 95.0\n"
     ]
    }
   ],
   "source": [
    "data['days_exposition'].hist(bins=100, range=(0,100))\n",
    "plt.show()\n",
    "print('Среднее значение для days_exposition:', data['days_exposition'].mean())\n",
    "print('Медианное значение для days_exposition:', data['days_exposition'].median())"
   ]
  },
  {
   "cell_type": "markdown",
   "metadata": {},
   "source": [
    "Обычно квартиры продаются около 95 дней (3 месяцев), но есть и немало значений, превышающих это значение, даже более 1000 дней, когда счет идет уже на года. При этом есть и сверхбыстрые продажи - в первые дни публикации объявления."
   ]
  },
  {
   "cell_type": "markdown",
   "metadata": {},
   "source": [
    "Посмотрим, какие факторы больше всего влияют на общую (полную) стоимость объекта"
   ]
  },
  {
   "cell_type": "code",
   "execution_count": 55,
   "metadata": {},
   "outputs": [
    {
     "data": {
      "text/html": [
       "<div>\n",
       "<style scoped>\n",
       "    .dataframe tbody tr th:only-of-type {\n",
       "        vertical-align: middle;\n",
       "    }\n",
       "\n",
       "    .dataframe tbody tr th {\n",
       "        vertical-align: top;\n",
       "    }\n",
       "\n",
       "    .dataframe thead th {\n",
       "        text-align: right;\n",
       "    }\n",
       "</style>\n",
       "<table border=\"1\" class=\"dataframe\">\n",
       "  <thead>\n",
       "    <tr style=\"text-align: right;\">\n",
       "      <th></th>\n",
       "      <th></th>\n",
       "      <th></th>\n",
       "      <th></th>\n",
       "      <th></th>\n",
       "      <th></th>\n",
       "      <th>last_price</th>\n",
       "    </tr>\n",
       "    <tr>\n",
       "      <th>total_area</th>\n",
       "      <th>living_area</th>\n",
       "      <th>kitchen_area</th>\n",
       "      <th>rooms</th>\n",
       "      <th>floor_type</th>\n",
       "      <th>days_exposition</th>\n",
       "      <th></th>\n",
       "    </tr>\n",
       "  </thead>\n",
       "  <tbody>\n",
       "    <tr>\n",
       "      <th>12.0</th>\n",
       "      <th>10.000000</th>\n",
       "      <th>2.100</th>\n",
       "      <th>1</th>\n",
       "      <th>другой</th>\n",
       "      <th>200.0</th>\n",
       "      <td>2400000.0</td>\n",
       "    </tr>\n",
       "    <tr>\n",
       "      <th rowspan=\"3\" valign=\"top\">13.0</th>\n",
       "      <th rowspan=\"2\" valign=\"top\">7.500000</th>\n",
       "      <th rowspan=\"2\" valign=\"top\">2.275</th>\n",
       "      <th rowspan=\"2\" valign=\"top\">1</th>\n",
       "      <th>другой</th>\n",
       "      <th>24.0</th>\n",
       "      <td>1850000.0</td>\n",
       "    </tr>\n",
       "    <tr>\n",
       "      <th>первый</th>\n",
       "      <th>410.0</th>\n",
       "      <td>1400000.0</td>\n",
       "    </tr>\n",
       "    <tr>\n",
       "      <th>10.000000</th>\n",
       "      <th>2.275</th>\n",
       "      <th>1</th>\n",
       "      <th>другой</th>\n",
       "      <th>9.0</th>\n",
       "      <td>3800000.0</td>\n",
       "    </tr>\n",
       "    <tr>\n",
       "      <th>13.2</th>\n",
       "      <th>7.615385</th>\n",
       "      <th>2.310</th>\n",
       "      <th>1</th>\n",
       "      <th>первый</th>\n",
       "      <th>19.0</th>\n",
       "      <td>1686000.0</td>\n",
       "    </tr>\n",
       "    <tr>\n",
       "      <th>...</th>\n",
       "      <th>...</th>\n",
       "      <th>...</th>\n",
       "      <th>...</th>\n",
       "      <th>...</th>\n",
       "      <th>...</th>\n",
       "      <td>...</td>\n",
       "    </tr>\n",
       "    <tr>\n",
       "      <th>590.0</th>\n",
       "      <th>409.000000</th>\n",
       "      <th>100.000</th>\n",
       "      <th>15</th>\n",
       "      <th>другой</th>\n",
       "      <th>14.0</th>\n",
       "      <td>65000000.0</td>\n",
       "    </tr>\n",
       "    <tr>\n",
       "      <th>618.0</th>\n",
       "      <th>258.000000</th>\n",
       "      <th>70.000</th>\n",
       "      <th>7</th>\n",
       "      <th>другой</th>\n",
       "      <th>111.0</th>\n",
       "      <td>300000000.0</td>\n",
       "    </tr>\n",
       "    <tr>\n",
       "      <th>631.0</th>\n",
       "      <th>364.038462</th>\n",
       "      <th>60.000</th>\n",
       "      <th>7</th>\n",
       "      <th>последний</th>\n",
       "      <th>95.0</th>\n",
       "      <td>140000000.0</td>\n",
       "    </tr>\n",
       "    <tr>\n",
       "      <th>631.2</th>\n",
       "      <th>322.300000</th>\n",
       "      <th>19.500</th>\n",
       "      <th>7</th>\n",
       "      <th>последний</th>\n",
       "      <th>95.0</th>\n",
       "      <td>140000000.0</td>\n",
       "    </tr>\n",
       "    <tr>\n",
       "      <th>900.0</th>\n",
       "      <th>409.700000</th>\n",
       "      <th>112.000</th>\n",
       "      <th>12</th>\n",
       "      <th>последний</th>\n",
       "      <th>106.0</th>\n",
       "      <td>420000000.0</td>\n",
       "    </tr>\n",
       "  </tbody>\n",
       "</table>\n",
       "<p>23474 rows × 1 columns</p>\n",
       "</div>"
      ],
      "text/plain": [
       "                                                                       last_price\n",
       "total_area living_area kitchen_area rooms floor_type days_exposition             \n",
       "12.0       10.000000   2.100        1     другой     200.0              2400000.0\n",
       "13.0       7.500000    2.275        1     другой     24.0               1850000.0\n",
       "                                          первый     410.0              1400000.0\n",
       "           10.000000   2.275        1     другой     9.0                3800000.0\n",
       "13.2       7.615385    2.310        1     первый     19.0               1686000.0\n",
       "...                                                                           ...\n",
       "590.0      409.000000  100.000      15    другой     14.0              65000000.0\n",
       "618.0      258.000000  70.000       7     другой     111.0            300000000.0\n",
       "631.0      364.038462  60.000       7     последний  95.0             140000000.0\n",
       "631.2      322.300000  19.500       7     последний  95.0             140000000.0\n",
       "900.0      409.700000  112.000      12    последний  106.0            420000000.0\n",
       "\n",
       "[23474 rows x 1 columns]"
      ]
     },
     "metadata": {},
     "output_type": "display_data"
    }
   ],
   "source": [
    "#построим сводную таблицу по параметрам:\n",
    "#- общей площади;\n",
    "#- жилой площади;\n",
    "#- площади кухни;\n",
    "#- количество комнат;\n",
    "#- типа этажа, на котором расположена квартира (первый, последний, другой);\n",
    "#- даты размещения (день недели, месяц, год)\n",
    "data_last_price = data.pivot_table(index=[\n",
    "    'total_area', 'living_area', 'kitchen_area', 'rooms', 'floor_type', 'days_exposition'],\n",
    "                                  values='last_price')\n",
    "display(data_last_price)"
   ]
  },
  {
   "cell_type": "code",
   "execution_count": 56,
   "metadata": {
    "scrolled": true
   },
   "outputs": [
    {
     "name": "stdout",
     "output_type": "stream",
     "text": [
      "Корреляция равна: 0.6536750579657242\n"
     ]
    },
    {
     "data": {
      "image/png": "[encoded data removed]",
      "text/plain": [
       "<Figure size 432x288 with 1 Axes>"
      ]
     },
     "metadata": {
      "needs_background": "light"
     },
     "output_type": "display_data"
    }
   ],
   "source": [
    "#посмотрим на корреляцию между общей площадью и ценой\n",
    "plt.scatter(data['total_area'], data['last_price'], s=50, alpha=0.3)\n",
    "print('Корреляция равна:', data['total_area'].corr(data['last_price']))"
   ]
  },
  {
   "cell_type": "code",
   "execution_count": 57,
   "metadata": {},
   "outputs": [
    {
     "name": "stdout",
     "output_type": "stream",
     "text": [
      "<class 'pandas.core.frame.DataFrame'>\n",
      "RangeIndex: 23699 entries, 0 to 23698\n",
      "Data columns (total 28 columns):\n",
      " #   Column                  Non-Null Count  Dtype         \n",
      "---  ------                  --------------  -----         \n",
      " 0   total_images            23699 non-null  int64         \n",
      " 1   last_price              23699 non-null  int64         \n",
      " 2   total_area              23699 non-null  float64       \n",
      " 3   first_day_exposition    23699 non-null  datetime64[ns]\n",
      " 4   rooms                   23699 non-null  int64         \n",
      " 5   ceiling_height          23699 non-null  float64       \n",
      " 6   floors_total            23699 non-null  int64         \n",
      " 7   living_area             23699 non-null  float64       \n",
      " 8   floor                   23699 non-null  int64         \n",
      " 9   is_apartment            2775 non-null   object        \n",
      " 10  studio                  23699 non-null  bool          \n",
      " 11  open_plan               23699 non-null  bool          \n",
      " 12  kitchen_area            23699 non-null  float64       \n",
      " 13  balcony                 23699 non-null  float64       \n",
      " 14  locality_name           23650 non-null  object        \n",
      " 15  airports_nearest        18157 non-null  float64       \n",
      " 16  cityCenters_nearest     18180 non-null  float64       \n",
      " 17  parks_around3000        18181 non-null  float64       \n",
      " 18  parks_nearest           8079 non-null   float64       \n",
      " 19  ponds_around3000        18181 non-null  float64       \n",
      " 20  ponds_nearest           9110 non-null   float64       \n",
      " 21  days_exposition         23699 non-null  float64       \n",
      " 22  year_exposition         23699 non-null  int64         \n",
      " 23  month_exposition        23699 non-null  int64         \n",
      " 24  day_exposition          22000 non-null  object        \n",
      " 25  cost_1m                 23699 non-null  int64         \n",
      " 26  floor_type              23699 non-null  object        \n",
      " 27  cityCenters_nearest_km  18180 non-null  float64       \n",
      "dtypes: bool(2), datetime64[ns](1), float64(13), int64(8), object(4)\n",
      "memory usage: 4.7+ MB\n"
     ]
    }
   ],
   "source": [
    "data.info()"
   ]
  },
  {
   "cell_type": "code",
   "execution_count": 58,
   "metadata": {},
   "outputs": [
    {
     "data": {
      "image/png": "[encoded data removed]",
      "text/plain": [
       "<Figure size 576x576 with 1 Axes>"
      ]
     },
     "metadata": {
      "needs_background": "light"
     },
     "output_type": "display_data"
    }
   ],
   "source": [
    "import numpy as np\n",
    "import matplotlib.pyplot as plt\n",
    "\n",
    "x = data['total_area']    #  x - координаты точек\n",
    "y =  data['last_price']    #  y - координаты точек\n",
    "\n",
    "fig, ax = plt.subplots()\n",
    "\n",
    "ax.scatter(x, y,\n",
    "           c = 'deeppink')    #  цвет точек\n",
    "\n",
    "ax.set_facecolor('black')     #  цвет области Axes\n",
    "ax.set_title('Один цвет')     #  заголовок для Axes\n",
    "\n",
    "fig.set_figwidth(8)     #  ширина и\n",
    "fig.set_figheight(8)    #  высота \"Figure\"\n",
    "\n",
    "plt.show()\n"
   ]
  },
  {
   "cell_type": "markdown",
   "metadata": {},
   "source": [
    "По графику видна что прямая корреляция между данными есть, хотя и не очень сильная."
   ]
  },
  {
   "cell_type": "code",
   "execution_count": 59,
   "metadata": {},
   "outputs": [
    {
     "name": "stdout",
     "output_type": "stream",
     "text": [
      "Корреляция равна: 0.5858907700395659\n"
     ]
    },
    {
     "data": {
      "image/png": "[encoded data removed]",
      "text/plain": [
       "<Figure size 432x288 with 1 Axes>"
      ]
     },
     "metadata": {
      "needs_background": "light"
     },
     "output_type": "display_data"
    }
   ],
   "source": [
    "#посмотрим на корреляцию между жилой площадью и ценой\n",
    "plt.scatter(data['living_area'], data['last_price'], s=50, alpha=0.3)\n",
    "print('Корреляция равна:', data['living_area'].corr(data['last_price']))"
   ]
  },
  {
   "cell_type": "markdown",
   "metadata": {},
   "source": [
    "По графику видна что прямая корреляция между данными есть, хотя и не очень сильная."
   ]
  },
  {
   "cell_type": "code",
   "execution_count": 60,
   "metadata": {},
   "outputs": [
    {
     "name": "stdout",
     "output_type": "stream",
     "text": [
      "Корреляция равна: 0.5141194369951924\n"
     ]
    },
    {
     "data": {
      "image/png": "[encoded data removed]",
      "text/plain": [
       "<Figure size 432x288 with 1 Axes>"
      ]
     },
     "metadata": {
      "needs_background": "light"
     },
     "output_type": "display_data"
    }
   ],
   "source": [
    "#посмотрим на корреляцию между площадью кухни и ценой\n",
    "plt.scatter(data['kitchen_area'], data['last_price'], s=50, alpha=0.3)\n",
    "print('Корреляция равна:', data['kitchen_area'].corr(data['last_price']))"
   ]
  },
  {
   "cell_type": "markdown",
   "metadata": {},
   "source": [
    "По графику видна что прямая корреляция между данными есть, хотя и не очень сильная."
   ]
  },
  {
   "cell_type": "code",
   "execution_count": 61,
   "metadata": {},
   "outputs": [
    {
     "name": "stdout",
     "output_type": "stream",
     "text": [
      "Корреляция равна: 0.3633428499648948\n"
     ]
    },
    {
     "data": {
      "image/png": "[encoded data removed]",
      "text/plain": [
       "<Figure size 432x288 with 1 Axes>"
      ]
     },
     "metadata": {
      "needs_background": "light"
     },
     "output_type": "display_data"
    }
   ],
   "source": [
    "#посмотрим на корреляцию между количеством комнат и ценой\n",
    "plt.scatter(data['rooms'], data['last_price'], s=50, alpha=0.3)\n",
    "print('Корреляция равна:', data['rooms'].corr(data['last_price']))"
   ]
  },
  {
   "cell_type": "markdown",
   "metadata": {},
   "source": [
    "Корреляции не обнаружено. Построим для этого случая линейный график"
   ]
  },
  {
   "cell_type": "code",
   "execution_count": 56,
   "metadata": {},
   "outputs": [
    {
     "data": {
      "image/png": "[encoded data removed]",
      "text/plain": [
       "<Figure size 432x288 with 1 Axes>"
      ]
     },
     "metadata": {
      "needs_background": "light"
     },
     "output_type": "display_data"
    }
   ],
   "source": [
    "x = data['rooms']\n",
    "y = data['last_price']\n",
    "plt.plot(x, y)\n",
    "plt.show()"
   ]
  },
  {
   "cell_type": "markdown",
   "metadata": {},
   "source": [
    "Линейной зависимости не обнаружено"
   ]
  },
  {
   "cell_type": "code",
   "execution_count": 62,
   "metadata": {
    "scrolled": true
   },
   "outputs": [
    {
     "data": {
      "text/plain": [
       "<matplotlib.collections.PathCollection at 0x7f991336ebb0>"
      ]
     },
     "execution_count": 62,
     "metadata": {},
     "output_type": "execute_result"
    },
    {
     "data": {
      "image/png": "[encoded data removed]",
      "text/plain": [
       "<Figure size 432x288 with 1 Axes>"
      ]
     },
     "metadata": {
      "needs_background": "light"
     },
     "output_type": "display_data"
    }
   ],
   "source": [
    "#посмотрим на корреляцию междутипом этажа и ценой\n",
    "plt.scatter(data['floor_type'], data['last_price'], s=50, alpha=0.3)"
   ]
  },
  {
   "cell_type": "markdown",
   "metadata": {},
   "source": [
    "Корреляции не обнаружено. Построим для этого случая линейный график"
   ]
  },
  {
   "cell_type": "code",
   "execution_count": 57,
   "metadata": {},
   "outputs": [
    {
     "data": {
      "image/png": "[encoded data removed]",
      "text/plain": [
       "<Figure size 432x288 with 1 Axes>"
      ]
     },
     "metadata": {
      "needs_background": "light"
     },
     "output_type": "display_data"
    }
   ],
   "source": [
    "x = data['floor_type']\n",
    "y = data['last_price']\n",
    "plt.plot(x, y)\n",
    "plt.show()"
   ]
  },
  {
   "cell_type": "markdown",
   "metadata": {},
   "source": [
    "Линейной зависимости не обнаружено. На последних этажах цены на квартиры бывают выше, чем на остальных этажах."
   ]
  },
  {
   "cell_type": "code",
   "execution_count": 63,
   "metadata": {},
   "outputs": [
    {
     "name": "stdout",
     "output_type": "stream",
     "text": [
      "Корреляция равна: 0.06546895874432727\n"
     ]
    },
    {
     "data": {
      "image/png": "[encoded data removed]",
      "text/plain": [
       "<Figure size 432x288 with 1 Axes>"
      ]
     },
     "metadata": {
      "needs_background": "light"
     },
     "output_type": "display_data"
    }
   ],
   "source": [
    "#посмотрим на корреляцию между датой размещения и ценой\n",
    "plt.scatter(data['days_exposition'], data['last_price'], s=50, alpha=0.3)\n",
    "print('Корреляция равна:', data['days_exposition'].corr(data['last_price']))"
   ]
  },
  {
   "cell_type": "markdown",
   "metadata": {},
   "source": [
    "Особой зависимости между датой размещения и ценой нет, хотя возможно есть небольшая обратная корреляция"
   ]
  },
  {
   "cell_type": "markdown",
   "metadata": {},
   "source": [
    "Посмотрим, есть ли зависимость цены от года, месяца, дней недели"
   ]
  },
  {
   "cell_type": "code",
   "execution_count": 64,
   "metadata": {},
   "outputs": [
    {
     "name": "stdout",
     "output_type": "stream",
     "text": [
      "Корреляция равна: -0.043089036199508615\n"
     ]
    },
    {
     "data": {
      "image/png": "[encoded data removed]",
      "text/plain": [
       "<Figure size 432x288 with 1 Axes>"
      ]
     },
     "metadata": {
      "needs_background": "light"
     },
     "output_type": "display_data"
    }
   ],
   "source": [
    "#посмотрим на корреляцию между годом размещения и ценой\n",
    "plt.scatter(data['year_exposition'], data['last_price'], s=50, alpha=0.3)\n",
    "print('Корреляция равна:', data['year_exposition'].corr(data['last_price']))"
   ]
  },
  {
   "cell_type": "markdown",
   "metadata": {},
   "source": [
    "Корреляции не обнаружено. Построим для этого случая линейный график"
   ]
  },
  {
   "cell_type": "code",
   "execution_count": 58,
   "metadata": {},
   "outputs": [
    {
     "data": {
      "image/png": "[encoded data removed]",
      "text/plain": [
       "<Figure size 432x288 with 1 Axes>"
      ]
     },
     "metadata": {
      "needs_background": "light"
     },
     "output_type": "display_data"
    }
   ],
   "source": [
    "x = data['year_exposition']\n",
    "y = data['last_price']\n",
    "plt.plot(x, y)\n",
    "plt.show()"
   ]
  },
  {
   "cell_type": "markdown",
   "metadata": {},
   "source": [
    "Линейной зависимости не обнаружено. Но в 2017 году цены на квартиры были самыми высокими"
   ]
  },
  {
   "cell_type": "code",
   "execution_count": 65,
   "metadata": {},
   "outputs": [
    {
     "name": "stdout",
     "output_type": "stream",
     "text": [
      "Корреляция равна: 0.0027791287507397166\n"
     ]
    },
    {
     "data": {
      "image/png": "[encoded data removed]",
      "text/plain": [
       "<Figure size 432x288 with 1 Axes>"
      ]
     },
     "metadata": {
      "needs_background": "light"
     },
     "output_type": "display_data"
    }
   ],
   "source": [
    "#посмотрим на корреляцию между месяцем размещения и ценой\n",
    "plt.scatter(data['month_exposition'], data['last_price'], s=50, alpha=0.3)\n",
    "print('Корреляция равна:', data['month_exposition'].corr(data['last_price']))"
   ]
  },
  {
   "cell_type": "markdown",
   "metadata": {},
   "source": [
    "Корреляции не обнаружено. Построим для этого случая линейный график"
   ]
  },
  {
   "cell_type": "code",
   "execution_count": 59,
   "metadata": {},
   "outputs": [
    {
     "data": {
      "image/png": "[encoded data removed]",
      "text/plain": [
       "<Figure size 432x288 with 1 Axes>"
      ]
     },
     "metadata": {
      "needs_background": "light"
     },
     "output_type": "display_data"
    }
   ],
   "source": [
    "x = data['month_exposition']\n",
    "y = data['last_price']\n",
    "plt.plot(x, y)\n",
    "plt.show()"
   ]
  },
  {
   "cell_type": "markdown",
   "metadata": {},
   "source": [
    "Линейной зависимости не обнаружено"
   ]
  },
  {
   "cell_type": "markdown",
   "metadata": {},
   "source": [
    "Посчитаем среднюю цену одного квадратного метра в 10 населённых пунктах с наибольшим числом объявлений. Выделим населённые пункты с самой высокой и низкой стоимостью квадратного метра"
   ]
  },
  {
   "cell_type": "code",
   "execution_count": 67,
   "metadata": {},
   "outputs": [
    {
     "data": {
      "text/html": [
       "<div>\n",
       "<style scoped>\n",
       "    .dataframe tbody tr th:only-of-type {\n",
       "        vertical-align: middle;\n",
       "    }\n",
       "\n",
       "    .dataframe tbody tr th {\n",
       "        vertical-align: top;\n",
       "    }\n",
       "\n",
       "    .dataframe thead th {\n",
       "        text-align: right;\n",
       "    }\n",
       "</style>\n",
       "<table border=\"1\" class=\"dataframe\">\n",
       "  <thead>\n",
       "    <tr style=\"text-align: right;\">\n",
       "      <th></th>\n",
       "      <th>count_1</th>\n",
       "    </tr>\n",
       "    <tr>\n",
       "      <th>locality_name</th>\n",
       "      <th></th>\n",
       "    </tr>\n",
       "  </thead>\n",
       "  <tbody>\n",
       "    <tr>\n",
       "      <th>Санкт-Петербург</th>\n",
       "      <td>15721</td>\n",
       "    </tr>\n",
       "    <tr>\n",
       "      <th>посёлок Мурино</th>\n",
       "      <td>556</td>\n",
       "    </tr>\n",
       "    <tr>\n",
       "      <th>посёлок Шушары</th>\n",
       "      <td>440</td>\n",
       "    </tr>\n",
       "    <tr>\n",
       "      <th>Всеволожск</th>\n",
       "      <td>398</td>\n",
       "    </tr>\n",
       "    <tr>\n",
       "      <th>Пушкин</th>\n",
       "      <td>369</td>\n",
       "    </tr>\n",
       "    <tr>\n",
       "      <th>Колпино</th>\n",
       "      <td>338</td>\n",
       "    </tr>\n",
       "    <tr>\n",
       "      <th>посёлок Парголово</th>\n",
       "      <td>327</td>\n",
       "    </tr>\n",
       "    <tr>\n",
       "      <th>Гатчина</th>\n",
       "      <td>307</td>\n",
       "    </tr>\n",
       "    <tr>\n",
       "      <th>деревня Кудрово</th>\n",
       "      <td>299</td>\n",
       "    </tr>\n",
       "    <tr>\n",
       "      <th>Выборг</th>\n",
       "      <td>237</td>\n",
       "    </tr>\n",
       "  </tbody>\n",
       "</table>\n",
       "</div>"
      ],
      "text/plain": [
       "                   count_1\n",
       "locality_name             \n",
       "Санкт-Петербург      15721\n",
       "посёлок Мурино         556\n",
       "посёлок Шушары         440\n",
       "Всеволожск             398\n",
       "Пушкин                 369\n",
       "Колпино                338\n",
       "посёлок Парголово      327\n",
       "Гатчина                307\n",
       "деревня Кудрово        299\n",
       "Выборг                 237"
      ]
     },
     "metadata": {},
     "output_type": "display_data"
    }
   ],
   "source": [
    "locality_data = data.pivot_table(index='locality_name', values='cost_1m', aggfunc='count')\n",
    "locality_data.columns = ['count_1']\n",
    "display(locality_data.sort_values(by='count_1', ascending=False).head(10))"
   ]
  },
  {
   "cell_type": "code",
   "execution_count": 69,
   "metadata": {},
   "outputs": [
    {
     "data": {
      "text/html": [
       "<div>\n",
       "<style scoped>\n",
       "    .dataframe tbody tr th:only-of-type {\n",
       "        vertical-align: middle;\n",
       "    }\n",
       "\n",
       "    .dataframe tbody tr th {\n",
       "        vertical-align: top;\n",
       "    }\n",
       "\n",
       "    .dataframe thead th {\n",
       "        text-align: right;\n",
       "    }\n",
       "</style>\n",
       "<table border=\"1\" class=\"dataframe\">\n",
       "  <thead>\n",
       "    <tr style=\"text-align: right;\">\n",
       "      <th></th>\n",
       "      <th>balcony</th>\n",
       "      <th>last_price</th>\n",
       "    </tr>\n",
       "    <tr>\n",
       "      <th>locality_name</th>\n",
       "      <th></th>\n",
       "      <th></th>\n",
       "    </tr>\n",
       "  </thead>\n",
       "  <tbody>\n",
       "    <tr>\n",
       "      <th>Санкт-Петербург</th>\n",
       "      <td>15721</td>\n",
       "      <td>5500000.0</td>\n",
       "    </tr>\n",
       "    <tr>\n",
       "      <th>посёлок Мурино</th>\n",
       "      <td>556</td>\n",
       "      <td>3400000.0</td>\n",
       "    </tr>\n",
       "    <tr>\n",
       "      <th>посёлок Шушары</th>\n",
       "      <td>440</td>\n",
       "      <td>3950000.0</td>\n",
       "    </tr>\n",
       "    <tr>\n",
       "      <th>Всеволожск</th>\n",
       "      <td>398</td>\n",
       "      <td>3450000.0</td>\n",
       "    </tr>\n",
       "    <tr>\n",
       "      <th>Пушкин</th>\n",
       "      <td>369</td>\n",
       "      <td>5180000.0</td>\n",
       "    </tr>\n",
       "    <tr>\n",
       "      <th>Колпино</th>\n",
       "      <td>338</td>\n",
       "      <td>3600000.0</td>\n",
       "    </tr>\n",
       "    <tr>\n",
       "      <th>посёлок Парголово</th>\n",
       "      <td>327</td>\n",
       "      <td>4100000.0</td>\n",
       "    </tr>\n",
       "    <tr>\n",
       "      <th>Гатчина</th>\n",
       "      <td>307</td>\n",
       "      <td>3100000.0</td>\n",
       "    </tr>\n",
       "    <tr>\n",
       "      <th>деревня Кудрово</th>\n",
       "      <td>299</td>\n",
       "      <td>3790000.0</td>\n",
       "    </tr>\n",
       "    <tr>\n",
       "      <th>Выборг</th>\n",
       "      <td>237</td>\n",
       "      <td>2897000.0</td>\n",
       "    </tr>\n",
       "  </tbody>\n",
       "</table>\n",
       "</div>"
      ],
      "text/plain": [
       "                   balcony  last_price\n",
       "locality_name                         \n",
       "Санкт-Петербург      15721   5500000.0\n",
       "посёлок Мурино         556   3400000.0\n",
       "посёлок Шушары         440   3950000.0\n",
       "Всеволожск             398   3450000.0\n",
       "Пушкин                 369   5180000.0\n",
       "Колпино                338   3600000.0\n",
       "посёлок Парголово      327   4100000.0\n",
       "Гатчина                307   3100000.0\n",
       "деревня Кудрово        299   3790000.0\n",
       "Выборг                 237   2897000.0"
      ]
     },
     "execution_count": 69,
     "metadata": {},
     "output_type": "execute_result"
    }
   ],
   "source": [
    "data.groupby('locality_name').agg({'balcony':'count', 'last_price':'median'}) \\\n",
    "    .sort_values(by = 'balcony', ascending = False) \\\n",
    "    .head(10)"
   ]
  },
  {
   "cell_type": "code",
   "execution_count": 74,
   "metadata": {
    "scrolled": true
   },
   "outputs": [
    {
     "data": {
      "text/html": [
       "<div>\n",
       "<style scoped>\n",
       "    .dataframe tbody tr th:only-of-type {\n",
       "        vertical-align: middle;\n",
       "    }\n",
       "\n",
       "    .dataframe tbody tr th {\n",
       "        vertical-align: top;\n",
       "    }\n",
       "\n",
       "    .dataframe thead th {\n",
       "        text-align: right;\n",
       "    }\n",
       "</style>\n",
       "<table border=\"1\" class=\"dataframe\">\n",
       "  <thead>\n",
       "    <tr style=\"text-align: right;\">\n",
       "      <th></th>\n",
       "      <th>cost_1m</th>\n",
       "      <th>last_price</th>\n",
       "    </tr>\n",
       "    <tr>\n",
       "      <th>locality_name</th>\n",
       "      <th></th>\n",
       "      <th></th>\n",
       "    </tr>\n",
       "  </thead>\n",
       "  <tbody>\n",
       "    <tr>\n",
       "      <th>Санкт-Петербург</th>\n",
       "      <td>15721</td>\n",
       "      <td>5500000.0</td>\n",
       "    </tr>\n",
       "    <tr>\n",
       "      <th>посёлок Мурино</th>\n",
       "      <td>556</td>\n",
       "      <td>3400000.0</td>\n",
       "    </tr>\n",
       "    <tr>\n",
       "      <th>посёлок Шушары</th>\n",
       "      <td>440</td>\n",
       "      <td>3950000.0</td>\n",
       "    </tr>\n",
       "    <tr>\n",
       "      <th>Всеволожск</th>\n",
       "      <td>398</td>\n",
       "      <td>3450000.0</td>\n",
       "    </tr>\n",
       "    <tr>\n",
       "      <th>Пушкин</th>\n",
       "      <td>369</td>\n",
       "      <td>5180000.0</td>\n",
       "    </tr>\n",
       "    <tr>\n",
       "      <th>Колпино</th>\n",
       "      <td>338</td>\n",
       "      <td>3600000.0</td>\n",
       "    </tr>\n",
       "    <tr>\n",
       "      <th>посёлок Парголово</th>\n",
       "      <td>327</td>\n",
       "      <td>4100000.0</td>\n",
       "    </tr>\n",
       "    <tr>\n",
       "      <th>Гатчина</th>\n",
       "      <td>307</td>\n",
       "      <td>3100000.0</td>\n",
       "    </tr>\n",
       "    <tr>\n",
       "      <th>деревня Кудрово</th>\n",
       "      <td>299</td>\n",
       "      <td>3790000.0</td>\n",
       "    </tr>\n",
       "    <tr>\n",
       "      <th>Выборг</th>\n",
       "      <td>237</td>\n",
       "      <td>2897000.0</td>\n",
       "    </tr>\n",
       "  </tbody>\n",
       "</table>\n",
       "</div>"
      ],
      "text/plain": [
       "                   cost_1m  last_price\n",
       "locality_name                         \n",
       "Санкт-Петербург      15721   5500000.0\n",
       "посёлок Мурино         556   3400000.0\n",
       "посёлок Шушары         440   3950000.0\n",
       "Всеволожск             398   3450000.0\n",
       "Пушкин                 369   5180000.0\n",
       "Колпино                338   3600000.0\n",
       "посёлок Парголово      327   4100000.0\n",
       "Гатчина                307   3100000.0\n",
       "деревня Кудрово        299   3790000.0\n",
       "Выборг                 237   2897000.0"
      ]
     },
     "execution_count": 74,
     "metadata": {},
     "output_type": "execute_result"
    }
   ],
   "source": [
    "loc_mean = data.groupby('locality_name').agg({'cost_1m':'count', 'last_price':'median'}) \\\n",
    "    .sort_values(by = 'cost_1m', ascending = False) \\\n",
    "    .head(10)\n",
    "loc_mean"
   ]
  },
  {
   "cell_type": "code",
   "execution_count": 75,
   "metadata": {},
   "outputs": [
    {
     "name": "stdout",
     "output_type": "stream",
     "text": [
      "Самая высокая стоимость: 15721\n",
      "Самая низкая стоимость: 237\n"
     ]
    }
   ],
   "source": [
    "print('Самая высокая стоимость:', loc_mean['cost_1m'].max())\n",
    "print('Самая низкая стоимость:', loc_mean['cost_1m'].min())"
   ]
  },
  {
   "cell_type": "markdown",
   "metadata": {},
   "source": [
    "Самая высокая стоимость за 1 кв м - в Петербурге, самая низкая - в одном из удаленных городов ЛО - Выборге."
   ]
  },
  {
   "cell_type": "markdown",
   "metadata": {},
   "source": [
    "Выделим квартиры в Санкт-Петербурге и вычислим среднюю цену каждого километра"
   ]
  },
  {
   "cell_type": "code",
   "execution_count": 79,
   "metadata": {},
   "outputs": [
    {
     "data": {
      "text/html": [
       "<div>\n",
       "<style scoped>\n",
       "    .dataframe tbody tr th:only-of-type {\n",
       "        vertical-align: middle;\n",
       "    }\n",
       "\n",
       "    .dataframe tbody tr th {\n",
       "        vertical-align: top;\n",
       "    }\n",
       "\n",
       "    .dataframe thead th {\n",
       "        text-align: right;\n",
       "    }\n",
       "</style>\n",
       "<table border=\"1\" class=\"dataframe\">\n",
       "  <thead>\n",
       "    <tr style=\"text-align: right;\">\n",
       "      <th></th>\n",
       "      <th>cityCenters_nearest_km</th>\n",
       "      <th>last_price</th>\n",
       "    </tr>\n",
       "  </thead>\n",
       "  <tbody>\n",
       "    <tr>\n",
       "      <th>0</th>\n",
       "      <td>0.0</td>\n",
       "      <td>3.144912e+07</td>\n",
       "    </tr>\n",
       "    <tr>\n",
       "      <th>1</th>\n",
       "      <td>1.0</td>\n",
       "      <td>2.120672e+07</td>\n",
       "    </tr>\n",
       "    <tr>\n",
       "      <th>2</th>\n",
       "      <td>2.0</td>\n",
       "      <td>1.778832e+07</td>\n",
       "    </tr>\n",
       "    <tr>\n",
       "      <th>3</th>\n",
       "      <td>3.0</td>\n",
       "      <td>1.112658e+07</td>\n",
       "    </tr>\n",
       "    <tr>\n",
       "      <th>4</th>\n",
       "      <td>4.0</td>\n",
       "      <td>1.330428e+07</td>\n",
       "    </tr>\n",
       "    <tr>\n",
       "      <th>5</th>\n",
       "      <td>5.0</td>\n",
       "      <td>1.449912e+07</td>\n",
       "    </tr>\n",
       "    <tr>\n",
       "      <th>6</th>\n",
       "      <td>6.0</td>\n",
       "      <td>1.533842e+07</td>\n",
       "    </tr>\n",
       "    <tr>\n",
       "      <th>7</th>\n",
       "      <td>7.0</td>\n",
       "      <td>1.477515e+07</td>\n",
       "    </tr>\n",
       "    <tr>\n",
       "      <th>8</th>\n",
       "      <td>8.0</td>\n",
       "      <td>9.957717e+06</td>\n",
       "    </tr>\n",
       "    <tr>\n",
       "      <th>9</th>\n",
       "      <td>9.0</td>\n",
       "      <td>6.950659e+06</td>\n",
       "    </tr>\n",
       "    <tr>\n",
       "      <th>10</th>\n",
       "      <td>10.0</td>\n",
       "      <td>6.504119e+06</td>\n",
       "    </tr>\n",
       "    <tr>\n",
       "      <th>11</th>\n",
       "      <td>11.0</td>\n",
       "      <td>6.250815e+06</td>\n",
       "    </tr>\n",
       "    <tr>\n",
       "      <th>12</th>\n",
       "      <td>12.0</td>\n",
       "      <td>5.828545e+06</td>\n",
       "    </tr>\n",
       "    <tr>\n",
       "      <th>13</th>\n",
       "      <td>13.0</td>\n",
       "      <td>6.083141e+06</td>\n",
       "    </tr>\n",
       "    <tr>\n",
       "      <th>14</th>\n",
       "      <td>14.0</td>\n",
       "      <td>5.629101e+06</td>\n",
       "    </tr>\n",
       "    <tr>\n",
       "      <th>15</th>\n",
       "      <td>15.0</td>\n",
       "      <td>5.884751e+06</td>\n",
       "    </tr>\n",
       "    <tr>\n",
       "      <th>16</th>\n",
       "      <td>16.0</td>\n",
       "      <td>5.373131e+06</td>\n",
       "    </tr>\n",
       "    <tr>\n",
       "      <th>17</th>\n",
       "      <td>17.0</td>\n",
       "      <td>5.292395e+06</td>\n",
       "    </tr>\n",
       "    <tr>\n",
       "      <th>18</th>\n",
       "      <td>18.0</td>\n",
       "      <td>5.091331e+06</td>\n",
       "    </tr>\n",
       "    <tr>\n",
       "      <th>19</th>\n",
       "      <td>19.0</td>\n",
       "      <td>5.037675e+06</td>\n",
       "    </tr>\n",
       "    <tr>\n",
       "      <th>20</th>\n",
       "      <td>20.0</td>\n",
       "      <td>5.951465e+06</td>\n",
       "    </tr>\n",
       "    <tr>\n",
       "      <th>21</th>\n",
       "      <td>21.0</td>\n",
       "      <td>5.493469e+06</td>\n",
       "    </tr>\n",
       "    <tr>\n",
       "      <th>22</th>\n",
       "      <td>22.0</td>\n",
       "      <td>5.415524e+06</td>\n",
       "    </tr>\n",
       "    <tr>\n",
       "      <th>23</th>\n",
       "      <td>23.0</td>\n",
       "      <td>4.985376e+06</td>\n",
       "    </tr>\n",
       "    <tr>\n",
       "      <th>24</th>\n",
       "      <td>24.0</td>\n",
       "      <td>3.854430e+06</td>\n",
       "    </tr>\n",
       "    <tr>\n",
       "      <th>25</th>\n",
       "      <td>25.0</td>\n",
       "      <td>4.052840e+06</td>\n",
       "    </tr>\n",
       "    <tr>\n",
       "      <th>26</th>\n",
       "      <td>26.0</td>\n",
       "      <td>3.973013e+06</td>\n",
       "    </tr>\n",
       "    <tr>\n",
       "      <th>27</th>\n",
       "      <td>27.0</td>\n",
       "      <td>8.300000e+06</td>\n",
       "    </tr>\n",
       "    <tr>\n",
       "      <th>28</th>\n",
       "      <td>28.0</td>\n",
       "      <td>5.026429e+06</td>\n",
       "    </tr>\n",
       "    <tr>\n",
       "      <th>29</th>\n",
       "      <td>29.0</td>\n",
       "      <td>4.236667e+06</td>\n",
       "    </tr>\n",
       "  </tbody>\n",
       "</table>\n",
       "</div>"
      ],
      "text/plain": [
       "    cityCenters_nearest_km    last_price\n",
       "0                      0.0  3.144912e+07\n",
       "1                      1.0  2.120672e+07\n",
       "2                      2.0  1.778832e+07\n",
       "3                      3.0  1.112658e+07\n",
       "4                      4.0  1.330428e+07\n",
       "5                      5.0  1.449912e+07\n",
       "6                      6.0  1.533842e+07\n",
       "7                      7.0  1.477515e+07\n",
       "8                      8.0  9.957717e+06\n",
       "9                      9.0  6.950659e+06\n",
       "10                    10.0  6.504119e+06\n",
       "11                    11.0  6.250815e+06\n",
       "12                    12.0  5.828545e+06\n",
       "13                    13.0  6.083141e+06\n",
       "14                    14.0  5.629101e+06\n",
       "15                    15.0  5.884751e+06\n",
       "16                    16.0  5.373131e+06\n",
       "17                    17.0  5.292395e+06\n",
       "18                    18.0  5.091331e+06\n",
       "19                    19.0  5.037675e+06\n",
       "20                    20.0  5.951465e+06\n",
       "21                    21.0  5.493469e+06\n",
       "22                    22.0  5.415524e+06\n",
       "23                    23.0  4.985376e+06\n",
       "24                    24.0  3.854430e+06\n",
       "25                    25.0  4.052840e+06\n",
       "26                    26.0  3.973013e+06\n",
       "27                    27.0  8.300000e+06\n",
       "28                    28.0  5.026429e+06\n",
       "29                    29.0  4.236667e+06"
      ]
     },
     "metadata": {},
     "output_type": "display_data"
    }
   ],
   "source": [
    "spb_cost_1km = data.query('locality_name == \"Санкт-Петербург\"').pivot_table(index='cityCenters_nearest_km',\n",
    "                                                                           values='last_price',\n",
    "                                                                            aggfunc='mean')\n",
    "spb_cost_1km = spb_cost_1km.reset_index()\n",
    "display(spb_cost_1km)"
   ]
  },
  {
   "cell_type": "code",
   "execution_count": 82,
   "metadata": {},
   "outputs": [
    {
     "data": {
      "image/png": "[encoded data removed]",
      "text/plain": [
       "<Figure size 432x288 with 1 Axes>"
      ]
     },
     "metadata": {
      "needs_background": "light"
     },
     "output_type": "display_data"
    }
   ],
   "source": [
    "x = spb_cost_1km['cityCenters_nearest_km'] \n",
    "y =  spb_cost_1km['last_price']\n",
    "plt.plot(x, y)\n",
    "plt.show()"
   ]
  },
  {
   "cell_type": "markdown",
   "metadata": {},
   "source": [
    "Цены на квартире ожидаемо оказались самыми высокими в центре города. По мере удаленности от центра цены становятся ниже. Есть небольшой пик в районе 30-километровой удаленности, возможно там есть застройка элитного жилья. "
   ]
  },
  {
   "cell_type": "markdown",
   "metadata": {},
   "source": [
    "### Общий вывод"
   ]
  },
  {
   "cell_type": "markdown",
   "metadata": {},
   "source": [
    "Что было сделано в проекте:\n",
    "1. Изучены общие данные: что есть в сводной таблице, какой тип данных к кадом столбце, где есть пропуски и как они влияют на все данные в целом.\n",
    "2. Там, где это возможно данные почищены - какие-то данные заменили медианным значением, где-то просто удалены пропуски, если эти данные не влияли на общую картину, где-то округлены цифры для более удобного дальнейшего подсчета, где-то заменены типы данных, устранены неявные дубликаты в названиях населенных пунктов.\n",
    "3. Для того, чтобы собрать более полный анализ были добавлены новые столбцы в таблицу, такие как цена за 1 кв м, день, месяц и год публикации, тип этажа квартиры и расстояние до центра в км.\n",
    "4. Далее был проведен исследовательский анализ данных: были построены гистограммы, сделаны по ним выводы, с помощью графиков scatterplot и линейных диаграмм изучено влияние различных параметров квартир на их стоимость. \n",
    "\n",
    "По результатам исследования можно сделать такие выводы:\n",
    "    1. В среднем общая площадь квартир составляет 40-45 кв м\n",
    "    2. Жилая площадь квартир - 20 кв м, площадь кухонь - 8 кв м\n",
    "    3. Медианное значение конечной стоимости квартир - 4 млн рублей\n",
    "    4. Наиболее часто встречаются в продаже 1-2 - комнатные квартиры\n",
    "    5. Высота потолков - 2,6 м\n",
    "    6. Больше всего квартир продается не на первом и последнем этажах, а на третьем-четвертом.\n",
    "    7. Больше всего квартир продается в 5-этажных домах\n",
    "    8. В основном удаленность от центра составляет 12 км, от аэропорта - 26 км, а от ближайшего парка - 500 м\n",
    "    9. Больше всего публикаций о продаже квартир было сделано в феврале-марте, по дням недели - во вторник и четверг\n",
    "    10. Обычно квартиры продаются около 95 дней (3 месяцев), но есть и немало значений, превышающих это значение, даже более 1000 дней. Пик продаж приходится на 45, 60 и 90ый дни после размещения объявления. \n",
    "\n",
    "Есть небольшая прямая корреляция между общей площадью, жилой площадью и площадью кухни и конечной стоимостью квартир. \n",
    "Корреляции между количеством комнат и стоимость квартиры не обнаружено.\n",
    "Наибольшая стоимость 1 кв м в самом СПб, эта стоимость уменьшается по мере удаления от центра. При этом есть небольшое повышение стоимости в районе 30 км удаления от центра. Наименьшая стоимость - в Выборге. \n"
   ]
  }
 ],
 "metadata": {
  "ExecuteTimeLog": [
   {
    "duration": 568,
    "start_time": "2022-09-06T20:17:46.302Z"
   },
   {
    "duration": 100,
    "start_time": "2022-09-06T20:35:58.080Z"
   },
   {
    "duration": 127,
    "start_time": "2022-09-06T20:40:34.434Z"
   },
   {
    "duration": 164,
    "start_time": "2022-09-06T20:51:12.016Z"
   },
   {
    "duration": 211,
    "start_time": "2022-09-06T20:52:20.469Z"
   },
   {
    "duration": 1055,
    "start_time": "2022-09-06T20:52:31.705Z"
   },
   {
    "duration": 2879,
    "start_time": "2022-09-06T20:52:59.272Z"
   },
   {
    "duration": 11,
    "start_time": "2022-09-06T21:22:57.699Z"
   },
   {
    "duration": 48,
    "start_time": "2022-09-07T07:51:06.556Z"
   },
   {
    "duration": 3004,
    "start_time": "2022-09-07T07:51:15.762Z"
   },
   {
    "duration": 10,
    "start_time": "2022-09-07T07:51:18.769Z"
   },
   {
    "duration": 29,
    "start_time": "2022-09-07T07:51:18.781Z"
   },
   {
    "duration": 1951,
    "start_time": "2022-09-07T17:53:00.991Z"
   },
   {
    "duration": 4,
    "start_time": "2022-09-07T17:54:45.139Z"
   },
   {
    "duration": 47,
    "start_time": "2022-09-07T17:54:57.697Z"
   },
   {
    "duration": 15,
    "start_time": "2022-09-07T17:55:16.937Z"
   },
   {
    "duration": 17,
    "start_time": "2022-09-07T19:22:03.293Z"
   },
   {
    "duration": 5,
    "start_time": "2022-09-07T20:08:22.256Z"
   },
   {
    "duration": 12,
    "start_time": "2022-09-07T20:28:19.313Z"
   },
   {
    "duration": 5,
    "start_time": "2022-09-07T20:28:44.825Z"
   },
   {
    "duration": 5,
    "start_time": "2022-09-07T20:35:18.303Z"
   },
   {
    "duration": 3,
    "start_time": "2022-09-07T20:50:57.950Z"
   },
   {
    "duration": 1953,
    "start_time": "2022-09-07T20:59:18.235Z"
   },
   {
    "duration": 5,
    "start_time": "2022-09-07T21:08:18.988Z"
   },
   {
    "duration": 1856,
    "start_time": "2022-09-07T21:09:48.793Z"
   },
   {
    "duration": 1900,
    "start_time": "2022-09-07T21:10:17.830Z"
   },
   {
    "duration": 5,
    "start_time": "2022-09-07T21:15:02.055Z"
   },
   {
    "duration": 6,
    "start_time": "2022-09-07T21:15:22.096Z"
   },
   {
    "duration": 5,
    "start_time": "2022-09-07T21:15:36.181Z"
   },
   {
    "duration": 4,
    "start_time": "2022-09-07T21:28:31.876Z"
   },
   {
    "duration": 5,
    "start_time": "2022-09-07T21:29:02.418Z"
   },
   {
    "duration": 3,
    "start_time": "2022-09-07T21:29:13.461Z"
   },
   {
    "duration": 39,
    "start_time": "2022-09-07T21:49:02.344Z"
   },
   {
    "duration": 1974,
    "start_time": "2022-09-07T21:49:32.243Z"
   },
   {
    "duration": 8,
    "start_time": "2022-09-07T21:49:34.219Z"
   },
   {
    "duration": 50,
    "start_time": "2022-09-07T21:49:34.228Z"
   },
   {
    "duration": 0,
    "start_time": "2022-09-07T21:49:34.280Z"
   },
   {
    "duration": 0,
    "start_time": "2022-09-07T21:49:34.281Z"
   },
   {
    "duration": 0,
    "start_time": "2022-09-07T21:49:34.282Z"
   },
   {
    "duration": 0,
    "start_time": "2022-09-07T21:49:34.283Z"
   },
   {
    "duration": 0,
    "start_time": "2022-09-07T21:49:34.284Z"
   },
   {
    "duration": 46,
    "start_time": "2022-09-07T21:50:25.957Z"
   },
   {
    "duration": 1777,
    "start_time": "2022-09-07T21:50:50.927Z"
   },
   {
    "duration": 9,
    "start_time": "2022-09-07T21:50:52.709Z"
   },
   {
    "duration": 40,
    "start_time": "2022-09-07T21:50:52.720Z"
   },
   {
    "duration": 0,
    "start_time": "2022-09-07T21:50:52.762Z"
   },
   {
    "duration": 0,
    "start_time": "2022-09-07T21:50:52.763Z"
   },
   {
    "duration": 0,
    "start_time": "2022-09-07T21:50:52.764Z"
   },
   {
    "duration": 0,
    "start_time": "2022-09-07T21:50:52.765Z"
   },
   {
    "duration": 0,
    "start_time": "2022-09-07T21:50:52.766Z"
   },
   {
    "duration": 2013,
    "start_time": "2022-09-07T21:52:53.400Z"
   },
   {
    "duration": 9,
    "start_time": "2022-09-07T21:52:55.415Z"
   },
   {
    "duration": 11,
    "start_time": "2022-09-07T21:52:55.425Z"
   },
   {
    "duration": 6,
    "start_time": "2022-09-07T21:52:55.438Z"
   },
   {
    "duration": 12,
    "start_time": "2022-09-07T21:52:55.445Z"
   },
   {
    "duration": 8,
    "start_time": "2022-09-07T21:52:55.459Z"
   },
   {
    "duration": 8,
    "start_time": "2022-09-07T21:52:55.468Z"
   },
   {
    "duration": 37,
    "start_time": "2022-09-07T21:53:29.465Z"
   },
   {
    "duration": 4,
    "start_time": "2022-09-07T21:56:08.241Z"
   },
   {
    "duration": 12,
    "start_time": "2022-09-07T21:56:13.881Z"
   },
   {
    "duration": 7,
    "start_time": "2022-09-07T22:00:45.524Z"
   },
   {
    "duration": 7,
    "start_time": "2022-09-07T22:01:11.153Z"
   },
   {
    "duration": 28,
    "start_time": "2022-09-07T22:01:55.980Z"
   },
   {
    "duration": 7,
    "start_time": "2022-09-07T22:02:40.260Z"
   },
   {
    "duration": 6,
    "start_time": "2022-09-07T22:03:32.995Z"
   },
   {
    "duration": 20,
    "start_time": "2022-09-07T22:04:36.741Z"
   },
   {
    "duration": 4,
    "start_time": "2022-09-07T22:05:29.988Z"
   },
   {
    "duration": 42,
    "start_time": "2022-09-08T21:07:24.039Z"
   },
   {
    "duration": 2550,
    "start_time": "2022-09-08T21:07:33.503Z"
   },
   {
    "duration": 9,
    "start_time": "2022-09-08T21:07:36.055Z"
   },
   {
    "duration": 10,
    "start_time": "2022-09-08T21:07:36.066Z"
   },
   {
    "duration": 5,
    "start_time": "2022-09-08T21:07:36.077Z"
   },
   {
    "duration": 6,
    "start_time": "2022-09-08T21:07:36.083Z"
   },
   {
    "duration": 7,
    "start_time": "2022-09-08T21:07:36.091Z"
   },
   {
    "duration": 6,
    "start_time": "2022-09-08T21:07:36.099Z"
   },
   {
    "duration": 5,
    "start_time": "2022-09-08T21:07:39.416Z"
   },
   {
    "duration": 48,
    "start_time": "2022-09-08T21:07:49.178Z"
   },
   {
    "duration": 63,
    "start_time": "2022-09-08T21:08:03.001Z"
   },
   {
    "duration": 6,
    "start_time": "2022-09-08T21:08:29.913Z"
   },
   {
    "duration": 20,
    "start_time": "2022-09-08T21:08:50.361Z"
   },
   {
    "duration": 7,
    "start_time": "2022-09-08T21:34:36.290Z"
   },
   {
    "duration": 6,
    "start_time": "2022-09-08T21:59:56.065Z"
   },
   {
    "duration": 6,
    "start_time": "2022-09-08T22:00:25.308Z"
   },
   {
    "duration": 7,
    "start_time": "2022-09-08T22:02:18.153Z"
   },
   {
    "duration": 7,
    "start_time": "2022-09-08T22:21:46.692Z"
   },
   {
    "duration": 34,
    "start_time": "2022-09-08T22:24:51.787Z"
   },
   {
    "duration": 7,
    "start_time": "2022-09-08T22:28:07.129Z"
   },
   {
    "duration": 33,
    "start_time": "2022-09-08T22:28:12.322Z"
   },
   {
    "duration": 8,
    "start_time": "2022-09-08T22:30:14.707Z"
   },
   {
    "duration": 9,
    "start_time": "2022-09-08T22:40:31.008Z"
   },
   {
    "duration": 10,
    "start_time": "2022-09-08T22:48:57.771Z"
   },
   {
    "duration": 1289,
    "start_time": "2022-09-10T08:57:24.421Z"
   },
   {
    "duration": 2152,
    "start_time": "2022-09-10T08:57:29.676Z"
   },
   {
    "duration": 2045,
    "start_time": "2022-09-10T08:59:09.277Z"
   },
   {
    "duration": 1982,
    "start_time": "2022-09-10T09:01:26.302Z"
   },
   {
    "duration": 2148,
    "start_time": "2022-09-10T09:05:46.265Z"
   },
   {
    "duration": 2466,
    "start_time": "2022-09-10T09:06:34.698Z"
   },
   {
    "duration": 9,
    "start_time": "2022-09-10T09:10:31.724Z"
   },
   {
    "duration": 11,
    "start_time": "2022-09-10T09:21:36.338Z"
   },
   {
    "duration": 6,
    "start_time": "2022-09-10T09:29:25.854Z"
   },
   {
    "duration": 797,
    "start_time": "2022-09-10T09:49:33.629Z"
   },
   {
    "duration": 9,
    "start_time": "2022-09-10T09:52:04.334Z"
   },
   {
    "duration": 9,
    "start_time": "2022-09-10T09:52:42.377Z"
   },
   {
    "duration": 10,
    "start_time": "2022-09-10T09:53:49.211Z"
   },
   {
    "duration": 8,
    "start_time": "2022-09-10T09:54:11.677Z"
   },
   {
    "duration": 15,
    "start_time": "2022-09-10T10:13:23.859Z"
   },
   {
    "duration": 4,
    "start_time": "2022-09-10T10:14:16.115Z"
   },
   {
    "duration": 5,
    "start_time": "2022-09-10T10:14:28.939Z"
   },
   {
    "duration": 17,
    "start_time": "2022-09-10T10:19:14.441Z"
   },
   {
    "duration": 21,
    "start_time": "2022-09-10T10:19:38.241Z"
   },
   {
    "duration": 6,
    "start_time": "2022-09-10T10:19:57.106Z"
   },
   {
    "duration": 6,
    "start_time": "2022-09-10T10:20:11.232Z"
   },
   {
    "duration": 20,
    "start_time": "2022-09-10T10:24:41.493Z"
   },
   {
    "duration": 18,
    "start_time": "2022-09-10T10:24:51.430Z"
   },
   {
    "duration": 9,
    "start_time": "2022-09-10T10:25:48.825Z"
   },
   {
    "duration": 18,
    "start_time": "2022-09-10T10:25:56.401Z"
   },
   {
    "duration": 1250,
    "start_time": "2022-09-15T20:49:27.240Z"
   },
   {
    "duration": 1962,
    "start_time": "2022-09-15T20:49:28.491Z"
   },
   {
    "duration": 8,
    "start_time": "2022-09-15T20:49:30.454Z"
   },
   {
    "duration": 23,
    "start_time": "2022-09-15T20:49:30.464Z"
   },
   {
    "duration": 17,
    "start_time": "2022-09-15T20:49:30.488Z"
   },
   {
    "duration": 18,
    "start_time": "2022-09-15T20:49:30.506Z"
   },
   {
    "duration": 11,
    "start_time": "2022-09-15T20:49:30.525Z"
   },
   {
    "duration": 15,
    "start_time": "2022-09-15T20:49:30.538Z"
   },
   {
    "duration": 113,
    "start_time": "2022-09-15T20:49:30.554Z"
   },
   {
    "duration": 31,
    "start_time": "2022-09-15T20:49:30.669Z"
   },
   {
    "duration": 17,
    "start_time": "2022-09-15T20:49:33.104Z"
   },
   {
    "duration": 104,
    "start_time": "2022-09-15T21:09:43.943Z"
   },
   {
    "duration": 14,
    "start_time": "2022-09-15T21:11:22.584Z"
   },
   {
    "duration": 233,
    "start_time": "2022-09-15T21:11:32.252Z"
   },
   {
    "duration": 122,
    "start_time": "2022-09-15T21:15:56.151Z"
   },
   {
    "duration": 3,
    "start_time": "2022-09-15T22:05:57.441Z"
   },
   {
    "duration": 15,
    "start_time": "2022-09-15T22:10:45.041Z"
   },
   {
    "duration": 4,
    "start_time": "2022-09-15T22:11:46.797Z"
   },
   {
    "duration": 15,
    "start_time": "2022-09-15T22:11:49.161Z"
   },
   {
    "duration": 4,
    "start_time": "2022-09-15T22:12:58.106Z"
   },
   {
    "duration": 106,
    "start_time": "2022-09-15T22:13:00.015Z"
   },
   {
    "duration": 103,
    "start_time": "2022-09-15T22:14:39.194Z"
   },
   {
    "duration": 103,
    "start_time": "2022-09-15T22:17:08.172Z"
   },
   {
    "duration": 127,
    "start_time": "2022-09-15T22:21:52.108Z"
   },
   {
    "duration": 98,
    "start_time": "2022-09-15T22:28:21.858Z"
   },
   {
    "duration": 78,
    "start_time": "2022-09-15T22:31:38.325Z"
   },
   {
    "duration": 75,
    "start_time": "2022-09-15T22:31:48.146Z"
   },
   {
    "duration": 72,
    "start_time": "2022-09-15T22:31:55.139Z"
   },
   {
    "duration": 53,
    "start_time": "2022-09-15T22:33:08.069Z"
   },
   {
    "duration": 131,
    "start_time": "2022-09-15T22:35:37.605Z"
   },
   {
    "duration": 111,
    "start_time": "2022-09-15T22:39:02.408Z"
   },
   {
    "duration": 120,
    "start_time": "2022-09-15T22:42:24.764Z"
   },
   {
    "duration": 131,
    "start_time": "2022-09-15T22:45:02.710Z"
   },
   {
    "duration": 164,
    "start_time": "2022-09-15T22:45:51.265Z"
   },
   {
    "duration": 107,
    "start_time": "2022-09-15T22:46:16.458Z"
   },
   {
    "duration": 75,
    "start_time": "2022-09-15T22:47:01.999Z"
   },
   {
    "duration": 85,
    "start_time": "2022-09-15T22:47:12.913Z"
   },
   {
    "duration": 75,
    "start_time": "2022-09-15T22:47:27.066Z"
   },
   {
    "duration": 74,
    "start_time": "2022-09-15T22:47:33.048Z"
   },
   {
    "duration": 383,
    "start_time": "2022-09-15T22:48:00.535Z"
   },
   {
    "duration": 110,
    "start_time": "2022-09-15T22:48:30.661Z"
   },
   {
    "duration": 104,
    "start_time": "2022-09-15T22:48:56.478Z"
   },
   {
    "duration": 1320,
    "start_time": "2022-09-19T20:19:53.801Z"
   },
   {
    "duration": 2106,
    "start_time": "2022-09-19T20:19:55.123Z"
   },
   {
    "duration": 10,
    "start_time": "2022-09-19T20:19:57.231Z"
   },
   {
    "duration": 10,
    "start_time": "2022-09-19T20:19:57.244Z"
   },
   {
    "duration": 5,
    "start_time": "2022-09-19T20:19:57.256Z"
   },
   {
    "duration": 27,
    "start_time": "2022-09-19T20:19:57.263Z"
   },
   {
    "duration": 4,
    "start_time": "2022-09-19T20:19:57.292Z"
   },
   {
    "duration": 6,
    "start_time": "2022-09-19T20:19:57.297Z"
   },
   {
    "duration": 119,
    "start_time": "2022-09-19T20:19:57.304Z"
   },
   {
    "duration": 21,
    "start_time": "2022-09-19T20:19:57.427Z"
   },
   {
    "duration": 19,
    "start_time": "2022-09-19T20:19:57.449Z"
   },
   {
    "duration": 285,
    "start_time": "2022-09-19T20:19:57.470Z"
   },
   {
    "duration": 149,
    "start_time": "2022-09-19T20:19:57.757Z"
   },
   {
    "duration": 3,
    "start_time": "2022-09-19T20:20:03.954Z"
   },
   {
    "duration": 125,
    "start_time": "2022-09-19T20:20:08.420Z"
   },
   {
    "duration": 121,
    "start_time": "2022-09-19T20:20:15.542Z"
   },
   {
    "duration": 118,
    "start_time": "2022-09-19T20:20:22.412Z"
   },
   {
    "duration": 162,
    "start_time": "2022-09-19T20:20:30.772Z"
   },
   {
    "duration": 87,
    "start_time": "2022-09-19T20:20:35.173Z"
   },
   {
    "duration": 82,
    "start_time": "2022-09-19T20:20:43.136Z"
   },
   {
    "duration": 82,
    "start_time": "2022-09-19T20:20:45.844Z"
   },
   {
    "duration": 116,
    "start_time": "2022-09-19T20:21:09.143Z"
   },
   {
    "duration": 143,
    "start_time": "2022-09-19T20:21:12.254Z"
   },
   {
    "duration": 127,
    "start_time": "2022-09-19T20:21:20.485Z"
   },
   {
    "duration": 138,
    "start_time": "2022-09-19T20:21:23.485Z"
   },
   {
    "duration": 121,
    "start_time": "2022-09-19T20:21:26.062Z"
   },
   {
    "duration": 202,
    "start_time": "2022-09-19T20:21:29.197Z"
   },
   {
    "duration": 115,
    "start_time": "2022-09-19T20:21:33.727Z"
   },
   {
    "duration": 6,
    "start_time": "2022-09-19T21:19:25.797Z"
   },
   {
    "duration": 211,
    "start_time": "2022-09-19T21:38:06.070Z"
   },
   {
    "duration": 5,
    "start_time": "2022-09-19T21:45:58.951Z"
   },
   {
    "duration": 4,
    "start_time": "2022-09-19T21:48:25.100Z"
   },
   {
    "duration": 536,
    "start_time": "2022-09-19T21:57:26.352Z"
   },
   {
    "duration": 221,
    "start_time": "2022-09-19T21:58:50.584Z"
   },
   {
    "duration": 4,
    "start_time": "2022-09-19T21:58:53.007Z"
   },
   {
    "duration": 61,
    "start_time": "2022-09-20T21:08:39.135Z"
   },
   {
    "duration": 12,
    "start_time": "2022-09-20T21:08:55.876Z"
   },
   {
    "duration": 1604,
    "start_time": "2022-09-20T21:09:00.471Z"
   },
   {
    "duration": 2791,
    "start_time": "2022-09-20T21:09:02.078Z"
   },
   {
    "duration": 11,
    "start_time": "2022-09-20T21:09:04.873Z"
   },
   {
    "duration": 15,
    "start_time": "2022-09-20T21:09:04.887Z"
   },
   {
    "duration": 9,
    "start_time": "2022-09-20T21:09:04.904Z"
   },
   {
    "duration": 13,
    "start_time": "2022-09-20T21:09:04.915Z"
   },
   {
    "duration": 4,
    "start_time": "2022-09-20T21:09:04.930Z"
   },
   {
    "duration": 8,
    "start_time": "2022-09-20T21:09:04.989Z"
   },
   {
    "duration": 8,
    "start_time": "2022-09-20T21:09:09.490Z"
   },
   {
    "duration": 43,
    "start_time": "2022-09-20T21:09:09.500Z"
   },
   {
    "duration": 172,
    "start_time": "2022-09-20T21:09:09.544Z"
   },
   {
    "duration": 18,
    "start_time": "2022-09-20T21:09:09.717Z"
   },
   {
    "duration": 315,
    "start_time": "2022-09-20T21:09:09.737Z"
   },
   {
    "duration": 155,
    "start_time": "2022-09-20T21:09:10.054Z"
   },
   {
    "duration": 4,
    "start_time": "2022-09-20T21:09:10.211Z"
   },
   {
    "duration": 233,
    "start_time": "2022-09-20T21:09:10.216Z"
   },
   {
    "duration": 145,
    "start_time": "2022-09-20T21:09:10.460Z"
   },
   {
    "duration": 179,
    "start_time": "2022-09-20T21:09:10.606Z"
   },
   {
    "duration": 158,
    "start_time": "2022-09-20T21:09:10.788Z"
   },
   {
    "duration": 120,
    "start_time": "2022-09-20T21:09:10.948Z"
   },
   {
    "duration": 57,
    "start_time": "2022-09-20T21:09:11.070Z"
   },
   {
    "duration": 0,
    "start_time": "2022-09-20T21:09:11.129Z"
   },
   {
    "duration": 0,
    "start_time": "2022-09-20T21:09:11.132Z"
   },
   {
    "duration": 0,
    "start_time": "2022-09-20T21:09:11.133Z"
   },
   {
    "duration": 0,
    "start_time": "2022-09-20T21:09:11.134Z"
   },
   {
    "duration": 0,
    "start_time": "2022-09-20T21:09:11.136Z"
   },
   {
    "duration": 0,
    "start_time": "2022-09-20T21:09:11.137Z"
   },
   {
    "duration": 0,
    "start_time": "2022-09-20T21:09:11.139Z"
   },
   {
    "duration": 1,
    "start_time": "2022-09-20T21:09:11.141Z"
   },
   {
    "duration": 1,
    "start_time": "2022-09-20T21:09:11.143Z"
   },
   {
    "duration": 0,
    "start_time": "2022-09-20T21:09:11.146Z"
   },
   {
    "duration": 0,
    "start_time": "2022-09-20T21:09:11.147Z"
   },
   {
    "duration": 0,
    "start_time": "2022-09-20T21:09:11.149Z"
   },
   {
    "duration": 0,
    "start_time": "2022-09-20T21:09:11.150Z"
   },
   {
    "duration": 139,
    "start_time": "2022-09-20T21:09:36.145Z"
   },
   {
    "duration": 188,
    "start_time": "2022-09-20T21:09:39.153Z"
   },
   {
    "duration": 145,
    "start_time": "2022-09-20T21:09:42.208Z"
   },
   {
    "duration": 183,
    "start_time": "2022-09-20T21:09:45.270Z"
   },
   {
    "duration": 163,
    "start_time": "2022-09-20T21:09:47.906Z"
   },
   {
    "duration": 192,
    "start_time": "2022-09-20T21:09:50.697Z"
   },
   {
    "duration": 189,
    "start_time": "2022-09-20T21:09:53.497Z"
   },
   {
    "duration": 22,
    "start_time": "2022-09-20T21:10:03.650Z"
   },
   {
    "duration": 8,
    "start_time": "2022-09-20T21:10:05.812Z"
   },
   {
    "duration": 352,
    "start_time": "2022-09-20T21:10:08.689Z"
   },
   {
    "duration": 9,
    "start_time": "2022-09-20T21:10:11.774Z"
   },
   {
    "duration": 331,
    "start_time": "2022-09-20T21:10:13.870Z"
   },
   {
    "duration": 4,
    "start_time": "2022-09-20T21:30:50.035Z"
   },
   {
    "duration": 79,
    "start_time": "2022-09-20T21:38:27.501Z"
   },
   {
    "duration": 4,
    "start_time": "2022-09-20T21:38:55.677Z"
   },
   {
    "duration": 167,
    "start_time": "2022-09-20T21:47:17.880Z"
   },
   {
    "duration": 170,
    "start_time": "2022-09-20T21:49:57.514Z"
   },
   {
    "duration": 210,
    "start_time": "2022-09-20T21:50:10.882Z"
   },
   {
    "duration": 210,
    "start_time": "2022-09-20T21:50:19.884Z"
   },
   {
    "duration": 174,
    "start_time": "2022-09-20T21:50:27.322Z"
   },
   {
    "duration": 354,
    "start_time": "2022-09-20T21:51:01.626Z"
   },
   {
    "duration": 186,
    "start_time": "2022-09-20T21:51:15.187Z"
   },
   {
    "duration": 167,
    "start_time": "2022-09-20T21:51:45.881Z"
   },
   {
    "duration": 147,
    "start_time": "2022-09-20T21:53:55.483Z"
   },
   {
    "duration": 170,
    "start_time": "2022-09-20T21:56:57.501Z"
   },
   {
    "duration": 197,
    "start_time": "2022-09-20T21:57:29.318Z"
   },
   {
    "duration": 199,
    "start_time": "2022-09-20T21:58:52.303Z"
   },
   {
    "duration": 187,
    "start_time": "2022-09-20T21:59:03.685Z"
   },
   {
    "duration": 211,
    "start_time": "2022-09-20T21:59:10.308Z"
   },
   {
    "duration": 196,
    "start_time": "2022-09-20T21:59:18.221Z"
   },
   {
    "duration": 177,
    "start_time": "2022-09-20T21:59:23.701Z"
   },
   {
    "duration": 184,
    "start_time": "2022-09-20T21:59:32.791Z"
   },
   {
    "duration": 329,
    "start_time": "2022-09-20T21:59:51.721Z"
   },
   {
    "duration": 186,
    "start_time": "2022-09-20T22:00:35.349Z"
   },
   {
    "duration": 187,
    "start_time": "2022-09-20T22:00:51.966Z"
   },
   {
    "duration": 171,
    "start_time": "2022-09-20T22:01:12.581Z"
   },
   {
    "duration": 186,
    "start_time": "2022-09-20T22:01:26.397Z"
   },
   {
    "duration": 203,
    "start_time": "2022-09-20T22:02:19.174Z"
   },
   {
    "duration": 164,
    "start_time": "2022-09-20T22:02:27.374Z"
   },
   {
    "duration": 158,
    "start_time": "2022-09-20T22:02:52.414Z"
   },
   {
    "duration": 152,
    "start_time": "2022-09-20T22:03:02.268Z"
   },
   {
    "duration": 141,
    "start_time": "2022-09-20T22:05:52.403Z"
   },
   {
    "duration": 137,
    "start_time": "2022-09-20T22:06:06.506Z"
   },
   {
    "duration": 303,
    "start_time": "2022-09-20T22:06:14.473Z"
   },
   {
    "duration": 224,
    "start_time": "2022-09-20T22:06:21.441Z"
   },
   {
    "duration": 158,
    "start_time": "2022-09-20T22:13:59.042Z"
   },
   {
    "duration": 173,
    "start_time": "2022-09-20T22:16:46.849Z"
   },
   {
    "duration": 151,
    "start_time": "2022-09-20T22:16:57.686Z"
   },
   {
    "duration": 162,
    "start_time": "2022-09-20T22:17:08.167Z"
   },
   {
    "duration": 145,
    "start_time": "2022-09-20T22:19:52.792Z"
   },
   {
    "duration": 152,
    "start_time": "2022-09-20T22:20:06.039Z"
   },
   {
    "duration": 152,
    "start_time": "2022-09-20T22:20:15.983Z"
   },
   {
    "duration": 136,
    "start_time": "2022-09-20T22:20:22.533Z"
   },
   {
    "duration": 160,
    "start_time": "2022-09-20T22:24:25.946Z"
   },
   {
    "duration": 358,
    "start_time": "2022-09-20T22:26:08.270Z"
   },
   {
    "duration": 162,
    "start_time": "2022-09-20T22:26:15.314Z"
   },
   {
    "duration": 171,
    "start_time": "2022-09-20T22:30:28.150Z"
   },
   {
    "duration": 186,
    "start_time": "2022-09-20T22:30:50.982Z"
   },
   {
    "duration": 178,
    "start_time": "2022-09-20T22:32:54.209Z"
   },
   {
    "duration": 9,
    "start_time": "2022-09-20T22:35:00.943Z"
   },
   {
    "duration": 188,
    "start_time": "2022-09-20T22:35:10.199Z"
   },
   {
    "duration": 231,
    "start_time": "2022-09-20T22:36:20.014Z"
   },
   {
    "duration": 50,
    "start_time": "2022-09-20T22:37:25.721Z"
   },
   {
    "duration": 159,
    "start_time": "2022-09-20T22:37:36.808Z"
   },
   {
    "duration": 64,
    "start_time": "2022-09-20T22:38:39.841Z"
   },
   {
    "duration": 187,
    "start_time": "2022-09-20T22:45:13.850Z"
   },
   {
    "duration": 201,
    "start_time": "2022-09-20T22:48:03.948Z"
   },
   {
    "duration": 187,
    "start_time": "2022-09-20T22:48:19.389Z"
   },
   {
    "duration": 45,
    "start_time": "2022-09-22T19:34:02.729Z"
   },
   {
    "duration": 1288,
    "start_time": "2022-09-22T19:34:09.970Z"
   },
   {
    "duration": 2528,
    "start_time": "2022-09-22T19:34:11.260Z"
   },
   {
    "duration": 9,
    "start_time": "2022-09-22T19:34:13.791Z"
   },
   {
    "duration": 12,
    "start_time": "2022-09-22T19:34:13.802Z"
   },
   {
    "duration": 5,
    "start_time": "2022-09-22T19:34:13.816Z"
   },
   {
    "duration": 14,
    "start_time": "2022-09-22T19:34:13.822Z"
   },
   {
    "duration": 3,
    "start_time": "2022-09-22T19:34:13.837Z"
   },
   {
    "duration": 12,
    "start_time": "2022-09-22T19:34:13.841Z"
   },
   {
    "duration": 108,
    "start_time": "2022-09-22T19:34:13.855Z"
   },
   {
    "duration": 26,
    "start_time": "2022-09-22T19:34:13.965Z"
   },
   {
    "duration": 16,
    "start_time": "2022-09-22T19:34:13.992Z"
   },
   {
    "duration": 221,
    "start_time": "2022-09-22T19:34:14.010Z"
   },
   {
    "duration": 121,
    "start_time": "2022-09-22T19:34:14.232Z"
   },
   {
    "duration": 4,
    "start_time": "2022-09-22T19:34:14.354Z"
   },
   {
    "duration": 124,
    "start_time": "2022-09-22T19:34:14.359Z"
   },
   {
    "duration": 118,
    "start_time": "2022-09-22T19:34:14.484Z"
   },
   {
    "duration": 113,
    "start_time": "2022-09-22T19:34:14.604Z"
   },
   {
    "duration": 132,
    "start_time": "2022-09-22T19:34:14.718Z"
   },
   {
    "duration": 87,
    "start_time": "2022-09-22T19:34:14.852Z"
   },
   {
    "duration": 135,
    "start_time": "2022-09-22T19:34:14.940Z"
   },
   {
    "duration": 137,
    "start_time": "2022-09-22T19:34:15.076Z"
   },
   {
    "duration": 54,
    "start_time": "2022-09-22T19:34:15.215Z"
   },
   {
    "duration": 0,
    "start_time": "2022-09-22T19:34:15.272Z"
   },
   {
    "duration": 0,
    "start_time": "2022-09-22T19:34:15.273Z"
   },
   {
    "duration": 0,
    "start_time": "2022-09-22T19:34:15.274Z"
   },
   {
    "duration": 0,
    "start_time": "2022-09-22T19:34:15.276Z"
   },
   {
    "duration": 0,
    "start_time": "2022-09-22T19:34:15.277Z"
   },
   {
    "duration": 0,
    "start_time": "2022-09-22T19:34:15.278Z"
   },
   {
    "duration": 0,
    "start_time": "2022-09-22T19:34:15.280Z"
   },
   {
    "duration": 0,
    "start_time": "2022-09-22T19:34:15.281Z"
   },
   {
    "duration": 1,
    "start_time": "2022-09-22T19:34:15.282Z"
   },
   {
    "duration": 0,
    "start_time": "2022-09-22T19:34:15.284Z"
   },
   {
    "duration": 0,
    "start_time": "2022-09-22T19:34:15.285Z"
   },
   {
    "duration": 0,
    "start_time": "2022-09-22T19:34:15.286Z"
   },
   {
    "duration": 0,
    "start_time": "2022-09-22T19:34:15.288Z"
   },
   {
    "duration": 0,
    "start_time": "2022-09-22T19:34:15.289Z"
   },
   {
    "duration": 0,
    "start_time": "2022-09-22T19:34:15.291Z"
   },
   {
    "duration": 0,
    "start_time": "2022-09-22T19:34:15.292Z"
   },
   {
    "duration": 0,
    "start_time": "2022-09-22T19:34:15.294Z"
   },
   {
    "duration": 0,
    "start_time": "2022-09-22T19:34:15.295Z"
   },
   {
    "duration": 0,
    "start_time": "2022-09-22T19:34:15.296Z"
   },
   {
    "duration": 0,
    "start_time": "2022-09-22T19:34:15.297Z"
   },
   {
    "duration": 0,
    "start_time": "2022-09-22T19:34:15.299Z"
   },
   {
    "duration": 0,
    "start_time": "2022-09-22T19:34:15.300Z"
   },
   {
    "duration": 0,
    "start_time": "2022-09-22T19:34:15.301Z"
   },
   {
    "duration": 0,
    "start_time": "2022-09-22T19:34:15.303Z"
   },
   {
    "duration": 0,
    "start_time": "2022-09-22T19:34:15.304Z"
   },
   {
    "duration": 0,
    "start_time": "2022-09-22T19:34:15.305Z"
   },
   {
    "duration": 134,
    "start_time": "2022-09-22T19:34:34.351Z"
   },
   {
    "duration": 131,
    "start_time": "2022-09-22T19:34:34.487Z"
   },
   {
    "duration": 114,
    "start_time": "2022-09-22T19:34:34.620Z"
   },
   {
    "duration": 115,
    "start_time": "2022-09-22T19:34:34.736Z"
   },
   {
    "duration": 109,
    "start_time": "2022-09-22T19:34:34.853Z"
   },
   {
    "duration": 14,
    "start_time": "2022-09-22T19:34:34.963Z"
   },
   {
    "duration": 4,
    "start_time": "2022-09-22T19:34:34.979Z"
   },
   {
    "duration": 320,
    "start_time": "2022-09-22T19:34:34.984Z"
   },
   {
    "duration": 5,
    "start_time": "2022-09-22T19:34:35.306Z"
   },
   {
    "duration": 278,
    "start_time": "2022-09-22T19:34:35.313Z"
   },
   {
    "duration": 4,
    "start_time": "2022-09-22T19:34:35.592Z"
   },
   {
    "duration": 145,
    "start_time": "2022-09-22T19:34:35.598Z"
   },
   {
    "duration": 142,
    "start_time": "2022-09-22T19:34:35.744Z"
   },
   {
    "duration": 156,
    "start_time": "2022-09-22T19:34:35.887Z"
   },
   {
    "duration": 163,
    "start_time": "2022-09-22T19:34:36.044Z"
   },
   {
    "duration": 122,
    "start_time": "2022-09-22T19:34:36.208Z"
   },
   {
    "duration": 208,
    "start_time": "2022-09-22T19:34:36.332Z"
   },
   {
    "duration": 141,
    "start_time": "2022-09-22T19:34:36.541Z"
   },
   {
    "duration": 121,
    "start_time": "2022-09-22T19:34:36.683Z"
   },
   {
    "duration": 149,
    "start_time": "2022-09-22T19:34:36.806Z"
   },
   {
    "duration": 177,
    "start_time": "2022-09-22T19:34:36.958Z"
   },
   {
    "duration": 147,
    "start_time": "2022-09-22T19:34:37.137Z"
   },
   {
    "duration": 147,
    "start_time": "2022-09-22T19:34:37.286Z"
   },
   {
    "duration": 143,
    "start_time": "2022-09-22T19:34:37.435Z"
   },
   {
    "duration": 141,
    "start_time": "2022-09-22T19:34:37.580Z"
   },
   {
    "duration": 163,
    "start_time": "2022-09-22T19:34:37.723Z"
   },
   {
    "duration": 24,
    "start_time": "2022-09-22T19:34:37.888Z"
   },
   {
    "duration": 40,
    "start_time": "2022-09-22T19:35:04.466Z"
   },
   {
    "duration": 1054,
    "start_time": "2022-09-22T19:44:56.829Z"
   },
   {
    "duration": 849,
    "start_time": "2022-09-22T19:48:45.383Z"
   },
   {
    "duration": 22,
    "start_time": "2022-09-22T19:49:40.162Z"
   },
   {
    "duration": 5,
    "start_time": "2022-09-22T19:49:54.264Z"
   },
   {
    "duration": 165,
    "start_time": "2022-09-22T19:52:49.811Z"
   },
   {
    "duration": 245,
    "start_time": "2022-09-22T19:53:38.070Z"
   },
   {
    "duration": 158,
    "start_time": "2022-09-22T19:53:43.513Z"
   },
   {
    "duration": 163,
    "start_time": "2022-09-22T19:53:50.195Z"
   },
   {
    "duration": 164,
    "start_time": "2022-09-22T19:53:56.392Z"
   },
   {
    "duration": 159,
    "start_time": "2022-09-22T19:54:23.548Z"
   },
   {
    "duration": 152,
    "start_time": "2022-09-22T19:59:19.843Z"
   },
   {
    "duration": 201,
    "start_time": "2022-09-22T20:04:45.079Z"
   },
   {
    "duration": 191,
    "start_time": "2022-09-22T20:28:06.785Z"
   },
   {
    "duration": 179,
    "start_time": "2022-09-22T20:29:23.842Z"
   },
   {
    "duration": 166,
    "start_time": "2022-09-22T21:00:10.552Z"
   },
   {
    "duration": 187,
    "start_time": "2022-09-22T21:01:12.326Z"
   },
   {
    "duration": 163,
    "start_time": "2022-09-22T21:12:00.295Z"
   },
   {
    "duration": 171,
    "start_time": "2022-09-22T21:12:38.607Z"
   },
   {
    "duration": 207,
    "start_time": "2022-09-22T21:13:30.746Z"
   },
   {
    "duration": 201,
    "start_time": "2022-09-22T21:15:02.619Z"
   },
   {
    "duration": 119,
    "start_time": "2022-09-22T21:15:19.000Z"
   },
   {
    "duration": 11,
    "start_time": "2022-09-22T21:45:17.416Z"
   },
   {
    "duration": 223,
    "start_time": "2022-09-22T21:46:38.116Z"
   },
   {
    "duration": 16,
    "start_time": "2022-09-22T21:47:01.934Z"
   },
   {
    "duration": 15,
    "start_time": "2022-09-22T21:49:52.890Z"
   },
   {
    "duration": 25,
    "start_time": "2022-09-22T22:16:46.943Z"
   },
   {
    "duration": 23,
    "start_time": "2022-09-22T22:19:25.634Z"
   },
   {
    "duration": 22,
    "start_time": "2022-09-22T22:19:51.188Z"
   },
   {
    "duration": 5,
    "start_time": "2022-09-22T22:22:36.672Z"
   },
   {
    "duration": 4,
    "start_time": "2022-09-22T22:23:06.670Z"
   },
   {
    "duration": 24,
    "start_time": "2022-09-22T22:36:33.015Z"
   },
   {
    "duration": 22,
    "start_time": "2022-09-22T22:44:13.102Z"
   },
   {
    "duration": 26,
    "start_time": "2022-09-22T22:44:42.561Z"
   },
   {
    "duration": 23,
    "start_time": "2022-09-22T22:44:49.874Z"
   },
   {
    "duration": 22,
    "start_time": "2022-09-22T22:45:03.051Z"
   },
   {
    "duration": 1110,
    "start_time": "2022-09-22T23:22:08.518Z"
   },
   {
    "duration": 1882,
    "start_time": "2022-09-22T23:22:09.630Z"
   },
   {
    "duration": 14,
    "start_time": "2022-09-22T23:22:11.514Z"
   },
   {
    "duration": 15,
    "start_time": "2022-09-22T23:22:11.531Z"
   },
   {
    "duration": 32,
    "start_time": "2022-09-22T23:22:11.548Z"
   },
   {
    "duration": 11,
    "start_time": "2022-09-22T23:22:11.582Z"
   },
   {
    "duration": 7,
    "start_time": "2022-09-22T23:22:11.595Z"
   },
   {
    "duration": 10,
    "start_time": "2022-09-22T23:22:11.604Z"
   },
   {
    "duration": 147,
    "start_time": "2022-09-22T23:22:11.616Z"
   },
   {
    "duration": 26,
    "start_time": "2022-09-22T23:22:11.765Z"
   },
   {
    "duration": 16,
    "start_time": "2022-09-22T23:22:11.793Z"
   },
   {
    "duration": 246,
    "start_time": "2022-09-22T23:22:11.811Z"
   },
   {
    "duration": 125,
    "start_time": "2022-09-22T23:22:12.059Z"
   },
   {
    "duration": 4,
    "start_time": "2022-09-22T23:22:12.185Z"
   },
   {
    "duration": 136,
    "start_time": "2022-09-22T23:22:12.190Z"
   },
   {
    "duration": 122,
    "start_time": "2022-09-22T23:22:12.328Z"
   },
   {
    "duration": 130,
    "start_time": "2022-09-22T23:22:12.451Z"
   },
   {
    "duration": 142,
    "start_time": "2022-09-22T23:22:12.583Z"
   },
   {
    "duration": 99,
    "start_time": "2022-09-22T23:22:12.727Z"
   },
   {
    "duration": 114,
    "start_time": "2022-09-22T23:22:12.828Z"
   },
   {
    "duration": 134,
    "start_time": "2022-09-22T23:22:12.944Z"
   },
   {
    "duration": 121,
    "start_time": "2022-09-22T23:22:13.080Z"
   },
   {
    "duration": 126,
    "start_time": "2022-09-22T23:22:13.203Z"
   },
   {
    "duration": 120,
    "start_time": "2022-09-22T23:22:13.332Z"
   },
   {
    "duration": 116,
    "start_time": "2022-09-22T23:22:13.454Z"
   },
   {
    "duration": 116,
    "start_time": "2022-09-22T23:22:13.577Z"
   },
   {
    "duration": 6,
    "start_time": "2022-09-22T23:22:13.695Z"
   },
   {
    "duration": 6,
    "start_time": "2022-09-22T23:22:13.706Z"
   },
   {
    "duration": 300,
    "start_time": "2022-09-22T23:22:13.714Z"
   },
   {
    "duration": 5,
    "start_time": "2022-09-22T23:22:14.015Z"
   },
   {
    "duration": 251,
    "start_time": "2022-09-22T23:22:14.021Z"
   },
   {
    "duration": 5,
    "start_time": "2022-09-22T23:22:14.276Z"
   },
   {
    "duration": 147,
    "start_time": "2022-09-22T23:22:14.282Z"
   },
   {
    "duration": 131,
    "start_time": "2022-09-22T23:22:14.431Z"
   },
   {
    "duration": 146,
    "start_time": "2022-09-22T23:22:14.564Z"
   },
   {
    "duration": 157,
    "start_time": "2022-09-22T23:22:14.712Z"
   },
   {
    "duration": 128,
    "start_time": "2022-09-22T23:22:14.871Z"
   },
   {
    "duration": 236,
    "start_time": "2022-09-22T23:22:15.001Z"
   },
   {
    "duration": 168,
    "start_time": "2022-09-22T23:22:15.239Z"
   },
   {
    "duration": 121,
    "start_time": "2022-09-22T23:22:15.409Z"
   },
   {
    "duration": 141,
    "start_time": "2022-09-22T23:22:15.532Z"
   },
   {
    "duration": 153,
    "start_time": "2022-09-22T23:22:15.676Z"
   },
   {
    "duration": 154,
    "start_time": "2022-09-22T23:22:15.830Z"
   },
   {
    "duration": 157,
    "start_time": "2022-09-22T23:22:15.986Z"
   },
   {
    "duration": 140,
    "start_time": "2022-09-22T23:22:16.145Z"
   },
   {
    "duration": 133,
    "start_time": "2022-09-22T23:22:16.287Z"
   },
   {
    "duration": 178,
    "start_time": "2022-09-22T23:22:16.423Z"
   },
   {
    "duration": 40,
    "start_time": "2022-09-22T23:22:16.603Z"
   },
   {
    "duration": 181,
    "start_time": "2022-09-22T23:22:16.645Z"
   },
   {
    "duration": 332,
    "start_time": "2022-09-22T23:22:16.829Z"
   },
   {
    "duration": 186,
    "start_time": "2022-09-22T23:22:17.163Z"
   },
   {
    "duration": 178,
    "start_time": "2022-09-22T23:22:17.350Z"
   },
   {
    "duration": 166,
    "start_time": "2022-09-22T23:22:17.529Z"
   },
   {
    "duration": 225,
    "start_time": "2022-09-22T23:22:17.696Z"
   },
   {
    "duration": 200,
    "start_time": "2022-09-22T23:22:17.923Z"
   },
   {
    "duration": 194,
    "start_time": "2022-09-22T23:22:18.124Z"
   },
   {
    "duration": 219,
    "start_time": "2022-09-22T23:22:18.319Z"
   },
   {
    "duration": 0,
    "start_time": "2022-09-22T23:22:18.540Z"
   },
   {
    "duration": 0,
    "start_time": "2022-09-22T23:22:18.541Z"
   },
   {
    "duration": 0,
    "start_time": "2022-09-22T23:22:18.542Z"
   },
   {
    "duration": 0,
    "start_time": "2022-09-22T23:22:18.544Z"
   },
   {
    "duration": 15,
    "start_time": "2022-09-22T23:24:22.142Z"
   },
   {
    "duration": 6,
    "start_time": "2022-09-22T23:24:38.763Z"
   },
   {
    "duration": 14,
    "start_time": "2022-09-22T23:28:50.062Z"
   },
   {
    "duration": 24,
    "start_time": "2022-09-22T23:29:14.053Z"
   },
   {
    "duration": 4,
    "start_time": "2022-09-22T23:29:14.278Z"
   },
   {
    "duration": 25,
    "start_time": "2022-09-22T23:29:14.708Z"
   },
   {
    "duration": 15,
    "start_time": "2022-09-22T23:29:58.895Z"
   },
   {
    "duration": 45,
    "start_time": "2022-09-27T21:14:58.985Z"
   },
   {
    "duration": 1353,
    "start_time": "2022-09-27T21:15:03.889Z"
   },
   {
    "duration": 2155,
    "start_time": "2022-09-27T21:15:05.244Z"
   },
   {
    "duration": 7,
    "start_time": "2022-09-27T21:15:07.401Z"
   },
   {
    "duration": 57,
    "start_time": "2022-09-27T21:15:08.460Z"
   },
   {
    "duration": 53,
    "start_time": "2022-09-27T21:15:30.226Z"
   },
   {
    "duration": 9,
    "start_time": "2022-09-27T22:13:12.167Z"
   },
   {
    "duration": 7,
    "start_time": "2022-09-27T22:13:19.832Z"
   },
   {
    "duration": 14,
    "start_time": "2022-09-27T22:13:19.840Z"
   },
   {
    "duration": 7,
    "start_time": "2022-09-27T22:13:19.855Z"
   },
   {
    "duration": 15,
    "start_time": "2022-09-27T22:13:19.863Z"
   },
   {
    "duration": 13,
    "start_time": "2022-09-27T22:13:19.880Z"
   },
   {
    "duration": 21,
    "start_time": "2022-09-27T22:13:19.894Z"
   },
   {
    "duration": 16,
    "start_time": "2022-09-27T22:13:19.917Z"
   },
   {
    "duration": 248,
    "start_time": "2022-09-27T22:13:19.935Z"
   },
   {
    "duration": 133,
    "start_time": "2022-09-27T22:13:20.185Z"
   },
   {
    "duration": 4,
    "start_time": "2022-09-27T22:13:20.320Z"
   },
   {
    "duration": 118,
    "start_time": "2022-09-27T22:13:20.327Z"
   },
   {
    "duration": 104,
    "start_time": "2022-09-27T22:13:20.447Z"
   },
   {
    "duration": 105,
    "start_time": "2022-09-27T22:13:20.553Z"
   },
   {
    "duration": 123,
    "start_time": "2022-09-27T22:13:20.660Z"
   },
   {
    "duration": 86,
    "start_time": "2022-09-27T22:13:20.785Z"
   },
   {
    "duration": 108,
    "start_time": "2022-09-27T22:13:20.873Z"
   },
   {
    "duration": 126,
    "start_time": "2022-09-27T22:13:20.983Z"
   },
   {
    "duration": 122,
    "start_time": "2022-09-27T22:13:21.110Z"
   },
   {
    "duration": 124,
    "start_time": "2022-09-27T22:13:21.233Z"
   },
   {
    "duration": 233,
    "start_time": "2022-09-27T22:13:21.359Z"
   },
   {
    "duration": 114,
    "start_time": "2022-09-27T22:13:21.594Z"
   },
   {
    "duration": 108,
    "start_time": "2022-09-27T22:13:21.710Z"
   },
   {
    "duration": 5,
    "start_time": "2022-09-27T22:13:21.819Z"
   },
   {
    "duration": 6,
    "start_time": "2022-09-27T22:13:21.825Z"
   },
   {
    "duration": 198,
    "start_time": "2022-09-27T22:13:21.832Z"
   },
   {
    "duration": 4,
    "start_time": "2022-09-27T22:13:22.031Z"
   },
   {
    "duration": 255,
    "start_time": "2022-09-27T22:13:22.036Z"
   },
   {
    "duration": 10,
    "start_time": "2022-09-27T22:13:22.293Z"
   },
   {
    "duration": 137,
    "start_time": "2022-09-27T22:13:22.306Z"
   },
   {
    "duration": 130,
    "start_time": "2022-09-27T22:13:22.444Z"
   },
   {
    "duration": 202,
    "start_time": "2022-09-27T22:13:22.575Z"
   },
   {
    "duration": 144,
    "start_time": "2022-09-27T22:13:22.778Z"
   },
   {
    "duration": 132,
    "start_time": "2022-09-27T22:13:22.924Z"
   },
   {
    "duration": 143,
    "start_time": "2022-09-27T22:13:23.057Z"
   },
   {
    "duration": 147,
    "start_time": "2022-09-27T22:13:23.202Z"
   },
   {
    "duration": 123,
    "start_time": "2022-09-27T22:13:23.350Z"
   },
   {
    "duration": 138,
    "start_time": "2022-09-27T22:13:23.474Z"
   },
   {
    "duration": 162,
    "start_time": "2022-09-27T22:13:23.614Z"
   },
   {
    "duration": 173,
    "start_time": "2022-09-27T22:13:23.778Z"
   },
   {
    "duration": 195,
    "start_time": "2022-09-27T22:13:23.953Z"
   },
   {
    "duration": 162,
    "start_time": "2022-09-27T22:13:24.151Z"
   },
   {
    "duration": 281,
    "start_time": "2022-09-27T22:13:24.314Z"
   },
   {
    "duration": 208,
    "start_time": "2022-09-27T22:13:24.601Z"
   },
   {
    "duration": 42,
    "start_time": "2022-09-27T22:13:24.810Z"
   },
   {
    "duration": 187,
    "start_time": "2022-09-27T22:13:24.853Z"
   },
   {
    "duration": 186,
    "start_time": "2022-09-27T22:13:25.041Z"
   },
   {
    "duration": 179,
    "start_time": "2022-09-27T22:13:25.229Z"
   },
   {
    "duration": 189,
    "start_time": "2022-09-27T22:13:25.409Z"
   },
   {
    "duration": 158,
    "start_time": "2022-09-27T22:13:25.602Z"
   },
   {
    "duration": 197,
    "start_time": "2022-09-27T22:13:25.762Z"
   },
   {
    "duration": 187,
    "start_time": "2022-09-27T22:13:25.960Z"
   },
   {
    "duration": 178,
    "start_time": "2022-09-27T22:13:26.149Z"
   },
   {
    "duration": 122,
    "start_time": "2022-09-27T22:13:26.328Z"
   },
   {
    "duration": 0,
    "start_time": "2022-09-27T22:13:26.452Z"
   },
   {
    "duration": 0,
    "start_time": "2022-09-27T22:13:26.453Z"
   },
   {
    "duration": 0,
    "start_time": "2022-09-27T22:13:26.455Z"
   },
   {
    "duration": 0,
    "start_time": "2022-09-27T22:13:26.456Z"
   },
   {
    "duration": 0,
    "start_time": "2022-09-27T22:13:26.456Z"
   },
   {
    "duration": 190,
    "start_time": "2022-09-27T22:15:28.933Z"
   },
   {
    "duration": 33,
    "start_time": "2022-09-27T22:36:33.086Z"
   },
   {
    "duration": 827,
    "start_time": "2022-09-27T22:36:56.465Z"
   },
   {
    "duration": 7,
    "start_time": "2022-09-27T22:37:07.092Z"
   },
   {
    "duration": 8,
    "start_time": "2022-09-27T22:37:20.080Z"
   },
   {
    "duration": 8,
    "start_time": "2022-09-27T22:37:31.424Z"
   },
   {
    "duration": 9,
    "start_time": "2022-09-27T22:55:21.405Z"
   },
   {
    "duration": 8,
    "start_time": "2022-09-27T22:55:39.677Z"
   },
   {
    "duration": 44,
    "start_time": "2022-09-27T22:55:58.760Z"
   },
   {
    "duration": 17,
    "start_time": "2022-09-27T22:56:08.463Z"
   },
   {
    "duration": 11,
    "start_time": "2022-09-27T22:56:24.105Z"
   },
   {
    "duration": 7,
    "start_time": "2022-09-27T22:58:33.350Z"
   },
   {
    "duration": 7,
    "start_time": "2022-09-27T22:58:47.089Z"
   },
   {
    "duration": 16,
    "start_time": "2022-09-27T22:59:03.090Z"
   },
   {
    "duration": 87,
    "start_time": "2022-09-27T23:06:21.944Z"
   },
   {
    "duration": 52,
    "start_time": "2022-09-28T12:22:53.440Z"
   },
   {
    "duration": 1370,
    "start_time": "2022-09-28T12:23:03.368Z"
   },
   {
    "duration": 2427,
    "start_time": "2022-09-28T12:23:04.740Z"
   },
   {
    "duration": 8,
    "start_time": "2022-09-28T12:23:07.169Z"
   },
   {
    "duration": 152,
    "start_time": "2022-09-28T12:23:07.180Z"
   },
   {
    "duration": 11,
    "start_time": "2022-09-28T12:23:07.334Z"
   },
   {
    "duration": 9,
    "start_time": "2022-09-28T12:23:07.346Z"
   },
   {
    "duration": 18,
    "start_time": "2022-09-28T12:23:07.357Z"
   },
   {
    "duration": 20,
    "start_time": "2022-09-28T12:23:07.377Z"
   },
   {
    "duration": 19,
    "start_time": "2022-09-28T12:23:07.399Z"
   },
   {
    "duration": 33,
    "start_time": "2022-09-28T12:23:07.421Z"
   },
   {
    "duration": 25,
    "start_time": "2022-09-28T12:23:07.455Z"
   },
   {
    "duration": 20,
    "start_time": "2022-09-28T12:23:07.482Z"
   },
   {
    "duration": 258,
    "start_time": "2022-09-28T12:23:07.504Z"
   },
   {
    "duration": 151,
    "start_time": "2022-09-28T12:23:07.764Z"
   },
   {
    "duration": 7,
    "start_time": "2022-09-28T12:23:07.916Z"
   },
   {
    "duration": 139,
    "start_time": "2022-09-28T12:23:07.924Z"
   },
   {
    "duration": 122,
    "start_time": "2022-09-28T12:23:08.065Z"
   },
   {
    "duration": 135,
    "start_time": "2022-09-28T12:23:08.190Z"
   },
   {
    "duration": 150,
    "start_time": "2022-09-28T12:23:08.328Z"
   },
   {
    "duration": 100,
    "start_time": "2022-09-28T12:23:08.481Z"
   },
   {
    "duration": 132,
    "start_time": "2022-09-28T12:23:08.583Z"
   },
   {
    "duration": 154,
    "start_time": "2022-09-28T12:23:08.717Z"
   },
   {
    "duration": 187,
    "start_time": "2022-09-28T12:23:08.874Z"
   },
   {
    "duration": 170,
    "start_time": "2022-09-28T12:23:09.064Z"
   },
   {
    "duration": 139,
    "start_time": "2022-09-28T12:23:09.235Z"
   },
   {
    "duration": 223,
    "start_time": "2022-09-28T12:23:09.376Z"
   },
   {
    "duration": 133,
    "start_time": "2022-09-28T12:23:09.601Z"
   },
   {
    "duration": 8,
    "start_time": "2022-09-28T12:23:09.738Z"
   },
   {
    "duration": 19,
    "start_time": "2022-09-28T12:23:09.747Z"
   },
   {
    "duration": 95,
    "start_time": "2022-09-28T12:23:09.768Z"
   },
   {
    "duration": 0,
    "start_time": "2022-09-28T12:23:09.865Z"
   },
   {
    "duration": 0,
    "start_time": "2022-09-28T12:23:09.866Z"
   },
   {
    "duration": 0,
    "start_time": "2022-09-28T12:23:09.867Z"
   },
   {
    "duration": 0,
    "start_time": "2022-09-28T12:23:09.868Z"
   },
   {
    "duration": 0,
    "start_time": "2022-09-28T12:23:09.869Z"
   },
   {
    "duration": 0,
    "start_time": "2022-09-28T12:23:09.871Z"
   },
   {
    "duration": 0,
    "start_time": "2022-09-28T12:23:09.872Z"
   },
   {
    "duration": 0,
    "start_time": "2022-09-28T12:23:09.873Z"
   },
   {
    "duration": 0,
    "start_time": "2022-09-28T12:23:09.875Z"
   },
   {
    "duration": 0,
    "start_time": "2022-09-28T12:23:09.876Z"
   },
   {
    "duration": 0,
    "start_time": "2022-09-28T12:23:09.877Z"
   },
   {
    "duration": 0,
    "start_time": "2022-09-28T12:23:09.878Z"
   },
   {
    "duration": 0,
    "start_time": "2022-09-28T12:23:09.879Z"
   },
   {
    "duration": 0,
    "start_time": "2022-09-28T12:23:09.881Z"
   },
   {
    "duration": 0,
    "start_time": "2022-09-28T12:23:09.882Z"
   },
   {
    "duration": 0,
    "start_time": "2022-09-28T12:23:09.883Z"
   },
   {
    "duration": 0,
    "start_time": "2022-09-28T12:23:09.885Z"
   },
   {
    "duration": 0,
    "start_time": "2022-09-28T12:23:09.921Z"
   },
   {
    "duration": 0,
    "start_time": "2022-09-28T12:23:09.922Z"
   },
   {
    "duration": 0,
    "start_time": "2022-09-28T12:23:09.923Z"
   },
   {
    "duration": 0,
    "start_time": "2022-09-28T12:23:09.924Z"
   },
   {
    "duration": 0,
    "start_time": "2022-09-28T12:23:09.926Z"
   },
   {
    "duration": 0,
    "start_time": "2022-09-28T12:23:09.927Z"
   },
   {
    "duration": 0,
    "start_time": "2022-09-28T12:23:09.928Z"
   },
   {
    "duration": 0,
    "start_time": "2022-09-28T12:23:09.929Z"
   },
   {
    "duration": 0,
    "start_time": "2022-09-28T12:23:09.930Z"
   },
   {
    "duration": 0,
    "start_time": "2022-09-28T12:23:09.931Z"
   },
   {
    "duration": 0,
    "start_time": "2022-09-28T12:23:09.933Z"
   },
   {
    "duration": 0,
    "start_time": "2022-09-28T12:23:09.934Z"
   },
   {
    "duration": 0,
    "start_time": "2022-09-28T12:23:09.936Z"
   },
   {
    "duration": 0,
    "start_time": "2022-09-28T12:23:09.937Z"
   },
   {
    "duration": 0,
    "start_time": "2022-09-28T12:23:09.938Z"
   },
   {
    "duration": 0,
    "start_time": "2022-09-28T12:23:09.939Z"
   },
   {
    "duration": 0,
    "start_time": "2022-09-28T12:23:09.940Z"
   },
   {
    "duration": 1,
    "start_time": "2022-09-28T12:23:09.941Z"
   },
   {
    "duration": 7,
    "start_time": "2022-09-28T12:23:47.345Z"
   },
   {
    "duration": 98,
    "start_time": "2022-09-28T12:31:31.509Z"
   },
   {
    "duration": 5,
    "start_time": "2022-09-28T13:20:27.918Z"
   },
   {
    "duration": 6,
    "start_time": "2022-09-28T13:20:48.951Z"
   },
   {
    "duration": 6,
    "start_time": "2022-09-28T13:31:55.726Z"
   },
   {
    "duration": 5,
    "start_time": "2022-09-28T13:32:11.895Z"
   },
   {
    "duration": 6,
    "start_time": "2022-09-28T13:32:25.297Z"
   },
   {
    "duration": 6,
    "start_time": "2022-09-28T13:33:56.538Z"
   },
   {
    "duration": 48,
    "start_time": "2022-09-28T13:34:39.889Z"
   },
   {
    "duration": 8,
    "start_time": "2022-09-28T13:36:36.133Z"
   },
   {
    "duration": 5,
    "start_time": "2022-09-28T13:36:52.427Z"
   },
   {
    "duration": 7,
    "start_time": "2022-09-28T13:36:58.396Z"
   },
   {
    "duration": 6,
    "start_time": "2022-09-28T13:48:45.159Z"
   },
   {
    "duration": 5,
    "start_time": "2022-09-28T14:06:56.418Z"
   },
   {
    "duration": 4,
    "start_time": "2022-09-28T14:07:02.435Z"
   },
   {
    "duration": 7,
    "start_time": "2022-09-28T14:07:04.496Z"
   },
   {
    "duration": 126,
    "start_time": "2022-09-28T14:08:14.058Z"
   },
   {
    "duration": 98,
    "start_time": "2022-09-28T14:08:47.561Z"
   },
   {
    "duration": 5,
    "start_time": "2022-09-28T14:10:09.979Z"
   },
   {
    "duration": 305,
    "start_time": "2022-09-28T14:10:12.091Z"
   },
   {
    "duration": 151,
    "start_time": "2022-09-28T14:10:23.971Z"
   },
   {
    "duration": 135,
    "start_time": "2022-09-28T14:10:40.579Z"
   },
   {
    "duration": 149,
    "start_time": "2022-09-28T14:10:45.091Z"
   },
   {
    "duration": 285,
    "start_time": "2022-09-28T14:10:49.004Z"
   },
   {
    "duration": 1102,
    "start_time": "2022-09-28T15:48:46.837Z"
   },
   {
    "duration": 1868,
    "start_time": "2022-09-28T15:48:47.941Z"
   },
   {
    "duration": 8,
    "start_time": "2022-09-28T15:48:49.810Z"
   },
   {
    "duration": 131,
    "start_time": "2022-09-28T15:48:49.820Z"
   },
   {
    "duration": 8,
    "start_time": "2022-09-28T15:48:49.952Z"
   },
   {
    "duration": 21,
    "start_time": "2022-09-28T15:48:49.961Z"
   },
   {
    "duration": 10,
    "start_time": "2022-09-28T15:48:49.983Z"
   },
   {
    "duration": 3,
    "start_time": "2022-09-28T15:48:49.995Z"
   },
   {
    "duration": 15,
    "start_time": "2022-09-28T15:48:49.999Z"
   },
   {
    "duration": 17,
    "start_time": "2022-09-28T15:48:50.016Z"
   },
   {
    "duration": 20,
    "start_time": "2022-09-28T15:48:50.035Z"
   },
   {
    "duration": 17,
    "start_time": "2022-09-28T15:48:50.056Z"
   },
   {
    "duration": 238,
    "start_time": "2022-09-28T15:48:50.074Z"
   },
   {
    "duration": 132,
    "start_time": "2022-09-28T15:48:50.313Z"
   },
   {
    "duration": 4,
    "start_time": "2022-09-28T15:48:50.446Z"
   },
   {
    "duration": 121,
    "start_time": "2022-09-28T15:48:50.451Z"
   },
   {
    "duration": 108,
    "start_time": "2022-09-28T15:48:50.573Z"
   },
   {
    "duration": 107,
    "start_time": "2022-09-28T15:48:50.682Z"
   },
   {
    "duration": 131,
    "start_time": "2022-09-28T15:48:50.791Z"
   },
   {
    "duration": 79,
    "start_time": "2022-09-28T15:48:50.924Z"
   },
   {
    "duration": 137,
    "start_time": "2022-09-28T15:48:51.005Z"
   },
   {
    "duration": 152,
    "start_time": "2022-09-28T15:48:51.143Z"
   },
   {
    "duration": 116,
    "start_time": "2022-09-28T15:48:51.297Z"
   },
   {
    "duration": 132,
    "start_time": "2022-09-28T15:48:51.414Z"
   },
   {
    "duration": 106,
    "start_time": "2022-09-28T15:48:51.547Z"
   },
   {
    "duration": 181,
    "start_time": "2022-09-28T15:48:51.655Z"
   },
   {
    "duration": 106,
    "start_time": "2022-09-28T15:48:51.838Z"
   },
   {
    "duration": 7,
    "start_time": "2022-09-28T15:48:51.947Z"
   },
   {
    "duration": 15,
    "start_time": "2022-09-28T15:48:51.955Z"
   },
   {
    "duration": 112,
    "start_time": "2022-09-28T15:48:51.971Z"
   },
   {
    "duration": 0,
    "start_time": "2022-09-28T15:48:52.085Z"
   },
   {
    "duration": 0,
    "start_time": "2022-09-28T15:48:52.086Z"
   },
   {
    "duration": 0,
    "start_time": "2022-09-28T15:48:52.088Z"
   },
   {
    "duration": 0,
    "start_time": "2022-09-28T15:48:52.089Z"
   },
   {
    "duration": 0,
    "start_time": "2022-09-28T15:48:52.090Z"
   },
   {
    "duration": 0,
    "start_time": "2022-09-28T15:48:52.092Z"
   },
   {
    "duration": 0,
    "start_time": "2022-09-28T15:48:52.093Z"
   },
   {
    "duration": 0,
    "start_time": "2022-09-28T15:48:52.094Z"
   },
   {
    "duration": 0,
    "start_time": "2022-09-28T15:48:52.095Z"
   },
   {
    "duration": 0,
    "start_time": "2022-09-28T15:48:52.097Z"
   },
   {
    "duration": 0,
    "start_time": "2022-09-28T15:48:52.098Z"
   },
   {
    "duration": 0,
    "start_time": "2022-09-28T15:48:52.099Z"
   },
   {
    "duration": 0,
    "start_time": "2022-09-28T15:48:52.101Z"
   },
   {
    "duration": 0,
    "start_time": "2022-09-28T15:48:52.133Z"
   },
   {
    "duration": 0,
    "start_time": "2022-09-28T15:48:52.134Z"
   },
   {
    "duration": 0,
    "start_time": "2022-09-28T15:48:52.136Z"
   },
   {
    "duration": 0,
    "start_time": "2022-09-28T15:48:52.138Z"
   },
   {
    "duration": 1,
    "start_time": "2022-09-28T15:48:52.138Z"
   },
   {
    "duration": 0,
    "start_time": "2022-09-28T15:48:52.140Z"
   },
   {
    "duration": 0,
    "start_time": "2022-09-28T15:48:52.142Z"
   },
   {
    "duration": 0,
    "start_time": "2022-09-28T15:48:52.143Z"
   },
   {
    "duration": 0,
    "start_time": "2022-09-28T15:48:52.144Z"
   },
   {
    "duration": 0,
    "start_time": "2022-09-28T15:48:52.146Z"
   },
   {
    "duration": 0,
    "start_time": "2022-09-28T15:48:52.147Z"
   },
   {
    "duration": 0,
    "start_time": "2022-09-28T15:48:52.148Z"
   },
   {
    "duration": 0,
    "start_time": "2022-09-28T15:48:52.150Z"
   },
   {
    "duration": 0,
    "start_time": "2022-09-28T15:48:52.151Z"
   },
   {
    "duration": 0,
    "start_time": "2022-09-28T15:48:52.152Z"
   },
   {
    "duration": 0,
    "start_time": "2022-09-28T15:48:52.153Z"
   },
   {
    "duration": 0,
    "start_time": "2022-09-28T15:48:52.154Z"
   },
   {
    "duration": 0,
    "start_time": "2022-09-28T15:48:52.156Z"
   },
   {
    "duration": 0,
    "start_time": "2022-09-28T15:48:52.157Z"
   },
   {
    "duration": 0,
    "start_time": "2022-09-28T15:48:52.158Z"
   },
   {
    "duration": 0,
    "start_time": "2022-09-28T15:48:52.159Z"
   },
   {
    "duration": 0,
    "start_time": "2022-09-28T15:48:52.161Z"
   },
   {
    "duration": 0,
    "start_time": "2022-09-28T15:48:52.162Z"
   },
   {
    "duration": 14,
    "start_time": "2022-09-28T15:50:17.617Z"
   },
   {
    "duration": 5,
    "start_time": "2022-09-28T15:54:10.892Z"
   },
   {
    "duration": 5,
    "start_time": "2022-09-28T15:54:12.447Z"
   },
   {
    "duration": 5,
    "start_time": "2022-09-28T15:54:26.073Z"
   },
   {
    "duration": 5,
    "start_time": "2022-09-28T15:54:26.963Z"
   },
   {
    "duration": 1134,
    "start_time": "2022-09-28T15:54:58.925Z"
   },
   {
    "duration": 1943,
    "start_time": "2022-09-28T15:55:00.061Z"
   },
   {
    "duration": 8,
    "start_time": "2022-09-28T15:55:02.009Z"
   },
   {
    "duration": 163,
    "start_time": "2022-09-28T15:55:02.019Z"
   },
   {
    "duration": 17,
    "start_time": "2022-09-28T15:55:02.183Z"
   },
   {
    "duration": 13,
    "start_time": "2022-09-28T15:55:02.201Z"
   },
   {
    "duration": 31,
    "start_time": "2022-09-28T15:55:02.216Z"
   },
   {
    "duration": 10,
    "start_time": "2022-09-28T15:55:02.248Z"
   },
   {
    "duration": 14,
    "start_time": "2022-09-28T15:55:02.261Z"
   },
   {
    "duration": 20,
    "start_time": "2022-09-28T15:55:02.277Z"
   },
   {
    "duration": 24,
    "start_time": "2022-09-28T15:55:02.299Z"
   },
   {
    "duration": 20,
    "start_time": "2022-09-28T15:55:02.324Z"
   },
   {
    "duration": 224,
    "start_time": "2022-09-28T15:55:02.345Z"
   },
   {
    "duration": 133,
    "start_time": "2022-09-28T15:55:02.571Z"
   },
   {
    "duration": 4,
    "start_time": "2022-09-28T15:55:02.705Z"
   },
   {
    "duration": 119,
    "start_time": "2022-09-28T15:55:02.711Z"
   },
   {
    "duration": 114,
    "start_time": "2022-09-28T15:55:02.833Z"
   },
   {
    "duration": 115,
    "start_time": "2022-09-28T15:55:02.949Z"
   },
   {
    "duration": 134,
    "start_time": "2022-09-28T15:55:03.065Z"
   },
   {
    "duration": 85,
    "start_time": "2022-09-28T15:55:03.201Z"
   },
   {
    "duration": 126,
    "start_time": "2022-09-28T15:55:03.288Z"
   },
   {
    "duration": 138,
    "start_time": "2022-09-28T15:55:03.415Z"
   },
   {
    "duration": 131,
    "start_time": "2022-09-28T15:55:03.555Z"
   },
   {
    "duration": 130,
    "start_time": "2022-09-28T15:55:03.687Z"
   },
   {
    "duration": 120,
    "start_time": "2022-09-28T15:55:03.819Z"
   },
   {
    "duration": 200,
    "start_time": "2022-09-28T15:55:03.940Z"
   },
   {
    "duration": 118,
    "start_time": "2022-09-28T15:55:04.143Z"
   },
   {
    "duration": 7,
    "start_time": "2022-09-28T15:55:04.263Z"
   },
   {
    "duration": 19,
    "start_time": "2022-09-28T15:55:04.271Z"
   },
   {
    "duration": 5,
    "start_time": "2022-09-28T15:55:04.292Z"
   },
   {
    "duration": 11,
    "start_time": "2022-09-28T15:55:04.298Z"
   },
   {
    "duration": 6,
    "start_time": "2022-09-28T15:55:04.333Z"
   },
   {
    "duration": 8,
    "start_time": "2022-09-28T15:55:04.341Z"
   },
   {
    "duration": 314,
    "start_time": "2022-09-28T15:55:04.351Z"
   },
   {
    "duration": 4,
    "start_time": "2022-09-28T15:55:04.666Z"
   },
   {
    "duration": 401,
    "start_time": "2022-09-28T15:55:04.672Z"
   },
   {
    "duration": 5,
    "start_time": "2022-09-28T15:55:05.075Z"
   },
   {
    "duration": 143,
    "start_time": "2022-09-28T15:55:05.081Z"
   },
   {
    "duration": 136,
    "start_time": "2022-09-28T15:55:05.225Z"
   },
   {
    "duration": 141,
    "start_time": "2022-09-28T15:55:05.363Z"
   },
   {
    "duration": 161,
    "start_time": "2022-09-28T15:55:05.506Z"
   },
   {
    "duration": 135,
    "start_time": "2022-09-28T15:55:05.670Z"
   },
   {
    "duration": 146,
    "start_time": "2022-09-28T15:55:05.807Z"
   },
   {
    "duration": 132,
    "start_time": "2022-09-28T15:55:05.955Z"
   },
   {
    "duration": 104,
    "start_time": "2022-09-28T15:55:06.088Z"
   },
   {
    "duration": 170,
    "start_time": "2022-09-28T15:55:06.194Z"
   },
   {
    "duration": 246,
    "start_time": "2022-09-28T15:55:06.366Z"
   },
   {
    "duration": 137,
    "start_time": "2022-09-28T15:55:06.613Z"
   },
   {
    "duration": 154,
    "start_time": "2022-09-28T15:55:06.752Z"
   },
   {
    "duration": 236,
    "start_time": "2022-09-28T15:55:06.908Z"
   },
   {
    "duration": 117,
    "start_time": "2022-09-28T15:55:07.146Z"
   },
   {
    "duration": 137,
    "start_time": "2022-09-28T15:55:07.264Z"
   },
   {
    "duration": 42,
    "start_time": "2022-09-28T15:55:07.402Z"
   },
   {
    "duration": 167,
    "start_time": "2022-09-28T15:55:07.445Z"
   },
   {
    "duration": 168,
    "start_time": "2022-09-28T15:55:07.614Z"
   },
   {
    "duration": 171,
    "start_time": "2022-09-28T15:55:07.783Z"
   },
   {
    "duration": 166,
    "start_time": "2022-09-28T15:55:07.955Z"
   },
   {
    "duration": 253,
    "start_time": "2022-09-28T15:55:08.122Z"
   },
   {
    "duration": 165,
    "start_time": "2022-09-28T15:55:08.377Z"
   },
   {
    "duration": 190,
    "start_time": "2022-09-28T15:55:08.543Z"
   },
   {
    "duration": 242,
    "start_time": "2022-09-28T15:55:08.735Z"
   },
   {
    "duration": 139,
    "start_time": "2022-09-28T15:55:08.979Z"
   },
   {
    "duration": 18,
    "start_time": "2022-09-28T15:55:09.119Z"
   },
   {
    "duration": 124,
    "start_time": "2022-09-28T15:55:09.139Z"
   },
   {
    "duration": 0,
    "start_time": "2022-09-28T15:55:09.265Z"
   },
   {
    "duration": 0,
    "start_time": "2022-09-28T15:55:09.266Z"
   },
   {
    "duration": 0,
    "start_time": "2022-09-28T15:55:09.267Z"
   },
   {
    "duration": 144,
    "start_time": "2022-09-28T15:57:10.248Z"
   },
   {
    "duration": 159,
    "start_time": "2022-09-28T15:57:15.642Z"
   },
   {
    "duration": 163,
    "start_time": "2022-09-28T15:57:47.024Z"
   },
   {
    "duration": 16,
    "start_time": "2022-09-28T15:58:05.398Z"
   },
   {
    "duration": 1161,
    "start_time": "2022-09-28T15:58:13.725Z"
   },
   {
    "duration": 1991,
    "start_time": "2022-09-28T15:58:14.888Z"
   },
   {
    "duration": 8,
    "start_time": "2022-09-28T15:58:16.881Z"
   },
   {
    "duration": 150,
    "start_time": "2022-09-28T15:58:16.891Z"
   },
   {
    "duration": 8,
    "start_time": "2022-09-28T15:58:17.043Z"
   },
   {
    "duration": 18,
    "start_time": "2022-09-28T15:58:17.052Z"
   },
   {
    "duration": 8,
    "start_time": "2022-09-28T15:58:17.071Z"
   },
   {
    "duration": 5,
    "start_time": "2022-09-28T15:58:17.081Z"
   },
   {
    "duration": 9,
    "start_time": "2022-09-28T15:58:17.087Z"
   },
   {
    "duration": 13,
    "start_time": "2022-09-28T15:58:17.099Z"
   },
   {
    "duration": 38,
    "start_time": "2022-09-28T15:58:17.114Z"
   },
   {
    "duration": 19,
    "start_time": "2022-09-28T15:58:17.154Z"
   },
   {
    "duration": 225,
    "start_time": "2022-09-28T15:58:17.175Z"
   },
   {
    "duration": 130,
    "start_time": "2022-09-28T15:58:17.401Z"
   },
   {
    "duration": 3,
    "start_time": "2022-09-28T15:58:17.534Z"
   },
   {
    "duration": 117,
    "start_time": "2022-09-28T15:58:17.538Z"
   },
   {
    "duration": 114,
    "start_time": "2022-09-28T15:58:17.656Z"
   },
   {
    "duration": 115,
    "start_time": "2022-09-28T15:58:17.771Z"
   },
   {
    "duration": 137,
    "start_time": "2022-09-28T15:58:17.887Z"
   },
   {
    "duration": 79,
    "start_time": "2022-09-28T15:58:18.027Z"
   },
   {
    "duration": 139,
    "start_time": "2022-09-28T15:58:18.108Z"
   },
   {
    "duration": 148,
    "start_time": "2022-09-28T15:58:18.249Z"
   },
   {
    "duration": 126,
    "start_time": "2022-09-28T15:58:18.398Z"
   },
   {
    "duration": 147,
    "start_time": "2022-09-28T15:58:18.525Z"
   },
   {
    "duration": 118,
    "start_time": "2022-09-28T15:58:18.674Z"
   },
   {
    "duration": 199,
    "start_time": "2022-09-28T15:58:18.794Z"
   },
   {
    "duration": 183,
    "start_time": "2022-09-28T15:58:18.995Z"
   },
   {
    "duration": 58,
    "start_time": "2022-09-28T15:58:19.182Z"
   },
   {
    "duration": 23,
    "start_time": "2022-09-28T15:58:19.242Z"
   },
   {
    "duration": 6,
    "start_time": "2022-09-28T15:58:19.267Z"
   },
   {
    "duration": 60,
    "start_time": "2022-09-28T15:58:19.275Z"
   },
   {
    "duration": 5,
    "start_time": "2022-09-28T15:58:19.337Z"
   },
   {
    "duration": 6,
    "start_time": "2022-09-28T15:58:19.343Z"
   },
   {
    "duration": 511,
    "start_time": "2022-09-28T15:58:19.351Z"
   },
   {
    "duration": 3,
    "start_time": "2022-09-28T15:58:19.864Z"
   },
   {
    "duration": 798,
    "start_time": "2022-09-28T15:58:19.869Z"
   },
   {
    "duration": 4,
    "start_time": "2022-09-28T15:58:20.669Z"
   },
   {
    "duration": 184,
    "start_time": "2022-09-28T15:58:20.675Z"
   },
   {
    "duration": 129,
    "start_time": "2022-09-28T15:58:20.861Z"
   },
   {
    "duration": 143,
    "start_time": "2022-09-28T15:58:20.992Z"
   },
   {
    "duration": 146,
    "start_time": "2022-09-28T15:58:21.137Z"
   },
   {
    "duration": 126,
    "start_time": "2022-09-28T15:58:21.284Z"
   },
   {
    "duration": 133,
    "start_time": "2022-09-28T15:58:21.411Z"
   },
   {
    "duration": 130,
    "start_time": "2022-09-28T15:58:21.545Z"
   },
   {
    "duration": 105,
    "start_time": "2022-09-28T15:58:21.677Z"
   },
   {
    "duration": 119,
    "start_time": "2022-09-28T15:58:21.784Z"
   },
   {
    "duration": 213,
    "start_time": "2022-09-28T15:58:21.905Z"
   },
   {
    "duration": 184,
    "start_time": "2022-09-28T15:58:22.119Z"
   },
   {
    "duration": 153,
    "start_time": "2022-09-28T15:58:22.305Z"
   },
   {
    "duration": 248,
    "start_time": "2022-09-28T15:58:22.460Z"
   },
   {
    "duration": 111,
    "start_time": "2022-09-28T15:58:22.709Z"
   },
   {
    "duration": 143,
    "start_time": "2022-09-28T15:58:22.822Z"
   },
   {
    "duration": 33,
    "start_time": "2022-09-28T15:58:22.966Z"
   },
   {
    "duration": 185,
    "start_time": "2022-09-28T15:58:23.000Z"
   },
   {
    "duration": 13,
    "start_time": "2022-09-28T15:58:23.187Z"
   },
   {
    "duration": 174,
    "start_time": "2022-09-28T15:58:23.202Z"
   },
   {
    "duration": 174,
    "start_time": "2022-09-28T15:58:23.378Z"
   },
   {
    "duration": 160,
    "start_time": "2022-09-28T15:58:23.554Z"
   },
   {
    "duration": 240,
    "start_time": "2022-09-28T15:58:23.716Z"
   },
   {
    "duration": 159,
    "start_time": "2022-09-28T15:58:23.957Z"
   },
   {
    "duration": 165,
    "start_time": "2022-09-28T15:58:24.118Z"
   },
   {
    "duration": 182,
    "start_time": "2022-09-28T15:58:24.285Z"
   },
   {
    "duration": 235,
    "start_time": "2022-09-28T15:58:24.469Z"
   },
   {
    "duration": 143,
    "start_time": "2022-09-28T15:58:24.706Z"
   },
   {
    "duration": 13,
    "start_time": "2022-09-28T15:58:24.850Z"
   },
   {
    "duration": 127,
    "start_time": "2022-09-28T15:58:24.864Z"
   },
   {
    "duration": 0,
    "start_time": "2022-09-28T15:58:24.993Z"
   },
   {
    "duration": 1,
    "start_time": "2022-09-28T15:58:24.994Z"
   },
   {
    "duration": 0,
    "start_time": "2022-09-28T15:58:24.996Z"
   },
   {
    "duration": 14,
    "start_time": "2022-09-28T15:58:25.986Z"
   },
   {
    "duration": 1115,
    "start_time": "2022-09-28T15:58:30.156Z"
   },
   {
    "duration": 1987,
    "start_time": "2022-09-28T15:58:31.273Z"
   },
   {
    "duration": 10,
    "start_time": "2022-09-28T15:58:33.262Z"
   },
   {
    "duration": 156,
    "start_time": "2022-09-28T15:58:33.274Z"
   },
   {
    "duration": 10,
    "start_time": "2022-09-28T15:58:33.432Z"
   },
   {
    "duration": 28,
    "start_time": "2022-09-28T15:58:33.443Z"
   },
   {
    "duration": 25,
    "start_time": "2022-09-28T15:58:33.473Z"
   },
   {
    "duration": 11,
    "start_time": "2022-09-28T15:58:33.499Z"
   },
   {
    "duration": 21,
    "start_time": "2022-09-28T15:58:33.512Z"
   },
   {
    "duration": 28,
    "start_time": "2022-09-28T15:58:33.535Z"
   },
   {
    "duration": 25,
    "start_time": "2022-09-28T15:58:33.564Z"
   },
   {
    "duration": 18,
    "start_time": "2022-09-28T15:58:33.590Z"
   },
   {
    "duration": 216,
    "start_time": "2022-09-28T15:58:33.609Z"
   },
   {
    "duration": 131,
    "start_time": "2022-09-28T15:58:33.826Z"
   },
   {
    "duration": 4,
    "start_time": "2022-09-28T15:58:33.958Z"
   },
   {
    "duration": 127,
    "start_time": "2022-09-28T15:58:33.963Z"
   },
   {
    "duration": 106,
    "start_time": "2022-09-28T15:58:34.092Z"
   },
   {
    "duration": 115,
    "start_time": "2022-09-28T15:58:34.200Z"
   },
   {
    "duration": 128,
    "start_time": "2022-09-28T15:58:34.317Z"
   },
   {
    "duration": 188,
    "start_time": "2022-09-28T15:58:34.446Z"
   },
   {
    "duration": 211,
    "start_time": "2022-09-28T15:58:34.635Z"
   },
   {
    "duration": 291,
    "start_time": "2022-09-28T15:58:34.848Z"
   },
   {
    "duration": 229,
    "start_time": "2022-09-28T15:58:35.141Z"
   },
   {
    "duration": 288,
    "start_time": "2022-09-28T15:58:35.371Z"
   },
   {
    "duration": 289,
    "start_time": "2022-09-28T15:58:35.660Z"
   },
   {
    "duration": 509,
    "start_time": "2022-09-28T15:58:35.951Z"
   },
   {
    "duration": 275,
    "start_time": "2022-09-28T15:58:36.462Z"
   },
   {
    "duration": 7,
    "start_time": "2022-09-28T15:58:36.740Z"
   },
   {
    "duration": 17,
    "start_time": "2022-09-28T15:58:36.749Z"
   },
   {
    "duration": 67,
    "start_time": "2022-09-28T15:58:36.768Z"
   },
   {
    "duration": 5,
    "start_time": "2022-09-28T15:58:36.837Z"
   },
   {
    "duration": 11,
    "start_time": "2022-09-28T15:58:36.844Z"
   },
   {
    "duration": 6,
    "start_time": "2022-09-28T15:58:36.857Z"
   },
   {
    "duration": 7,
    "start_time": "2022-09-28T15:58:36.864Z"
   },
   {
    "duration": 574,
    "start_time": "2022-09-28T15:58:36.873Z"
   },
   {
    "duration": 4,
    "start_time": "2022-09-28T15:58:37.449Z"
   },
   {
    "duration": 778,
    "start_time": "2022-09-28T15:58:37.454Z"
   },
   {
    "duration": 4,
    "start_time": "2022-09-28T15:58:38.234Z"
   },
   {
    "duration": 143,
    "start_time": "2022-09-28T15:58:38.240Z"
   },
   {
    "duration": 135,
    "start_time": "2022-09-28T15:58:38.384Z"
   },
   {
    "duration": 144,
    "start_time": "2022-09-28T15:58:38.521Z"
   },
   {
    "duration": 197,
    "start_time": "2022-09-28T15:58:38.667Z"
   },
   {
    "duration": 210,
    "start_time": "2022-09-28T15:58:38.866Z"
   },
   {
    "duration": 289,
    "start_time": "2022-09-28T15:58:39.078Z"
   },
   {
    "duration": 301,
    "start_time": "2022-09-28T15:58:39.369Z"
   },
   {
    "duration": 206,
    "start_time": "2022-09-28T15:58:39.672Z"
   },
   {
    "duration": 275,
    "start_time": "2022-09-28T15:58:39.880Z"
   },
   {
    "duration": 488,
    "start_time": "2022-09-28T15:58:40.157Z"
   },
   {
    "duration": 182,
    "start_time": "2022-09-28T15:58:40.647Z"
   },
   {
    "duration": 142,
    "start_time": "2022-09-28T15:58:40.831Z"
   },
   {
    "duration": 235,
    "start_time": "2022-09-28T15:58:40.974Z"
   },
   {
    "duration": 122,
    "start_time": "2022-09-28T15:58:41.211Z"
   },
   {
    "duration": 145,
    "start_time": "2022-09-28T15:58:41.335Z"
   },
   {
    "duration": 35,
    "start_time": "2022-09-28T15:58:41.482Z"
   },
   {
    "duration": 193,
    "start_time": "2022-09-28T15:58:41.534Z"
   },
   {
    "duration": 16,
    "start_time": "2022-09-28T15:58:41.731Z"
   },
   {
    "duration": 181,
    "start_time": "2022-09-28T15:58:41.749Z"
   },
   {
    "duration": 164,
    "start_time": "2022-09-28T15:58:41.934Z"
   },
   {
    "duration": 172,
    "start_time": "2022-09-28T15:58:42.099Z"
   },
   {
    "duration": 252,
    "start_time": "2022-09-28T15:58:42.273Z"
   },
   {
    "duration": 156,
    "start_time": "2022-09-28T15:58:42.527Z"
   },
   {
    "duration": 175,
    "start_time": "2022-09-28T15:58:42.685Z"
   },
   {
    "duration": 184,
    "start_time": "2022-09-28T15:58:42.862Z"
   },
   {
    "duration": 290,
    "start_time": "2022-09-28T15:58:43.048Z"
   },
   {
    "duration": 148,
    "start_time": "2022-09-28T15:58:43.340Z"
   },
   {
    "duration": 13,
    "start_time": "2022-09-28T15:58:43.489Z"
   },
   {
    "duration": 139,
    "start_time": "2022-09-28T15:58:43.503Z"
   },
   {
    "duration": 0,
    "start_time": "2022-09-28T15:58:43.644Z"
   },
   {
    "duration": 0,
    "start_time": "2022-09-28T15:58:43.645Z"
   },
   {
    "duration": 0,
    "start_time": "2022-09-28T15:58:43.646Z"
   },
   {
    "duration": 1215,
    "start_time": "2022-09-28T15:59:07.160Z"
   },
   {
    "duration": 3574,
    "start_time": "2022-09-28T15:59:08.377Z"
   },
   {
    "duration": 11,
    "start_time": "2022-09-28T15:59:11.953Z"
   },
   {
    "duration": 307,
    "start_time": "2022-09-28T15:59:11.967Z"
   },
   {
    "duration": 63,
    "start_time": "2022-09-28T15:59:12.275Z"
   },
   {
    "duration": 11,
    "start_time": "2022-09-28T15:59:12.339Z"
   },
   {
    "duration": 12,
    "start_time": "2022-09-28T15:59:12.351Z"
   },
   {
    "duration": 14,
    "start_time": "2022-09-28T15:59:12.365Z"
   },
   {
    "duration": 65,
    "start_time": "2022-09-28T15:59:12.381Z"
   },
   {
    "duration": 8,
    "start_time": "2022-09-28T15:59:12.449Z"
   },
   {
    "duration": 75,
    "start_time": "2022-09-28T15:59:12.459Z"
   },
   {
    "duration": 23,
    "start_time": "2022-09-28T15:59:12.536Z"
   },
   {
    "duration": 74,
    "start_time": "2022-09-28T15:59:12.562Z"
   },
   {
    "duration": 352,
    "start_time": "2022-09-28T15:59:12.638Z"
   },
   {
    "duration": 13,
    "start_time": "2022-09-28T15:59:12.993Z"
   },
   {
    "duration": 142,
    "start_time": "2022-09-28T15:59:13.008Z"
   },
   {
    "duration": 3,
    "start_time": "2022-09-28T15:59:13.152Z"
   },
   {
    "duration": 124,
    "start_time": "2022-09-28T15:59:13.157Z"
   },
   {
    "duration": 122,
    "start_time": "2022-09-28T15:59:13.282Z"
   },
   {
    "duration": 131,
    "start_time": "2022-09-28T15:59:13.406Z"
   },
   {
    "duration": 177,
    "start_time": "2022-09-28T15:59:13.539Z"
   },
   {
    "duration": 100,
    "start_time": "2022-09-28T15:59:13.718Z"
   },
   {
    "duration": 146,
    "start_time": "2022-09-28T15:59:13.821Z"
   },
   {
    "duration": 160,
    "start_time": "2022-09-28T15:59:13.970Z"
   },
   {
    "duration": 180,
    "start_time": "2022-09-28T15:59:14.134Z"
   },
   {
    "duration": 187,
    "start_time": "2022-09-28T15:59:14.318Z"
   },
   {
    "duration": 127,
    "start_time": "2022-09-28T15:59:14.506Z"
   },
   {
    "duration": 203,
    "start_time": "2022-09-28T15:59:14.637Z"
   },
   {
    "duration": 131,
    "start_time": "2022-09-28T15:59:14.842Z"
   },
   {
    "duration": 8,
    "start_time": "2022-09-28T15:59:14.975Z"
   },
   {
    "duration": 19,
    "start_time": "2022-09-28T15:59:14.984Z"
   },
   {
    "duration": 41,
    "start_time": "2022-09-28T15:59:15.005Z"
   },
   {
    "duration": 6,
    "start_time": "2022-09-28T15:59:15.049Z"
   },
   {
    "duration": 10,
    "start_time": "2022-09-28T15:59:15.057Z"
   },
   {
    "duration": 11,
    "start_time": "2022-09-28T15:59:15.069Z"
   },
   {
    "duration": 17,
    "start_time": "2022-09-28T15:59:15.082Z"
   },
   {
    "duration": 324,
    "start_time": "2022-09-28T15:59:15.101Z"
   },
   {
    "duration": 6,
    "start_time": "2022-09-28T15:59:15.428Z"
   },
   {
    "duration": 400,
    "start_time": "2022-09-28T15:59:15.436Z"
   },
   {
    "duration": 5,
    "start_time": "2022-09-28T15:59:15.837Z"
   },
   {
    "duration": 164,
    "start_time": "2022-09-28T15:59:15.844Z"
   },
   {
    "duration": 143,
    "start_time": "2022-09-28T15:59:16.010Z"
   },
   {
    "duration": 184,
    "start_time": "2022-09-28T15:59:16.155Z"
   },
   {
    "duration": 248,
    "start_time": "2022-09-28T15:59:16.341Z"
   },
   {
    "duration": 128,
    "start_time": "2022-09-28T15:59:16.591Z"
   },
   {
    "duration": 138,
    "start_time": "2022-09-28T15:59:16.721Z"
   },
   {
    "duration": 134,
    "start_time": "2022-09-28T15:59:16.861Z"
   },
   {
    "duration": 99,
    "start_time": "2022-09-28T15:59:16.996Z"
   },
   {
    "duration": 138,
    "start_time": "2022-09-28T15:59:17.097Z"
   },
   {
    "duration": 274,
    "start_time": "2022-09-28T15:59:17.236Z"
   },
   {
    "duration": 164,
    "start_time": "2022-09-28T15:59:17.513Z"
   },
   {
    "duration": 144,
    "start_time": "2022-09-28T15:59:17.679Z"
   },
   {
    "duration": 283,
    "start_time": "2022-09-28T15:59:17.825Z"
   },
   {
    "duration": 153,
    "start_time": "2022-09-28T15:59:18.110Z"
   },
   {
    "duration": 175,
    "start_time": "2022-09-28T15:59:18.265Z"
   },
   {
    "duration": 51,
    "start_time": "2022-09-28T15:59:18.442Z"
   },
   {
    "duration": 248,
    "start_time": "2022-09-28T15:59:18.495Z"
   },
   {
    "duration": 18,
    "start_time": "2022-09-28T15:59:18.746Z"
   },
   {
    "duration": 251,
    "start_time": "2022-09-28T15:59:18.766Z"
   },
   {
    "duration": 204,
    "start_time": "2022-09-28T15:59:19.019Z"
   },
   {
    "duration": 198,
    "start_time": "2022-09-28T15:59:19.225Z"
   },
   {
    "duration": 272,
    "start_time": "2022-09-28T15:59:19.426Z"
   },
   {
    "duration": 175,
    "start_time": "2022-09-28T15:59:19.701Z"
   },
   {
    "duration": 168,
    "start_time": "2022-09-28T15:59:19.877Z"
   },
   {
    "duration": 195,
    "start_time": "2022-09-28T15:59:20.046Z"
   },
   {
    "duration": 237,
    "start_time": "2022-09-28T15:59:20.243Z"
   },
   {
    "duration": 146,
    "start_time": "2022-09-28T15:59:20.482Z"
   },
   {
    "duration": 13,
    "start_time": "2022-09-28T15:59:20.633Z"
   },
   {
    "duration": 122,
    "start_time": "2022-09-28T15:59:20.648Z"
   },
   {
    "duration": 0,
    "start_time": "2022-09-28T15:59:20.772Z"
   },
   {
    "duration": 0,
    "start_time": "2022-09-28T15:59:20.773Z"
   },
   {
    "duration": 0,
    "start_time": "2022-09-28T15:59:20.775Z"
   },
   {
    "duration": 1268,
    "start_time": "2022-09-30T17:30:49.611Z"
   },
   {
    "duration": 2009,
    "start_time": "2022-09-30T17:30:50.882Z"
   },
   {
    "duration": 8,
    "start_time": "2022-09-30T17:30:52.892Z"
   },
   {
    "duration": 134,
    "start_time": "2022-09-30T17:30:52.901Z"
   },
   {
    "duration": 8,
    "start_time": "2022-09-30T17:30:53.036Z"
   },
   {
    "duration": 7,
    "start_time": "2022-09-30T17:30:53.046Z"
   },
   {
    "duration": 17,
    "start_time": "2022-09-30T17:30:53.054Z"
   },
   {
    "duration": 9,
    "start_time": "2022-09-30T17:30:53.072Z"
   },
   {
    "duration": 18,
    "start_time": "2022-09-30T17:30:53.082Z"
   },
   {
    "duration": 7,
    "start_time": "2022-09-30T17:30:53.103Z"
   },
   {
    "duration": 14,
    "start_time": "2022-09-30T17:30:53.111Z"
   },
   {
    "duration": 20,
    "start_time": "2022-09-30T17:30:53.126Z"
   },
   {
    "duration": 16,
    "start_time": "2022-09-30T17:30:53.147Z"
   },
   {
    "duration": 240,
    "start_time": "2022-09-30T17:30:53.164Z"
   },
   {
    "duration": 14,
    "start_time": "2022-09-30T17:30:53.406Z"
   },
   {
    "duration": 132,
    "start_time": "2022-09-30T17:30:53.422Z"
   },
   {
    "duration": 3,
    "start_time": "2022-09-30T17:30:53.556Z"
   },
   {
    "duration": 115,
    "start_time": "2022-09-30T17:30:53.561Z"
   },
   {
    "duration": 107,
    "start_time": "2022-09-30T17:30:53.677Z"
   },
   {
    "duration": 104,
    "start_time": "2022-09-30T17:30:53.786Z"
   },
   {
    "duration": 125,
    "start_time": "2022-09-30T17:30:53.892Z"
   },
   {
    "duration": 85,
    "start_time": "2022-09-30T17:30:54.018Z"
   },
   {
    "duration": 124,
    "start_time": "2022-09-30T17:30:54.105Z"
   },
   {
    "duration": 123,
    "start_time": "2022-09-30T17:30:54.231Z"
   },
   {
    "duration": 135,
    "start_time": "2022-09-30T17:30:54.356Z"
   },
   {
    "duration": 148,
    "start_time": "2022-09-30T17:30:54.493Z"
   },
   {
    "duration": 109,
    "start_time": "2022-09-30T17:30:54.643Z"
   },
   {
    "duration": 184,
    "start_time": "2022-09-30T17:30:54.755Z"
   },
   {
    "duration": 107,
    "start_time": "2022-09-30T17:30:54.940Z"
   },
   {
    "duration": 7,
    "start_time": "2022-09-30T17:30:55.048Z"
   },
   {
    "duration": 19,
    "start_time": "2022-09-30T17:30:55.056Z"
   },
   {
    "duration": 23,
    "start_time": "2022-09-30T17:30:55.077Z"
   },
   {
    "duration": 4,
    "start_time": "2022-09-30T17:30:55.102Z"
   },
   {
    "duration": 15,
    "start_time": "2022-09-30T17:30:55.107Z"
   },
   {
    "duration": 16,
    "start_time": "2022-09-30T17:30:55.123Z"
   },
   {
    "duration": 9,
    "start_time": "2022-09-30T17:30:55.140Z"
   },
   {
    "duration": 255,
    "start_time": "2022-09-30T17:30:55.151Z"
   },
   {
    "duration": 3,
    "start_time": "2022-09-30T17:30:55.408Z"
   },
   {
    "duration": 370,
    "start_time": "2022-09-30T17:30:55.413Z"
   },
   {
    "duration": 4,
    "start_time": "2022-09-30T17:30:55.784Z"
   },
   {
    "duration": 122,
    "start_time": "2022-09-30T17:30:55.789Z"
   },
   {
    "duration": 122,
    "start_time": "2022-09-30T17:30:55.912Z"
   },
   {
    "duration": 130,
    "start_time": "2022-09-30T17:30:56.036Z"
   },
   {
    "duration": 144,
    "start_time": "2022-09-30T17:30:56.167Z"
   },
   {
    "duration": 108,
    "start_time": "2022-09-30T17:30:56.312Z"
   },
   {
    "duration": 123,
    "start_time": "2022-09-30T17:30:56.422Z"
   },
   {
    "duration": 119,
    "start_time": "2022-09-30T17:30:56.546Z"
   },
   {
    "duration": 94,
    "start_time": "2022-09-30T17:30:56.667Z"
   },
   {
    "duration": 119,
    "start_time": "2022-09-30T17:30:56.763Z"
   },
   {
    "duration": 212,
    "start_time": "2022-09-30T17:30:56.883Z"
   },
   {
    "duration": 137,
    "start_time": "2022-09-30T17:30:57.100Z"
   },
   {
    "duration": 137,
    "start_time": "2022-09-30T17:30:57.238Z"
   },
   {
    "duration": 231,
    "start_time": "2022-09-30T17:30:57.376Z"
   },
   {
    "duration": 112,
    "start_time": "2022-09-30T17:30:57.608Z"
   },
   {
    "duration": 136,
    "start_time": "2022-09-30T17:30:57.721Z"
   },
   {
    "duration": 42,
    "start_time": "2022-09-30T17:30:57.859Z"
   },
   {
    "duration": 160,
    "start_time": "2022-09-30T17:30:57.902Z"
   },
   {
    "duration": 13,
    "start_time": "2022-09-30T17:30:58.064Z"
   },
   {
    "duration": 164,
    "start_time": "2022-09-30T17:30:58.078Z"
   },
   {
    "duration": 167,
    "start_time": "2022-09-30T17:30:58.244Z"
   },
   {
    "duration": 160,
    "start_time": "2022-09-30T17:30:58.413Z"
   },
   {
    "duration": 239,
    "start_time": "2022-09-30T17:30:58.575Z"
   },
   {
    "duration": 143,
    "start_time": "2022-09-30T17:30:58.815Z"
   },
   {
    "duration": 154,
    "start_time": "2022-09-30T17:30:58.959Z"
   },
   {
    "duration": 171,
    "start_time": "2022-09-30T17:30:59.114Z"
   },
   {
    "duration": 224,
    "start_time": "2022-09-30T17:30:59.286Z"
   },
   {
    "duration": 146,
    "start_time": "2022-09-30T17:30:59.511Z"
   },
   {
    "duration": 12,
    "start_time": "2022-09-30T17:30:59.658Z"
   },
   {
    "duration": 116,
    "start_time": "2022-09-30T17:30:59.672Z"
   },
   {
    "duration": 0,
    "start_time": "2022-09-30T17:30:59.790Z"
   },
   {
    "duration": 0,
    "start_time": "2022-09-30T17:30:59.790Z"
   },
   {
    "duration": 0,
    "start_time": "2022-09-30T17:30:59.792Z"
   },
   {
    "duration": 18,
    "start_time": "2022-09-30T20:42:07.890Z"
   },
   {
    "duration": 7,
    "start_time": "2022-09-30T20:42:27.674Z"
   },
   {
    "duration": 13,
    "start_time": "2022-09-30T20:52:18.124Z"
   },
   {
    "duration": 15,
    "start_time": "2022-09-30T20:52:31.447Z"
   },
   {
    "duration": 14,
    "start_time": "2022-09-30T20:52:52.239Z"
   },
   {
    "duration": 10,
    "start_time": "2022-09-30T20:53:35.209Z"
   },
   {
    "duration": 127,
    "start_time": "2022-09-30T20:54:37.115Z"
   },
   {
    "duration": 108,
    "start_time": "2022-09-30T20:54:44.554Z"
   },
   {
    "duration": 98,
    "start_time": "2022-09-30T20:55:05.497Z"
   },
   {
    "duration": 90,
    "start_time": "2022-09-30T20:56:35.084Z"
   },
   {
    "duration": 4,
    "start_time": "2022-09-30T20:56:36.715Z"
   },
   {
    "duration": 14,
    "start_time": "2022-09-30T20:56:53.189Z"
   },
   {
    "duration": 103,
    "start_time": "2022-09-30T20:56:53.205Z"
   },
   {
    "duration": 4,
    "start_time": "2022-09-30T20:56:53.310Z"
   },
   {
    "duration": 154,
    "start_time": "2022-09-30T20:56:53.316Z"
   },
   {
    "duration": 142,
    "start_time": "2022-09-30T20:56:53.471Z"
   },
   {
    "duration": 123,
    "start_time": "2022-09-30T20:56:53.615Z"
   },
   {
    "duration": 92,
    "start_time": "2022-09-30T20:56:53.740Z"
   },
   {
    "duration": 91,
    "start_time": "2022-09-30T20:56:53.834Z"
   },
   {
    "duration": 117,
    "start_time": "2022-09-30T20:56:53.927Z"
   },
   {
    "duration": 95,
    "start_time": "2022-09-30T20:56:54.047Z"
   },
   {
    "duration": 101,
    "start_time": "2022-09-30T20:56:54.143Z"
   },
   {
    "duration": 89,
    "start_time": "2022-09-30T20:56:54.246Z"
   },
   {
    "duration": 97,
    "start_time": "2022-09-30T20:56:54.337Z"
   },
   {
    "duration": 113,
    "start_time": "2022-09-30T20:56:54.436Z"
   },
   {
    "duration": 137,
    "start_time": "2022-09-30T20:56:54.551Z"
   },
   {
    "duration": 15,
    "start_time": "2022-09-30T20:56:54.690Z"
   },
   {
    "duration": 39,
    "start_time": "2022-09-30T20:56:54.706Z"
   },
   {
    "duration": 24,
    "start_time": "2022-09-30T20:56:54.746Z"
   },
   {
    "duration": 15,
    "start_time": "2022-09-30T20:56:54.772Z"
   },
   {
    "duration": 15,
    "start_time": "2022-09-30T20:56:54.788Z"
   },
   {
    "duration": 25,
    "start_time": "2022-09-30T20:56:54.805Z"
   },
   {
    "duration": 321,
    "start_time": "2022-09-30T20:56:54.832Z"
   },
   {
    "duration": 4,
    "start_time": "2022-09-30T20:56:55.154Z"
   },
   {
    "duration": 303,
    "start_time": "2022-09-30T20:56:55.160Z"
   },
   {
    "duration": 4,
    "start_time": "2022-09-30T20:56:55.464Z"
   },
   {
    "duration": 143,
    "start_time": "2022-09-30T20:56:55.470Z"
   },
   {
    "duration": 123,
    "start_time": "2022-09-30T20:56:55.614Z"
   },
   {
    "duration": 128,
    "start_time": "2022-09-30T20:56:55.740Z"
   },
   {
    "duration": 137,
    "start_time": "2022-09-30T20:56:55.870Z"
   },
   {
    "duration": 109,
    "start_time": "2022-09-30T20:56:56.009Z"
   },
   {
    "duration": 127,
    "start_time": "2022-09-30T20:56:56.120Z"
   },
   {
    "duration": 135,
    "start_time": "2022-09-30T20:56:56.249Z"
   },
   {
    "duration": 191,
    "start_time": "2022-09-30T20:56:56.385Z"
   },
   {
    "duration": 125,
    "start_time": "2022-09-30T20:56:56.578Z"
   },
   {
    "duration": 137,
    "start_time": "2022-09-30T20:56:56.704Z"
   },
   {
    "duration": 138,
    "start_time": "2022-09-30T20:56:56.843Z"
   },
   {
    "duration": 144,
    "start_time": "2022-09-30T20:56:56.983Z"
   },
   {
    "duration": 129,
    "start_time": "2022-09-30T20:56:57.129Z"
   },
   {
    "duration": 112,
    "start_time": "2022-09-30T20:56:57.259Z"
   },
   {
    "duration": 151,
    "start_time": "2022-09-30T20:56:57.373Z"
   },
   {
    "duration": 30,
    "start_time": "2022-09-30T20:56:57.525Z"
   },
   {
    "duration": 188,
    "start_time": "2022-09-30T20:56:57.557Z"
   },
   {
    "duration": 14,
    "start_time": "2022-09-30T20:56:57.747Z"
   },
   {
    "duration": 175,
    "start_time": "2022-09-30T20:56:57.762Z"
   },
   {
    "duration": 154,
    "start_time": "2022-09-30T20:56:57.939Z"
   },
   {
    "duration": 241,
    "start_time": "2022-09-30T20:56:58.099Z"
   },
   {
    "duration": 165,
    "start_time": "2022-09-30T20:56:58.342Z"
   },
   {
    "duration": 145,
    "start_time": "2022-09-30T20:56:58.508Z"
   },
   {
    "duration": 172,
    "start_time": "2022-09-30T20:56:58.654Z"
   },
   {
    "duration": 181,
    "start_time": "2022-09-30T20:56:58.827Z"
   },
   {
    "duration": 161,
    "start_time": "2022-09-30T20:56:59.010Z"
   },
   {
    "duration": 142,
    "start_time": "2022-09-30T20:56:59.173Z"
   },
   {
    "duration": 11,
    "start_time": "2022-09-30T20:56:59.316Z"
   },
   {
    "duration": 18,
    "start_time": "2022-09-30T20:56:59.329Z"
   },
   {
    "duration": 0,
    "start_time": "2022-09-30T20:56:59.349Z"
   },
   {
    "duration": 0,
    "start_time": "2022-09-30T20:56:59.350Z"
   },
   {
    "duration": 0,
    "start_time": "2022-09-30T20:56:59.350Z"
   },
   {
    "duration": 7,
    "start_time": "2022-09-30T20:58:56.272Z"
   },
   {
    "duration": 199,
    "start_time": "2022-09-30T20:59:03.639Z"
   },
   {
    "duration": 305,
    "start_time": "2022-09-30T20:59:07.256Z"
   },
   {
    "duration": 3,
    "start_time": "2022-09-30T20:59:07.563Z"
   },
   {
    "duration": 252,
    "start_time": "2022-09-30T20:59:07.567Z"
   },
   {
    "duration": 3,
    "start_time": "2022-09-30T20:59:07.821Z"
   },
   {
    "duration": 130,
    "start_time": "2022-09-30T20:59:07.826Z"
   },
   {
    "duration": 123,
    "start_time": "2022-09-30T20:59:07.957Z"
   },
   {
    "duration": 131,
    "start_time": "2022-09-30T20:59:08.082Z"
   },
   {
    "duration": 150,
    "start_time": "2022-09-30T20:59:08.215Z"
   },
   {
    "duration": 106,
    "start_time": "2022-09-30T20:59:08.366Z"
   },
   {
    "duration": 138,
    "start_time": "2022-09-30T20:59:08.475Z"
   },
   {
    "duration": 226,
    "start_time": "2022-09-30T20:59:08.614Z"
   },
   {
    "duration": 84,
    "start_time": "2022-09-30T20:59:08.841Z"
   },
   {
    "duration": 117,
    "start_time": "2022-09-30T20:59:08.927Z"
   },
   {
    "duration": 139,
    "start_time": "2022-09-30T20:59:09.046Z"
   },
   {
    "duration": 147,
    "start_time": "2022-09-30T20:59:09.187Z"
   },
   {
    "duration": 131,
    "start_time": "2022-09-30T20:59:09.336Z"
   },
   {
    "duration": 137,
    "start_time": "2022-09-30T20:59:09.469Z"
   },
   {
    "duration": 118,
    "start_time": "2022-09-30T20:59:09.607Z"
   },
   {
    "duration": 146,
    "start_time": "2022-09-30T20:59:09.726Z"
   },
   {
    "duration": 36,
    "start_time": "2022-09-30T20:59:09.873Z"
   },
   {
    "duration": 168,
    "start_time": "2022-09-30T20:59:09.911Z"
   },
   {
    "duration": 20,
    "start_time": "2022-09-30T20:59:10.081Z"
   },
   {
    "duration": 164,
    "start_time": "2022-09-30T20:59:10.103Z"
   },
   {
    "duration": 156,
    "start_time": "2022-09-30T20:59:10.269Z"
   },
   {
    "duration": 258,
    "start_time": "2022-09-30T20:59:10.427Z"
   },
   {
    "duration": 157,
    "start_time": "2022-09-30T20:59:10.687Z"
   },
   {
    "duration": 134,
    "start_time": "2022-09-30T20:59:10.846Z"
   },
   {
    "duration": 155,
    "start_time": "2022-09-30T20:59:10.983Z"
   },
   {
    "duration": 170,
    "start_time": "2022-09-30T20:59:11.140Z"
   },
   {
    "duration": 155,
    "start_time": "2022-09-30T20:59:11.312Z"
   },
   {
    "duration": 143,
    "start_time": "2022-09-30T20:59:11.468Z"
   },
   {
    "duration": 16,
    "start_time": "2022-09-30T20:59:11.614Z"
   },
   {
    "duration": 20,
    "start_time": "2022-09-30T20:59:11.632Z"
   },
   {
    "duration": 0,
    "start_time": "2022-09-30T20:59:11.653Z"
   },
   {
    "duration": 0,
    "start_time": "2022-09-30T20:59:11.656Z"
   },
   {
    "duration": 0,
    "start_time": "2022-09-30T20:59:11.657Z"
   },
   {
    "duration": 17,
    "start_time": "2022-09-30T20:59:47.094Z"
   },
   {
    "duration": 15,
    "start_time": "2022-09-30T21:00:15.062Z"
   },
   {
    "duration": 13,
    "start_time": "2022-09-30T21:00:22.157Z"
   },
   {
    "duration": 15,
    "start_time": "2022-09-30T21:00:34.566Z"
   },
   {
    "duration": 138,
    "start_time": "2022-09-30T21:00:43.068Z"
   },
   {
    "duration": 202,
    "start_time": "2022-09-30T21:02:18.718Z"
   },
   {
    "duration": 127,
    "start_time": "2022-09-30T21:02:25.016Z"
   },
   {
    "duration": 13,
    "start_time": "2022-09-30T21:02:34.318Z"
   },
   {
    "duration": 152,
    "start_time": "2022-09-30T21:02:57.401Z"
   },
   {
    "duration": 132,
    "start_time": "2022-09-30T21:03:16.145Z"
   },
   {
    "duration": 222,
    "start_time": "2022-09-30T21:03:22.735Z"
   },
   {
    "duration": 134,
    "start_time": "2022-09-30T21:05:28.942Z"
   },
   {
    "duration": 17,
    "start_time": "2022-09-30T21:06:24.547Z"
   },
   {
    "duration": 162,
    "start_time": "2022-09-30T21:21:55.035Z"
   },
   {
    "duration": 148,
    "start_time": "2022-09-30T21:22:02.154Z"
   },
   {
    "duration": 178,
    "start_time": "2022-09-30T21:23:11.403Z"
   },
   {
    "duration": 151,
    "start_time": "2022-09-30T21:23:25.652Z"
   },
   {
    "duration": 148,
    "start_time": "2022-09-30T21:26:01.095Z"
   },
   {
    "duration": 148,
    "start_time": "2022-09-30T21:26:54.016Z"
   },
   {
    "duration": 143,
    "start_time": "2022-09-30T21:27:37.796Z"
   },
   {
    "duration": 447,
    "start_time": "2022-09-30T21:28:22.396Z"
   },
   {
    "duration": 132,
    "start_time": "2022-09-30T21:28:46.132Z"
   },
   {
    "duration": 141,
    "start_time": "2022-09-30T21:29:15.509Z"
   },
   {
    "duration": 195,
    "start_time": "2022-09-30T21:31:04.367Z"
   },
   {
    "duration": 153,
    "start_time": "2022-09-30T21:31:27.918Z"
   },
   {
    "duration": 974,
    "start_time": "2022-09-30T21:32:55.575Z"
   },
   {
    "duration": 7,
    "start_time": "2022-09-30T21:34:00.933Z"
   },
   {
    "duration": 13,
    "start_time": "2022-09-30T21:34:14.622Z"
   },
   {
    "duration": 21,
    "start_time": "2022-09-30T21:34:25.568Z"
   },
   {
    "duration": 12,
    "start_time": "2022-09-30T21:35:20.272Z"
   },
   {
    "duration": 20,
    "start_time": "2022-09-30T21:37:14.827Z"
   },
   {
    "duration": 13,
    "start_time": "2022-09-30T21:38:14.752Z"
   },
   {
    "duration": 12,
    "start_time": "2022-09-30T21:40:10.937Z"
   },
   {
    "duration": 13,
    "start_time": "2022-09-30T21:41:21.113Z"
   },
   {
    "duration": 3,
    "start_time": "2022-09-30T22:02:53.868Z"
   },
   {
    "duration": 92,
    "start_time": "2022-09-30T22:19:46.977Z"
   },
   {
    "duration": 46,
    "start_time": "2022-09-30T22:22:21.806Z"
   },
   {
    "duration": 10,
    "start_time": "2022-09-30T22:22:31.700Z"
   },
   {
    "duration": 13,
    "start_time": "2022-09-30T22:24:05.077Z"
   },
   {
    "duration": 59,
    "start_time": "2022-09-30T22:45:51.140Z"
   },
   {
    "duration": 144,
    "start_time": "2022-09-30T22:46:59.101Z"
   },
   {
    "duration": 86,
    "start_time": "2022-09-30T22:47:14.125Z"
   },
   {
    "duration": 97,
    "start_time": "2022-09-30T22:47:18.205Z"
   },
   {
    "duration": 14,
    "start_time": "2022-09-30T22:53:58.846Z"
   },
   {
    "duration": 106,
    "start_time": "2022-09-30T22:54:32.737Z"
   },
   {
    "duration": 93,
    "start_time": "2022-09-30T22:58:15.653Z"
   },
   {
    "duration": 8,
    "start_time": "2022-09-30T22:58:33.982Z"
   },
   {
    "duration": 2397,
    "start_time": "2022-09-30T23:00:51.135Z"
   },
   {
    "duration": 91,
    "start_time": "2022-09-30T23:01:03.470Z"
   },
   {
    "duration": 1242,
    "start_time": "2022-09-30T23:48:31.861Z"
   },
   {
    "duration": 2033,
    "start_time": "2022-09-30T23:48:33.105Z"
   },
   {
    "duration": 17,
    "start_time": "2022-09-30T23:48:35.140Z"
   },
   {
    "duration": 181,
    "start_time": "2022-09-30T23:48:35.159Z"
   },
   {
    "duration": 14,
    "start_time": "2022-09-30T23:48:35.341Z"
   },
   {
    "duration": 7,
    "start_time": "2022-09-30T23:48:35.357Z"
   },
   {
    "duration": 9,
    "start_time": "2022-09-30T23:48:35.366Z"
   },
   {
    "duration": 7,
    "start_time": "2022-09-30T23:48:35.378Z"
   },
   {
    "duration": 18,
    "start_time": "2022-09-30T23:48:35.387Z"
   },
   {
    "duration": 9,
    "start_time": "2022-09-30T23:48:35.408Z"
   },
   {
    "duration": 163,
    "start_time": "2022-09-30T23:48:35.419Z"
   },
   {
    "duration": 0,
    "start_time": "2022-09-30T23:48:35.589Z"
   },
   {
    "duration": 0,
    "start_time": "2022-09-30T23:48:35.590Z"
   },
   {
    "duration": 0,
    "start_time": "2022-09-30T23:48:35.593Z"
   },
   {
    "duration": 0,
    "start_time": "2022-09-30T23:48:35.594Z"
   },
   {
    "duration": 0,
    "start_time": "2022-09-30T23:48:35.595Z"
   },
   {
    "duration": 0,
    "start_time": "2022-09-30T23:48:35.596Z"
   },
   {
    "duration": 0,
    "start_time": "2022-09-30T23:48:35.597Z"
   },
   {
    "duration": 0,
    "start_time": "2022-09-30T23:48:35.598Z"
   },
   {
    "duration": 0,
    "start_time": "2022-09-30T23:48:35.599Z"
   },
   {
    "duration": 0,
    "start_time": "2022-09-30T23:48:35.601Z"
   },
   {
    "duration": 0,
    "start_time": "2022-09-30T23:48:35.602Z"
   },
   {
    "duration": 0,
    "start_time": "2022-09-30T23:48:35.603Z"
   },
   {
    "duration": 0,
    "start_time": "2022-09-30T23:48:35.604Z"
   },
   {
    "duration": 0,
    "start_time": "2022-09-30T23:48:35.615Z"
   },
   {
    "duration": 0,
    "start_time": "2022-09-30T23:48:35.617Z"
   },
   {
    "duration": 0,
    "start_time": "2022-09-30T23:48:35.619Z"
   },
   {
    "duration": 0,
    "start_time": "2022-09-30T23:48:35.655Z"
   },
   {
    "duration": 0,
    "start_time": "2022-09-30T23:48:35.656Z"
   },
   {
    "duration": 0,
    "start_time": "2022-09-30T23:48:35.657Z"
   },
   {
    "duration": 0,
    "start_time": "2022-09-30T23:48:35.658Z"
   },
   {
    "duration": 0,
    "start_time": "2022-09-30T23:48:35.659Z"
   },
   {
    "duration": 0,
    "start_time": "2022-09-30T23:48:35.660Z"
   },
   {
    "duration": 0,
    "start_time": "2022-09-30T23:48:35.661Z"
   },
   {
    "duration": 0,
    "start_time": "2022-09-30T23:48:35.662Z"
   },
   {
    "duration": 0,
    "start_time": "2022-09-30T23:48:35.663Z"
   },
   {
    "duration": 0,
    "start_time": "2022-09-30T23:48:35.664Z"
   },
   {
    "duration": 0,
    "start_time": "2022-09-30T23:48:35.665Z"
   },
   {
    "duration": 0,
    "start_time": "2022-09-30T23:48:35.666Z"
   },
   {
    "duration": 0,
    "start_time": "2022-09-30T23:48:35.667Z"
   },
   {
    "duration": 0,
    "start_time": "2022-09-30T23:48:35.668Z"
   },
   {
    "duration": 0,
    "start_time": "2022-09-30T23:48:35.668Z"
   },
   {
    "duration": 0,
    "start_time": "2022-09-30T23:48:35.669Z"
   },
   {
    "duration": 0,
    "start_time": "2022-09-30T23:48:35.670Z"
   },
   {
    "duration": 0,
    "start_time": "2022-09-30T23:48:35.671Z"
   },
   {
    "duration": 0,
    "start_time": "2022-09-30T23:48:35.672Z"
   },
   {
    "duration": 0,
    "start_time": "2022-09-30T23:48:35.673Z"
   },
   {
    "duration": 0,
    "start_time": "2022-09-30T23:48:35.674Z"
   },
   {
    "duration": 0,
    "start_time": "2022-09-30T23:48:35.675Z"
   },
   {
    "duration": 0,
    "start_time": "2022-09-30T23:48:35.676Z"
   },
   {
    "duration": 0,
    "start_time": "2022-09-30T23:48:35.677Z"
   },
   {
    "duration": 0,
    "start_time": "2022-09-30T23:48:35.678Z"
   },
   {
    "duration": 0,
    "start_time": "2022-09-30T23:48:35.679Z"
   },
   {
    "duration": 0,
    "start_time": "2022-09-30T23:48:35.680Z"
   },
   {
    "duration": 0,
    "start_time": "2022-09-30T23:48:35.681Z"
   },
   {
    "duration": 0,
    "start_time": "2022-09-30T23:48:35.682Z"
   },
   {
    "duration": 0,
    "start_time": "2022-09-30T23:48:35.683Z"
   },
   {
    "duration": 0,
    "start_time": "2022-09-30T23:48:35.685Z"
   },
   {
    "duration": 0,
    "start_time": "2022-09-30T23:48:35.686Z"
   },
   {
    "duration": 0,
    "start_time": "2022-09-30T23:48:35.687Z"
   },
   {
    "duration": 0,
    "start_time": "2022-09-30T23:48:35.688Z"
   },
   {
    "duration": 0,
    "start_time": "2022-09-30T23:48:35.689Z"
   },
   {
    "duration": 0,
    "start_time": "2022-09-30T23:48:35.690Z"
   },
   {
    "duration": 0,
    "start_time": "2022-09-30T23:48:35.691Z"
   },
   {
    "duration": 0,
    "start_time": "2022-09-30T23:48:35.692Z"
   },
   {
    "duration": 0,
    "start_time": "2022-09-30T23:48:35.757Z"
   },
   {
    "duration": 0,
    "start_time": "2022-09-30T23:48:35.758Z"
   },
   {
    "duration": 0,
    "start_time": "2022-09-30T23:48:35.760Z"
   },
   {
    "duration": 0,
    "start_time": "2022-09-30T23:48:35.761Z"
   },
   {
    "duration": 0,
    "start_time": "2022-09-30T23:48:35.761Z"
   },
   {
    "duration": 0,
    "start_time": "2022-09-30T23:48:35.762Z"
   },
   {
    "duration": 0,
    "start_time": "2022-09-30T23:48:35.763Z"
   },
   {
    "duration": 0,
    "start_time": "2022-09-30T23:48:35.764Z"
   },
   {
    "duration": 53,
    "start_time": "2022-09-30T23:48:51.638Z"
   },
   {
    "duration": 18,
    "start_time": "2022-09-30T23:49:00.479Z"
   },
   {
    "duration": 11,
    "start_time": "2022-09-30T23:50:03.939Z"
   },
   {
    "duration": 8,
    "start_time": "2022-09-30T23:50:28.090Z"
   },
   {
    "duration": 1316,
    "start_time": "2022-09-30T23:50:34.338Z"
   },
   {
    "duration": 2146,
    "start_time": "2022-09-30T23:50:35.656Z"
   },
   {
    "duration": 9,
    "start_time": "2022-09-30T23:50:37.804Z"
   },
   {
    "duration": 180,
    "start_time": "2022-09-30T23:50:37.815Z"
   },
   {
    "duration": 9,
    "start_time": "2022-09-30T23:50:37.996Z"
   },
   {
    "duration": 13,
    "start_time": "2022-09-30T23:50:38.007Z"
   },
   {
    "duration": 9,
    "start_time": "2022-09-30T23:50:38.022Z"
   },
   {
    "duration": 23,
    "start_time": "2022-09-30T23:50:38.032Z"
   },
   {
    "duration": 14,
    "start_time": "2022-09-30T23:50:38.057Z"
   },
   {
    "duration": 8,
    "start_time": "2022-09-30T23:50:38.074Z"
   },
   {
    "duration": 12,
    "start_time": "2022-09-30T23:50:38.084Z"
   },
   {
    "duration": 56,
    "start_time": "2022-09-30T23:50:38.098Z"
   },
   {
    "duration": 18,
    "start_time": "2022-09-30T23:50:38.156Z"
   },
   {
    "duration": 253,
    "start_time": "2022-09-30T23:50:38.176Z"
   },
   {
    "duration": 24,
    "start_time": "2022-09-30T23:50:38.431Z"
   },
   {
    "duration": 72,
    "start_time": "2022-09-30T23:50:38.457Z"
   },
   {
    "duration": 4,
    "start_time": "2022-09-30T23:50:38.531Z"
   },
   {
    "duration": 124,
    "start_time": "2022-09-30T23:50:38.553Z"
   },
   {
    "duration": 122,
    "start_time": "2022-09-30T23:50:38.679Z"
   },
   {
    "duration": 185,
    "start_time": "2022-09-30T23:50:38.803Z"
   },
   {
    "duration": 121,
    "start_time": "2022-09-30T23:50:38.989Z"
   },
   {
    "duration": 99,
    "start_time": "2022-09-30T23:50:39.112Z"
   },
   {
    "duration": 123,
    "start_time": "2022-09-30T23:50:39.213Z"
   },
   {
    "duration": 132,
    "start_time": "2022-09-30T23:50:39.337Z"
   },
   {
    "duration": 120,
    "start_time": "2022-09-30T23:50:39.471Z"
   },
   {
    "duration": 118,
    "start_time": "2022-09-30T23:50:39.593Z"
   },
   {
    "duration": 122,
    "start_time": "2022-09-30T23:50:39.713Z"
   },
   {
    "duration": 216,
    "start_time": "2022-09-30T23:50:39.840Z"
   },
   {
    "duration": 125,
    "start_time": "2022-09-30T23:50:40.057Z"
   },
   {
    "duration": 7,
    "start_time": "2022-09-30T23:50:40.184Z"
   },
   {
    "duration": 20,
    "start_time": "2022-09-30T23:50:40.193Z"
   },
   {
    "duration": 16,
    "start_time": "2022-09-30T23:50:40.215Z"
   },
   {
    "duration": 22,
    "start_time": "2022-09-30T23:50:40.232Z"
   },
   {
    "duration": 11,
    "start_time": "2022-09-30T23:50:40.256Z"
   },
   {
    "duration": 11,
    "start_time": "2022-09-30T23:50:40.269Z"
   },
   {
    "duration": 253,
    "start_time": "2022-09-30T23:50:40.282Z"
   },
   {
    "duration": 5,
    "start_time": "2022-09-30T23:50:40.537Z"
   },
   {
    "duration": 298,
    "start_time": "2022-09-30T23:50:40.544Z"
   },
   {
    "duration": 11,
    "start_time": "2022-09-30T23:50:40.844Z"
   },
   {
    "duration": 153,
    "start_time": "2022-09-30T23:50:40.856Z"
   },
   {
    "duration": 139,
    "start_time": "2022-09-30T23:50:41.011Z"
   },
   {
    "duration": 148,
    "start_time": "2022-09-30T23:50:41.154Z"
   },
   {
    "duration": 311,
    "start_time": "2022-09-30T23:50:41.304Z"
   },
   {
    "duration": 155,
    "start_time": "2022-09-30T23:50:41.617Z"
   },
   {
    "duration": 143,
    "start_time": "2022-09-30T23:50:41.775Z"
   },
   {
    "duration": 148,
    "start_time": "2022-09-30T23:50:41.921Z"
   },
   {
    "duration": 104,
    "start_time": "2022-09-30T23:50:42.070Z"
   },
   {
    "duration": 126,
    "start_time": "2022-09-30T23:50:42.175Z"
   },
   {
    "duration": 170,
    "start_time": "2022-09-30T23:50:42.303Z"
   },
   {
    "duration": 163,
    "start_time": "2022-09-30T23:50:42.475Z"
   },
   {
    "duration": 150,
    "start_time": "2022-09-30T23:50:42.640Z"
   },
   {
    "duration": 141,
    "start_time": "2022-09-30T23:50:42.792Z"
   },
   {
    "duration": 127,
    "start_time": "2022-09-30T23:50:42.935Z"
   },
   {
    "duration": 286,
    "start_time": "2022-09-30T23:50:43.064Z"
   },
   {
    "duration": 41,
    "start_time": "2022-09-30T23:50:43.354Z"
   },
   {
    "duration": 190,
    "start_time": "2022-09-30T23:50:43.397Z"
   },
   {
    "duration": 18,
    "start_time": "2022-09-30T23:50:43.589Z"
   },
   {
    "duration": 202,
    "start_time": "2022-09-30T23:50:43.609Z"
   },
   {
    "duration": 177,
    "start_time": "2022-09-30T23:50:43.813Z"
   },
   {
    "duration": 185,
    "start_time": "2022-09-30T23:50:43.992Z"
   },
   {
    "duration": 183,
    "start_time": "2022-09-30T23:50:44.178Z"
   },
   {
    "duration": 170,
    "start_time": "2022-09-30T23:50:44.363Z"
   },
   {
    "duration": 184,
    "start_time": "2022-09-30T23:50:44.535Z"
   },
   {
    "duration": 187,
    "start_time": "2022-09-30T23:50:44.721Z"
   },
   {
    "duration": 179,
    "start_time": "2022-09-30T23:50:44.909Z"
   },
   {
    "duration": 164,
    "start_time": "2022-09-30T23:50:45.090Z"
   },
   {
    "duration": 13,
    "start_time": "2022-09-30T23:50:45.256Z"
   },
   {
    "duration": 7,
    "start_time": "2022-09-30T23:50:45.271Z"
   },
   {
    "duration": 17,
    "start_time": "2022-09-30T23:50:45.280Z"
   },
   {
    "duration": 22,
    "start_time": "2022-09-30T23:50:45.298Z"
   },
   {
    "duration": 127,
    "start_time": "2022-09-30T23:50:45.322Z"
   },
   {
    "duration": 0,
    "start_time": "2022-09-30T23:50:45.450Z"
   },
   {
    "duration": 0,
    "start_time": "2022-09-30T23:50:45.451Z"
   },
   {
    "duration": 6,
    "start_time": "2022-09-30T23:54:19.314Z"
   },
   {
    "duration": 1172,
    "start_time": "2022-09-30T23:54:43.364Z"
   },
   {
    "duration": 2063,
    "start_time": "2022-09-30T23:54:44.538Z"
   },
   {
    "duration": 9,
    "start_time": "2022-09-30T23:54:46.603Z"
   },
   {
    "duration": 177,
    "start_time": "2022-09-30T23:54:46.615Z"
   },
   {
    "duration": 9,
    "start_time": "2022-09-30T23:54:46.794Z"
   },
   {
    "duration": 18,
    "start_time": "2022-09-30T23:54:46.805Z"
   },
   {
    "duration": 12,
    "start_time": "2022-09-30T23:54:46.825Z"
   },
   {
    "duration": 17,
    "start_time": "2022-09-30T23:54:46.839Z"
   },
   {
    "duration": 26,
    "start_time": "2022-09-30T23:54:46.858Z"
   },
   {
    "duration": 9,
    "start_time": "2022-09-30T23:54:46.888Z"
   },
   {
    "duration": 16,
    "start_time": "2022-09-30T23:54:46.899Z"
   },
   {
    "duration": 52,
    "start_time": "2022-09-30T23:54:46.917Z"
   },
   {
    "duration": 23,
    "start_time": "2022-09-30T23:54:46.971Z"
   },
   {
    "duration": 254,
    "start_time": "2022-09-30T23:54:46.995Z"
   },
   {
    "duration": 16,
    "start_time": "2022-09-30T23:54:47.251Z"
   },
   {
    "duration": 93,
    "start_time": "2022-09-30T23:54:47.269Z"
   },
   {
    "duration": 5,
    "start_time": "2022-09-30T23:54:47.364Z"
   },
   {
    "duration": 132,
    "start_time": "2022-09-30T23:54:47.371Z"
   },
   {
    "duration": 122,
    "start_time": "2022-09-30T23:54:47.505Z"
   },
   {
    "duration": 120,
    "start_time": "2022-09-30T23:54:47.628Z"
   },
   {
    "duration": 130,
    "start_time": "2022-09-30T23:54:47.749Z"
   },
   {
    "duration": 97,
    "start_time": "2022-09-30T23:54:47.881Z"
   },
   {
    "duration": 117,
    "start_time": "2022-09-30T23:54:47.979Z"
   },
   {
    "duration": 126,
    "start_time": "2022-09-30T23:54:48.098Z"
   },
   {
    "duration": 112,
    "start_time": "2022-09-30T23:54:48.226Z"
   },
   {
    "duration": 122,
    "start_time": "2022-09-30T23:54:48.339Z"
   },
   {
    "duration": 116,
    "start_time": "2022-09-30T23:54:48.463Z"
   },
   {
    "duration": 209,
    "start_time": "2022-09-30T23:54:48.584Z"
   },
   {
    "duration": 360,
    "start_time": "2022-09-30T23:54:48.795Z"
   },
   {
    "duration": 8,
    "start_time": "2022-09-30T23:54:49.157Z"
   },
   {
    "duration": 21,
    "start_time": "2022-09-30T23:54:49.167Z"
   },
   {
    "duration": 64,
    "start_time": "2022-09-30T23:54:49.190Z"
   },
   {
    "duration": 20,
    "start_time": "2022-09-30T23:54:49.257Z"
   },
   {
    "duration": 6,
    "start_time": "2022-09-30T23:54:49.279Z"
   },
   {
    "duration": 7,
    "start_time": "2022-09-30T23:54:49.288Z"
   },
   {
    "duration": 61,
    "start_time": "2022-09-30T23:54:49.297Z"
   },
   {
    "duration": 440,
    "start_time": "2022-09-30T23:54:49.360Z"
   },
   {
    "duration": 5,
    "start_time": "2022-09-30T23:54:49.855Z"
   },
   {
    "duration": 596,
    "start_time": "2022-09-30T23:54:49.861Z"
   },
   {
    "duration": 4,
    "start_time": "2022-09-30T23:54:50.459Z"
   },
   {
    "duration": 258,
    "start_time": "2022-09-30T23:54:50.464Z"
   },
   {
    "duration": 142,
    "start_time": "2022-09-30T23:54:50.723Z"
   },
   {
    "duration": 151,
    "start_time": "2022-09-30T23:54:50.866Z"
   },
   {
    "duration": 253,
    "start_time": "2022-09-30T23:54:51.019Z"
   },
   {
    "duration": 132,
    "start_time": "2022-09-30T23:54:51.273Z"
   },
   {
    "duration": 183,
    "start_time": "2022-09-30T23:54:51.407Z"
   },
   {
    "duration": 169,
    "start_time": "2022-09-30T23:54:51.592Z"
   },
   {
    "duration": 123,
    "start_time": "2022-09-30T23:54:51.763Z"
   },
   {
    "duration": 140,
    "start_time": "2022-09-30T23:54:51.888Z"
   },
   {
    "duration": 160,
    "start_time": "2022-09-30T23:54:52.030Z"
   },
   {
    "duration": 153,
    "start_time": "2022-09-30T23:54:52.192Z"
   },
   {
    "duration": 153,
    "start_time": "2022-09-30T23:54:52.346Z"
   },
   {
    "duration": 148,
    "start_time": "2022-09-30T23:54:52.501Z"
   },
   {
    "duration": 134,
    "start_time": "2022-09-30T23:54:52.654Z"
   },
   {
    "duration": 299,
    "start_time": "2022-09-30T23:54:52.790Z"
   },
   {
    "duration": 37,
    "start_time": "2022-09-30T23:54:53.091Z"
   },
   {
    "duration": 183,
    "start_time": "2022-09-30T23:54:53.129Z"
   },
   {
    "duration": 15,
    "start_time": "2022-09-30T23:54:53.314Z"
   },
   {
    "duration": 198,
    "start_time": "2022-09-30T23:54:53.330Z"
   },
   {
    "duration": 183,
    "start_time": "2022-09-30T23:54:53.530Z"
   },
   {
    "duration": 182,
    "start_time": "2022-09-30T23:54:53.715Z"
   },
   {
    "duration": 185,
    "start_time": "2022-09-30T23:54:53.898Z"
   },
   {
    "duration": 165,
    "start_time": "2022-09-30T23:54:54.085Z"
   },
   {
    "duration": 174,
    "start_time": "2022-09-30T23:54:54.254Z"
   },
   {
    "duration": 194,
    "start_time": "2022-09-30T23:54:54.430Z"
   },
   {
    "duration": 177,
    "start_time": "2022-09-30T23:54:54.626Z"
   },
   {
    "duration": 159,
    "start_time": "2022-09-30T23:54:54.805Z"
   },
   {
    "duration": 15,
    "start_time": "2022-09-30T23:54:54.965Z"
   },
   {
    "duration": 3,
    "start_time": "2022-09-30T23:54:54.981Z"
   },
   {
    "duration": 21,
    "start_time": "2022-09-30T23:54:54.985Z"
   },
   {
    "duration": 13,
    "start_time": "2022-09-30T23:54:55.008Z"
   },
   {
    "duration": 134,
    "start_time": "2022-09-30T23:54:55.023Z"
   },
   {
    "duration": 0,
    "start_time": "2022-09-30T23:54:55.159Z"
   },
   {
    "duration": 0,
    "start_time": "2022-09-30T23:54:55.160Z"
   },
   {
    "duration": 1256,
    "start_time": "2022-09-30T23:55:16.368Z"
   },
   {
    "duration": 2055,
    "start_time": "2022-09-30T23:55:17.626Z"
   },
   {
    "duration": 10,
    "start_time": "2022-09-30T23:55:19.683Z"
   },
   {
    "duration": 182,
    "start_time": "2022-09-30T23:55:19.696Z"
   },
   {
    "duration": 9,
    "start_time": "2022-09-30T23:55:19.879Z"
   },
   {
    "duration": 8,
    "start_time": "2022-09-30T23:55:19.890Z"
   },
   {
    "duration": 9,
    "start_time": "2022-09-30T23:55:19.900Z"
   },
   {
    "duration": 4,
    "start_time": "2022-09-30T23:55:19.910Z"
   },
   {
    "duration": 43,
    "start_time": "2022-09-30T23:55:19.915Z"
   },
   {
    "duration": 8,
    "start_time": "2022-09-30T23:55:19.961Z"
   },
   {
    "duration": 12,
    "start_time": "2022-09-30T23:55:19.971Z"
   },
   {
    "duration": 36,
    "start_time": "2022-09-30T23:55:19.985Z"
   },
   {
    "duration": 50,
    "start_time": "2022-09-30T23:55:20.023Z"
   },
   {
    "duration": 257,
    "start_time": "2022-09-30T23:55:20.075Z"
   },
   {
    "duration": 21,
    "start_time": "2022-09-30T23:55:20.334Z"
   },
   {
    "duration": 76,
    "start_time": "2022-09-30T23:55:20.357Z"
   },
   {
    "duration": 21,
    "start_time": "2022-09-30T23:55:20.435Z"
   },
   {
    "duration": 150,
    "start_time": "2022-09-30T23:55:20.458Z"
   },
   {
    "duration": 130,
    "start_time": "2022-09-30T23:55:20.610Z"
   },
   {
    "duration": 132,
    "start_time": "2022-09-30T23:55:20.742Z"
   },
   {
    "duration": 120,
    "start_time": "2022-09-30T23:55:20.876Z"
   },
   {
    "duration": 104,
    "start_time": "2022-09-30T23:55:20.998Z"
   },
   {
    "duration": 128,
    "start_time": "2022-09-30T23:55:21.105Z"
   },
   {
    "duration": 127,
    "start_time": "2022-09-30T23:55:21.235Z"
   },
   {
    "duration": 140,
    "start_time": "2022-09-30T23:55:21.365Z"
   },
   {
    "duration": 162,
    "start_time": "2022-09-30T23:55:21.508Z"
   },
   {
    "duration": 127,
    "start_time": "2022-09-30T23:55:21.673Z"
   },
   {
    "duration": 214,
    "start_time": "2022-09-30T23:55:21.804Z"
   },
   {
    "duration": 122,
    "start_time": "2022-09-30T23:55:22.020Z"
   },
   {
    "duration": 15,
    "start_time": "2022-09-30T23:55:22.144Z"
   },
   {
    "duration": 10,
    "start_time": "2022-09-30T23:55:22.160Z"
   },
   {
    "duration": 22,
    "start_time": "2022-09-30T23:55:22.171Z"
   },
   {
    "duration": 6,
    "start_time": "2022-09-30T23:55:22.195Z"
   },
   {
    "duration": 17,
    "start_time": "2022-09-30T23:55:22.203Z"
   },
   {
    "duration": 5,
    "start_time": "2022-09-30T23:55:22.222Z"
   },
   {
    "duration": 6,
    "start_time": "2022-09-30T23:55:22.257Z"
   },
   {
    "duration": 7,
    "start_time": "2022-09-30T23:55:22.264Z"
   },
   {
    "duration": 255,
    "start_time": "2022-09-30T23:55:22.273Z"
   },
   {
    "duration": 5,
    "start_time": "2022-09-30T23:55:22.530Z"
   },
   {
    "duration": 301,
    "start_time": "2022-09-30T23:55:22.536Z"
   },
   {
    "duration": 4,
    "start_time": "2022-09-30T23:55:22.839Z"
   },
   {
    "duration": 162,
    "start_time": "2022-09-30T23:55:22.853Z"
   },
   {
    "duration": 141,
    "start_time": "2022-09-30T23:55:23.017Z"
   },
   {
    "duration": 152,
    "start_time": "2022-09-30T23:55:23.160Z"
   },
   {
    "duration": 257,
    "start_time": "2022-09-30T23:55:23.314Z"
   },
   {
    "duration": 150,
    "start_time": "2022-09-30T23:55:23.573Z"
   },
   {
    "duration": 162,
    "start_time": "2022-09-30T23:55:23.725Z"
   },
   {
    "duration": 152,
    "start_time": "2022-09-30T23:55:23.890Z"
   },
   {
    "duration": 112,
    "start_time": "2022-09-30T23:55:24.044Z"
   },
   {
    "duration": 132,
    "start_time": "2022-09-30T23:55:24.157Z"
   },
   {
    "duration": 155,
    "start_time": "2022-09-30T23:55:24.291Z"
   },
   {
    "duration": 149,
    "start_time": "2022-09-30T23:55:24.454Z"
   },
   {
    "duration": 170,
    "start_time": "2022-09-30T23:55:24.605Z"
   },
   {
    "duration": 156,
    "start_time": "2022-09-30T23:55:24.777Z"
   },
   {
    "duration": 133,
    "start_time": "2022-09-30T23:55:24.935Z"
   },
   {
    "duration": 269,
    "start_time": "2022-09-30T23:55:25.070Z"
   },
   {
    "duration": 44,
    "start_time": "2022-09-30T23:55:25.341Z"
   },
   {
    "duration": 199,
    "start_time": "2022-09-30T23:55:25.387Z"
   },
   {
    "duration": 16,
    "start_time": "2022-09-30T23:55:25.588Z"
   },
   {
    "duration": 186,
    "start_time": "2022-09-30T23:55:25.606Z"
   },
   {
    "duration": 188,
    "start_time": "2022-09-30T23:55:25.794Z"
   },
   {
    "duration": 186,
    "start_time": "2022-09-30T23:55:25.983Z"
   },
   {
    "duration": 207,
    "start_time": "2022-09-30T23:55:26.171Z"
   },
   {
    "duration": 311,
    "start_time": "2022-09-30T23:55:26.380Z"
   },
   {
    "duration": 375,
    "start_time": "2022-09-30T23:55:26.692Z"
   },
   {
    "duration": 327,
    "start_time": "2022-09-30T23:55:27.069Z"
   },
   {
    "duration": 369,
    "start_time": "2022-09-30T23:55:27.398Z"
   },
   {
    "duration": 303,
    "start_time": "2022-09-30T23:55:27.769Z"
   },
   {
    "duration": 16,
    "start_time": "2022-09-30T23:55:28.073Z"
   },
   {
    "duration": 3,
    "start_time": "2022-09-30T23:55:28.090Z"
   },
   {
    "duration": 70,
    "start_time": "2022-09-30T23:55:28.095Z"
   },
   {
    "duration": 12,
    "start_time": "2022-09-30T23:55:28.167Z"
   },
   {
    "duration": 119,
    "start_time": "2022-09-30T23:55:28.181Z"
   },
   {
    "duration": 0,
    "start_time": "2022-09-30T23:55:28.302Z"
   },
   {
    "duration": 0,
    "start_time": "2022-09-30T23:55:28.303Z"
   },
   {
    "duration": 1147,
    "start_time": "2022-09-30T23:55:53.201Z"
   },
   {
    "duration": 2081,
    "start_time": "2022-09-30T23:55:54.350Z"
   },
   {
    "duration": 24,
    "start_time": "2022-09-30T23:55:56.433Z"
   },
   {
    "duration": 166,
    "start_time": "2022-09-30T23:55:56.460Z"
   },
   {
    "duration": 10,
    "start_time": "2022-09-30T23:55:56.628Z"
   },
   {
    "duration": 6,
    "start_time": "2022-09-30T23:55:56.654Z"
   },
   {
    "duration": 21,
    "start_time": "2022-09-30T23:55:56.661Z"
   },
   {
    "duration": 7,
    "start_time": "2022-09-30T23:55:56.685Z"
   },
   {
    "duration": 29,
    "start_time": "2022-09-30T23:55:56.694Z"
   },
   {
    "duration": 7,
    "start_time": "2022-09-30T23:55:56.726Z"
   },
   {
    "duration": 30,
    "start_time": "2022-09-30T23:55:56.735Z"
   },
   {
    "duration": 45,
    "start_time": "2022-09-30T23:55:56.767Z"
   },
   {
    "duration": 23,
    "start_time": "2022-09-30T23:55:56.814Z"
   },
   {
    "duration": 239,
    "start_time": "2022-09-30T23:55:56.839Z"
   },
   {
    "duration": 15,
    "start_time": "2022-09-30T23:55:57.080Z"
   },
   {
    "duration": 86,
    "start_time": "2022-09-30T23:55:57.097Z"
   },
   {
    "duration": 3,
    "start_time": "2022-09-30T23:55:57.185Z"
   },
   {
    "duration": 132,
    "start_time": "2022-09-30T23:55:57.190Z"
   },
   {
    "duration": 118,
    "start_time": "2022-09-30T23:55:57.325Z"
   },
   {
    "duration": 121,
    "start_time": "2022-09-30T23:55:57.445Z"
   },
   {
    "duration": 119,
    "start_time": "2022-09-30T23:55:57.568Z"
   },
   {
    "duration": 94,
    "start_time": "2022-09-30T23:55:57.688Z"
   },
   {
    "duration": 126,
    "start_time": "2022-09-30T23:55:57.784Z"
   },
   {
    "duration": 127,
    "start_time": "2022-09-30T23:55:57.911Z"
   },
   {
    "duration": 115,
    "start_time": "2022-09-30T23:55:58.040Z"
   },
   {
    "duration": 123,
    "start_time": "2022-09-30T23:55:58.156Z"
   },
   {
    "duration": 115,
    "start_time": "2022-09-30T23:55:58.280Z"
   },
   {
    "duration": 390,
    "start_time": "2022-09-30T23:55:58.399Z"
   },
   {
    "duration": 268,
    "start_time": "2022-09-30T23:55:58.790Z"
   },
   {
    "duration": 8,
    "start_time": "2022-09-30T23:55:59.059Z"
   },
   {
    "duration": 15,
    "start_time": "2022-09-30T23:55:59.069Z"
   },
   {
    "duration": 9,
    "start_time": "2022-09-30T23:55:59.086Z"
   },
   {
    "duration": 60,
    "start_time": "2022-09-30T23:55:59.097Z"
   },
   {
    "duration": 38,
    "start_time": "2022-09-30T23:55:59.160Z"
   },
   {
    "duration": 58,
    "start_time": "2022-09-30T23:55:59.200Z"
   },
   {
    "duration": 36,
    "start_time": "2022-09-30T23:55:59.260Z"
   },
   {
    "duration": 11,
    "start_time": "2022-09-30T23:55:59.298Z"
   },
   {
    "duration": 457,
    "start_time": "2022-09-30T23:55:59.311Z"
   },
   {
    "duration": 5,
    "start_time": "2022-09-30T23:55:59.770Z"
   },
   {
    "duration": 582,
    "start_time": "2022-09-30T23:55:59.776Z"
   },
   {
    "duration": 5,
    "start_time": "2022-09-30T23:56:00.359Z"
   },
   {
    "duration": 176,
    "start_time": "2022-09-30T23:56:00.366Z"
   },
   {
    "duration": 167,
    "start_time": "2022-09-30T23:56:00.544Z"
   },
   {
    "duration": 246,
    "start_time": "2022-09-30T23:56:00.713Z"
   },
   {
    "duration": 180,
    "start_time": "2022-09-30T23:56:00.961Z"
   },
   {
    "duration": 158,
    "start_time": "2022-09-30T23:56:01.142Z"
   },
   {
    "duration": 191,
    "start_time": "2022-09-30T23:56:01.302Z"
   },
   {
    "duration": 205,
    "start_time": "2022-09-30T23:56:01.495Z"
   },
   {
    "duration": 151,
    "start_time": "2022-09-30T23:56:01.703Z"
   },
   {
    "duration": 158,
    "start_time": "2022-09-30T23:56:01.856Z"
   },
   {
    "duration": 179,
    "start_time": "2022-09-30T23:56:02.016Z"
   },
   {
    "duration": 174,
    "start_time": "2022-09-30T23:56:02.197Z"
   },
   {
    "duration": 173,
    "start_time": "2022-09-30T23:56:02.373Z"
   },
   {
    "duration": 159,
    "start_time": "2022-09-30T23:56:02.549Z"
   },
   {
    "duration": 262,
    "start_time": "2022-09-30T23:56:02.710Z"
   },
   {
    "duration": 195,
    "start_time": "2022-09-30T23:56:02.974Z"
   },
   {
    "duration": 46,
    "start_time": "2022-09-30T23:56:03.171Z"
   },
   {
    "duration": 189,
    "start_time": "2022-09-30T23:56:03.218Z"
   },
   {
    "duration": 17,
    "start_time": "2022-09-30T23:56:03.408Z"
   },
   {
    "duration": 212,
    "start_time": "2022-09-30T23:56:03.426Z"
   },
   {
    "duration": 201,
    "start_time": "2022-09-30T23:56:03.640Z"
   },
   {
    "duration": 197,
    "start_time": "2022-09-30T23:56:03.843Z"
   },
   {
    "duration": 216,
    "start_time": "2022-09-30T23:56:04.042Z"
   },
   {
    "duration": 203,
    "start_time": "2022-09-30T23:56:04.260Z"
   },
   {
    "duration": 223,
    "start_time": "2022-09-30T23:56:04.465Z"
   },
   {
    "duration": 242,
    "start_time": "2022-09-30T23:56:04.691Z"
   },
   {
    "duration": 207,
    "start_time": "2022-09-30T23:56:04.936Z"
   },
   {
    "duration": 360,
    "start_time": "2022-09-30T23:56:05.145Z"
   },
   {
    "duration": 0,
    "start_time": "2022-09-30T23:56:05.508Z"
   },
   {
    "duration": 0,
    "start_time": "2022-09-30T23:56:05.509Z"
   },
   {
    "duration": 0,
    "start_time": "2022-09-30T23:56:05.511Z"
   },
   {
    "duration": 0,
    "start_time": "2022-09-30T23:56:05.512Z"
   },
   {
    "duration": 0,
    "start_time": "2022-09-30T23:56:05.513Z"
   },
   {
    "duration": 0,
    "start_time": "2022-09-30T23:56:05.514Z"
   },
   {
    "duration": 0,
    "start_time": "2022-09-30T23:56:05.515Z"
   },
   {
    "duration": 11,
    "start_time": "2022-09-30T23:57:37.673Z"
   },
   {
    "duration": 11,
    "start_time": "2022-09-30T23:57:41.629Z"
   },
   {
    "duration": 1284,
    "start_time": "2022-09-30T23:58:00.998Z"
   },
   {
    "duration": 2066,
    "start_time": "2022-09-30T23:58:02.285Z"
   },
   {
    "duration": 10,
    "start_time": "2022-09-30T23:58:04.352Z"
   },
   {
    "duration": 190,
    "start_time": "2022-09-30T23:58:04.365Z"
   },
   {
    "duration": 16,
    "start_time": "2022-09-30T23:58:04.557Z"
   },
   {
    "duration": 10,
    "start_time": "2022-09-30T23:58:04.575Z"
   },
   {
    "duration": 9,
    "start_time": "2022-09-30T23:58:04.588Z"
   },
   {
    "duration": 5,
    "start_time": "2022-09-30T23:58:04.598Z"
   },
   {
    "duration": 18,
    "start_time": "2022-09-30T23:58:04.605Z"
   },
   {
    "duration": 37,
    "start_time": "2022-09-30T23:58:04.626Z"
   },
   {
    "duration": 12,
    "start_time": "2022-09-30T23:58:04.665Z"
   },
   {
    "duration": 27,
    "start_time": "2022-09-30T23:58:04.679Z"
   },
   {
    "duration": 47,
    "start_time": "2022-09-30T23:58:04.708Z"
   },
   {
    "duration": 245,
    "start_time": "2022-09-30T23:58:04.757Z"
   },
   {
    "duration": 14,
    "start_time": "2022-09-30T23:58:05.004Z"
   },
   {
    "duration": 95,
    "start_time": "2022-09-30T23:58:05.019Z"
   },
   {
    "duration": 5,
    "start_time": "2022-09-30T23:58:05.116Z"
   },
   {
    "duration": 177,
    "start_time": "2022-09-30T23:58:05.123Z"
   },
   {
    "duration": 125,
    "start_time": "2022-09-30T23:58:05.303Z"
   },
   {
    "duration": 144,
    "start_time": "2022-09-30T23:58:05.430Z"
   },
   {
    "duration": 161,
    "start_time": "2022-09-30T23:58:05.576Z"
   },
   {
    "duration": 105,
    "start_time": "2022-09-30T23:58:05.739Z"
   },
   {
    "duration": 117,
    "start_time": "2022-09-30T23:58:05.853Z"
   },
   {
    "duration": 133,
    "start_time": "2022-09-30T23:58:05.972Z"
   },
   {
    "duration": 114,
    "start_time": "2022-09-30T23:58:06.107Z"
   },
   {
    "duration": 116,
    "start_time": "2022-09-30T23:58:06.223Z"
   },
   {
    "duration": 113,
    "start_time": "2022-09-30T23:58:06.341Z"
   },
   {
    "duration": 207,
    "start_time": "2022-09-30T23:58:06.458Z"
   },
   {
    "duration": 120,
    "start_time": "2022-09-30T23:58:06.667Z"
   },
   {
    "duration": 8,
    "start_time": "2022-09-30T23:58:06.789Z"
   },
   {
    "duration": 10,
    "start_time": "2022-09-30T23:58:06.799Z"
   },
   {
    "duration": 18,
    "start_time": "2022-09-30T23:58:06.811Z"
   },
   {
    "duration": 31,
    "start_time": "2022-09-30T23:58:06.831Z"
   },
   {
    "duration": 13,
    "start_time": "2022-09-30T23:58:06.864Z"
   },
   {
    "duration": 7,
    "start_time": "2022-09-30T23:58:06.879Z"
   },
   {
    "duration": 236,
    "start_time": "2022-09-30T23:58:06.888Z"
   },
   {
    "duration": 5,
    "start_time": "2022-09-30T23:58:07.126Z"
   },
   {
    "duration": 291,
    "start_time": "2022-09-30T23:58:07.132Z"
   },
   {
    "duration": 4,
    "start_time": "2022-09-30T23:58:07.425Z"
   },
   {
    "duration": 171,
    "start_time": "2022-09-30T23:58:07.430Z"
   },
   {
    "duration": 151,
    "start_time": "2022-09-30T23:58:07.603Z"
   },
   {
    "duration": 238,
    "start_time": "2022-09-30T23:58:07.755Z"
   },
   {
    "duration": 162,
    "start_time": "2022-09-30T23:58:07.994Z"
   },
   {
    "duration": 146,
    "start_time": "2022-09-30T23:58:08.158Z"
   },
   {
    "duration": 182,
    "start_time": "2022-09-30T23:58:08.305Z"
   },
   {
    "duration": 172,
    "start_time": "2022-09-30T23:58:08.490Z"
   },
   {
    "duration": 128,
    "start_time": "2022-09-30T23:58:08.664Z"
   },
   {
    "duration": 262,
    "start_time": "2022-09-30T23:58:08.794Z"
   },
   {
    "duration": 329,
    "start_time": "2022-09-30T23:58:09.058Z"
   },
   {
    "duration": 368,
    "start_time": "2022-09-30T23:58:09.389Z"
   },
   {
    "duration": 311,
    "start_time": "2022-09-30T23:58:09.759Z"
   },
   {
    "duration": 298,
    "start_time": "2022-09-30T23:58:10.072Z"
   },
   {
    "duration": 527,
    "start_time": "2022-09-30T23:58:10.372Z"
   },
   {
    "duration": 333,
    "start_time": "2022-09-30T23:58:10.953Z"
   },
   {
    "duration": 103,
    "start_time": "2022-09-30T23:58:11.288Z"
   },
   {
    "duration": 496,
    "start_time": "2022-09-30T23:58:11.393Z"
   },
   {
    "duration": 67,
    "start_time": "2022-09-30T23:58:11.890Z"
   },
   {
    "duration": 328,
    "start_time": "2022-09-30T23:58:11.959Z"
   },
   {
    "duration": 502,
    "start_time": "2022-09-30T23:58:12.288Z"
   },
   {
    "duration": 379,
    "start_time": "2022-09-30T23:58:12.791Z"
   },
   {
    "duration": 395,
    "start_time": "2022-09-30T23:58:13.172Z"
   },
   {
    "duration": 387,
    "start_time": "2022-09-30T23:58:13.569Z"
   },
   {
    "duration": 399,
    "start_time": "2022-09-30T23:58:13.958Z"
   },
   {
    "duration": 348,
    "start_time": "2022-09-30T23:58:14.359Z"
   },
   {
    "duration": 198,
    "start_time": "2022-09-30T23:58:14.709Z"
   },
   {
    "duration": 315,
    "start_time": "2022-09-30T23:58:14.909Z"
   },
   {
    "duration": 0,
    "start_time": "2022-09-30T23:58:15.226Z"
   },
   {
    "duration": 0,
    "start_time": "2022-09-30T23:58:15.227Z"
   },
   {
    "duration": 0,
    "start_time": "2022-09-30T23:58:15.228Z"
   },
   {
    "duration": 0,
    "start_time": "2022-09-30T23:58:15.229Z"
   },
   {
    "duration": 0,
    "start_time": "2022-09-30T23:58:15.230Z"
   },
   {
    "duration": 0,
    "start_time": "2022-09-30T23:58:15.231Z"
   },
   {
    "duration": 0,
    "start_time": "2022-09-30T23:58:15.233Z"
   },
   {
    "duration": 16,
    "start_time": "2022-10-01T00:00:13.495Z"
   },
   {
    "duration": 3,
    "start_time": "2022-10-01T00:00:13.800Z"
   },
   {
    "duration": 14,
    "start_time": "2022-10-01T00:00:14.084Z"
   },
   {
    "duration": 13,
    "start_time": "2022-10-01T00:00:14.240Z"
   },
   {
    "duration": 10,
    "start_time": "2022-10-01T00:00:14.561Z"
   },
   {
    "duration": 33,
    "start_time": "2022-10-01T00:00:15.020Z"
   },
   {
    "duration": 238,
    "start_time": "2022-10-01T00:00:15.178Z"
   },
   {
    "duration": 18,
    "start_time": "2022-10-01T00:00:51.893Z"
   },
   {
    "duration": 5,
    "start_time": "2022-10-01T00:00:53.515Z"
   },
   {
    "duration": 804,
    "start_time": "2022-10-01T00:09:14.627Z"
   },
   {
    "duration": 714,
    "start_time": "2022-10-01T00:09:29.155Z"
   },
   {
    "duration": 10,
    "start_time": "2022-10-01T00:09:37.882Z"
   },
   {
    "duration": 26,
    "start_time": "2022-10-01T00:09:58.477Z"
   },
   {
    "duration": 117,
    "start_time": "2022-10-01T00:10:04.268Z"
   },
   {
    "duration": 126,
    "start_time": "2022-10-01T00:10:55.117Z"
   },
   {
    "duration": 113,
    "start_time": "2022-10-01T00:11:04.325Z"
   },
   {
    "duration": 1363,
    "start_time": "2022-10-01T08:14:43.332Z"
   },
   {
    "duration": 2298,
    "start_time": "2022-10-01T08:14:44.697Z"
   },
   {
    "duration": 10,
    "start_time": "2022-10-01T08:14:46.997Z"
   },
   {
    "duration": 151,
    "start_time": "2022-10-01T08:14:47.010Z"
   },
   {
    "duration": 11,
    "start_time": "2022-10-01T08:14:47.162Z"
   },
   {
    "duration": 13,
    "start_time": "2022-10-01T08:14:47.174Z"
   },
   {
    "duration": 14,
    "start_time": "2022-10-01T08:14:47.188Z"
   },
   {
    "duration": 18,
    "start_time": "2022-10-01T08:14:47.204Z"
   },
   {
    "duration": 18,
    "start_time": "2022-10-01T08:14:47.224Z"
   },
   {
    "duration": 8,
    "start_time": "2022-10-01T08:14:47.245Z"
   },
   {
    "duration": 15,
    "start_time": "2022-10-01T08:14:47.255Z"
   },
   {
    "duration": 25,
    "start_time": "2022-10-01T08:14:47.272Z"
   },
   {
    "duration": 37,
    "start_time": "2022-10-01T08:14:47.298Z"
   },
   {
    "duration": 253,
    "start_time": "2022-10-01T08:14:47.337Z"
   },
   {
    "duration": 14,
    "start_time": "2022-10-01T08:14:47.592Z"
   },
   {
    "duration": 80,
    "start_time": "2022-10-01T08:14:47.608Z"
   },
   {
    "duration": 4,
    "start_time": "2022-10-01T08:14:47.690Z"
   },
   {
    "duration": 141,
    "start_time": "2022-10-01T08:14:47.696Z"
   },
   {
    "duration": 118,
    "start_time": "2022-10-01T08:14:47.839Z"
   },
   {
    "duration": 127,
    "start_time": "2022-10-01T08:14:47.958Z"
   },
   {
    "duration": 119,
    "start_time": "2022-10-01T08:14:48.086Z"
   },
   {
    "duration": 94,
    "start_time": "2022-10-01T08:14:48.206Z"
   },
   {
    "duration": 138,
    "start_time": "2022-10-01T08:14:48.302Z"
   },
   {
    "duration": 146,
    "start_time": "2022-10-01T08:14:48.442Z"
   },
   {
    "duration": 115,
    "start_time": "2022-10-01T08:14:48.589Z"
   },
   {
    "duration": 121,
    "start_time": "2022-10-01T08:14:48.706Z"
   },
   {
    "duration": 145,
    "start_time": "2022-10-01T08:14:48.829Z"
   },
   {
    "duration": 212,
    "start_time": "2022-10-01T08:14:48.980Z"
   },
   {
    "duration": 123,
    "start_time": "2022-10-01T08:14:49.193Z"
   },
   {
    "duration": 7,
    "start_time": "2022-10-01T08:14:49.318Z"
   },
   {
    "duration": 19,
    "start_time": "2022-10-01T08:14:49.326Z"
   },
   {
    "duration": 22,
    "start_time": "2022-10-01T08:14:49.346Z"
   },
   {
    "duration": 10,
    "start_time": "2022-10-01T08:14:49.370Z"
   },
   {
    "duration": 16,
    "start_time": "2022-10-01T08:14:49.382Z"
   },
   {
    "duration": 21,
    "start_time": "2022-10-01T08:14:49.400Z"
   },
   {
    "duration": 226,
    "start_time": "2022-10-01T08:14:49.422Z"
   },
   {
    "duration": 5,
    "start_time": "2022-10-01T08:14:49.650Z"
   },
   {
    "duration": 303,
    "start_time": "2022-10-01T08:14:49.657Z"
   },
   {
    "duration": 5,
    "start_time": "2022-10-01T08:14:49.961Z"
   },
   {
    "duration": 186,
    "start_time": "2022-10-01T08:14:49.967Z"
   },
   {
    "duration": 157,
    "start_time": "2022-10-01T08:14:50.155Z"
   },
   {
    "duration": 227,
    "start_time": "2022-10-01T08:14:50.320Z"
   },
   {
    "duration": 167,
    "start_time": "2022-10-01T08:14:50.549Z"
   },
   {
    "duration": 138,
    "start_time": "2022-10-01T08:14:50.720Z"
   },
   {
    "duration": 165,
    "start_time": "2022-10-01T08:14:50.859Z"
   },
   {
    "duration": 149,
    "start_time": "2022-10-01T08:14:51.026Z"
   },
   {
    "duration": 134,
    "start_time": "2022-10-01T08:14:51.177Z"
   },
   {
    "duration": 149,
    "start_time": "2022-10-01T08:14:51.313Z"
   },
   {
    "duration": 164,
    "start_time": "2022-10-01T08:14:51.464Z"
   },
   {
    "duration": 168,
    "start_time": "2022-10-01T08:14:51.630Z"
   },
   {
    "duration": 171,
    "start_time": "2022-10-01T08:14:51.799Z"
   },
   {
    "duration": 160,
    "start_time": "2022-10-01T08:14:51.972Z"
   },
   {
    "duration": 251,
    "start_time": "2022-10-01T08:14:52.133Z"
   },
   {
    "duration": 235,
    "start_time": "2022-10-01T08:15:03.569Z"
   },
   {
    "duration": 935,
    "start_time": "2022-10-01T19:51:23.696Z"
   },
   {
    "duration": 227,
    "start_time": "2022-10-01T19:51:36.985Z"
   },
   {
    "duration": 465,
    "start_time": "2022-10-01T19:53:29.456Z"
   },
   {
    "duration": 471,
    "start_time": "2022-10-01T19:54:50.921Z"
   },
   {
    "duration": 616,
    "start_time": "2022-10-01T19:58:11.581Z"
   },
   {
    "duration": 44,
    "start_time": "2022-10-01T20:13:32.678Z"
   }
  ],
  "kernelspec": {
   "display_name": "Python 3 (ipykernel)",
   "language": "python",
   "name": "python3"
  },
  "language_info": {
   "codemirror_mode": {
    "name": "ipython",
    "version": 3
   },
   "file_extension": ".py",
   "mimetype": "text/x-python",
   "name": "python",
   "nbconvert_exporter": "python",
   "pygments_lexer": "ipython3",
   "version": "3.9.5"
  },
  "toc": {
   "base_numbering": 1,
   "nav_menu": {},
   "number_sections": true,
   "sideBar": true,
   "skip_h1_title": true,
   "title_cell": "Table of Contents",
   "title_sidebar": "Contents",
   "toc_cell": false,
   "toc_position": {
    "height": "calc(100% - 180px)",
    "left": "10px",
    "top": "150px",
    "width": "198.002px"
   },
   "toc_section_display": true,
   "toc_window_display": true
  }
 },
 "nbformat": 4,
 "nbformat_minor": 2
}
