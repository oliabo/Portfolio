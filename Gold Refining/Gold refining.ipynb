{
 "cells": [
  {
   "cell_type": "markdown",
   "metadata": {},
   "source": [
    "# Восстановление золота из руды"
   ]
  },
  {
   "cell_type": "markdown",
   "metadata": {},
   "source": [
    "### Описание проекта\n",
    "\n",
    "Нужно подготовить прототип модели машинного обучения для «Цифры». Компания разрабатывает решения для эффективной работы промышленных предприятий.\n",
    "\n",
    "Модель должна предсказать коэффициент восстановления золота из золотосодержащей руды. Нужно использовать данные с параметрами добычи и очистки. \n",
    "\n",
    "Модель поможет оптимизировать производство, чтобы не запускать предприятие с убыточными характеристиками.\n",
    "\n",
    "Нужно:\n",
    "\n",
    "1. Подготовить данные;\n",
    "2. Провести исследовательский анализ данных;\n",
    "3. Построить и обучить модель."
   ]
  },
  {
   "cell_type": "markdown",
   "metadata": {},
   "source": [
    "## Подготовка данных"
   ]
  },
  {
   "cell_type": "code",
   "execution_count": 1,
   "metadata": {},
   "outputs": [],
   "source": [
    "import pandas as pd\n",
    "import seaborn as sns\n",
    "import matplotlib.pyplot as plt\n",
    "import numpy as np\n",
    "from sklearn.tree import DecisionTreeRegressor\n",
    "from sklearn.ensemble import RandomForestRegressor\n",
    "from sklearn.linear_model import LinearRegression\n",
    "from sklearn.model_selection import train_test_split, cross_val_score, GridSearchCV, KFold\n",
    "from sklearn.metrics import mean_absolute_error, make_scorer\n",
    "from sklearn.dummy import DummyRegressor"
   ]
  },
  {
   "cell_type": "code",
   "execution_count": 2,
   "metadata": {},
   "outputs": [],
   "source": [
    "STATE = 12345"
   ]
  },
  {
   "cell_type": "code",
   "execution_count": 3,
   "metadata": {},
   "outputs": [],
   "source": [
    "train_df = pd.read_csv('/datasets/gold_recovery_train_new.csv')\n",
    "test_df = pd.read_csv('/datasets/gold_recovery_test_new.csv')\n",
    "full_df = pd.read_csv('/datasets/gold_recovery_full_new.csv')"
   ]
  },
  {
   "cell_type": "code",
   "execution_count": 4,
   "metadata": {
    "scrolled": false
   },
   "outputs": [
    {
     "name": "stdout",
     "output_type": "stream",
     "text": [
      "<class 'pandas.core.frame.DataFrame'>\n",
      "RangeIndex: 14149 entries, 0 to 14148\n",
      "Data columns (total 87 columns):\n",
      " #   Column                                              Non-Null Count  Dtype  \n",
      "---  ------                                              --------------  -----  \n",
      " 0   date                                                14149 non-null  object \n",
      " 1   final.output.concentrate_ag                         14148 non-null  float64\n",
      " 2   final.output.concentrate_pb                         14148 non-null  float64\n",
      " 3   final.output.concentrate_sol                        13938 non-null  float64\n",
      " 4   final.output.concentrate_au                         14149 non-null  float64\n",
      " 5   final.output.recovery                               14149 non-null  float64\n",
      " 6   final.output.tail_ag                                14149 non-null  float64\n",
      " 7   final.output.tail_pb                                14049 non-null  float64\n",
      " 8   final.output.tail_sol                               14144 non-null  float64\n",
      " 9   final.output.tail_au                                14149 non-null  float64\n",
      " 10  primary_cleaner.input.sulfate                       14129 non-null  float64\n",
      " 11  primary_cleaner.input.depressant                    14117 non-null  float64\n",
      " 12  primary_cleaner.input.feed_size                     14149 non-null  float64\n",
      " 13  primary_cleaner.input.xanthate                      14049 non-null  float64\n",
      " 14  primary_cleaner.output.concentrate_ag               14149 non-null  float64\n",
      " 15  primary_cleaner.output.concentrate_pb               14063 non-null  float64\n",
      " 16  primary_cleaner.output.concentrate_sol              13863 non-null  float64\n",
      " 17  primary_cleaner.output.concentrate_au               14149 non-null  float64\n",
      " 18  primary_cleaner.output.tail_ag                      14148 non-null  float64\n",
      " 19  primary_cleaner.output.tail_pb                      14134 non-null  float64\n",
      " 20  primary_cleaner.output.tail_sol                     14103 non-null  float64\n",
      " 21  primary_cleaner.output.tail_au                      14149 non-null  float64\n",
      " 22  primary_cleaner.state.floatbank8_a_air              14145 non-null  float64\n",
      " 23  primary_cleaner.state.floatbank8_a_level            14148 non-null  float64\n",
      " 24  primary_cleaner.state.floatbank8_b_air              14145 non-null  float64\n",
      " 25  primary_cleaner.state.floatbank8_b_level            14148 non-null  float64\n",
      " 26  primary_cleaner.state.floatbank8_c_air              14147 non-null  float64\n",
      " 27  primary_cleaner.state.floatbank8_c_level            14148 non-null  float64\n",
      " 28  primary_cleaner.state.floatbank8_d_air              14146 non-null  float64\n",
      " 29  primary_cleaner.state.floatbank8_d_level            14148 non-null  float64\n",
      " 30  rougher.calculation.sulfate_to_au_concentrate       14148 non-null  float64\n",
      " 31  rougher.calculation.floatbank10_sulfate_to_au_feed  14148 non-null  float64\n",
      " 32  rougher.calculation.floatbank11_sulfate_to_au_feed  14148 non-null  float64\n",
      " 33  rougher.calculation.au_pb_ratio                     14149 non-null  float64\n",
      " 34  rougher.input.feed_ag                               14149 non-null  float64\n",
      " 35  rougher.input.feed_pb                               14049 non-null  float64\n",
      " 36  rougher.input.feed_rate                             14141 non-null  float64\n",
      " 37  rougher.input.feed_size                             14005 non-null  float64\n",
      " 38  rougher.input.feed_sol                              14071 non-null  float64\n",
      " 39  rougher.input.feed_au                               14149 non-null  float64\n",
      " 40  rougher.input.floatbank10_sulfate                   14120 non-null  float64\n",
      " 41  rougher.input.floatbank10_xanthate                  14141 non-null  float64\n",
      " 42  rougher.input.floatbank11_sulfate                   14113 non-null  float64\n",
      " 43  rougher.input.floatbank11_xanthate                  13721 non-null  float64\n",
      " 44  rougher.output.concentrate_ag                       14149 non-null  float64\n",
      " 45  rougher.output.concentrate_pb                       14149 non-null  float64\n",
      " 46  rougher.output.concentrate_sol                      14127 non-null  float64\n",
      " 47  rougher.output.concentrate_au                       14149 non-null  float64\n",
      " 48  rougher.output.recovery                             14149 non-null  float64\n",
      " 49  rougher.output.tail_ag                              14148 non-null  float64\n",
      " 50  rougher.output.tail_pb                              14149 non-null  float64\n",
      " 51  rougher.output.tail_sol                             14149 non-null  float64\n",
      " 52  rougher.output.tail_au                              14149 non-null  float64\n",
      " 53  rougher.state.floatbank10_a_air                     14148 non-null  float64\n",
      " 54  rougher.state.floatbank10_a_level                   14148 non-null  float64\n",
      " 55  rougher.state.floatbank10_b_air                     14148 non-null  float64\n",
      " 56  rougher.state.floatbank10_b_level                   14148 non-null  float64\n",
      " 57  rougher.state.floatbank10_c_air                     14148 non-null  float64\n",
      " 58  rougher.state.floatbank10_c_level                   14148 non-null  float64\n",
      " 59  rougher.state.floatbank10_d_air                     14149 non-null  float64\n",
      " 60  rougher.state.floatbank10_d_level                   14149 non-null  float64\n",
      " 61  rougher.state.floatbank10_e_air                     13713 non-null  float64\n",
      " 62  rougher.state.floatbank10_e_level                   14149 non-null  float64\n",
      " 63  rougher.state.floatbank10_f_air                     14149 non-null  float64\n",
      " 64  rougher.state.floatbank10_f_level                   14149 non-null  float64\n",
      " 65  secondary_cleaner.output.tail_ag                    14147 non-null  float64\n",
      " 66  secondary_cleaner.output.tail_pb                    14139 non-null  float64\n",
      " 67  secondary_cleaner.output.tail_sol                   12544 non-null  float64\n",
      " 68  secondary_cleaner.output.tail_au                    14149 non-null  float64\n",
      " 69  secondary_cleaner.state.floatbank2_a_air            13932 non-null  float64\n",
      " 70  secondary_cleaner.state.floatbank2_a_level          14148 non-null  float64\n",
      " 71  secondary_cleaner.state.floatbank2_b_air            14128 non-null  float64\n",
      " 72  secondary_cleaner.state.floatbank2_b_level          14148 non-null  float64\n",
      " 73  secondary_cleaner.state.floatbank3_a_air            14145 non-null  float64\n",
      " 74  secondary_cleaner.state.floatbank3_a_level          14148 non-null  float64\n",
      " 75  secondary_cleaner.state.floatbank3_b_air            14148 non-null  float64\n",
      " 76  secondary_cleaner.state.floatbank3_b_level          14148 non-null  float64\n",
      " 77  secondary_cleaner.state.floatbank4_a_air            14143 non-null  float64\n",
      " 78  secondary_cleaner.state.floatbank4_a_level          14148 non-null  float64\n",
      " 79  secondary_cleaner.state.floatbank4_b_air            14148 non-null  float64\n",
      " 80  secondary_cleaner.state.floatbank4_b_level          14148 non-null  float64\n",
      " 81  secondary_cleaner.state.floatbank5_a_air            14148 non-null  float64\n",
      " 82  secondary_cleaner.state.floatbank5_a_level          14148 non-null  float64\n",
      " 83  secondary_cleaner.state.floatbank5_b_air            14148 non-null  float64\n",
      " 84  secondary_cleaner.state.floatbank5_b_level          14148 non-null  float64\n",
      " 85  secondary_cleaner.state.floatbank6_a_air            14147 non-null  float64\n",
      " 86  secondary_cleaner.state.floatbank6_a_level          14148 non-null  float64\n",
      "dtypes: float64(86), object(1)\n",
      "memory usage: 9.4+ MB\n"
     ]
    },
    {
     "data": {
      "text/html": [
       "<div>\n",
       "<style scoped>\n",
       "    .dataframe tbody tr th:only-of-type {\n",
       "        vertical-align: middle;\n",
       "    }\n",
       "\n",
       "    .dataframe tbody tr th {\n",
       "        vertical-align: top;\n",
       "    }\n",
       "\n",
       "    .dataframe thead th {\n",
       "        text-align: right;\n",
       "    }\n",
       "</style>\n",
       "<table border=\"1\" class=\"dataframe\">\n",
       "  <thead>\n",
       "    <tr style=\"text-align: right;\">\n",
       "      <th></th>\n",
       "      <th>date</th>\n",
       "      <th>final.output.concentrate_ag</th>\n",
       "      <th>final.output.concentrate_pb</th>\n",
       "      <th>final.output.concentrate_sol</th>\n",
       "      <th>final.output.concentrate_au</th>\n",
       "      <th>final.output.recovery</th>\n",
       "      <th>final.output.tail_ag</th>\n",
       "      <th>final.output.tail_pb</th>\n",
       "      <th>final.output.tail_sol</th>\n",
       "      <th>final.output.tail_au</th>\n",
       "      <th>...</th>\n",
       "      <th>secondary_cleaner.state.floatbank4_a_air</th>\n",
       "      <th>secondary_cleaner.state.floatbank4_a_level</th>\n",
       "      <th>secondary_cleaner.state.floatbank4_b_air</th>\n",
       "      <th>secondary_cleaner.state.floatbank4_b_level</th>\n",
       "      <th>secondary_cleaner.state.floatbank5_a_air</th>\n",
       "      <th>secondary_cleaner.state.floatbank5_a_level</th>\n",
       "      <th>secondary_cleaner.state.floatbank5_b_air</th>\n",
       "      <th>secondary_cleaner.state.floatbank5_b_level</th>\n",
       "      <th>secondary_cleaner.state.floatbank6_a_air</th>\n",
       "      <th>secondary_cleaner.state.floatbank6_a_level</th>\n",
       "    </tr>\n",
       "  </thead>\n",
       "  <tbody>\n",
       "    <tr>\n",
       "      <th>0</th>\n",
       "      <td>2016-01-15 00:00:00</td>\n",
       "      <td>6.055403</td>\n",
       "      <td>9.889648</td>\n",
       "      <td>5.507324</td>\n",
       "      <td>42.192020</td>\n",
       "      <td>70.541216</td>\n",
       "      <td>10.411962</td>\n",
       "      <td>0.895447</td>\n",
       "      <td>16.904297</td>\n",
       "      <td>2.143149</td>\n",
       "      <td>...</td>\n",
       "      <td>14.016835</td>\n",
       "      <td>-502.488007</td>\n",
       "      <td>12.099931</td>\n",
       "      <td>-504.715942</td>\n",
       "      <td>9.925633</td>\n",
       "      <td>-498.310211</td>\n",
       "      <td>8.079666</td>\n",
       "      <td>-500.470978</td>\n",
       "      <td>14.151341</td>\n",
       "      <td>-605.841980</td>\n",
       "    </tr>\n",
       "    <tr>\n",
       "      <th>1</th>\n",
       "      <td>2016-01-15 01:00:00</td>\n",
       "      <td>6.029369</td>\n",
       "      <td>9.968944</td>\n",
       "      <td>5.257781</td>\n",
       "      <td>42.701629</td>\n",
       "      <td>69.266198</td>\n",
       "      <td>10.462676</td>\n",
       "      <td>0.927452</td>\n",
       "      <td>16.634514</td>\n",
       "      <td>2.224930</td>\n",
       "      <td>...</td>\n",
       "      <td>13.992281</td>\n",
       "      <td>-505.503262</td>\n",
       "      <td>11.950531</td>\n",
       "      <td>-501.331529</td>\n",
       "      <td>10.039245</td>\n",
       "      <td>-500.169983</td>\n",
       "      <td>7.984757</td>\n",
       "      <td>-500.582168</td>\n",
       "      <td>13.998353</td>\n",
       "      <td>-599.787184</td>\n",
       "    </tr>\n",
       "    <tr>\n",
       "      <th>2</th>\n",
       "      <td>2016-01-15 02:00:00</td>\n",
       "      <td>6.055926</td>\n",
       "      <td>10.213995</td>\n",
       "      <td>5.383759</td>\n",
       "      <td>42.657501</td>\n",
       "      <td>68.116445</td>\n",
       "      <td>10.507046</td>\n",
       "      <td>0.953716</td>\n",
       "      <td>16.208849</td>\n",
       "      <td>2.257889</td>\n",
       "      <td>...</td>\n",
       "      <td>14.015015</td>\n",
       "      <td>-502.520901</td>\n",
       "      <td>11.912783</td>\n",
       "      <td>-501.133383</td>\n",
       "      <td>10.070913</td>\n",
       "      <td>-500.129135</td>\n",
       "      <td>8.013877</td>\n",
       "      <td>-500.517572</td>\n",
       "      <td>14.028663</td>\n",
       "      <td>-601.427363</td>\n",
       "    </tr>\n",
       "    <tr>\n",
       "      <th>3</th>\n",
       "      <td>2016-01-15 03:00:00</td>\n",
       "      <td>6.047977</td>\n",
       "      <td>9.977019</td>\n",
       "      <td>4.858634</td>\n",
       "      <td>42.689819</td>\n",
       "      <td>68.347543</td>\n",
       "      <td>10.422762</td>\n",
       "      <td>0.883763</td>\n",
       "      <td>16.532835</td>\n",
       "      <td>2.146849</td>\n",
       "      <td>...</td>\n",
       "      <td>14.036510</td>\n",
       "      <td>-500.857308</td>\n",
       "      <td>11.999550</td>\n",
       "      <td>-501.193686</td>\n",
       "      <td>9.970366</td>\n",
       "      <td>-499.201640</td>\n",
       "      <td>7.977324</td>\n",
       "      <td>-500.255908</td>\n",
       "      <td>14.005551</td>\n",
       "      <td>-599.996129</td>\n",
       "    </tr>\n",
       "    <tr>\n",
       "      <th>4</th>\n",
       "      <td>2016-01-15 04:00:00</td>\n",
       "      <td>6.148599</td>\n",
       "      <td>10.142511</td>\n",
       "      <td>4.939416</td>\n",
       "      <td>42.774141</td>\n",
       "      <td>66.927016</td>\n",
       "      <td>10.360302</td>\n",
       "      <td>0.792826</td>\n",
       "      <td>16.525686</td>\n",
       "      <td>2.055292</td>\n",
       "      <td>...</td>\n",
       "      <td>14.027298</td>\n",
       "      <td>-499.838632</td>\n",
       "      <td>11.953070</td>\n",
       "      <td>-501.053894</td>\n",
       "      <td>9.925709</td>\n",
       "      <td>-501.686727</td>\n",
       "      <td>7.894242</td>\n",
       "      <td>-500.356035</td>\n",
       "      <td>13.996647</td>\n",
       "      <td>-601.496691</td>\n",
       "    </tr>\n",
       "  </tbody>\n",
       "</table>\n",
       "<p>5 rows × 87 columns</p>\n",
       "</div>"
      ],
      "text/plain": [
       "                  date  final.output.concentrate_ag  \\\n",
       "0  2016-01-15 00:00:00                     6.055403   \n",
       "1  2016-01-15 01:00:00                     6.029369   \n",
       "2  2016-01-15 02:00:00                     6.055926   \n",
       "3  2016-01-15 03:00:00                     6.047977   \n",
       "4  2016-01-15 04:00:00                     6.148599   \n",
       "\n",
       "   final.output.concentrate_pb  final.output.concentrate_sol  \\\n",
       "0                     9.889648                      5.507324   \n",
       "1                     9.968944                      5.257781   \n",
       "2                    10.213995                      5.383759   \n",
       "3                     9.977019                      4.858634   \n",
       "4                    10.142511                      4.939416   \n",
       "\n",
       "   final.output.concentrate_au  final.output.recovery  final.output.tail_ag  \\\n",
       "0                    42.192020              70.541216             10.411962   \n",
       "1                    42.701629              69.266198             10.462676   \n",
       "2                    42.657501              68.116445             10.507046   \n",
       "3                    42.689819              68.347543             10.422762   \n",
       "4                    42.774141              66.927016             10.360302   \n",
       "\n",
       "   final.output.tail_pb  final.output.tail_sol  final.output.tail_au  ...  \\\n",
       "0              0.895447              16.904297              2.143149  ...   \n",
       "1              0.927452              16.634514              2.224930  ...   \n",
       "2              0.953716              16.208849              2.257889  ...   \n",
       "3              0.883763              16.532835              2.146849  ...   \n",
       "4              0.792826              16.525686              2.055292  ...   \n",
       "\n",
       "   secondary_cleaner.state.floatbank4_a_air  \\\n",
       "0                                 14.016835   \n",
       "1                                 13.992281   \n",
       "2                                 14.015015   \n",
       "3                                 14.036510   \n",
       "4                                 14.027298   \n",
       "\n",
       "   secondary_cleaner.state.floatbank4_a_level  \\\n",
       "0                                 -502.488007   \n",
       "1                                 -505.503262   \n",
       "2                                 -502.520901   \n",
       "3                                 -500.857308   \n",
       "4                                 -499.838632   \n",
       "\n",
       "   secondary_cleaner.state.floatbank4_b_air  \\\n",
       "0                                 12.099931   \n",
       "1                                 11.950531   \n",
       "2                                 11.912783   \n",
       "3                                 11.999550   \n",
       "4                                 11.953070   \n",
       "\n",
       "   secondary_cleaner.state.floatbank4_b_level  \\\n",
       "0                                 -504.715942   \n",
       "1                                 -501.331529   \n",
       "2                                 -501.133383   \n",
       "3                                 -501.193686   \n",
       "4                                 -501.053894   \n",
       "\n",
       "   secondary_cleaner.state.floatbank5_a_air  \\\n",
       "0                                  9.925633   \n",
       "1                                 10.039245   \n",
       "2                                 10.070913   \n",
       "3                                  9.970366   \n",
       "4                                  9.925709   \n",
       "\n",
       "   secondary_cleaner.state.floatbank5_a_level  \\\n",
       "0                                 -498.310211   \n",
       "1                                 -500.169983   \n",
       "2                                 -500.129135   \n",
       "3                                 -499.201640   \n",
       "4                                 -501.686727   \n",
       "\n",
       "   secondary_cleaner.state.floatbank5_b_air  \\\n",
       "0                                  8.079666   \n",
       "1                                  7.984757   \n",
       "2                                  8.013877   \n",
       "3                                  7.977324   \n",
       "4                                  7.894242   \n",
       "\n",
       "   secondary_cleaner.state.floatbank5_b_level  \\\n",
       "0                                 -500.470978   \n",
       "1                                 -500.582168   \n",
       "2                                 -500.517572   \n",
       "3                                 -500.255908   \n",
       "4                                 -500.356035   \n",
       "\n",
       "   secondary_cleaner.state.floatbank6_a_air  \\\n",
       "0                                 14.151341   \n",
       "1                                 13.998353   \n",
       "2                                 14.028663   \n",
       "3                                 14.005551   \n",
       "4                                 13.996647   \n",
       "\n",
       "   secondary_cleaner.state.floatbank6_a_level  \n",
       "0                                 -605.841980  \n",
       "1                                 -599.787184  \n",
       "2                                 -601.427363  \n",
       "3                                 -599.996129  \n",
       "4                                 -601.496691  \n",
       "\n",
       "[5 rows x 87 columns]"
      ]
     },
     "execution_count": 4,
     "metadata": {},
     "output_type": "execute_result"
    }
   ],
   "source": [
    "train_df.info()\n",
    "train_df.head()"
   ]
  },
  {
   "cell_type": "code",
   "execution_count": 5,
   "metadata": {},
   "outputs": [
    {
     "name": "stdout",
     "output_type": "stream",
     "text": [
      "<class 'pandas.core.frame.DataFrame'>\n",
      "RangeIndex: 5290 entries, 0 to 5289\n",
      "Data columns (total 53 columns):\n",
      " #   Column                                      Non-Null Count  Dtype  \n",
      "---  ------                                      --------------  -----  \n",
      " 0   date                                        5290 non-null   object \n",
      " 1   primary_cleaner.input.sulfate               5286 non-null   float64\n",
      " 2   primary_cleaner.input.depressant            5285 non-null   float64\n",
      " 3   primary_cleaner.input.feed_size             5290 non-null   float64\n",
      " 4   primary_cleaner.input.xanthate              5286 non-null   float64\n",
      " 5   primary_cleaner.state.floatbank8_a_air      5290 non-null   float64\n",
      " 6   primary_cleaner.state.floatbank8_a_level    5290 non-null   float64\n",
      " 7   primary_cleaner.state.floatbank8_b_air      5290 non-null   float64\n",
      " 8   primary_cleaner.state.floatbank8_b_level    5290 non-null   float64\n",
      " 9   primary_cleaner.state.floatbank8_c_air      5290 non-null   float64\n",
      " 10  primary_cleaner.state.floatbank8_c_level    5290 non-null   float64\n",
      " 11  primary_cleaner.state.floatbank8_d_air      5290 non-null   float64\n",
      " 12  primary_cleaner.state.floatbank8_d_level    5290 non-null   float64\n",
      " 13  rougher.input.feed_ag                       5290 non-null   float64\n",
      " 14  rougher.input.feed_pb                       5290 non-null   float64\n",
      " 15  rougher.input.feed_rate                     5287 non-null   float64\n",
      " 16  rougher.input.feed_size                     5289 non-null   float64\n",
      " 17  rougher.input.feed_sol                      5269 non-null   float64\n",
      " 18  rougher.input.feed_au                       5290 non-null   float64\n",
      " 19  rougher.input.floatbank10_sulfate           5285 non-null   float64\n",
      " 20  rougher.input.floatbank10_xanthate          5290 non-null   float64\n",
      " 21  rougher.input.floatbank11_sulfate           5282 non-null   float64\n",
      " 22  rougher.input.floatbank11_xanthate          5265 non-null   float64\n",
      " 23  rougher.state.floatbank10_a_air             5290 non-null   float64\n",
      " 24  rougher.state.floatbank10_a_level           5290 non-null   float64\n",
      " 25  rougher.state.floatbank10_b_air             5290 non-null   float64\n",
      " 26  rougher.state.floatbank10_b_level           5290 non-null   float64\n",
      " 27  rougher.state.floatbank10_c_air             5290 non-null   float64\n",
      " 28  rougher.state.floatbank10_c_level           5290 non-null   float64\n",
      " 29  rougher.state.floatbank10_d_air             5290 non-null   float64\n",
      " 30  rougher.state.floatbank10_d_level           5290 non-null   float64\n",
      " 31  rougher.state.floatbank10_e_air             5290 non-null   float64\n",
      " 32  rougher.state.floatbank10_e_level           5290 non-null   float64\n",
      " 33  rougher.state.floatbank10_f_air             5290 non-null   float64\n",
      " 34  rougher.state.floatbank10_f_level           5290 non-null   float64\n",
      " 35  secondary_cleaner.state.floatbank2_a_air    5287 non-null   float64\n",
      " 36  secondary_cleaner.state.floatbank2_a_level  5290 non-null   float64\n",
      " 37  secondary_cleaner.state.floatbank2_b_air    5288 non-null   float64\n",
      " 38  secondary_cleaner.state.floatbank2_b_level  5290 non-null   float64\n",
      " 39  secondary_cleaner.state.floatbank3_a_air    5281 non-null   float64\n",
      " 40  secondary_cleaner.state.floatbank3_a_level  5290 non-null   float64\n",
      " 41  secondary_cleaner.state.floatbank3_b_air    5290 non-null   float64\n",
      " 42  secondary_cleaner.state.floatbank3_b_level  5290 non-null   float64\n",
      " 43  secondary_cleaner.state.floatbank4_a_air    5290 non-null   float64\n",
      " 44  secondary_cleaner.state.floatbank4_a_level  5290 non-null   float64\n",
      " 45  secondary_cleaner.state.floatbank4_b_air    5290 non-null   float64\n",
      " 46  secondary_cleaner.state.floatbank4_b_level  5290 non-null   float64\n",
      " 47  secondary_cleaner.state.floatbank5_a_air    5290 non-null   float64\n",
      " 48  secondary_cleaner.state.floatbank5_a_level  5290 non-null   float64\n",
      " 49  secondary_cleaner.state.floatbank5_b_air    5290 non-null   float64\n",
      " 50  secondary_cleaner.state.floatbank5_b_level  5290 non-null   float64\n",
      " 51  secondary_cleaner.state.floatbank6_a_air    5290 non-null   float64\n",
      " 52  secondary_cleaner.state.floatbank6_a_level  5290 non-null   float64\n",
      "dtypes: float64(52), object(1)\n",
      "memory usage: 2.1+ MB\n"
     ]
    },
    {
     "data": {
      "text/html": [
       "<div>\n",
       "<style scoped>\n",
       "    .dataframe tbody tr th:only-of-type {\n",
       "        vertical-align: middle;\n",
       "    }\n",
       "\n",
       "    .dataframe tbody tr th {\n",
       "        vertical-align: top;\n",
       "    }\n",
       "\n",
       "    .dataframe thead th {\n",
       "        text-align: right;\n",
       "    }\n",
       "</style>\n",
       "<table border=\"1\" class=\"dataframe\">\n",
       "  <thead>\n",
       "    <tr style=\"text-align: right;\">\n",
       "      <th></th>\n",
       "      <th>date</th>\n",
       "      <th>primary_cleaner.input.sulfate</th>\n",
       "      <th>primary_cleaner.input.depressant</th>\n",
       "      <th>primary_cleaner.input.feed_size</th>\n",
       "      <th>primary_cleaner.input.xanthate</th>\n",
       "      <th>primary_cleaner.state.floatbank8_a_air</th>\n",
       "      <th>primary_cleaner.state.floatbank8_a_level</th>\n",
       "      <th>primary_cleaner.state.floatbank8_b_air</th>\n",
       "      <th>primary_cleaner.state.floatbank8_b_level</th>\n",
       "      <th>primary_cleaner.state.floatbank8_c_air</th>\n",
       "      <th>...</th>\n",
       "      <th>secondary_cleaner.state.floatbank4_a_air</th>\n",
       "      <th>secondary_cleaner.state.floatbank4_a_level</th>\n",
       "      <th>secondary_cleaner.state.floatbank4_b_air</th>\n",
       "      <th>secondary_cleaner.state.floatbank4_b_level</th>\n",
       "      <th>secondary_cleaner.state.floatbank5_a_air</th>\n",
       "      <th>secondary_cleaner.state.floatbank5_a_level</th>\n",
       "      <th>secondary_cleaner.state.floatbank5_b_air</th>\n",
       "      <th>secondary_cleaner.state.floatbank5_b_level</th>\n",
       "      <th>secondary_cleaner.state.floatbank6_a_air</th>\n",
       "      <th>secondary_cleaner.state.floatbank6_a_level</th>\n",
       "    </tr>\n",
       "  </thead>\n",
       "  <tbody>\n",
       "    <tr>\n",
       "      <th>0</th>\n",
       "      <td>2016-09-01 00:59:59</td>\n",
       "      <td>210.800909</td>\n",
       "      <td>14.993118</td>\n",
       "      <td>8.080000</td>\n",
       "      <td>1.005021</td>\n",
       "      <td>1398.981301</td>\n",
       "      <td>-500.225577</td>\n",
       "      <td>1399.144926</td>\n",
       "      <td>-499.919735</td>\n",
       "      <td>1400.102998</td>\n",
       "      <td>...</td>\n",
       "      <td>12.023554</td>\n",
       "      <td>-497.795834</td>\n",
       "      <td>8.016656</td>\n",
       "      <td>-501.289139</td>\n",
       "      <td>7.946562</td>\n",
       "      <td>-432.317850</td>\n",
       "      <td>4.872511</td>\n",
       "      <td>-500.037437</td>\n",
       "      <td>26.705889</td>\n",
       "      <td>-499.709414</td>\n",
       "    </tr>\n",
       "    <tr>\n",
       "      <th>1</th>\n",
       "      <td>2016-09-01 01:59:59</td>\n",
       "      <td>215.392455</td>\n",
       "      <td>14.987471</td>\n",
       "      <td>8.080000</td>\n",
       "      <td>0.990469</td>\n",
       "      <td>1398.777912</td>\n",
       "      <td>-500.057435</td>\n",
       "      <td>1398.055362</td>\n",
       "      <td>-499.778182</td>\n",
       "      <td>1396.151033</td>\n",
       "      <td>...</td>\n",
       "      <td>12.058140</td>\n",
       "      <td>-498.695773</td>\n",
       "      <td>8.130979</td>\n",
       "      <td>-499.634209</td>\n",
       "      <td>7.958270</td>\n",
       "      <td>-525.839648</td>\n",
       "      <td>4.878850</td>\n",
       "      <td>-500.162375</td>\n",
       "      <td>25.019940</td>\n",
       "      <td>-499.819438</td>\n",
       "    </tr>\n",
       "    <tr>\n",
       "      <th>2</th>\n",
       "      <td>2016-09-01 02:59:59</td>\n",
       "      <td>215.259946</td>\n",
       "      <td>12.884934</td>\n",
       "      <td>7.786667</td>\n",
       "      <td>0.996043</td>\n",
       "      <td>1398.493666</td>\n",
       "      <td>-500.868360</td>\n",
       "      <td>1398.860436</td>\n",
       "      <td>-499.764529</td>\n",
       "      <td>1398.075709</td>\n",
       "      <td>...</td>\n",
       "      <td>11.962366</td>\n",
       "      <td>-498.767484</td>\n",
       "      <td>8.096893</td>\n",
       "      <td>-500.827423</td>\n",
       "      <td>8.071056</td>\n",
       "      <td>-500.801673</td>\n",
       "      <td>4.905125</td>\n",
       "      <td>-499.828510</td>\n",
       "      <td>24.994862</td>\n",
       "      <td>-500.622559</td>\n",
       "    </tr>\n",
       "    <tr>\n",
       "      <th>3</th>\n",
       "      <td>2016-09-01 03:59:59</td>\n",
       "      <td>215.336236</td>\n",
       "      <td>12.006805</td>\n",
       "      <td>7.640000</td>\n",
       "      <td>0.863514</td>\n",
       "      <td>1399.618111</td>\n",
       "      <td>-498.863574</td>\n",
       "      <td>1397.440120</td>\n",
       "      <td>-499.211024</td>\n",
       "      <td>1400.129303</td>\n",
       "      <td>...</td>\n",
       "      <td>12.033091</td>\n",
       "      <td>-498.350935</td>\n",
       "      <td>8.074946</td>\n",
       "      <td>-499.474407</td>\n",
       "      <td>7.897085</td>\n",
       "      <td>-500.868509</td>\n",
       "      <td>4.931400</td>\n",
       "      <td>-499.963623</td>\n",
       "      <td>24.948919</td>\n",
       "      <td>-498.709987</td>\n",
       "    </tr>\n",
       "    <tr>\n",
       "      <th>4</th>\n",
       "      <td>2016-09-01 04:59:59</td>\n",
       "      <td>199.099327</td>\n",
       "      <td>10.682530</td>\n",
       "      <td>7.530000</td>\n",
       "      <td>0.805575</td>\n",
       "      <td>1401.268123</td>\n",
       "      <td>-500.808305</td>\n",
       "      <td>1398.128818</td>\n",
       "      <td>-499.504543</td>\n",
       "      <td>1402.172226</td>\n",
       "      <td>...</td>\n",
       "      <td>12.025367</td>\n",
       "      <td>-500.786497</td>\n",
       "      <td>8.054678</td>\n",
       "      <td>-500.397500</td>\n",
       "      <td>8.107890</td>\n",
       "      <td>-509.526725</td>\n",
       "      <td>4.957674</td>\n",
       "      <td>-500.360026</td>\n",
       "      <td>25.003331</td>\n",
       "      <td>-500.856333</td>\n",
       "    </tr>\n",
       "  </tbody>\n",
       "</table>\n",
       "<p>5 rows × 53 columns</p>\n",
       "</div>"
      ],
      "text/plain": [
       "                  date  primary_cleaner.input.sulfate  \\\n",
       "0  2016-09-01 00:59:59                     210.800909   \n",
       "1  2016-09-01 01:59:59                     215.392455   \n",
       "2  2016-09-01 02:59:59                     215.259946   \n",
       "3  2016-09-01 03:59:59                     215.336236   \n",
       "4  2016-09-01 04:59:59                     199.099327   \n",
       "\n",
       "   primary_cleaner.input.depressant  primary_cleaner.input.feed_size  \\\n",
       "0                         14.993118                         8.080000   \n",
       "1                         14.987471                         8.080000   \n",
       "2                         12.884934                         7.786667   \n",
       "3                         12.006805                         7.640000   \n",
       "4                         10.682530                         7.530000   \n",
       "\n",
       "   primary_cleaner.input.xanthate  primary_cleaner.state.floatbank8_a_air  \\\n",
       "0                        1.005021                             1398.981301   \n",
       "1                        0.990469                             1398.777912   \n",
       "2                        0.996043                             1398.493666   \n",
       "3                        0.863514                             1399.618111   \n",
       "4                        0.805575                             1401.268123   \n",
       "\n",
       "   primary_cleaner.state.floatbank8_a_level  \\\n",
       "0                               -500.225577   \n",
       "1                               -500.057435   \n",
       "2                               -500.868360   \n",
       "3                               -498.863574   \n",
       "4                               -500.808305   \n",
       "\n",
       "   primary_cleaner.state.floatbank8_b_air  \\\n",
       "0                             1399.144926   \n",
       "1                             1398.055362   \n",
       "2                             1398.860436   \n",
       "3                             1397.440120   \n",
       "4                             1398.128818   \n",
       "\n",
       "   primary_cleaner.state.floatbank8_b_level  \\\n",
       "0                               -499.919735   \n",
       "1                               -499.778182   \n",
       "2                               -499.764529   \n",
       "3                               -499.211024   \n",
       "4                               -499.504543   \n",
       "\n",
       "   primary_cleaner.state.floatbank8_c_air  ...  \\\n",
       "0                             1400.102998  ...   \n",
       "1                             1396.151033  ...   \n",
       "2                             1398.075709  ...   \n",
       "3                             1400.129303  ...   \n",
       "4                             1402.172226  ...   \n",
       "\n",
       "   secondary_cleaner.state.floatbank4_a_air  \\\n",
       "0                                 12.023554   \n",
       "1                                 12.058140   \n",
       "2                                 11.962366   \n",
       "3                                 12.033091   \n",
       "4                                 12.025367   \n",
       "\n",
       "   secondary_cleaner.state.floatbank4_a_level  \\\n",
       "0                                 -497.795834   \n",
       "1                                 -498.695773   \n",
       "2                                 -498.767484   \n",
       "3                                 -498.350935   \n",
       "4                                 -500.786497   \n",
       "\n",
       "   secondary_cleaner.state.floatbank4_b_air  \\\n",
       "0                                  8.016656   \n",
       "1                                  8.130979   \n",
       "2                                  8.096893   \n",
       "3                                  8.074946   \n",
       "4                                  8.054678   \n",
       "\n",
       "   secondary_cleaner.state.floatbank4_b_level  \\\n",
       "0                                 -501.289139   \n",
       "1                                 -499.634209   \n",
       "2                                 -500.827423   \n",
       "3                                 -499.474407   \n",
       "4                                 -500.397500   \n",
       "\n",
       "   secondary_cleaner.state.floatbank5_a_air  \\\n",
       "0                                  7.946562   \n",
       "1                                  7.958270   \n",
       "2                                  8.071056   \n",
       "3                                  7.897085   \n",
       "4                                  8.107890   \n",
       "\n",
       "   secondary_cleaner.state.floatbank5_a_level  \\\n",
       "0                                 -432.317850   \n",
       "1                                 -525.839648   \n",
       "2                                 -500.801673   \n",
       "3                                 -500.868509   \n",
       "4                                 -509.526725   \n",
       "\n",
       "   secondary_cleaner.state.floatbank5_b_air  \\\n",
       "0                                  4.872511   \n",
       "1                                  4.878850   \n",
       "2                                  4.905125   \n",
       "3                                  4.931400   \n",
       "4                                  4.957674   \n",
       "\n",
       "   secondary_cleaner.state.floatbank5_b_level  \\\n",
       "0                                 -500.037437   \n",
       "1                                 -500.162375   \n",
       "2                                 -499.828510   \n",
       "3                                 -499.963623   \n",
       "4                                 -500.360026   \n",
       "\n",
       "   secondary_cleaner.state.floatbank6_a_air  \\\n",
       "0                                 26.705889   \n",
       "1                                 25.019940   \n",
       "2                                 24.994862   \n",
       "3                                 24.948919   \n",
       "4                                 25.003331   \n",
       "\n",
       "   secondary_cleaner.state.floatbank6_a_level  \n",
       "0                                 -499.709414  \n",
       "1                                 -499.819438  \n",
       "2                                 -500.622559  \n",
       "3                                 -498.709987  \n",
       "4                                 -500.856333  \n",
       "\n",
       "[5 rows x 53 columns]"
      ]
     },
     "execution_count": 5,
     "metadata": {},
     "output_type": "execute_result"
    }
   ],
   "source": [
    "test_df.info()\n",
    "test_df.head()"
   ]
  },
  {
   "cell_type": "code",
   "execution_count": 6,
   "metadata": {
    "scrolled": false
   },
   "outputs": [
    {
     "name": "stdout",
     "output_type": "stream",
     "text": [
      "<class 'pandas.core.frame.DataFrame'>\n",
      "RangeIndex: 19439 entries, 0 to 19438\n",
      "Data columns (total 87 columns):\n",
      " #   Column                                              Non-Null Count  Dtype  \n",
      "---  ------                                              --------------  -----  \n",
      " 0   date                                                19439 non-null  object \n",
      " 1   final.output.concentrate_ag                         19438 non-null  float64\n",
      " 2   final.output.concentrate_pb                         19438 non-null  float64\n",
      " 3   final.output.concentrate_sol                        19228 non-null  float64\n",
      " 4   final.output.concentrate_au                         19439 non-null  float64\n",
      " 5   final.output.recovery                               19439 non-null  float64\n",
      " 6   final.output.tail_ag                                19438 non-null  float64\n",
      " 7   final.output.tail_pb                                19338 non-null  float64\n",
      " 8   final.output.tail_sol                               19433 non-null  float64\n",
      " 9   final.output.tail_au                                19439 non-null  float64\n",
      " 10  primary_cleaner.input.sulfate                       19415 non-null  float64\n",
      " 11  primary_cleaner.input.depressant                    19402 non-null  float64\n",
      " 12  primary_cleaner.input.feed_size                     19439 non-null  float64\n",
      " 13  primary_cleaner.input.xanthate                      19335 non-null  float64\n",
      " 14  primary_cleaner.output.concentrate_ag               19439 non-null  float64\n",
      " 15  primary_cleaner.output.concentrate_pb               19323 non-null  float64\n",
      " 16  primary_cleaner.output.concentrate_sol              19069 non-null  float64\n",
      " 17  primary_cleaner.output.concentrate_au               19439 non-null  float64\n",
      " 18  primary_cleaner.output.tail_ag                      19435 non-null  float64\n",
      " 19  primary_cleaner.output.tail_pb                      19418 non-null  float64\n",
      " 20  primary_cleaner.output.tail_sol                     19377 non-null  float64\n",
      " 21  primary_cleaner.output.tail_au                      19439 non-null  float64\n",
      " 22  primary_cleaner.state.floatbank8_a_air              19435 non-null  float64\n",
      " 23  primary_cleaner.state.floatbank8_a_level            19438 non-null  float64\n",
      " 24  primary_cleaner.state.floatbank8_b_air              19435 non-null  float64\n",
      " 25  primary_cleaner.state.floatbank8_b_level            19438 non-null  float64\n",
      " 26  primary_cleaner.state.floatbank8_c_air              19437 non-null  float64\n",
      " 27  primary_cleaner.state.floatbank8_c_level            19438 non-null  float64\n",
      " 28  primary_cleaner.state.floatbank8_d_air              19436 non-null  float64\n",
      " 29  primary_cleaner.state.floatbank8_d_level            19438 non-null  float64\n",
      " 30  rougher.calculation.sulfate_to_au_concentrate       19437 non-null  float64\n",
      " 31  rougher.calculation.floatbank10_sulfate_to_au_feed  19437 non-null  float64\n",
      " 32  rougher.calculation.floatbank11_sulfate_to_au_feed  19437 non-null  float64\n",
      " 33  rougher.calculation.au_pb_ratio                     19439 non-null  float64\n",
      " 34  rougher.input.feed_ag                               19439 non-null  float64\n",
      " 35  rougher.input.feed_pb                               19339 non-null  float64\n",
      " 36  rougher.input.feed_rate                             19428 non-null  float64\n",
      " 37  rougher.input.feed_size                             19294 non-null  float64\n",
      " 38  rougher.input.feed_sol                              19340 non-null  float64\n",
      " 39  rougher.input.feed_au                               19439 non-null  float64\n",
      " 40  rougher.input.floatbank10_sulfate                   19405 non-null  float64\n",
      " 41  rougher.input.floatbank10_xanthate                  19431 non-null  float64\n",
      " 42  rougher.input.floatbank11_sulfate                   19395 non-null  float64\n",
      " 43  rougher.input.floatbank11_xanthate                  18986 non-null  float64\n",
      " 44  rougher.output.concentrate_ag                       19439 non-null  float64\n",
      " 45  rougher.output.concentrate_pb                       19439 non-null  float64\n",
      " 46  rougher.output.concentrate_sol                      19416 non-null  float64\n",
      " 47  rougher.output.concentrate_au                       19439 non-null  float64\n",
      " 48  rougher.output.recovery                             19439 non-null  float64\n",
      " 49  rougher.output.tail_ag                              19438 non-null  float64\n",
      " 50  rougher.output.tail_pb                              19439 non-null  float64\n",
      " 51  rougher.output.tail_sol                             19439 non-null  float64\n",
      " 52  rougher.output.tail_au                              19439 non-null  float64\n",
      " 53  rougher.state.floatbank10_a_air                     19438 non-null  float64\n",
      " 54  rougher.state.floatbank10_a_level                   19438 non-null  float64\n",
      " 55  rougher.state.floatbank10_b_air                     19438 non-null  float64\n",
      " 56  rougher.state.floatbank10_b_level                   19438 non-null  float64\n",
      " 57  rougher.state.floatbank10_c_air                     19438 non-null  float64\n",
      " 58  rougher.state.floatbank10_c_level                   19438 non-null  float64\n",
      " 59  rougher.state.floatbank10_d_air                     19439 non-null  float64\n",
      " 60  rougher.state.floatbank10_d_level                   19439 non-null  float64\n",
      " 61  rougher.state.floatbank10_e_air                     19003 non-null  float64\n",
      " 62  rougher.state.floatbank10_e_level                   19439 non-null  float64\n",
      " 63  rougher.state.floatbank10_f_air                     19439 non-null  float64\n",
      " 64  rougher.state.floatbank10_f_level                   19439 non-null  float64\n",
      " 65  secondary_cleaner.output.tail_ag                    19437 non-null  float64\n",
      " 66  secondary_cleaner.output.tail_pb                    19427 non-null  float64\n",
      " 67  secondary_cleaner.output.tail_sol                   17691 non-null  float64\n",
      " 68  secondary_cleaner.output.tail_au                    19439 non-null  float64\n",
      " 69  secondary_cleaner.state.floatbank2_a_air            19219 non-null  float64\n",
      " 70  secondary_cleaner.state.floatbank2_a_level          19438 non-null  float64\n",
      " 71  secondary_cleaner.state.floatbank2_b_air            19416 non-null  float64\n",
      " 72  secondary_cleaner.state.floatbank2_b_level          19438 non-null  float64\n",
      " 73  secondary_cleaner.state.floatbank3_a_air            19426 non-null  float64\n",
      " 74  secondary_cleaner.state.floatbank3_a_level          19438 non-null  float64\n",
      " 75  secondary_cleaner.state.floatbank3_b_air            19438 non-null  float64\n",
      " 76  secondary_cleaner.state.floatbank3_b_level          19438 non-null  float64\n",
      " 77  secondary_cleaner.state.floatbank4_a_air            19433 non-null  float64\n",
      " 78  secondary_cleaner.state.floatbank4_a_level          19438 non-null  float64\n",
      " 79  secondary_cleaner.state.floatbank4_b_air            19438 non-null  float64\n",
      " 80  secondary_cleaner.state.floatbank4_b_level          19438 non-null  float64\n",
      " 81  secondary_cleaner.state.floatbank5_a_air            19438 non-null  float64\n",
      " 82  secondary_cleaner.state.floatbank5_a_level          19438 non-null  float64\n",
      " 83  secondary_cleaner.state.floatbank5_b_air            19438 non-null  float64\n",
      " 84  secondary_cleaner.state.floatbank5_b_level          19438 non-null  float64\n",
      " 85  secondary_cleaner.state.floatbank6_a_air            19437 non-null  float64\n",
      " 86  secondary_cleaner.state.floatbank6_a_level          19438 non-null  float64\n",
      "dtypes: float64(86), object(1)\n",
      "memory usage: 12.9+ MB\n"
     ]
    },
    {
     "data": {
      "text/html": [
       "<div>\n",
       "<style scoped>\n",
       "    .dataframe tbody tr th:only-of-type {\n",
       "        vertical-align: middle;\n",
       "    }\n",
       "\n",
       "    .dataframe tbody tr th {\n",
       "        vertical-align: top;\n",
       "    }\n",
       "\n",
       "    .dataframe thead th {\n",
       "        text-align: right;\n",
       "    }\n",
       "</style>\n",
       "<table border=\"1\" class=\"dataframe\">\n",
       "  <thead>\n",
       "    <tr style=\"text-align: right;\">\n",
       "      <th></th>\n",
       "      <th>date</th>\n",
       "      <th>final.output.concentrate_ag</th>\n",
       "      <th>final.output.concentrate_pb</th>\n",
       "      <th>final.output.concentrate_sol</th>\n",
       "      <th>final.output.concentrate_au</th>\n",
       "      <th>final.output.recovery</th>\n",
       "      <th>final.output.tail_ag</th>\n",
       "      <th>final.output.tail_pb</th>\n",
       "      <th>final.output.tail_sol</th>\n",
       "      <th>final.output.tail_au</th>\n",
       "      <th>...</th>\n",
       "      <th>secondary_cleaner.state.floatbank4_a_air</th>\n",
       "      <th>secondary_cleaner.state.floatbank4_a_level</th>\n",
       "      <th>secondary_cleaner.state.floatbank4_b_air</th>\n",
       "      <th>secondary_cleaner.state.floatbank4_b_level</th>\n",
       "      <th>secondary_cleaner.state.floatbank5_a_air</th>\n",
       "      <th>secondary_cleaner.state.floatbank5_a_level</th>\n",
       "      <th>secondary_cleaner.state.floatbank5_b_air</th>\n",
       "      <th>secondary_cleaner.state.floatbank5_b_level</th>\n",
       "      <th>secondary_cleaner.state.floatbank6_a_air</th>\n",
       "      <th>secondary_cleaner.state.floatbank6_a_level</th>\n",
       "    </tr>\n",
       "  </thead>\n",
       "  <tbody>\n",
       "    <tr>\n",
       "      <th>0</th>\n",
       "      <td>2016-01-15 00:00:00</td>\n",
       "      <td>6.055403</td>\n",
       "      <td>9.889648</td>\n",
       "      <td>5.507324</td>\n",
       "      <td>42.192020</td>\n",
       "      <td>70.541216</td>\n",
       "      <td>10.411962</td>\n",
       "      <td>0.895447</td>\n",
       "      <td>16.904297</td>\n",
       "      <td>2.143149</td>\n",
       "      <td>...</td>\n",
       "      <td>14.016835</td>\n",
       "      <td>-502.488007</td>\n",
       "      <td>12.099931</td>\n",
       "      <td>-504.715942</td>\n",
       "      <td>9.925633</td>\n",
       "      <td>-498.310211</td>\n",
       "      <td>8.079666</td>\n",
       "      <td>-500.470978</td>\n",
       "      <td>14.151341</td>\n",
       "      <td>-605.841980</td>\n",
       "    </tr>\n",
       "    <tr>\n",
       "      <th>1</th>\n",
       "      <td>2016-01-15 01:00:00</td>\n",
       "      <td>6.029369</td>\n",
       "      <td>9.968944</td>\n",
       "      <td>5.257781</td>\n",
       "      <td>42.701629</td>\n",
       "      <td>69.266198</td>\n",
       "      <td>10.462676</td>\n",
       "      <td>0.927452</td>\n",
       "      <td>16.634514</td>\n",
       "      <td>2.224930</td>\n",
       "      <td>...</td>\n",
       "      <td>13.992281</td>\n",
       "      <td>-505.503262</td>\n",
       "      <td>11.950531</td>\n",
       "      <td>-501.331529</td>\n",
       "      <td>10.039245</td>\n",
       "      <td>-500.169983</td>\n",
       "      <td>7.984757</td>\n",
       "      <td>-500.582168</td>\n",
       "      <td>13.998353</td>\n",
       "      <td>-599.787184</td>\n",
       "    </tr>\n",
       "    <tr>\n",
       "      <th>2</th>\n",
       "      <td>2016-01-15 02:00:00</td>\n",
       "      <td>6.055926</td>\n",
       "      <td>10.213995</td>\n",
       "      <td>5.383759</td>\n",
       "      <td>42.657501</td>\n",
       "      <td>68.116445</td>\n",
       "      <td>10.507046</td>\n",
       "      <td>0.953716</td>\n",
       "      <td>16.208849</td>\n",
       "      <td>2.257889</td>\n",
       "      <td>...</td>\n",
       "      <td>14.015015</td>\n",
       "      <td>-502.520901</td>\n",
       "      <td>11.912783</td>\n",
       "      <td>-501.133383</td>\n",
       "      <td>10.070913</td>\n",
       "      <td>-500.129135</td>\n",
       "      <td>8.013877</td>\n",
       "      <td>-500.517572</td>\n",
       "      <td>14.028663</td>\n",
       "      <td>-601.427363</td>\n",
       "    </tr>\n",
       "    <tr>\n",
       "      <th>3</th>\n",
       "      <td>2016-01-15 03:00:00</td>\n",
       "      <td>6.047977</td>\n",
       "      <td>9.977019</td>\n",
       "      <td>4.858634</td>\n",
       "      <td>42.689819</td>\n",
       "      <td>68.347543</td>\n",
       "      <td>10.422762</td>\n",
       "      <td>0.883763</td>\n",
       "      <td>16.532835</td>\n",
       "      <td>2.146849</td>\n",
       "      <td>...</td>\n",
       "      <td>14.036510</td>\n",
       "      <td>-500.857308</td>\n",
       "      <td>11.999550</td>\n",
       "      <td>-501.193686</td>\n",
       "      <td>9.970366</td>\n",
       "      <td>-499.201640</td>\n",
       "      <td>7.977324</td>\n",
       "      <td>-500.255908</td>\n",
       "      <td>14.005551</td>\n",
       "      <td>-599.996129</td>\n",
       "    </tr>\n",
       "    <tr>\n",
       "      <th>4</th>\n",
       "      <td>2016-01-15 04:00:00</td>\n",
       "      <td>6.148599</td>\n",
       "      <td>10.142511</td>\n",
       "      <td>4.939416</td>\n",
       "      <td>42.774141</td>\n",
       "      <td>66.927016</td>\n",
       "      <td>10.360302</td>\n",
       "      <td>0.792826</td>\n",
       "      <td>16.525686</td>\n",
       "      <td>2.055292</td>\n",
       "      <td>...</td>\n",
       "      <td>14.027298</td>\n",
       "      <td>-499.838632</td>\n",
       "      <td>11.953070</td>\n",
       "      <td>-501.053894</td>\n",
       "      <td>9.925709</td>\n",
       "      <td>-501.686727</td>\n",
       "      <td>7.894242</td>\n",
       "      <td>-500.356035</td>\n",
       "      <td>13.996647</td>\n",
       "      <td>-601.496691</td>\n",
       "    </tr>\n",
       "  </tbody>\n",
       "</table>\n",
       "<p>5 rows × 87 columns</p>\n",
       "</div>"
      ],
      "text/plain": [
       "                  date  final.output.concentrate_ag  \\\n",
       "0  2016-01-15 00:00:00                     6.055403   \n",
       "1  2016-01-15 01:00:00                     6.029369   \n",
       "2  2016-01-15 02:00:00                     6.055926   \n",
       "3  2016-01-15 03:00:00                     6.047977   \n",
       "4  2016-01-15 04:00:00                     6.148599   \n",
       "\n",
       "   final.output.concentrate_pb  final.output.concentrate_sol  \\\n",
       "0                     9.889648                      5.507324   \n",
       "1                     9.968944                      5.257781   \n",
       "2                    10.213995                      5.383759   \n",
       "3                     9.977019                      4.858634   \n",
       "4                    10.142511                      4.939416   \n",
       "\n",
       "   final.output.concentrate_au  final.output.recovery  final.output.tail_ag  \\\n",
       "0                    42.192020              70.541216             10.411962   \n",
       "1                    42.701629              69.266198             10.462676   \n",
       "2                    42.657501              68.116445             10.507046   \n",
       "3                    42.689819              68.347543             10.422762   \n",
       "4                    42.774141              66.927016             10.360302   \n",
       "\n",
       "   final.output.tail_pb  final.output.tail_sol  final.output.tail_au  ...  \\\n",
       "0              0.895447              16.904297              2.143149  ...   \n",
       "1              0.927452              16.634514              2.224930  ...   \n",
       "2              0.953716              16.208849              2.257889  ...   \n",
       "3              0.883763              16.532835              2.146849  ...   \n",
       "4              0.792826              16.525686              2.055292  ...   \n",
       "\n",
       "   secondary_cleaner.state.floatbank4_a_air  \\\n",
       "0                                 14.016835   \n",
       "1                                 13.992281   \n",
       "2                                 14.015015   \n",
       "3                                 14.036510   \n",
       "4                                 14.027298   \n",
       "\n",
       "   secondary_cleaner.state.floatbank4_a_level  \\\n",
       "0                                 -502.488007   \n",
       "1                                 -505.503262   \n",
       "2                                 -502.520901   \n",
       "3                                 -500.857308   \n",
       "4                                 -499.838632   \n",
       "\n",
       "   secondary_cleaner.state.floatbank4_b_air  \\\n",
       "0                                 12.099931   \n",
       "1                                 11.950531   \n",
       "2                                 11.912783   \n",
       "3                                 11.999550   \n",
       "4                                 11.953070   \n",
       "\n",
       "   secondary_cleaner.state.floatbank4_b_level  \\\n",
       "0                                 -504.715942   \n",
       "1                                 -501.331529   \n",
       "2                                 -501.133383   \n",
       "3                                 -501.193686   \n",
       "4                                 -501.053894   \n",
       "\n",
       "   secondary_cleaner.state.floatbank5_a_air  \\\n",
       "0                                  9.925633   \n",
       "1                                 10.039245   \n",
       "2                                 10.070913   \n",
       "3                                  9.970366   \n",
       "4                                  9.925709   \n",
       "\n",
       "   secondary_cleaner.state.floatbank5_a_level  \\\n",
       "0                                 -498.310211   \n",
       "1                                 -500.169983   \n",
       "2                                 -500.129135   \n",
       "3                                 -499.201640   \n",
       "4                                 -501.686727   \n",
       "\n",
       "   secondary_cleaner.state.floatbank5_b_air  \\\n",
       "0                                  8.079666   \n",
       "1                                  7.984757   \n",
       "2                                  8.013877   \n",
       "3                                  7.977324   \n",
       "4                                  7.894242   \n",
       "\n",
       "   secondary_cleaner.state.floatbank5_b_level  \\\n",
       "0                                 -500.470978   \n",
       "1                                 -500.582168   \n",
       "2                                 -500.517572   \n",
       "3                                 -500.255908   \n",
       "4                                 -500.356035   \n",
       "\n",
       "   secondary_cleaner.state.floatbank6_a_air  \\\n",
       "0                                 14.151341   \n",
       "1                                 13.998353   \n",
       "2                                 14.028663   \n",
       "3                                 14.005551   \n",
       "4                                 13.996647   \n",
       "\n",
       "   secondary_cleaner.state.floatbank6_a_level  \n",
       "0                                 -605.841980  \n",
       "1                                 -599.787184  \n",
       "2                                 -601.427363  \n",
       "3                                 -599.996129  \n",
       "4                                 -601.496691  \n",
       "\n",
       "[5 rows x 87 columns]"
      ]
     },
     "execution_count": 6,
     "metadata": {},
     "output_type": "execute_result"
    }
   ],
   "source": [
    "full_df.info()\n",
    "full_df.head()"
   ]
  },
  {
   "cell_type": "code",
   "execution_count": 7,
   "metadata": {},
   "outputs": [
    {
     "name": "stdout",
     "output_type": "stream",
     "text": [
      "(14149, 87)\n",
      "(5290, 53)\n",
      "(19439, 87)\n"
     ]
    }
   ],
   "source": [
    "# Сравним размеры датасетов\n",
    "print(train_df.shape)\n",
    "print(test_df.shape)\n",
    "print(full_df.shape)"
   ]
  },
  {
   "cell_type": "markdown",
   "metadata": {},
   "source": [
    "В test_df гораздо меньше данных, чем в train_df и full_df. Для обучения модели train_df надо подогнать под test_df по количеству данных. "
   ]
  },
  {
   "cell_type": "code",
   "execution_count": 8,
   "metadata": {},
   "outputs": [],
   "source": [
    "# Приведем тип столбца date к правильному во всех датасетах \n",
    "train_df['date'] = pd.to_datetime(train_df['date'], format='%Y-%m-%dT%H:%M:%S')\n",
    "test_df['date'] = pd.to_datetime(test_df['date'], format='%Y-%m-%dT%H:%M:%S')\n",
    "full_df['date'] = pd.to_datetime(full_df['date'], format='%Y-%m-%dT%H:%M:%S')"
   ]
  },
  {
   "cell_type": "code",
   "execution_count": 9,
   "metadata": {},
   "outputs": [
    {
     "data": {
      "text/plain": [
       "secondary_cleaner.output.tail_sol           1605\n",
       "rougher.state.floatbank10_e_air              436\n",
       "rougher.input.floatbank11_xanthate           428\n",
       "primary_cleaner.output.concentrate_sol       286\n",
       "secondary_cleaner.state.floatbank2_a_air     217\n",
       "                                            ... \n",
       "rougher.output.concentrate_pb                  0\n",
       "rougher.output.concentrate_au                  0\n",
       "rougher.output.recovery                        0\n",
       "rougher.output.tail_pb                         0\n",
       "date                                           0\n",
       "Length: 87, dtype: int64"
      ]
     },
     "execution_count": 9,
     "metadata": {},
     "output_type": "execute_result"
    }
   ],
   "source": [
    "# Посмотрим на пропуски в датасетах\n",
    "train_df.isna().sum().sort_values(ascending=False)"
   ]
  },
  {
   "cell_type": "code",
   "execution_count": 10,
   "metadata": {},
   "outputs": [
    {
     "data": {
      "text/plain": [
       "rougher.input.floatbank11_xanthate            25\n",
       "rougher.input.feed_sol                        21\n",
       "secondary_cleaner.state.floatbank3_a_air       9\n",
       "rougher.input.floatbank11_sulfate              8\n",
       "primary_cleaner.input.depressant               5\n",
       "rougher.input.floatbank10_sulfate              5\n",
       "primary_cleaner.input.xanthate                 4\n",
       "primary_cleaner.input.sulfate                  4\n",
       "rougher.input.feed_rate                        3\n",
       "secondary_cleaner.state.floatbank2_a_air       3\n",
       "secondary_cleaner.state.floatbank2_b_air       2\n",
       "rougher.input.feed_size                        1\n",
       "secondary_cleaner.state.floatbank2_b_level     0\n",
       "dtype: int64"
      ]
     },
     "execution_count": 10,
     "metadata": {},
     "output_type": "execute_result"
    }
   ],
   "source": [
    "test_df.isna().sum().sort_values(ascending=False).head(13)"
   ]
  },
  {
   "cell_type": "code",
   "execution_count": 11,
   "metadata": {},
   "outputs": [
    {
     "data": {
      "text/plain": [
       "secondary_cleaner.output.tail_sol           1748\n",
       "rougher.input.floatbank11_xanthate           453\n",
       "rougher.state.floatbank10_e_air              436\n",
       "primary_cleaner.output.concentrate_sol       370\n",
       "secondary_cleaner.state.floatbank2_a_air     220\n",
       "                                            ... \n",
       "rougher.state.floatbank10_d_level              0\n",
       "rougher.state.floatbank10_d_air                0\n",
       "rougher.output.tail_pb                         0\n",
       "rougher.output.tail_sol                        0\n",
       "date                                           0\n",
       "Length: 87, dtype: int64"
      ]
     },
     "execution_count": 11,
     "metadata": {},
     "output_type": "execute_result"
    }
   ],
   "source": [
    "full_df.isna().sum().sort_values(ascending=False)"
   ]
  },
  {
   "cell_type": "markdown",
   "metadata": {},
   "source": [
    "Пропуски в датасете full_df не особо нас интересуют, а вот пропуски в test_df и train_df придется заполнить. Здесь оптимален будет метод заполнения пропусков ffill, который заполняет пропуски на основе заполненных ранее данных. "
   ]
  },
  {
   "cell_type": "code",
   "execution_count": 12,
   "metadata": {},
   "outputs": [],
   "source": [
    "train_df = pd.merge(train_df['date'],\n",
    "                    train_df.drop(columns='date').fillna(method='ffill'), \n",
    "                    how='left', left_index=True, right_index=True)"
   ]
  },
  {
   "cell_type": "code",
   "execution_count": 13,
   "metadata": {},
   "outputs": [],
   "source": [
    "test_df = pd.merge(test_df['date'],\n",
    "                    test_df.drop(columns='date').fillna(method='ffill'), \n",
    "                    how='left', left_index=True, right_index=True)"
   ]
  },
  {
   "cell_type": "code",
   "execution_count": 14,
   "metadata": {},
   "outputs": [
    {
     "data": {
      "text/plain": [
       "rougher.state.floatbank10_e_level         rougher.state.floatbank10_f_level           0.988426\n",
       "rougher.state.floatbank10_f_level         rougher.state.floatbank10_e_level           0.988426\n",
       "rougher.state.floatbank10_b_level         rougher.state.floatbank10_c_level           0.988065\n",
       "rougher.state.floatbank10_c_level         rougher.state.floatbank10_b_level           0.988065\n",
       "                                          rougher.state.floatbank10_d_level           0.987670\n",
       "                                                                                        ...   \n",
       "rougher.state.floatbank10_b_air           rougher.state.floatbank10_f_air             0.823784\n",
       "rougher.output.tail_ag                    rougher.output.tail_au                      0.808435\n",
       "rougher.output.tail_au                    rougher.output.tail_ag                      0.808435\n",
       "secondary_cleaner.state.floatbank4_b_air  secondary_cleaner.state.floatbank5_a_air    0.801879\n",
       "secondary_cleaner.state.floatbank5_a_air  secondary_cleaner.state.floatbank4_b_air    0.801879\n",
       "Length: 74, dtype: float64"
      ]
     },
     "execution_count": 14,
     "metadata": {},
     "output_type": "execute_result"
    }
   ],
   "source": [
    "# Посмотрим на корреляцию между признаками\n",
    "corr = train_df.corr()\n",
    "corr[(corr > 0.8) & (corr < 0.9999)].unstack().dropna().sort_values(ascending=False)"
   ]
  },
  {
   "cell_type": "code",
   "execution_count": 15,
   "metadata": {},
   "outputs": [
    {
     "data": {
      "text/plain": [
       "rougher.state.floatbank10_b_level         rougher.state.floatbank10_c_level           0.986990\n",
       "rougher.state.floatbank10_c_level         rougher.state.floatbank10_b_level           0.986990\n",
       "primary_cleaner.state.floatbank8_d_air    primary_cleaner.state.floatbank8_b_air      0.974342\n",
       "primary_cleaner.state.floatbank8_b_air    primary_cleaner.state.floatbank8_d_air      0.974342\n",
       "primary_cleaner.state.floatbank8_a_air    primary_cleaner.state.floatbank8_b_air      0.968679\n",
       "                                                                                        ...   \n",
       "secondary_cleaner.state.floatbank5_b_air  secondary_cleaner.state.floatbank5_a_air    0.839300\n",
       "rougher.state.floatbank10_e_air           rougher.state.floatbank10_d_air             0.826221\n",
       "rougher.state.floatbank10_d_air           rougher.state.floatbank10_e_air             0.826221\n",
       "primary_cleaner.state.floatbank8_c_air    primary_cleaner.state.floatbank8_a_air      0.814992\n",
       "primary_cleaner.state.floatbank8_a_air    primary_cleaner.state.floatbank8_c_air      0.814992\n",
       "Length: 64, dtype: float64"
      ]
     },
     "execution_count": 15,
     "metadata": {},
     "output_type": "execute_result"
    }
   ],
   "source": [
    "corr = test_df.corr()\n",
    "corr[(corr > 0.8) & (corr < 0.9999)].unstack().dropna().sort_values(ascending=False)"
   ]
  },
  {
   "cell_type": "markdown",
   "metadata": {},
   "source": [
    "Между несколькими признаками существует довольно сильная корреляция, таких признаков немало. Но пока непонятно, что с этим делать. Если удалить какие-то признаки, то это может существенно сказаться на достоверности данных. "
   ]
  },
  {
   "cell_type": "code",
   "execution_count": 16,
   "metadata": {},
   "outputs": [
    {
     "data": {
      "text/plain": [
       "0        87.107763\n",
       "1        86.843261\n",
       "2        86.842308\n",
       "3        87.226430\n",
       "4        86.688794\n",
       "           ...    \n",
       "14144    89.574376\n",
       "14145    87.724007\n",
       "14146    88.890579\n",
       "14147    89.858126\n",
       "14148    89.514960\n",
       "Length: 14149, dtype: float64"
      ]
     },
     "execution_count": 16,
     "metadata": {},
     "output_type": "execute_result"
    }
   ],
   "source": [
    "# Рассчитаем эффективность обогащения\n",
    "C = train_df['rougher.output.concentrate_au']\n",
    "F = train_df['rougher.input.feed_au']\n",
    "T = train_df['rougher.output.tail_au']\n",
    "recovery = ((C *(F - T)) / (F * (C - T)))*100\n",
    "recovery"
   ]
  },
  {
   "cell_type": "code",
   "execution_count": 17,
   "metadata": {},
   "outputs": [
    {
     "data": {
      "text/plain": [
       "9.73512347450521e-15"
      ]
     },
     "execution_count": 17,
     "metadata": {},
     "output_type": "execute_result"
    }
   ],
   "source": [
    "# Рассчиаем MAE между расчётами и значением признака\n",
    "mean_absolute_error(train_df['rougher.output.recovery'], recovery)"
   ]
  },
  {
   "cell_type": "markdown",
   "metadata": {},
   "source": [
    "Разница получилась совсем незначительная."
   ]
  },
  {
   "cell_type": "markdown",
   "metadata": {},
   "source": [
    "### Анализ признаков, недоступных в тестовой выборке"
   ]
  },
  {
   "cell_type": "code",
   "execution_count": 18,
   "metadata": {},
   "outputs": [
    {
     "name": "stdout",
     "output_type": "stream",
     "text": [
      "34\n"
     ]
    },
    {
     "data": {
      "text/plain": [
       "['final.output.concentrate_ag',\n",
       " 'final.output.concentrate_pb',\n",
       " 'final.output.concentrate_sol',\n",
       " 'final.output.concentrate_au',\n",
       " 'final.output.recovery',\n",
       " 'final.output.tail_ag',\n",
       " 'final.output.tail_pb',\n",
       " 'final.output.tail_sol',\n",
       " 'final.output.tail_au',\n",
       " 'primary_cleaner.output.concentrate_ag',\n",
       " 'primary_cleaner.output.concentrate_pb',\n",
       " 'primary_cleaner.output.concentrate_sol',\n",
       " 'primary_cleaner.output.concentrate_au',\n",
       " 'primary_cleaner.output.tail_ag',\n",
       " 'primary_cleaner.output.tail_pb',\n",
       " 'primary_cleaner.output.tail_sol',\n",
       " 'primary_cleaner.output.tail_au',\n",
       " 'rougher.calculation.sulfate_to_au_concentrate',\n",
       " 'rougher.calculation.floatbank10_sulfate_to_au_feed',\n",
       " 'rougher.calculation.floatbank11_sulfate_to_au_feed',\n",
       " 'rougher.calculation.au_pb_ratio',\n",
       " 'rougher.output.concentrate_ag',\n",
       " 'rougher.output.concentrate_pb',\n",
       " 'rougher.output.concentrate_sol',\n",
       " 'rougher.output.concentrate_au',\n",
       " 'rougher.output.recovery',\n",
       " 'rougher.output.tail_ag',\n",
       " 'rougher.output.tail_pb',\n",
       " 'rougher.output.tail_sol',\n",
       " 'rougher.output.tail_au',\n",
       " 'secondary_cleaner.output.tail_ag',\n",
       " 'secondary_cleaner.output.tail_pb',\n",
       " 'secondary_cleaner.output.tail_sol',\n",
       " 'secondary_cleaner.output.tail_au']"
      ]
     },
     "metadata": {},
     "output_type": "display_data"
    }
   ],
   "source": [
    "# Посмотрим, каких столбцов нет в датасете test_df \n",
    "test_missing = []\n",
    "for columns in train_df.columns:\n",
    "    if columns not in test_df.columns:\n",
    "        test_missing.append(columns)\n",
    "print(len(test_missing))\n",
    "display(test_missing)"
   ]
  },
  {
   "cell_type": "markdown",
   "metadata": {},
   "source": [
    "Судя по названию столбцов отсутствуют в основном параметры продукта и расчетные характеристики на каждом этапе обработки"
   ]
  },
  {
   "cell_type": "markdown",
   "metadata": {},
   "source": [
    "### Предобработка данных"
   ]
  },
  {
   "cell_type": "code",
   "execution_count": 19,
   "metadata": {},
   "outputs": [],
   "source": [
    "# Удалим из train_df стоблцы, отсутствующие в test_df\n",
    "for columns in test_missing:\n",
    "    train_df = train_df.drop(columns, axis=1)"
   ]
  },
  {
   "cell_type": "code",
   "execution_count": 20,
   "metadata": {},
   "outputs": [
    {
     "data": {
      "text/plain": [
       "(14149, 53)"
      ]
     },
     "execution_count": 20,
     "metadata": {},
     "output_type": "execute_result"
    }
   ],
   "source": [
    "train_df.shape"
   ]
  },
  {
   "cell_type": "code",
   "execution_count": 21,
   "metadata": {},
   "outputs": [],
   "source": [
    "# Добавим в тренировочный и тестовый датасеты целевые признаки из датасета full_df\n",
    "train_df = train_df.merge(full_df[['date', 'rougher.output.recovery', 'final.output.recovery']], \n",
    "                          on='date')\n",
    "test_df = test_df.merge(full_df[['date', 'rougher.output.recovery', 'final.output.recovery']], \n",
    "                         on='date')"
   ]
  },
  {
   "cell_type": "markdown",
   "metadata": {},
   "source": [
    "В этом блоке:   \n",
    "    1. Импортировала файлы и изучила их  \n",
    "    2. Провела преобработку данных, удалила из обучающей выборки данные, которых нет в тестовой выборке. Добавила целевые признаки из таблицы full. А также заполнила пропуски"
   ]
  },
  {
   "cell_type": "markdown",
   "metadata": {},
   "source": [
    "## Анализ данных"
   ]
  },
  {
   "cell_type": "code",
   "execution_count": 23,
   "metadata": {},
   "outputs": [],
   "source": [
    "# Сделаем списки с этапами очистки и концентрациями Ме на разных этапах\n",
    "stages =['secondary_cleaner', 'rougher', 'primary_cleaner', 'final']\n",
    "au = ['rougher.output.concentrate_au', 'rougher.input.feed_au', \n",
    "      'primary_cleaner.output.concentrate_au', 'final.output.concentrate_au']\n",
    "ag = ['rougher.output.concentrate_ag', 'rougher.input.feed_ag', \n",
    "      'primary_cleaner.output.concentrate_ag', 'final.output.concentrate_ag']\n",
    "pb = ['rougher.output.concentrate_pb', 'rougher.input.feed_pb', \n",
    "      'primary_cleaner.output.concentrate_pb', 'final.output.concentrate_pb']"
   ]
  },
  {
   "cell_type": "code",
   "execution_count": 24,
   "metadata": {},
   "outputs": [
    {
     "data": {
      "image/png": "[encoded data removed]",
      "text/plain": [
       "<Figure size 720x720 with 1 Axes>"
      ]
     },
     "metadata": {
      "needs_background": "light"
     },
     "output_type": "display_data"
    }
   ],
   "source": [
    "for concentration in au:\n",
    "    full_df[concentration].hist(bins=20, alpha=0.75, figsize=(10,10), legend=True, grid=True)\n",
    "plt.title('Концентрация золота на разных этапах очистки')\n",
    "plt.ylabel('Частота')\n",
    "plt.xlabel('Концентрация');"
   ]
  },
  {
   "cell_type": "code",
   "execution_count": 25,
   "metadata": {},
   "outputs": [
    {
     "data": {
      "image/png": "[encoded data removed]",
      "text/plain": [
       "<Figure size 720x720 with 1 Axes>"
      ]
     },
     "metadata": {
      "needs_background": "light"
     },
     "output_type": "display_data"
    }
   ],
   "source": [
    "for concentration in ag:\n",
    "    full_df[concentration].hist(bins=20, alpha=0.75, figsize=(10,10), legend=True, grid=True)\n",
    "plt.title('Концентрация серебра на разных этапах очистки')\n",
    "plt.ylabel('Частота')\n",
    "plt.xlabel('Концентрация');"
   ]
  },
  {
   "cell_type": "code",
   "execution_count": 26,
   "metadata": {},
   "outputs": [
    {
     "data": {
      "image/png": "[encoded data removed]",
      "text/plain": [
       "<Figure size 720x720 with 1 Axes>"
      ]
     },
     "metadata": {
      "needs_background": "light"
     },
     "output_type": "display_data"
    }
   ],
   "source": [
    "for concentration in pb:\n",
    "    full_df[concentration].hist(bins=20, alpha=0.75, figsize=(10,10), legend=True, grid=True)\n",
    "plt.title('Концентрация свинца на разных этапах очистки')\n",
    "plt.ylabel('Частота')\n",
    "plt.xlabel('Концентрация');"
   ]
  },
  {
   "cell_type": "markdown",
   "metadata": {},
   "source": [
    "Концентрация золота и свинца растет с каждым этапом очистки, чего не скажешь о серебре - в финальной стадии его концентрация самая низкая, по сравнению с остальными этапами очистки. "
   ]
  },
  {
   "cell_type": "code",
   "execution_count": 27,
   "metadata": {},
   "outputs": [
    {
     "data": {
      "text/plain": [
       "['primary_cleaner.input.feed_size', 'rougher.input.feed_size']"
      ]
     },
     "execution_count": 27,
     "metadata": {},
     "output_type": "execute_result"
    }
   ],
   "source": [
    "# Найдем столбцы, в которых указан размер гранул сырья - feed size\n",
    "feed_size = []\n",
    "for columns in test_df.columns:\n",
    "    if 'feed_size' in columns:\n",
    "        feed_size.append(columns)\n",
    "feed_size"
   ]
  },
  {
   "cell_type": "code",
   "execution_count": 32,
   "metadata": {},
   "outputs": [
    {
     "data": {
      "text/plain": [
       "['primary_cleaner.input.feed_size', 'rougher.input.feed_size']"
      ]
     },
     "execution_count": 32,
     "metadata": {},
     "output_type": "execute_result"
    }
   ],
   "source": [
    "feed_size"
   ]
  },
  {
   "cell_type": "code",
   "execution_count": 33,
   "metadata": {},
   "outputs": [
    {
     "data": {
      "image/png": "[encoded data removed]",
      "text/plain": [
       "<Figure size 432x288 with 1 Axes>"
      ]
     },
     "metadata": {
      "needs_background": "light"
     },
     "output_type": "display_data"
    },
    {
     "data": {
      "image/png": "[encoded data removed]",
      "text/plain": [
       "<Figure size 432x288 with 1 Axes>"
      ]
     },
     "metadata": {
      "needs_background": "light"
     },
     "output_type": "display_data"
    }
   ],
   "source": [
    "for stage in feed_size:\n",
    "    sns.kdeplot(train_df[stage], label='обучающая выборка')\n",
    "    sns.kdeplot(test_df[stage], label='тестовая выборка')\n",
    "    plt.title('Распределение размеров гранул сырья')\n",
    "    plt.xlabel('Размер гранул')\n",
    "    plt.ylabel('Частота')\n",
    "    plt.legend()\n",
    "    plt.show()"
   ]
  },
  {
   "cell_type": "markdown",
   "metadata": {},
   "source": [
    "Как видим из графиков распределения размера гранул в обоих датасетах примерно одинаковы. "
   ]
  },
  {
   "cell_type": "code",
   "execution_count": 35,
   "metadata": {},
   "outputs": [],
   "source": [
    "# Просуммируем концентрацию на разных стадиях\n",
    "sum_conc_rougher_in = pd.Series(full_df['rougher.input.feed_au'] + \n",
    "                             full_df['rougher.input.feed_sol'] + \n",
    "                             full_df['rougher.input.feed_pb'] + \n",
    "                             full_df['rougher.input.feed_ag'])\n",
    "sum_conc_rougher_out = pd.Series(full_df['rougher.output.concentrate_au'] + \n",
    "                             full_df['rougher.output.concentrate_sol'] + \n",
    "                             full_df['rougher.output.concentrate_pb'] + \n",
    "                             full_df['rougher.output.concentrate_ag'])\n",
    "sum_conc_final = pd.Series(full_df['final.output.concentrate_au'] + \n",
    "                             full_df['final.output.concentrate_sol'] + \n",
    "                             full_df['final.output.concentrate_pb'] + \n",
    "                             full_df['final.output.concentrate_ag'])\n"
   ]
  },
  {
   "cell_type": "code",
   "execution_count": 36,
   "metadata": {},
   "outputs": [
    {
     "data": {
      "image/png": "[encoded data removed]",
      "text/plain": [
       "<Figure size 432x288 with 1 Axes>"
      ]
     },
     "metadata": {
      "needs_background": "light"
     },
     "output_type": "display_data"
    }
   ],
   "source": [
    "# Посмотрим распределение суммарных концентраций\n",
    "colors = ['#78C850', '#F08030', '#6890F0']\n",
    "#sns.set_palette(\"RdBu\")\n",
    "plt.figure()\n",
    "for concentration, color in zip([sum_conc_rougher_in, sum_conc_rougher_out, sum_conc_final], colors):\n",
    "    sns.histplot(concentration, bins=50, legend=True, color=color)\n",
    "    plt.legend(['sum_conc_rougher_in', 'sum_conc_rougher_out', 'sum_conc_final'])\n",
    "    plt.xlabel('Концентрация')\n",
    "    plt.ylabel('Частота')\n",
    "    plt.title('Суммарная концентрация веществ в сырье, черновом и финальном концентратах ');"
   ]
  },
  {
   "cell_type": "markdown",
   "metadata": {},
   "source": [
    "Концентрация веществ в сырье наименьшая из всех, концентрация в финальном концентрате и черновом почти одинакова, но в финальном встречается чаще."
   ]
  },
  {
   "cell_type": "markdown",
   "metadata": {},
   "source": [
    "Нулевые значения кажутся банальным сбоем считывающего оборудования, и нам важно не учить модель на некорректных замерах - поэтому удаляем такие аномалии."
   ]
  },
  {
   "cell_type": "code",
   "execution_count": 37,
   "metadata": {},
   "outputs": [],
   "source": [
    "zero_emissions = ('rougher.input.feed_au', 'rougher.input.feed_sol', \n",
    "                  'rougher.input.feed_pb', 'rougher.input.feed_ag', \n",
    "                 'rougher.output.concentrate_au', 'rougher.output.concentrate_sol',\n",
    "                 'rougher.output.concentrate_pb', 'rougher.output.concentrate_ag', \n",
    "                 'final.output.concentrate_au', 'final.output.concentrate_sol', \n",
    "                 'final.output.concentrate_pb', 'final.output.concentrate_ag')"
   ]
  },
  {
   "cell_type": "code",
   "execution_count": 38,
   "metadata": {},
   "outputs": [],
   "source": [
    "for df in (train_df, test_df):\n",
    "    for column_name in (zero_emissions):\n",
    "        if column_name not in df.columns:\n",
    "            continue\n",
    "        df[column_name] = df[column_name].dropna(how='any', axis=0)\n",
    "    "
   ]
  },
  {
   "cell_type": "markdown",
   "metadata": {},
   "source": [
    "В этом блоке был проведен анализ данных:  \n",
    "        1. Посмотрела на концентрацию разных Ме на разных этапах очистки  \n",
    "        2. Посмотрела на размеры гранул сырья в датасетах train и test.   \n",
    "        3. Посмотрела на суммарную концентрацию веществ на разных этапах, увидела нулевые выбросы и удалила их.   "
   ]
  },
  {
   "cell_type": "markdown",
   "metadata": {},
   "source": [
    "## Модель"
   ]
  },
  {
   "cell_type": "markdown",
   "metadata": {},
   "source": [
    "3.1. Напишите функцию для вычисления итоговой sMAPE."
   ]
  },
  {
   "cell_type": "code",
   "execution_count": 39,
   "metadata": {},
   "outputs": [],
   "source": [
    "# Функции для подсчета smape\n",
    "def smape(target, prediction):\n",
    "    smape = (1 / len(target)) * np.sum((np.abs(target - prediction)) / \n",
    "                                        ((np.abs(target) + np.abs(prediction)) / 2)) * 100\n",
    "    return smape"
   ]
  },
  {
   "cell_type": "code",
   "execution_count": 40,
   "metadata": {},
   "outputs": [],
   "source": [
    "def final_smape(rougher, final):\n",
    "    final = (0.25 * rougher) + (0.75 * final)\n",
    "    return final"
   ]
  },
  {
   "cell_type": "code",
   "execution_count": 41,
   "metadata": {},
   "outputs": [],
   "source": [
    "# Подготовим датасеты\n",
    "features_train_df = train_df.drop(['rougher.output.recovery', 'final.output.recovery', 'date'], axis=1)\n",
    "target_train_df_rougher = train_df['rougher.output.recovery']\n",
    "target_train_df_final = train_df['final.output.recovery']"
   ]
  },
  {
   "cell_type": "code",
   "execution_count": 42,
   "metadata": {},
   "outputs": [],
   "source": [
    "features_test_df = test_df.drop(['rougher.output.recovery', 'final.output.recovery', 'date'], axis=1)\n",
    "target_test_df_rougher = test_df['rougher.output.recovery']\n",
    "target_test_df_final = test_df['final.output.recovery']"
   ]
  },
  {
   "cell_type": "code",
   "execution_count": 43,
   "metadata": {},
   "outputs": [],
   "source": [
    "# Определим score для smape\n",
    "score_smape = make_scorer(smape, greater_is_better=False)"
   ]
  },
  {
   "cell_type": "code",
   "execution_count": 45,
   "metadata": {
    "scrolled": true
   },
   "outputs": [
    {
     "name": "stdout",
     "output_type": "stream",
     "text": [
      "Fitting 3 folds for each of 8 candidates, totalling 24 fits\n",
      "[CV 1/3; 1/8] START max_depth=1.................................................\n",
      "[CV 1/3; 1/8] END ...............................max_depth=1; total time=   0.1s\n",
      "[CV 2/3; 1/8] START max_depth=1.................................................\n",
      "[CV 2/3; 1/8] END ...............................max_depth=1; total time=   0.1s\n",
      "[CV 3/3; 1/8] START max_depth=1.................................................\n",
      "[CV 3/3; 1/8] END ...............................max_depth=1; total time=   0.1s\n",
      "[CV 1/3; 2/8] START max_depth=2.................................................\n",
      "[CV 1/3; 2/8] END ...............................max_depth=2; total time=   0.1s\n",
      "[CV 2/3; 2/8] START max_depth=2.................................................\n",
      "[CV 2/3; 2/8] END ...............................max_depth=2; total time=   0.1s\n",
      "[CV 3/3; 2/8] START max_depth=2.................................................\n",
      "[CV 3/3; 2/8] END ...............................max_depth=2; total time=   0.1s\n",
      "[CV 1/3; 3/8] START max_depth=3.................................................\n",
      "[CV 1/3; 3/8] END ...............................max_depth=3; total time=   0.2s\n",
      "[CV 2/3; 3/8] START max_depth=3.................................................\n",
      "[CV 2/3; 3/8] END ...............................max_depth=3; total time=   0.1s\n",
      "[CV 3/3; 3/8] START max_depth=3.................................................\n",
      "[CV 3/3; 3/8] END ...............................max_depth=3; total time=   0.2s\n",
      "[CV 1/3; 4/8] START max_depth=4.................................................\n",
      "[CV 1/3; 4/8] END ...............................max_depth=4; total time=   0.2s\n",
      "[CV 2/3; 4/8] START max_depth=4.................................................\n",
      "[CV 2/3; 4/8] END ...............................max_depth=4; total time=   0.2s\n",
      "[CV 3/3; 4/8] START max_depth=4.................................................\n",
      "[CV 3/3; 4/8] END ...............................max_depth=4; total time=   0.2s\n",
      "[CV 1/3; 5/8] START max_depth=5.................................................\n",
      "[CV 1/3; 5/8] END ...............................max_depth=5; total time=   0.2s\n",
      "[CV 2/3; 5/8] START max_depth=5.................................................\n",
      "[CV 2/3; 5/8] END ...............................max_depth=5; total time=   0.2s\n",
      "[CV 3/3; 5/8] START max_depth=5.................................................\n",
      "[CV 3/3; 5/8] END ...............................max_depth=5; total time=   0.2s\n",
      "[CV 1/3; 6/8] START max_depth=6.................................................\n",
      "[CV 1/3; 6/8] END ...............................max_depth=6; total time=   0.3s\n",
      "[CV 2/3; 6/8] START max_depth=6.................................................\n",
      "[CV 2/3; 6/8] END ...............................max_depth=6; total time=   0.3s\n",
      "[CV 3/3; 6/8] START max_depth=6.................................................\n",
      "[CV 3/3; 6/8] END ...............................max_depth=6; total time=   0.3s\n",
      "[CV 1/3; 7/8] START max_depth=7.................................................\n",
      "[CV 1/3; 7/8] END ...............................max_depth=7; total time=   0.3s\n",
      "[CV 2/3; 7/8] START max_depth=7.................................................\n",
      "[CV 2/3; 7/8] END ...............................max_depth=7; total time=   0.3s\n",
      "[CV 3/3; 7/8] START max_depth=7.................................................\n",
      "[CV 3/3; 7/8] END ...............................max_depth=7; total time=   0.3s\n",
      "[CV 1/3; 8/8] START max_depth=8.................................................\n",
      "[CV 1/3; 8/8] END ...............................max_depth=8; total time=   0.3s\n",
      "[CV 2/3; 8/8] START max_depth=8.................................................\n",
      "[CV 2/3; 8/8] END ...............................max_depth=8; total time=   0.3s\n",
      "[CV 3/3; 8/8] START max_depth=8.................................................\n",
      "[CV 3/3; 8/8] END ...............................max_depth=8; total time=   0.3s\n",
      "Fitting 3 folds for each of 8 candidates, totalling 24 fits\n",
      "[CV 1/3; 1/8] START max_depth=1.................................................\n",
      "[CV 1/3; 1/8] END ...............................max_depth=1; total time=   0.1s\n",
      "[CV 2/3; 1/8] START max_depth=1.................................................\n",
      "[CV 2/3; 1/8] END ...............................max_depth=1; total time=   0.1s\n",
      "[CV 3/3; 1/8] START max_depth=1.................................................\n",
      "[CV 3/3; 1/8] END ...............................max_depth=1; total time=   0.1s\n",
      "[CV 1/3; 2/8] START max_depth=2.................................................\n",
      "[CV 1/3; 2/8] END ...............................max_depth=2; total time=   0.1s\n",
      "[CV 2/3; 2/8] START max_depth=2.................................................\n",
      "[CV 2/3; 2/8] END ...............................max_depth=2; total time=   0.1s\n",
      "[CV 3/3; 2/8] START max_depth=2.................................................\n",
      "[CV 3/3; 2/8] END ...............................max_depth=2; total time=   0.1s\n",
      "[CV 1/3; 3/8] START max_depth=3.................................................\n",
      "[CV 1/3; 3/8] END ...............................max_depth=3; total time=   0.1s\n",
      "[CV 2/3; 3/8] START max_depth=3.................................................\n",
      "[CV 2/3; 3/8] END ...............................max_depth=3; total time=   0.1s\n",
      "[CV 3/3; 3/8] START max_depth=3.................................................\n",
      "[CV 3/3; 3/8] END ...............................max_depth=3; total time=   0.1s\n",
      "[CV 1/3; 4/8] START max_depth=4.................................................\n",
      "[CV 1/3; 4/8] END ...............................max_depth=4; total time=   0.2s\n",
      "[CV 2/3; 4/8] START max_depth=4.................................................\n",
      "[CV 2/3; 4/8] END ...............................max_depth=4; total time=   0.2s\n",
      "[CV 3/3; 4/8] START max_depth=4.................................................\n",
      "[CV 3/3; 4/8] END ...............................max_depth=4; total time=   0.2s\n",
      "[CV 1/3; 5/8] START max_depth=5.................................................\n",
      "[CV 1/3; 5/8] END ...............................max_depth=5; total time=   0.2s\n",
      "[CV 2/3; 5/8] START max_depth=5.................................................\n",
      "[CV 2/3; 5/8] END ...............................max_depth=5; total time=   0.2s\n",
      "[CV 3/3; 5/8] START max_depth=5.................................................\n",
      "[CV 3/3; 5/8] END ...............................max_depth=5; total time=   0.2s\n",
      "[CV 1/3; 6/8] START max_depth=6.................................................\n",
      "[CV 1/3; 6/8] END ...............................max_depth=6; total time=   0.3s\n",
      "[CV 2/3; 6/8] START max_depth=6.................................................\n",
      "[CV 2/3; 6/8] END ...............................max_depth=6; total time=   0.3s\n",
      "[CV 3/3; 6/8] START max_depth=6.................................................\n",
      "[CV 3/3; 6/8] END ...............................max_depth=6; total time=   0.3s\n",
      "[CV 1/3; 7/8] START max_depth=7.................................................\n",
      "[CV 1/3; 7/8] END ...............................max_depth=7; total time=   0.3s\n",
      "[CV 2/3; 7/8] START max_depth=7.................................................\n",
      "[CV 2/3; 7/8] END ...............................max_depth=7; total time=   0.3s\n",
      "[CV 3/3; 7/8] START max_depth=7.................................................\n",
      "[CV 3/3; 7/8] END ...............................max_depth=7; total time=   0.3s\n",
      "[CV 1/3; 8/8] START max_depth=8.................................................\n",
      "[CV 1/3; 8/8] END ...............................max_depth=8; total time=   0.3s\n",
      "[CV 2/3; 8/8] START max_depth=8.................................................\n",
      "[CV 2/3; 8/8] END ...............................max_depth=8; total time=   0.3s\n",
      "[CV 3/3; 8/8] START max_depth=8.................................................\n",
      "[CV 3/3; 8/8] END ...............................max_depth=8; total time=   0.3s\n",
      "{'max_depth': 2}\n",
      "{'max_depth': 2}\n"
     ]
    }
   ],
   "source": [
    "# Модель дерева решений для smape\n",
    "tree = DecisionTreeRegressor(random_state=STATE)\n",
    "param_grid={'max_depth':range(1,9)}\n",
    "grid_tree = GridSearchCV(tree, param_grid, verbose=10, cv=3, n_jobs=-1,\n",
    "                          scoring=score_smape)\n",
    "grid_tree_rougher = grid_tree.fit(features_train_df, target_train_df_rougher)\n",
    "grid_tree_final = grid_tree.fit(features_train_df, target_train_df_final)\n",
    "print(grid_tree_rougher.best_params_)\n",
    "print(grid_tree_final.best_params_)"
   ]
  },
  {
   "cell_type": "code",
   "execution_count": 48,
   "metadata": {},
   "outputs": [
    {
     "name": "stdout",
     "output_type": "stream",
     "text": [
      "Fitting 3 folds for each of 1 candidates, totalling 3 fits\n",
      "[CV 1/3; 1/1] START max_depth=2.................................................\n",
      "[CV 1/3; 1/1] END ...............................max_depth=2; total time=   0.1s\n",
      "[CV 2/3; 1/1] START max_depth=2.................................................\n",
      "[CV 2/3; 1/1] END ...............................max_depth=2; total time=   0.1s\n",
      "[CV 3/3; 1/1] START max_depth=2.................................................\n",
      "[CV 3/3; 1/1] END ...............................max_depth=2; total time=   0.1s\n",
      "-12.629621345641539\n"
     ]
    }
   ],
   "source": [
    "param_grid={'max_depth':[2]}\n",
    "grid_tree = GridSearchCV(tree, param_grid, verbose=10, cv=3, n_jobs=-1,\n",
    "                          scoring=score_smape)\n",
    "grid_tree_rougher = grid_tree.fit(features_train_df, target_train_df_rougher)\n",
    "print(grid_tree_rougher.best_score_)"
   ]
  },
  {
   "cell_type": "code",
   "execution_count": 49,
   "metadata": {},
   "outputs": [
    {
     "name": "stdout",
     "output_type": "stream",
     "text": [
      "Fitting 3 folds for each of 1 candidates, totalling 3 fits\n",
      "[CV 1/3; 1/1] START max_depth=2.................................................\n",
      "[CV 1/3; 1/1] END ...............................max_depth=2; total time=   0.1s\n",
      "[CV 2/3; 1/1] START max_depth=2.................................................\n",
      "[CV 2/3; 1/1] END ...............................max_depth=2; total time=   0.1s\n",
      "[CV 3/3; 1/1] START max_depth=2.................................................\n",
      "[CV 3/3; 1/1] END ...............................max_depth=2; total time=   0.1s\n",
      "-10.79793639337045\n"
     ]
    }
   ],
   "source": [
    "param_grid={'max_depth':[2]}\n",
    "grid_tree = GridSearchCV(tree, param_grid, verbose=10, cv=3, n_jobs=-1,\n",
    "                          scoring=score_smape)\n",
    "grid_tree_final = grid_tree.fit(features_train_df, target_train_df_final)\n",
    "print(grid_tree_final.best_score_)"
   ]
  },
  {
   "cell_type": "code",
   "execution_count": 50,
   "metadata": {},
   "outputs": [],
   "source": [
    "scores_rougher = -1*grid_tree_rougher.best_score_\n",
    "score_final = -1*grid_tree_final.best_score_"
   ]
  },
  {
   "cell_type": "code",
   "execution_count": 51,
   "metadata": {},
   "outputs": [
    {
     "data": {
      "text/plain": [
       "11.255857631438223"
      ]
     },
     "execution_count": 51,
     "metadata": {},
     "output_type": "execute_result"
    }
   ],
   "source": [
    "smape_tree = final_smape(scores_rougher, score_final)\n",
    "smape_tree"
   ]
  },
  {
   "cell_type": "code",
   "execution_count": 53,
   "metadata": {},
   "outputs": [
    {
     "name": "stdout",
     "output_type": "stream",
     "text": [
      "Fitting 3 folds for each of 40 candidates, totalling 120 fits\n",
      "[CV 1/3; 1/40] START max_depth=1, n_estimators=1................................\n",
      "[CV 1/3; 1/40] END ..............max_depth=1, n_estimators=1; total time=   0.0s\n",
      "[CV 2/3; 1/40] START max_depth=1, n_estimators=1................................\n",
      "[CV 2/3; 1/40] END ..............max_depth=1, n_estimators=1; total time=   0.0s\n",
      "[CV 3/3; 1/40] START max_depth=1, n_estimators=1................................\n",
      "[CV 3/3; 1/40] END ..............max_depth=1, n_estimators=1; total time=   0.0s\n",
      "[CV 1/3; 2/40] START max_depth=1, n_estimators=11...............................\n",
      "[CV 1/3; 2/40] END .............max_depth=1, n_estimators=11; total time=   0.4s\n",
      "[CV 2/3; 2/40] START max_depth=1, n_estimators=11...............................\n",
      "[CV 2/3; 2/40] END .............max_depth=1, n_estimators=11; total time=   0.3s\n",
      "[CV 3/3; 2/40] START max_depth=1, n_estimators=11...............................\n",
      "[CV 3/3; 2/40] END .............max_depth=1, n_estimators=11; total time=   0.4s\n",
      "[CV 1/3; 3/40] START max_depth=1, n_estimators=21...............................\n",
      "[CV 1/3; 3/40] END .............max_depth=1, n_estimators=21; total time=   0.6s\n",
      "[CV 2/3; 3/40] START max_depth=1, n_estimators=21...............................\n",
      "[CV 2/3; 3/40] END .............max_depth=1, n_estimators=21; total time=   0.7s\n",
      "[CV 3/3; 3/40] START max_depth=1, n_estimators=21...............................\n",
      "[CV 3/3; 3/40] END .............max_depth=1, n_estimators=21; total time=   0.7s\n",
      "[CV 1/3; 4/40] START max_depth=1, n_estimators=31...............................\n",
      "[CV 1/3; 4/40] END .............max_depth=1, n_estimators=31; total time=   1.0s\n",
      "[CV 2/3; 4/40] START max_depth=1, n_estimators=31...............................\n",
      "[CV 2/3; 4/40] END .............max_depth=1, n_estimators=31; total time=   1.0s\n",
      "[CV 3/3; 4/40] START max_depth=1, n_estimators=31...............................\n",
      "[CV 3/3; 4/40] END .............max_depth=1, n_estimators=31; total time=   0.9s\n",
      "[CV 1/3; 5/40] START max_depth=1, n_estimators=41...............................\n",
      "[CV 1/3; 5/40] END .............max_depth=1, n_estimators=41; total time=   1.3s\n",
      "[CV 2/3; 5/40] START max_depth=1, n_estimators=41...............................\n",
      "[CV 2/3; 5/40] END .............max_depth=1, n_estimators=41; total time=   1.2s\n",
      "[CV 3/3; 5/40] START max_depth=1, n_estimators=41...............................\n",
      "[CV 3/3; 5/40] END .............max_depth=1, n_estimators=41; total time=   1.3s\n",
      "[CV 1/3; 6/40] START max_depth=2, n_estimators=1................................\n",
      "[CV 1/3; 6/40] END ..............max_depth=2, n_estimators=1; total time=   0.1s\n",
      "[CV 2/3; 6/40] START max_depth=2, n_estimators=1................................\n",
      "[CV 2/3; 6/40] END ..............max_depth=2, n_estimators=1; total time=   0.1s\n",
      "[CV 3/3; 6/40] START max_depth=2, n_estimators=1................................\n",
      "[CV 3/3; 6/40] END ..............max_depth=2, n_estimators=1; total time=   0.1s\n",
      "[CV 1/3; 7/40] START max_depth=2, n_estimators=11...............................\n",
      "[CV 1/3; 7/40] END .............max_depth=2, n_estimators=11; total time=   0.7s\n",
      "[CV 2/3; 7/40] START max_depth=2, n_estimators=11...............................\n",
      "[CV 2/3; 7/40] END .............max_depth=2, n_estimators=11; total time=   0.6s\n",
      "[CV 3/3; 7/40] START max_depth=2, n_estimators=11...............................\n",
      "[CV 3/3; 7/40] END .............max_depth=2, n_estimators=11; total time=   0.6s\n",
      "[CV 1/3; 8/40] START max_depth=2, n_estimators=21...............................\n",
      "[CV 1/3; 8/40] END .............max_depth=2, n_estimators=21; total time=   1.2s\n",
      "[CV 2/3; 8/40] START max_depth=2, n_estimators=21...............................\n",
      "[CV 2/3; 8/40] END .............max_depth=2, n_estimators=21; total time=   1.2s\n",
      "[CV 3/3; 8/40] START max_depth=2, n_estimators=21...............................\n",
      "[CV 3/3; 8/40] END .............max_depth=2, n_estimators=21; total time=   1.3s\n",
      "[CV 1/3; 9/40] START max_depth=2, n_estimators=31...............................\n",
      "[CV 1/3; 9/40] END .............max_depth=2, n_estimators=31; total time=   1.9s\n",
      "[CV 2/3; 9/40] START max_depth=2, n_estimators=31...............................\n",
      "[CV 2/3; 9/40] END .............max_depth=2, n_estimators=31; total time=   1.8s\n",
      "[CV 3/3; 9/40] START max_depth=2, n_estimators=31...............................\n",
      "[CV 3/3; 9/40] END .............max_depth=2, n_estimators=31; total time=   1.9s\n",
      "[CV 1/3; 10/40] START max_depth=2, n_estimators=41..............................\n",
      "[CV 1/3; 10/40] END ............max_depth=2, n_estimators=41; total time=   2.4s\n",
      "[CV 2/3; 10/40] START max_depth=2, n_estimators=41..............................\n",
      "[CV 2/3; 10/40] END ............max_depth=2, n_estimators=41; total time=   2.4s\n",
      "[CV 3/3; 10/40] START max_depth=2, n_estimators=41..............................\n",
      "[CV 3/3; 10/40] END ............max_depth=2, n_estimators=41; total time=   2.5s\n",
      "[CV 1/3; 11/40] START max_depth=3, n_estimators=1...............................\n",
      "[CV 1/3; 11/40] END .............max_depth=3, n_estimators=1; total time=   0.1s\n",
      "[CV 2/3; 11/40] START max_depth=3, n_estimators=1...............................\n",
      "[CV 2/3; 11/40] END .............max_depth=3, n_estimators=1; total time=   0.1s\n",
      "[CV 3/3; 11/40] START max_depth=3, n_estimators=1...............................\n",
      "[CV 3/3; 11/40] END .............max_depth=3, n_estimators=1; total time=   0.1s\n",
      "[CV 1/3; 12/40] START max_depth=3, n_estimators=11..............................\n",
      "[CV 1/3; 12/40] END ............max_depth=3, n_estimators=11; total time=   1.0s\n",
      "[CV 2/3; 12/40] START max_depth=3, n_estimators=11..............................\n",
      "[CV 2/3; 12/40] END ............max_depth=3, n_estimators=11; total time=   0.9s\n",
      "[CV 3/3; 12/40] START max_depth=3, n_estimators=11..............................\n",
      "[CV 3/3; 12/40] END ............max_depth=3, n_estimators=11; total time=   0.9s\n",
      "[CV 1/3; 13/40] START max_depth=3, n_estimators=21..............................\n",
      "[CV 1/3; 13/40] END ............max_depth=3, n_estimators=21; total time=   1.8s\n",
      "[CV 2/3; 13/40] START max_depth=3, n_estimators=21..............................\n",
      "[CV 2/3; 13/40] END ............max_depth=3, n_estimators=21; total time=   1.8s\n",
      "[CV 3/3; 13/40] START max_depth=3, n_estimators=21..............................\n",
      "[CV 3/3; 13/40] END ............max_depth=3, n_estimators=21; total time=   1.9s\n",
      "[CV 1/3; 14/40] START max_depth=3, n_estimators=31..............................\n",
      "[CV 1/3; 14/40] END ............max_depth=3, n_estimators=31; total time=   2.7s\n",
      "[CV 2/3; 14/40] START max_depth=3, n_estimators=31..............................\n",
      "[CV 2/3; 14/40] END ............max_depth=3, n_estimators=31; total time=   2.6s\n",
      "[CV 3/3; 14/40] START max_depth=3, n_estimators=31..............................\n",
      "[CV 3/3; 14/40] END ............max_depth=3, n_estimators=31; total time=   2.7s\n",
      "[CV 1/3; 15/40] START max_depth=3, n_estimators=41..............................\n",
      "[CV 1/3; 15/40] END ............max_depth=3, n_estimators=41; total time=   3.6s\n",
      "[CV 2/3; 15/40] START max_depth=3, n_estimators=41..............................\n",
      "[CV 2/3; 15/40] END ............max_depth=3, n_estimators=41; total time=   3.4s\n",
      "[CV 3/3; 15/40] START max_depth=3, n_estimators=41..............................\n",
      "[CV 3/3; 15/40] END ............max_depth=3, n_estimators=41; total time=   3.5s\n",
      "[CV 1/3; 16/40] START max_depth=4, n_estimators=1...............................\n",
      "[CV 1/3; 16/40] END .............max_depth=4, n_estimators=1; total time=   0.1s\n",
      "[CV 2/3; 16/40] START max_depth=4, n_estimators=1...............................\n",
      "[CV 2/3; 16/40] END .............max_depth=4, n_estimators=1; total time=   0.1s\n",
      "[CV 3/3; 16/40] START max_depth=4, n_estimators=1...............................\n",
      "[CV 3/3; 16/40] END .............max_depth=4, n_estimators=1; total time=   0.1s\n",
      "[CV 1/3; 17/40] START max_depth=4, n_estimators=11..............................\n",
      "[CV 1/3; 17/40] END ............max_depth=4, n_estimators=11; total time=   1.3s\n",
      "[CV 2/3; 17/40] START max_depth=4, n_estimators=11..............................\n",
      "[CV 2/3; 17/40] END ............max_depth=4, n_estimators=11; total time=   1.2s\n",
      "[CV 3/3; 17/40] START max_depth=4, n_estimators=11..............................\n",
      "[CV 3/3; 17/40] END ............max_depth=4, n_estimators=11; total time=   1.2s\n",
      "[CV 1/3; 18/40] START max_depth=4, n_estimators=21..............................\n",
      "[CV 1/3; 18/40] END ............max_depth=4, n_estimators=21; total time=   2.5s\n",
      "[CV 2/3; 18/40] START max_depth=4, n_estimators=21..............................\n",
      "[CV 2/3; 18/40] END ............max_depth=4, n_estimators=21; total time=   2.2s\n",
      "[CV 3/3; 18/40] START max_depth=4, n_estimators=21..............................\n",
      "[CV 3/3; 18/40] END ............max_depth=4, n_estimators=21; total time=   2.3s\n",
      "[CV 1/3; 19/40] START max_depth=4, n_estimators=31..............................\n",
      "[CV 1/3; 19/40] END ............max_depth=4, n_estimators=31; total time=   3.5s\n",
      "[CV 2/3; 19/40] START max_depth=4, n_estimators=31..............................\n",
      "[CV 2/3; 19/40] END ............max_depth=4, n_estimators=31; total time=   3.3s\n",
      "[CV 3/3; 19/40] START max_depth=4, n_estimators=31..............................\n",
      "[CV 3/3; 19/40] END ............max_depth=4, n_estimators=31; total time=   3.5s\n",
      "[CV 1/3; 20/40] START max_depth=4, n_estimators=41..............................\n",
      "[CV 1/3; 20/40] END ............max_depth=4, n_estimators=41; total time=   4.6s\n",
      "[CV 2/3; 20/40] START max_depth=4, n_estimators=41..............................\n",
      "[CV 2/3; 20/40] END ............max_depth=4, n_estimators=41; total time=   4.4s\n",
      "[CV 3/3; 20/40] START max_depth=4, n_estimators=41..............................\n",
      "[CV 3/3; 20/40] END ............max_depth=4, n_estimators=41; total time=   4.7s\n",
      "[CV 1/3; 21/40] START max_depth=5, n_estimators=1...............................\n",
      "[CV 1/3; 21/40] END .............max_depth=5, n_estimators=1; total time=   0.1s\n",
      "[CV 2/3; 21/40] START max_depth=5, n_estimators=1...............................\n",
      "[CV 2/3; 21/40] END .............max_depth=5, n_estimators=1; total time=   0.1s\n",
      "[CV 3/3; 21/40] START max_depth=5, n_estimators=1...............................\n",
      "[CV 3/3; 21/40] END .............max_depth=5, n_estimators=1; total time=   0.1s\n",
      "[CV 1/3; 22/40] START max_depth=5, n_estimators=11..............................\n",
      "[CV 1/3; 22/40] END ............max_depth=5, n_estimators=11; total time=   1.5s\n",
      "[CV 2/3; 22/40] START max_depth=5, n_estimators=11..............................\n",
      "[CV 2/3; 22/40] END ............max_depth=5, n_estimators=11; total time=   1.4s\n",
      "[CV 3/3; 22/40] START max_depth=5, n_estimators=11..............................\n",
      "[CV 3/3; 22/40] END ............max_depth=5, n_estimators=11; total time=   1.5s\n",
      "[CV 1/3; 23/40] START max_depth=5, n_estimators=21..............................\n",
      "[CV 1/3; 23/40] END ............max_depth=5, n_estimators=21; total time=   3.0s\n",
      "[CV 2/3; 23/40] START max_depth=5, n_estimators=21..............................\n",
      "[CV 2/3; 23/40] END ............max_depth=5, n_estimators=21; total time=   2.8s\n",
      "[CV 3/3; 23/40] START max_depth=5, n_estimators=21..............................\n",
      "[CV 3/3; 23/40] END ............max_depth=5, n_estimators=21; total time=   2.9s\n",
      "[CV 1/3; 24/40] START max_depth=5, n_estimators=31..............................\n",
      "[CV 1/3; 24/40] END ............max_depth=5, n_estimators=31; total time=   4.4s\n",
      "[CV 2/3; 24/40] START max_depth=5, n_estimators=31..............................\n",
      "[CV 2/3; 24/40] END ............max_depth=5, n_estimators=31; total time=   4.1s\n",
      "[CV 3/3; 24/40] START max_depth=5, n_estimators=31..............................\n",
      "[CV 3/3; 24/40] END ............max_depth=5, n_estimators=31; total time=   4.3s\n",
      "[CV 1/3; 25/40] START max_depth=5, n_estimators=41..............................\n",
      "[CV 1/3; 25/40] END ............max_depth=5, n_estimators=41; total time=   5.8s\n",
      "[CV 2/3; 25/40] START max_depth=5, n_estimators=41..............................\n",
      "[CV 2/3; 25/40] END ............max_depth=5, n_estimators=41; total time=   5.4s\n",
      "[CV 3/3; 25/40] START max_depth=5, n_estimators=41..............................\n",
      "[CV 3/3; 25/40] END ............max_depth=5, n_estimators=41; total time=   5.6s\n",
      "[CV 1/3; 26/40] START max_depth=6, n_estimators=1...............................\n",
      "[CV 1/3; 26/40] END .............max_depth=6, n_estimators=1; total time=   0.2s\n",
      "[CV 2/3; 26/40] START max_depth=6, n_estimators=1...............................\n",
      "[CV 2/3; 26/40] END .............max_depth=6, n_estimators=1; total time=   0.2s\n",
      "[CV 3/3; 26/40] START max_depth=6, n_estimators=1...............................\n",
      "[CV 3/3; 26/40] END .............max_depth=6, n_estimators=1; total time=   0.2s\n",
      "[CV 1/3; 27/40] START max_depth=6, n_estimators=11..............................\n",
      "[CV 1/3; 27/40] END ............max_depth=6, n_estimators=11; total time=   1.8s\n",
      "[CV 2/3; 27/40] START max_depth=6, n_estimators=11..............................\n",
      "[CV 2/3; 27/40] END ............max_depth=6, n_estimators=11; total time=   1.8s\n",
      "[CV 3/3; 27/40] START max_depth=6, n_estimators=11..............................\n",
      "[CV 3/3; 27/40] END ............max_depth=6, n_estimators=11; total time=   1.8s\n",
      "[CV 1/3; 28/40] START max_depth=6, n_estimators=21..............................\n",
      "[CV 1/3; 28/40] END ............max_depth=6, n_estimators=21; total time=   3.4s\n",
      "[CV 2/3; 28/40] START max_depth=6, n_estimators=21..............................\n",
      "[CV 2/3; 28/40] END ............max_depth=6, n_estimators=21; total time=   3.3s\n",
      "[CV 3/3; 28/40] START max_depth=6, n_estimators=21..............................\n",
      "[CV 3/3; 28/40] END ............max_depth=6, n_estimators=21; total time=   3.4s\n",
      "[CV 1/3; 29/40] START max_depth=6, n_estimators=31..............................\n",
      "[CV 1/3; 29/40] END ............max_depth=6, n_estimators=31; total time=   5.0s\n",
      "[CV 2/3; 29/40] START max_depth=6, n_estimators=31..............................\n",
      "[CV 2/3; 29/40] END ............max_depth=6, n_estimators=31; total time=   4.9s\n",
      "[CV 3/3; 29/40] START max_depth=6, n_estimators=31..............................\n",
      "[CV 3/3; 29/40] END ............max_depth=6, n_estimators=31; total time=   5.0s\n",
      "[CV 1/3; 30/40] START max_depth=6, n_estimators=41..............................\n",
      "[CV 1/3; 30/40] END ............max_depth=6, n_estimators=41; total time=   6.8s\n",
      "[CV 2/3; 30/40] START max_depth=6, n_estimators=41..............................\n",
      "[CV 2/3; 30/40] END ............max_depth=6, n_estimators=41; total time=   6.4s\n",
      "[CV 3/3; 30/40] START max_depth=6, n_estimators=41..............................\n",
      "[CV 3/3; 30/40] END ............max_depth=6, n_estimators=41; total time=   6.7s\n",
      "[CV 1/3; 31/40] START max_depth=7, n_estimators=1...............................\n",
      "[CV 1/3; 31/40] END .............max_depth=7, n_estimators=1; total time=   0.2s\n",
      "[CV 2/3; 31/40] START max_depth=7, n_estimators=1...............................\n",
      "[CV 2/3; 31/40] END .............max_depth=7, n_estimators=1; total time=   0.2s\n",
      "[CV 3/3; 31/40] START max_depth=7, n_estimators=1...............................\n",
      "[CV 3/3; 31/40] END .............max_depth=7, n_estimators=1; total time=   0.2s\n",
      "[CV 1/3; 32/40] START max_depth=7, n_estimators=11..............................\n",
      "[CV 1/3; 32/40] END ............max_depth=7, n_estimators=11; total time=   2.1s\n",
      "[CV 2/3; 32/40] START max_depth=7, n_estimators=11..............................\n",
      "[CV 2/3; 32/40] END ............max_depth=7, n_estimators=11; total time=   2.0s\n",
      "[CV 3/3; 32/40] START max_depth=7, n_estimators=11..............................\n",
      "[CV 3/3; 32/40] END ............max_depth=7, n_estimators=11; total time=   2.1s\n",
      "[CV 1/3; 33/40] START max_depth=7, n_estimators=21..............................\n",
      "[CV 1/3; 33/40] END ............max_depth=7, n_estimators=21; total time=   3.9s\n",
      "[CV 2/3; 33/40] START max_depth=7, n_estimators=21..............................\n",
      "[CV 2/3; 33/40] END ............max_depth=7, n_estimators=21; total time=   3.7s\n",
      "[CV 3/3; 33/40] START max_depth=7, n_estimators=21..............................\n",
      "[CV 3/3; 33/40] END ............max_depth=7, n_estimators=21; total time=   3.9s\n",
      "[CV 1/3; 34/40] START max_depth=7, n_estimators=31..............................\n",
      "[CV 1/3; 34/40] END ............max_depth=7, n_estimators=31; total time=   5.9s\n",
      "[CV 2/3; 34/40] START max_depth=7, n_estimators=31..............................\n",
      "[CV 2/3; 34/40] END ............max_depth=7, n_estimators=31; total time=   5.6s\n",
      "[CV 3/3; 34/40] START max_depth=7, n_estimators=31..............................\n",
      "[CV 3/3; 34/40] END ............max_depth=7, n_estimators=31; total time=   5.7s\n",
      "[CV 1/3; 35/40] START max_depth=7, n_estimators=41..............................\n",
      "[CV 1/3; 35/40] END ............max_depth=7, n_estimators=41; total time=   7.7s\n",
      "[CV 2/3; 35/40] START max_depth=7, n_estimators=41..............................\n",
      "[CV 2/3; 35/40] END ............max_depth=7, n_estimators=41; total time=   7.2s\n",
      "[CV 3/3; 35/40] START max_depth=7, n_estimators=41..............................\n",
      "[CV 3/3; 35/40] END ............max_depth=7, n_estimators=41; total time=   7.5s\n",
      "[CV 1/3; 36/40] START max_depth=8, n_estimators=1...............................\n",
      "[CV 1/3; 36/40] END .............max_depth=8, n_estimators=1; total time=   0.2s\n",
      "[CV 2/3; 36/40] START max_depth=8, n_estimators=1...............................\n",
      "[CV 2/3; 36/40] END .............max_depth=8, n_estimators=1; total time=   0.2s\n",
      "[CV 3/3; 36/40] START max_depth=8, n_estimators=1...............................\n",
      "[CV 3/3; 36/40] END .............max_depth=8, n_estimators=1; total time=   0.2s\n",
      "[CV 1/3; 37/40] START max_depth=8, n_estimators=11..............................\n",
      "[CV 1/3; 37/40] END ............max_depth=8, n_estimators=11; total time=   2.3s\n",
      "[CV 2/3; 37/40] START max_depth=8, n_estimators=11..............................\n",
      "[CV 2/3; 37/40] END ............max_depth=8, n_estimators=11; total time=   2.3s\n",
      "[CV 3/3; 37/40] START max_depth=8, n_estimators=11..............................\n",
      "[CV 3/3; 37/40] END ............max_depth=8, n_estimators=11; total time=   2.3s\n",
      "[CV 1/3; 38/40] START max_depth=8, n_estimators=21..............................\n",
      "[CV 1/3; 38/40] END ............max_depth=8, n_estimators=21; total time=   4.5s\n",
      "[CV 2/3; 38/40] START max_depth=8, n_estimators=21..............................\n",
      "[CV 2/3; 38/40] END ............max_depth=8, n_estimators=21; total time=   4.3s\n",
      "[CV 3/3; 38/40] START max_depth=8, n_estimators=21..............................\n",
      "[CV 3/3; 38/40] END ............max_depth=8, n_estimators=21; total time=   4.4s\n",
      "[CV 1/3; 39/40] START max_depth=8, n_estimators=31..............................\n",
      "[CV 1/3; 39/40] END ............max_depth=8, n_estimators=31; total time=   6.5s\n",
      "[CV 2/3; 39/40] START max_depth=8, n_estimators=31..............................\n",
      "[CV 2/3; 39/40] END ............max_depth=8, n_estimators=31; total time=   6.1s\n",
      "[CV 3/3; 39/40] START max_depth=8, n_estimators=31..............................\n",
      "[CV 3/3; 39/40] END ............max_depth=8, n_estimators=31; total time=   6.6s\n",
      "[CV 1/3; 40/40] START max_depth=8, n_estimators=41..............................\n",
      "[CV 1/3; 40/40] END ............max_depth=8, n_estimators=41; total time=   8.7s\n",
      "[CV 2/3; 40/40] START max_depth=8, n_estimators=41..............................\n",
      "[CV 2/3; 40/40] END ............max_depth=8, n_estimators=41; total time=   8.2s\n",
      "[CV 3/3; 40/40] START max_depth=8, n_estimators=41..............................\n",
      "[CV 3/3; 40/40] END ............max_depth=8, n_estimators=41; total time=   8.7s\n",
      "Fitting 3 folds for each of 40 candidates, totalling 120 fits\n",
      "[CV 1/3; 1/40] START max_depth=1, n_estimators=1................................\n",
      "[CV 1/3; 1/40] END ..............max_depth=1, n_estimators=1; total time=   0.0s\n",
      "[CV 2/3; 1/40] START max_depth=1, n_estimators=1................................\n",
      "[CV 2/3; 1/40] END ..............max_depth=1, n_estimators=1; total time=   0.0s\n",
      "[CV 3/3; 1/40] START max_depth=1, n_estimators=1................................\n",
      "[CV 3/3; 1/40] END ..............max_depth=1, n_estimators=1; total time=   0.0s\n",
      "[CV 1/3; 2/40] START max_depth=1, n_estimators=11...............................\n",
      "[CV 1/3; 2/40] END .............max_depth=1, n_estimators=11; total time=   0.3s\n",
      "[CV 2/3; 2/40] START max_depth=1, n_estimators=11...............................\n",
      "[CV 2/3; 2/40] END .............max_depth=1, n_estimators=11; total time=   0.3s\n",
      "[CV 3/3; 2/40] START max_depth=1, n_estimators=11...............................\n",
      "[CV 3/3; 2/40] END .............max_depth=1, n_estimators=11; total time=   0.3s\n",
      "[CV 1/3; 3/40] START max_depth=1, n_estimators=21...............................\n",
      "[CV 1/3; 3/40] END .............max_depth=1, n_estimators=21; total time=   0.6s\n",
      "[CV 2/3; 3/40] START max_depth=1, n_estimators=21...............................\n",
      "[CV 2/3; 3/40] END .............max_depth=1, n_estimators=21; total time=   0.6s\n",
      "[CV 3/3; 3/40] START max_depth=1, n_estimators=21...............................\n",
      "[CV 3/3; 3/40] END .............max_depth=1, n_estimators=21; total time=   0.6s\n",
      "[CV 1/3; 4/40] START max_depth=1, n_estimators=31...............................\n",
      "[CV 1/3; 4/40] END .............max_depth=1, n_estimators=31; total time=   1.0s\n",
      "[CV 2/3; 4/40] START max_depth=1, n_estimators=31...............................\n",
      "[CV 2/3; 4/40] END .............max_depth=1, n_estimators=31; total time=   0.9s\n",
      "[CV 3/3; 4/40] START max_depth=1, n_estimators=31...............................\n",
      "[CV 3/3; 4/40] END .............max_depth=1, n_estimators=31; total time=   0.9s\n",
      "[CV 1/3; 5/40] START max_depth=1, n_estimators=41...............................\n",
      "[CV 1/3; 5/40] END .............max_depth=1, n_estimators=41; total time=   1.3s\n",
      "[CV 2/3; 5/40] START max_depth=1, n_estimators=41...............................\n",
      "[CV 2/3; 5/40] END .............max_depth=1, n_estimators=41; total time=   1.2s\n",
      "[CV 3/3; 5/40] START max_depth=1, n_estimators=41...............................\n",
      "[CV 3/3; 5/40] END .............max_depth=1, n_estimators=41; total time=   1.3s\n",
      "[CV 1/3; 6/40] START max_depth=2, n_estimators=1................................\n",
      "[CV 1/3; 6/40] END ..............max_depth=2, n_estimators=1; total time=   0.1s\n",
      "[CV 2/3; 6/40] START max_depth=2, n_estimators=1................................\n",
      "[CV 2/3; 6/40] END ..............max_depth=2, n_estimators=1; total time=   0.1s\n",
      "[CV 3/3; 6/40] START max_depth=2, n_estimators=1................................\n",
      "[CV 3/3; 6/40] END ..............max_depth=2, n_estimators=1; total time=   0.1s\n",
      "[CV 1/3; 7/40] START max_depth=2, n_estimators=11...............................\n",
      "[CV 1/3; 7/40] END .............max_depth=2, n_estimators=11; total time=   0.6s\n",
      "[CV 2/3; 7/40] START max_depth=2, n_estimators=11...............................\n",
      "[CV 2/3; 7/40] END .............max_depth=2, n_estimators=11; total time=   0.6s\n",
      "[CV 3/3; 7/40] START max_depth=2, n_estimators=11...............................\n",
      "[CV 3/3; 7/40] END .............max_depth=2, n_estimators=11; total time=   0.6s\n",
      "[CV 1/3; 8/40] START max_depth=2, n_estimators=21...............................\n",
      "[CV 1/3; 8/40] END .............max_depth=2, n_estimators=21; total time=   1.2s\n",
      "[CV 2/3; 8/40] START max_depth=2, n_estimators=21...............................\n",
      "[CV 2/3; 8/40] END .............max_depth=2, n_estimators=21; total time=   1.3s\n",
      "[CV 3/3; 8/40] START max_depth=2, n_estimators=21...............................\n",
      "[CV 3/3; 8/40] END .............max_depth=2, n_estimators=21; total time=   1.2s\n",
      "[CV 1/3; 9/40] START max_depth=2, n_estimators=31...............................\n",
      "[CV 1/3; 9/40] END .............max_depth=2, n_estimators=31; total time=   1.9s\n",
      "[CV 2/3; 9/40] START max_depth=2, n_estimators=31...............................\n",
      "[CV 2/3; 9/40] END .............max_depth=2, n_estimators=31; total time=   1.8s\n",
      "[CV 3/3; 9/40] START max_depth=2, n_estimators=31...............................\n",
      "[CV 3/3; 9/40] END .............max_depth=2, n_estimators=31; total time=   1.8s\n",
      "[CV 1/3; 10/40] START max_depth=2, n_estimators=41..............................\n",
      "[CV 1/3; 10/40] END ............max_depth=2, n_estimators=41; total time=   2.4s\n",
      "[CV 2/3; 10/40] START max_depth=2, n_estimators=41..............................\n",
      "[CV 2/3; 10/40] END ............max_depth=2, n_estimators=41; total time=   2.4s\n",
      "[CV 3/3; 10/40] START max_depth=2, n_estimators=41..............................\n",
      "[CV 3/3; 10/40] END ............max_depth=2, n_estimators=41; total time=   2.5s\n",
      "[CV 1/3; 11/40] START max_depth=3, n_estimators=1...............................\n",
      "[CV 1/3; 11/40] END .............max_depth=3, n_estimators=1; total time=   0.1s\n",
      "[CV 2/3; 11/40] START max_depth=3, n_estimators=1...............................\n",
      "[CV 2/3; 11/40] END .............max_depth=3, n_estimators=1; total time=   0.1s\n",
      "[CV 3/3; 11/40] START max_depth=3, n_estimators=1...............................\n",
      "[CV 3/3; 11/40] END .............max_depth=3, n_estimators=1; total time=   0.1s\n",
      "[CV 1/3; 12/40] START max_depth=3, n_estimators=11..............................\n",
      "[CV 1/3; 12/40] END ............max_depth=3, n_estimators=11; total time=   1.0s\n",
      "[CV 2/3; 12/40] START max_depth=3, n_estimators=11..............................\n",
      "[CV 2/3; 12/40] END ............max_depth=3, n_estimators=11; total time=   0.9s\n",
      "[CV 3/3; 12/40] START max_depth=3, n_estimators=11..............................\n",
      "[CV 3/3; 12/40] END ............max_depth=3, n_estimators=11; total time=   1.0s\n",
      "[CV 1/3; 13/40] START max_depth=3, n_estimators=21..............................\n",
      "[CV 1/3; 13/40] END ............max_depth=3, n_estimators=21; total time=   1.8s\n",
      "[CV 2/3; 13/40] START max_depth=3, n_estimators=21..............................\n",
      "[CV 2/3; 13/40] END ............max_depth=3, n_estimators=21; total time=   1.8s\n",
      "[CV 3/3; 13/40] START max_depth=3, n_estimators=21..............................\n",
      "[CV 3/3; 13/40] END ............max_depth=3, n_estimators=21; total time=   1.8s\n",
      "[CV 1/3; 14/40] START max_depth=3, n_estimators=31..............................\n",
      "[CV 1/3; 14/40] END ............max_depth=3, n_estimators=31; total time=   2.6s\n",
      "[CV 2/3; 14/40] START max_depth=3, n_estimators=31..............................\n",
      "[CV 2/3; 14/40] END ............max_depth=3, n_estimators=31; total time=   2.6s\n",
      "[CV 3/3; 14/40] START max_depth=3, n_estimators=31..............................\n",
      "[CV 3/3; 14/40] END ............max_depth=3, n_estimators=31; total time=   2.6s\n",
      "[CV 1/3; 15/40] START max_depth=3, n_estimators=41..............................\n",
      "[CV 1/3; 15/40] END ............max_depth=3, n_estimators=41; total time=   3.5s\n",
      "[CV 2/3; 15/40] START max_depth=3, n_estimators=41..............................\n",
      "[CV 2/3; 15/40] END ............max_depth=3, n_estimators=41; total time=   3.5s\n",
      "[CV 3/3; 15/40] START max_depth=3, n_estimators=41..............................\n",
      "[CV 3/3; 15/40] END ............max_depth=3, n_estimators=41; total time=   3.5s\n",
      "[CV 1/3; 16/40] START max_depth=4, n_estimators=1...............................\n",
      "[CV 1/3; 16/40] END .............max_depth=4, n_estimators=1; total time=   0.1s\n",
      "[CV 2/3; 16/40] START max_depth=4, n_estimators=1...............................\n",
      "[CV 2/3; 16/40] END .............max_depth=4, n_estimators=1; total time=   0.1s\n",
      "[CV 3/3; 16/40] START max_depth=4, n_estimators=1...............................\n",
      "[CV 3/3; 16/40] END .............max_depth=4, n_estimators=1; total time=   0.1s\n",
      "[CV 1/3; 17/40] START max_depth=4, n_estimators=11..............................\n",
      "[CV 1/3; 17/40] END ............max_depth=4, n_estimators=11; total time=   1.2s\n",
      "[CV 2/3; 17/40] START max_depth=4, n_estimators=11..............................\n",
      "[CV 2/3; 17/40] END ............max_depth=4, n_estimators=11; total time=   1.2s\n",
      "[CV 3/3; 17/40] START max_depth=4, n_estimators=11..............................\n",
      "[CV 3/3; 17/40] END ............max_depth=4, n_estimators=11; total time=   1.2s\n",
      "[CV 1/3; 18/40] START max_depth=4, n_estimators=21..............................\n",
      "[CV 1/3; 18/40] END ............max_depth=4, n_estimators=21; total time=   2.3s\n",
      "[CV 2/3; 18/40] START max_depth=4, n_estimators=21..............................\n",
      "[CV 2/3; 18/40] END ............max_depth=4, n_estimators=21; total time=   2.3s\n",
      "[CV 3/3; 18/40] START max_depth=4, n_estimators=21..............................\n",
      "[CV 3/3; 18/40] END ............max_depth=4, n_estimators=21; total time=   2.4s\n",
      "[CV 1/3; 19/40] START max_depth=4, n_estimators=31..............................\n",
      "[CV 1/3; 19/40] END ............max_depth=4, n_estimators=31; total time=   3.4s\n",
      "[CV 2/3; 19/40] START max_depth=4, n_estimators=31..............................\n",
      "[CV 2/3; 19/40] END ............max_depth=4, n_estimators=31; total time=   3.4s\n",
      "[CV 3/3; 19/40] START max_depth=4, n_estimators=31..............................\n",
      "[CV 3/3; 19/40] END ............max_depth=4, n_estimators=31; total time=   3.5s\n",
      "[CV 1/3; 20/40] START max_depth=4, n_estimators=41..............................\n",
      "[CV 1/3; 20/40] END ............max_depth=4, n_estimators=41; total time=   4.5s\n",
      "[CV 2/3; 20/40] START max_depth=4, n_estimators=41..............................\n",
      "[CV 2/3; 20/40] END ............max_depth=4, n_estimators=41; total time=   4.5s\n",
      "[CV 3/3; 20/40] START max_depth=4, n_estimators=41..............................\n",
      "[CV 3/3; 20/40] END ............max_depth=4, n_estimators=41; total time=   4.6s\n",
      "[CV 1/3; 21/40] START max_depth=5, n_estimators=1...............................\n",
      "[CV 1/3; 21/40] END .............max_depth=5, n_estimators=1; total time=   0.1s\n",
      "[CV 2/3; 21/40] START max_depth=5, n_estimators=1...............................\n",
      "[CV 2/3; 21/40] END .............max_depth=5, n_estimators=1; total time=   0.1s\n",
      "[CV 3/3; 21/40] START max_depth=5, n_estimators=1...............................\n",
      "[CV 3/3; 21/40] END .............max_depth=5, n_estimators=1; total time=   0.2s\n",
      "[CV 1/3; 22/40] START max_depth=5, n_estimators=11..............................\n",
      "[CV 1/3; 22/40] END ............max_depth=5, n_estimators=11; total time=   1.5s\n",
      "[CV 2/3; 22/40] START max_depth=5, n_estimators=11..............................\n",
      "[CV 2/3; 22/40] END ............max_depth=5, n_estimators=11; total time=   1.4s\n",
      "[CV 3/3; 22/40] START max_depth=5, n_estimators=11..............................\n",
      "[CV 3/3; 22/40] END ............max_depth=5, n_estimators=11; total time=   1.5s\n",
      "[CV 1/3; 23/40] START max_depth=5, n_estimators=21..............................\n",
      "[CV 1/3; 23/40] END ............max_depth=5, n_estimators=21; total time=   2.9s\n",
      "[CV 2/3; 23/40] START max_depth=5, n_estimators=21..............................\n",
      "[CV 2/3; 23/40] END ............max_depth=5, n_estimators=21; total time=   2.8s\n",
      "[CV 3/3; 23/40] START max_depth=5, n_estimators=21..............................\n",
      "[CV 3/3; 23/40] END ............max_depth=5, n_estimators=21; total time=   2.8s\n",
      "[CV 1/3; 24/40] START max_depth=5, n_estimators=31..............................\n",
      "[CV 1/3; 24/40] END ............max_depth=5, n_estimators=31; total time=   4.2s\n",
      "[CV 2/3; 24/40] START max_depth=5, n_estimators=31..............................\n",
      "[CV 2/3; 24/40] END ............max_depth=5, n_estimators=31; total time=   4.1s\n",
      "[CV 3/3; 24/40] START max_depth=5, n_estimators=31..............................\n",
      "[CV 3/3; 24/40] END ............max_depth=5, n_estimators=31; total time=   4.2s\n",
      "[CV 1/3; 25/40] START max_depth=5, n_estimators=41..............................\n",
      "[CV 1/3; 25/40] END ............max_depth=5, n_estimators=41; total time=   5.5s\n",
      "[CV 2/3; 25/40] START max_depth=5, n_estimators=41..............................\n",
      "[CV 2/3; 25/40] END ............max_depth=5, n_estimators=41; total time=   5.5s\n",
      "[CV 3/3; 25/40] START max_depth=5, n_estimators=41..............................\n",
      "[CV 3/3; 25/40] END ............max_depth=5, n_estimators=41; total time=   6.0s\n",
      "[CV 1/3; 26/40] START max_depth=6, n_estimators=1...............................\n",
      "[CV 1/3; 26/40] END .............max_depth=6, n_estimators=1; total time=   0.2s\n",
      "[CV 2/3; 26/40] START max_depth=6, n_estimators=1...............................\n",
      "[CV 2/3; 26/40] END .............max_depth=6, n_estimators=1; total time=   0.2s\n",
      "[CV 3/3; 26/40] START max_depth=6, n_estimators=1...............................\n",
      "[CV 3/3; 26/40] END .............max_depth=6, n_estimators=1; total time=   0.2s\n",
      "[CV 1/3; 27/40] START max_depth=6, n_estimators=11..............................\n",
      "[CV 1/3; 27/40] END ............max_depth=6, n_estimators=11; total time=   1.8s\n",
      "[CV 2/3; 27/40] START max_depth=6, n_estimators=11..............................\n",
      "[CV 2/3; 27/40] END ............max_depth=6, n_estimators=11; total time=   1.8s\n",
      "[CV 3/3; 27/40] START max_depth=6, n_estimators=11..............................\n",
      "[CV 3/3; 27/40] END ............max_depth=6, n_estimators=11; total time=   1.8s\n",
      "[CV 1/3; 28/40] START max_depth=6, n_estimators=21..............................\n",
      "[CV 1/3; 28/40] END ............max_depth=6, n_estimators=21; total time=   3.3s\n",
      "[CV 2/3; 28/40] START max_depth=6, n_estimators=21..............................\n",
      "[CV 2/3; 28/40] END ............max_depth=6, n_estimators=21; total time=   3.3s\n",
      "[CV 3/3; 28/40] START max_depth=6, n_estimators=21..............................\n",
      "[CV 3/3; 28/40] END ............max_depth=6, n_estimators=21; total time=   3.5s\n",
      "[CV 1/3; 29/40] START max_depth=6, n_estimators=31..............................\n",
      "[CV 1/3; 29/40] END ............max_depth=6, n_estimators=31; total time=   5.1s\n",
      "[CV 2/3; 29/40] START max_depth=6, n_estimators=31..............................\n",
      "[CV 2/3; 29/40] END ............max_depth=6, n_estimators=31; total time=   5.2s\n",
      "[CV 3/3; 29/40] START max_depth=6, n_estimators=31..............................\n",
      "[CV 3/3; 29/40] END ............max_depth=6, n_estimators=31; total time=   5.1s\n",
      "[CV 1/3; 30/40] START max_depth=6, n_estimators=41..............................\n",
      "[CV 1/3; 30/40] END ............max_depth=6, n_estimators=41; total time=   6.7s\n",
      "[CV 2/3; 30/40] START max_depth=6, n_estimators=41..............................\n",
      "[CV 2/3; 30/40] END ............max_depth=6, n_estimators=41; total time=   6.5s\n",
      "[CV 3/3; 30/40] START max_depth=6, n_estimators=41..............................\n",
      "[CV 3/3; 30/40] END ............max_depth=6, n_estimators=41; total time=   6.8s\n",
      "[CV 1/3; 31/40] START max_depth=7, n_estimators=1...............................\n",
      "[CV 1/3; 31/40] END .............max_depth=7, n_estimators=1; total time=   0.2s\n",
      "[CV 2/3; 31/40] START max_depth=7, n_estimators=1...............................\n",
      "[CV 2/3; 31/40] END .............max_depth=7, n_estimators=1; total time=   0.2s\n",
      "[CV 3/3; 31/40] START max_depth=7, n_estimators=1...............................\n",
      "[CV 3/3; 31/40] END .............max_depth=7, n_estimators=1; total time=   0.2s\n",
      "[CV 1/3; 32/40] START max_depth=7, n_estimators=11..............................\n",
      "[CV 1/3; 32/40] END ............max_depth=7, n_estimators=11; total time=   2.1s\n",
      "[CV 2/3; 32/40] START max_depth=7, n_estimators=11..............................\n",
      "[CV 2/3; 32/40] END ............max_depth=7, n_estimators=11; total time=   2.0s\n",
      "[CV 3/3; 32/40] START max_depth=7, n_estimators=11..............................\n",
      "[CV 3/3; 32/40] END ............max_depth=7, n_estimators=11; total time=   2.1s\n",
      "[CV 1/3; 33/40] START max_depth=7, n_estimators=21..............................\n",
      "[CV 1/3; 33/40] END ............max_depth=7, n_estimators=21; total time=   3.8s\n",
      "[CV 2/3; 33/40] START max_depth=7, n_estimators=21..............................\n",
      "[CV 2/3; 33/40] END ............max_depth=7, n_estimators=21; total time=   3.8s\n",
      "[CV 3/3; 33/40] START max_depth=7, n_estimators=21..............................\n",
      "[CV 3/3; 33/40] END ............max_depth=7, n_estimators=21; total time=   4.0s\n",
      "[CV 1/3; 34/40] START max_depth=7, n_estimators=31..............................\n",
      "[CV 1/3; 34/40] END ............max_depth=7, n_estimators=31; total time=   5.7s\n",
      "[CV 2/3; 34/40] START max_depth=7, n_estimators=31..............................\n",
      "[CV 2/3; 34/40] END ............max_depth=7, n_estimators=31; total time=   5.8s\n",
      "[CV 3/3; 34/40] START max_depth=7, n_estimators=31..............................\n",
      "[CV 3/3; 34/40] END ............max_depth=7, n_estimators=31; total time=   5.8s\n",
      "[CV 1/3; 35/40] START max_depth=7, n_estimators=41..............................\n",
      "[CV 1/3; 35/40] END ............max_depth=7, n_estimators=41; total time=   7.4s\n",
      "[CV 2/3; 35/40] START max_depth=7, n_estimators=41..............................\n",
      "[CV 2/3; 35/40] END ............max_depth=7, n_estimators=41; total time=   7.3s\n",
      "[CV 3/3; 35/40] START max_depth=7, n_estimators=41..............................\n",
      "[CV 3/3; 35/40] END ............max_depth=7, n_estimators=41; total time=   7.7s\n",
      "[CV 1/3; 36/40] START max_depth=8, n_estimators=1...............................\n",
      "[CV 1/3; 36/40] END .............max_depth=8, n_estimators=1; total time=   0.2s\n",
      "[CV 2/3; 36/40] START max_depth=8, n_estimators=1...............................\n",
      "[CV 2/3; 36/40] END .............max_depth=8, n_estimators=1; total time=   0.2s\n",
      "[CV 3/3; 36/40] START max_depth=8, n_estimators=1...............................\n",
      "[CV 3/3; 36/40] END .............max_depth=8, n_estimators=1; total time=   0.2s\n",
      "[CV 1/3; 37/40] START max_depth=8, n_estimators=11..............................\n",
      "[CV 1/3; 37/40] END ............max_depth=8, n_estimators=11; total time=   2.3s\n",
      "[CV 2/3; 37/40] START max_depth=8, n_estimators=11..............................\n",
      "[CV 2/3; 37/40] END ............max_depth=8, n_estimators=11; total time=   2.3s\n",
      "[CV 3/3; 37/40] START max_depth=8, n_estimators=11..............................\n",
      "[CV 3/3; 37/40] END ............max_depth=8, n_estimators=11; total time=   2.3s\n",
      "[CV 1/3; 38/40] START max_depth=8, n_estimators=21..............................\n",
      "[CV 1/3; 38/40] END ............max_depth=8, n_estimators=21; total time=   4.3s\n",
      "[CV 2/3; 38/40] START max_depth=8, n_estimators=21..............................\n",
      "[CV 2/3; 38/40] END ............max_depth=8, n_estimators=21; total time=   4.2s\n",
      "[CV 3/3; 38/40] START max_depth=8, n_estimators=21..............................\n",
      "[CV 3/3; 38/40] END ............max_depth=8, n_estimators=21; total time=   4.3s\n",
      "[CV 1/3; 39/40] START max_depth=8, n_estimators=31..............................\n",
      "[CV 1/3; 39/40] END ............max_depth=8, n_estimators=31; total time=   6.3s\n",
      "[CV 2/3; 39/40] START max_depth=8, n_estimators=31..............................\n",
      "[CV 2/3; 39/40] END ............max_depth=8, n_estimators=31; total time=   6.3s\n",
      "[CV 3/3; 39/40] START max_depth=8, n_estimators=31..............................\n",
      "[CV 3/3; 39/40] END ............max_depth=8, n_estimators=31; total time=   6.5s\n",
      "[CV 1/3; 40/40] START max_depth=8, n_estimators=41..............................\n",
      "[CV 1/3; 40/40] END ............max_depth=8, n_estimators=41; total time=   8.4s\n",
      "[CV 2/3; 40/40] START max_depth=8, n_estimators=41..............................\n",
      "[CV 2/3; 40/40] END ............max_depth=8, n_estimators=41; total time=   8.4s\n",
      "[CV 3/3; 40/40] START max_depth=8, n_estimators=41..............................\n",
      "[CV 3/3; 40/40] END ............max_depth=8, n_estimators=41; total time=   8.6s\n",
      "{'max_depth': 2, 'n_estimators': 41}\n",
      "{'max_depth': 2, 'n_estimators': 41}\n"
     ]
    }
   ],
   "source": [
    "# Модель случайного леса для smape\n",
    "forest = RandomForestRegressor(random_state=STATE)\n",
    "param_grid={'n_estimators':range(1, 50, 10), 'max_depth':range(1,9)}\n",
    "grid_forest = GridSearchCV(forest, param_grid, verbose=10, cv=3, n_jobs=-1,\n",
    "                          scoring=score_smape)\n",
    "grid_forest_rougher = grid_forest.fit(features_train_df, target_train_df_rougher)\n",
    "grid_forest_final = grid_forest.fit(features_train_df, target_train_df_final)\n",
    "print(grid_forest_rougher.best_params_)\n",
    "print(grid_forest_final.best_params_)"
   ]
  },
  {
   "cell_type": "code",
   "execution_count": 56,
   "metadata": {},
   "outputs": [
    {
     "name": "stdout",
     "output_type": "stream",
     "text": [
      "Fitting 3 folds for each of 1 candidates, totalling 3 fits\n",
      "[CV 1/3; 1/1] START max_depth=2, n_estimators=41................................\n",
      "[CV 1/3; 1/1] END ..............max_depth=2, n_estimators=41; total time=   2.5s\n",
      "[CV 2/3; 1/1] START max_depth=2, n_estimators=41................................\n",
      "[CV 2/3; 1/1] END ..............max_depth=2, n_estimators=41; total time=   2.4s\n",
      "[CV 3/3; 1/1] START max_depth=2, n_estimators=41................................\n",
      "[CV 3/3; 1/1] END ..............max_depth=2, n_estimators=41; total time=   2.5s\n",
      "-12.508966508964308\n"
     ]
    }
   ],
   "source": [
    "param_grid={'n_estimators':[41], 'max_depth':[2]}\n",
    "grid_forest = GridSearchCV(forest, param_grid, verbose=10, cv=3, n_jobs=-1,\n",
    "                          scoring=score_smape)\n",
    "grid_forest_rougher = grid_forest.fit(features_train_df, target_train_df_rougher)\n",
    "print(grid_forest_rougher.best_score_)"
   ]
  },
  {
   "cell_type": "code",
   "execution_count": 57,
   "metadata": {},
   "outputs": [
    {
     "name": "stdout",
     "output_type": "stream",
     "text": [
      "Fitting 3 folds for each of 1 candidates, totalling 3 fits\n",
      "[CV 1/3; 1/1] START max_depth=2, n_estimators=41................................\n",
      "[CV 1/3; 1/1] END ..............max_depth=2, n_estimators=41; total time=   2.5s\n",
      "[CV 2/3; 1/1] START max_depth=2, n_estimators=41................................\n",
      "[CV 2/3; 1/1] END ..............max_depth=2, n_estimators=41; total time=   2.5s\n",
      "[CV 3/3; 1/1] START max_depth=2, n_estimators=41................................\n",
      "[CV 3/3; 1/1] END ..............max_depth=2, n_estimators=41; total time=   2.5s\n",
      "-10.80139837932292\n"
     ]
    }
   ],
   "source": [
    "param_grid={'n_estimators':[41], 'max_depth':[2]}\n",
    "grid_forest = GridSearchCV(forest, param_grid, verbose=10, cv=3, n_jobs=-1,\n",
    "                          scoring=score_smape)\n",
    "grid_forest_rougher = grid_forest.fit(features_train_df, target_train_df_final)\n",
    "print(grid_forest_final.best_score_)"
   ]
  },
  {
   "cell_type": "code",
   "execution_count": 58,
   "metadata": {},
   "outputs": [],
   "source": [
    "scores_rougher = -1*grid_forest_rougher.best_score_\n",
    "score_final = -1*grid_forest_final.best_score_"
   ]
  },
  {
   "cell_type": "code",
   "execution_count": 59,
   "metadata": {},
   "outputs": [
    {
     "data": {
      "text/plain": [
       "10.80139837932292"
      ]
     },
     "execution_count": 59,
     "metadata": {},
     "output_type": "execute_result"
    }
   ],
   "source": [
    "smape_forest = final_smape(scores_rougher, score_final)\n",
    "smape_forest"
   ]
  },
  {
   "cell_type": "code",
   "execution_count": 61,
   "metadata": {},
   "outputs": [
    {
     "name": "stdout",
     "output_type": "stream",
     "text": [
      "[CV] START .....................................................................\n"
     ]
    },
    {
     "name": "stderr",
     "output_type": "stream",
     "text": [
      "[Parallel(n_jobs=-1)]: Using backend SequentialBackend with 1 concurrent workers.\n"
     ]
    },
    {
     "name": "stdout",
     "output_type": "stream",
     "text": [
      "[CV] END .............................. score: (test=-10.463) total time=   0.3s\n",
      "[CV] START .....................................................................\n"
     ]
    },
    {
     "name": "stderr",
     "output_type": "stream",
     "text": [
      "[Parallel(n_jobs=-1)]: Done   1 out of   1 | elapsed:    0.3s remaining:    0.0s\n"
     ]
    },
    {
     "name": "stdout",
     "output_type": "stream",
     "text": [
      "[CV] END ............................... score: (test=-9.670) total time=   0.3s\n",
      "[CV] START .....................................................................\n"
     ]
    },
    {
     "name": "stderr",
     "output_type": "stream",
     "text": [
      "[Parallel(n_jobs=-1)]: Done   2 out of   2 | elapsed:    0.6s remaining:    0.0s\n"
     ]
    },
    {
     "name": "stdout",
     "output_type": "stream",
     "text": [
      "[CV] END .............................. score: (test=-10.292) total time=   0.2s\n",
      "[CV] START .....................................................................\n",
      "[CV] END ............................... score: (test=-8.730) total time=   0.3s\n"
     ]
    },
    {
     "name": "stderr",
     "output_type": "stream",
     "text": [
      "[Parallel(n_jobs=-1)]: Done   3 out of   3 | elapsed:    0.8s remaining:    0.0s\n",
      "[Parallel(n_jobs=-1)]: Done   3 out of   3 | elapsed:    0.8s finished\n",
      "[Parallel(n_jobs=-1)]: Using backend SequentialBackend with 1 concurrent workers.\n"
     ]
    },
    {
     "name": "stdout",
     "output_type": "stream",
     "text": [
      "[CV] START .....................................................................\n"
     ]
    },
    {
     "name": "stderr",
     "output_type": "stream",
     "text": [
      "[Parallel(n_jobs=-1)]: Done   1 out of   1 | elapsed:    0.3s remaining:    0.0s\n"
     ]
    },
    {
     "name": "stdout",
     "output_type": "stream",
     "text": [
      "[CV] END ............................... score: (test=-9.308) total time=   0.4s\n",
      "[CV] START .....................................................................\n"
     ]
    },
    {
     "name": "stderr",
     "output_type": "stream",
     "text": [
      "[Parallel(n_jobs=-1)]: Done   2 out of   2 | elapsed:    0.7s remaining:    0.0s\n"
     ]
    },
    {
     "name": "stdout",
     "output_type": "stream",
     "text": [
      "[CV] END ............................... score: (test=-9.137) total time=   0.2s\n",
      "10.141644140395952\n",
      "9.058298432079097\n"
     ]
    },
    {
     "name": "stderr",
     "output_type": "stream",
     "text": [
      "[Parallel(n_jobs=-1)]: Done   3 out of   3 | elapsed:    0.9s remaining:    0.0s\n",
      "[Parallel(n_jobs=-1)]: Done   3 out of   3 | elapsed:    0.9s finished\n"
     ]
    }
   ],
   "source": [
    "# Модель линейной регрессии для smape\n",
    "lin_regr = LinearRegression()\n",
    "score_lin_rougher = cross_val_score(lin_regr,  features_train_df, target_train_df_rougher, verbose=10, \n",
    "                                   cv=KFold(3, shuffle=True, random_state=STATE),\n",
    "                                   n_jobs=-1, scoring=score_smape)\n",
    "score_lin_final = cross_val_score(lin_regr,  features_train_df, target_train_df_final, verbose=10,\n",
    "                                 cv=KFold(3, shuffle=True, random_state=STATE),\n",
    "                                   n_jobs=-1, scoring=score_smape)\n",
    "score_lin_rougher = -1*score_lin_rougher.mean()\n",
    "score_lin_final = -1*score_lin_final.mean()\n",
    "print(score_lin_rougher)\n",
    "print(score_lin_final)"
   ]
  },
  {
   "cell_type": "code",
   "execution_count": 62,
   "metadata": {},
   "outputs": [
    {
     "data": {
      "text/plain": [
       "9.32913485915831"
      ]
     },
     "execution_count": 62,
     "metadata": {},
     "output_type": "execute_result"
    }
   ],
   "source": [
    "smape_lin = final_smape(score_lin_rougher, score_lin_final)\n",
    "smape_lin"
   ]
  },
  {
   "cell_type": "code",
   "execution_count": 66,
   "metadata": {},
   "outputs": [],
   "source": [
    "# Проверка модели на тестовой выборке\n",
    "lin_test = LinearRegression()\n",
    "lin_test.fit(features_train_df, target_train_df_rougher)\n",
    "lin_test_predict = lin_test.predict(features_test_df)\n",
    "smape_test_rougher = smape(lin_test_predict, target_test_df_rougher)"
   ]
  },
  {
   "cell_type": "code",
   "execution_count": 67,
   "metadata": {},
   "outputs": [],
   "source": [
    "lin_test = LinearRegression()\n",
    "lin_test.fit(features_train_df, target_train_df_final)\n",
    "lin_test_predict = lin_test.predict(features_test_df)\n",
    "smape_test_final = smape(lin_test_predict, target_test_df_final)"
   ]
  },
  {
   "cell_type": "code",
   "execution_count": 68,
   "metadata": {},
   "outputs": [
    {
     "data": {
      "text/plain": [
       "9.972775555351229"
      ]
     },
     "execution_count": 68,
     "metadata": {},
     "output_type": "execute_result"
    }
   ],
   "source": [
    "smape_lin = final_smape(smape_test_rougher, smape_test_final)\n",
    "smape_lin"
   ]
  },
  {
   "cell_type": "markdown",
   "metadata": {},
   "source": [
    "На тестовой выборке smape получился повыше, но не намного."
   ]
  },
  {
   "cell_type": "code",
   "execution_count": 69,
   "metadata": {},
   "outputs": [],
   "source": [
    "# Проверим модель на адекватность\n",
    "def dummy(strategy, train, target, features_test, target_test):\n",
    "    dummy_reg = DummyRegressor(strategy=strategy)\n",
    "    dummy_reg.fit(train, target)\n",
    "    dummy_reg.predict(features_test)\n",
    "    return smape(dummy_reg.predict(features_test), target_test)"
   ]
  },
  {
   "cell_type": "code",
   "execution_count": 70,
   "metadata": {},
   "outputs": [],
   "source": [
    "dummy_rougher = dummy('mean', features_train_df, target_train_df_rougher, \n",
    "                      features_test_df, target_test_df_rougher)\n",
    "dummy_final = dummy('mean', features_train_df, target_train_df_final, \n",
    "                      features_test_df, target_test_df_final)"
   ]
  },
  {
   "cell_type": "code",
   "execution_count": 71,
   "metadata": {},
   "outputs": [
    {
     "data": {
      "text/plain": [
       "10.289630376021035"
      ]
     },
     "execution_count": 71,
     "metadata": {},
     "output_type": "execute_result"
    }
   ],
   "source": [
    "smape_dummy = final_smape(dummy_rougher, dummy_final)\n",
    "smape_dummy"
   ]
  },
  {
   "cell_type": "markdown",
   "metadata": {},
   "source": [
    "Получается, что наша модель получилась ощутимо лучше, чем константная модель."
   ]
  },
  {
   "cell_type": "markdown",
   "metadata": {},
   "source": [
    "## Выводы\n",
    "1. Открыла и изучила датасеты. Полный датасет full был разбит на 2 датасета - train и test. \n",
    "2. Заменила все пропуски в датасетах train и test методом ffil, который работает на основании заполненных ранее данных. \n",
    "3. Добавила в датасеты train и test целевые признаки из full\n",
    "4. Также посмотрела на корреляцию, увидела, что между некоторыми данными есть довольно сильная корреляция, но решила ничего не делать с этим, так как далее в проекте использую линейные методы для обучения моделей. К тому же, непонятно, что будет если удалить большое количество данных из-за корреляции, возможно это будет критично. \n",
    "5. Далее перешла к анализу данных. Посмотрела на концентрации продуктов на разных этапах обработки. Самый главный продукт - золото. Его концентрация растет от этапа к этапу. \n",
    "6. Далее посмотрела распределение размеров гранул сырья для train и test. Различий не увидела.\n",
    "7. Также посмотрела на суммарную концентрацию веществ на различных этапах обработки. На этапе сырья концентрация веществ ние, чем на промежуточном и финальном этапах. \n",
    "8. Написала функцию для вычисления основной метрики качества по этому проекту - SMAPE. Обучила разные модели. Лучшие результаты оказались у модели линейной регрессии, чуть более худшие результаты показал случайный лес, далее идет дерево решений. Проверила работу модели линейной регрессии на тестовой выборке  - всё вполне адекватно, и попыталась посмотреть на адекватность на дамми-регрессоре. Моя модель оказалась лучше константной модели. "
   ]
  }
 ],
 "metadata": {
  "ExecuteTimeLog": [
   {
    "duration": 1239,
    "start_time": "2022-12-21T20:18:00.923Z"
   },
   {
    "duration": 135,
    "start_time": "2022-12-21T20:20:17.008Z"
   },
   {
    "duration": 48,
    "start_time": "2022-12-21T20:20:24.098Z"
   },
   {
    "duration": 3101,
    "start_time": "2022-12-21T20:20:43.360Z"
   },
   {
    "duration": 43,
    "start_time": "2022-12-21T20:21:09.531Z"
   },
   {
    "duration": 33,
    "start_time": "2022-12-21T20:21:55.273Z"
   },
   {
    "duration": 40,
    "start_time": "2022-12-21T20:22:20.983Z"
   },
   {
    "duration": 1450,
    "start_time": "2022-12-23T18:44:26.216Z"
   },
   {
    "duration": 3307,
    "start_time": "2022-12-23T18:44:27.668Z"
   },
   {
    "duration": 57,
    "start_time": "2022-12-23T18:44:30.977Z"
   },
   {
    "duration": 53,
    "start_time": "2022-12-23T18:44:31.036Z"
   },
   {
    "duration": 43,
    "start_time": "2022-12-23T18:44:31.091Z"
   },
   {
    "duration": 116,
    "start_time": "2022-12-23T18:44:47.244Z"
   },
   {
    "duration": 248,
    "start_time": "2022-12-23T18:44:57.069Z"
   },
   {
    "duration": 50,
    "start_time": "2022-12-23T22:14:16.574Z"
   },
   {
    "duration": 11,
    "start_time": "2022-12-23T22:14:23.163Z"
   },
   {
    "duration": 264,
    "start_time": "2022-12-23T22:34:47.746Z"
   },
   {
    "duration": 3,
    "start_time": "2022-12-23T22:35:01.104Z"
   },
   {
    "duration": 3,
    "start_time": "2022-12-23T22:37:39.707Z"
   },
   {
    "duration": 2,
    "start_time": "2022-12-23T22:38:35.881Z"
   },
   {
    "duration": 5,
    "start_time": "2022-12-23T22:50:00.897Z"
   },
   {
    "duration": 3,
    "start_time": "2022-12-23T22:50:32.974Z"
   },
   {
    "duration": 7,
    "start_time": "2022-12-23T23:03:32.275Z"
   },
   {
    "duration": 19,
    "start_time": "2022-12-23T23:03:58.492Z"
   },
   {
    "duration": 10,
    "start_time": "2022-12-23T23:06:13.328Z"
   },
   {
    "duration": 10,
    "start_time": "2022-12-23T23:06:39.020Z"
   },
   {
    "duration": 7,
    "start_time": "2022-12-23T23:07:01.621Z"
   },
   {
    "duration": 8,
    "start_time": "2022-12-23T23:07:30.728Z"
   },
   {
    "duration": 11,
    "start_time": "2022-12-23T23:07:47.308Z"
   },
   {
    "duration": 52,
    "start_time": "2022-12-23T23:36:49.576Z"
   },
   {
    "duration": 46,
    "start_time": "2022-12-23T23:37:09.356Z"
   },
   {
    "duration": 62,
    "start_time": "2022-12-23T23:38:34.994Z"
   },
   {
    "duration": 49,
    "start_time": "2022-12-23T23:38:42.940Z"
   },
   {
    "duration": 58,
    "start_time": "2022-12-23T23:38:51.218Z"
   },
   {
    "duration": 55,
    "start_time": "2022-12-23T23:39:32.339Z"
   },
   {
    "duration": 58,
    "start_time": "2022-12-23T23:40:19.734Z"
   },
   {
    "duration": 41,
    "start_time": "2022-12-23T23:40:37.095Z"
   },
   {
    "duration": 17,
    "start_time": "2022-12-23T23:41:06.764Z"
   },
   {
    "duration": 18,
    "start_time": "2022-12-23T23:41:15.379Z"
   },
   {
    "duration": 16,
    "start_time": "2022-12-23T23:41:20.804Z"
   },
   {
    "duration": 11,
    "start_time": "2022-12-23T23:41:46.021Z"
   },
   {
    "duration": 7,
    "start_time": "2022-12-23T23:43:26.647Z"
   },
   {
    "duration": 1770,
    "start_time": "2022-12-24T09:17:01.302Z"
   },
   {
    "duration": 6,
    "start_time": "2022-12-24T09:17:03.074Z"
   },
   {
    "duration": 3356,
    "start_time": "2022-12-24T09:17:03.082Z"
   },
   {
    "duration": 47,
    "start_time": "2022-12-24T09:17:06.441Z"
   },
   {
    "duration": 35,
    "start_time": "2022-12-24T09:17:06.491Z"
   },
   {
    "duration": 63,
    "start_time": "2022-12-24T09:17:06.529Z"
   },
   {
    "duration": 4,
    "start_time": "2022-12-24T09:17:06.594Z"
   },
   {
    "duration": 28,
    "start_time": "2022-12-24T09:17:06.600Z"
   },
   {
    "duration": 19,
    "start_time": "2022-12-24T09:17:06.630Z"
   },
   {
    "duration": 32,
    "start_time": "2022-12-24T09:17:06.654Z"
   },
   {
    "duration": 18,
    "start_time": "2022-12-24T09:17:06.689Z"
   },
   {
    "duration": 24,
    "start_time": "2022-12-24T09:17:06.709Z"
   },
   {
    "duration": 9,
    "start_time": "2022-12-24T09:17:06.736Z"
   },
   {
    "duration": 40,
    "start_time": "2022-12-24T09:17:06.747Z"
   },
   {
    "duration": 287,
    "start_time": "2022-12-24T09:47:42.373Z"
   },
   {
    "duration": 61,
    "start_time": "2022-12-24T09:49:11.176Z"
   },
   {
    "duration": 10,
    "start_time": "2022-12-24T12:16:39.730Z"
   },
   {
    "duration": 131,
    "start_time": "2022-12-24T12:31:25.120Z"
   },
   {
    "duration": 936,
    "start_time": "2022-12-24T12:31:32.709Z"
   },
   {
    "duration": 6,
    "start_time": "2022-12-24T12:33:17.113Z"
   },
   {
    "duration": 33,
    "start_time": "2022-12-24T12:33:17.121Z"
   },
   {
    "duration": 891,
    "start_time": "2022-12-24T12:33:17.156Z"
   },
   {
    "duration": 64,
    "start_time": "2022-12-24T12:33:18.048Z"
   },
   {
    "duration": 31,
    "start_time": "2022-12-24T12:33:18.117Z"
   },
   {
    "duration": 56,
    "start_time": "2022-12-24T12:33:18.150Z"
   },
   {
    "duration": 3,
    "start_time": "2022-12-24T12:33:18.207Z"
   },
   {
    "duration": 31,
    "start_time": "2022-12-24T12:33:18.218Z"
   },
   {
    "duration": 69,
    "start_time": "2022-12-24T12:33:18.251Z"
   },
   {
    "duration": 43,
    "start_time": "2022-12-24T12:33:18.323Z"
   },
   {
    "duration": 56,
    "start_time": "2022-12-24T12:33:18.369Z"
   },
   {
    "duration": 33,
    "start_time": "2022-12-24T12:33:18.427Z"
   },
   {
    "duration": 9,
    "start_time": "2022-12-24T12:33:18.463Z"
   },
   {
    "duration": 362,
    "start_time": "2022-12-24T12:33:18.474Z"
   },
   {
    "duration": 63,
    "start_time": "2022-12-24T12:33:18.838Z"
   },
   {
    "duration": 11,
    "start_time": "2022-12-24T12:33:18.902Z"
   },
   {
    "duration": 949,
    "start_time": "2022-12-24T12:33:18.915Z"
   },
   {
    "duration": 5,
    "start_time": "2022-12-24T12:33:35.004Z"
   },
   {
    "duration": 71,
    "start_time": "2022-12-24T12:35:04.774Z"
   },
   {
    "duration": 51,
    "start_time": "2022-12-24T12:35:20.822Z"
   },
   {
    "duration": 8,
    "start_time": "2022-12-24T12:35:37.043Z"
   },
   {
    "duration": 6,
    "start_time": "2022-12-24T12:35:42.563Z"
   },
   {
    "duration": 11,
    "start_time": "2022-12-24T13:54:02.929Z"
   },
   {
    "duration": 11,
    "start_time": "2022-12-24T13:55:46.101Z"
   },
   {
    "duration": 56,
    "start_time": "2022-12-24T13:59:43.584Z"
   },
   {
    "duration": 25,
    "start_time": "2022-12-24T14:01:28.948Z"
   },
   {
    "duration": 12,
    "start_time": "2022-12-24T14:02:28.567Z"
   },
   {
    "duration": 5,
    "start_time": "2022-12-24T14:03:50.489Z"
   },
   {
    "duration": 6,
    "start_time": "2022-12-24T14:04:04.147Z"
   },
   {
    "duration": 86,
    "start_time": "2022-12-24T14:16:02.351Z"
   },
   {
    "duration": 11,
    "start_time": "2022-12-24T14:16:38.116Z"
   },
   {
    "duration": 5,
    "start_time": "2022-12-24T14:16:47.709Z"
   },
   {
    "duration": 4,
    "start_time": "2022-12-24T14:18:18.861Z"
   },
   {
    "duration": 746,
    "start_time": "2022-12-24T14:21:26.765Z"
   },
   {
    "duration": 20,
    "start_time": "2022-12-24T14:22:05.149Z"
   },
   {
    "duration": 14,
    "start_time": "2022-12-24T14:22:20.199Z"
   },
   {
    "duration": 30,
    "start_time": "2022-12-24T14:22:35.912Z"
   },
   {
    "duration": 4,
    "start_time": "2022-12-24T14:44:41.751Z"
   },
   {
    "duration": 4,
    "start_time": "2022-12-24T14:45:18.673Z"
   },
   {
    "duration": 3,
    "start_time": "2022-12-24T14:45:21.494Z"
   },
   {
    "duration": 655,
    "start_time": "2022-12-24T14:51:12.051Z"
   },
   {
    "duration": 49,
    "start_time": "2022-12-24T14:54:42.894Z"
   },
   {
    "duration": 445,
    "start_time": "2022-12-24T14:54:53.932Z"
   },
   {
    "duration": 339,
    "start_time": "2022-12-24T14:56:09.592Z"
   },
   {
    "duration": 383,
    "start_time": "2022-12-24T14:56:30.830Z"
   },
   {
    "duration": 409,
    "start_time": "2022-12-24T14:56:48.237Z"
   },
   {
    "duration": 474,
    "start_time": "2022-12-24T14:56:56.624Z"
   },
   {
    "duration": 387,
    "start_time": "2022-12-24T15:02:26.762Z"
   },
   {
    "duration": 506,
    "start_time": "2022-12-24T15:03:16.688Z"
   },
   {
    "duration": 351,
    "start_time": "2022-12-24T15:03:29.356Z"
   },
   {
    "duration": 357,
    "start_time": "2022-12-24T15:03:37.061Z"
   },
   {
    "duration": 6,
    "start_time": "2022-12-24T16:00:42.227Z"
   },
   {
    "duration": 7,
    "start_time": "2022-12-24T16:01:04.750Z"
   },
   {
    "duration": 20,
    "start_time": "2022-12-24T17:30:40.838Z"
   },
   {
    "duration": 594,
    "start_time": "2022-12-24T17:30:56.107Z"
   },
   {
    "duration": 614,
    "start_time": "2022-12-24T17:32:07.756Z"
   },
   {
    "duration": 12,
    "start_time": "2022-12-24T17:33:14.654Z"
   },
   {
    "duration": 542,
    "start_time": "2022-12-24T17:37:29.085Z"
   },
   {
    "duration": 859,
    "start_time": "2022-12-24T17:39:14.293Z"
   },
   {
    "duration": 13,
    "start_time": "2022-12-24T17:41:34.363Z"
   },
   {
    "duration": 14,
    "start_time": "2022-12-24T17:43:18.446Z"
   },
   {
    "duration": 70,
    "start_time": "2022-12-24T17:45:16.348Z"
   },
   {
    "duration": 72,
    "start_time": "2022-12-24T17:45:32.953Z"
   },
   {
    "duration": 4,
    "start_time": "2022-12-24T17:45:42.850Z"
   },
   {
    "duration": 13,
    "start_time": "2022-12-24T17:46:16.014Z"
   },
   {
    "duration": 12,
    "start_time": "2022-12-24T17:47:04.640Z"
   },
   {
    "duration": 672,
    "start_time": "2022-12-24T17:47:19.295Z"
   },
   {
    "duration": 713,
    "start_time": "2022-12-24T17:48:16.056Z"
   },
   {
    "duration": 14,
    "start_time": "2022-12-24T17:53:25.832Z"
   },
   {
    "duration": 748,
    "start_time": "2022-12-24T17:53:35.495Z"
   },
   {
    "duration": 579,
    "start_time": "2022-12-24T17:53:56.616Z"
   },
   {
    "duration": 396,
    "start_time": "2022-12-24T17:54:06.128Z"
   },
   {
    "duration": 681,
    "start_time": "2022-12-24T17:56:08.663Z"
   },
   {
    "duration": 592,
    "start_time": "2022-12-24T17:56:22.674Z"
   },
   {
    "duration": 591,
    "start_time": "2022-12-24T17:56:42.615Z"
   },
   {
    "duration": 748,
    "start_time": "2022-12-24T17:59:46.621Z"
   },
   {
    "duration": 397,
    "start_time": "2022-12-24T18:00:17.629Z"
   },
   {
    "duration": 646,
    "start_time": "2022-12-24T18:00:25.699Z"
   },
   {
    "duration": 435,
    "start_time": "2022-12-24T18:02:23.978Z"
   },
   {
    "duration": 346,
    "start_time": "2022-12-24T18:02:38.399Z"
   },
   {
    "duration": 686,
    "start_time": "2022-12-24T18:02:53.319Z"
   },
   {
    "duration": 585,
    "start_time": "2022-12-24T18:03:04.938Z"
   },
   {
    "duration": 18,
    "start_time": "2022-12-24T18:04:49.204Z"
   },
   {
    "duration": 645,
    "start_time": "2022-12-24T18:05:06.325Z"
   },
   {
    "duration": 576,
    "start_time": "2022-12-24T18:05:40.357Z"
   },
   {
    "duration": 598,
    "start_time": "2022-12-24T18:05:51.238Z"
   },
   {
    "duration": 50,
    "start_time": "2022-12-24T18:06:03.098Z"
   },
   {
    "duration": 352,
    "start_time": "2022-12-24T18:06:48.599Z"
   },
   {
    "duration": 389,
    "start_time": "2022-12-24T18:08:37.618Z"
   },
   {
    "duration": 440,
    "start_time": "2022-12-24T18:09:07.231Z"
   },
   {
    "duration": 565,
    "start_time": "2022-12-24T18:09:14.188Z"
   },
   {
    "duration": 416,
    "start_time": "2022-12-24T18:09:23.510Z"
   },
   {
    "duration": 381,
    "start_time": "2022-12-24T18:09:31.133Z"
   },
   {
    "duration": 360,
    "start_time": "2022-12-24T18:09:39.233Z"
   },
   {
    "duration": 366,
    "start_time": "2022-12-24T18:09:49.538Z"
   },
   {
    "duration": 423,
    "start_time": "2022-12-24T18:09:58.326Z"
   },
   {
    "duration": 419,
    "start_time": "2022-12-24T18:10:43.534Z"
   },
   {
    "duration": 417,
    "start_time": "2022-12-24T18:10:57.104Z"
   },
   {
    "duration": 404,
    "start_time": "2022-12-24T18:11:08.167Z"
   },
   {
    "duration": 397,
    "start_time": "2022-12-24T18:11:20.776Z"
   },
   {
    "duration": 10,
    "start_time": "2022-12-24T18:33:33.616Z"
   },
   {
    "duration": 9,
    "start_time": "2022-12-24T18:33:38.591Z"
   },
   {
    "duration": 15,
    "start_time": "2022-12-24T18:40:17.894Z"
   },
   {
    "duration": 415,
    "start_time": "2022-12-24T18:41:38.877Z"
   },
   {
    "duration": 17,
    "start_time": "2022-12-24T18:42:51.212Z"
   },
   {
    "duration": 16,
    "start_time": "2022-12-24T18:43:07.769Z"
   },
   {
    "duration": 1151,
    "start_time": "2022-12-24T18:43:26.725Z"
   },
   {
    "duration": 494,
    "start_time": "2022-12-24T18:43:46.167Z"
   },
   {
    "duration": 17,
    "start_time": "2022-12-24T18:45:30.238Z"
   },
   {
    "duration": 712,
    "start_time": "2022-12-24T18:45:42.459Z"
   },
   {
    "duration": 156,
    "start_time": "2022-12-24T18:46:03.177Z"
   },
   {
    "duration": 194,
    "start_time": "2022-12-24T18:46:34.975Z"
   },
   {
    "duration": 510,
    "start_time": "2022-12-24T18:46:39.581Z"
   },
   {
    "duration": 1326,
    "start_time": "2022-12-24T18:46:56.549Z"
   },
   {
    "duration": 1644,
    "start_time": "2022-12-24T18:47:44.317Z"
   },
   {
    "duration": 1318,
    "start_time": "2022-12-24T18:48:11.671Z"
   },
   {
    "duration": 1532,
    "start_time": "2022-12-24T18:48:24.859Z"
   },
   {
    "duration": 4,
    "start_time": "2022-12-24T19:13:13.171Z"
   },
   {
    "duration": 4,
    "start_time": "2022-12-24T19:15:36.597Z"
   },
   {
    "duration": 19,
    "start_time": "2022-12-24T19:33:02.705Z"
   },
   {
    "duration": 15,
    "start_time": "2022-12-24T19:33:30.345Z"
   },
   {
    "duration": 28,
    "start_time": "2022-12-24T19:34:35.168Z"
   },
   {
    "duration": 30,
    "start_time": "2022-12-24T19:34:41.136Z"
   },
   {
    "duration": 15,
    "start_time": "2022-12-24T19:34:54.568Z"
   },
   {
    "duration": 30,
    "start_time": "2022-12-24T19:40:19.104Z"
   },
   {
    "duration": 26,
    "start_time": "2022-12-24T19:40:29.060Z"
   },
   {
    "duration": 28,
    "start_time": "2022-12-24T19:42:05.445Z"
   },
   {
    "duration": 15,
    "start_time": "2022-12-24T19:42:10.661Z"
   },
   {
    "duration": 29,
    "start_time": "2022-12-24T19:42:28.989Z"
   },
   {
    "duration": 15,
    "start_time": "2022-12-24T19:42:34.691Z"
   },
   {
    "duration": 16,
    "start_time": "2022-12-24T19:43:05.506Z"
   },
   {
    "duration": 34,
    "start_time": "2022-12-24T19:43:34.894Z"
   },
   {
    "duration": 21,
    "start_time": "2022-12-24T19:43:40.676Z"
   },
   {
    "duration": 16,
    "start_time": "2022-12-24T19:43:50.413Z"
   },
   {
    "duration": 25,
    "start_time": "2022-12-24T19:44:08.942Z"
   },
   {
    "duration": 15,
    "start_time": "2022-12-24T19:44:12.903Z"
   },
   {
    "duration": 17,
    "start_time": "2022-12-24T19:44:24.893Z"
   },
   {
    "duration": 9,
    "start_time": "2022-12-24T19:44:49.192Z"
   },
   {
    "duration": 15,
    "start_time": "2022-12-24T19:45:21.732Z"
   },
   {
    "duration": 30,
    "start_time": "2022-12-24T19:45:49.296Z"
   },
   {
    "duration": 3,
    "start_time": "2022-12-24T19:45:54.200Z"
   },
   {
    "duration": 25,
    "start_time": "2022-12-24T19:45:59.374Z"
   },
   {
    "duration": 15,
    "start_time": "2022-12-24T19:46:09.511Z"
   },
   {
    "duration": 15,
    "start_time": "2022-12-24T19:51:43.553Z"
   },
   {
    "duration": 5,
    "start_time": "2022-12-24T19:53:27.523Z"
   },
   {
    "duration": 6,
    "start_time": "2022-12-24T19:53:38.978Z"
   },
   {
    "duration": 3,
    "start_time": "2022-12-24T19:56:55.923Z"
   },
   {
    "duration": 5,
    "start_time": "2022-12-24T20:34:34.508Z"
   },
   {
    "duration": 7,
    "start_time": "2022-12-24T20:38:10.293Z"
   },
   {
    "duration": 3,
    "start_time": "2022-12-24T20:50:54.152Z"
   },
   {
    "duration": 4,
    "start_time": "2022-12-24T20:52:35.697Z"
   },
   {
    "duration": 50,
    "start_time": "2022-12-24T21:00:39.285Z"
   },
   {
    "duration": 52,
    "start_time": "2022-12-24T21:00:50.372Z"
   },
   {
    "duration": 48,
    "start_time": "2022-12-24T21:01:01.508Z"
   },
   {
    "duration": 12,
    "start_time": "2022-12-24T21:04:39.934Z"
   },
   {
    "duration": 5,
    "start_time": "2022-12-24T21:05:01.716Z"
   },
   {
    "duration": 4,
    "start_time": "2022-12-24T21:12:04.353Z"
   },
   {
    "duration": 38712,
    "start_time": "2022-12-24T21:15:07.451Z"
   },
   {
    "duration": 13,
    "start_time": "2022-12-24T21:18:55.458Z"
   },
   {
    "duration": 10,
    "start_time": "2022-12-24T21:25:41.142Z"
   },
   {
    "duration": 10,
    "start_time": "2022-12-24T21:25:58.930Z"
   },
   {
    "duration": 38557,
    "start_time": "2022-12-24T21:28:16.032Z"
   },
   {
    "duration": 14,
    "start_time": "2022-12-24T21:29:06.321Z"
   },
   {
    "duration": 12,
    "start_time": "2022-12-24T21:35:56.871Z"
   },
   {
    "duration": 3,
    "start_time": "2022-12-24T21:37:27.597Z"
   },
   {
    "duration": 14,
    "start_time": "2022-12-24T21:37:31.629Z"
   },
   {
    "duration": 3,
    "start_time": "2022-12-24T21:38:04.089Z"
   },
   {
    "duration": 3,
    "start_time": "2022-12-24T21:38:36.414Z"
   },
   {
    "duration": 15,
    "start_time": "2022-12-24T21:38:41.282Z"
   },
   {
    "duration": 3,
    "start_time": "2022-12-24T21:42:10.569Z"
   },
   {
    "duration": 38175,
    "start_time": "2022-12-24T21:42:21.837Z"
   },
   {
    "duration": 11,
    "start_time": "2022-12-24T21:43:07.843Z"
   },
   {
    "duration": 4,
    "start_time": "2022-12-24T21:43:21.665Z"
   },
   {
    "duration": 4,
    "start_time": "2022-12-24T21:44:47.867Z"
   },
   {
    "duration": 5,
    "start_time": "2022-12-24T21:49:50.492Z"
   },
   {
    "duration": 4,
    "start_time": "2022-12-24T21:59:22.292Z"
   },
   {
    "duration": 38875,
    "start_time": "2022-12-24T21:59:26.512Z"
   },
   {
    "duration": 4,
    "start_time": "2022-12-24T22:00:07.104Z"
   },
   {
    "duration": 13,
    "start_time": "2022-12-24T22:00:12.331Z"
   },
   {
    "duration": 4,
    "start_time": "2022-12-24T22:00:31.211Z"
   },
   {
    "duration": 4,
    "start_time": "2022-12-24T22:00:34.371Z"
   },
   {
    "duration": 4,
    "start_time": "2022-12-24T22:01:48.362Z"
   },
   {
    "duration": 15,
    "start_time": "2022-12-24T22:02:06.692Z"
   },
   {
    "duration": 4,
    "start_time": "2022-12-24T22:02:19.963Z"
   },
   {
    "duration": 3222,
    "start_time": "2022-12-24T22:02:26.458Z"
   },
   {
    "duration": 3204,
    "start_time": "2022-12-24T22:02:46.878Z"
   },
   {
    "duration": 6,
    "start_time": "2022-12-24T22:03:28.268Z"
   },
   {
    "duration": 4,
    "start_time": "2022-12-24T22:11:08.117Z"
   },
   {
    "duration": 4,
    "start_time": "2022-12-24T22:11:13.802Z"
   },
   {
    "duration": 3176825,
    "start_time": "2022-12-24T22:11:55.847Z"
   },
   {
    "duration": 4,
    "start_time": "2022-12-24T23:05:09.814Z"
   },
   {
    "duration": 2353521,
    "start_time": "2022-12-24T23:05:18.919Z"
   },
   {
    "duration": 5,
    "start_time": "2022-12-24T23:45:36.421Z"
   },
   {
    "duration": 40371,
    "start_time": "2022-12-24T23:52:51.680Z"
   },
   {
    "duration": 5,
    "start_time": "2022-12-24T23:53:48.474Z"
   },
   {
    "duration": 3,
    "start_time": "2022-12-24T23:59:57.085Z"
   },
   {
    "duration": 8,
    "start_time": "2022-12-25T00:04:43.093Z"
   },
   {
    "duration": 7,
    "start_time": "2022-12-25T00:06:05.163Z"
   },
   {
    "duration": 8,
    "start_time": "2022-12-26T02:30:56.759Z"
   },
   {
    "duration": 209,
    "start_time": "2022-12-26T02:31:03.757Z"
   },
   {
    "duration": 3,
    "start_time": "2022-12-26T02:32:43.937Z"
   },
   {
    "duration": 54,
    "start_time": "2022-12-26T02:32:45.346Z"
   },
   {
    "duration": 3,
    "start_time": "2022-12-26T02:32:56.239Z"
   },
   {
    "duration": 4,
    "start_time": "2022-12-26T02:32:57.450Z"
   },
   {
    "duration": 3,
    "start_time": "2022-12-26T02:35:06.897Z"
   },
   {
    "duration": 48,
    "start_time": "2022-12-26T02:35:18.811Z"
   },
   {
    "duration": 3,
    "start_time": "2022-12-26T02:35:29.716Z"
   },
   {
    "duration": 4,
    "start_time": "2022-12-26T02:35:30.908Z"
   },
   {
    "duration": 1591,
    "start_time": "2022-12-27T19:10:30.778Z"
   },
   {
    "duration": 2,
    "start_time": "2022-12-27T19:10:32.371Z"
   },
   {
    "duration": 2158,
    "start_time": "2022-12-27T19:10:32.375Z"
   },
   {
    "duration": 36,
    "start_time": "2022-12-27T19:10:34.535Z"
   },
   {
    "duration": 33,
    "start_time": "2022-12-27T19:10:34.572Z"
   },
   {
    "duration": 31,
    "start_time": "2022-12-27T19:10:34.607Z"
   },
   {
    "duration": 3,
    "start_time": "2022-12-27T19:10:34.640Z"
   },
   {
    "duration": 26,
    "start_time": "2022-12-27T19:10:34.645Z"
   },
   {
    "duration": 22,
    "start_time": "2022-12-27T19:10:34.673Z"
   },
   {
    "duration": 15,
    "start_time": "2022-12-27T19:10:34.698Z"
   },
   {
    "duration": 21,
    "start_time": "2022-12-27T19:10:34.714Z"
   },
   {
    "duration": 28,
    "start_time": "2022-12-27T19:10:34.737Z"
   },
   {
    "duration": 7,
    "start_time": "2022-12-27T19:10:34.767Z"
   },
   {
    "duration": 287,
    "start_time": "2022-12-27T19:10:34.775Z"
   },
   {
    "duration": 41,
    "start_time": "2022-12-27T19:10:35.064Z"
   },
   {
    "duration": 8,
    "start_time": "2022-12-27T19:10:35.107Z"
   },
   {
    "duration": 34,
    "start_time": "2022-12-27T19:10:35.117Z"
   },
   {
    "duration": 29,
    "start_time": "2022-12-27T19:10:35.153Z"
   },
   {
    "duration": 73,
    "start_time": "2022-12-27T19:10:35.184Z"
   },
   {
    "duration": 23,
    "start_time": "2022-12-27T19:10:35.259Z"
   },
   {
    "duration": 36,
    "start_time": "2022-12-27T19:10:35.283Z"
   },
   {
    "duration": 14,
    "start_time": "2022-12-27T19:10:35.320Z"
   },
   {
    "duration": 596,
    "start_time": "2022-12-27T19:10:35.335Z"
   },
   {
    "duration": 595,
    "start_time": "2022-12-27T19:10:35.932Z"
   },
   {
    "duration": 644,
    "start_time": "2022-12-27T19:10:36.528Z"
   },
   {
    "duration": 4,
    "start_time": "2022-12-27T19:10:37.173Z"
   },
   {
    "duration": 440,
    "start_time": "2022-12-27T19:10:37.179Z"
   },
   {
    "duration": 342,
    "start_time": "2022-12-27T19:10:37.623Z"
   },
   {
    "duration": 395,
    "start_time": "2022-12-27T19:10:37.966Z"
   },
   {
    "duration": 384,
    "start_time": "2022-12-27T19:10:38.362Z"
   },
   {
    "duration": 7,
    "start_time": "2022-12-27T19:10:38.749Z"
   },
   {
    "duration": 1189,
    "start_time": "2022-12-27T19:10:38.757Z"
   },
   {
    "duration": 3,
    "start_time": "2022-12-27T19:10:39.949Z"
   },
   {
    "duration": 35,
    "start_time": "2022-12-27T19:10:39.954Z"
   },
   {
    "duration": 41,
    "start_time": "2022-12-27T19:10:39.990Z"
   },
   {
    "duration": 38,
    "start_time": "2022-12-27T19:10:40.032Z"
   },
   {
    "duration": 163,
    "start_time": "2022-12-27T19:10:40.071Z"
   },
   {
    "duration": 0,
    "start_time": "2022-12-27T19:10:40.235Z"
   },
   {
    "duration": 0,
    "start_time": "2022-12-27T19:10:40.236Z"
   },
   {
    "duration": 0,
    "start_time": "2022-12-27T19:10:40.237Z"
   },
   {
    "duration": 0,
    "start_time": "2022-12-27T19:10:40.238Z"
   },
   {
    "duration": 0,
    "start_time": "2022-12-27T19:10:40.239Z"
   },
   {
    "duration": 0,
    "start_time": "2022-12-27T19:10:40.240Z"
   },
   {
    "duration": 0,
    "start_time": "2022-12-27T19:10:40.241Z"
   },
   {
    "duration": 0,
    "start_time": "2022-12-27T19:10:40.242Z"
   },
   {
    "duration": 0,
    "start_time": "2022-12-27T19:10:40.243Z"
   },
   {
    "duration": 0,
    "start_time": "2022-12-27T19:10:40.244Z"
   },
   {
    "duration": 0,
    "start_time": "2022-12-27T19:10:40.245Z"
   },
   {
    "duration": 0,
    "start_time": "2022-12-27T19:10:40.246Z"
   },
   {
    "duration": 0,
    "start_time": "2022-12-27T19:10:40.246Z"
   },
   {
    "duration": 0,
    "start_time": "2022-12-27T19:10:40.247Z"
   },
   {
    "duration": 0,
    "start_time": "2022-12-27T19:10:40.249Z"
   },
   {
    "duration": 94,
    "start_time": "2022-12-27T19:59:31.357Z"
   },
   {
    "duration": 337,
    "start_time": "2022-12-27T19:59:48.334Z"
   },
   {
    "duration": 390,
    "start_time": "2022-12-27T19:59:55.750Z"
   },
   {
    "duration": 323,
    "start_time": "2022-12-27T20:00:07.396Z"
   },
   {
    "duration": 64,
    "start_time": "2022-12-27T20:00:25.506Z"
   },
   {
    "duration": 1066,
    "start_time": "2022-12-27T20:27:46.163Z"
   },
   {
    "duration": 1020,
    "start_time": "2022-12-27T20:29:01.307Z"
   },
   {
    "duration": 1013,
    "start_time": "2022-12-27T20:29:39.027Z"
   },
   {
    "duration": 1033,
    "start_time": "2022-12-27T20:29:50.402Z"
   },
   {
    "duration": 1239,
    "start_time": "2022-12-27T21:16:02.207Z"
   },
   {
    "duration": 755,
    "start_time": "2022-12-27T21:16:45.894Z"
   },
   {
    "duration": 1125,
    "start_time": "2022-12-27T21:17:02.014Z"
   },
   {
    "duration": 4,
    "start_time": "2022-12-27T21:18:51.663Z"
   },
   {
    "duration": 5,
    "start_time": "2022-12-27T21:19:14.538Z"
   },
   {
    "duration": 1112,
    "start_time": "2022-12-27T21:20:48.431Z"
   },
   {
    "duration": 916,
    "start_time": "2022-12-27T21:21:13.025Z"
   },
   {
    "duration": 993,
    "start_time": "2022-12-27T21:21:42.652Z"
   },
   {
    "duration": 917,
    "start_time": "2022-12-27T21:22:19.127Z"
   },
   {
    "duration": 906,
    "start_time": "2022-12-27T21:23:02.530Z"
   },
   {
    "duration": 921,
    "start_time": "2022-12-27T21:23:07.919Z"
   },
   {
    "duration": 960,
    "start_time": "2022-12-27T21:23:40.378Z"
   },
   {
    "duration": 952,
    "start_time": "2022-12-27T21:24:25.378Z"
   },
   {
    "duration": 932,
    "start_time": "2022-12-27T21:24:52.602Z"
   },
   {
    "duration": 1077,
    "start_time": "2022-12-27T21:25:05.552Z"
   },
   {
    "duration": 1183,
    "start_time": "2022-12-27T21:29:27.347Z"
   },
   {
    "duration": 1163,
    "start_time": "2022-12-27T21:29:38.453Z"
   },
   {
    "duration": 500,
    "start_time": "2022-12-27T21:31:39.561Z"
   },
   {
    "duration": 417,
    "start_time": "2022-12-27T21:33:00.211Z"
   },
   {
    "duration": 3,
    "start_time": "2022-12-27T21:52:39.145Z"
   },
   {
    "duration": 1119,
    "start_time": "2022-12-27T21:58:35.227Z"
   },
   {
    "duration": 73,
    "start_time": "2022-12-27T22:02:39.221Z"
   },
   {
    "duration": 66,
    "start_time": "2022-12-27T22:03:08.631Z"
   },
   {
    "duration": 1158,
    "start_time": "2022-12-27T22:03:17.478Z"
   },
   {
    "duration": 8,
    "start_time": "2022-12-27T22:06:03.301Z"
   },
   {
    "duration": 90,
    "start_time": "2022-12-27T22:11:09.690Z"
   },
   {
    "duration": 8,
    "start_time": "2022-12-27T22:14:21.975Z"
   },
   {
    "duration": 12,
    "start_time": "2022-12-27T22:15:34.150Z"
   },
   {
    "duration": 68,
    "start_time": "2022-12-27T22:20:14.598Z"
   },
   {
    "duration": 3,
    "start_time": "2022-12-27T22:20:59.744Z"
   },
   {
    "duration": 5,
    "start_time": "2022-12-27T22:21:12.465Z"
   },
   {
    "duration": 96,
    "start_time": "2022-12-27T22:22:06.190Z"
   },
   {
    "duration": 7,
    "start_time": "2022-12-27T22:23:08.091Z"
   },
   {
    "duration": 13,
    "start_time": "2022-12-27T22:23:15.885Z"
   },
   {
    "duration": 14,
    "start_time": "2022-12-27T22:23:52.571Z"
   },
   {
    "duration": 21,
    "start_time": "2022-12-27T22:24:07.818Z"
   },
   {
    "duration": 13,
    "start_time": "2022-12-27T22:24:12.876Z"
   },
   {
    "duration": 12,
    "start_time": "2022-12-27T22:24:34.946Z"
   },
   {
    "duration": 2,
    "start_time": "2022-12-27T22:24:42.138Z"
   },
   {
    "duration": 4,
    "start_time": "2022-12-27T23:00:34.341Z"
   },
   {
    "duration": 28677,
    "start_time": "2022-12-27T23:00:59.097Z"
   },
   {
    "duration": 11,
    "start_time": "2022-12-27T23:01:30.772Z"
   },
   {
    "duration": 3,
    "start_time": "2022-12-27T23:04:09.761Z"
   },
   {
    "duration": 14712,
    "start_time": "2022-12-27T23:04:11.317Z"
   },
   {
    "duration": 14687,
    "start_time": "2022-12-27T23:05:27.504Z"
   },
   {
    "duration": 14,
    "start_time": "2022-12-27T23:07:27.369Z"
   },
   {
    "duration": 3,
    "start_time": "2022-12-27T23:09:11.241Z"
   },
   {
    "duration": 9844,
    "start_time": "2022-12-27T23:09:15.787Z"
   },
   {
    "duration": 9909,
    "start_time": "2022-12-27T23:23:16.818Z"
   },
   {
    "duration": 2,
    "start_time": "2022-12-27T23:23:57.044Z"
   },
   {
    "duration": 82,
    "start_time": "2022-12-27T23:24:00.300Z"
   },
   {
    "duration": 75,
    "start_time": "2022-12-27T23:24:20.277Z"
   },
   {
    "duration": 3,
    "start_time": "2022-12-27T23:24:51.672Z"
   },
   {
    "duration": 9717,
    "start_time": "2022-12-27T23:24:54.901Z"
   },
   {
    "duration": 13,
    "start_time": "2022-12-27T23:26:58.126Z"
   },
   {
    "duration": 10,
    "start_time": "2022-12-27T23:27:47.878Z"
   },
   {
    "duration": 9760,
    "start_time": "2022-12-27T23:42:42.268Z"
   },
   {
    "duration": 2265,
    "start_time": "2022-12-27T23:45:22.776Z"
   },
   {
    "duration": 2249,
    "start_time": "2022-12-27T23:46:06.319Z"
   },
   {
    "duration": 2255,
    "start_time": "2022-12-27T23:46:21.039Z"
   },
   {
    "duration": 2175,
    "start_time": "2022-12-27T23:46:33.468Z"
   },
   {
    "duration": 2115,
    "start_time": "2022-12-27T23:47:20.024Z"
   },
   {
    "duration": 2190,
    "start_time": "2022-12-27T23:47:41.999Z"
   },
   {
    "duration": 2129,
    "start_time": "2022-12-27T23:47:46.937Z"
   },
   {
    "duration": 3,
    "start_time": "2022-12-27T23:48:20.009Z"
   },
   {
    "duration": 8,
    "start_time": "2022-12-27T23:48:37.737Z"
   },
   {
    "duration": 5,
    "start_time": "2022-12-27T23:49:17.740Z"
   },
   {
    "duration": 2130,
    "start_time": "2022-12-27T23:49:32.362Z"
   },
   {
    "duration": 2118,
    "start_time": "2022-12-27T23:49:42.996Z"
   },
   {
    "duration": 2,
    "start_time": "2022-12-27T23:50:25.251Z"
   },
   {
    "duration": 4,
    "start_time": "2022-12-27T23:50:32.099Z"
   },
   {
    "duration": 293,
    "start_time": "2022-12-27T23:53:41.859Z"
   },
   {
    "duration": 66,
    "start_time": "2022-12-27T23:53:46.251Z"
   },
   {
    "duration": 287,
    "start_time": "2022-12-27T23:53:56.835Z"
   },
   {
    "duration": 4,
    "start_time": "2022-12-27T23:53:59.964Z"
   },
   {
    "duration": 2,
    "start_time": "2022-12-27T23:56:35.001Z"
   },
   {
    "duration": 9926,
    "start_time": "2022-12-27T23:57:01.154Z"
   },
   {
    "duration": 21,
    "start_time": "2022-12-27T23:59:05.704Z"
   },
   {
    "duration": 24,
    "start_time": "2022-12-28T00:00:02.257Z"
   },
   {
    "duration": 9822,
    "start_time": "2022-12-28T00:00:46.694Z"
   },
   {
    "duration": 300,
    "start_time": "2022-12-28T00:01:03.915Z"
   },
   {
    "duration": 303,
    "start_time": "2022-12-28T00:01:07.834Z"
   },
   {
    "duration": 4,
    "start_time": "2022-12-28T00:01:10.449Z"
   },
   {
    "duration": 590427,
    "start_time": "2022-12-28T00:01:23.274Z"
   },
   {
    "duration": 9775,
    "start_time": "2022-12-28T00:13:02.499Z"
   },
   {
    "duration": 590896,
    "start_time": "2022-12-28T00:13:39.682Z"
   },
   {
    "duration": 6869,
    "start_time": "2022-12-28T00:25:04.536Z"
   },
   {
    "duration": 10,
    "start_time": "2022-12-28T00:25:13.797Z"
   },
   {
    "duration": 2243,
    "start_time": "2022-12-28T00:25:28.075Z"
   },
   {
    "duration": 6789,
    "start_time": "2022-12-28T00:25:39.202Z"
   },
   {
    "duration": 5,
    "start_time": "2022-12-28T00:25:52.195Z"
   },
   {
    "duration": 11,
    "start_time": "2022-12-28T00:28:49.410Z"
   },
   {
    "duration": 9,
    "start_time": "2022-12-28T00:28:59.180Z"
   },
   {
    "duration": 12,
    "start_time": "2022-12-28T00:30:07.244Z"
   },
   {
    "duration": 1274,
    "start_time": "2022-12-28T00:32:05.231Z"
   },
   {
    "duration": 1215,
    "start_time": "2022-12-28T00:33:04.894Z"
   },
   {
    "duration": 1365,
    "start_time": "2022-12-28T00:33:41.542Z"
   },
   {
    "duration": 1437,
    "start_time": "2022-12-28T00:34:51.673Z"
   },
   {
    "duration": 1353,
    "start_time": "2022-12-28T00:35:31.560Z"
   },
   {
    "duration": 1606,
    "start_time": "2022-12-28T00:36:00.400Z"
   },
   {
    "duration": 4,
    "start_time": "2022-12-28T00:36:46.549Z"
   },
   {
    "duration": 75,
    "start_time": "2022-12-28T00:38:11.547Z"
   },
   {
    "duration": 6937,
    "start_time": "2022-12-28T00:39:47.144Z"
   },
   {
    "duration": 6830,
    "start_time": "2022-12-28T00:40:07.081Z"
   },
   {
    "duration": 4,
    "start_time": "2022-12-28T00:40:15.979Z"
   },
   {
    "duration": 289,
    "start_time": "2022-12-28T00:40:36.411Z"
   },
   {
    "duration": 295,
    "start_time": "2022-12-28T00:40:57.483Z"
   },
   {
    "duration": 293,
    "start_time": "2022-12-28T00:41:05.485Z"
   },
   {
    "duration": 5,
    "start_time": "2022-12-28T00:41:08.668Z"
   },
   {
    "duration": 6985,
    "start_time": "2022-12-28T00:41:23.235Z"
   },
   {
    "duration": 6844,
    "start_time": "2022-12-28T00:41:37.620Z"
   },
   {
    "duration": 4,
    "start_time": "2022-12-28T00:41:46.828Z"
   },
   {
    "duration": 1670,
    "start_time": "2022-12-28T00:42:15.139Z"
   },
   {
    "duration": 3,
    "start_time": "2022-12-28T00:42:22.881Z"
   },
   {
    "duration": 7470,
    "start_time": "2022-12-28T00:46:35.023Z"
   },
   {
    "duration": 7462,
    "start_time": "2022-12-28T00:47:15.429Z"
   },
   {
    "duration": 4,
    "start_time": "2022-12-28T00:47:42.144Z"
   },
   {
    "duration": 3,
    "start_time": "2022-12-28T00:49:01.407Z"
   },
   {
    "duration": 6,
    "start_time": "2022-12-28T00:49:04.400Z"
   },
   {
    "duration": 3,
    "start_time": "2022-12-28T00:49:05.854Z"
   },
   {
    "duration": 3,
    "start_time": "2022-12-28T00:58:09.346Z"
   },
   {
    "duration": 14,
    "start_time": "2022-12-28T00:58:09.351Z"
   },
   {
    "duration": 755,
    "start_time": "2022-12-28T00:58:09.367Z"
   },
   {
    "duration": 32,
    "start_time": "2022-12-28T00:58:10.123Z"
   },
   {
    "duration": 138,
    "start_time": "2022-12-28T00:58:10.157Z"
   },
   {
    "duration": 31,
    "start_time": "2022-12-28T00:58:10.296Z"
   },
   {
    "duration": 3,
    "start_time": "2022-12-28T00:58:10.328Z"
   },
   {
    "duration": 23,
    "start_time": "2022-12-28T00:58:10.332Z"
   },
   {
    "duration": 21,
    "start_time": "2022-12-28T00:58:10.356Z"
   },
   {
    "duration": 8,
    "start_time": "2022-12-28T00:58:10.378Z"
   },
   {
    "duration": 20,
    "start_time": "2022-12-28T00:58:10.388Z"
   },
   {
    "duration": 22,
    "start_time": "2022-12-28T00:58:10.409Z"
   },
   {
    "duration": 18,
    "start_time": "2022-12-28T00:58:10.432Z"
   },
   {
    "duration": 254,
    "start_time": "2022-12-28T00:58:10.451Z"
   },
   {
    "duration": 38,
    "start_time": "2022-12-28T00:58:10.707Z"
   },
   {
    "duration": 6,
    "start_time": "2022-12-28T00:58:10.747Z"
   },
   {
    "duration": 13,
    "start_time": "2022-12-28T00:58:10.754Z"
   },
   {
    "duration": 29,
    "start_time": "2022-12-28T00:58:10.768Z"
   },
   {
    "duration": 83,
    "start_time": "2022-12-28T00:58:10.798Z"
   },
   {
    "duration": 26,
    "start_time": "2022-12-28T00:58:10.883Z"
   },
   {
    "duration": 27,
    "start_time": "2022-12-28T00:58:10.911Z"
   },
   {
    "duration": 10,
    "start_time": "2022-12-28T00:58:10.940Z"
   },
   {
    "duration": 15,
    "start_time": "2022-12-28T00:58:10.951Z"
   },
   {
    "duration": 315,
    "start_time": "2022-12-28T00:58:10.968Z"
   },
   {
    "duration": 291,
    "start_time": "2022-12-28T00:58:11.285Z"
   },
   {
    "duration": 422,
    "start_time": "2022-12-28T00:58:11.577Z"
   },
   {
    "duration": 5,
    "start_time": "2022-12-28T00:58:12.000Z"
   },
   {
    "duration": 339,
    "start_time": "2022-12-28T00:58:12.007Z"
   },
   {
    "duration": 394,
    "start_time": "2022-12-28T00:58:12.349Z"
   },
   {
    "duration": 406,
    "start_time": "2022-12-28T00:58:12.744Z"
   },
   {
    "duration": 387,
    "start_time": "2022-12-28T00:58:13.151Z"
   },
   {
    "duration": 990,
    "start_time": "2022-12-28T00:58:13.539Z"
   },
   {
    "duration": 1195,
    "start_time": "2022-12-28T00:58:14.530Z"
   },
   {
    "duration": 7,
    "start_time": "2022-12-28T00:58:15.726Z"
   },
   {
    "duration": 874,
    "start_time": "2022-12-28T00:58:15.734Z"
   },
   {
    "duration": 3,
    "start_time": "2022-12-28T00:58:16.610Z"
   },
   {
    "duration": 19,
    "start_time": "2022-12-28T00:58:16.614Z"
   },
   {
    "duration": 35,
    "start_time": "2022-12-28T00:58:16.634Z"
   },
   {
    "duration": 45,
    "start_time": "2022-12-28T00:58:16.670Z"
   },
   {
    "duration": 30,
    "start_time": "2022-12-28T00:58:16.717Z"
   },
   {
    "duration": 47,
    "start_time": "2022-12-28T00:58:16.748Z"
   },
   {
    "duration": 23,
    "start_time": "2022-12-28T00:58:16.796Z"
   },
   {
    "duration": 0,
    "start_time": "2022-12-28T00:58:16.820Z"
   },
   {
    "duration": 0,
    "start_time": "2022-12-28T00:58:16.821Z"
   },
   {
    "duration": 0,
    "start_time": "2022-12-28T00:58:16.822Z"
   },
   {
    "duration": 0,
    "start_time": "2022-12-28T00:58:16.822Z"
   },
   {
    "duration": 0,
    "start_time": "2022-12-28T00:58:16.823Z"
   },
   {
    "duration": 0,
    "start_time": "2022-12-28T00:58:16.824Z"
   },
   {
    "duration": 0,
    "start_time": "2022-12-28T00:58:16.825Z"
   },
   {
    "duration": 0,
    "start_time": "2022-12-28T00:58:16.826Z"
   },
   {
    "duration": 0,
    "start_time": "2022-12-28T00:58:16.827Z"
   },
   {
    "duration": 0,
    "start_time": "2022-12-28T00:58:16.827Z"
   },
   {
    "duration": 0,
    "start_time": "2022-12-28T00:58:16.828Z"
   },
   {
    "duration": 0,
    "start_time": "2022-12-28T00:58:16.829Z"
   },
   {
    "duration": 0,
    "start_time": "2022-12-28T00:58:16.830Z"
   },
   {
    "duration": 0,
    "start_time": "2022-12-28T00:58:16.831Z"
   },
   {
    "duration": 0,
    "start_time": "2022-12-28T00:58:16.832Z"
   },
   {
    "duration": 0,
    "start_time": "2022-12-28T00:58:16.833Z"
   },
   {
    "duration": 0,
    "start_time": "2022-12-28T00:58:16.834Z"
   },
   {
    "duration": 0,
    "start_time": "2022-12-28T00:58:16.835Z"
   },
   {
    "duration": 0,
    "start_time": "2022-12-28T00:58:16.836Z"
   },
   {
    "duration": 0,
    "start_time": "2022-12-28T00:58:16.837Z"
   },
   {
    "duration": 0,
    "start_time": "2022-12-28T00:58:16.838Z"
   },
   {
    "duration": 13,
    "start_time": "2022-12-28T00:59:02.893Z"
   },
   {
    "duration": 10,
    "start_time": "2022-12-28T00:59:16.508Z"
   },
   {
    "duration": 10,
    "start_time": "2022-12-28T00:59:19.657Z"
   },
   {
    "duration": 11,
    "start_time": "2022-12-28T00:59:22.126Z"
   },
   {
    "duration": 13,
    "start_time": "2022-12-28T00:59:25.472Z"
   },
   {
    "duration": 12,
    "start_time": "2022-12-28T00:59:32.574Z"
   },
   {
    "duration": 13,
    "start_time": "2022-12-28T00:59:36.358Z"
   },
   {
    "duration": 10,
    "start_time": "2022-12-28T00:59:53.565Z"
   },
   {
    "duration": 13,
    "start_time": "2022-12-28T00:59:57.047Z"
   },
   {
    "duration": 13,
    "start_time": "2022-12-28T01:00:12.462Z"
   },
   {
    "duration": 10,
    "start_time": "2022-12-28T01:00:29.238Z"
   },
   {
    "duration": 12,
    "start_time": "2022-12-28T01:00:32.695Z"
   },
   {
    "duration": 11,
    "start_time": "2022-12-28T01:01:01.855Z"
   },
   {
    "duration": 13,
    "start_time": "2022-12-28T01:01:05.302Z"
   },
   {
    "duration": 10,
    "start_time": "2022-12-28T01:01:15.736Z"
   },
   {
    "duration": 14,
    "start_time": "2022-12-28T01:01:23.367Z"
   },
   {
    "duration": 25,
    "start_time": "2022-12-28T01:01:39.231Z"
   },
   {
    "duration": 14,
    "start_time": "2022-12-28T01:01:56.436Z"
   },
   {
    "duration": 13,
    "start_time": "2022-12-28T01:02:28.266Z"
   },
   {
    "duration": 0,
    "start_time": "2022-12-28T01:02:28.280Z"
   },
   {
    "duration": 0,
    "start_time": "2022-12-28T01:02:28.281Z"
   },
   {
    "duration": 0,
    "start_time": "2022-12-28T01:02:28.282Z"
   },
   {
    "duration": 0,
    "start_time": "2022-12-28T01:02:28.283Z"
   },
   {
    "duration": 0,
    "start_time": "2022-12-28T01:02:28.284Z"
   },
   {
    "duration": 0,
    "start_time": "2022-12-28T01:02:28.285Z"
   },
   {
    "duration": 10,
    "start_time": "2022-12-28T01:02:28.287Z"
   },
   {
    "duration": 11,
    "start_time": "2022-12-28T01:02:28.299Z"
   },
   {
    "duration": 587342,
    "start_time": "2022-12-28T01:02:28.312Z"
   },
   {
    "duration": 6893,
    "start_time": "2022-12-28T01:12:15.655Z"
   },
   {
    "duration": 7072,
    "start_time": "2022-12-28T01:12:22.550Z"
   },
   {
    "duration": 4,
    "start_time": "2022-12-28T01:12:29.623Z"
   },
   {
    "duration": 7,
    "start_time": "2022-12-28T01:12:29.629Z"
   },
   {
    "duration": 1772,
    "start_time": "2022-12-28T01:12:29.637Z"
   },
   {
    "duration": 4,
    "start_time": "2022-12-28T01:12:31.411Z"
   },
   {
    "duration": 92,
    "start_time": "2022-12-28T01:12:31.417Z"
   },
   {
    "duration": 7479,
    "start_time": "2022-12-28T01:12:31.510Z"
   },
   {
    "duration": 7295,
    "start_time": "2022-12-28T01:12:38.991Z"
   },
   {
    "duration": 4,
    "start_time": "2022-12-28T01:12:46.287Z"
   },
   {
    "duration": 13,
    "start_time": "2022-12-28T01:12:46.292Z"
   },
   {
    "duration": 12,
    "start_time": "2022-12-28T01:12:46.307Z"
   },
   {
    "duration": 4,
    "start_time": "2022-12-28T01:12:46.321Z"
   },
   {
    "duration": 2096,
    "start_time": "2022-12-28T16:14:35.802Z"
   },
   {
    "duration": 3,
    "start_time": "2022-12-28T16:14:37.900Z"
   },
   {
    "duration": 2166,
    "start_time": "2022-12-28T16:14:37.905Z"
   },
   {
    "duration": 50,
    "start_time": "2022-12-28T16:14:40.075Z"
   },
   {
    "duration": 69,
    "start_time": "2022-12-28T16:14:40.127Z"
   },
   {
    "duration": 58,
    "start_time": "2022-12-28T16:14:40.198Z"
   },
   {
    "duration": 4,
    "start_time": "2022-12-28T16:14:40.258Z"
   },
   {
    "duration": 23,
    "start_time": "2022-12-28T16:14:40.264Z"
   },
   {
    "duration": 19,
    "start_time": "2022-12-28T16:14:40.289Z"
   },
   {
    "duration": 8,
    "start_time": "2022-12-28T16:14:40.311Z"
   },
   {
    "duration": 13,
    "start_time": "2022-12-28T16:14:40.321Z"
   },
   {
    "duration": 22,
    "start_time": "2022-12-28T16:14:40.351Z"
   },
   {
    "duration": 10,
    "start_time": "2022-12-28T16:14:40.375Z"
   },
   {
    "duration": 305,
    "start_time": "2022-12-28T16:14:40.387Z"
   },
   {
    "duration": 57,
    "start_time": "2022-12-28T16:14:40.695Z"
   },
   {
    "duration": 9,
    "start_time": "2022-12-28T16:14:40.754Z"
   },
   {
    "duration": 7,
    "start_time": "2022-12-28T16:14:40.765Z"
   },
   {
    "duration": 12,
    "start_time": "2022-12-28T16:14:40.774Z"
   },
   {
    "duration": 96,
    "start_time": "2022-12-28T16:14:40.788Z"
   },
   {
    "duration": 8,
    "start_time": "2022-12-28T16:14:40.885Z"
   },
   {
    "duration": 25,
    "start_time": "2022-12-28T16:14:40.895Z"
   },
   {
    "duration": 38,
    "start_time": "2022-12-28T16:14:40.922Z"
   },
   {
    "duration": 4,
    "start_time": "2022-12-28T16:14:40.962Z"
   },
   {
    "duration": 409,
    "start_time": "2022-12-28T16:14:40.969Z"
   },
   {
    "duration": 375,
    "start_time": "2022-12-28T16:14:41.379Z"
   },
   {
    "duration": 470,
    "start_time": "2022-12-28T16:14:41.757Z"
   },
   {
    "duration": 6,
    "start_time": "2022-12-28T16:14:42.251Z"
   },
   {
    "duration": 440,
    "start_time": "2022-12-28T16:14:42.420Z"
   },
   {
    "duration": 353,
    "start_time": "2022-12-28T16:14:42.862Z"
   },
   {
    "duration": 518,
    "start_time": "2022-12-28T16:14:43.216Z"
   },
   {
    "duration": 373,
    "start_time": "2022-12-28T16:14:43.738Z"
   },
   {
    "duration": 1135,
    "start_time": "2022-12-28T16:15:01.765Z"
   },
   {
    "duration": 1296,
    "start_time": "2022-12-28T16:15:15.105Z"
   },
   {
    "duration": 6,
    "start_time": "2022-12-28T16:15:27.286Z"
   },
   {
    "duration": 622,
    "start_time": "2022-12-28T16:15:41.192Z"
   },
   {
    "duration": 1242,
    "start_time": "2022-12-28T16:15:46.459Z"
   },
   {
    "duration": 1236,
    "start_time": "2022-12-28T16:16:02.612Z"
   },
   {
    "duration": 6,
    "start_time": "2022-12-28T16:16:27.529Z"
   },
   {
    "duration": 7,
    "start_time": "2022-12-28T16:16:38.564Z"
   },
   {
    "duration": 1756,
    "start_time": "2022-12-28T16:19:30.415Z"
   },
   {
    "duration": 3,
    "start_time": "2022-12-28T16:19:32.173Z"
   },
   {
    "duration": 827,
    "start_time": "2022-12-28T16:19:32.178Z"
   },
   {
    "duration": 52,
    "start_time": "2022-12-28T16:19:33.007Z"
   },
   {
    "duration": 43,
    "start_time": "2022-12-28T16:19:33.061Z"
   },
   {
    "duration": 57,
    "start_time": "2022-12-28T16:19:33.106Z"
   },
   {
    "duration": 4,
    "start_time": "2022-12-28T16:19:33.165Z"
   },
   {
    "duration": 24,
    "start_time": "2022-12-28T16:19:33.171Z"
   },
   {
    "duration": 21,
    "start_time": "2022-12-28T16:19:33.197Z"
   },
   {
    "duration": 8,
    "start_time": "2022-12-28T16:19:33.221Z"
   },
   {
    "duration": 26,
    "start_time": "2022-12-28T16:19:33.231Z"
   },
   {
    "duration": 22,
    "start_time": "2022-12-28T16:19:33.260Z"
   },
   {
    "duration": 9,
    "start_time": "2022-12-28T16:19:33.284Z"
   },
   {
    "duration": 290,
    "start_time": "2022-12-28T16:19:33.295Z"
   },
   {
    "duration": 45,
    "start_time": "2022-12-28T16:19:33.587Z"
   },
   {
    "duration": 23,
    "start_time": "2022-12-28T16:19:33.634Z"
   },
   {
    "duration": 5,
    "start_time": "2022-12-28T16:19:33.659Z"
   },
   {
    "duration": 7,
    "start_time": "2022-12-28T16:19:33.666Z"
   },
   {
    "duration": 102,
    "start_time": "2022-12-28T16:19:33.675Z"
   },
   {
    "duration": 7,
    "start_time": "2022-12-28T16:19:33.779Z"
   },
   {
    "duration": 20,
    "start_time": "2022-12-28T16:19:33.788Z"
   },
   {
    "duration": 16,
    "start_time": "2022-12-28T16:19:33.809Z"
   },
   {
    "duration": 25,
    "start_time": "2022-12-28T16:19:33.826Z"
   },
   {
    "duration": 382,
    "start_time": "2022-12-28T16:19:33.853Z"
   },
   {
    "duration": 353,
    "start_time": "2022-12-28T16:19:34.236Z"
   },
   {
    "duration": 429,
    "start_time": "2022-12-28T16:19:34.591Z"
   },
   {
    "duration": 6,
    "start_time": "2022-12-28T16:19:35.022Z"
   },
   {
    "duration": 381,
    "start_time": "2022-12-28T16:19:35.033Z"
   },
   {
    "duration": 400,
    "start_time": "2022-12-28T16:19:35.416Z"
   },
   {
    "duration": 399,
    "start_time": "2022-12-28T16:19:35.817Z"
   },
   {
    "duration": 390,
    "start_time": "2022-12-28T16:19:36.217Z"
   },
   {
    "duration": 4,
    "start_time": "2022-12-28T16:19:36.609Z"
   },
   {
    "duration": 1295,
    "start_time": "2022-12-28T16:19:36.616Z"
   },
   {
    "duration": 986,
    "start_time": "2022-12-28T16:19:37.912Z"
   },
   {
    "duration": 8,
    "start_time": "2022-12-28T16:19:38.900Z"
   },
   {
    "duration": 604,
    "start_time": "2022-12-28T16:19:38.910Z"
   },
   {
    "duration": 3,
    "start_time": "2022-12-28T16:19:39.516Z"
   },
   {
    "duration": 11,
    "start_time": "2022-12-28T16:19:39.521Z"
   },
   {
    "duration": 20,
    "start_time": "2022-12-28T16:19:39.534Z"
   },
   {
    "duration": 11,
    "start_time": "2022-12-28T16:19:39.556Z"
   },
   {
    "duration": 17,
    "start_time": "2022-12-28T16:19:39.569Z"
   },
   {
    "duration": 25,
    "start_time": "2022-12-28T16:19:39.589Z"
   },
   {
    "duration": 153,
    "start_time": "2022-12-28T16:19:39.616Z"
   },
   {
    "duration": 0,
    "start_time": "2022-12-28T16:19:39.771Z"
   },
   {
    "duration": 0,
    "start_time": "2022-12-28T16:19:39.773Z"
   },
   {
    "duration": 0,
    "start_time": "2022-12-28T16:19:39.775Z"
   },
   {
    "duration": 0,
    "start_time": "2022-12-28T16:19:39.777Z"
   },
   {
    "duration": 0,
    "start_time": "2022-12-28T16:19:39.778Z"
   },
   {
    "duration": 1,
    "start_time": "2022-12-28T16:19:39.781Z"
   },
   {
    "duration": 0,
    "start_time": "2022-12-28T16:19:39.783Z"
   },
   {
    "duration": 0,
    "start_time": "2022-12-28T16:19:39.784Z"
   },
   {
    "duration": 0,
    "start_time": "2022-12-28T16:19:39.785Z"
   },
   {
    "duration": 0,
    "start_time": "2022-12-28T16:19:39.786Z"
   },
   {
    "duration": 1,
    "start_time": "2022-12-28T16:19:39.787Z"
   },
   {
    "duration": 0,
    "start_time": "2022-12-28T16:19:39.789Z"
   },
   {
    "duration": 0,
    "start_time": "2022-12-28T16:19:39.790Z"
   },
   {
    "duration": 0,
    "start_time": "2022-12-28T16:19:39.791Z"
   },
   {
    "duration": 0,
    "start_time": "2022-12-28T16:19:39.792Z"
   },
   {
    "duration": 0,
    "start_time": "2022-12-28T16:19:39.794Z"
   },
   {
    "duration": 0,
    "start_time": "2022-12-28T16:19:39.797Z"
   },
   {
    "duration": 0,
    "start_time": "2022-12-28T16:19:39.798Z"
   },
   {
    "duration": 0,
    "start_time": "2022-12-28T16:19:39.799Z"
   },
   {
    "duration": 0,
    "start_time": "2022-12-28T16:19:39.801Z"
   },
   {
    "duration": 0,
    "start_time": "2022-12-28T16:19:39.802Z"
   },
   {
    "duration": 1640,
    "start_time": "2022-12-28T16:46:31.025Z"
   },
   {
    "duration": 3,
    "start_time": "2022-12-28T16:46:32.667Z"
   },
   {
    "duration": 1895,
    "start_time": "2022-12-28T16:46:32.672Z"
   },
   {
    "duration": 43,
    "start_time": "2022-12-28T16:46:34.568Z"
   },
   {
    "duration": 38,
    "start_time": "2022-12-28T16:46:34.614Z"
   },
   {
    "duration": 37,
    "start_time": "2022-12-28T16:46:34.654Z"
   },
   {
    "duration": 4,
    "start_time": "2022-12-28T16:46:34.692Z"
   },
   {
    "duration": 38,
    "start_time": "2022-12-28T16:46:34.697Z"
   },
   {
    "duration": 13,
    "start_time": "2022-12-28T16:46:34.736Z"
   },
   {
    "duration": 8,
    "start_time": "2022-12-28T16:46:34.750Z"
   },
   {
    "duration": 15,
    "start_time": "2022-12-28T16:46:34.760Z"
   },
   {
    "duration": 50,
    "start_time": "2022-12-28T16:46:34.777Z"
   },
   {
    "duration": 10,
    "start_time": "2022-12-28T16:46:34.830Z"
   },
   {
    "duration": 268,
    "start_time": "2022-12-28T16:46:34.845Z"
   },
   {
    "duration": 49,
    "start_time": "2022-12-28T16:46:35.115Z"
   },
   {
    "duration": 8,
    "start_time": "2022-12-28T16:46:35.166Z"
   },
   {
    "duration": 15,
    "start_time": "2022-12-28T16:46:35.176Z"
   },
   {
    "duration": 29,
    "start_time": "2022-12-28T16:46:35.193Z"
   },
   {
    "duration": 65,
    "start_time": "2022-12-28T16:46:35.224Z"
   },
   {
    "duration": 5,
    "start_time": "2022-12-28T16:46:35.290Z"
   },
   {
    "duration": 39,
    "start_time": "2022-12-28T16:46:35.297Z"
   },
   {
    "duration": 15,
    "start_time": "2022-12-28T16:46:35.337Z"
   },
   {
    "duration": 4,
    "start_time": "2022-12-28T16:46:35.354Z"
   },
   {
    "duration": 380,
    "start_time": "2022-12-28T16:46:35.360Z"
   },
   {
    "duration": 359,
    "start_time": "2022-12-28T16:46:35.742Z"
   },
   {
    "duration": 435,
    "start_time": "2022-12-28T16:46:36.102Z"
   },
   {
    "duration": 5,
    "start_time": "2022-12-28T16:46:36.539Z"
   },
   {
    "duration": 433,
    "start_time": "2022-12-28T16:46:36.546Z"
   },
   {
    "duration": 402,
    "start_time": "2022-12-28T16:46:36.981Z"
   },
   {
    "duration": 382,
    "start_time": "2022-12-28T16:46:37.385Z"
   },
   {
    "duration": 394,
    "start_time": "2022-12-28T16:46:37.769Z"
   },
   {
    "duration": 4,
    "start_time": "2022-12-28T16:46:38.165Z"
   },
   {
    "duration": 1214,
    "start_time": "2022-12-28T16:46:38.171Z"
   },
   {
    "duration": 965,
    "start_time": "2022-12-28T16:46:39.387Z"
   },
   {
    "duration": 7,
    "start_time": "2022-12-28T16:46:40.354Z"
   },
   {
    "duration": 566,
    "start_time": "2022-12-28T16:46:40.362Z"
   },
   {
    "duration": 3,
    "start_time": "2022-12-28T16:46:40.929Z"
   },
   {
    "duration": 14,
    "start_time": "2022-12-28T16:46:40.934Z"
   },
   {
    "duration": 6,
    "start_time": "2022-12-28T16:46:40.950Z"
   },
   {
    "duration": 7,
    "start_time": "2022-12-28T16:46:40.957Z"
   },
   {
    "duration": 3,
    "start_time": "2022-12-28T16:46:40.968Z"
   },
   {
    "duration": 14,
    "start_time": "2022-12-28T16:46:40.973Z"
   },
   {
    "duration": 141,
    "start_time": "2022-12-28T16:46:40.989Z"
   },
   {
    "duration": 0,
    "start_time": "2022-12-28T16:46:41.132Z"
   },
   {
    "duration": 0,
    "start_time": "2022-12-28T16:46:41.134Z"
   },
   {
    "duration": 0,
    "start_time": "2022-12-28T16:46:41.135Z"
   },
   {
    "duration": 0,
    "start_time": "2022-12-28T16:46:41.136Z"
   },
   {
    "duration": 0,
    "start_time": "2022-12-28T16:46:41.138Z"
   },
   {
    "duration": 0,
    "start_time": "2022-12-28T16:46:41.139Z"
   },
   {
    "duration": 0,
    "start_time": "2022-12-28T16:46:41.140Z"
   },
   {
    "duration": 0,
    "start_time": "2022-12-28T16:46:41.142Z"
   },
   {
    "duration": 0,
    "start_time": "2022-12-28T16:46:41.143Z"
   },
   {
    "duration": 0,
    "start_time": "2022-12-28T16:46:41.144Z"
   },
   {
    "duration": 0,
    "start_time": "2022-12-28T16:46:41.146Z"
   },
   {
    "duration": 0,
    "start_time": "2022-12-28T16:46:41.147Z"
   },
   {
    "duration": 0,
    "start_time": "2022-12-28T16:46:41.148Z"
   },
   {
    "duration": 0,
    "start_time": "2022-12-28T16:46:41.150Z"
   },
   {
    "duration": 0,
    "start_time": "2022-12-28T16:46:41.151Z"
   },
   {
    "duration": 0,
    "start_time": "2022-12-28T16:46:41.153Z"
   },
   {
    "duration": 0,
    "start_time": "2022-12-28T16:46:41.154Z"
   },
   {
    "duration": 0,
    "start_time": "2022-12-28T16:46:41.155Z"
   },
   {
    "duration": 0,
    "start_time": "2022-12-28T16:46:41.159Z"
   },
   {
    "duration": 0,
    "start_time": "2022-12-28T16:46:41.161Z"
   },
   {
    "duration": 0,
    "start_time": "2022-12-28T16:46:41.162Z"
   },
   {
    "duration": 14,
    "start_time": "2022-12-28T16:46:56.270Z"
   },
   {
    "duration": 20,
    "start_time": "2022-12-28T16:48:35.079Z"
   },
   {
    "duration": 3,
    "start_time": "2022-12-28T16:48:46.694Z"
   },
   {
    "duration": 3,
    "start_time": "2022-12-28T16:48:59.266Z"
   },
   {
    "duration": 374,
    "start_time": "2022-12-28T16:48:59.271Z"
   },
   {
    "duration": 377,
    "start_time": "2022-12-28T16:48:59.647Z"
   },
   {
    "duration": 363,
    "start_time": "2022-12-28T16:49:00.027Z"
   },
   {
    "duration": 5,
    "start_time": "2022-12-28T16:49:00.392Z"
   },
   {
    "duration": 393,
    "start_time": "2022-12-28T16:49:00.399Z"
   },
   {
    "duration": 383,
    "start_time": "2022-12-28T16:49:00.794Z"
   },
   {
    "duration": 393,
    "start_time": "2022-12-28T16:49:01.179Z"
   },
   {
    "duration": 407,
    "start_time": "2022-12-28T16:49:01.574Z"
   },
   {
    "duration": 4,
    "start_time": "2022-12-28T16:49:01.982Z"
   },
   {
    "duration": 1280,
    "start_time": "2022-12-28T16:49:01.989Z"
   },
   {
    "duration": 1030,
    "start_time": "2022-12-28T16:49:03.271Z"
   },
   {
    "duration": 9,
    "start_time": "2022-12-28T16:49:04.303Z"
   },
   {
    "duration": 453,
    "start_time": "2022-12-28T16:49:04.322Z"
   },
   {
    "duration": 3,
    "start_time": "2022-12-28T16:49:04.777Z"
   },
   {
    "duration": 13,
    "start_time": "2022-12-28T16:49:04.782Z"
   },
   {
    "duration": 4,
    "start_time": "2022-12-28T16:49:04.796Z"
   },
   {
    "duration": 23,
    "start_time": "2022-12-28T16:49:04.802Z"
   },
   {
    "duration": 4,
    "start_time": "2022-12-28T16:49:04.827Z"
   },
   {
    "duration": 16,
    "start_time": "2022-12-28T16:49:04.832Z"
   },
   {
    "duration": 0,
    "start_time": "2022-12-28T16:49:04.849Z"
   },
   {
    "duration": 0,
    "start_time": "2022-12-28T16:49:04.851Z"
   },
   {
    "duration": 0,
    "start_time": "2022-12-28T16:49:04.851Z"
   },
   {
    "duration": 0,
    "start_time": "2022-12-28T16:49:04.853Z"
   },
   {
    "duration": 0,
    "start_time": "2022-12-28T16:49:04.854Z"
   },
   {
    "duration": 0,
    "start_time": "2022-12-28T16:49:04.855Z"
   },
   {
    "duration": 0,
    "start_time": "2022-12-28T16:49:04.856Z"
   },
   {
    "duration": 0,
    "start_time": "2022-12-28T16:49:04.857Z"
   },
   {
    "duration": 0,
    "start_time": "2022-12-28T16:49:04.858Z"
   },
   {
    "duration": 0,
    "start_time": "2022-12-28T16:49:04.859Z"
   },
   {
    "duration": 0,
    "start_time": "2022-12-28T16:49:04.860Z"
   },
   {
    "duration": 0,
    "start_time": "2022-12-28T16:49:04.861Z"
   },
   {
    "duration": 0,
    "start_time": "2022-12-28T16:49:04.861Z"
   },
   {
    "duration": 0,
    "start_time": "2022-12-28T16:49:04.862Z"
   },
   {
    "duration": 0,
    "start_time": "2022-12-28T16:49:04.863Z"
   },
   {
    "duration": 0,
    "start_time": "2022-12-28T16:49:04.865Z"
   },
   {
    "duration": 0,
    "start_time": "2022-12-28T16:49:04.866Z"
   },
   {
    "duration": 0,
    "start_time": "2022-12-28T16:49:04.868Z"
   },
   {
    "duration": 0,
    "start_time": "2022-12-28T16:49:04.869Z"
   },
   {
    "duration": 0,
    "start_time": "2022-12-28T16:49:04.870Z"
   },
   {
    "duration": 0,
    "start_time": "2022-12-28T16:49:04.872Z"
   },
   {
    "duration": 0,
    "start_time": "2022-12-28T16:49:04.873Z"
   },
   {
    "duration": 14,
    "start_time": "2022-12-28T16:49:20.695Z"
   },
   {
    "duration": 26,
    "start_time": "2022-12-28T16:49:35.823Z"
   },
   {
    "duration": 18,
    "start_time": "2022-12-28T16:49:45.433Z"
   },
   {
    "duration": 1203,
    "start_time": "2022-12-28T16:50:04.792Z"
   },
   {
    "duration": 995,
    "start_time": "2022-12-28T16:50:12.277Z"
   },
   {
    "duration": 3,
    "start_time": "2022-12-28T16:52:06.478Z"
   },
   {
    "duration": 3,
    "start_time": "2022-12-28T16:52:13.389Z"
   },
   {
    "duration": 379,
    "start_time": "2022-12-28T16:52:13.395Z"
   },
   {
    "duration": 508,
    "start_time": "2022-12-28T16:52:13.776Z"
   },
   {
    "duration": 336,
    "start_time": "2022-12-28T16:52:14.286Z"
   },
   {
    "duration": 4,
    "start_time": "2022-12-28T16:52:14.624Z"
   },
   {
    "duration": 458,
    "start_time": "2022-12-28T16:52:14.629Z"
   },
   {
    "duration": 381,
    "start_time": "2022-12-28T16:52:15.088Z"
   },
   {
    "duration": 399,
    "start_time": "2022-12-28T16:52:15.470Z"
   },
   {
    "duration": 385,
    "start_time": "2022-12-28T16:52:15.872Z"
   },
   {
    "duration": 4,
    "start_time": "2022-12-28T16:52:16.259Z"
   },
   {
    "duration": 1208,
    "start_time": "2022-12-28T16:52:16.265Z"
   },
   {
    "duration": 980,
    "start_time": "2022-12-28T16:52:17.475Z"
   },
   {
    "duration": 7,
    "start_time": "2022-12-28T16:52:18.457Z"
   },
   {
    "duration": 563,
    "start_time": "2022-12-28T16:52:18.465Z"
   },
   {
    "duration": 2,
    "start_time": "2022-12-28T16:52:19.031Z"
   },
   {
    "duration": 18,
    "start_time": "2022-12-28T16:52:19.035Z"
   },
   {
    "duration": 4,
    "start_time": "2022-12-28T16:52:19.056Z"
   },
   {
    "duration": 10,
    "start_time": "2022-12-28T16:52:19.063Z"
   },
   {
    "duration": 7,
    "start_time": "2022-12-28T16:52:19.075Z"
   },
   {
    "duration": 15,
    "start_time": "2022-12-28T16:52:19.084Z"
   },
   {
    "duration": 16,
    "start_time": "2022-12-28T16:52:19.121Z"
   },
   {
    "duration": 0,
    "start_time": "2022-12-28T16:52:19.140Z"
   },
   {
    "duration": 0,
    "start_time": "2022-12-28T16:52:19.142Z"
   },
   {
    "duration": 1,
    "start_time": "2022-12-28T16:52:19.143Z"
   },
   {
    "duration": 0,
    "start_time": "2022-12-28T16:52:19.145Z"
   },
   {
    "duration": 0,
    "start_time": "2022-12-28T16:52:19.146Z"
   },
   {
    "duration": 0,
    "start_time": "2022-12-28T16:52:19.148Z"
   },
   {
    "duration": 0,
    "start_time": "2022-12-28T16:52:19.149Z"
   },
   {
    "duration": 1,
    "start_time": "2022-12-28T16:52:19.150Z"
   },
   {
    "duration": 0,
    "start_time": "2022-12-28T16:52:19.152Z"
   },
   {
    "duration": 0,
    "start_time": "2022-12-28T16:52:19.153Z"
   },
   {
    "duration": 0,
    "start_time": "2022-12-28T16:52:19.154Z"
   },
   {
    "duration": 0,
    "start_time": "2022-12-28T16:52:19.155Z"
   },
   {
    "duration": 0,
    "start_time": "2022-12-28T16:52:19.157Z"
   },
   {
    "duration": 0,
    "start_time": "2022-12-28T16:52:19.158Z"
   },
   {
    "duration": 0,
    "start_time": "2022-12-28T16:52:19.159Z"
   },
   {
    "duration": 0,
    "start_time": "2022-12-28T16:52:19.160Z"
   },
   {
    "duration": 0,
    "start_time": "2022-12-28T16:52:19.162Z"
   },
   {
    "duration": 0,
    "start_time": "2022-12-28T16:52:19.163Z"
   },
   {
    "duration": 0,
    "start_time": "2022-12-28T16:52:19.164Z"
   },
   {
    "duration": 0,
    "start_time": "2022-12-28T16:52:19.166Z"
   },
   {
    "duration": 0,
    "start_time": "2022-12-28T16:52:19.167Z"
   },
   {
    "duration": 14,
    "start_time": "2022-12-28T16:57:01.553Z"
   },
   {
    "duration": 16,
    "start_time": "2022-12-28T16:57:40.620Z"
   },
   {
    "duration": 18,
    "start_time": "2022-12-28T16:57:56.762Z"
   },
   {
    "duration": 15,
    "start_time": "2022-12-28T16:57:59.807Z"
   },
   {
    "duration": 4,
    "start_time": "2022-12-28T16:58:13.954Z"
   },
   {
    "duration": 13,
    "start_time": "2022-12-28T16:58:22.264Z"
   },
   {
    "duration": 3,
    "start_time": "2022-12-28T16:58:29.178Z"
   },
   {
    "duration": 21,
    "start_time": "2022-12-28T16:58:29.183Z"
   },
   {
    "duration": 11501,
    "start_time": "2022-12-28T16:58:29.206Z"
   },
   {
    "duration": 333,
    "start_time": "2022-12-28T16:58:40.709Z"
   },
   {
    "duration": 327,
    "start_time": "2022-12-28T16:58:41.044Z"
   },
   {
    "duration": 4,
    "start_time": "2022-12-28T16:58:41.372Z"
   },
   {
    "duration": 9,
    "start_time": "2022-12-28T16:58:41.378Z"
   },
   {
    "duration": 636981,
    "start_time": "2022-12-28T16:58:41.388Z"
   },
   {
    "duration": 7883,
    "start_time": "2022-12-28T17:09:18.371Z"
   },
   {
    "duration": 7797,
    "start_time": "2022-12-28T17:09:26.255Z"
   },
   {
    "duration": 7,
    "start_time": "2022-12-28T17:09:34.055Z"
   },
   {
    "duration": 8,
    "start_time": "2022-12-28T17:09:34.065Z"
   },
   {
    "duration": 1648,
    "start_time": "2022-12-28T17:09:34.075Z"
   },
   {
    "duration": 4,
    "start_time": "2022-12-28T17:09:35.725Z"
   },
   {
    "duration": 15,
    "start_time": "2022-12-28T17:09:35.731Z"
   },
   {
    "duration": 8548,
    "start_time": "2022-12-28T17:09:35.748Z"
   },
   {
    "duration": 8292,
    "start_time": "2022-12-28T17:09:44.298Z"
   },
   {
    "duration": 4,
    "start_time": "2022-12-28T17:09:52.592Z"
   },
   {
    "duration": 32,
    "start_time": "2022-12-28T17:09:52.597Z"
   },
   {
    "duration": 27,
    "start_time": "2022-12-28T17:09:52.630Z"
   },
   {
    "duration": 7,
    "start_time": "2022-12-28T17:09:52.659Z"
   },
   {
    "duration": 1074,
    "start_time": "2022-12-28T19:27:20.407Z"
   },
   {
    "duration": 1029,
    "start_time": "2022-12-28T19:27:25.299Z"
   },
   {
    "duration": 5,
    "start_time": "2022-12-28T19:27:30.020Z"
   },
   {
    "duration": 664,
    "start_time": "2022-12-28T19:28:18.215Z"
   },
   {
    "duration": 698,
    "start_time": "2022-12-28T19:28:21.391Z"
   },
   {
    "duration": 4,
    "start_time": "2022-12-28T19:28:25.089Z"
   },
   {
    "duration": 718,
    "start_time": "2022-12-28T19:28:58.441Z"
   },
   {
    "duration": 687,
    "start_time": "2022-12-28T19:29:09.144Z"
   },
   {
    "duration": 5,
    "start_time": "2022-12-28T19:29:11.833Z"
   },
   {
    "duration": 4,
    "start_time": "2022-12-28T19:29:19.439Z"
   },
   {
    "duration": 8,
    "start_time": "2022-12-28T19:29:22.192Z"
   },
   {
    "duration": 7,
    "start_time": "2022-12-28T19:29:26.061Z"
   },
   {
    "duration": 4,
    "start_time": "2022-12-28T19:29:48.541Z"
   },
   {
    "duration": 7,
    "start_time": "2022-12-28T19:29:48.547Z"
   },
   {
    "duration": 1170,
    "start_time": "2022-12-28T19:29:48.556Z"
   },
   {
    "duration": 37,
    "start_time": "2022-12-28T19:29:49.728Z"
   },
   {
    "duration": 29,
    "start_time": "2022-12-28T19:29:49.767Z"
   },
   {
    "duration": 64,
    "start_time": "2022-12-28T19:29:49.797Z"
   },
   {
    "duration": 12,
    "start_time": "2022-12-28T19:29:49.863Z"
   },
   {
    "duration": 22,
    "start_time": "2022-12-28T19:29:49.877Z"
   },
   {
    "duration": 12,
    "start_time": "2022-12-28T19:29:49.902Z"
   },
   {
    "duration": 8,
    "start_time": "2022-12-28T19:29:49.923Z"
   },
   {
    "duration": 13,
    "start_time": "2022-12-28T19:29:49.933Z"
   },
   {
    "duration": 20,
    "start_time": "2022-12-28T19:29:49.948Z"
   },
   {
    "duration": 14,
    "start_time": "2022-12-28T19:29:49.970Z"
   },
   {
    "duration": 277,
    "start_time": "2022-12-28T19:29:49.987Z"
   },
   {
    "duration": 44,
    "start_time": "2022-12-28T19:29:50.266Z"
   },
   {
    "duration": 10,
    "start_time": "2022-12-28T19:29:50.323Z"
   },
   {
    "duration": 11,
    "start_time": "2022-12-28T19:29:50.334Z"
   },
   {
    "duration": 22,
    "start_time": "2022-12-28T19:29:50.346Z"
   },
   {
    "duration": 74,
    "start_time": "2022-12-28T19:29:50.369Z"
   },
   {
    "duration": 18,
    "start_time": "2022-12-28T19:29:50.445Z"
   },
   {
    "duration": 32,
    "start_time": "2022-12-28T19:29:50.464Z"
   },
   {
    "duration": 3,
    "start_time": "2022-12-28T19:29:50.498Z"
   },
   {
    "duration": 6,
    "start_time": "2022-12-28T19:29:50.503Z"
   },
   {
    "duration": 345,
    "start_time": "2022-12-28T19:29:50.513Z"
   },
   {
    "duration": 362,
    "start_time": "2022-12-28T19:29:50.860Z"
   },
   {
    "duration": 500,
    "start_time": "2022-12-28T19:29:51.224Z"
   },
   {
    "duration": 8,
    "start_time": "2022-12-28T19:29:51.726Z"
   },
   {
    "duration": 350,
    "start_time": "2022-12-28T19:29:51.736Z"
   },
   {
    "duration": 173,
    "start_time": "2022-12-28T19:29:52.088Z"
   },
   {
    "duration": 424,
    "start_time": "2022-12-28T19:29:52.263Z"
   },
   {
    "duration": 175,
    "start_time": "2022-12-28T19:29:52.689Z"
   },
   {
    "duration": 6,
    "start_time": "2022-12-28T19:29:52.866Z"
   },
   {
    "duration": 934,
    "start_time": "2022-12-28T19:29:52.873Z"
   },
   {
    "duration": 782,
    "start_time": "2022-12-28T19:29:53.808Z"
   },
   {
    "duration": 9,
    "start_time": "2022-12-28T19:29:54.592Z"
   },
   {
    "duration": 502,
    "start_time": "2022-12-28T19:29:54.603Z"
   },
   {
    "duration": 3,
    "start_time": "2022-12-28T19:29:55.107Z"
   },
   {
    "duration": 31,
    "start_time": "2022-12-28T19:29:55.111Z"
   },
   {
    "duration": 19,
    "start_time": "2022-12-28T19:29:55.144Z"
   },
   {
    "duration": 24,
    "start_time": "2022-12-28T19:29:55.164Z"
   },
   {
    "duration": 20,
    "start_time": "2022-12-28T19:29:55.190Z"
   },
   {
    "duration": 26,
    "start_time": "2022-12-28T19:29:55.212Z"
   },
   {
    "duration": 13,
    "start_time": "2022-12-28T19:29:55.240Z"
   },
   {
    "duration": 41,
    "start_time": "2022-12-28T19:29:55.255Z"
   },
   {
    "duration": 22,
    "start_time": "2022-12-28T19:29:55.298Z"
   },
   {
    "duration": 11200,
    "start_time": "2022-12-28T19:29:55.322Z"
   },
   {
    "duration": 1046,
    "start_time": "2022-12-28T19:30:06.524Z"
   },
   {
    "duration": 977,
    "start_time": "2022-12-28T19:30:07.572Z"
   },
   {
    "duration": 5,
    "start_time": "2022-12-28T19:30:08.551Z"
   },
   {
    "duration": 9,
    "start_time": "2022-12-28T19:30:08.558Z"
   },
   {
    "duration": 599014,
    "start_time": "2022-12-28T19:30:08.570Z"
   },
   {
    "duration": 645,
    "start_time": "2022-12-28T19:40:07.585Z"
   },
   {
    "duration": 642,
    "start_time": "2022-12-28T19:40:08.233Z"
   },
   {
    "duration": 6,
    "start_time": "2022-12-28T19:40:08.877Z"
   },
   {
    "duration": 8,
    "start_time": "2022-12-28T19:40:08.885Z"
   },
   {
    "duration": 2131,
    "start_time": "2022-12-28T19:40:08.895Z"
   },
   {
    "duration": 5,
    "start_time": "2022-12-28T19:40:11.029Z"
   },
   {
    "duration": 92,
    "start_time": "2022-12-28T19:40:11.036Z"
   },
   {
    "duration": 284,
    "start_time": "2022-12-28T19:40:11.132Z"
   },
   {
    "duration": 274,
    "start_time": "2022-12-28T19:40:11.418Z"
   },
   {
    "duration": 4,
    "start_time": "2022-12-28T19:40:11.694Z"
   },
   {
    "duration": 9,
    "start_time": "2022-12-28T19:40:11.699Z"
   },
   {
    "duration": 19,
    "start_time": "2022-12-28T19:40:11.709Z"
   },
   {
    "duration": 16,
    "start_time": "2022-12-28T19:40:11.729Z"
   },
   {
    "duration": 746,
    "start_time": "2022-12-28T19:40:11.749Z"
   },
   {
    "duration": 300,
    "start_time": "2022-12-28T19:40:36.876Z"
   },
   {
    "duration": 305,
    "start_time": "2022-12-28T19:40:41.133Z"
   },
   {
    "duration": 5,
    "start_time": "2022-12-28T19:40:44.091Z"
   },
   {
    "duration": 6902,
    "start_time": "2022-12-28T19:41:14.710Z"
   },
   {
    "duration": 6791,
    "start_time": "2022-12-28T19:41:24.310Z"
   },
   {
    "duration": 4,
    "start_time": "2022-12-28T19:41:33.037Z"
   },
   {
    "duration": 2539,
    "start_time": "2022-12-28T19:41:53.277Z"
   },
   {
    "duration": 2526,
    "start_time": "2022-12-28T19:42:00.736Z"
   },
   {
    "duration": 5,
    "start_time": "2022-12-28T19:42:05.847Z"
   },
   {
    "duration": 2,
    "start_time": "2022-12-28T19:42:33.480Z"
   },
   {
    "duration": 476,
    "start_time": "2022-12-28T19:43:05.023Z"
   },
   {
    "duration": 814,
    "start_time": "2022-12-28T19:43:22.975Z"
   },
   {
    "duration": 7,
    "start_time": "2022-12-28T23:34:02.853Z"
   },
   {
    "duration": 250,
    "start_time": "2022-12-28T23:34:03.021Z"
   },
   {
    "duration": 1832,
    "start_time": "2022-12-30T20:58:55.902Z"
   },
   {
    "duration": 3,
    "start_time": "2022-12-30T20:58:57.737Z"
   },
   {
    "duration": 803,
    "start_time": "2022-12-30T20:58:57.741Z"
   },
   {
    "duration": 46,
    "start_time": "2022-12-30T20:58:58.556Z"
   },
   {
    "duration": 32,
    "start_time": "2022-12-30T20:58:58.603Z"
   },
   {
    "duration": 41,
    "start_time": "2022-12-30T20:58:58.653Z"
   },
   {
    "duration": 4,
    "start_time": "2022-12-30T20:58:58.695Z"
   },
   {
    "duration": 16,
    "start_time": "2022-12-30T20:58:58.701Z"
   },
   {
    "duration": 41,
    "start_time": "2022-12-30T20:58:58.719Z"
   },
   {
    "duration": 8,
    "start_time": "2022-12-30T20:58:58.763Z"
   },
   {
    "duration": 12,
    "start_time": "2022-12-30T20:58:58.773Z"
   },
   {
    "duration": 22,
    "start_time": "2022-12-30T20:58:58.787Z"
   },
   {
    "duration": 9,
    "start_time": "2022-12-30T20:58:58.811Z"
   },
   {
    "duration": 323,
    "start_time": "2022-12-30T20:58:58.822Z"
   },
   {
    "duration": 54,
    "start_time": "2022-12-30T20:58:59.151Z"
   },
   {
    "duration": 12,
    "start_time": "2022-12-30T20:58:59.207Z"
   },
   {
    "duration": 7,
    "start_time": "2022-12-30T20:58:59.220Z"
   },
   {
    "duration": 45,
    "start_time": "2022-12-30T20:58:59.229Z"
   },
   {
    "duration": 76,
    "start_time": "2022-12-30T20:58:59.321Z"
   },
   {
    "duration": 4,
    "start_time": "2022-12-30T20:58:59.402Z"
   },
   {
    "duration": 23,
    "start_time": "2022-12-30T20:58:59.573Z"
   },
   {
    "duration": 2,
    "start_time": "2022-12-30T20:58:59.900Z"
   },
   {
    "duration": 6,
    "start_time": "2022-12-30T20:59:00.484Z"
   },
   {
    "duration": 411,
    "start_time": "2022-12-30T20:59:00.572Z"
   },
   {
    "duration": 370,
    "start_time": "2022-12-30T20:59:00.985Z"
   },
   {
    "duration": 469,
    "start_time": "2022-12-30T20:59:01.359Z"
   },
   {
    "duration": 4,
    "start_time": "2022-12-30T20:59:01.830Z"
   },
   {
    "duration": 8,
    "start_time": "2022-12-30T20:59:01.851Z"
   },
   {
    "duration": 32,
    "start_time": "2022-12-30T20:59:01.870Z"
   },
   {
    "duration": 3,
    "start_time": "2022-12-30T20:59:02.717Z"
   },
   {
    "duration": 3,
    "start_time": "2022-12-30T20:59:02.800Z"
   },
   {
    "duration": 5,
    "start_time": "2022-12-30T20:59:03.053Z"
   },
   {
    "duration": 863,
    "start_time": "2022-12-30T20:59:03.327Z"
   },
   {
    "duration": 3,
    "start_time": "2022-12-30T20:59:04.193Z"
   },
   {
    "duration": 9,
    "start_time": "2022-12-30T20:59:05.522Z"
   },
   {
    "duration": 505,
    "start_time": "2022-12-30T20:59:49.993Z"
   }
  ],
  "kernelspec": {
   "display_name": "Python 3 (ipykernel)",
   "language": "python",
   "name": "python3"
  },
  "language_info": {
   "codemirror_mode": {
    "name": "ipython",
    "version": 3
   },
   "file_extension": ".py",
   "mimetype": "text/x-python",
   "name": "python",
   "nbconvert_exporter": "python",
   "pygments_lexer": "ipython3",
   "version": "3.9.5"
  },
  "toc": {
   "base_numbering": 1,
   "nav_menu": {},
   "number_sections": true,
   "sideBar": true,
   "skip_h1_title": true,
   "title_cell": "Содержание",
   "title_sidebar": "Contents",
   "toc_cell": true,
   "toc_position": {
    "height": "calc(100% - 180px)",
    "left": "10px",
    "top": "150px",
    "width": "172.008px"
   },
   "toc_section_display": true,
   "toc_window_display": true
  }
 },
 "nbformat": 4,
 "nbformat_minor": 2
}
