{
 "cells": [
  {
   "cell_type": "markdown",
   "metadata": {},
   "source": [
    "# Проект для «Викишоп»"
   ]
  },
  {
   "cell_type": "markdown",
   "metadata": {},
   "source": [
    "### Описание проекта\n",
    "\n",
    "Интернет-магазин «Викишоп» запускает новый сервис. Теперь пользователи могут редактировать и дополнять описания товаров, как в вики-сообществах. То есть клиенты предлагают свои правки и комментируют изменения других. Магазину нужен инструмент, который будет искать токсичные комментарии и отправлять их на модерацию. \n",
    "\n",
    "Нужно обучить модель классифицировать комментарии на позитивные и негативные. У нас есть набор данных с разметкой о токсичности правок.\n",
    "\n",
    "Нужно построить модель со значением метрики качества *F1* не меньше 0.75. \n",
    "\n",
    "**Инструкция по выполнению проекта**\n",
    "\n",
    "1. Загрузите и подготовьте данные.\n",
    "2. Обучите разные модели. \n",
    "3. Сделайте выводы.\n"
   ]
  },
  {
   "cell_type": "markdown",
   "metadata": {},
   "source": [
    "## Подготовка"
   ]
  },
  {
   "cell_type": "code",
   "execution_count": 1,
   "metadata": {},
   "outputs": [],
   "source": [
    "import pandas as pd\n",
    "import numpy as np\n",
    "import torch\n",
    "import transformers\n",
    "from tqdm import notebook\n",
    "import nltk\n",
    "import re\n",
    "from nltk.corpus import stopwords as nltk_stopwords\n",
    "import spacy\n",
    "from sklearn.linear_model import LogisticRegression\n",
    "from lightgbm import LGBMClassifier\n",
    "from catboost import CatBoostClassifier\n",
    "from sklearn.model_selection import cross_val_score\n",
    "from sklearn.model_selection import train_test_split\n",
    "from sklearn.feature_extraction.text import TfidfVectorizer\n",
    "from sklearn.metrics import f1_score\n",
    "from sklearn.pipeline import Pipeline\n",
    "from sklearn.model_selection import GridSearchCV\n",
    "from sklearn.preprocessing import StandardScaler"
   ]
  },
  {
   "cell_type": "code",
   "execution_count": 2,
   "metadata": {},
   "outputs": [],
   "source": [
    "STATE = np.random.RandomState(12345)"
   ]
  },
  {
   "cell_type": "code",
   "execution_count": 3,
   "metadata": {},
   "outputs": [],
   "source": [
    "df_toxic = pd.read_csv('/datasets/toxic_comments.csv')"
   ]
  },
  {
   "cell_type": "code",
   "execution_count": 4,
   "metadata": {},
   "outputs": [
    {
     "name": "stdout",
     "output_type": "stream",
     "text": [
      "<class 'pandas.core.frame.DataFrame'>\n",
      "RangeIndex: 159292 entries, 0 to 159291\n",
      "Data columns (total 3 columns):\n",
      " #   Column      Non-Null Count   Dtype \n",
      "---  ------      --------------   ----- \n",
      " 0   Unnamed: 0  159292 non-null  int64 \n",
      " 1   text        159292 non-null  object\n",
      " 2   toxic       159292 non-null  int64 \n",
      "dtypes: int64(2), object(1)\n",
      "memory usage: 3.6+ MB\n"
     ]
    }
   ],
   "source": [
    "df_toxic.info()"
   ]
  },
  {
   "cell_type": "code",
   "execution_count": 5,
   "metadata": {},
   "outputs": [
    {
     "data": {
      "text/html": [
       "<div>\n",
       "<style scoped>\n",
       "    .dataframe tbody tr th:only-of-type {\n",
       "        vertical-align: middle;\n",
       "    }\n",
       "\n",
       "    .dataframe tbody tr th {\n",
       "        vertical-align: top;\n",
       "    }\n",
       "\n",
       "    .dataframe thead th {\n",
       "        text-align: right;\n",
       "    }\n",
       "</style>\n",
       "<table border=\"1\" class=\"dataframe\">\n",
       "  <thead>\n",
       "    <tr style=\"text-align: right;\">\n",
       "      <th></th>\n",
       "      <th>Unnamed: 0</th>\n",
       "      <th>text</th>\n",
       "      <th>toxic</th>\n",
       "    </tr>\n",
       "  </thead>\n",
       "  <tbody>\n",
       "    <tr>\n",
       "      <th>0</th>\n",
       "      <td>0</td>\n",
       "      <td>Explanation\\nWhy the edits made under my usern...</td>\n",
       "      <td>0</td>\n",
       "    </tr>\n",
       "    <tr>\n",
       "      <th>1</th>\n",
       "      <td>1</td>\n",
       "      <td>D'aww! He matches this background colour I'm s...</td>\n",
       "      <td>0</td>\n",
       "    </tr>\n",
       "    <tr>\n",
       "      <th>2</th>\n",
       "      <td>2</td>\n",
       "      <td>Hey man, I'm really not trying to edit war. It...</td>\n",
       "      <td>0</td>\n",
       "    </tr>\n",
       "    <tr>\n",
       "      <th>3</th>\n",
       "      <td>3</td>\n",
       "      <td>\"\\nMore\\nI can't make any real suggestions on ...</td>\n",
       "      <td>0</td>\n",
       "    </tr>\n",
       "    <tr>\n",
       "      <th>4</th>\n",
       "      <td>4</td>\n",
       "      <td>You, sir, are my hero. Any chance you remember...</td>\n",
       "      <td>0</td>\n",
       "    </tr>\n",
       "    <tr>\n",
       "      <th>5</th>\n",
       "      <td>5</td>\n",
       "      <td>\"\\n\\nCongratulations from me as well, use the ...</td>\n",
       "      <td>0</td>\n",
       "    </tr>\n",
       "    <tr>\n",
       "      <th>6</th>\n",
       "      <td>6</td>\n",
       "      <td>COCKSUCKER BEFORE YOU PISS AROUND ON MY WORK</td>\n",
       "      <td>1</td>\n",
       "    </tr>\n",
       "    <tr>\n",
       "      <th>7</th>\n",
       "      <td>7</td>\n",
       "      <td>Your vandalism to the Matt Shirvington article...</td>\n",
       "      <td>0</td>\n",
       "    </tr>\n",
       "    <tr>\n",
       "      <th>8</th>\n",
       "      <td>8</td>\n",
       "      <td>Sorry if the word 'nonsense' was offensive to ...</td>\n",
       "      <td>0</td>\n",
       "    </tr>\n",
       "    <tr>\n",
       "      <th>9</th>\n",
       "      <td>9</td>\n",
       "      <td>alignment on this subject and which are contra...</td>\n",
       "      <td>0</td>\n",
       "    </tr>\n",
       "  </tbody>\n",
       "</table>\n",
       "</div>"
      ],
      "text/plain": [
       "   Unnamed: 0                                               text  toxic\n",
       "0           0  Explanation\\nWhy the edits made under my usern...      0\n",
       "1           1  D'aww! He matches this background colour I'm s...      0\n",
       "2           2  Hey man, I'm really not trying to edit war. It...      0\n",
       "3           3  \"\\nMore\\nI can't make any real suggestions on ...      0\n",
       "4           4  You, sir, are my hero. Any chance you remember...      0\n",
       "5           5  \"\\n\\nCongratulations from me as well, use the ...      0\n",
       "6           6       COCKSUCKER BEFORE YOU PISS AROUND ON MY WORK      1\n",
       "7           7  Your vandalism to the Matt Shirvington article...      0\n",
       "8           8  Sorry if the word 'nonsense' was offensive to ...      0\n",
       "9           9  alignment on this subject and which are contra...      0"
      ]
     },
     "execution_count": 5,
     "metadata": {},
     "output_type": "execute_result"
    }
   ],
   "source": [
    "df_toxic.head(10)"
   ]
  },
  {
   "cell_type": "code",
   "execution_count": 6,
   "metadata": {},
   "outputs": [],
   "source": [
    "# Удаление неинформативного столбца Unnamed: 0\n",
    "df_toxic = df_toxic.drop(['Unnamed: 0'], axis=1)"
   ]
  },
  {
   "cell_type": "code",
   "execution_count": 7,
   "metadata": {},
   "outputs": [
    {
     "data": {
      "text/plain": [
       "0"
      ]
     },
     "execution_count": 7,
     "metadata": {},
     "output_type": "execute_result"
    }
   ],
   "source": [
    "# Проверка данных на дубликаты\n",
    "df_toxic.duplicated().sum()"
   ]
  },
  {
   "cell_type": "code",
   "execution_count": 8,
   "metadata": {},
   "outputs": [
    {
     "data": {
      "text/plain": [
       "0    143106\n",
       "1     16186\n",
       "Name: toxic, dtype: int64"
      ]
     },
     "execution_count": 8,
     "metadata": {},
     "output_type": "execute_result"
    }
   ],
   "source": [
    "# Посмотрим на частоту классов в целевом признаке\n",
    "df_toxic['toxic'].value_counts()"
   ]
  },
  {
   "cell_type": "code",
   "execution_count": 12,
   "metadata": {},
   "outputs": [
    {
     "data": {
      "text/html": [
       "<div>\n",
       "<style scoped>\n",
       "    .dataframe tbody tr th:only-of-type {\n",
       "        vertical-align: middle;\n",
       "    }\n",
       "\n",
       "    .dataframe tbody tr th {\n",
       "        vertical-align: top;\n",
       "    }\n",
       "\n",
       "    .dataframe thead th {\n",
       "        text-align: right;\n",
       "    }\n",
       "</style>\n",
       "<table border=\"1\" class=\"dataframe\">\n",
       "  <thead>\n",
       "    <tr style=\"text-align: right;\">\n",
       "      <th></th>\n",
       "      <th>text</th>\n",
       "      <th>toxic</th>\n",
       "    </tr>\n",
       "  </thead>\n",
       "  <tbody>\n",
       "    <tr>\n",
       "      <th>15588</th>\n",
       "      <td>You've got mail</td>\n",
       "      <td>0</td>\n",
       "    </tr>\n",
       "    <tr>\n",
       "      <th>61351</th>\n",
       "      <td>31 January 2007</td>\n",
       "      <td>0</td>\n",
       "    </tr>\n",
       "    <tr>\n",
       "      <th>54257</th>\n",
       "      <td>Speedy deletion</td>\n",
       "      <td>0</td>\n",
       "    </tr>\n",
       "    <tr>\n",
       "      <th>100520</th>\n",
       "      <td>hello cow head</td>\n",
       "      <td>1</td>\n",
       "    </tr>\n",
       "    <tr>\n",
       "      <th>3631</th>\n",
       "      <td>September 2008</td>\n",
       "      <td>0</td>\n",
       "    </tr>\n",
       "    <tr>\n",
       "      <th>20550</th>\n",
       "      <td>September 2015</td>\n",
       "      <td>0</td>\n",
       "    </tr>\n",
       "    <tr>\n",
       "      <th>10193</th>\n",
       "      <td>64.86.141.133\"</td>\n",
       "      <td>0</td>\n",
       "    </tr>\n",
       "    <tr>\n",
       "      <th>141644</th>\n",
       "      <td>Unblock Please</td>\n",
       "      <td>0</td>\n",
       "    </tr>\n",
       "    <tr>\n",
       "      <th>101306</th>\n",
       "      <td>GONE FISHING.</td>\n",
       "      <td>0</td>\n",
       "    </tr>\n",
       "    <tr>\n",
       "      <th>38743</th>\n",
       "      <td>88.104.31.21\"</td>\n",
       "      <td>0</td>\n",
       "    </tr>\n",
       "    <tr>\n",
       "      <th>93421</th>\n",
       "      <td>{{unblock|yo</td>\n",
       "      <td>0</td>\n",
       "    </tr>\n",
       "    <tr>\n",
       "      <th>150648</th>\n",
       "      <td>04:59, 22 Au</td>\n",
       "      <td>0</td>\n",
       "    </tr>\n",
       "    <tr>\n",
       "      <th>109794</th>\n",
       "      <td>{{unbloc</td>\n",
       "      <td>0</td>\n",
       "    </tr>\n",
       "    <tr>\n",
       "      <th>120868</th>\n",
       "      <td>you suck</td>\n",
       "      <td>1</td>\n",
       "    </tr>\n",
       "    <tr>\n",
       "      <th>118650</th>\n",
       "      <td>FUCK YOU</td>\n",
       "      <td>1</td>\n",
       "    </tr>\n",
       "    <tr>\n",
       "      <th>15432</th>\n",
       "      <td>Howdy!\"</td>\n",
       "      <td>0</td>\n",
       "    </tr>\n",
       "    <tr>\n",
       "      <th>137400</th>\n",
       "      <td>== \"\"\"</td>\n",
       "      <td>0</td>\n",
       "    </tr>\n",
       "    <tr>\n",
       "      <th>52336</th>\n",
       "      <td>14:53,</td>\n",
       "      <td>0</td>\n",
       "    </tr>\n",
       "    <tr>\n",
       "      <th>136820</th>\n",
       "      <td>~ J.Lo</td>\n",
       "      <td>0</td>\n",
       "    </tr>\n",
       "    <tr>\n",
       "      <th>119018</th>\n",
       "      <td>\"\"\"</td>\n",
       "      <td>1</td>\n",
       "    </tr>\n",
       "  </tbody>\n",
       "</table>\n",
       "</div>"
      ],
      "text/plain": [
       "                   text  toxic\n",
       "15588   You've got mail      0\n",
       "61351   31 January 2007      0\n",
       "54257   Speedy deletion      0\n",
       "100520   hello cow head      1\n",
       "3631     September 2008      0\n",
       "20550    September 2015      0\n",
       "10193    64.86.141.133\"      0\n",
       "141644   Unblock Please      0\n",
       "101306    GONE FISHING.      0\n",
       "38743     88.104.31.21\"      0\n",
       "93421      {{unblock|yo      0\n",
       "150648     04:59, 22 Au      0\n",
       "109794         {{unbloc      0\n",
       "120868         you suck      1\n",
       "118650         FUCK YOU      1\n",
       "15432           Howdy!\"      0\n",
       "137400           == \"\"\"      0\n",
       "52336            14:53,      0\n",
       "136820           ~ J.Lo      0\n",
       "119018              \"\"\"      1"
      ]
     },
     "execution_count": 12,
     "metadata": {},
     "output_type": "execute_result"
    }
   ],
   "source": [
    "# Длина текста\n",
    "df_toxic.iloc[df_toxic['text'].str.len().sort_values(ascending=False).tail(20).index]"
   ]
  },
  {
   "cell_type": "code",
   "execution_count": 13,
   "metadata": {},
   "outputs": [],
   "source": [
    "# Лемматизация с помощью библиотеки spacy \n",
    "nlp = spacy.load('en_core_web_sm', disable=['parser', 'ner'])\n",
    "def lemmatize(row):\n",
    "    doc = nlp(row['text'])\n",
    "    lemm_doc = \" \".join([token.lemma_ for token in doc])\n",
    "    return lemm_doc "
   ]
  },
  {
   "cell_type": "code",
   "execution_count": 14,
   "metadata": {},
   "outputs": [
    {
     "data": {
      "text/html": [
       "<div>\n",
       "<style scoped>\n",
       "    .dataframe tbody tr th:only-of-type {\n",
       "        vertical-align: middle;\n",
       "    }\n",
       "\n",
       "    .dataframe tbody tr th {\n",
       "        vertical-align: top;\n",
       "    }\n",
       "\n",
       "    .dataframe thead th {\n",
       "        text-align: right;\n",
       "    }\n",
       "</style>\n",
       "<table border=\"1\" class=\"dataframe\">\n",
       "  <thead>\n",
       "    <tr style=\"text-align: right;\">\n",
       "      <th></th>\n",
       "      <th>text</th>\n",
       "      <th>toxic</th>\n",
       "      <th>lemm_text</th>\n",
       "    </tr>\n",
       "  </thead>\n",
       "  <tbody>\n",
       "    <tr>\n",
       "      <th>0</th>\n",
       "      <td>Explanation\\nWhy the edits made under my usern...</td>\n",
       "      <td>0</td>\n",
       "      <td>Explanation \\n why the edit make under my user...</td>\n",
       "    </tr>\n",
       "    <tr>\n",
       "      <th>1</th>\n",
       "      <td>D'aww! He matches this background colour I'm s...</td>\n",
       "      <td>0</td>\n",
       "      <td>D'aww ! he match this background colour I be s...</td>\n",
       "    </tr>\n",
       "    <tr>\n",
       "      <th>2</th>\n",
       "      <td>Hey man, I'm really not trying to edit war. It...</td>\n",
       "      <td>0</td>\n",
       "      <td>hey man , I be really not try to edit war . it...</td>\n",
       "    </tr>\n",
       "    <tr>\n",
       "      <th>3</th>\n",
       "      <td>\"\\nMore\\nI can't make any real suggestions on ...</td>\n",
       "      <td>0</td>\n",
       "      <td>\" \\n More \\n I can not make any real suggestio...</td>\n",
       "    </tr>\n",
       "    <tr>\n",
       "      <th>4</th>\n",
       "      <td>You, sir, are my hero. Any chance you remember...</td>\n",
       "      <td>0</td>\n",
       "      <td>you , sir , be my hero . any chance you rememb...</td>\n",
       "    </tr>\n",
       "    <tr>\n",
       "      <th>5</th>\n",
       "      <td>\"\\n\\nCongratulations from me as well, use the ...</td>\n",
       "      <td>0</td>\n",
       "      <td>\" \\n\\n Congratulations from I as well , use th...</td>\n",
       "    </tr>\n",
       "    <tr>\n",
       "      <th>6</th>\n",
       "      <td>COCKSUCKER BEFORE YOU PISS AROUND ON MY WORK</td>\n",
       "      <td>1</td>\n",
       "      <td>COCKSUCKER before you pis around on my work</td>\n",
       "    </tr>\n",
       "    <tr>\n",
       "      <th>7</th>\n",
       "      <td>Your vandalism to the Matt Shirvington article...</td>\n",
       "      <td>0</td>\n",
       "      <td>your vandalism to the Matt Shirvington article...</td>\n",
       "    </tr>\n",
       "    <tr>\n",
       "      <th>8</th>\n",
       "      <td>Sorry if the word 'nonsense' was offensive to ...</td>\n",
       "      <td>0</td>\n",
       "      <td>sorry if the word ' nonsense ' be offensive to...</td>\n",
       "    </tr>\n",
       "    <tr>\n",
       "      <th>9</th>\n",
       "      <td>alignment on this subject and which are contra...</td>\n",
       "      <td>0</td>\n",
       "      <td>alignment on this subject and which be contrar...</td>\n",
       "    </tr>\n",
       "  </tbody>\n",
       "</table>\n",
       "</div>"
      ],
      "text/plain": [
       "                                                text  toxic  \\\n",
       "0  Explanation\\nWhy the edits made under my usern...      0   \n",
       "1  D'aww! He matches this background colour I'm s...      0   \n",
       "2  Hey man, I'm really not trying to edit war. It...      0   \n",
       "3  \"\\nMore\\nI can't make any real suggestions on ...      0   \n",
       "4  You, sir, are my hero. Any chance you remember...      0   \n",
       "5  \"\\n\\nCongratulations from me as well, use the ...      0   \n",
       "6       COCKSUCKER BEFORE YOU PISS AROUND ON MY WORK      1   \n",
       "7  Your vandalism to the Matt Shirvington article...      0   \n",
       "8  Sorry if the word 'nonsense' was offensive to ...      0   \n",
       "9  alignment on this subject and which are contra...      0   \n",
       "\n",
       "                                           lemm_text  \n",
       "0  Explanation \\n why the edit make under my user...  \n",
       "1  D'aww ! he match this background colour I be s...  \n",
       "2  hey man , I be really not try to edit war . it...  \n",
       "3  \" \\n More \\n I can not make any real suggestio...  \n",
       "4  you , sir , be my hero . any chance you rememb...  \n",
       "5  \" \\n\\n Congratulations from I as well , use th...  \n",
       "6        COCKSUCKER before you pis around on my work  \n",
       "7  your vandalism to the Matt Shirvington article...  \n",
       "8  sorry if the word ' nonsense ' be offensive to...  \n",
       "9  alignment on this subject and which be contrar...  "
      ]
     },
     "execution_count": 14,
     "metadata": {},
     "output_type": "execute_result"
    }
   ],
   "source": [
    "df_toxic['lemm_text'] = df_toxic.apply(lemmatize, axis=1)\n",
    "df_toxic.head(10)"
   ]
  },
  {
   "cell_type": "code",
   "execution_count": 15,
   "metadata": {},
   "outputs": [],
   "source": [
    "# Очищение текста от лишних символов\n",
    "\n",
    "def clear_text(row):\n",
    "    doc = re.sub(r'[^a-zA-Z ]', ' ', row['text'])\n",
    "    text_clear = \" \".join(doc.lower().split())\n",
    "    return text_clear"
   ]
  },
  {
   "cell_type": "code",
   "execution_count": 16,
   "metadata": {
    "scrolled": true
   },
   "outputs": [
    {
     "data": {
      "text/html": [
       "<div>\n",
       "<style scoped>\n",
       "    .dataframe tbody tr th:only-of-type {\n",
       "        vertical-align: middle;\n",
       "    }\n",
       "\n",
       "    .dataframe tbody tr th {\n",
       "        vertical-align: top;\n",
       "    }\n",
       "\n",
       "    .dataframe thead th {\n",
       "        text-align: right;\n",
       "    }\n",
       "</style>\n",
       "<table border=\"1\" class=\"dataframe\">\n",
       "  <thead>\n",
       "    <tr style=\"text-align: right;\">\n",
       "      <th></th>\n",
       "      <th>text</th>\n",
       "      <th>toxic</th>\n",
       "      <th>lemm_text</th>\n",
       "    </tr>\n",
       "  </thead>\n",
       "  <tbody>\n",
       "    <tr>\n",
       "      <th>0</th>\n",
       "      <td>Explanation\\nWhy the edits made under my usern...</td>\n",
       "      <td>0</td>\n",
       "      <td>explanation why the edits made under my userna...</td>\n",
       "    </tr>\n",
       "    <tr>\n",
       "      <th>1</th>\n",
       "      <td>D'aww! He matches this background colour I'm s...</td>\n",
       "      <td>0</td>\n",
       "      <td>d aww he matches this background colour i m se...</td>\n",
       "    </tr>\n",
       "    <tr>\n",
       "      <th>2</th>\n",
       "      <td>Hey man, I'm really not trying to edit war. It...</td>\n",
       "      <td>0</td>\n",
       "      <td>hey man i m really not trying to edit war it s...</td>\n",
       "    </tr>\n",
       "    <tr>\n",
       "      <th>3</th>\n",
       "      <td>\"\\nMore\\nI can't make any real suggestions on ...</td>\n",
       "      <td>0</td>\n",
       "      <td>more i can t make any real suggestions on impr...</td>\n",
       "    </tr>\n",
       "    <tr>\n",
       "      <th>4</th>\n",
       "      <td>You, sir, are my hero. Any chance you remember...</td>\n",
       "      <td>0</td>\n",
       "      <td>you sir are my hero any chance you remember wh...</td>\n",
       "    </tr>\n",
       "    <tr>\n",
       "      <th>5</th>\n",
       "      <td>\"\\n\\nCongratulations from me as well, use the ...</td>\n",
       "      <td>0</td>\n",
       "      <td>congratulations from me as well use the tools ...</td>\n",
       "    </tr>\n",
       "    <tr>\n",
       "      <th>6</th>\n",
       "      <td>COCKSUCKER BEFORE YOU PISS AROUND ON MY WORK</td>\n",
       "      <td>1</td>\n",
       "      <td>cocksucker before you piss around on my work</td>\n",
       "    </tr>\n",
       "    <tr>\n",
       "      <th>7</th>\n",
       "      <td>Your vandalism to the Matt Shirvington article...</td>\n",
       "      <td>0</td>\n",
       "      <td>your vandalism to the matt shirvington article...</td>\n",
       "    </tr>\n",
       "    <tr>\n",
       "      <th>8</th>\n",
       "      <td>Sorry if the word 'nonsense' was offensive to ...</td>\n",
       "      <td>0</td>\n",
       "      <td>sorry if the word nonsense was offensive to yo...</td>\n",
       "    </tr>\n",
       "    <tr>\n",
       "      <th>9</th>\n",
       "      <td>alignment on this subject and which are contra...</td>\n",
       "      <td>0</td>\n",
       "      <td>alignment on this subject and which are contra...</td>\n",
       "    </tr>\n",
       "  </tbody>\n",
       "</table>\n",
       "</div>"
      ],
      "text/plain": [
       "                                                text  toxic  \\\n",
       "0  Explanation\\nWhy the edits made under my usern...      0   \n",
       "1  D'aww! He matches this background colour I'm s...      0   \n",
       "2  Hey man, I'm really not trying to edit war. It...      0   \n",
       "3  \"\\nMore\\nI can't make any real suggestions on ...      0   \n",
       "4  You, sir, are my hero. Any chance you remember...      0   \n",
       "5  \"\\n\\nCongratulations from me as well, use the ...      0   \n",
       "6       COCKSUCKER BEFORE YOU PISS AROUND ON MY WORK      1   \n",
       "7  Your vandalism to the Matt Shirvington article...      0   \n",
       "8  Sorry if the word 'nonsense' was offensive to ...      0   \n",
       "9  alignment on this subject and which are contra...      0   \n",
       "\n",
       "                                           lemm_text  \n",
       "0  explanation why the edits made under my userna...  \n",
       "1  d aww he matches this background colour i m se...  \n",
       "2  hey man i m really not trying to edit war it s...  \n",
       "3  more i can t make any real suggestions on impr...  \n",
       "4  you sir are my hero any chance you remember wh...  \n",
       "5  congratulations from me as well use the tools ...  \n",
       "6       cocksucker before you piss around on my work  \n",
       "7  your vandalism to the matt shirvington article...  \n",
       "8  sorry if the word nonsense was offensive to yo...  \n",
       "9  alignment on this subject and which are contra...  "
      ]
     },
     "execution_count": 16,
     "metadata": {},
     "output_type": "execute_result"
    }
   ],
   "source": [
    "df_toxic['lemm_text'] = df_toxic.apply(clear_text, axis=1)\n",
    "df_toxic.head(10)"
   ]
  },
  {
   "cell_type": "code",
   "execution_count": 22,
   "metadata": {},
   "outputs": [
    {
     "data": {
      "text/html": [
       "<div>\n",
       "<style scoped>\n",
       "    .dataframe tbody tr th:only-of-type {\n",
       "        vertical-align: middle;\n",
       "    }\n",
       "\n",
       "    .dataframe tbody tr th {\n",
       "        vertical-align: top;\n",
       "    }\n",
       "\n",
       "    .dataframe thead th {\n",
       "        text-align: right;\n",
       "    }\n",
       "</style>\n",
       "<table border=\"1\" class=\"dataframe\">\n",
       "  <thead>\n",
       "    <tr style=\"text-align: right;\">\n",
       "      <th></th>\n",
       "      <th>text</th>\n",
       "      <th>toxic</th>\n",
       "      <th>lemm_text</th>\n",
       "    </tr>\n",
       "  </thead>\n",
       "  <tbody>\n",
       "    <tr>\n",
       "      <th>132833</th>\n",
       "      <td>True. 75.85.112.149</td>\n",
       "      <td>0</td>\n",
       "      <td>true</td>\n",
       "    </tr>\n",
       "    <tr>\n",
       "      <th>72382</th>\n",
       "      <td>Also, 128.61.126.234</td>\n",
       "      <td>0</td>\n",
       "      <td>also</td>\n",
       "    </tr>\n",
       "    <tr>\n",
       "      <th>89846</th>\n",
       "      <td>203.124.2.14]] 07:29, 27 July</td>\n",
       "      <td>0</td>\n",
       "      <td>july</td>\n",
       "    </tr>\n",
       "    <tr>\n",
       "      <th>20524</th>\n",
       "      <td>ISBN 978-5-98227-158-7</td>\n",
       "      <td>0</td>\n",
       "      <td>isbn</td>\n",
       "    </tr>\n",
       "    <tr>\n",
       "      <th>177</th>\n",
       "      <td>86.29.244.57|86.29.244.57]] 04:21, 14 May 2007</td>\n",
       "      <td>0</td>\n",
       "      <td>may</td>\n",
       "    </tr>\n",
       "    <tr>\n",
       "      <th>72859</th>\n",
       "      <td>\"32]]''''' 06:18, 4 May\"</td>\n",
       "      <td>0</td>\n",
       "      <td>may</td>\n",
       "    </tr>\n",
       "    <tr>\n",
       "      <th>12273</th>\n",
       "      <td>@]] 04:15, 2005 Jan 7</td>\n",
       "      <td>0</td>\n",
       "      <td>jan</td>\n",
       "    </tr>\n",
       "    <tr>\n",
       "      <th>150648</th>\n",
       "      <td>04:59, 22 Au</td>\n",
       "      <td>0</td>\n",
       "      <td>au</td>\n",
       "    </tr>\n",
       "    <tr>\n",
       "      <th>151107</th>\n",
       "      <td>10 - 2010 04 08 to 2010 05 12</td>\n",
       "      <td>0</td>\n",
       "      <td>to</td>\n",
       "    </tr>\n",
       "    <tr>\n",
       "      <th>53679</th>\n",
       "      <td>92.24.199.233|92.24.199.233]]</td>\n",
       "      <td>0</td>\n",
       "      <td></td>\n",
       "    </tr>\n",
       "    <tr>\n",
       "      <th>4475</th>\n",
       "      <td>1993\\n\\n1994\\n\\n1995\\n\\n1996\\n\\n1997\\n\\n1998\\n...</td>\n",
       "      <td>0</td>\n",
       "      <td></td>\n",
       "    </tr>\n",
       "    <tr>\n",
       "      <th>82541</th>\n",
       "      <td>\"\\n '''''' 2010/2013 \"</td>\n",
       "      <td>0</td>\n",
       "      <td></td>\n",
       "    </tr>\n",
       "    <tr>\n",
       "      <th>17280</th>\n",
       "      <td>~ \\n\\n68.193.147.157</td>\n",
       "      <td>0</td>\n",
       "      <td></td>\n",
       "    </tr>\n",
       "    <tr>\n",
       "      <th>119018</th>\n",
       "      <td>\"\"\"</td>\n",
       "      <td>1</td>\n",
       "      <td></td>\n",
       "    </tr>\n",
       "    <tr>\n",
       "      <th>6289</th>\n",
       "      <td>193.61.111.53  15:00</td>\n",
       "      <td>0</td>\n",
       "      <td></td>\n",
       "    </tr>\n",
       "    <tr>\n",
       "      <th>137400</th>\n",
       "      <td>== \"\"\"</td>\n",
       "      <td>0</td>\n",
       "      <td></td>\n",
       "    </tr>\n",
       "    <tr>\n",
       "      <th>38743</th>\n",
       "      <td>88.104.31.21\"</td>\n",
       "      <td>0</td>\n",
       "      <td></td>\n",
       "    </tr>\n",
       "    <tr>\n",
       "      <th>61644</th>\n",
       "      <td>\"\\n\\n 199.209.144.211  \"</td>\n",
       "      <td>0</td>\n",
       "      <td></td>\n",
       "    </tr>\n",
       "    <tr>\n",
       "      <th>10193</th>\n",
       "      <td>64.86.141.133\"</td>\n",
       "      <td>0</td>\n",
       "      <td></td>\n",
       "    </tr>\n",
       "    <tr>\n",
       "      <th>52336</th>\n",
       "      <td>14:53,</td>\n",
       "      <td>0</td>\n",
       "      <td></td>\n",
       "    </tr>\n",
       "  </tbody>\n",
       "</table>\n",
       "</div>"
      ],
      "text/plain": [
       "                                                     text  toxic lemm_text\n",
       "132833                                True. 75.85.112.149      0      true\n",
       "72382                                Also, 128.61.126.234      0      also\n",
       "89846                       203.124.2.14]] 07:29, 27 July      0      july\n",
       "20524                              ISBN 978-5-98227-158-7      0      isbn\n",
       "177        86.29.244.57|86.29.244.57]] 04:21, 14 May 2007      0       may\n",
       "72859                            \"32]]''''' 06:18, 4 May\"      0       may\n",
       "12273                               @]] 04:15, 2005 Jan 7      0       jan\n",
       "150648                                       04:59, 22 Au      0        au\n",
       "151107                      10 - 2010 04 08 to 2010 05 12      0        to\n",
       "53679                       92.24.199.233|92.24.199.233]]      0          \n",
       "4475    1993\\n\\n1994\\n\\n1995\\n\\n1996\\n\\n1997\\n\\n1998\\n...      0          \n",
       "82541                              \"\\n '''''' 2010/2013 \"      0          \n",
       "17280                                ~ \\n\\n68.193.147.157      0          \n",
       "119018                                                \"\"\"      1          \n",
       "6289                                 193.61.111.53  15:00      0          \n",
       "137400                                             == \"\"\"      0          \n",
       "38743                                       88.104.31.21\"      0          \n",
       "61644                            \"\\n\\n 199.209.144.211  \"      0          \n",
       "10193                                      64.86.141.133\"      0          \n",
       "52336                                              14:53,      0          "
      ]
     },
     "execution_count": 22,
     "metadata": {},
     "output_type": "execute_result"
    }
   ],
   "source": [
    "df_toxic.iloc[df_toxic['lemm_text'].str.len().sort_values(ascending=False).tail(20).index]"
   ]
  },
  {
   "cell_type": "code",
   "execution_count": 62,
   "metadata": {},
   "outputs": [],
   "source": [
    "# Cоздание корпуса твитов\n",
    "corpus = df_toxic['lemm_text']"
   ]
  },
  {
   "cell_type": "code",
   "execution_count": 63,
   "metadata": {},
   "outputs": [
    {
     "name": "stderr",
     "output_type": "stream",
     "text": [
      "[nltk_data] Downloading package stopwords to /home/jovyan/nltk_data...\n",
      "[nltk_data]   Package stopwords is already up-to-date!\n"
     ]
    }
   ],
   "source": [
    "# Указание стоп-слов\n",
    "nltk.download('stopwords')\n",
    "stopwords = set(nltk_stopwords.words('english'))"
   ]
  },
  {
   "cell_type": "code",
   "execution_count": 54,
   "metadata": {},
   "outputs": [],
   "source": [
    "# Выделение целевого признака в датасете\n",
    "target = df_toxic['toxic']"
   ]
  },
  {
   "cell_type": "code",
   "execution_count": 56,
   "metadata": {},
   "outputs": [],
   "source": [
    "# Разделение выборки на train и test \n",
    "corpus_train, corpus_test, target_train, target_test = train_test_split(\n",
    "    corpus, target, test_size=0.2, random_state=STATE)"
   ]
  },
  {
   "cell_type": "markdown",
   "metadata": {},
   "source": [
    "## Обучение"
   ]
  },
  {
   "cell_type": "code",
   "execution_count": 75,
   "metadata": {},
   "outputs": [
    {
     "name": "stdout",
     "output_type": "stream",
     "text": [
      "Fitting 3 folds for each of 10 candidates, totalling 30 fits\n",
      "[CV 1/3; 1/10] START logistic__C=1.023292992280754..............................\n",
      "[CV 1/3; 1/10] END ............logistic__C=1.023292992280754; total time=  37.0s\n",
      "[CV 2/3; 1/10] START logistic__C=1.023292992280754..............................\n",
      "[CV 2/3; 1/10] END ............logistic__C=1.023292992280754; total time=  51.6s\n",
      "[CV 3/3; 1/10] START logistic__C=1.023292992280754..............................\n",
      "[CV 3/3; 1/10] END ............logistic__C=1.023292992280754; total time=  45.3s\n",
      "[CV 1/3; 2/10] START logistic__C=366812.76823930326.............................\n",
      "[CV 1/3; 2/10] END ...........logistic__C=366812.76823930326; total time=32.8min\n",
      "[CV 2/3; 2/10] START logistic__C=366812.76823930326.............................\n",
      "[CV 2/3; 2/10] END ...........logistic__C=366812.76823930326; total time=28.8min\n",
      "[CV 3/3; 2/10] START logistic__C=366812.76823930326.............................\n",
      "[CV 3/3; 2/10] END ...........logistic__C=366812.76823930326; total time=39.0min\n",
      "[CV 1/3; 3/10] START logistic__C=131488838444.48807.............................\n",
      "[CV 1/3; 3/10] END ...........logistic__C=131488838444.48807; total time=17.0min\n",
      "[CV 2/3; 3/10] START logistic__C=131488838444.48807.............................\n",
      "[CV 2/3; 3/10] END ...........logistic__C=131488838444.48807; total time= 8.1min\n",
      "[CV 3/3; 3/10] START logistic__C=131488838444.48807.............................\n",
      "[CV 3/3; 3/10] END ...........logistic__C=131488838444.48807; total time=47.1min\n",
      "[CV 1/3; 4/10] START logistic__C=4.713389536157429e+16..........................\n",
      "[CV 1/3; 4/10] END ........logistic__C=4.713389536157429e+16; total time=15.3min\n",
      "[CV 2/3; 4/10] START logistic__C=4.713389536157429e+16..........................\n",
      "[CV 2/3; 4/10] END ........logistic__C=4.713389536157429e+16; total time= 7.4min\n",
      "[CV 3/3; 4/10] START logistic__C=4.713389536157429e+16..........................\n",
      "[CV 3/3; 4/10] END ........logistic__C=4.713389536157429e+16; total time=26.6min\n",
      "[CV 1/3; 5/10] START logistic__C=1.6895761786607847e+22.........................\n",
      "[CV 1/3; 5/10] END .......logistic__C=1.6895761786607847e+22; total time=19.0min\n",
      "[CV 2/3; 5/10] START logistic__C=1.6895761786607847e+22.........................\n",
      "[CV 2/3; 5/10] END .......logistic__C=1.6895761786607847e+22; total time= 6.8min\n",
      "[CV 3/3; 5/10] START logistic__C=1.6895761786607847e+22.........................\n",
      "[CV 3/3; 5/10] END .......logistic__C=1.6895761786607847e+22; total time=27.2min\n",
      "[CV 1/3; 6/10] START logistic__C=6.056506982075654e+27..........................\n",
      "[CV 1/3; 6/10] END ........logistic__C=6.056506982075654e+27; total time=17.2min\n",
      "[CV 2/3; 6/10] START logistic__C=6.056506982075654e+27..........................\n",
      "[CV 2/3; 6/10] END ........logistic__C=6.056506982075654e+27; total time= 6.8min\n",
      "[CV 3/3; 6/10] START logistic__C=6.056506982075654e+27..........................\n",
      "[CV 3/3; 6/10] END ........logistic__C=6.056506982075654e+27; total time=46.8min\n",
      "[CV 1/3; 7/10] START logistic__C=2.1710342088869512e+33.........................\n",
      "[CV 1/3; 7/10] END .......logistic__C=2.1710342088869512e+33; total time=13.1min\n",
      "[CV 2/3; 7/10] START logistic__C=2.1710342088869512e+33.........................\n",
      "[CV 2/3; 7/10] END .......logistic__C=2.1710342088869512e+33; total time= 6.8min\n",
      "[CV 3/3; 7/10] START logistic__C=2.1710342088869512e+33.........................\n",
      "[CV 3/3; 7/10] END .......logistic__C=2.1710342088869512e+33; total time=47.1min\n",
      "[CV 1/3; 8/10] START logistic__C=7.782356315458516e+38..........................\n",
      "[CV 1/3; 8/10] END ........logistic__C=7.782356315458516e+38; total time=13.0min\n",
      "[CV 2/3; 8/10] START logistic__C=7.782356315458516e+38..........................\n",
      "[CV 2/3; 8/10] END ........logistic__C=7.782356315458516e+38; total time= 7.2min\n",
      "[CV 3/3; 8/10] START logistic__C=7.782356315458516e+38..........................\n",
      "[CV 3/3; 8/10] END ........logistic__C=7.782356315458516e+38; total time=48.0min\n",
      "[CV 1/3; 9/10] START logistic__C=2.7896874942291504e+44.........................\n",
      "[CV 1/3; 9/10] END .......logistic__C=2.7896874942291504e+44; total time=13.2min\n",
      "[CV 2/3; 9/10] START logistic__C=2.7896874942291504e+44.........................\n",
      "[CV 2/3; 9/10] END .......logistic__C=2.7896874942291504e+44; total time= 7.1min\n",
      "[CV 3/3; 9/10] START logistic__C=2.7896874942291504e+44.........................\n",
      "[CV 3/3; 9/10] END .......logistic__C=2.7896874942291504e+44; total time=50.3min\n",
      "[CV 1/3; 10/10] START logistic__C=1e+50.........................................\n",
      "[CV 1/3; 10/10] END .......................logistic__C=1e+50; total time=14.0min\n",
      "[CV 2/3; 10/10] START logistic__C=1e+50.........................................\n",
      "[CV 2/3; 10/10] END .......................logistic__C=1e+50; total time= 7.0min\n",
      "[CV 3/3; 10/10] START logistic__C=1e+50.........................................\n",
      "[CV 3/3; 10/10] END .......................logistic__C=1e+50; total time=52.3min\n",
      "0.7488280232288868\n",
      "CPU times: user 3h 21min, sys: 7h 7min, total: 10h 28min\n",
      "Wall time: 10h 28min 40s\n"
     ]
    }
   ],
   "source": [
    "%%time\n",
    "# Обучение модели логистической регрессии\n",
    "\n",
    "logistic = LogisticRegression(max_iter=10000, class_weight='balanced', random_state=STATE)\n",
    "pipe_log = Pipeline([\n",
    "    ('vect', TfidfVectorizer(stop_words=stopwords)),\n",
    "    ('logistic', logistic)\n",
    "])\n",
    "param_grid = {'logistic__C': np.logspace(0.01, 50, 10)}\n",
    "grid_log = GridSearchCV(\n",
    "    estimator=pipe_log, param_grid=param_grid, scoring='f1', cv=3, n_jobs=-1, verbose=10\n",
    ")\n",
    "grid_log.fit(corpus_train, target_train)\n",
    "print(grid_log.best_score_)"
   ]
  },
  {
   "cell_type": "code",
   "execution_count": 77,
   "metadata": {},
   "outputs": [
    {
     "data": {
      "text/plain": [
       "0.8430936995153474"
      ]
     },
     "execution_count": 77,
     "metadata": {},
     "output_type": "execute_result"
    }
   ],
   "source": [
    "pred_train = grid_log.predict(corpus_train)\n",
    "f1 = f1_score(target_train, pred_train)\n",
    "f1"
   ]
  },
  {
   "cell_type": "code",
   "execution_count": 88,
   "metadata": {
    "scrolled": true
   },
   "outputs": [
    {
     "name": "stdout",
     "output_type": "stream",
     "text": [
      "Fitting 3 folds for each of 9 candidates, totalling 27 fits\n",
      "[CV 1/3; 1/9] START lgbm__max_depth=2, lgbm__n_estimators=20....................\n",
      "[CV 1/3; 1/9] END ..lgbm__max_depth=2, lgbm__n_estimators=20; total time=  38.5s\n",
      "[CV 2/3; 1/9] START lgbm__max_depth=2, lgbm__n_estimators=20....................\n",
      "[CV 2/3; 1/9] END ..lgbm__max_depth=2, lgbm__n_estimators=20; total time=  37.6s\n",
      "[CV 3/3; 1/9] START lgbm__max_depth=2, lgbm__n_estimators=20....................\n",
      "[CV 3/3; 1/9] END ..lgbm__max_depth=2, lgbm__n_estimators=20; total time=  38.1s\n",
      "[CV 1/3; 2/9] START lgbm__max_depth=2, lgbm__n_estimators=40....................\n",
      "[CV 1/3; 2/9] END ..lgbm__max_depth=2, lgbm__n_estimators=40; total time=  42.8s\n",
      "[CV 2/3; 2/9] START lgbm__max_depth=2, lgbm__n_estimators=40....................\n",
      "[CV 2/3; 2/9] END ..lgbm__max_depth=2, lgbm__n_estimators=40; total time=  47.6s\n",
      "[CV 3/3; 2/9] START lgbm__max_depth=2, lgbm__n_estimators=40....................\n",
      "[CV 3/3; 2/9] END ..lgbm__max_depth=2, lgbm__n_estimators=40; total time=  40.7s\n",
      "[CV 1/3; 3/9] START lgbm__max_depth=2, lgbm__n_estimators=60....................\n",
      "[CV 1/3; 3/9] END ..lgbm__max_depth=2, lgbm__n_estimators=60; total time=  41.0s\n",
      "[CV 2/3; 3/9] START lgbm__max_depth=2, lgbm__n_estimators=60....................\n",
      "[CV 2/3; 3/9] END ..lgbm__max_depth=2, lgbm__n_estimators=60; total time=  43.5s\n",
      "[CV 3/3; 3/9] START lgbm__max_depth=2, lgbm__n_estimators=60....................\n",
      "[CV 3/3; 3/9] END ..lgbm__max_depth=2, lgbm__n_estimators=60; total time=  44.2s\n",
      "[CV 1/3; 4/9] START lgbm__max_depth=4, lgbm__n_estimators=20....................\n",
      "[CV 1/3; 4/9] END ..lgbm__max_depth=4, lgbm__n_estimators=20; total time=  45.0s\n",
      "[CV 2/3; 4/9] START lgbm__max_depth=4, lgbm__n_estimators=20....................\n",
      "[CV 2/3; 4/9] END ..lgbm__max_depth=4, lgbm__n_estimators=20; total time=  42.9s\n",
      "[CV 3/3; 4/9] START lgbm__max_depth=4, lgbm__n_estimators=20....................\n",
      "[CV 3/3; 4/9] END ..lgbm__max_depth=4, lgbm__n_estimators=20; total time=  39.1s\n",
      "[CV 1/3; 5/9] START lgbm__max_depth=4, lgbm__n_estimators=40....................\n",
      "[CV 1/3; 5/9] END ..lgbm__max_depth=4, lgbm__n_estimators=40; total time=  40.8s\n",
      "[CV 2/3; 5/9] START lgbm__max_depth=4, lgbm__n_estimators=40....................\n",
      "[CV 2/3; 5/9] END ..lgbm__max_depth=4, lgbm__n_estimators=40; total time=  38.0s\n",
      "[CV 3/3; 5/9] START lgbm__max_depth=4, lgbm__n_estimators=40....................\n",
      "[CV 3/3; 5/9] END ..lgbm__max_depth=4, lgbm__n_estimators=40; total time=  39.9s\n",
      "[CV 1/3; 6/9] START lgbm__max_depth=4, lgbm__n_estimators=60....................\n",
      "[CV 1/3; 6/9] END ..lgbm__max_depth=4, lgbm__n_estimators=60; total time=  42.2s\n",
      "[CV 2/3; 6/9] START lgbm__max_depth=4, lgbm__n_estimators=60....................\n",
      "[CV 2/3; 6/9] END ..lgbm__max_depth=4, lgbm__n_estimators=60; total time=  42.5s\n",
      "[CV 3/3; 6/9] START lgbm__max_depth=4, lgbm__n_estimators=60....................\n",
      "[CV 3/3; 6/9] END ..lgbm__max_depth=4, lgbm__n_estimators=60; total time=  41.2s\n",
      "[CV 1/3; 7/9] START lgbm__max_depth=6, lgbm__n_estimators=20....................\n",
      "[CV 1/3; 7/9] END ..lgbm__max_depth=6, lgbm__n_estimators=20; total time=  38.8s\n",
      "[CV 2/3; 7/9] START lgbm__max_depth=6, lgbm__n_estimators=20....................\n",
      "[CV 2/3; 7/9] END ..lgbm__max_depth=6, lgbm__n_estimators=20; total time=  36.8s\n",
      "[CV 3/3; 7/9] START lgbm__max_depth=6, lgbm__n_estimators=20....................\n",
      "[CV 3/3; 7/9] END ..lgbm__max_depth=6, lgbm__n_estimators=20; total time=  38.7s\n",
      "[CV 1/3; 8/9] START lgbm__max_depth=6, lgbm__n_estimators=40....................\n",
      "[CV 1/3; 8/9] END ..lgbm__max_depth=6, lgbm__n_estimators=40; total time=  43.1s\n",
      "[CV 2/3; 8/9] START lgbm__max_depth=6, lgbm__n_estimators=40....................\n",
      "[CV 2/3; 8/9] END ..lgbm__max_depth=6, lgbm__n_estimators=40; total time=  42.7s\n",
      "[CV 3/3; 8/9] START lgbm__max_depth=6, lgbm__n_estimators=40....................\n",
      "[CV 3/3; 8/9] END ..lgbm__max_depth=6, lgbm__n_estimators=40; total time=  43.2s\n",
      "[CV 1/3; 9/9] START lgbm__max_depth=6, lgbm__n_estimators=60....................\n",
      "[CV 1/3; 9/9] END ..lgbm__max_depth=6, lgbm__n_estimators=60; total time=  50.2s\n",
      "[CV 2/3; 9/9] START lgbm__max_depth=6, lgbm__n_estimators=60....................\n",
      "[CV 2/3; 9/9] END ..lgbm__max_depth=6, lgbm__n_estimators=60; total time=  49.2s\n",
      "[CV 3/3; 9/9] START lgbm__max_depth=6, lgbm__n_estimators=60....................\n",
      "[CV 3/3; 9/9] END ..lgbm__max_depth=6, lgbm__n_estimators=60; total time=  56.2s\n",
      "0.604941447556168\n",
      "CPU times: user 20min 42s, sys: 0 ns, total: 20min 42s\n",
      "Wall time: 20min 44s\n"
     ]
    }
   ],
   "source": [
    "%%time\n",
    "# Обучение модели LightGBM\n",
    "\n",
    "lgbm = LGBMClassifier(boosting_type='gbdt', random_state=STATE) \n",
    "pipe_lgbm = Pipeline([\n",
    "    ('vect', TfidfVectorizer(stop_words=stopwords)),\n",
    "    ('lgbm', lgbm)\n",
    "])\n",
    "param_grid = {'lgbm__max_depth': [2, 4, 6],\n",
    "             'lgbm__n_estimators': [20, 40, 60]}\n",
    "grid_lgbm = GridSearchCV(\n",
    "    estimator=pipe_lgbm, param_grid=param_grid, scoring='f1', cv=3, n_jobs=-1, verbose=10\n",
    ")\n",
    "grid_lgbm.fit(corpus_train, target_train)\n",
    "print(grid_lgbm.best_score_)"
   ]
  },
  {
   "cell_type": "code",
   "execution_count": 89,
   "metadata": {},
   "outputs": [
    {
     "data": {
      "text/plain": [
       "0.6194167589516426"
      ]
     },
     "execution_count": 89,
     "metadata": {},
     "output_type": "execute_result"
    }
   ],
   "source": [
    "pred_train = grid_lgbm.predict(corpus_train)\n",
    "f1 = f1_score(target_train, pred_train)\n",
    "f1"
   ]
  },
  {
   "cell_type": "markdown",
   "metadata": {},
   "source": [
    "Обучила 2 модели. Регрессия дала результат f1 = 0.84. Модель LGBM показала себя хуже, здесь f1 = 0.61. "
   ]
  },
  {
   "cell_type": "code",
   "execution_count": 90,
   "metadata": {},
   "outputs": [
    {
     "data": {
      "text/plain": [
       "0.7514592099904981"
      ]
     },
     "execution_count": 90,
     "metadata": {},
     "output_type": "execute_result"
    }
   ],
   "source": [
    "# Тестирование модели логистической регрессии\n",
    "pred_train = grid_log.predict(corpus_test)\n",
    "f1 = f1_score(target_test, pred_train)\n",
    "f1"
   ]
  },
  {
   "cell_type": "markdown",
   "metadata": {},
   "source": [
    "## Выводы"
   ]
  },
  {
   "cell_type": "markdown",
   "metadata": {},
   "source": [
    "ВЫВОДЫ: Я выгрузила, проанализировала и подготовила данные к дальнейшей работе, а именно провела лемматизацию и очистку текста, загрузку стоп-слов. Далее обучила 2 модели - логистическую регрессию и модель LGBM. Модель логистической регрессии и на трейне, и на тесте показала нужные значения метрики f1 выше 0,75. "
   ]
  }
 ],
 "metadata": {
  "ExecuteTimeLog": [
   {
    "duration": 2370,
    "start_time": "2023-02-27T17:25:40.550Z"
   },
   {
    "duration": 2485,
    "start_time": "2023-02-27T17:27:07.917Z"
   },
   {
    "duration": 37,
    "start_time": "2023-02-27T17:27:21.736Z"
   },
   {
    "duration": 15,
    "start_time": "2023-02-27T17:27:40.725Z"
   },
   {
    "duration": 7,
    "start_time": "2023-02-27T17:27:46.157Z"
   },
   {
    "duration": 263,
    "start_time": "2023-02-27T17:33:17.055Z"
   },
   {
    "duration": 3,
    "start_time": "2023-02-27T17:47:48.406Z"
   },
   {
    "duration": 265,
    "start_time": "2023-02-27T17:48:39.261Z"
   },
   {
    "duration": 164,
    "start_time": "2023-02-27T17:50:14.607Z"
   },
   {
    "duration": 4,
    "start_time": "2023-02-27T18:04:51.286Z"
   },
   {
    "duration": 8360,
    "start_time": "2023-02-27T18:05:39.206Z"
   },
   {
    "duration": 4,
    "start_time": "2023-02-27T18:06:21.535Z"
   },
   {
    "duration": 2,
    "start_time": "2023-02-27T18:08:43.737Z"
   },
   {
    "duration": 20,
    "start_time": "2023-02-27T19:06:17.072Z"
   },
   {
    "duration": 3,
    "start_time": "2023-02-27T19:19:20.362Z"
   },
   {
    "duration": 885,
    "start_time": "2023-02-27T19:19:31.327Z"
   },
   {
    "duration": 2693,
    "start_time": "2023-02-27T19:57:32.424Z"
   },
   {
    "duration": 626,
    "start_time": "2023-02-27T20:16:30.647Z"
   },
   {
    "duration": 752,
    "start_time": "2023-02-27T20:16:47.715Z"
   },
   {
    "duration": 521,
    "start_time": "2023-02-27T20:18:12.353Z"
   },
   {
    "duration": 1154852,
    "start_time": "2023-02-27T20:19:44.729Z"
   },
   {
    "duration": 545,
    "start_time": "2023-02-27T20:39:22.588Z"
   },
   {
    "duration": 1179679,
    "start_time": "2023-02-27T20:40:06.256Z"
   },
   {
    "duration": 3,
    "start_time": "2023-02-27T20:59:45.938Z"
   },
   {
    "duration": 13,
    "start_time": "2023-02-28T08:26:24.016Z"
   },
   {
    "duration": 4614,
    "start_time": "2023-02-28T08:53:27.918Z"
   },
   {
    "duration": 3315,
    "start_time": "2023-02-28T08:53:32.534Z"
   },
   {
    "duration": 36,
    "start_time": "2023-02-28T08:53:35.850Z"
   },
   {
    "duration": 25,
    "start_time": "2023-02-28T08:53:35.889Z"
   },
   {
    "duration": 252,
    "start_time": "2023-02-28T08:53:35.916Z"
   },
   {
    "duration": 3,
    "start_time": "2023-02-28T08:53:36.170Z"
   },
   {
    "duration": 511,
    "start_time": "2023-02-28T08:53:36.175Z"
   },
   {
    "duration": 1153278,
    "start_time": "2023-02-28T08:53:36.687Z"
   },
   {
    "duration": 3,
    "start_time": "2023-02-28T09:12:49.967Z"
   },
   {
    "duration": 351,
    "start_time": "2023-02-28T09:12:49.972Z"
   },
   {
    "duration": 0,
    "start_time": "2023-02-28T09:12:50.327Z"
   },
   {
    "duration": 0,
    "start_time": "2023-02-28T09:12:50.328Z"
   },
   {
    "duration": 0,
    "start_time": "2023-02-28T09:12:50.329Z"
   },
   {
    "duration": 0,
    "start_time": "2023-02-28T09:12:50.331Z"
   },
   {
    "duration": 93,
    "start_time": "2023-02-28T09:21:01.537Z"
   },
   {
    "duration": 4,
    "start_time": "2023-02-28T09:21:37.549Z"
   },
   {
    "duration": 4,
    "start_time": "2023-02-28T09:21:43.709Z"
   },
   {
    "duration": 56,
    "start_time": "2023-02-28T09:21:47.711Z"
   },
   {
    "duration": 3,
    "start_time": "2023-02-28T09:26:10.553Z"
   },
   {
    "duration": 62,
    "start_time": "2023-02-28T09:26:15.933Z"
   },
   {
    "duration": 3,
    "start_time": "2023-02-28T09:26:24.898Z"
   },
   {
    "duration": 3300,
    "start_time": "2023-02-28T09:26:28.353Z"
   },
   {
    "duration": 157,
    "start_time": "2023-02-28T09:32:35.092Z"
   },
   {
    "duration": 8407,
    "start_time": "2023-02-28T09:32:36.699Z"
   },
   {
    "duration": 3,
    "start_time": "2023-02-28T09:32:48.042Z"
   },
   {
    "duration": 3,
    "start_time": "2023-02-28T09:32:50.858Z"
   },
   {
    "duration": 8451,
    "start_time": "2023-02-28T19:19:33.858Z"
   },
   {
    "duration": 3,
    "start_time": "2023-02-28T19:19:42.311Z"
   },
   {
    "duration": 3464,
    "start_time": "2023-02-28T19:19:42.315Z"
   },
   {
    "duration": 32,
    "start_time": "2023-02-28T19:19:45.781Z"
   },
   {
    "duration": 19,
    "start_time": "2023-02-28T19:19:45.815Z"
   },
   {
    "duration": 262,
    "start_time": "2023-02-28T19:19:45.839Z"
   },
   {
    "duration": 717,
    "start_time": "2023-02-28T19:19:46.104Z"
   },
   {
    "duration": 1214741,
    "start_time": "2023-02-28T19:19:46.823Z"
   },
   {
    "duration": 5,
    "start_time": "2023-02-28T19:40:01.565Z"
   },
   {
    "duration": 3236,
    "start_time": "2023-02-28T19:40:01.572Z"
   },
   {
    "duration": 3,
    "start_time": "2023-02-28T19:40:04.810Z"
   },
   {
    "duration": 171,
    "start_time": "2023-02-28T19:40:04.815Z"
   },
   {
    "duration": 7396,
    "start_time": "2023-02-28T19:40:04.988Z"
   },
   {
    "duration": 4,
    "start_time": "2023-02-28T19:40:12.386Z"
   },
   {
    "duration": 18,
    "start_time": "2023-02-28T19:40:12.392Z"
   },
   {
    "duration": 6,
    "start_time": "2023-02-28T19:40:12.413Z"
   },
   {
    "duration": 59,
    "start_time": "2023-02-28T19:40:12.421Z"
   },
   {
    "duration": 8,
    "start_time": "2023-02-28T19:52:51.100Z"
   },
   {
    "duration": 34,
    "start_time": "2023-02-28T20:25:51.867Z"
   },
   {
    "duration": 30,
    "start_time": "2023-02-28T20:26:21.946Z"
   },
   {
    "duration": 27,
    "start_time": "2023-02-28T20:27:04.100Z"
   },
   {
    "duration": 30,
    "start_time": "2023-02-28T20:27:50.734Z"
   },
   {
    "duration": 23,
    "start_time": "2023-02-28T20:28:37.271Z"
   },
   {
    "duration": 28,
    "start_time": "2023-02-28T20:29:04.562Z"
   },
   {
    "duration": 413,
    "start_time": "2023-02-28T20:29:28.674Z"
   },
   {
    "duration": 97,
    "start_time": "2023-02-28T20:33:20.360Z"
   },
   {
    "duration": 101,
    "start_time": "2023-02-28T20:36:34.682Z"
   },
   {
    "duration": 90,
    "start_time": "2023-02-28T20:37:02.272Z"
   },
   {
    "duration": 88,
    "start_time": "2023-02-28T20:38:08.107Z"
   },
   {
    "duration": 418,
    "start_time": "2023-02-28T20:40:05.637Z"
   },
   {
    "duration": 165,
    "start_time": "2023-02-28T20:40:23.689Z"
   },
   {
    "duration": 5,
    "start_time": "2023-02-28T20:41:20.412Z"
   },
   {
    "duration": 87,
    "start_time": "2023-02-28T20:41:26.112Z"
   },
   {
    "duration": 7304,
    "start_time": "2023-02-28T20:43:01.785Z"
   },
   {
    "duration": 4,
    "start_time": "2023-02-28T20:43:10.650Z"
   },
   {
    "duration": 3,
    "start_time": "2023-02-28T20:43:12.102Z"
   },
   {
    "duration": 3,
    "start_time": "2023-02-28T20:43:15.142Z"
   },
   {
    "duration": 44,
    "start_time": "2023-02-28T20:43:15.950Z"
   },
   {
    "duration": 109,
    "start_time": "2023-02-28T20:43:22.119Z"
   },
   {
    "duration": 93,
    "start_time": "2023-02-28T20:47:01.066Z"
   },
   {
    "duration": 505,
    "start_time": "2023-02-28T20:49:20.349Z"
   },
   {
    "duration": 7190,
    "start_time": "2023-02-28T20:53:00.334Z"
   },
   {
    "duration": 536,
    "start_time": "2023-02-28T20:53:10.829Z"
   },
   {
    "duration": 31,
    "start_time": "2023-02-28T21:15:56.299Z"
   },
   {
    "duration": 7050,
    "start_time": "2023-02-28T21:15:57.483Z"
   },
   {
    "duration": 4,
    "start_time": "2023-02-28T21:16:05.898Z"
   },
   {
    "duration": 501,
    "start_time": "2023-02-28T21:16:12.676Z"
   },
   {
    "duration": 523,
    "start_time": "2023-02-28T21:18:03.908Z"
   },
   {
    "duration": 510,
    "start_time": "2023-02-28T21:32:06.469Z"
   },
   {
    "duration": 4,
    "start_time": "2023-02-28T21:32:54.263Z"
   },
   {
    "duration": 3112,
    "start_time": "2023-02-28T21:32:58.168Z"
   },
   {
    "duration": 3,
    "start_time": "2023-02-28T21:33:05.963Z"
   },
   {
    "duration": 138,
    "start_time": "2023-02-28T21:33:07.141Z"
   },
   {
    "duration": 3,
    "start_time": "2023-02-28T21:33:10.588Z"
   },
   {
    "duration": 3,
    "start_time": "2023-02-28T21:33:11.492Z"
   },
   {
    "duration": 46,
    "start_time": "2023-02-28T21:33:12.092Z"
   },
   {
    "duration": 6854,
    "start_time": "2023-02-28T21:33:12.863Z"
   },
   {
    "duration": 3,
    "start_time": "2023-02-28T21:33:21.646Z"
   },
   {
    "duration": 533,
    "start_time": "2023-02-28T21:33:29.463Z"
   },
   {
    "duration": 4,
    "start_time": "2023-02-28T21:41:37.902Z"
   },
   {
    "duration": 2951,
    "start_time": "2023-02-28T21:41:42.343Z"
   },
   {
    "duration": 2,
    "start_time": "2023-02-28T21:41:50.519Z"
   },
   {
    "duration": 4,
    "start_time": "2023-02-28T21:41:51.780Z"
   },
   {
    "duration": 13,
    "start_time": "2023-02-28T21:47:03.226Z"
   },
   {
    "duration": 365,
    "start_time": "2023-02-28T21:47:12.539Z"
   },
   {
    "duration": 9,
    "start_time": "2023-02-28T21:47:26.163Z"
   },
   {
    "duration": 4,
    "start_time": "2023-02-28T22:10:17.934Z"
   },
   {
    "duration": 111,
    "start_time": "2023-02-28T22:10:36.825Z"
   },
   {
    "duration": 510,
    "start_time": "2023-02-28T22:12:49.196Z"
   },
   {
    "duration": 487,
    "start_time": "2023-02-28T22:21:05.625Z"
   },
   {
    "duration": 44767,
    "start_time": "2023-02-28T22:21:37.156Z"
   },
   {
    "duration": 395800,
    "start_time": "2023-02-28T22:22:34.660Z"
   },
   {
    "duration": 90113,
    "start_time": "2023-02-28T22:29:14.709Z"
   },
   {
    "duration": 1764815,
    "start_time": "2023-02-28T22:31:06.125Z"
   },
   {
    "duration": 37720065,
    "start_time": "2023-02-28T23:00:43.068Z"
   },
   {
    "duration": 204,
    "start_time": "2023-03-01T09:29:23.142Z"
   },
   {
    "duration": 5373,
    "start_time": "2023-03-01T09:32:41.075Z"
   },
   {
    "duration": 66,
    "start_time": "2023-03-01T09:32:52.257Z"
   },
   {
    "duration": 96,
    "start_time": "2023-03-01T09:33:17.762Z"
   },
   {
    "duration": 4,
    "start_time": "2023-03-01T09:33:48.739Z"
   },
   {
    "duration": 94,
    "start_time": "2023-03-01T09:34:02.850Z"
   },
   {
    "duration": 82,
    "start_time": "2023-03-01T09:34:32.732Z"
   },
   {
    "duration": 87,
    "start_time": "2023-03-01T09:37:43.340Z"
   },
   {
    "duration": 1357032,
    "start_time": "2023-03-01T09:38:20.740Z"
   },
   {
    "duration": 6336,
    "start_time": "2023-03-01T10:01:11.339Z"
   },
   {
    "duration": 74561,
    "start_time": "2023-03-01T10:43:14.382Z"
   },
   {
    "duration": 6,
    "start_time": "2023-03-01T10:45:30.453Z"
   },
   {
    "duration": 1244344,
    "start_time": "2023-03-01T10:45:45.145Z"
   },
   {
    "duration": 9547,
    "start_time": "2023-03-01T11:08:00.088Z"
   },
   {
    "duration": 1416,
    "start_time": "2023-03-01T11:11:41.712Z"
   },
   {
    "duration": 68,
    "start_time": "2023-03-01T13:34:31.753Z"
   },
   {
    "duration": 53,
    "start_time": "2023-03-01T13:52:20.435Z"
   },
   {
    "duration": 49,
    "start_time": "2023-03-01T13:52:56.234Z"
   },
   {
    "duration": 51,
    "start_time": "2023-03-01T13:53:50.266Z"
   },
   {
    "duration": 57,
    "start_time": "2023-03-01T13:53:54.951Z"
   },
   {
    "duration": 6496,
    "start_time": "2023-03-01T19:56:32.340Z"
   },
   {
    "duration": 4,
    "start_time": "2023-03-01T19:56:38.838Z"
   },
   {
    "duration": 2253,
    "start_time": "2023-03-01T19:56:38.843Z"
   },
   {
    "duration": 36,
    "start_time": "2023-03-01T19:56:41.097Z"
   },
   {
    "duration": 20,
    "start_time": "2023-03-01T19:56:41.135Z"
   },
   {
    "duration": 6,
    "start_time": "2023-03-01T20:00:23.311Z"
   },
   {
    "duration": 11,
    "start_time": "2023-03-01T20:00:26.716Z"
   },
   {
    "duration": 7,
    "start_time": "2023-03-01T20:00:31.506Z"
   },
   {
    "duration": 119,
    "start_time": "2023-03-01T20:00:35.549Z"
   },
   {
    "duration": 99,
    "start_time": "2023-03-01T20:00:47.419Z"
   },
   {
    "duration": 390,
    "start_time": "2023-03-01T20:01:10.547Z"
   },
   {
    "duration": 88,
    "start_time": "2023-03-01T20:01:25.993Z"
   },
   {
    "duration": 105,
    "start_time": "2023-03-01T20:02:20.677Z"
   },
   {
    "duration": 102,
    "start_time": "2023-03-01T20:02:34.560Z"
   },
   {
    "duration": 97,
    "start_time": "2023-03-01T20:02:41.814Z"
   },
   {
    "duration": 4,
    "start_time": "2023-03-01T20:03:00.662Z"
   },
   {
    "duration": 120,
    "start_time": "2023-03-01T20:03:08.322Z"
   },
   {
    "duration": 95,
    "start_time": "2023-03-01T20:03:19.104Z"
   },
   {
    "duration": 121,
    "start_time": "2023-03-01T20:03:25.938Z"
   },
   {
    "duration": 108,
    "start_time": "2023-03-01T20:03:32.333Z"
   },
   {
    "duration": 119,
    "start_time": "2023-03-01T20:03:48.417Z"
   },
   {
    "duration": 96,
    "start_time": "2023-03-01T20:03:55.360Z"
   },
   {
    "duration": 118,
    "start_time": "2023-03-01T20:04:00.306Z"
   },
   {
    "duration": 97,
    "start_time": "2023-03-01T20:04:06.677Z"
   },
   {
    "duration": 108,
    "start_time": "2023-03-01T20:07:19.331Z"
   },
   {
    "duration": 97,
    "start_time": "2023-03-01T20:09:48.309Z"
   },
   {
    "duration": 121,
    "start_time": "2023-03-01T20:09:53.737Z"
   },
   {
    "duration": 112,
    "start_time": "2023-03-01T20:10:02.876Z"
   },
   {
    "duration": 19,
    "start_time": "2023-03-01T20:11:47.534Z"
   },
   {
    "duration": 19,
    "start_time": "2023-03-01T20:11:49.400Z"
   },
   {
    "duration": 4,
    "start_time": "2023-03-01T20:11:53.979Z"
   },
   {
    "duration": 104,
    "start_time": "2023-03-01T20:18:11.267Z"
   },
   {
    "duration": 101,
    "start_time": "2023-03-01T20:18:33.682Z"
   },
   {
    "duration": 100,
    "start_time": "2023-03-01T20:19:33.420Z"
   },
   {
    "duration": 102,
    "start_time": "2023-03-01T20:19:46.710Z"
   },
   {
    "duration": 4788,
    "start_time": "2023-03-02T04:12:52.191Z"
   },
   {
    "duration": 3,
    "start_time": "2023-03-02T04:12:56.981Z"
   },
   {
    "duration": 2386,
    "start_time": "2023-03-02T04:12:56.986Z"
   },
   {
    "duration": 34,
    "start_time": "2023-03-02T04:12:59.373Z"
   },
   {
    "duration": 15,
    "start_time": "2023-03-02T04:12:59.409Z"
   },
   {
    "duration": 10,
    "start_time": "2023-03-02T04:12:59.527Z"
   },
   {
    "duration": 216,
    "start_time": "2023-03-02T04:13:00.151Z"
   },
   {
    "duration": 6,
    "start_time": "2023-03-02T04:13:48.754Z"
   },
   {
    "duration": 124,
    "start_time": "2023-03-02T04:22:59.259Z"
   },
   {
    "duration": 105,
    "start_time": "2023-03-02T04:23:34.564Z"
   },
   {
    "duration": 347,
    "start_time": "2023-03-02T04:25:25.567Z"
   },
   {
    "duration": 98,
    "start_time": "2023-03-02T04:25:36.045Z"
   },
   {
    "duration": 544,
    "start_time": "2023-03-02T04:33:15.817Z"
   },
   {
    "duration": 1157091,
    "start_time": "2023-03-02T04:33:19.241Z"
   },
   {
    "duration": 4,
    "start_time": "2023-03-02T05:17:02.136Z"
   },
   {
    "duration": 3407,
    "start_time": "2023-03-02T05:17:04.054Z"
   },
   {
    "duration": 140,
    "start_time": "2023-03-02T05:17:45.673Z"
   },
   {
    "duration": 104,
    "start_time": "2023-03-02T05:18:47.705Z"
   },
   {
    "duration": 108,
    "start_time": "2023-03-02T05:18:58.656Z"
   },
   {
    "duration": 236,
    "start_time": "2023-03-02T05:21:50.826Z"
   },
   {
    "duration": 28,
    "start_time": "2023-03-02T05:22:41.067Z"
   },
   {
    "duration": 123,
    "start_time": "2023-03-02T05:23:28.004Z"
   },
   {
    "duration": 26,
    "start_time": "2023-03-02T05:23:32.244Z"
   },
   {
    "duration": 64,
    "start_time": "2023-03-02T12:38:44.105Z"
   }
  ],
  "kernelspec": {
   "display_name": "Python 3 (ipykernel)",
   "language": "python",
   "name": "python3"
  },
  "language_info": {
   "codemirror_mode": {
    "name": "ipython",
    "version": 3
   },
   "file_extension": ".py",
   "mimetype": "text/x-python",
   "name": "python",
   "nbconvert_exporter": "python",
   "pygments_lexer": "ipython3",
   "version": "3.9.5"
  },
  "toc": {
   "base_numbering": 1,
   "nav_menu": {},
   "number_sections": true,
   "sideBar": true,
   "skip_h1_title": true,
   "title_cell": "Содержание",
   "title_sidebar": "Contents",
   "toc_cell": true,
   "toc_position": {
    "height": "calc(100% - 180px)",
    "left": "10px",
    "top": "150px",
    "width": "302.391px"
   },
   "toc_section_display": true,
   "toc_window_display": true
  }
 },
 "nbformat": 4,
 "nbformat_minor": 2
}
