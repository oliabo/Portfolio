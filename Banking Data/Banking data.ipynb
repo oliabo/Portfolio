{
 "cells": [
  {
   "cell_type": "markdown",
   "id": "a312c1d3",
   "metadata": {},
   "source": [
    "<div style=\"border:solid Chocolate 2px; padding: 40px\">\n",
    "\n",
    "<b>Ольга, привет!</b>\n",
    "\n",
    "Меня зовут Евгений Головин, я буду ревьюером твоего проекта. Если ты не против, то предлагаю посмотрить наше общение на \"ты\" ;) Если удобнее на \"вы\", то нет проблем, только скажи об этом. \n",
    "\n",
    "В ходе работы я оставил тебе комментарии <font color='green'>зеленого</font>, <font color='gold'>желтого</font> и <font color='red'>красного</font> цветов. Сейчас объясню, что они значат:\n",
    "\n",
    "<br/>\n",
    "\n",
    "<div class=\"alert alert-success\">\n",
    "<h2> Комментарий ревьюера <a class=\"tocSkip\"> </h2>\n",
    "\n",
    "<b>Все супер!👍:</b> Решение на этом шаге является полностью правильным.\n",
    "</div>\n",
    "\n",
    "<br/>\n",
    "\n",
    "<div class=\"alert alert-warning\">\n",
    "    <h2> Комментарий ревьюера <a class=\"tocSkip\"> </h2>\n",
    "    \n",
    "<b>Небольшие замечания и рекомендации💡:</b> Решение на этом шаге станет еще лучше, если внести небольшие коррективы.\n",
    "</div>\n",
    "\n",
    "\n",
    "<br/>\n",
    "<div class=\"alert alert-block alert-danger\">\n",
    "<h2> Комментарий ревьюера <a class=\"tocSkip\"></h2>\n",
    "\n",
    "    \n",
    "<b>На доработку🤔:</b>\n",
    " Решение на этом шаге требует существенной переработки и внесения правок. Напоминаю, что проект не может быть принят с первого раза, если ревью содержит комментарии, рекомендующие доработать шаги.\n",
    "</div>\n",
    "    \n",
    "Увидев мой комментарий, не удаляй его, он будет очень полезен в случае повторной проверки работы :)\n",
    "    \n",
    "<div class=\"alert alert-info\">\n",
    "<b>А свой помечай вот так, чтобы я его не потерял ;)</b> \n",
    "</div>\n",
    "    \n",
    "Увидев мой комментарий, не удаляй его, он будет очень полезен в случае повторной проверки работы :)\n",
    "    \n",
    "На мои комменатрии можно и нужно реагировать, только делать это стоит так, чтобы твои и мои комменты не смешались: выделяй свои цветами, сильно отличающимися от моих.\n",
    "    \n",
    "Увидев у тебя неточность, в первый раз я лишь укажу на ее наличие и дам тебе возможность самому найти и исправить ее. На реальной работе твой руководитель будет поступать также, и я пытаюсь подготовить тебя именно к работе аналитиком. Но если ты пока не справишься с такой задачей - при следующей проверке я дам более точную подсказку!"
   ]
  },
  {
   "cell_type": "markdown",
   "id": "4a8c30dd",
   "metadata": {
    "deletable": false,
    "editable": false,
    "id": "c81daeeb"
   },
   "source": [
    "# Исследование надежности заемщиков\n"
   ]
  },
  {
   "cell_type": "markdown",
   "id": "e23bc866",
   "metadata": {
    "deletable": false,
    "editable": false,
    "id": "827c20bf"
   },
   "source": [
    "Во второй части проекта вы выполните шаги 3 и 4. Их вручную проверит ревьюер.\n",
    "Чтобы вам не пришлось писать код заново для шагов 1 и 2, мы добавили авторские решения в ячейки с кодом. \n",
    "\n"
   ]
  },
  {
   "cell_type": "markdown",
   "id": "932d7de7",
   "metadata": {},
   "source": [
    "<div class=\"alert alert-success\">\n",
    "<h2> Комментарий ревьюера <a class=\"tocSkip\"> </h2>\n",
    "\n",
    "<b>Все супер!👍:</b> Тогда давай туда и переноситься!)"
   ]
  },
  {
   "cell_type": "markdown",
   "id": "cf985840",
   "metadata": {
    "deletable": false,
    "editable": false,
    "id": "744d7639"
   },
   "source": [
    "## Откройте таблицу и изучите общую информацию о данных"
   ]
  },
  {
   "cell_type": "markdown",
   "id": "2746a02f",
   "metadata": {
    "deletable": false,
    "editable": false,
    "id": "e7a14c31"
   },
   "source": [
    "**Задание 1. Импортируйте библиотеку pandas. Считайте данные из csv-файла в датафрейм и сохраните в переменную `data`. Путь к файлу:**\n",
    "\n",
    "`/datasets/data.csv`"
   ]
  },
  {
   "cell_type": "code",
   "execution_count": 2,
   "id": "6866088c",
   "metadata": {
    "deletable": false,
    "id": "7bcf75c9"
   },
   "outputs": [],
   "source": [
    "import pandas as pd\n",
    "\n",
    "try:\n",
    "    data = pd.read_csv('/datasets/data.csv')\n",
    "except:\n",
    "    data = pd.read_csv('https://code.s3.yandex.net/datasets/data.csv')"
   ]
  },
  {
   "cell_type": "markdown",
   "id": "29ddcf9f",
   "metadata": {
    "deletable": false,
    "editable": false,
    "id": "b8038fe3"
   },
   "source": [
    "**Задание 2. Выведите первые 20 строчек датафрейма `data` на экран.**"
   ]
  },
  {
   "cell_type": "code",
   "execution_count": 3,
   "id": "58f1b943",
   "metadata": {
    "deletable": false,
    "id": "2a7cab99",
    "outputId": "1a8f3ef2-d323-4ec2-ddf7-89670b5944c4"
   },
   "outputs": [
    {
     "data": {
      "text/html": [
       "<div>\n",
       "<style scoped>\n",
       "    .dataframe tbody tr th:only-of-type {\n",
       "        vertical-align: middle;\n",
       "    }\n",
       "\n",
       "    .dataframe tbody tr th {\n",
       "        vertical-align: top;\n",
       "    }\n",
       "\n",
       "    .dataframe thead th {\n",
       "        text-align: right;\n",
       "    }\n",
       "</style>\n",
       "<table border=\"1\" class=\"dataframe\">\n",
       "  <thead>\n",
       "    <tr style=\"text-align: right;\">\n",
       "      <th></th>\n",
       "      <th>children</th>\n",
       "      <th>days_employed</th>\n",
       "      <th>dob_years</th>\n",
       "      <th>education</th>\n",
       "      <th>education_id</th>\n",
       "      <th>family_status</th>\n",
       "      <th>family_status_id</th>\n",
       "      <th>gender</th>\n",
       "      <th>income_type</th>\n",
       "      <th>debt</th>\n",
       "      <th>total_income</th>\n",
       "      <th>purpose</th>\n",
       "    </tr>\n",
       "  </thead>\n",
       "  <tbody>\n",
       "    <tr>\n",
       "      <th>0</th>\n",
       "      <td>1</td>\n",
       "      <td>-8437.673028</td>\n",
       "      <td>42</td>\n",
       "      <td>высшее</td>\n",
       "      <td>0</td>\n",
       "      <td>женат / замужем</td>\n",
       "      <td>0</td>\n",
       "      <td>F</td>\n",
       "      <td>сотрудник</td>\n",
       "      <td>0</td>\n",
       "      <td>253875.639453</td>\n",
       "      <td>покупка жилья</td>\n",
       "    </tr>\n",
       "    <tr>\n",
       "      <th>1</th>\n",
       "      <td>1</td>\n",
       "      <td>-4024.803754</td>\n",
       "      <td>36</td>\n",
       "      <td>среднее</td>\n",
       "      <td>1</td>\n",
       "      <td>женат / замужем</td>\n",
       "      <td>0</td>\n",
       "      <td>F</td>\n",
       "      <td>сотрудник</td>\n",
       "      <td>0</td>\n",
       "      <td>112080.014102</td>\n",
       "      <td>приобретение автомобиля</td>\n",
       "    </tr>\n",
       "    <tr>\n",
       "      <th>2</th>\n",
       "      <td>0</td>\n",
       "      <td>-5623.422610</td>\n",
       "      <td>33</td>\n",
       "      <td>Среднее</td>\n",
       "      <td>1</td>\n",
       "      <td>женат / замужем</td>\n",
       "      <td>0</td>\n",
       "      <td>M</td>\n",
       "      <td>сотрудник</td>\n",
       "      <td>0</td>\n",
       "      <td>145885.952297</td>\n",
       "      <td>покупка жилья</td>\n",
       "    </tr>\n",
       "    <tr>\n",
       "      <th>3</th>\n",
       "      <td>3</td>\n",
       "      <td>-4124.747207</td>\n",
       "      <td>32</td>\n",
       "      <td>среднее</td>\n",
       "      <td>1</td>\n",
       "      <td>женат / замужем</td>\n",
       "      <td>0</td>\n",
       "      <td>M</td>\n",
       "      <td>сотрудник</td>\n",
       "      <td>0</td>\n",
       "      <td>267628.550329</td>\n",
       "      <td>дополнительное образование</td>\n",
       "    </tr>\n",
       "    <tr>\n",
       "      <th>4</th>\n",
       "      <td>0</td>\n",
       "      <td>340266.072047</td>\n",
       "      <td>53</td>\n",
       "      <td>среднее</td>\n",
       "      <td>1</td>\n",
       "      <td>гражданский брак</td>\n",
       "      <td>1</td>\n",
       "      <td>F</td>\n",
       "      <td>пенсионер</td>\n",
       "      <td>0</td>\n",
       "      <td>158616.077870</td>\n",
       "      <td>сыграть свадьбу</td>\n",
       "    </tr>\n",
       "    <tr>\n",
       "      <th>5</th>\n",
       "      <td>0</td>\n",
       "      <td>-926.185831</td>\n",
       "      <td>27</td>\n",
       "      <td>высшее</td>\n",
       "      <td>0</td>\n",
       "      <td>гражданский брак</td>\n",
       "      <td>1</td>\n",
       "      <td>M</td>\n",
       "      <td>компаньон</td>\n",
       "      <td>0</td>\n",
       "      <td>255763.565419</td>\n",
       "      <td>покупка жилья</td>\n",
       "    </tr>\n",
       "    <tr>\n",
       "      <th>6</th>\n",
       "      <td>0</td>\n",
       "      <td>-2879.202052</td>\n",
       "      <td>43</td>\n",
       "      <td>высшее</td>\n",
       "      <td>0</td>\n",
       "      <td>женат / замужем</td>\n",
       "      <td>0</td>\n",
       "      <td>F</td>\n",
       "      <td>компаньон</td>\n",
       "      <td>0</td>\n",
       "      <td>240525.971920</td>\n",
       "      <td>операции с жильем</td>\n",
       "    </tr>\n",
       "    <tr>\n",
       "      <th>7</th>\n",
       "      <td>0</td>\n",
       "      <td>-152.779569</td>\n",
       "      <td>50</td>\n",
       "      <td>СРЕДНЕЕ</td>\n",
       "      <td>1</td>\n",
       "      <td>женат / замужем</td>\n",
       "      <td>0</td>\n",
       "      <td>M</td>\n",
       "      <td>сотрудник</td>\n",
       "      <td>0</td>\n",
       "      <td>135823.934197</td>\n",
       "      <td>образование</td>\n",
       "    </tr>\n",
       "    <tr>\n",
       "      <th>8</th>\n",
       "      <td>2</td>\n",
       "      <td>-6929.865299</td>\n",
       "      <td>35</td>\n",
       "      <td>ВЫСШЕЕ</td>\n",
       "      <td>0</td>\n",
       "      <td>гражданский брак</td>\n",
       "      <td>1</td>\n",
       "      <td>F</td>\n",
       "      <td>сотрудник</td>\n",
       "      <td>0</td>\n",
       "      <td>95856.832424</td>\n",
       "      <td>на проведение свадьбы</td>\n",
       "    </tr>\n",
       "    <tr>\n",
       "      <th>9</th>\n",
       "      <td>0</td>\n",
       "      <td>-2188.756445</td>\n",
       "      <td>41</td>\n",
       "      <td>среднее</td>\n",
       "      <td>1</td>\n",
       "      <td>женат / замужем</td>\n",
       "      <td>0</td>\n",
       "      <td>M</td>\n",
       "      <td>сотрудник</td>\n",
       "      <td>0</td>\n",
       "      <td>144425.938277</td>\n",
       "      <td>покупка жилья для семьи</td>\n",
       "    </tr>\n",
       "    <tr>\n",
       "      <th>10</th>\n",
       "      <td>2</td>\n",
       "      <td>-4171.483647</td>\n",
       "      <td>36</td>\n",
       "      <td>высшее</td>\n",
       "      <td>0</td>\n",
       "      <td>женат / замужем</td>\n",
       "      <td>0</td>\n",
       "      <td>M</td>\n",
       "      <td>компаньон</td>\n",
       "      <td>0</td>\n",
       "      <td>113943.491460</td>\n",
       "      <td>покупка недвижимости</td>\n",
       "    </tr>\n",
       "    <tr>\n",
       "      <th>11</th>\n",
       "      <td>0</td>\n",
       "      <td>-792.701887</td>\n",
       "      <td>40</td>\n",
       "      <td>среднее</td>\n",
       "      <td>1</td>\n",
       "      <td>женат / замужем</td>\n",
       "      <td>0</td>\n",
       "      <td>F</td>\n",
       "      <td>сотрудник</td>\n",
       "      <td>0</td>\n",
       "      <td>77069.234271</td>\n",
       "      <td>покупка коммерческой недвижимости</td>\n",
       "    </tr>\n",
       "    <tr>\n",
       "      <th>12</th>\n",
       "      <td>0</td>\n",
       "      <td>NaN</td>\n",
       "      <td>65</td>\n",
       "      <td>среднее</td>\n",
       "      <td>1</td>\n",
       "      <td>гражданский брак</td>\n",
       "      <td>1</td>\n",
       "      <td>M</td>\n",
       "      <td>пенсионер</td>\n",
       "      <td>0</td>\n",
       "      <td>NaN</td>\n",
       "      <td>сыграть свадьбу</td>\n",
       "    </tr>\n",
       "    <tr>\n",
       "      <th>13</th>\n",
       "      <td>0</td>\n",
       "      <td>-1846.641941</td>\n",
       "      <td>54</td>\n",
       "      <td>неоконченное высшее</td>\n",
       "      <td>2</td>\n",
       "      <td>женат / замужем</td>\n",
       "      <td>0</td>\n",
       "      <td>F</td>\n",
       "      <td>сотрудник</td>\n",
       "      <td>0</td>\n",
       "      <td>130458.228857</td>\n",
       "      <td>приобретение автомобиля</td>\n",
       "    </tr>\n",
       "    <tr>\n",
       "      <th>14</th>\n",
       "      <td>0</td>\n",
       "      <td>-1844.956182</td>\n",
       "      <td>56</td>\n",
       "      <td>высшее</td>\n",
       "      <td>0</td>\n",
       "      <td>гражданский брак</td>\n",
       "      <td>1</td>\n",
       "      <td>F</td>\n",
       "      <td>компаньон</td>\n",
       "      <td>1</td>\n",
       "      <td>165127.911772</td>\n",
       "      <td>покупка жилой недвижимости</td>\n",
       "    </tr>\n",
       "    <tr>\n",
       "      <th>15</th>\n",
       "      <td>1</td>\n",
       "      <td>-972.364419</td>\n",
       "      <td>26</td>\n",
       "      <td>среднее</td>\n",
       "      <td>1</td>\n",
       "      <td>женат / замужем</td>\n",
       "      <td>0</td>\n",
       "      <td>F</td>\n",
       "      <td>сотрудник</td>\n",
       "      <td>0</td>\n",
       "      <td>116820.904450</td>\n",
       "      <td>строительство собственной недвижимости</td>\n",
       "    </tr>\n",
       "    <tr>\n",
       "      <th>16</th>\n",
       "      <td>0</td>\n",
       "      <td>-1719.934226</td>\n",
       "      <td>35</td>\n",
       "      <td>среднее</td>\n",
       "      <td>1</td>\n",
       "      <td>женат / замужем</td>\n",
       "      <td>0</td>\n",
       "      <td>F</td>\n",
       "      <td>сотрудник</td>\n",
       "      <td>0</td>\n",
       "      <td>289202.704229</td>\n",
       "      <td>недвижимость</td>\n",
       "    </tr>\n",
       "    <tr>\n",
       "      <th>17</th>\n",
       "      <td>0</td>\n",
       "      <td>-2369.999720</td>\n",
       "      <td>33</td>\n",
       "      <td>высшее</td>\n",
       "      <td>0</td>\n",
       "      <td>гражданский брак</td>\n",
       "      <td>1</td>\n",
       "      <td>M</td>\n",
       "      <td>сотрудник</td>\n",
       "      <td>0</td>\n",
       "      <td>90410.586745</td>\n",
       "      <td>строительство недвижимости</td>\n",
       "    </tr>\n",
       "    <tr>\n",
       "      <th>18</th>\n",
       "      <td>0</td>\n",
       "      <td>400281.136913</td>\n",
       "      <td>53</td>\n",
       "      <td>среднее</td>\n",
       "      <td>1</td>\n",
       "      <td>вдовец / вдова</td>\n",
       "      <td>2</td>\n",
       "      <td>F</td>\n",
       "      <td>пенсионер</td>\n",
       "      <td>0</td>\n",
       "      <td>56823.777243</td>\n",
       "      <td>на покупку подержанного автомобиля</td>\n",
       "    </tr>\n",
       "    <tr>\n",
       "      <th>19</th>\n",
       "      <td>0</td>\n",
       "      <td>-10038.818549</td>\n",
       "      <td>48</td>\n",
       "      <td>СРЕДНЕЕ</td>\n",
       "      <td>1</td>\n",
       "      <td>в разводе</td>\n",
       "      <td>3</td>\n",
       "      <td>F</td>\n",
       "      <td>сотрудник</td>\n",
       "      <td>0</td>\n",
       "      <td>242831.107982</td>\n",
       "      <td>на покупку своего автомобиля</td>\n",
       "    </tr>\n",
       "  </tbody>\n",
       "</table>\n",
       "</div>"
      ],
      "text/plain": [
       "    children  days_employed  dob_years            education  education_id  \\\n",
       "0          1   -8437.673028         42               высшее             0   \n",
       "1          1   -4024.803754         36              среднее             1   \n",
       "2          0   -5623.422610         33              Среднее             1   \n",
       "3          3   -4124.747207         32              среднее             1   \n",
       "4          0  340266.072047         53              среднее             1   \n",
       "5          0    -926.185831         27               высшее             0   \n",
       "6          0   -2879.202052         43               высшее             0   \n",
       "7          0    -152.779569         50              СРЕДНЕЕ             1   \n",
       "8          2   -6929.865299         35               ВЫСШЕЕ             0   \n",
       "9          0   -2188.756445         41              среднее             1   \n",
       "10         2   -4171.483647         36               высшее             0   \n",
       "11         0    -792.701887         40              среднее             1   \n",
       "12         0            NaN         65              среднее             1   \n",
       "13         0   -1846.641941         54  неоконченное высшее             2   \n",
       "14         0   -1844.956182         56               высшее             0   \n",
       "15         1    -972.364419         26              среднее             1   \n",
       "16         0   -1719.934226         35              среднее             1   \n",
       "17         0   -2369.999720         33               высшее             0   \n",
       "18         0  400281.136913         53              среднее             1   \n",
       "19         0  -10038.818549         48              СРЕДНЕЕ             1   \n",
       "\n",
       "       family_status  family_status_id gender income_type  debt  \\\n",
       "0    женат / замужем                 0      F   сотрудник     0   \n",
       "1    женат / замужем                 0      F   сотрудник     0   \n",
       "2    женат / замужем                 0      M   сотрудник     0   \n",
       "3    женат / замужем                 0      M   сотрудник     0   \n",
       "4   гражданский брак                 1      F   пенсионер     0   \n",
       "5   гражданский брак                 1      M   компаньон     0   \n",
       "6    женат / замужем                 0      F   компаньон     0   \n",
       "7    женат / замужем                 0      M   сотрудник     0   \n",
       "8   гражданский брак                 1      F   сотрудник     0   \n",
       "9    женат / замужем                 0      M   сотрудник     0   \n",
       "10   женат / замужем                 0      M   компаньон     0   \n",
       "11   женат / замужем                 0      F   сотрудник     0   \n",
       "12  гражданский брак                 1      M   пенсионер     0   \n",
       "13   женат / замужем                 0      F   сотрудник     0   \n",
       "14  гражданский брак                 1      F   компаньон     1   \n",
       "15   женат / замужем                 0      F   сотрудник     0   \n",
       "16   женат / замужем                 0      F   сотрудник     0   \n",
       "17  гражданский брак                 1      M   сотрудник     0   \n",
       "18    вдовец / вдова                 2      F   пенсионер     0   \n",
       "19         в разводе                 3      F   сотрудник     0   \n",
       "\n",
       "     total_income                                 purpose  \n",
       "0   253875.639453                           покупка жилья  \n",
       "1   112080.014102                 приобретение автомобиля  \n",
       "2   145885.952297                           покупка жилья  \n",
       "3   267628.550329              дополнительное образование  \n",
       "4   158616.077870                         сыграть свадьбу  \n",
       "5   255763.565419                           покупка жилья  \n",
       "6   240525.971920                       операции с жильем  \n",
       "7   135823.934197                             образование  \n",
       "8    95856.832424                   на проведение свадьбы  \n",
       "9   144425.938277                 покупка жилья для семьи  \n",
       "10  113943.491460                    покупка недвижимости  \n",
       "11   77069.234271       покупка коммерческой недвижимости  \n",
       "12            NaN                         сыграть свадьбу  \n",
       "13  130458.228857                 приобретение автомобиля  \n",
       "14  165127.911772              покупка жилой недвижимости  \n",
       "15  116820.904450  строительство собственной недвижимости  \n",
       "16  289202.704229                            недвижимость  \n",
       "17   90410.586745              строительство недвижимости  \n",
       "18   56823.777243      на покупку подержанного автомобиля  \n",
       "19  242831.107982            на покупку своего автомобиля  "
      ]
     },
     "execution_count": 3,
     "metadata": {},
     "output_type": "execute_result"
    }
   ],
   "source": [
    "data.head(20)"
   ]
  },
  {
   "cell_type": "markdown",
   "id": "6b98de27",
   "metadata": {
    "deletable": false,
    "editable": false,
    "id": "1c12e233"
   },
   "source": [
    "**Задание 3. Выведите основную информацию о датафрейме с помощью метода `info()`.**"
   ]
  },
  {
   "cell_type": "code",
   "execution_count": 4,
   "id": "4c3ef556",
   "metadata": {
    "deletable": false,
    "id": "2b757bca",
    "outputId": "15376089-8dad-46c9-b520-c05248d43158"
   },
   "outputs": [
    {
     "name": "stdout",
     "output_type": "stream",
     "text": [
      "<class 'pandas.core.frame.DataFrame'>\n",
      "RangeIndex: 21525 entries, 0 to 21524\n",
      "Data columns (total 12 columns):\n",
      " #   Column            Non-Null Count  Dtype  \n",
      "---  ------            --------------  -----  \n",
      " 0   children          21525 non-null  int64  \n",
      " 1   days_employed     19351 non-null  float64\n",
      " 2   dob_years         21525 non-null  int64  \n",
      " 3   education         21525 non-null  object \n",
      " 4   education_id      21525 non-null  int64  \n",
      " 5   family_status     21525 non-null  object \n",
      " 6   family_status_id  21525 non-null  int64  \n",
      " 7   gender            21525 non-null  object \n",
      " 8   income_type       21525 non-null  object \n",
      " 9   debt              21525 non-null  int64  \n",
      " 10  total_income      19351 non-null  float64\n",
      " 11  purpose           21525 non-null  object \n",
      "dtypes: float64(2), int64(5), object(5)\n",
      "memory usage: 2.0+ MB\n"
     ]
    }
   ],
   "source": [
    "data.info()"
   ]
  },
  {
   "cell_type": "markdown",
   "id": "08898df7",
   "metadata": {
    "deletable": false,
    "editable": false,
    "id": "333ec665"
   },
   "source": [
    "## Предобработка данных"
   ]
  },
  {
   "cell_type": "markdown",
   "id": "7be829fd",
   "metadata": {
    "deletable": false,
    "editable": false,
    "id": "02d92d53"
   },
   "source": [
    "### Удаление пропусков"
   ]
  },
  {
   "cell_type": "markdown",
   "id": "b2b13e28",
   "metadata": {
    "deletable": false,
    "editable": false,
    "id": "cd84967c"
   },
   "source": [
    "**Задание 4. Выведите количество пропущенных значений для каждого столбца. Используйте комбинацию двух методов.**"
   ]
  },
  {
   "cell_type": "code",
   "execution_count": 5,
   "id": "2b4a7ac3",
   "metadata": {
    "deletable": false,
    "id": "7f9b2309",
    "outputId": "81f4d817-781c-465c-ed15-91ce4446810d"
   },
   "outputs": [
    {
     "data": {
      "text/plain": [
       "children               0\n",
       "days_employed       2174\n",
       "dob_years              0\n",
       "education              0\n",
       "education_id           0\n",
       "family_status          0\n",
       "family_status_id       0\n",
       "gender                 0\n",
       "income_type            0\n",
       "debt                   0\n",
       "total_income        2174\n",
       "purpose                0\n",
       "dtype: int64"
      ]
     },
     "execution_count": 5,
     "metadata": {},
     "output_type": "execute_result"
    }
   ],
   "source": [
    "data.isna().sum()"
   ]
  },
  {
   "cell_type": "markdown",
   "id": "54ddd221",
   "metadata": {
    "deletable": false,
    "editable": false,
    "id": "db86e27b"
   },
   "source": [
    "**Задание 5. В двух столбцах есть пропущенные значения. Один из них — `days_employed`. Пропуски в этом столбце вы обработаете на следующем этапе. Другой столбец с пропущенными значениями — `total_income` — хранит данные о доходах. На сумму дохода сильнее всего влияет тип занятости, поэтому заполнить пропуски в этом столбце нужно медианным значением по каждому типу из столбца `income_type`. Например, у человека с типом занятости `сотрудник` пропуск в столбце `total_income` должен быть заполнен медианным доходом среди всех записей с тем же типом.**"
   ]
  },
  {
   "cell_type": "code",
   "execution_count": 6,
   "id": "0f4c9e04",
   "metadata": {
    "deletable": false,
    "id": "42006a93"
   },
   "outputs": [],
   "source": [
    "for t in data['income_type'].unique():\n",
    "    data.loc[(data['income_type'] == t) & (data['total_income'].isna()), 'total_income'] = \\\n",
    "    data.loc[(data['income_type'] == t), 'total_income'].median()"
   ]
  },
  {
   "cell_type": "markdown",
   "id": "ed3be468",
   "metadata": {
    "deletable": false,
    "editable": false,
    "id": "89da5ece"
   },
   "source": [
    "### Обработка аномальных значений"
   ]
  },
  {
   "cell_type": "markdown",
   "id": "f8ee1c54",
   "metadata": {
    "deletable": false,
    "editable": false,
    "id": "57964554"
   },
   "source": [
    "**Задание 6. В данных могут встречаться артефакты (аномалии) — значения, которые не отражают действительность и появились по какой-то ошибке. таким артефактом будет отрицательное количество дней трудового стажа в столбце `days_employed`. Для реальных данных это нормально. Обработайте значения в этом столбце: замените все отрицательные значения положительными с помощью метода `abs()`.**"
   ]
  },
  {
   "cell_type": "code",
   "execution_count": 7,
   "id": "d90d2979",
   "metadata": {
    "deletable": false,
    "id": "f6f055bf"
   },
   "outputs": [],
   "source": [
    "data['days_employed'] = data['days_employed'].abs()"
   ]
  },
  {
   "cell_type": "markdown",
   "id": "a98e9a29",
   "metadata": {
    "deletable": false,
    "editable": false,
    "id": "6107dd2f"
   },
   "source": [
    "**Задание 7. Для каждого типа занятости выведите медианное значение трудового стажа `days_employed` в днях.**"
   ]
  },
  {
   "cell_type": "code",
   "execution_count": 8,
   "id": "1e856d93",
   "metadata": {
    "deletable": false,
    "id": "85a5faf6",
    "outputId": "801ef80e-522b-4668-f34e-565af7432bcf"
   },
   "outputs": [
    {
     "data": {
      "text/plain": [
       "income_type\n",
       "безработный        366413.652744\n",
       "в декрете            3296.759962\n",
       "госслужащий          2689.368353\n",
       "компаньон            1547.382223\n",
       "пенсионер          365213.306266\n",
       "предприниматель       520.848083\n",
       "сотрудник            1574.202821\n",
       "студент               578.751554\n",
       "Name: days_employed, dtype: float64"
      ]
     },
     "execution_count": 8,
     "metadata": {},
     "output_type": "execute_result"
    }
   ],
   "source": [
    "data.groupby('income_type')['days_employed'].agg('median')"
   ]
  },
  {
   "cell_type": "markdown",
   "id": "50229ab6",
   "metadata": {
    "deletable": false,
    "editable": false,
    "id": "38d1a030"
   },
   "source": [
    "У двух типов (безработные и пенсионеры) получатся аномально большие значения. Исправить такие значения сложно, поэтому оставьте их как есть. Тем более этот столбец не понадобится вам для исследования."
   ]
  },
  {
   "cell_type": "markdown",
   "id": "95579ebf",
   "metadata": {
    "deletable": false,
    "editable": false,
    "id": "d8a9f147"
   },
   "source": [
    "**Задание 8. Выведите перечень уникальных значений столбца `children`.**"
   ]
  },
  {
   "cell_type": "code",
   "execution_count": 9,
   "id": "0e8102b4",
   "metadata": {
    "deletable": false,
    "id": "ef5056eb",
    "outputId": "6975b15c-7f95-4697-d16d-a0c79b657b03"
   },
   "outputs": [
    {
     "data": {
      "text/plain": [
       "array([ 1,  0,  3,  2, -1,  4, 20,  5])"
      ]
     },
     "execution_count": 9,
     "metadata": {},
     "output_type": "execute_result"
    }
   ],
   "source": [
    "data['children'].unique()"
   ]
  },
  {
   "cell_type": "markdown",
   "id": "64cfbb18",
   "metadata": {
    "deletable": false,
    "editable": false,
    "id": "40b9ebf2"
   },
   "source": [
    "**Задание 9. В столбце `children` есть два аномальных значения. Удалите строки, в которых встречаются такие аномальные значения из датафрейма `data`.**"
   ]
  },
  {
   "cell_type": "code",
   "execution_count": 10,
   "id": "f08a70e3",
   "metadata": {
    "deletable": false,
    "id": "3ff9801d"
   },
   "outputs": [],
   "source": [
    "data = data[(data['children'] != -1) & (data['children'] != 20)]"
   ]
  },
  {
   "cell_type": "markdown",
   "id": "35c99faa",
   "metadata": {
    "deletable": false,
    "editable": false,
    "id": "bbc4d0ce"
   },
   "source": [
    "**Задание 10. Ещё раз выведите перечень уникальных значений столбца `children`, чтобы убедиться, что артефакты удалены.**"
   ]
  },
  {
   "cell_type": "code",
   "execution_count": 11,
   "id": "de0b01a6",
   "metadata": {
    "deletable": false,
    "id": "ad4fa8b7",
    "outputId": "b2097101-d49d-44d9-901b-32a65c9463d1"
   },
   "outputs": [
    {
     "data": {
      "text/plain": [
       "array([1, 0, 3, 2, 4, 5])"
      ]
     },
     "execution_count": 11,
     "metadata": {},
     "output_type": "execute_result"
    }
   ],
   "source": [
    "data['children'].unique()"
   ]
  },
  {
   "cell_type": "markdown",
   "id": "d950a596",
   "metadata": {
    "deletable": false,
    "editable": false,
    "id": "75440b63"
   },
   "source": [
    "### Удаление пропусков (продолжение)"
   ]
  },
  {
   "cell_type": "markdown",
   "id": "828a3cca",
   "metadata": {
    "deletable": false,
    "editable": false,
    "id": "f4ea573f"
   },
   "source": [
    "**Задание 11. Заполните пропуски в столбце `days_employed` медианными значениями по каждого типа занятости `income_type`.**"
   ]
  },
  {
   "cell_type": "code",
   "execution_count": 12,
   "id": "0cf3428d",
   "metadata": {
    "deletable": false,
    "id": "af6b1a7e"
   },
   "outputs": [],
   "source": [
    "for t in data['income_type'].unique():\n",
    "    data.loc[(data['income_type'] == t) & (data['days_employed'].isna()), 'days_employed'] = \\\n",
    "    data.loc[(data['income_type'] == t), 'days_employed'].median()"
   ]
  },
  {
   "cell_type": "markdown",
   "id": "e887e892",
   "metadata": {
    "deletable": false,
    "editable": false,
    "id": "2753f40d"
   },
   "source": [
    "**Задание 12. Убедитесь, что все пропуски заполнены. Проверьте себя и ещё раз выведите количество пропущенных значений для каждого столбца с помощью двух методов.**"
   ]
  },
  {
   "cell_type": "code",
   "execution_count": 13,
   "id": "1b67ef0b",
   "metadata": {
    "deletable": false,
    "id": "55f78bc2",
    "outputId": "8da1e4e1-358e-4e87-98c9-f261bce0a7b2"
   },
   "outputs": [
    {
     "data": {
      "text/plain": [
       "children            0\n",
       "days_employed       0\n",
       "dob_years           0\n",
       "education           0\n",
       "education_id        0\n",
       "family_status       0\n",
       "family_status_id    0\n",
       "gender              0\n",
       "income_type         0\n",
       "debt                0\n",
       "total_income        0\n",
       "purpose             0\n",
       "dtype: int64"
      ]
     },
     "execution_count": 13,
     "metadata": {},
     "output_type": "execute_result"
    }
   ],
   "source": [
    "data.isna().sum()"
   ]
  },
  {
   "cell_type": "markdown",
   "id": "1e825309",
   "metadata": {
    "deletable": false,
    "editable": false,
    "id": "ddc81e43"
   },
   "source": [
    "### Изменение типов данных"
   ]
  },
  {
   "cell_type": "markdown",
   "id": "7faa98fe",
   "metadata": {
    "deletable": false,
    "editable": false,
    "id": "42d19d24"
   },
   "source": [
    "**Задание 13. Замените вещественный тип данных в столбце `total_income` на целочисленный с помощью метода `astype()`.**"
   ]
  },
  {
   "cell_type": "code",
   "execution_count": 14,
   "id": "ecb0ec42",
   "metadata": {
    "deletable": false,
    "id": "920b65ad"
   },
   "outputs": [],
   "source": [
    "data['total_income'] = data['total_income'].astype(int)"
   ]
  },
  {
   "cell_type": "markdown",
   "id": "075a4a8b",
   "metadata": {
    "deletable": false,
    "editable": false,
    "id": "80c420ba"
   },
   "source": [
    "### Обработка дубликатов"
   ]
  },
  {
   "cell_type": "markdown",
   "id": "aa632940",
   "metadata": {
    "deletable": false,
    "editable": false
   },
   "source": [
    "**Задание 14. Обработайте неявные дубликаты в столбце `education`. В этом столбце есть одни и те же значения, но записанные по-разному: с использованием заглавных и строчных букв. Приведите их к нижнему регистру. Проверьте остальные столбцы.**"
   ]
  },
  {
   "cell_type": "code",
   "execution_count": 15,
   "id": "0f004b4b",
   "metadata": {
    "deletable": false
   },
   "outputs": [],
   "source": [
    "data['education'] = data['education'].str.lower()"
   ]
  },
  {
   "cell_type": "markdown",
   "id": "722bc5e2",
   "metadata": {
    "deletable": false,
    "editable": false,
    "id": "dc587695"
   },
   "source": [
    "**Задание 15. Выведите на экран количество строк-дубликатов в данных. Если такие строки присутствуют, удалите их.**"
   ]
  },
  {
   "cell_type": "code",
   "execution_count": 16,
   "id": "d4c4c6e1",
   "metadata": {
    "deletable": false,
    "id": "3ee445e4",
    "outputId": "9684deba-1934-42d1-99e1-cda61740f822"
   },
   "outputs": [
    {
     "data": {
      "text/plain": [
       "71"
      ]
     },
     "execution_count": 16,
     "metadata": {},
     "output_type": "execute_result"
    }
   ],
   "source": [
    "data.duplicated().sum()"
   ]
  },
  {
   "cell_type": "code",
   "execution_count": 17,
   "id": "fefc47a9",
   "metadata": {
    "deletable": false,
    "id": "8575fe05"
   },
   "outputs": [],
   "source": [
    "data = data.drop_duplicates()"
   ]
  },
  {
   "cell_type": "markdown",
   "id": "fc2f28ee",
   "metadata": {
    "deletable": false,
    "editable": false,
    "id": "9904cf55"
   },
   "source": [
    "### Категоризация данных"
   ]
  },
  {
   "cell_type": "markdown",
   "id": "a8200558",
   "metadata": {
    "deletable": false,
    "editable": false,
    "id": "72fcc8a2"
   },
   "source": [
    "**Задание 16. На основании диапазонов, указанных ниже, создайте в датафрейме `data` столбец `total_income_category` с категориями:**\n",
    "\n",
    "- 0–30000 — `'E'`;\n",
    "- 30001–50000 — `'D'`;\n",
    "- 50001–200000 — `'C'`;\n",
    "- 200001–1000000 — `'B'`;\n",
    "- 1000001 и выше — `'A'`.\n",
    "\n",
    "\n",
    "**Например, кредитополучателю с доходом 25000 нужно назначить категорию `'E'`, а клиенту, получающему 235000, — `'B'`. Используйте собственную функцию с именем `categorize_income()` и метод `apply()`.**"
   ]
  },
  {
   "cell_type": "code",
   "execution_count": 18,
   "id": "dd34d7c0",
   "metadata": {
    "deletable": false,
    "id": "e1771346"
   },
   "outputs": [],
   "source": [
    "def categorize_income(income):\n",
    "    try:\n",
    "        if 0 <= income <= 30000:\n",
    "            return 'E'\n",
    "        elif 30001 <= income <= 50000:\n",
    "            return 'D'\n",
    "        elif 50001 <= income <= 200000:\n",
    "            return 'C'\n",
    "        elif 200001 <= income <= 1000000:\n",
    "            return 'B'\n",
    "        elif income >= 1000001:\n",
    "            return 'A'\n",
    "    except:\n",
    "        pass"
   ]
  },
  {
   "cell_type": "code",
   "execution_count": 19,
   "id": "94efb8cf",
   "metadata": {
    "deletable": false,
    "id": "d5f3586d"
   },
   "outputs": [],
   "source": [
    "data['total_income_category'] = data['total_income'].apply(categorize_income)"
   ]
  },
  {
   "cell_type": "markdown",
   "id": "498401a2",
   "metadata": {
    "deletable": false,
    "editable": false,
    "id": "dde49b5c"
   },
   "source": [
    "**Задание 17. Выведите на экран перечень уникальных целей взятия кредита из столбца `purpose`.**"
   ]
  },
  {
   "cell_type": "code",
   "execution_count": 20,
   "id": "6f825452",
   "metadata": {
    "deletable": false,
    "id": "f67ce9b3",
    "outputId": "673c12d9-7d7e-4ae0-9812-c622c89dd244"
   },
   "outputs": [
    {
     "data": {
      "text/plain": [
       "array(['покупка жилья', 'приобретение автомобиля',\n",
       "       'дополнительное образование', 'сыграть свадьбу',\n",
       "       'операции с жильем', 'образование', 'на проведение свадьбы',\n",
       "       'покупка жилья для семьи', 'покупка недвижимости',\n",
       "       'покупка коммерческой недвижимости', 'покупка жилой недвижимости',\n",
       "       'строительство собственной недвижимости', 'недвижимость',\n",
       "       'строительство недвижимости', 'на покупку подержанного автомобиля',\n",
       "       'на покупку своего автомобиля',\n",
       "       'операции с коммерческой недвижимостью',\n",
       "       'строительство жилой недвижимости', 'жилье',\n",
       "       'операции со своей недвижимостью', 'автомобили',\n",
       "       'заняться образованием', 'сделка с подержанным автомобилем',\n",
       "       'получение образования', 'автомобиль', 'свадьба',\n",
       "       'получение дополнительного образования', 'покупка своего жилья',\n",
       "       'операции с недвижимостью', 'получение высшего образования',\n",
       "       'свой автомобиль', 'сделка с автомобилем',\n",
       "       'профильное образование', 'высшее образование',\n",
       "       'покупка жилья для сдачи', 'на покупку автомобиля', 'ремонт жилью',\n",
       "       'заняться высшим образованием'], dtype=object)"
      ]
     },
     "execution_count": 20,
     "metadata": {},
     "output_type": "execute_result"
    }
   ],
   "source": [
    "data['purpose'].unique()"
   ]
  },
  {
   "cell_type": "markdown",
   "id": "22e0c4ae",
   "metadata": {
    "deletable": false,
    "editable": false,
    "id": "85d0aef0"
   },
   "source": [
    "**Задание 18. Создайте функцию, которая на основании данных из столбца `purpose` сформирует новый столбец `purpose_category`, в который войдут следующие категории:**\n",
    "\n",
    "- `'операции с автомобилем'`,\n",
    "- `'операции с недвижимостью'`,\n",
    "- `'проведение свадьбы'`,\n",
    "- `'получение образования'`.\n",
    "\n",
    "**Например, если в столбце `purpose` находится подстрока `'на покупку автомобиля'`, то в столбце `purpose_category` должна появиться строка `'операции с автомобилем'`.**\n",
    "\n",
    "**Используйте собственную функцию с именем `categorize_purpose()` и метод `apply()`. Изучите данные в столбце `purpose` и определите, какие подстроки помогут вам правильно определить категорию.**"
   ]
  },
  {
   "cell_type": "code",
   "execution_count": 21,
   "id": "c3551190",
   "metadata": {
    "deletable": false,
    "id": "e149fab4"
   },
   "outputs": [],
   "source": [
    "def categorize_purpose(row):\n",
    "    try:\n",
    "        if 'автом' in row:\n",
    "            return 'операции с автомобилем'\n",
    "        elif 'жил' in row or 'недвиж' in row:\n",
    "            return 'операции с недвижимостью'\n",
    "        elif 'свад' in row:\n",
    "            return 'проведение свадьбы'\n",
    "        elif 'образов' in row:\n",
    "            return 'получение образования'\n",
    "    except:\n",
    "        return 'нет категории'"
   ]
  },
  {
   "cell_type": "code",
   "execution_count": 22,
   "id": "22997f1d",
   "metadata": {
    "deletable": false,
    "id": "bf36e69b"
   },
   "outputs": [],
   "source": [
    "data['purpose_category'] = data['purpose'].apply(categorize_purpose)"
   ]
  },
  {
   "cell_type": "markdown",
   "id": "b7f0fa9a",
   "metadata": {},
   "source": [
    "<div class=\"alert alert-success\">\n",
    "<h2> Комментарий ревьюера <a class=\"tocSkip\"> </h2>\n",
    "\n",
    "<b>Все супер!👍:</b> ВЖУХ и мы здесь!"
   ]
  },
  {
   "cell_type": "markdown",
   "id": "14b6f66e",
   "metadata": {
    "deletable": false,
    "editable": false,
    "id": "09b242bf"
   },
   "source": [
    "### Шаг 3. Исследуйте данные и ответьте на вопросы"
   ]
  },
  {
   "cell_type": "markdown",
   "id": "0ff31854",
   "metadata": {
    "deletable": false,
    "editable": false,
    "id": "c5d66278"
   },
   "source": [
    "#### 3.1 Есть ли зависимость между количеством детей и возвратом кредита в срок?"
   ]
  },
  {
   "cell_type": "code",
   "execution_count": 24,
   "id": "3c91dee0",
   "metadata": {
    "deletable": false,
    "id": "2cacfc4a",
    "scrolled": true
   },
   "outputs": [
    {
     "data": {
      "text/html": [
       "<div>\n",
       "<style scoped>\n",
       "    .dataframe tbody tr th:only-of-type {\n",
       "        vertical-align: middle;\n",
       "    }\n",
       "\n",
       "    .dataframe tbody tr th {\n",
       "        vertical-align: top;\n",
       "    }\n",
       "\n",
       "    .dataframe thead tr th {\n",
       "        text-align: left;\n",
       "    }\n",
       "\n",
       "    .dataframe thead tr:last-of-type th {\n",
       "        text-align: right;\n",
       "    }\n",
       "</style>\n",
       "<table border=\"1\" class=\"dataframe\">\n",
       "  <thead>\n",
       "    <tr>\n",
       "      <th></th>\n",
       "      <th>mean</th>\n",
       "      <th>sum</th>\n",
       "      <th>count</th>\n",
       "    </tr>\n",
       "    <tr>\n",
       "      <th></th>\n",
       "      <th>debt</th>\n",
       "      <th>debt</th>\n",
       "      <th>debt</th>\n",
       "    </tr>\n",
       "    <tr>\n",
       "      <th>children</th>\n",
       "      <th></th>\n",
       "      <th></th>\n",
       "      <th></th>\n",
       "    </tr>\n",
       "  </thead>\n",
       "  <tbody>\n",
       "    <tr>\n",
       "      <th>0</th>\n",
       "      <td>0.075438</td>\n",
       "      <td>1063</td>\n",
       "      <td>14091</td>\n",
       "    </tr>\n",
       "    <tr>\n",
       "      <th>1</th>\n",
       "      <td>0.092346</td>\n",
       "      <td>444</td>\n",
       "      <td>4808</td>\n",
       "    </tr>\n",
       "    <tr>\n",
       "      <th>2</th>\n",
       "      <td>0.094542</td>\n",
       "      <td>194</td>\n",
       "      <td>2052</td>\n",
       "    </tr>\n",
       "    <tr>\n",
       "      <th>3</th>\n",
       "      <td>0.081818</td>\n",
       "      <td>27</td>\n",
       "      <td>330</td>\n",
       "    </tr>\n",
       "    <tr>\n",
       "      <th>4</th>\n",
       "      <td>0.097561</td>\n",
       "      <td>4</td>\n",
       "      <td>41</td>\n",
       "    </tr>\n",
       "    <tr>\n",
       "      <th>5</th>\n",
       "      <td>0.000000</td>\n",
       "      <td>0</td>\n",
       "      <td>9</td>\n",
       "    </tr>\n",
       "  </tbody>\n",
       "</table>\n",
       "</div>"
      ],
      "text/plain": [
       "              mean   sum  count\n",
       "              debt  debt   debt\n",
       "children                       \n",
       "0         0.075438  1063  14091\n",
       "1         0.092346   444   4808\n",
       "2         0.094542   194   2052\n",
       "3         0.081818    27    330\n",
       "4         0.097561     4     41\n",
       "5         0.000000     0      9"
      ]
     },
     "metadata": {},
     "output_type": "display_data"
    }
   ],
   "source": [
    "# Ваш код будет здесь. Вы можете создавать новые ячейки.\n",
    "data_kids = data.pivot_table(index = ['children'], values = 'debt', aggfunc = ['mean', 'sum', 'count'])\n",
    "display(data_kids)"
   ]
  },
  {
   "cell_type": "markdown",
   "id": "5e6238a2",
   "metadata": {},
   "source": [
    "<div class=\"alert alert-warning\">\n",
    "    <h2> Комментарий ревьюера <a class=\"tocSkip\"> </h2>\n",
    "    \n",
    "<b>Небольшие замечания и рекомендации💡:</b> Хороший код, но я бы рекомендовал использовать display() вместо print(), так будет читабельнее"
   ]
  },
  {
   "cell_type": "markdown",
   "id": "2ca7bf8d",
   "metadata": {
    "deletable": false,
    "id": "3a6b99ec"
   },
   "source": [
    "**Вывод:** \n",
    "в таблице:\n",
    "mean - процент не вернувших кредит в срок от общего числа семей с указанным количеством детей, где \n",
    "0 - вернули в срок, 1 - не вернули\n",
    "sum - количество семей, не вернувших кредит\n",
    "count - общее количество семей с указанным количеством детей\n",
    "\n",
    "Из таблицы видно, что общее количество семей с разным количеством детей сильно разнится, семей без детей, взявших кредит, 14091, а семей с 5 детьми - всего 9. То есть выборки получаются не корректными для сравнения. Тем не менее, если не брать в расчет семьи с 5 детьми, как сильно выбивающиеся из общей картины, то можно увидеть, что процент семей без детей возвращающих кредит в срок, выше, чем у семей с детьми."
   ]
  },
  {
   "cell_type": "markdown",
   "id": "8f4dbeab",
   "metadata": {},
   "source": [
    "<div class=\"alert alert-warning\">\n",
    "    <h2> Комментарий ревьюера <a class=\"tocSkip\"> </h2>\n",
    "    \n",
    "<b>Небольшие замечания и рекомендации💡:</b> Верно, но давай еще поработаем с деталями. Почему мы не берем в расчет заемщиков с 5 детьми? Потому что выборка малочисленная и вывод по ней будет не репрезентативен? Можно ли то же самое сказать про заемщиков с 3 и 4 детьми?"
   ]
  },
  {
   "cell_type": "markdown",
   "id": "f648f6ac",
   "metadata": {},
   "source": [
    "<div class=\"alert alert-info\">\n",
    "<b>Женя, спасибо за комментарий. Я действительно упустила из виду, что выборка для семей с 3 и 4 детьми тоже невелика. То есть их тоже можно отбросить. Наиболее релевантны здесь выборки с 1 и 2 детьми против семей без детей.</b> \n",
    "</div>"
   ]
  },
  {
   "cell_type": "markdown",
   "id": "3ff255fd",
   "metadata": {},
   "source": [
    "<div class=\"alert alert-success\">\n",
    "<h2> Комментарий ревьюера v2 <a class=\"tocSkip\"> </h2>\n",
    "\n",
    "<b>Все супер!👍:</b> Хорошо)"
   ]
  },
  {
   "cell_type": "markdown",
   "id": "f8393f12",
   "metadata": {
    "deletable": false,
    "editable": false,
    "id": "97be82ca"
   },
   "source": [
    "#### 3.2 Есть ли зависимость между семейным положением и возвратом кредита в срок?"
   ]
  },
  {
   "cell_type": "code",
   "execution_count": 25,
   "id": "4397748b",
   "metadata": {
    "deletable": false,
    "id": "dc3f7ee8"
   },
   "outputs": [
    {
     "data": {
      "text/html": [
       "<div>\n",
       "<style scoped>\n",
       "    .dataframe tbody tr th:only-of-type {\n",
       "        vertical-align: middle;\n",
       "    }\n",
       "\n",
       "    .dataframe tbody tr th {\n",
       "        vertical-align: top;\n",
       "    }\n",
       "\n",
       "    .dataframe thead tr th {\n",
       "        text-align: left;\n",
       "    }\n",
       "\n",
       "    .dataframe thead tr:last-of-type th {\n",
       "        text-align: right;\n",
       "    }\n",
       "</style>\n",
       "<table border=\"1\" class=\"dataframe\">\n",
       "  <thead>\n",
       "    <tr>\n",
       "      <th></th>\n",
       "      <th>mean</th>\n",
       "      <th>sum</th>\n",
       "      <th>count</th>\n",
       "    </tr>\n",
       "    <tr>\n",
       "      <th></th>\n",
       "      <th>debt</th>\n",
       "      <th>debt</th>\n",
       "      <th>debt</th>\n",
       "    </tr>\n",
       "    <tr>\n",
       "      <th>family_status</th>\n",
       "      <th></th>\n",
       "      <th></th>\n",
       "      <th></th>\n",
       "    </tr>\n",
       "  </thead>\n",
       "  <tbody>\n",
       "    <tr>\n",
       "      <th>Не женат / не замужем</th>\n",
       "      <td>0.097639</td>\n",
       "      <td>273</td>\n",
       "      <td>2796</td>\n",
       "    </tr>\n",
       "    <tr>\n",
       "      <th>в разводе</th>\n",
       "      <td>0.070648</td>\n",
       "      <td>84</td>\n",
       "      <td>1189</td>\n",
       "    </tr>\n",
       "    <tr>\n",
       "      <th>вдовец / вдова</th>\n",
       "      <td>0.066246</td>\n",
       "      <td>63</td>\n",
       "      <td>951</td>\n",
       "    </tr>\n",
       "    <tr>\n",
       "      <th>гражданский брак</th>\n",
       "      <td>0.093130</td>\n",
       "      <td>385</td>\n",
       "      <td>4134</td>\n",
       "    </tr>\n",
       "    <tr>\n",
       "      <th>женат / замужем</th>\n",
       "      <td>0.075606</td>\n",
       "      <td>927</td>\n",
       "      <td>12261</td>\n",
       "    </tr>\n",
       "  </tbody>\n",
       "</table>\n",
       "</div>"
      ],
      "text/plain": [
       "                           mean  sum  count\n",
       "                           debt debt   debt\n",
       "family_status                              \n",
       "Не женат / не замужем  0.097639  273   2796\n",
       "в разводе              0.070648   84   1189\n",
       "вдовец / вдова         0.066246   63    951\n",
       "гражданский брак       0.093130  385   4134\n",
       "женат / замужем        0.075606  927  12261"
      ]
     },
     "metadata": {},
     "output_type": "display_data"
    }
   ],
   "source": [
    "# Ваш код будет здесь. Вы можете создавать новые ячейки.\n",
    "data_status = data.pivot_table(index = ['family_status'], values = 'debt', aggfunc = ['mean', 'sum', 'count'])\n",
    "display(data_status)\n"
   ]
  },
  {
   "cell_type": "markdown",
   "id": "3af1a92a",
   "metadata": {
    "deletable": false,
    "id": "1cef7837"
   },
   "source": [
    "**Вывод:** \n",
    "в таблице:\n",
    "mean - процент не вернувших кредит в срок от общего числа людей с указанным семейным положением, где \n",
    "0 - вернули в срок, 1 - не вернули\n",
    "sum - количество людей, не вернувших кредит\n",
    "count - общее количество людей с указанным семейным положением\n",
    "\n",
    "В данной таблице также есть сильно выбивающая группа - это те, чье семейное положение \"женат / замужем\". Остальные группы по численности более менее похожи друг на друга. Те, у кого семейное положение \"Не женат / не замужем\" и \"гражданский брак\" не возвращают кредит в срок практически в 10% случаев, в отличие от тех, у кого семейное положение \"в разводе\" и \"вдовец / вдова\", среди которых процент не вернувших кредит в срок около 6-7%."
   ]
  },
  {
   "cell_type": "markdown",
   "id": "01f82f00",
   "metadata": {},
   "source": [
    "<div class=\"alert alert-warning\">\n",
    "    <h2> Комментарий ревьюера <a class=\"tocSkip\"> </h2>\n",
    "    \n",
    "<b>Небольшие замечания и рекомендации💡:</b> Отлично, но давай искать тенденцию. Что можем сказать про заемщиков, когда-либо в брак вступавших?"
   ]
  },
  {
   "cell_type": "markdown",
   "id": "333982fe",
   "metadata": {},
   "source": [
    "<div class=\"alert alert-info\">\n",
    "<b>Я в целом указала, что группы тех, чье семейное положение \"в разводе\" и \"вдовец / вдова\", возвращают кредиты лучше. Тут стоит подчеркнуть обязательно, что это те, кто был в браке? </b> \n",
    "</div>"
   ]
  },
  {
   "cell_type": "markdown",
   "id": "387a0d2a",
   "metadata": {},
   "source": [
    "<div class=\"alert alert-success\">\n",
    "<h2> Комментарий ревьюера v2 <a class=\"tocSkip\"> </h2>\n",
    "\n",
    "<b>Все супер!👍:</b> В целом здесь выделяется группа из статусов в разводе, вдовец/вдова, женат/замужем, поэтому такой итог стоит подвести, да. Ведь мы же ищем тенденции"
   ]
  },
  {
   "cell_type": "markdown",
   "id": "1416ed20",
   "metadata": {
    "deletable": false,
    "editable": false,
    "id": "1e8b2fca"
   },
   "source": [
    "#### 3.3 Есть ли зависимость между уровнем дохода и возвратом кредита в срок?"
   ]
  },
  {
   "cell_type": "code",
   "execution_count": 26,
   "id": "f62aff01",
   "metadata": {
    "deletable": false,
    "id": "cd7e3720",
    "scrolled": true
   },
   "outputs": [
    {
     "data": {
      "text/html": [
       "<div>\n",
       "<style scoped>\n",
       "    .dataframe tbody tr th:only-of-type {\n",
       "        vertical-align: middle;\n",
       "    }\n",
       "\n",
       "    .dataframe tbody tr th {\n",
       "        vertical-align: top;\n",
       "    }\n",
       "\n",
       "    .dataframe thead tr th {\n",
       "        text-align: left;\n",
       "    }\n",
       "\n",
       "    .dataframe thead tr:last-of-type th {\n",
       "        text-align: right;\n",
       "    }\n",
       "</style>\n",
       "<table border=\"1\" class=\"dataframe\">\n",
       "  <thead>\n",
       "    <tr>\n",
       "      <th></th>\n",
       "      <th>mean</th>\n",
       "      <th>sum</th>\n",
       "      <th>count</th>\n",
       "    </tr>\n",
       "    <tr>\n",
       "      <th></th>\n",
       "      <th>debt</th>\n",
       "      <th>debt</th>\n",
       "      <th>debt</th>\n",
       "    </tr>\n",
       "    <tr>\n",
       "      <th>total_income_category</th>\n",
       "      <th></th>\n",
       "      <th></th>\n",
       "      <th></th>\n",
       "    </tr>\n",
       "  </thead>\n",
       "  <tbody>\n",
       "    <tr>\n",
       "      <th>A</th>\n",
       "      <td>0.080000</td>\n",
       "      <td>2</td>\n",
       "      <td>25</td>\n",
       "    </tr>\n",
       "    <tr>\n",
       "      <th>B</th>\n",
       "      <td>0.070602</td>\n",
       "      <td>354</td>\n",
       "      <td>5014</td>\n",
       "    </tr>\n",
       "    <tr>\n",
       "      <th>C</th>\n",
       "      <td>0.084982</td>\n",
       "      <td>1353</td>\n",
       "      <td>15921</td>\n",
       "    </tr>\n",
       "    <tr>\n",
       "      <th>D</th>\n",
       "      <td>0.060172</td>\n",
       "      <td>21</td>\n",
       "      <td>349</td>\n",
       "    </tr>\n",
       "    <tr>\n",
       "      <th>E</th>\n",
       "      <td>0.090909</td>\n",
       "      <td>2</td>\n",
       "      <td>22</td>\n",
       "    </tr>\n",
       "  </tbody>\n",
       "</table>\n",
       "</div>"
      ],
      "text/plain": [
       "                           mean   sum  count\n",
       "                           debt  debt   debt\n",
       "total_income_category                       \n",
       "A                      0.080000     2     25\n",
       "B                      0.070602   354   5014\n",
       "C                      0.084982  1353  15921\n",
       "D                      0.060172    21    349\n",
       "E                      0.090909     2     22"
      ]
     },
     "metadata": {},
     "output_type": "display_data"
    }
   ],
   "source": [
    "# Ваш код будет здесь. Вы можете создавать новые ячейки.\n",
    "# Для сравнения возьмем столбец total_income_category, в котором в коде выше (2.6) разбивали уровень дохода по категориям\n",
    "data_income = data.pivot_table(index = ['total_income_category'], values = 'debt', aggfunc = ['mean', 'sum', 'count'])\n",
    "display(data_income)\n"
   ]
  },
  {
   "cell_type": "markdown",
   "id": "26e36b47",
   "metadata": {
    "deletable": false,
    "id": "e8593def"
   },
   "source": [
    "**Вывод:** \n",
    "в таблице:\n",
    "mean - процент не вернувших кредит в срок от общего числа людей с указанным уровнем дохода, где \n",
    "0 - вернули в срок, 1 - не вернули\n",
    "sum - количество людей, не вернувших кредит\n",
    "count - общее количество людей с указанным уровнем дохода\n",
    "\n",
    "Из таблицы видно, что общее количество людей с разным уровнем дохода сильно разнится, в категориях А и Е очень маленькие выборки, всего по 25 и 22 человека, а категория С оказалась самой большой, в ней 15921 человек. Настолько разные выборки сравнивать некорректно."
   ]
  },
  {
   "cell_type": "markdown",
   "id": "a5c4ddfa",
   "metadata": {},
   "source": [
    "<div class=\"alert alert-block alert-danger\">\n",
    "<h2> Комментарий ревьюера <a class=\"tocSkip\"></h2>\n",
    "\n",
    "<b>На доработку🤔:</b>  Не репрезентативные между собой точно нельзя сравшивать, а вот репрезентативные выборки можно. Поэтому давай исключать малеьнкие выборки и работать с тем, что останется"
   ]
  },
  {
   "cell_type": "markdown",
   "id": "66526982",
   "metadata": {},
   "source": [
    "<div class=\"alert alert-info\">\n",
    "<b> Исключив маленькие выборки, оставляем для сравнения 2 категории - группа с доходом В - 200001–1000000 \n",
    "и группа с доходом С - 50001–200000. В группе В процент не вернувших вовремя кредит составляет 7%, в то \n",
    "время как в группе С - 8,5%. Можем сделать вывод, что чем выше доход, тем выше вероятность возврата \n",
    "кредита в срок. \n",
    "P.S. Меня правда немного смущает, что выборки это разнятся на 10000 человек. Это всё равно считаем репрезентативной\n",
    "выборкой?</b> \n",
    "</div>"
   ]
  },
  {
   "cell_type": "markdown",
   "id": "fc707267",
   "metadata": {},
   "source": [
    "<div class=\"alert alert-success\">\n",
    "<h2> Комментарий ревьюера v2 <a class=\"tocSkip\"> </h2>\n",
    "\n",
    "<b>Все супер!👍:</b> Вывод верный, выборки считать репрезентативными. Длярепрезентативности введен процентаж - категорияз должна состять хотя бы и 5% от суммарного количества строк в датафрейме. То, что категории отличаются по численности - факт, но вывод делать можно"
   ]
  },
  {
   "cell_type": "markdown",
   "id": "5bd90d09",
   "metadata": {
    "deletable": false,
    "editable": false,
    "id": "99ecbd1f"
   },
   "source": [
    "#### 3.4 Как разные цели кредита влияют на его возврат в срок?"
   ]
  },
  {
   "cell_type": "code",
   "execution_count": 29,
   "id": "56516346",
   "metadata": {
    "deletable": false,
    "id": "2b687290"
   },
   "outputs": [
    {
     "data": {
      "text/html": [
       "<div>\n",
       "<style scoped>\n",
       "    .dataframe tbody tr th:only-of-type {\n",
       "        vertical-align: middle;\n",
       "    }\n",
       "\n",
       "    .dataframe tbody tr th {\n",
       "        vertical-align: top;\n",
       "    }\n",
       "\n",
       "    .dataframe thead tr th {\n",
       "        text-align: left;\n",
       "    }\n",
       "\n",
       "    .dataframe thead tr:last-of-type th {\n",
       "        text-align: right;\n",
       "    }\n",
       "</style>\n",
       "<table border=\"1\" class=\"dataframe\">\n",
       "  <thead>\n",
       "    <tr>\n",
       "      <th></th>\n",
       "      <th>mean</th>\n",
       "      <th>sum</th>\n",
       "      <th>count</th>\n",
       "    </tr>\n",
       "    <tr>\n",
       "      <th></th>\n",
       "      <th>debt</th>\n",
       "      <th>debt</th>\n",
       "      <th>debt</th>\n",
       "    </tr>\n",
       "    <tr>\n",
       "      <th>purpose_category</th>\n",
       "      <th></th>\n",
       "      <th></th>\n",
       "      <th></th>\n",
       "    </tr>\n",
       "  </thead>\n",
       "  <tbody>\n",
       "    <tr>\n",
       "      <th>операции с автомобилем</th>\n",
       "      <td>0.093480</td>\n",
       "      <td>400</td>\n",
       "      <td>4279</td>\n",
       "    </tr>\n",
       "    <tr>\n",
       "      <th>операции с недвижимостью</th>\n",
       "      <td>0.072551</td>\n",
       "      <td>780</td>\n",
       "      <td>10751</td>\n",
       "    </tr>\n",
       "    <tr>\n",
       "      <th>получение образования</th>\n",
       "      <td>0.092528</td>\n",
       "      <td>369</td>\n",
       "      <td>3988</td>\n",
       "    </tr>\n",
       "    <tr>\n",
       "      <th>проведение свадьбы</th>\n",
       "      <td>0.079118</td>\n",
       "      <td>183</td>\n",
       "      <td>2313</td>\n",
       "    </tr>\n",
       "  </tbody>\n",
       "</table>\n",
       "</div>"
      ],
      "text/plain": [
       "                              mean  sum  count\n",
       "                              debt debt   debt\n",
       "purpose_category                              \n",
       "операции с автомобилем    0.093480  400   4279\n",
       "операции с недвижимостью  0.072551  780  10751\n",
       "получение образования     0.092528  369   3988\n",
       "проведение свадьбы        0.079118  183   2313"
      ]
     },
     "metadata": {},
     "output_type": "display_data"
    }
   ],
   "source": [
    "# Ваш код будет здесь. Вы можете создавать новые ячейки.\n",
    "# Для сравнения возьмем столбец purpose_category, в котором в коде выше (2.6) разбивали цели кредита по категориям\n",
    "data_purpose = data.pivot_table(index = ['purpose_category'], values = 'debt', aggfunc = ['mean', 'sum', 'count'])\n",
    "display(data_purpose)"
   ]
  },
  {
   "cell_type": "markdown",
   "id": "4842b649",
   "metadata": {
    "deletable": false,
    "id": "b4bb2ce6"
   },
   "source": [
    "**Вывод:** \n",
    "в таблице:\n",
    "mean - процент не вернувших кредит в срок от общего числа людей с указанной целью кредита, где \n",
    "0 - вернули в срок, 1 - не вернули\n",
    "sum - количество людей, не вернувших кредит\n",
    "count - общее количество людей с указанной целью кредита\n",
    "\n",
    "В таблице есть сильно выбивающая по численности группа - это те, кто брал кредит на операции с недвижимостью. Остальные группы по численности более менее похожи друг на друга. Процент не вернувших вовремя кредит не сильно зависит от цели кредита, он колеблется примерно от 7,9% до 9,3%. "
   ]
  },
  {
   "cell_type": "markdown",
   "id": "dcca304f",
   "metadata": {},
   "source": [
    "<div class=\"alert alert-warning\">\n",
    "    <h2> Комментарий ревьюера <a class=\"tocSkip\"> </h2>\n",
    "    \n",
    "<b>Небольшие замечания и рекомендации💡:</b> И все же банку важно понять, какие цели более надежны, какие менее надежны, поэтому я бы отметил это здесь"
   ]
  },
  {
   "cell_type": "markdown",
   "id": "f8cef949",
   "metadata": {},
   "source": [
    "<div class=\"alert alert-info\">\n",
    "<b> Стоит отметить, что среди тех, кто брал кредит на операции с недвижимостью и на проведение свадьбы\n",
    "процент не вернувших вовремя кредит, ниже, чем тех, кто брал кредиты на авто и образование - примерно 7% \n",
    "против 9%.</b> \n",
    "</div>"
   ]
  },
  {
   "cell_type": "markdown",
   "id": "233eb8e2",
   "metadata": {},
   "source": [
    "<div class=\"alert alert-success\">\n",
    "<h2> Комментарий ревьюера v2 <a class=\"tocSkip\"> </h2>\n",
    "\n",
    "<b>Все супер!👍:</b> Верно!"
   ]
  },
  {
   "cell_type": "markdown",
   "id": "c48ee058",
   "metadata": {
    "deletable": false,
    "editable": false,
    "id": "09c3ac4c"
   },
   "source": [
    "#### 3.5 Приведите возможные причины появления пропусков в исходных данных."
   ]
  },
  {
   "cell_type": "markdown",
   "id": "8c119f41",
   "metadata": {
    "deletable": false,
    "id": "9da2ceda"
   },
   "source": [
    "*Ответ:* \n",
    "В исходных данных пропуски появились в стобцах days_employed и total_income. Это могли быть случайные пропуски, чтобы не ставить 0 или в силу человеческого фактора. Могли быть неслучайные пропуски, кто-то намеренно не хотел отвечать на эти вопросы. "
   ]
  },
  {
   "cell_type": "markdown",
   "id": "8a0e8e42",
   "metadata": {},
   "source": [
    "<div class=\"alert alert-success\">\n",
    "<h2> Комментарий ревьюера <a class=\"tocSkip\"> </h2>\n",
    "\n",
    "<b>Все супер!👍:</b> Возможно, да. Также возможно, что произошла техническая ошибка - выгрузки данных, например"
   ]
  },
  {
   "cell_type": "markdown",
   "id": "dda2bc9a",
   "metadata": {
    "deletable": false,
    "editable": false,
    "id": "7b0487d6"
   },
   "source": [
    "#### 3.6 Объясните, почему заполнить пропуски медианным значением — лучшее решение для количественных переменных."
   ]
  },
  {
   "cell_type": "markdown",
   "id": "68ab54e0",
   "metadata": {
    "deletable": false,
    "id": "7ecf2b8e"
   },
   "source": [
    "*Ответ:* \n",
    "Мы не можем увидеть, нет ли нестандартных значений в огромном массиве данных количественных переменных. Если таковые имеются, то смотреть среднее значение здесь будет уже неправильно, оно будет отклоняться в сторону нестандартных значений. Поэтому медиана при работе с количественными переменными лучше, она находится точно посередине всех значений. "
   ]
  },
  {
   "cell_type": "markdown",
   "id": "94fec535",
   "metadata": {},
   "source": [
    "<div class=\"alert alert-success\">\n",
    "<h2> Комментарий ревьюера <a class=\"tocSkip\"> </h2>\n",
    "\n",
    "<b>Все супер!👍:</b> Верно! Медиана нивелирует выбросы, а вот среднее прифметическое нет"
   ]
  },
  {
   "cell_type": "markdown",
   "id": "f0d57c50",
   "metadata": {
    "deletable": false,
    "editable": false,
    "id": "6db5255a"
   },
   "source": [
    "### Шаг 4: общий вывод."
   ]
  },
  {
   "cell_type": "markdown",
   "id": "3f371101",
   "metadata": {
    "deletable": false,
    "id": "bad65432"
   },
   "source": [
    "Напишите ваш общий вывод."
   ]
  },
  {
   "cell_type": "markdown",
   "id": "a16d3534",
   "metadata": {},
   "source": [
    "1. Семьи без детей отдают возвращают кредиты в сроки \"активнее\", чем семьи с детьми - процент \n",
    "должников среди семей без детей 7,5%, в то время как среди семей с детьми эта цифра около 9%.\n",
    "2. Те, у кого семейное положение \"Не женат / не замужем\" и \"гражданский брак\" не возвращают \n",
    "кредит в срок практически в 10% случаев, в отличие от тех, у кого семейное положение \"в разводе\" и \n",
    "\"вдовец / вдова\", среди которых процент не вернувших кредит в срок около 6-7%.\n",
    "3. Не удалось сравнить проценты должников по уровню дохода, так как выборки были слишком разные. \n",
    "4. Цели кредита не оказывают существенного влияния на возврат кредитов. Они примерно везде одинаковые -\n",
    "от 7,9% до 9,3%."
   ]
  },
  {
   "cell_type": "markdown",
   "id": "ff852747",
   "metadata": {},
   "source": [
    "<div class=\"alert alert-block alert-danger\">\n",
    "<h2> Комментарий ревьюера <a class=\"tocSkip\"></h2>\n",
    "\n",
    "<b>На доработку🤔:</b>  Поправми ошибки и вернемся сюда, хорошо?"
   ]
  },
  {
   "cell_type": "markdown",
   "id": "c9d90b3f",
   "metadata": {},
   "source": [
    "<div class=\"alert alert-info\">\n",
    "<b><p> 1. Семьи без детей отдают возвращают кредиты в сроки \"активнее\", чем семьи с детьми - процент должников среди семей без детей 7,5%, в то время как среди семей с детьми эта цифра около 9%.</p>\n",
    "<p>2. Те, у кого семейное положение \"Не женат / не замужем\" и \"гражданский брак\" не возвращают кредит в срок практически в 10% случаев, в отличие от людей, когда-либо вступавших в брак, среди которых процент не вернувших кредит в срок около 6-7%.</p>\n",
    "<p>3. Чем выше доход, тем выше вероятность возврата кредита в срок.</p> \n",
    "<p>4. Цели кредита не оказывают существенного влияния на возврат кредитов. Тем не менее, те, кто берет кредиты на операции с недвижимостью и на свадьбу, возвращают\n",
    "кредит в срок, чаще, чем те, кто берет их на операции с автомобилем и на образование.</p>\n",
    "</b> \n",
    "</div>"
   ]
  },
  {
   "cell_type": "markdown",
   "id": "0ec70b5c",
   "metadata": {},
   "source": [
    "<div class=\"alert alert-success\">\n",
    "<h2> Комментарий ревьюера v2 <a class=\"tocSkip\"> </h2>\n",
    "\n",
    "<b>Все супер!👍:</b> Хорошо"
   ]
  },
  {
   "cell_type": "markdown",
   "id": "012e0ad1",
   "metadata": {},
   "source": [
    "<div style=\"border:solid Chocolate 2px; padding: 40px\">\n",
    "    \n",
    "**Общий вывод по проекту ревьювера**:\n",
    " Ольга, спасибо за  проект! Ты приложила много усилий, чтобы довести его до конца, проделана огромная работа, и это видно невооруженным глазом, ты большой молодец!\n",
    "    \n",
    "**Отмечу положительные моменты**:\n",
    "    \n",
    "    1. Все разложено по полочкам, всегда понятен ход твоих мыслей, приятно смотреть\n",
    " \n",
    "    2. На разных шагах проекта ты предлагала очень интересные решения и методы для их реализации. Хорошая работа!\n",
    "    \n",
    "    \n",
    "**На что стоит обратить внимание**:\n",
    "    \n",
    "    1. На численность категорий и возможность делать по ним выводы\n",
    "    \n",
    "    \n",
    "**Удачи и жду твой проект на повторное ревью!**"
   ]
  },
  {
   "cell_type": "markdown",
   "id": "428e98df",
   "metadata": {},
   "source": [
    "<div style=\"border:solid Chocolate 2px; padding: 40px\">\n",
    "    \n",
    "**Общий вывод по проекту ревьювера v2**:\n",
    " Ольга, спасибо за работу, проект зачтен, поздравляю тебя! Успешной учебы и еще увидимся в Практикуме! ;)"
   ]
  }
 ],
 "metadata": {
  "ExecuteTimeLog": [
   {
    "duration": 43,
    "start_time": "2022-08-19T22:11:36.326Z"
   },
   {
    "duration": 446,
    "start_time": "2022-08-19T22:12:01.985Z"
   },
   {
    "duration": 21,
    "start_time": "2022-08-19T22:12:02.433Z"
   },
   {
    "duration": 14,
    "start_time": "2022-08-19T22:12:02.456Z"
   },
   {
    "duration": 16,
    "start_time": "2022-08-19T22:12:02.472Z"
   },
   {
    "duration": 35,
    "start_time": "2022-08-19T22:12:02.489Z"
   },
   {
    "duration": 3,
    "start_time": "2022-08-19T22:12:02.526Z"
   },
   {
    "duration": 11,
    "start_time": "2022-08-19T22:12:02.530Z"
   },
   {
    "duration": 16,
    "start_time": "2022-08-19T22:12:02.542Z"
   },
   {
    "duration": 6,
    "start_time": "2022-08-19T22:12:02.559Z"
   },
   {
    "duration": 6,
    "start_time": "2022-08-19T22:12:02.568Z"
   },
   {
    "duration": 32,
    "start_time": "2022-08-19T22:12:02.575Z"
   },
   {
    "duration": 8,
    "start_time": "2022-08-19T22:12:02.609Z"
   },
   {
    "duration": 3,
    "start_time": "2022-08-19T22:12:02.618Z"
   },
   {
    "duration": 41,
    "start_time": "2022-08-19T22:12:02.623Z"
   },
   {
    "duration": 31,
    "start_time": "2022-08-19T22:12:02.666Z"
   },
   {
    "duration": 16,
    "start_time": "2022-08-19T22:12:02.698Z"
   },
   {
    "duration": 3,
    "start_time": "2022-08-19T22:12:02.715Z"
   },
   {
    "duration": 12,
    "start_time": "2022-08-19T22:12:02.720Z"
   },
   {
    "duration": 4,
    "start_time": "2022-08-19T22:12:02.734Z"
   },
   {
    "duration": 4,
    "start_time": "2022-08-19T22:12:02.740Z"
   },
   {
    "duration": 16,
    "start_time": "2022-08-19T22:12:02.745Z"
   },
   {
    "duration": 916,
    "start_time": "2022-08-19T22:12:02.763Z"
   },
   {
    "duration": 9,
    "start_time": "2022-08-19T22:18:17.229Z"
   },
   {
    "duration": 13,
    "start_time": "2022-08-19T22:18:54.626Z"
   },
   {
    "duration": 59,
    "start_time": "2022-08-19T22:27:46.828Z"
   },
   {
    "duration": 4,
    "start_time": "2022-08-19T22:27:52.936Z"
   },
   {
    "duration": 5,
    "start_time": "2022-08-19T22:28:02.069Z"
   },
   {
    "duration": 18,
    "start_time": "2022-08-19T22:28:21.064Z"
   },
   {
    "duration": 13,
    "start_time": "2022-08-19T22:29:37.721Z"
   },
   {
    "duration": 22,
    "start_time": "2022-08-19T22:30:37.224Z"
   },
   {
    "duration": 24,
    "start_time": "2022-08-19T22:31:28.752Z"
   },
   {
    "duration": 15,
    "start_time": "2022-08-19T22:59:29.454Z"
   },
   {
    "duration": 9,
    "start_time": "2022-08-19T22:59:50.114Z"
   },
   {
    "duration": 4,
    "start_time": "2022-08-19T23:00:15.633Z"
   },
   {
    "duration": 12,
    "start_time": "2022-08-19T23:00:27.617Z"
   },
   {
    "duration": 282,
    "start_time": "2022-08-19T23:02:56.118Z"
   },
   {
    "duration": 14,
    "start_time": "2022-08-19T23:07:11.872Z"
   },
   {
    "duration": 11,
    "start_time": "2022-08-19T23:09:00.587Z"
   },
   {
    "duration": 996,
    "start_time": "2022-08-19T23:14:33.124Z"
   },
   {
    "duration": 48,
    "start_time": "2022-08-19T23:14:58.148Z"
   },
   {
    "duration": 15,
    "start_time": "2022-08-19T23:15:41.949Z"
   },
   {
    "duration": 11,
    "start_time": "2022-08-19T23:16:11.764Z"
   },
   {
    "duration": 19,
    "start_time": "2022-08-19T23:22:51.319Z"
   },
   {
    "duration": 15,
    "start_time": "2022-08-19T23:23:10.475Z"
   },
   {
    "duration": 81,
    "start_time": "2022-08-22T20:42:23.062Z"
   },
   {
    "duration": 73,
    "start_time": "2022-08-22T20:43:09.376Z"
   },
   {
    "duration": 79,
    "start_time": "2022-08-22T20:44:54.116Z"
   },
   {
    "duration": 70,
    "start_time": "2022-08-22T20:45:26.648Z"
   },
   {
    "duration": 0,
    "start_time": "2022-08-22T20:45:26.720Z"
   },
   {
    "duration": 0,
    "start_time": "2022-08-22T20:45:26.721Z"
   },
   {
    "duration": 0,
    "start_time": "2022-08-22T20:45:26.722Z"
   },
   {
    "duration": 542,
    "start_time": "2022-08-22T20:45:33.759Z"
   },
   {
    "duration": 24,
    "start_time": "2022-08-22T20:45:34.303Z"
   },
   {
    "duration": 17,
    "start_time": "2022-08-22T20:45:34.329Z"
   },
   {
    "duration": 11,
    "start_time": "2022-08-22T20:45:34.348Z"
   },
   {
    "duration": 57,
    "start_time": "2022-08-22T20:45:34.361Z"
   },
   {
    "duration": 4,
    "start_time": "2022-08-22T20:45:34.420Z"
   },
   {
    "duration": 12,
    "start_time": "2022-08-22T20:45:34.425Z"
   },
   {
    "duration": 5,
    "start_time": "2022-08-22T20:45:34.440Z"
   },
   {
    "duration": 11,
    "start_time": "2022-08-22T20:45:34.447Z"
   },
   {
    "duration": 5,
    "start_time": "2022-08-22T20:45:34.461Z"
   },
   {
    "duration": 61,
    "start_time": "2022-08-22T20:45:34.468Z"
   },
   {
    "duration": 11,
    "start_time": "2022-08-22T20:45:34.531Z"
   },
   {
    "duration": 4,
    "start_time": "2022-08-22T20:45:34.544Z"
   },
   {
    "duration": 15,
    "start_time": "2022-08-22T20:45:34.549Z"
   },
   {
    "duration": 43,
    "start_time": "2022-08-22T20:45:34.566Z"
   },
   {
    "duration": 27,
    "start_time": "2022-08-22T20:45:34.610Z"
   },
   {
    "duration": 5,
    "start_time": "2022-08-22T20:45:34.640Z"
   },
   {
    "duration": 46,
    "start_time": "2022-08-22T20:45:34.647Z"
   },
   {
    "duration": 6,
    "start_time": "2022-08-22T20:45:34.695Z"
   },
   {
    "duration": 4,
    "start_time": "2022-08-22T20:45:34.702Z"
   },
   {
    "duration": 16,
    "start_time": "2022-08-22T20:45:34.707Z"
   },
   {
    "duration": 79,
    "start_time": "2022-08-22T20:45:38.037Z"
   },
   {
    "duration": 105,
    "start_time": "2022-08-22T20:46:28.022Z"
   },
   {
    "duration": 29,
    "start_time": "2022-08-22T20:48:11.889Z"
   },
   {
    "duration": 31,
    "start_time": "2022-08-22T21:07:19.880Z"
   },
   {
    "duration": 25,
    "start_time": "2022-08-22T21:39:16.636Z"
   },
   {
    "duration": 28,
    "start_time": "2022-08-22T22:01:45.839Z"
   },
   {
    "duration": 64,
    "start_time": "2022-08-23T17:26:39.050Z"
   },
   {
    "duration": 752,
    "start_time": "2022-08-23T17:26:45.361Z"
   },
   {
    "duration": 31,
    "start_time": "2022-08-23T17:26:46.117Z"
   },
   {
    "duration": 23,
    "start_time": "2022-08-23T17:26:46.150Z"
   },
   {
    "duration": 31,
    "start_time": "2022-08-23T17:26:46.177Z"
   },
   {
    "duration": 44,
    "start_time": "2022-08-23T17:26:46.211Z"
   },
   {
    "duration": 4,
    "start_time": "2022-08-23T17:26:46.256Z"
   },
   {
    "duration": 12,
    "start_time": "2022-08-23T17:26:46.262Z"
   },
   {
    "duration": 32,
    "start_time": "2022-08-23T17:26:46.276Z"
   },
   {
    "duration": 29,
    "start_time": "2022-08-23T17:26:46.311Z"
   },
   {
    "duration": 5,
    "start_time": "2022-08-23T17:26:46.343Z"
   },
   {
    "duration": 38,
    "start_time": "2022-08-23T17:26:46.350Z"
   },
   {
    "duration": 20,
    "start_time": "2022-08-23T17:26:46.408Z"
   },
   {
    "duration": 20,
    "start_time": "2022-08-23T17:26:46.430Z"
   },
   {
    "duration": 16,
    "start_time": "2022-08-23T17:26:46.452Z"
   },
   {
    "duration": 34,
    "start_time": "2022-08-23T17:26:46.470Z"
   },
   {
    "duration": 28,
    "start_time": "2022-08-23T17:26:46.506Z"
   },
   {
    "duration": 3,
    "start_time": "2022-08-23T17:26:46.536Z"
   },
   {
    "duration": 14,
    "start_time": "2022-08-23T17:26:46.541Z"
   },
   {
    "duration": 12,
    "start_time": "2022-08-23T17:26:46.557Z"
   },
   {
    "duration": 13,
    "start_time": "2022-08-23T17:26:46.573Z"
   },
   {
    "duration": 20,
    "start_time": "2022-08-23T17:26:46.604Z"
   },
   {
    "duration": 58,
    "start_time": "2022-08-23T17:26:48.705Z"
   },
   {
    "duration": 30,
    "start_time": "2022-08-23T17:27:03.708Z"
   },
   {
    "duration": 55,
    "start_time": "2022-08-23T18:04:43.870Z"
   },
   {
    "duration": 30,
    "start_time": "2022-08-23T18:07:52.923Z"
   },
   {
    "duration": 52,
    "start_time": "2022-08-23T18:14:07.933Z"
   },
   {
    "duration": 108,
    "start_time": "2022-08-23T18:18:00.055Z"
   },
   {
    "duration": 33,
    "start_time": "2022-08-23T18:25:35.044Z"
   }
  ],
  "celltoolbar": "Отсутствует",
  "colab": {
   "name": "dpp_template_part2.ipynb",
   "provenance": []
  },
  "kernelspec": {
   "display_name": "Python 3 (ipykernel)",
   "language": "python",
   "name": "python3"
  },
  "language_info": {
   "codemirror_mode": {
    "name": "ipython",
    "version": 3
   },
   "file_extension": ".py",
   "mimetype": "text/x-python",
   "name": "python",
   "nbconvert_exporter": "python",
   "pygments_lexer": "ipython3",
   "version": "3.9.5"
  },
  "toc": {
   "base_numbering": 1,
   "nav_menu": {},
   "number_sections": true,
   "sideBar": true,
   "skip_h1_title": true,
   "title_cell": "Table of Contents",
   "title_sidebar": "Contents",
   "toc_cell": false,
   "toc_position": {},
   "toc_section_display": true,
   "toc_window_display": false
  }
 },
 "nbformat": 4,
 "nbformat_minor": 5
}
