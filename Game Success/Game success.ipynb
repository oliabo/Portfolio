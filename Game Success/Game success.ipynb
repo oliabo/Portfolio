{
 "cells": [
  {
   "cell_type": "markdown",
   "metadata": {},
   "source": [
    "# Изучение закономерностей, определяющих успешность игр"
   ]
  },
  {
   "cell_type": "markdown",
   "metadata": {},
   "source": [
    "### Описание проекта\n",
    "У нас есть база данных за несколько лет с информацией по продажам компьютерных игр на различных платформах, а также такие данные, как оценки пользователей и экспертов, жанры, возрастной рейтинг, продажи в различных регионах.</b></font><br>\n",
    "Нужно понять, как спланировать рекламную кампанию на 2017 год, опираясь на эти данные. Их нужно изучить и обработать, найдя среди всех данные наиболее релевантные для того, чтобы сделать на их основе прогноз. </b></font><br>\n",
    "\n",
    "Примерный план: \n",
    "1. Изучение информации и подготовка данных к дальнейшей работе с ними\n",
    "2. Проведение исследовательского анализа очищенных данных \n",
    "3. Выдвижение и проверка гипотез \n",
    "4. Выводы по проделанной работе"
   ]
  },
  {
   "cell_type": "markdown",
   "metadata": {},
   "source": [
    "## Общая информация"
   ]
  },
  {
   "cell_type": "code",
   "execution_count": 1,
   "metadata": {},
   "outputs": [],
   "source": [
    "import pandas as pd\n",
    "import numpy as np\n",
    "import seaborn as sns\n",
    "import matplotlib.pyplot as plt\n",
    "from scipy import stats as st"
   ]
  },
  {
   "cell_type": "code",
   "execution_count": 2,
   "metadata": {},
   "outputs": [
    {
     "data": {
      "text/html": [
       "<div>\n",
       "<style scoped>\n",
       "    .dataframe tbody tr th:only-of-type {\n",
       "        vertical-align: middle;\n",
       "    }\n",
       "\n",
       "    .dataframe tbody tr th {\n",
       "        vertical-align: top;\n",
       "    }\n",
       "\n",
       "    .dataframe thead th {\n",
       "        text-align: right;\n",
       "    }\n",
       "</style>\n",
       "<table border=\"1\" class=\"dataframe\">\n",
       "  <thead>\n",
       "    <tr style=\"text-align: right;\">\n",
       "      <th></th>\n",
       "      <th>Name</th>\n",
       "      <th>Platform</th>\n",
       "      <th>Year_of_Release</th>\n",
       "      <th>Genre</th>\n",
       "      <th>NA_sales</th>\n",
       "      <th>EU_sales</th>\n",
       "      <th>JP_sales</th>\n",
       "      <th>Other_sales</th>\n",
       "      <th>Critic_Score</th>\n",
       "      <th>User_Score</th>\n",
       "      <th>Rating</th>\n",
       "    </tr>\n",
       "  </thead>\n",
       "  <tbody>\n",
       "    <tr>\n",
       "      <th>0</th>\n",
       "      <td>Wii Sports</td>\n",
       "      <td>Wii</td>\n",
       "      <td>2006.0</td>\n",
       "      <td>Sports</td>\n",
       "      <td>41.36</td>\n",
       "      <td>28.96</td>\n",
       "      <td>3.77</td>\n",
       "      <td>8.45</td>\n",
       "      <td>76.0</td>\n",
       "      <td>8</td>\n",
       "      <td>E</td>\n",
       "    </tr>\n",
       "    <tr>\n",
       "      <th>1</th>\n",
       "      <td>Super Mario Bros.</td>\n",
       "      <td>NES</td>\n",
       "      <td>1985.0</td>\n",
       "      <td>Platform</td>\n",
       "      <td>29.08</td>\n",
       "      <td>3.58</td>\n",
       "      <td>6.81</td>\n",
       "      <td>0.77</td>\n",
       "      <td>NaN</td>\n",
       "      <td>NaN</td>\n",
       "      <td>NaN</td>\n",
       "    </tr>\n",
       "    <tr>\n",
       "      <th>2</th>\n",
       "      <td>Mario Kart Wii</td>\n",
       "      <td>Wii</td>\n",
       "      <td>2008.0</td>\n",
       "      <td>Racing</td>\n",
       "      <td>15.68</td>\n",
       "      <td>12.76</td>\n",
       "      <td>3.79</td>\n",
       "      <td>3.29</td>\n",
       "      <td>82.0</td>\n",
       "      <td>8.3</td>\n",
       "      <td>E</td>\n",
       "    </tr>\n",
       "    <tr>\n",
       "      <th>3</th>\n",
       "      <td>Wii Sports Resort</td>\n",
       "      <td>Wii</td>\n",
       "      <td>2009.0</td>\n",
       "      <td>Sports</td>\n",
       "      <td>15.61</td>\n",
       "      <td>10.93</td>\n",
       "      <td>3.28</td>\n",
       "      <td>2.95</td>\n",
       "      <td>80.0</td>\n",
       "      <td>8</td>\n",
       "      <td>E</td>\n",
       "    </tr>\n",
       "    <tr>\n",
       "      <th>4</th>\n",
       "      <td>Pokemon Red/Pokemon Blue</td>\n",
       "      <td>GB</td>\n",
       "      <td>1996.0</td>\n",
       "      <td>Role-Playing</td>\n",
       "      <td>11.27</td>\n",
       "      <td>8.89</td>\n",
       "      <td>10.22</td>\n",
       "      <td>1.00</td>\n",
       "      <td>NaN</td>\n",
       "      <td>NaN</td>\n",
       "      <td>NaN</td>\n",
       "    </tr>\n",
       "    <tr>\n",
       "      <th>5</th>\n",
       "      <td>Tetris</td>\n",
       "      <td>GB</td>\n",
       "      <td>1989.0</td>\n",
       "      <td>Puzzle</td>\n",
       "      <td>23.20</td>\n",
       "      <td>2.26</td>\n",
       "      <td>4.22</td>\n",
       "      <td>0.58</td>\n",
       "      <td>NaN</td>\n",
       "      <td>NaN</td>\n",
       "      <td>NaN</td>\n",
       "    </tr>\n",
       "    <tr>\n",
       "      <th>6</th>\n",
       "      <td>New Super Mario Bros.</td>\n",
       "      <td>DS</td>\n",
       "      <td>2006.0</td>\n",
       "      <td>Platform</td>\n",
       "      <td>11.28</td>\n",
       "      <td>9.14</td>\n",
       "      <td>6.50</td>\n",
       "      <td>2.88</td>\n",
       "      <td>89.0</td>\n",
       "      <td>8.5</td>\n",
       "      <td>E</td>\n",
       "    </tr>\n",
       "    <tr>\n",
       "      <th>7</th>\n",
       "      <td>Wii Play</td>\n",
       "      <td>Wii</td>\n",
       "      <td>2006.0</td>\n",
       "      <td>Misc</td>\n",
       "      <td>13.96</td>\n",
       "      <td>9.18</td>\n",
       "      <td>2.93</td>\n",
       "      <td>2.84</td>\n",
       "      <td>58.0</td>\n",
       "      <td>6.6</td>\n",
       "      <td>E</td>\n",
       "    </tr>\n",
       "    <tr>\n",
       "      <th>8</th>\n",
       "      <td>New Super Mario Bros. Wii</td>\n",
       "      <td>Wii</td>\n",
       "      <td>2009.0</td>\n",
       "      <td>Platform</td>\n",
       "      <td>14.44</td>\n",
       "      <td>6.94</td>\n",
       "      <td>4.70</td>\n",
       "      <td>2.24</td>\n",
       "      <td>87.0</td>\n",
       "      <td>8.4</td>\n",
       "      <td>E</td>\n",
       "    </tr>\n",
       "    <tr>\n",
       "      <th>9</th>\n",
       "      <td>Duck Hunt</td>\n",
       "      <td>NES</td>\n",
       "      <td>1984.0</td>\n",
       "      <td>Shooter</td>\n",
       "      <td>26.93</td>\n",
       "      <td>0.63</td>\n",
       "      <td>0.28</td>\n",
       "      <td>0.47</td>\n",
       "      <td>NaN</td>\n",
       "      <td>NaN</td>\n",
       "      <td>NaN</td>\n",
       "    </tr>\n",
       "    <tr>\n",
       "      <th>10</th>\n",
       "      <td>Nintendogs</td>\n",
       "      <td>DS</td>\n",
       "      <td>2005.0</td>\n",
       "      <td>Simulation</td>\n",
       "      <td>9.05</td>\n",
       "      <td>10.95</td>\n",
       "      <td>1.93</td>\n",
       "      <td>2.74</td>\n",
       "      <td>NaN</td>\n",
       "      <td>NaN</td>\n",
       "      <td>NaN</td>\n",
       "    </tr>\n",
       "    <tr>\n",
       "      <th>11</th>\n",
       "      <td>Mario Kart DS</td>\n",
       "      <td>DS</td>\n",
       "      <td>2005.0</td>\n",
       "      <td>Racing</td>\n",
       "      <td>9.71</td>\n",
       "      <td>7.47</td>\n",
       "      <td>4.13</td>\n",
       "      <td>1.90</td>\n",
       "      <td>91.0</td>\n",
       "      <td>8.6</td>\n",
       "      <td>E</td>\n",
       "    </tr>\n",
       "    <tr>\n",
       "      <th>12</th>\n",
       "      <td>Pokemon Gold/Pokemon Silver</td>\n",
       "      <td>GB</td>\n",
       "      <td>1999.0</td>\n",
       "      <td>Role-Playing</td>\n",
       "      <td>9.00</td>\n",
       "      <td>6.18</td>\n",
       "      <td>7.20</td>\n",
       "      <td>0.71</td>\n",
       "      <td>NaN</td>\n",
       "      <td>NaN</td>\n",
       "      <td>NaN</td>\n",
       "    </tr>\n",
       "    <tr>\n",
       "      <th>13</th>\n",
       "      <td>Wii Fit</td>\n",
       "      <td>Wii</td>\n",
       "      <td>2007.0</td>\n",
       "      <td>Sports</td>\n",
       "      <td>8.92</td>\n",
       "      <td>8.03</td>\n",
       "      <td>3.60</td>\n",
       "      <td>2.15</td>\n",
       "      <td>80.0</td>\n",
       "      <td>7.7</td>\n",
       "      <td>E</td>\n",
       "    </tr>\n",
       "    <tr>\n",
       "      <th>14</th>\n",
       "      <td>Kinect Adventures!</td>\n",
       "      <td>X360</td>\n",
       "      <td>2010.0</td>\n",
       "      <td>Misc</td>\n",
       "      <td>15.00</td>\n",
       "      <td>4.89</td>\n",
       "      <td>0.24</td>\n",
       "      <td>1.69</td>\n",
       "      <td>61.0</td>\n",
       "      <td>6.3</td>\n",
       "      <td>E</td>\n",
       "    </tr>\n",
       "    <tr>\n",
       "      <th>15</th>\n",
       "      <td>Wii Fit Plus</td>\n",
       "      <td>Wii</td>\n",
       "      <td>2009.0</td>\n",
       "      <td>Sports</td>\n",
       "      <td>9.01</td>\n",
       "      <td>8.49</td>\n",
       "      <td>2.53</td>\n",
       "      <td>1.77</td>\n",
       "      <td>80.0</td>\n",
       "      <td>7.4</td>\n",
       "      <td>E</td>\n",
       "    </tr>\n",
       "    <tr>\n",
       "      <th>16</th>\n",
       "      <td>Grand Theft Auto V</td>\n",
       "      <td>PS3</td>\n",
       "      <td>2013.0</td>\n",
       "      <td>Action</td>\n",
       "      <td>7.02</td>\n",
       "      <td>9.09</td>\n",
       "      <td>0.98</td>\n",
       "      <td>3.96</td>\n",
       "      <td>97.0</td>\n",
       "      <td>8.2</td>\n",
       "      <td>M</td>\n",
       "    </tr>\n",
       "    <tr>\n",
       "      <th>17</th>\n",
       "      <td>Grand Theft Auto: San Andreas</td>\n",
       "      <td>PS2</td>\n",
       "      <td>2004.0</td>\n",
       "      <td>Action</td>\n",
       "      <td>9.43</td>\n",
       "      <td>0.40</td>\n",
       "      <td>0.41</td>\n",
       "      <td>10.57</td>\n",
       "      <td>95.0</td>\n",
       "      <td>9</td>\n",
       "      <td>M</td>\n",
       "    </tr>\n",
       "    <tr>\n",
       "      <th>18</th>\n",
       "      <td>Super Mario World</td>\n",
       "      <td>SNES</td>\n",
       "      <td>1990.0</td>\n",
       "      <td>Platform</td>\n",
       "      <td>12.78</td>\n",
       "      <td>3.75</td>\n",
       "      <td>3.54</td>\n",
       "      <td>0.55</td>\n",
       "      <td>NaN</td>\n",
       "      <td>NaN</td>\n",
       "      <td>NaN</td>\n",
       "    </tr>\n",
       "    <tr>\n",
       "      <th>19</th>\n",
       "      <td>Brain Age: Train Your Brain in Minutes a Day</td>\n",
       "      <td>DS</td>\n",
       "      <td>2005.0</td>\n",
       "      <td>Misc</td>\n",
       "      <td>4.74</td>\n",
       "      <td>9.20</td>\n",
       "      <td>4.16</td>\n",
       "      <td>2.04</td>\n",
       "      <td>77.0</td>\n",
       "      <td>7.9</td>\n",
       "      <td>E</td>\n",
       "    </tr>\n",
       "  </tbody>\n",
       "</table>\n",
       "</div>"
      ],
      "text/plain": [
       "                                            Name Platform  Year_of_Release  \\\n",
       "0                                     Wii Sports      Wii           2006.0   \n",
       "1                              Super Mario Bros.      NES           1985.0   \n",
       "2                                 Mario Kart Wii      Wii           2008.0   \n",
       "3                              Wii Sports Resort      Wii           2009.0   \n",
       "4                       Pokemon Red/Pokemon Blue       GB           1996.0   \n",
       "5                                         Tetris       GB           1989.0   \n",
       "6                          New Super Mario Bros.       DS           2006.0   \n",
       "7                                       Wii Play      Wii           2006.0   \n",
       "8                      New Super Mario Bros. Wii      Wii           2009.0   \n",
       "9                                      Duck Hunt      NES           1984.0   \n",
       "10                                    Nintendogs       DS           2005.0   \n",
       "11                                 Mario Kart DS       DS           2005.0   \n",
       "12                   Pokemon Gold/Pokemon Silver       GB           1999.0   \n",
       "13                                       Wii Fit      Wii           2007.0   \n",
       "14                            Kinect Adventures!     X360           2010.0   \n",
       "15                                  Wii Fit Plus      Wii           2009.0   \n",
       "16                            Grand Theft Auto V      PS3           2013.0   \n",
       "17                 Grand Theft Auto: San Andreas      PS2           2004.0   \n",
       "18                             Super Mario World     SNES           1990.0   \n",
       "19  Brain Age: Train Your Brain in Minutes a Day       DS           2005.0   \n",
       "\n",
       "           Genre  NA_sales  EU_sales  JP_sales  Other_sales  Critic_Score  \\\n",
       "0         Sports     41.36     28.96      3.77         8.45          76.0   \n",
       "1       Platform     29.08      3.58      6.81         0.77           NaN   \n",
       "2         Racing     15.68     12.76      3.79         3.29          82.0   \n",
       "3         Sports     15.61     10.93      3.28         2.95          80.0   \n",
       "4   Role-Playing     11.27      8.89     10.22         1.00           NaN   \n",
       "5         Puzzle     23.20      2.26      4.22         0.58           NaN   \n",
       "6       Platform     11.28      9.14      6.50         2.88          89.0   \n",
       "7           Misc     13.96      9.18      2.93         2.84          58.0   \n",
       "8       Platform     14.44      6.94      4.70         2.24          87.0   \n",
       "9        Shooter     26.93      0.63      0.28         0.47           NaN   \n",
       "10    Simulation      9.05     10.95      1.93         2.74           NaN   \n",
       "11        Racing      9.71      7.47      4.13         1.90          91.0   \n",
       "12  Role-Playing      9.00      6.18      7.20         0.71           NaN   \n",
       "13        Sports      8.92      8.03      3.60         2.15          80.0   \n",
       "14          Misc     15.00      4.89      0.24         1.69          61.0   \n",
       "15        Sports      9.01      8.49      2.53         1.77          80.0   \n",
       "16        Action      7.02      9.09      0.98         3.96          97.0   \n",
       "17        Action      9.43      0.40      0.41        10.57          95.0   \n",
       "18      Platform     12.78      3.75      3.54         0.55           NaN   \n",
       "19          Misc      4.74      9.20      4.16         2.04          77.0   \n",
       "\n",
       "   User_Score Rating  \n",
       "0           8      E  \n",
       "1         NaN    NaN  \n",
       "2         8.3      E  \n",
       "3           8      E  \n",
       "4         NaN    NaN  \n",
       "5         NaN    NaN  \n",
       "6         8.5      E  \n",
       "7         6.6      E  \n",
       "8         8.4      E  \n",
       "9         NaN    NaN  \n",
       "10        NaN    NaN  \n",
       "11        8.6      E  \n",
       "12        NaN    NaN  \n",
       "13        7.7      E  \n",
       "14        6.3      E  \n",
       "15        7.4      E  \n",
       "16        8.2      M  \n",
       "17          9      M  \n",
       "18        NaN    NaN  \n",
       "19        7.9      E  "
      ]
     },
     "metadata": {},
     "output_type": "display_data"
    },
    {
     "name": "stdout",
     "output_type": "stream",
     "text": [
      "<class 'pandas.core.frame.DataFrame'>\n",
      "RangeIndex: 16715 entries, 0 to 16714\n",
      "Data columns (total 11 columns):\n",
      " #   Column           Non-Null Count  Dtype  \n",
      "---  ------           --------------  -----  \n",
      " 0   Name             16713 non-null  object \n",
      " 1   Platform         16715 non-null  object \n",
      " 2   Year_of_Release  16446 non-null  float64\n",
      " 3   Genre            16713 non-null  object \n",
      " 4   NA_sales         16715 non-null  float64\n",
      " 5   EU_sales         16715 non-null  float64\n",
      " 6   JP_sales         16715 non-null  float64\n",
      " 7   Other_sales      16715 non-null  float64\n",
      " 8   Critic_Score     8137 non-null   float64\n",
      " 9   User_Score       10014 non-null  object \n",
      " 10  Rating           9949 non-null   object \n",
      "dtypes: float64(6), object(5)\n",
      "memory usage: 1.4+ MB\n"
     ]
    }
   ],
   "source": [
    "data = pd.read_csv('/datasets/games.csv')\n",
    "display(data.head(20))\n",
    "data.info()"
   ]
  },
  {
   "cell_type": "code",
   "execution_count": 3,
   "metadata": {},
   "outputs": [
    {
     "data": {
      "text/plain": [
       "0"
      ]
     },
     "execution_count": 3,
     "metadata": {},
     "output_type": "execute_result"
    }
   ],
   "source": [
    "data.duplicated().sum()"
   ]
  },
  {
   "cell_type": "markdown",
   "metadata": {},
   "source": [
    "Явных дубликатов в данных не обнаружено"
   ]
  },
  {
   "cell_type": "markdown",
   "metadata": {},
   "source": [
    "## Подготовка данных ##"
   ]
  },
  {
   "cell_type": "markdown",
   "metadata": {},
   "source": [
    "Заменим названия столбцов (приведем к нижнему регистру)"
   ]
  },
  {
   "cell_type": "code",
   "execution_count": 4,
   "metadata": {},
   "outputs": [],
   "source": [
    "data = data.rename(\n",
    "columns={'Name': 'name', \n",
    "       'Platform': 'platform', \n",
    "       'Year_of_Release': 'year_of_release', \n",
    "       'Genre': 'genre', \n",
    "       'NA_sales': 'na_sales', \n",
    "       'EU_sales': 'eu_sales', \n",
    "       'JP_sales': 'jp_sales', \n",
    "       'Other_sales': 'other_sales', \n",
    "       'Critic_Score': 'critic_score', \n",
    "       'User_Score': 'user_score', \n",
    "       'Rating': 'rating'}\n",
    ")"
   ]
  },
  {
   "cell_type": "markdown",
   "metadata": {},
   "source": [
    "Преобразуем данные в нужные типы. Опишем, в каких столбцах заменили тип данных и почему"
   ]
  },
  {
   "cell_type": "markdown",
   "metadata": {},
   "source": [
    "Посмотрим, сколько пропусков в столбце year_of_release, чтобы принять решение о том, что делать с типом данных дальше"
   ]
  },
  {
   "cell_type": "code",
   "execution_count": 5,
   "metadata": {},
   "outputs": [
    {
     "data": {
      "text/plain": [
       "269"
      ]
     },
     "execution_count": 5,
     "metadata": {},
     "output_type": "execute_result"
    }
   ],
   "source": [
    "data['year_of_release'].isna().sum()"
   ]
  },
  {
   "cell_type": "markdown",
   "metadata": {},
   "source": [
    "Всего 269 пропусков из 16446 значений. Удаляем строки, в которых пропущен год выпуска игры. Далее приведем тип данных в столбце year_of_release к int"
   ]
  },
  {
   "cell_type": "code",
   "execution_count": 6,
   "metadata": {},
   "outputs": [],
   "source": [
    "data = data.dropna(subset=['year_of_release'])\n",
    "data['year_of_release'] = data['year_of_release'].astype('int')"
   ]
  },
  {
   "cell_type": "markdown",
   "metadata": {},
   "source": [
    "Посмотрим, сколько пропусков в столбце critic_score, чтобы принять решение о том, что делать с типом данных дальше"
   ]
  },
  {
   "cell_type": "code",
   "execution_count": 7,
   "metadata": {},
   "outputs": [
    {
     "data": {
      "text/plain": [
       "8463"
      ]
     },
     "execution_count": 7,
     "metadata": {},
     "output_type": "execute_result"
    }
   ],
   "source": [
    "data['critic_score'].isna().sum()"
   ]
  },
  {
   "cell_type": "markdown",
   "metadata": {},
   "source": [
    "Здесь пропущено слишком много данных, чтобы их удалить, но и если заполнить пустые строки 0 или медианой, это может сказаться на конечных результатах. Поэтому оставим пропуски NAN. "
   ]
  },
  {
   "cell_type": "markdown",
   "metadata": {},
   "source": [
    "Посмотрим, сколько пропусков в столбце user_score, чтобы принять решение о том, что делать с типом данных дальше"
   ]
  },
  {
   "cell_type": "code",
   "execution_count": 8,
   "metadata": {},
   "outputs": [
    {
     "data": {
      "text/plain": [
       "6607"
      ]
     },
     "execution_count": 8,
     "metadata": {},
     "output_type": "execute_result"
    }
   ],
   "source": [
    "data['user_score'].isna().sum()"
   ]
  },
  {
   "cell_type": "markdown",
   "metadata": {},
   "source": [
    "Здесь пропущено слишком много данных, чтобы их удалить, но и если заполнить пустые строки 0 или медианой, это может сказаться на конечных результатах. Поэтому оставим пропуски NAN. "
   ]
  },
  {
   "cell_type": "markdown",
   "metadata": {},
   "source": [
    "Посмотрим также, сколько значений tbd есть в данном столбце"
   ]
  },
  {
   "cell_type": "code",
   "execution_count": 9,
   "metadata": {},
   "outputs": [
    {
     "data": {
      "text/plain": [
       "tbd    2376\n",
       "Name: user_score, dtype: int64"
      ]
     },
     "execution_count": 9,
     "metadata": {},
     "output_type": "execute_result"
    }
   ],
   "source": [
    "data.loc[data['user_score'] == 'tbd', 'user_score'].value_counts()"
   ]
  },
  {
   "cell_type": "markdown",
   "metadata": {},
   "source": [
    "Значений tbd слишком много, чтобы на них не обращать внимание. Эта аббревиатура расшифровывается, как To Be Determined, то есть \"Будет определено\", то есть по сути оценки еще нет. Можно заменить эту аббревиатуру на NAN."
   ]
  },
  {
   "cell_type": "code",
   "execution_count": 10,
   "metadata": {},
   "outputs": [],
   "source": [
    "data.loc[data['user_score'] == 'tbd', 'user_score'] = float('NaN')\n",
    "data['user_score'] = data['user_score'].astype('float')"
   ]
  },
  {
   "cell_type": "markdown",
   "metadata": {},
   "source": [
    "Посмотрим, какие значения есть в столбце рейтинги"
   ]
  },
  {
   "cell_type": "code",
   "execution_count": 11,
   "metadata": {},
   "outputs": [
    {
     "data": {
      "text/plain": [
       "array(['E', nan, 'M', 'T', 'E10+', 'K-A', 'AO', 'EC', 'RP'], dtype=object)"
      ]
     },
     "execution_count": 11,
     "metadata": {},
     "output_type": "execute_result"
    }
   ],
   "source": [
    "data['rating'].unique()"
   ]
  },
  {
   "cell_type": "markdown",
   "metadata": {},
   "source": [
    "Посчитаем количество пропусков в столбце с рейтингом"
   ]
  },
  {
   "cell_type": "code",
   "execution_count": 12,
   "metadata": {},
   "outputs": [
    {
     "data": {
      "text/plain": [
       "6678"
      ]
     },
     "execution_count": 12,
     "metadata": {},
     "output_type": "execute_result"
    }
   ],
   "source": [
    "data['rating'].isna().sum()"
   ]
  },
  {
   "cell_type": "markdown",
   "metadata": {},
   "source": [
    "Заменяем пропуски на unknown\n",
    "\n",
    "Рейтинг ESRB используется для определения возраста, подходящего для той или иной игры в странах Северной Америки. То есть пропуски здесь стоят для стран остальных регионов. Заполним такие строки значением \"unknown\"."
   ]
  },
  {
   "cell_type": "code",
   "execution_count": 13,
   "metadata": {},
   "outputs": [],
   "source": [
    "data['rating'] = data['rating'].fillna('unknown')"
   ]
  },
  {
   "cell_type": "code",
   "execution_count": 14,
   "metadata": {},
   "outputs": [
    {
     "data": {
      "text/plain": [
       "0"
      ]
     },
     "execution_count": 14,
     "metadata": {},
     "output_type": "execute_result"
    }
   ],
   "source": [
    "data['rating'].isna().sum()"
   ]
  },
  {
   "cell_type": "markdown",
   "metadata": {},
   "source": [
    "Посчитаем суммарные продажи во всех регионах и запишем их в отдельный столбец."
   ]
  },
  {
   "cell_type": "code",
   "execution_count": 15,
   "metadata": {},
   "outputs": [],
   "source": [
    "data['region_sales'] = data['na_sales'] + data['eu_sales'] + data['jp_sales'] + data['other_sales']"
   ]
  },
  {
   "cell_type": "code",
   "execution_count": 16,
   "metadata": {},
   "outputs": [
    {
     "name": "stdout",
     "output_type": "stream",
     "text": [
      "<class 'pandas.core.frame.DataFrame'>\n",
      "Int64Index: 16446 entries, 0 to 16714\n",
      "Data columns (total 12 columns):\n",
      " #   Column           Non-Null Count  Dtype  \n",
      "---  ------           --------------  -----  \n",
      " 0   name             16444 non-null  object \n",
      " 1   platform         16446 non-null  object \n",
      " 2   year_of_release  16446 non-null  int64  \n",
      " 3   genre            16444 non-null  object \n",
      " 4   na_sales         16446 non-null  float64\n",
      " 5   eu_sales         16446 non-null  float64\n",
      " 6   jp_sales         16446 non-null  float64\n",
      " 7   other_sales      16446 non-null  float64\n",
      " 8   critic_score     7983 non-null   float64\n",
      " 9   user_score       7463 non-null   float64\n",
      " 10  rating           16446 non-null  object \n",
      " 11  region_sales     16446 non-null  float64\n",
      "dtypes: float64(7), int64(1), object(4)\n",
      "memory usage: 1.6+ MB\n",
      "None\n",
      "-------------------------\n",
      "name [' Beyblade Burst' ' Fire Emblem Fates' \" Frozen: Olaf's Quest\" ...\n",
      " 'uDraw Studio: Instant Artist' '¡Shin Chan Flipa en colores!' nan]\n",
      "name : кол-во NaN 2 , процент NaN 0.01 %\n",
      "-------------------------\n",
      "platform ['2600' '3DO' '3DS' 'DC' 'DS' 'GB' 'GBA' 'GC' 'GEN' 'GG' 'N64' 'NES' 'NG'\n",
      " 'PC' 'PCFX' 'PS' 'PS2' 'PS3' 'PS4' 'PSP' 'PSV' 'SAT' 'SCD' 'SNES' 'TG16'\n",
      " 'WS' 'Wii' 'WiiU' 'X360' 'XB' 'XOne']\n",
      "platform : кол-во NaN 0 , процент NaN 0.0 %\n",
      "-------------------------\n",
      "year_of_release [1980 1981 1982 1983 1984 1985 1986 1987 1988 1989 1990 1991 1992 1993\n",
      " 1994 1995 1996 1997 1998 1999 2000 2001 2002 2003 2004 2005 2006 2007\n",
      " 2008 2009 2010 2011 2012 2013 2014 2015 2016]\n",
      "year_of_release : кол-во NaN 0 , процент NaN 0.0 %\n",
      "-------------------------\n",
      "genre ['Action' 'Adventure' 'Fighting' 'Misc' 'Platform' 'Puzzle' 'Racing'\n",
      " 'Role-Playing' 'Shooter' 'Simulation' 'Sports' 'Strategy' nan]\n",
      "genre : кол-во NaN 2 , процент NaN 0.01 %\n",
      "-------------------------\n",
      "critic_score [13. 17. 19. 20. 21. 23. 24. 25. 26. 27. 28. 29. 30. 31. 32. 33. 34. 35.\n",
      " 36. 37. 38. 39. 40. 41. 42. 43. 44. 45. 46. 47. 48. 49. 50. 51. 52. 53.\n",
      " 54. 55. 56. 57. 58. 59. 60. 61. 62. 63. 64. 65. 66. 67. 68. 69. 70. 71.\n",
      " 72. 73. 74. 75. 76. 77. 78. 79. 80. 81. 82. 83. 84. 85. 86. 87. 88. 89.\n",
      " 90. 91. 92. 93. 94. 95. 96. 97. 98. nan]\n",
      "critic_score : кол-во NaN 8463 , процент NaN 51.46 %\n",
      "-------------------------\n",
      "user_score [0.  0.2 0.3 0.5 0.6 0.7 0.9 1.  1.1 1.2 1.3 1.4 1.5 1.6 1.7 1.8 1.9 2.\n",
      " 2.1 2.2 2.3 2.4 2.5 2.6 2.7 2.8 2.9 3.  3.1 3.2 3.3 3.4 3.5 3.6 3.7 3.8\n",
      " 3.9 4.  4.1 4.2 4.3 4.4 4.5 4.6 4.7 4.8 4.9 5.  5.1 5.2 5.3 5.4 5.5 5.6\n",
      " 5.7 5.8 5.9 6.  6.1 6.2 6.3 6.4 6.5 6.6 6.7 6.8 6.9 7.  7.1 7.2 7.3 7.4\n",
      " 7.5 7.6 7.7 7.8 7.9 8.  8.1 8.2 8.3 8.4 8.5 8.6 8.7 8.8 8.9 9.  9.1 9.2\n",
      " 9.3 9.4 9.5 9.6 9.7 nan]\n",
      "user_score : кол-во NaN 8983 , процент NaN 54.62 %\n",
      "-------------------------\n",
      "rating ['AO' 'E' 'E10+' 'EC' 'K-A' 'M' 'RP' 'T' 'unknown']\n",
      "rating : кол-во NaN 0 , процент NaN 0.0 %\n"
     ]
    }
   ],
   "source": [
    "# Посмотрим, что у нас осталось\n",
    "temp = data.copy() \n",
    "list_c = ['name', 'platform', 'year_of_release', 'genre', 'critic_score', 'user_score', 'rating']\n",
    "print(temp.info())\n",
    "for col_l in list_c:\n",
    "  print('-'* 25)\n",
    "  print(col_l, temp[col_l].sort_values().unique())\n",
    "  print(col_l,': кол-во NaN',temp[col_l].isna().sum(),\n",
    "        ', процент NaN', round(temp[col_l].isna().sum()/len(temp)*100, 2),'%')"
   ]
  },
  {
   "cell_type": "code",
   "execution_count": 17,
   "metadata": {},
   "outputs": [],
   "source": [
    "data = data.dropna(subset=['name'])"
   ]
  },
  {
   "cell_type": "code",
   "execution_count": 18,
   "metadata": {},
   "outputs": [],
   "source": [
    "data = data.dropna(subset=['genre'])"
   ]
  },
  {
   "cell_type": "markdown",
   "metadata": {},
   "source": [
    "## Исследовательский анализ данных ##"
   ]
  },
  {
   "cell_type": "markdown",
   "metadata": {},
   "source": [
    "Посмотрим, сколько игр выпускалось в разные годы. Определим, важны ли данные за все периоды."
   ]
  },
  {
   "cell_type": "code",
   "execution_count": 19,
   "metadata": {},
   "outputs": [
    {
     "data": {
      "text/plain": [
       "2008    1427\n",
       "2009    1426\n",
       "2010    1255\n",
       "2007    1197\n",
       "2011    1136\n",
       "2006    1006\n",
       "2005     939\n",
       "2002     829\n",
       "2003     775\n",
       "2004     762\n",
       "2012     653\n",
       "2015     606\n",
       "2014     581\n",
       "2013     544\n",
       "2016     502\n",
       "2001     482\n",
       "1998     379\n",
       "2000     350\n",
       "1999     338\n",
       "1997     289\n",
       "1996     263\n",
       "1995     219\n",
       "1994     121\n",
       "1993      60\n",
       "1981      46\n",
       "1992      43\n",
       "1991      41\n",
       "1982      36\n",
       "1986      21\n",
       "1983      17\n",
       "1989      17\n",
       "1990      16\n",
       "1987      16\n",
       "1988      15\n",
       "1985      14\n",
       "1984      14\n",
       "1980       9\n",
       "Name: year_of_release, dtype: int64"
      ]
     },
     "execution_count": 19,
     "metadata": {},
     "output_type": "execute_result"
    }
   ],
   "source": [
    "data['year_of_release'].value_counts()"
   ]
  },
  {
   "cell_type": "code",
   "execution_count": 20,
   "metadata": {},
   "outputs": [
    {
     "data": {
      "text/plain": [
       "Text(0, 0.5, 'общие продажи')"
      ]
     },
     "execution_count": 20,
     "metadata": {},
     "output_type": "execute_result"
    },
    {
     "data": {
      "image/png": "[encoded data removed]",
      "text/plain": [
       "<Figure size 432x288 with 1 Axes>"
      ]
     },
     "metadata": {
      "needs_background": "light"
     },
     "output_type": "display_data"
    }
   ],
   "source": [
    "data['year_of_release'].hist(bins=20)\n",
    "plt.title('Продажи игр по годам')\n",
    "plt.xlabel('года')\n",
    "plt.ylabel('общие продажи')"
   ]
  },
  {
   "cell_type": "markdown",
   "metadata": {},
   "source": [
    "С начала 80-ых годов количество выпускаемых игр довольно сильно растет. Для дальнейшей оценки можно взять данные за последние 5 лет, так как более ранние периоды уже не релевантны.   "
   ]
  },
  {
   "cell_type": "markdown",
   "metadata": {},
   "source": [
    "Посмотрим, как менялись продажи по платформам. Выберем платформы с наибольшими суммарными продажами и построим распределение по годам. Посмотрим, за какой характерный срок появляются новые и исчезают старые платформы."
   ]
  },
  {
   "cell_type": "code",
   "execution_count": 21,
   "metadata": {},
   "outputs": [
    {
     "data": {
      "text/html": [
       "<div>\n",
       "<style scoped>\n",
       "    .dataframe tbody tr th:only-of-type {\n",
       "        vertical-align: middle;\n",
       "    }\n",
       "\n",
       "    .dataframe tbody tr th {\n",
       "        vertical-align: top;\n",
       "    }\n",
       "\n",
       "    .dataframe thead th {\n",
       "        text-align: right;\n",
       "    }\n",
       "</style>\n",
       "<table border=\"1\" class=\"dataframe\">\n",
       "  <thead>\n",
       "    <tr style=\"text-align: right;\">\n",
       "      <th></th>\n",
       "      <th>region_sales</th>\n",
       "    </tr>\n",
       "    <tr>\n",
       "      <th>platform</th>\n",
       "      <th></th>\n",
       "    </tr>\n",
       "  </thead>\n",
       "  <tbody>\n",
       "    <tr>\n",
       "      <th>GB</th>\n",
       "      <td>2.622990</td>\n",
       "    </tr>\n",
       "    <tr>\n",
       "      <th>NES</th>\n",
       "      <td>2.561735</td>\n",
       "    </tr>\n",
       "    <tr>\n",
       "      <th>GEN</th>\n",
       "      <td>1.050000</td>\n",
       "    </tr>\n",
       "    <tr>\n",
       "      <th>SNES</th>\n",
       "      <td>0.836987</td>\n",
       "    </tr>\n",
       "    <tr>\n",
       "      <th>PS4</th>\n",
       "      <td>0.801378</td>\n",
       "    </tr>\n",
       "    <tr>\n",
       "      <th>X360</th>\n",
       "      <td>0.780227</td>\n",
       "    </tr>\n",
       "    <tr>\n",
       "      <th>2600</th>\n",
       "      <td>0.745517</td>\n",
       "    </tr>\n",
       "    <tr>\n",
       "      <th>PS3</th>\n",
       "      <td>0.713124</td>\n",
       "    </tr>\n",
       "    <tr>\n",
       "      <th>Wii</th>\n",
       "      <td>0.692986</td>\n",
       "    </tr>\n",
       "    <tr>\n",
       "      <th>N64</th>\n",
       "      <td>0.689905</td>\n",
       "    </tr>\n",
       "    <tr>\n",
       "      <th>XOne</th>\n",
       "      <td>0.645020</td>\n",
       "    </tr>\n",
       "    <tr>\n",
       "      <th>PS</th>\n",
       "      <td>0.611412</td>\n",
       "    </tr>\n",
       "    <tr>\n",
       "      <th>PS2</th>\n",
       "      <td>0.579953</td>\n",
       "    </tr>\n",
       "    <tr>\n",
       "      <th>WiiU</th>\n",
       "      <td>0.559116</td>\n",
       "    </tr>\n",
       "    <tr>\n",
       "      <th>3DS</th>\n",
       "      <td>0.503535</td>\n",
       "    </tr>\n",
       "    <tr>\n",
       "      <th>GBA</th>\n",
       "      <td>0.385795</td>\n",
       "    </tr>\n",
       "    <tr>\n",
       "      <th>DS</th>\n",
       "      <td>0.378491</td>\n",
       "    </tr>\n",
       "    <tr>\n",
       "      <th>GC</th>\n",
       "      <td>0.362970</td>\n",
       "    </tr>\n",
       "    <tr>\n",
       "      <th>XB</th>\n",
       "      <td>0.313288</td>\n",
       "    </tr>\n",
       "    <tr>\n",
       "      <th>SCD</th>\n",
       "      <td>0.310000</td>\n",
       "    </tr>\n",
       "    <tr>\n",
       "      <th>DC</th>\n",
       "      <td>0.306731</td>\n",
       "    </tr>\n",
       "    <tr>\n",
       "      <th>PC</th>\n",
       "      <td>0.267252</td>\n",
       "    </tr>\n",
       "    <tr>\n",
       "      <th>PSP</th>\n",
       "      <td>0.242691</td>\n",
       "    </tr>\n",
       "    <tr>\n",
       "      <th>WS</th>\n",
       "      <td>0.236667</td>\n",
       "    </tr>\n",
       "    <tr>\n",
       "      <th>SAT</th>\n",
       "      <td>0.194162</td>\n",
       "    </tr>\n",
       "    <tr>\n",
       "      <th>PSV</th>\n",
       "      <td>0.125431</td>\n",
       "    </tr>\n",
       "    <tr>\n",
       "      <th>NG</th>\n",
       "      <td>0.120000</td>\n",
       "    </tr>\n",
       "    <tr>\n",
       "      <th>TG16</th>\n",
       "      <td>0.080000</td>\n",
       "    </tr>\n",
       "    <tr>\n",
       "      <th>GG</th>\n",
       "      <td>0.040000</td>\n",
       "    </tr>\n",
       "    <tr>\n",
       "      <th>3DO</th>\n",
       "      <td>0.033333</td>\n",
       "    </tr>\n",
       "    <tr>\n",
       "      <th>PCFX</th>\n",
       "      <td>0.030000</td>\n",
       "    </tr>\n",
       "  </tbody>\n",
       "</table>\n",
       "</div>"
      ],
      "text/plain": [
       "          region_sales\n",
       "platform              \n",
       "GB            2.622990\n",
       "NES           2.561735\n",
       "GEN           1.050000\n",
       "SNES          0.836987\n",
       "PS4           0.801378\n",
       "X360          0.780227\n",
       "2600          0.745517\n",
       "PS3           0.713124\n",
       "Wii           0.692986\n",
       "N64           0.689905\n",
       "XOne          0.645020\n",
       "PS            0.611412\n",
       "PS2           0.579953\n",
       "WiiU          0.559116\n",
       "3DS           0.503535\n",
       "GBA           0.385795\n",
       "DS            0.378491\n",
       "GC            0.362970\n",
       "XB            0.313288\n",
       "SCD           0.310000\n",
       "DC            0.306731\n",
       "PC            0.267252\n",
       "PSP           0.242691\n",
       "WS            0.236667\n",
       "SAT           0.194162\n",
       "PSV           0.125431\n",
       "NG            0.120000\n",
       "TG16          0.080000\n",
       "GG            0.040000\n",
       "3DO           0.033333\n",
       "PCFX          0.030000"
      ]
     },
     "execution_count": 21,
     "metadata": {},
     "output_type": "execute_result"
    }
   ],
   "source": [
    "pd.pivot_table(data, index=['platform'], values=['region_sales']).sort_values(by='region_sales', ascending=False)\n"
   ]
  },
  {
   "cell_type": "markdown",
   "metadata": {},
   "source": [
    "Возьмем первые 5 платформ и посмотрим продажи по годам"
   ]
  },
  {
   "cell_type": "code",
   "execution_count": 22,
   "metadata": {
    "scrolled": true
   },
   "outputs": [
    {
     "data": {
      "image/png": "[encoded data removed]",
      "text/plain": [
       "<Figure size 432x288 with 1 Axes>"
      ]
     },
     "metadata": {
      "needs_background": "light"
     },
     "output_type": "display_data"
    },
    {
     "data": {
      "image/png": "[encoded data removed]",
      "text/plain": [
       "<Figure size 432x288 with 1 Axes>"
      ]
     },
     "metadata": {
      "needs_background": "light"
     },
     "output_type": "display_data"
    },
    {
     "data": {
      "image/png": "[encoded data removed]",
      "text/plain": [
       "<Figure size 432x288 with 1 Axes>"
      ]
     },
     "metadata": {
      "needs_background": "light"
     },
     "output_type": "display_data"
    },
    {
     "data": {
      "image/png": "[encoded data removed]",
      "text/plain": [
       "<Figure size 432x288 with 1 Axes>"
      ]
     },
     "metadata": {
      "needs_background": "light"
     },
     "output_type": "display_data"
    },
    {
     "data": {
      "image/png": "[encoded data removed]",
      "text/plain": [
       "<Figure size 432x288 with 1 Axes>"
      ]
     },
     "metadata": {
      "needs_background": "light"
     },
     "output_type": "display_data"
    }
   ],
   "source": [
    "#data.loc[data['user_score'] == 'tbd', 'user_score']\n",
    "#data_GB = data.loc[data['platform'] == \"GB\",'year_of_release'].sum()\n",
    "#data_GB.plot(kind='bar', figsize = (20, 6))\n",
    "#plt.xlabel('Года')\n",
    "#plt.ylabel('Продажи')\n",
    "#plt.show()\n",
    "\n",
    "for pt in ['GB', 'NES', 'GEN', 'SNES', 'PS4']:\n",
    "    data.pivot_table(columns =(data['platform'] == pt), index='year_of_release', values='region_sales')\\\n",
    "    .plot(kind='bar', title=pt)"
   ]
  },
  {
   "cell_type": "code",
   "execution_count": 23,
   "metadata": {},
   "outputs": [
    {
     "data": {
      "text/html": [
       "<div>\n",
       "<style scoped>\n",
       "    .dataframe tbody tr th:only-of-type {\n",
       "        vertical-align: middle;\n",
       "    }\n",
       "\n",
       "    .dataframe tbody tr th {\n",
       "        vertical-align: top;\n",
       "    }\n",
       "\n",
       "    .dataframe thead th {\n",
       "        text-align: right;\n",
       "    }\n",
       "</style>\n",
       "<table border=\"1\" class=\"dataframe\">\n",
       "  <thead>\n",
       "    <tr style=\"text-align: right;\">\n",
       "      <th></th>\n",
       "      <th>name</th>\n",
       "      <th>platform</th>\n",
       "      <th>year_of_release</th>\n",
       "      <th>genre</th>\n",
       "      <th>na_sales</th>\n",
       "      <th>eu_sales</th>\n",
       "      <th>jp_sales</th>\n",
       "      <th>other_sales</th>\n",
       "      <th>critic_score</th>\n",
       "      <th>user_score</th>\n",
       "      <th>rating</th>\n",
       "      <th>region_sales</th>\n",
       "    </tr>\n",
       "  </thead>\n",
       "  <tbody>\n",
       "    <tr>\n",
       "      <th>16</th>\n",
       "      <td>Grand Theft Auto V</td>\n",
       "      <td>PS3</td>\n",
       "      <td>2013</td>\n",
       "      <td>Action</td>\n",
       "      <td>7.02</td>\n",
       "      <td>9.09</td>\n",
       "      <td>0.98</td>\n",
       "      <td>3.96</td>\n",
       "      <td>97.0</td>\n",
       "      <td>8.2</td>\n",
       "      <td>M</td>\n",
       "      <td>21.05</td>\n",
       "    </tr>\n",
       "    <tr>\n",
       "      <th>23</th>\n",
       "      <td>Grand Theft Auto V</td>\n",
       "      <td>X360</td>\n",
       "      <td>2013</td>\n",
       "      <td>Action</td>\n",
       "      <td>9.66</td>\n",
       "      <td>5.14</td>\n",
       "      <td>0.06</td>\n",
       "      <td>1.41</td>\n",
       "      <td>97.0</td>\n",
       "      <td>8.1</td>\n",
       "      <td>M</td>\n",
       "      <td>16.27</td>\n",
       "    </tr>\n",
       "    <tr>\n",
       "      <th>31</th>\n",
       "      <td>Call of Duty: Black Ops 3</td>\n",
       "      <td>PS4</td>\n",
       "      <td>2015</td>\n",
       "      <td>Shooter</td>\n",
       "      <td>6.03</td>\n",
       "      <td>5.86</td>\n",
       "      <td>0.36</td>\n",
       "      <td>2.38</td>\n",
       "      <td>NaN</td>\n",
       "      <td>NaN</td>\n",
       "      <td>unknown</td>\n",
       "      <td>14.63</td>\n",
       "    </tr>\n",
       "    <tr>\n",
       "      <th>33</th>\n",
       "      <td>Pokemon X/Pokemon Y</td>\n",
       "      <td>3DS</td>\n",
       "      <td>2013</td>\n",
       "      <td>Role-Playing</td>\n",
       "      <td>5.28</td>\n",
       "      <td>4.19</td>\n",
       "      <td>4.35</td>\n",
       "      <td>0.78</td>\n",
       "      <td>NaN</td>\n",
       "      <td>NaN</td>\n",
       "      <td>unknown</td>\n",
       "      <td>14.60</td>\n",
       "    </tr>\n",
       "    <tr>\n",
       "      <th>34</th>\n",
       "      <td>Call of Duty: Black Ops II</td>\n",
       "      <td>PS3</td>\n",
       "      <td>2012</td>\n",
       "      <td>Shooter</td>\n",
       "      <td>4.99</td>\n",
       "      <td>5.73</td>\n",
       "      <td>0.65</td>\n",
       "      <td>2.42</td>\n",
       "      <td>83.0</td>\n",
       "      <td>5.3</td>\n",
       "      <td>M</td>\n",
       "      <td>13.79</td>\n",
       "    </tr>\n",
       "  </tbody>\n",
       "</table>\n",
       "</div>"
      ],
      "text/plain": [
       "                          name platform  year_of_release         genre  \\\n",
       "16          Grand Theft Auto V      PS3             2013        Action   \n",
       "23          Grand Theft Auto V     X360             2013        Action   \n",
       "31   Call of Duty: Black Ops 3      PS4             2015       Shooter   \n",
       "33         Pokemon X/Pokemon Y      3DS             2013  Role-Playing   \n",
       "34  Call of Duty: Black Ops II      PS3             2012       Shooter   \n",
       "\n",
       "    na_sales  eu_sales  jp_sales  other_sales  critic_score  user_score  \\\n",
       "16      7.02      9.09      0.98         3.96          97.0         8.2   \n",
       "23      9.66      5.14      0.06         1.41          97.0         8.1   \n",
       "31      6.03      5.86      0.36         2.38           NaN         NaN   \n",
       "33      5.28      4.19      4.35         0.78           NaN         NaN   \n",
       "34      4.99      5.73      0.65         2.42          83.0         5.3   \n",
       "\n",
       "     rating  region_sales  \n",
       "16        M         21.05  \n",
       "23        M         16.27  \n",
       "31  unknown         14.63  \n",
       "33  unknown         14.60  \n",
       "34        M         13.79  "
      ]
     },
     "execution_count": 23,
     "metadata": {},
     "output_type": "execute_result"
    }
   ],
   "source": [
    "data = data.loc[data['year_of_release'] > 2011]\n",
    "data.head()"
   ]
  },
  {
   "cell_type": "markdown",
   "metadata": {},
   "source": [
    "Какие платформы лидируют по продажам, растут или падают? Выберем несколько потенциально прибыльных платформ."
   ]
  },
  {
   "cell_type": "code",
   "execution_count": 24,
   "metadata": {},
   "outputs": [
    {
     "data": {
      "image/png": "[encoded data removed]",
      "text/plain": [
       "<Figure size 432x288 with 1 Axes>"
      ]
     },
     "metadata": {
      "needs_background": "light"
     },
     "output_type": "display_data"
    },
    {
     "data": {
      "image/png": "[encoded data removed]",
      "text/plain": [
       "<Figure size 432x288 with 1 Axes>"
      ]
     },
     "metadata": {
      "needs_background": "light"
     },
     "output_type": "display_data"
    },
    {
     "data": {
      "image/png": "[encoded data removed]",
      "text/plain": [
       "<Figure size 432x288 with 1 Axes>"
      ]
     },
     "metadata": {
      "needs_background": "light"
     },
     "output_type": "display_data"
    },
    {
     "data": {
      "image/png": "[encoded data removed]",
      "text/plain": [
       "<Figure size 432x288 with 1 Axes>"
      ]
     },
     "metadata": {
      "needs_background": "light"
     },
     "output_type": "display_data"
    },
    {
     "data": {
      "image/png": "[encoded data removed]",
      "text/plain": [
       "<Figure size 432x288 with 1 Axes>"
      ]
     },
     "metadata": {
      "needs_background": "light"
     },
     "output_type": "display_data"
    },
    {
     "data": {
      "image/png": "[encoded data removed]",
      "text/plain": [
       "<Figure size 432x288 with 1 Axes>"
      ]
     },
     "metadata": {
      "needs_background": "light"
     },
     "output_type": "display_data"
    },
    {
     "data": {
      "image/png": "[encoded data removed]",
      "text/plain": [
       "<Figure size 432x288 with 1 Axes>"
      ]
     },
     "metadata": {
      "needs_background": "light"
     },
     "output_type": "display_data"
    },
    {
     "data": {
      "image/png": "[encoded data removed]",
      "text/plain": [
       "<Figure size 432x288 with 1 Axes>"
      ]
     },
     "metadata": {
      "needs_background": "light"
     },
     "output_type": "display_data"
    },
    {
     "data": {
      "image/png": "[encoded data removed]",
      "text/plain": [
       "<Figure size 432x288 with 1 Axes>"
      ]
     },
     "metadata": {
      "needs_background": "light"
     },
     "output_type": "display_data"
    },
    {
     "data": {
      "image/png": "[encoded data removed]",
      "text/plain": [
       "<Figure size 432x288 with 1 Axes>"
      ]
     },
     "metadata": {
      "needs_background": "light"
     },
     "output_type": "display_data"
    },
    {
     "data": {
      "image/png": "[encoded data removed]",
      "text/plain": [
       "<Figure size 432x288 with 1 Axes>"
      ]
     },
     "metadata": {
      "needs_background": "light"
     },
     "output_type": "display_data"
    }
   ],
   "source": [
    "for pt in data['platform'].unique():\n",
    "    data.loc[data['platform'] == pt].groupby('year_of_release').agg({'region_sales':'sum'}).plot(title=pt)"
   ]
  },
  {
   "cell_type": "markdown",
   "metadata": {},
   "source": [
    "Многие платформы, начиная с роста в начале, позже показывают сильный спад продаж. При этом можно выделить следующие платформы с очень высокими продажми в лучшие свои годы: X360, PS3, XOne, PS4, 3DS. Остановимся на этих платформах, как на потенциально прибыльных."
   ]
  },
  {
   "cell_type": "markdown",
   "metadata": {},
   "source": [
    "Построим график «ящик с усами» по глобальным продажам игр в разбивке по выбранным платформам."
   ]
  },
  {
   "cell_type": "code",
   "execution_count": 25,
   "metadata": {},
   "outputs": [
    {
     "data": {
      "text/plain": [
       "<AxesSubplot:title={'center':'region_sales'}, xlabel='platform'>"
      ]
     },
     "execution_count": 25,
     "metadata": {},
     "output_type": "execute_result"
    },
    {
     "data": {
      "image/png": "[encoded data removed]",
      "text/plain": [
       "<Figure size 432x288 with 1 Axes>"
      ]
     },
     "metadata": {
      "needs_background": "light"
     },
     "output_type": "display_data"
    }
   ],
   "source": [
    "data.boxplot('region_sales', by='platform')"
   ]
  },
  {
   "cell_type": "code",
   "execution_count": 26,
   "metadata": {},
   "outputs": [
    {
     "data": {
      "text/plain": [
       "(0.0, 1.2)"
      ]
     },
     "execution_count": 26,
     "metadata": {},
     "output_type": "execute_result"
    },
    {
     "data": {
      "image/png": "[encoded data removed]",
      "text/plain": [
       "<Figure size 432x288 with 1 Axes>"
      ]
     },
     "metadata": {
      "needs_background": "light"
     },
     "output_type": "display_data"
    }
   ],
   "source": [
    "data.boxplot('region_sales', by='platform')\n",
    "plt.ylim(0, 1.2)"
   ]
  },
  {
   "cell_type": "raw",
   "metadata": {},
   "source": [
    "Как видно из общего графика медиана продаж для всех выбранных платформ незначительно колеблется - от 0.1 у PSP и DS до 0.3 у платформы X360. \n",
    "При этом межквартильный размах у разных платформ очень разный. Для всех платформ можно отметить большое количество выбросов на разных значениях."
   ]
  },
  {
   "cell_type": "markdown",
   "metadata": {},
   "source": [
    "Посмотрим, как влияют на продажи внутри популярных платформ отзывы пользователей и критиков. Построим диаграмму рассеяния и посчитайте корреляцию между отзывами и продажами. Сформулируем выводы."
   ]
  },
  {
   "cell_type": "code",
   "execution_count": 27,
   "metadata": {},
   "outputs": [
    {
     "name": "stdout",
     "output_type": "stream",
     "text": [
      "0.3314972592629587\n"
     ]
    },
    {
     "data": {
      "image/png": "[encoded data removed]",
      "text/plain": [
       "<Figure size 432x288 with 1 Axes>"
      ]
     },
     "metadata": {
      "needs_background": "light"
     },
     "output_type": "display_data"
    },
    {
     "name": "stdout",
     "output_type": "stream",
     "text": [
      "0.3605734888507336\n"
     ]
    },
    {
     "data": {
      "image/png": "[encoded data removed]",
      "text/plain": [
       "<Figure size 432x288 with 1 Axes>"
      ]
     },
     "metadata": {
      "needs_background": "light"
     },
     "output_type": "display_data"
    },
    {
     "name": "stdout",
     "output_type": "stream",
     "text": [
      "0.40656790206178095\n"
     ]
    },
    {
     "data": {
      "image/png": "[encoded data removed]",
      "text/plain": [
       "<Figure size 432x288 with 1 Axes>"
      ]
     },
     "metadata": {
      "needs_background": "light"
     },
     "output_type": "display_data"
    },
    {
     "name": "stdout",
     "output_type": "stream",
     "text": [
      "0.3208028695360785\n"
     ]
    },
    {
     "data": {
      "image/png": "[encoded data removed]",
      "text/plain": [
       "<Figure size 432x288 with 1 Axes>"
      ]
     },
     "metadata": {
      "needs_background": "light"
     },
     "output_type": "display_data"
    },
    {
     "name": "stdout",
     "output_type": "stream",
     "text": [
      "0.4169983280084017\n"
     ]
    },
    {
     "data": {
      "image/png": "[encoded data removed]",
      "text/plain": [
       "<Figure size 432x288 with 1 Axes>"
      ]
     },
     "metadata": {
      "needs_background": "light"
     },
     "output_type": "display_data"
    }
   ],
   "source": [
    "profit_platforms = data[data['platform'].isin([\"X360\", \"PS3\", \"PS4\", \"XOne\", \"3DS\"])]\n",
    "profit_platforms\n",
    "for pt in profit_platforms['platform'].unique():\n",
    "    profit_platforms.loc[profit_platforms['platform'] == pt].plot(x='critic_score', y='region_sales', kind='scatter', title=pt)\n",
    "    print(profit_platforms.loc[profit_platforms['platform'] == pt]['critic_score'].corr(profit_platforms.loc[profit_platforms['platform'] == pt]['region_sales']))\n",
    "    plt.show()"
   ]
  },
  {
   "cell_type": "markdown",
   "metadata": {},
   "source": [
    "Как видно из диаграмм рассеяния и коэффициентов корреляции прямая корреляция между продажи и оценками критиков есть, хотя и не очень большая. Чем выше оценка критиков, тем сильнее она влияет на рост продаж."
   ]
  },
  {
   "cell_type": "code",
   "execution_count": 28,
   "metadata": {},
   "outputs": [
    {
     "name": "stdout",
     "output_type": "stream",
     "text": [
      "-0.005143522887113828\n"
     ]
    },
    {
     "data": {
      "image/png": "[encoded data removed]",
      "text/plain": [
       "<Figure size 432x288 with 1 Axes>"
      ]
     },
     "metadata": {
      "needs_background": "light"
     },
     "output_type": "display_data"
    },
    {
     "name": "stdout",
     "output_type": "stream",
     "text": [
      "0.006163978646213326\n"
     ]
    },
    {
     "data": {
      "image/png": "[encoded data removed]",
      "text/plain": [
       "<Figure size 432x288 with 1 Axes>"
      ]
     },
     "metadata": {
      "needs_background": "light"
     },
     "output_type": "display_data"
    },
    {
     "name": "stdout",
     "output_type": "stream",
     "text": [
      "-0.031957110204556376\n"
     ]
    },
    {
     "data": {
      "image/png": "[encoded data removed]",
      "text/plain": [
       "<Figure size 432x288 with 1 Axes>"
      ]
     },
     "metadata": {
      "needs_background": "light"
     },
     "output_type": "display_data"
    },
    {
     "name": "stdout",
     "output_type": "stream",
     "text": [
      "0.19758263411038599\n"
     ]
    },
    {
     "data": {
      "image/png": "[encoded data removed]",
      "text/plain": [
       "<Figure size 432x288 with 1 Axes>"
      ]
     },
     "metadata": {
      "needs_background": "light"
     },
     "output_type": "display_data"
    },
    {
     "name": "stdout",
     "output_type": "stream",
     "text": [
      "-0.06892505328279414\n"
     ]
    },
    {
     "data": {
      "image/png": "[encoded data removed]",
      "text/plain": [
       "<Figure size 432x288 with 1 Axes>"
      ]
     },
     "metadata": {
      "needs_background": "light"
     },
     "output_type": "display_data"
    }
   ],
   "source": [
    "for pt in profit_platforms['platform'].unique():\n",
    "    profit_platforms.loc[profit_platforms['platform'] == pt].plot(x='user_score', y='region_sales', kind='scatter', title=pt)\n",
    "    print(profit_platforms.loc[profit_platforms['platform'] == pt]['user_score'].corr(profit_platforms.loc[profit_platforms['platform'] == pt]['region_sales']))\n",
    "    plt.show()"
   ]
  },
  {
   "cell_type": "markdown",
   "metadata": {},
   "source": [
    "Как видно из диаграмм рассеяния и коэффициентов корреляции прямой корреляции между продажи и оценками юзеров практически нет, а в некоторых случаях она вообще становится отрицательной, хотя и совсем чуть-чуть. "
   ]
  },
  {
   "cell_type": "markdown",
   "metadata": {},
   "source": [
    "Посмотрим на общее распределение игр по жанрам: что можно сказать о самых прибыльных жанрах? выделяются ли жанры с высокими и низкими продажами?"
   ]
  },
  {
   "cell_type": "code",
   "execution_count": 29,
   "metadata": {},
   "outputs": [
    {
     "data": {
      "text/html": [
       "<div>\n",
       "<style scoped>\n",
       "    .dataframe tbody tr th:only-of-type {\n",
       "        vertical-align: middle;\n",
       "    }\n",
       "\n",
       "    .dataframe tbody tr th {\n",
       "        vertical-align: top;\n",
       "    }\n",
       "\n",
       "    .dataframe thead tr th {\n",
       "        text-align: left;\n",
       "    }\n",
       "\n",
       "    .dataframe thead tr:last-of-type th {\n",
       "        text-align: right;\n",
       "    }\n",
       "</style>\n",
       "<table border=\"1\" class=\"dataframe\">\n",
       "  <thead>\n",
       "    <tr>\n",
       "      <th></th>\n",
       "      <th>sum</th>\n",
       "      <th>median</th>\n",
       "    </tr>\n",
       "    <tr>\n",
       "      <th></th>\n",
       "      <th>region_sales</th>\n",
       "      <th>region_sales</th>\n",
       "    </tr>\n",
       "    <tr>\n",
       "      <th>genre</th>\n",
       "      <th></th>\n",
       "      <th></th>\n",
       "    </tr>\n",
       "  </thead>\n",
       "  <tbody>\n",
       "    <tr>\n",
       "      <th>Action</th>\n",
       "      <td>376.25</td>\n",
       "      <td>0.170</td>\n",
       "    </tr>\n",
       "    <tr>\n",
       "      <th>Adventure</th>\n",
       "      <td>22.68</td>\n",
       "      <td>0.060</td>\n",
       "    </tr>\n",
       "    <tr>\n",
       "      <th>Fighting</th>\n",
       "      <td>35.53</td>\n",
       "      <td>0.180</td>\n",
       "    </tr>\n",
       "    <tr>\n",
       "      <th>Misc</th>\n",
       "      <td>48.78</td>\n",
       "      <td>0.150</td>\n",
       "    </tr>\n",
       "    <tr>\n",
       "      <th>Platform</th>\n",
       "      <td>34.13</td>\n",
       "      <td>0.210</td>\n",
       "    </tr>\n",
       "    <tr>\n",
       "      <th>Puzzle</th>\n",
       "      <td>2.72</td>\n",
       "      <td>0.070</td>\n",
       "    </tr>\n",
       "    <tr>\n",
       "      <th>Racing</th>\n",
       "      <td>42.18</td>\n",
       "      <td>0.225</td>\n",
       "    </tr>\n",
       "    <tr>\n",
       "      <th>Role-Playing</th>\n",
       "      <td>151.26</td>\n",
       "      <td>0.200</td>\n",
       "    </tr>\n",
       "    <tr>\n",
       "      <th>Shooter</th>\n",
       "      <td>282.11</td>\n",
       "      <td>0.585</td>\n",
       "    </tr>\n",
       "    <tr>\n",
       "      <th>Simulation</th>\n",
       "      <td>25.16</td>\n",
       "      <td>0.130</td>\n",
       "    </tr>\n",
       "    <tr>\n",
       "      <th>Sports</th>\n",
       "      <td>167.81</td>\n",
       "      <td>0.390</td>\n",
       "    </tr>\n",
       "    <tr>\n",
       "      <th>Strategy</th>\n",
       "      <td>4.79</td>\n",
       "      <td>0.085</td>\n",
       "    </tr>\n",
       "  </tbody>\n",
       "</table>\n",
       "</div>"
      ],
      "text/plain": [
       "                      sum       median\n",
       "             region_sales region_sales\n",
       "genre                                 \n",
       "Action             376.25        0.170\n",
       "Adventure           22.68        0.060\n",
       "Fighting            35.53        0.180\n",
       "Misc                48.78        0.150\n",
       "Platform            34.13        0.210\n",
       "Puzzle               2.72        0.070\n",
       "Racing              42.18        0.225\n",
       "Role-Playing       151.26        0.200\n",
       "Shooter            282.11        0.585\n",
       "Simulation          25.16        0.130\n",
       "Sports             167.81        0.390\n",
       "Strategy             4.79        0.085"
      ]
     },
     "execution_count": 29,
     "metadata": {},
     "output_type": "execute_result"
    }
   ],
   "source": [
    "#Посмотрим на суммарные продажи регионов, а также медианные продажи\n",
    "profit_platforms.pivot_table(index='genre', values='region_sales', aggfunc=['sum', 'median'])"
   ]
  },
  {
   "cell_type": "markdown",
   "metadata": {},
   "source": [
    "Самые большие суммарные продажи в жанре игр Ation, самые низкие - Strategy. Хотя медианные продажи и у тех, и у других довольно небольшие по сравнению с некоторыми другими жанрами игр, такими как Shooter или Fighting."
   ]
  },
  {
   "cell_type": "code",
   "execution_count": 30,
   "metadata": {},
   "outputs": [
    {
     "data": {
      "image/png": "[encoded data removed]",
      "text/plain": [
       "<Figure size 1080x360 with 1 Axes>"
      ]
     },
     "metadata": {
      "needs_background": "light"
     },
     "output_type": "display_data"
    }
   ],
   "source": [
    "profit_platforms.boxplot('region_sales', by='genre', figsize=(15, 5))\n",
    "plt.ylim(0,2)\n",
    "plt.show()"
   ]
  },
  {
   "cell_type": "markdown",
   "metadata": {},
   "source": [
    "По диаграммам размаха видно, что жанр Shooter действительно обладает самыми высокими медианными продажими и самым болшим размахом. В то время, как в продажи жанра Action судя по всему вклад делают большое количество выбросов. "
   ]
  },
  {
   "cell_type": "markdown",
   "metadata": {},
   "source": [
    "## Портрет пользователя каждого региона ##"
   ]
  },
  {
   "cell_type": "markdown",
   "metadata": {},
   "source": [
    "Определим для пользователя каждого региона (NA, EU, JP) самые популярные платформы (топ-5). Опишем различия в долях продаж."
   ]
  },
  {
   "cell_type": "code",
   "execution_count": 31,
   "metadata": {},
   "outputs": [
    {
     "data": {
      "text/html": [
       "<div>\n",
       "<style scoped>\n",
       "    .dataframe tbody tr th:only-of-type {\n",
       "        vertical-align: middle;\n",
       "    }\n",
       "\n",
       "    .dataframe tbody tr th {\n",
       "        vertical-align: top;\n",
       "    }\n",
       "\n",
       "    .dataframe thead th {\n",
       "        text-align: right;\n",
       "    }\n",
       "</style>\n",
       "<table border=\"1\" class=\"dataframe\">\n",
       "  <thead>\n",
       "    <tr style=\"text-align: right;\">\n",
       "      <th></th>\n",
       "      <th>eu_sales</th>\n",
       "      <th>jp_sales</th>\n",
       "      <th>na_sales</th>\n",
       "    </tr>\n",
       "    <tr>\n",
       "      <th>platform</th>\n",
       "      <th></th>\n",
       "      <th></th>\n",
       "      <th></th>\n",
       "    </tr>\n",
       "  </thead>\n",
       "  <tbody>\n",
       "    <tr>\n",
       "      <th>3DS</th>\n",
       "      <td>42.64</td>\n",
       "      <td>87.79</td>\n",
       "      <td>55.31</td>\n",
       "    </tr>\n",
       "    <tr>\n",
       "      <th>PS3</th>\n",
       "      <td>106.86</td>\n",
       "      <td>35.29</td>\n",
       "      <td>103.38</td>\n",
       "    </tr>\n",
       "    <tr>\n",
       "      <th>PS4</th>\n",
       "      <td>141.09</td>\n",
       "      <td>15.96</td>\n",
       "      <td>108.74</td>\n",
       "    </tr>\n",
       "    <tr>\n",
       "      <th>X360</th>\n",
       "      <td>74.52</td>\n",
       "      <td>1.57</td>\n",
       "      <td>140.05</td>\n",
       "    </tr>\n",
       "    <tr>\n",
       "      <th>XOne</th>\n",
       "      <td>51.59</td>\n",
       "      <td>0.34</td>\n",
       "      <td>93.12</td>\n",
       "    </tr>\n",
       "  </tbody>\n",
       "</table>\n",
       "</div>"
      ],
      "text/plain": [
       "          eu_sales  jp_sales  na_sales\n",
       "platform                              \n",
       "3DS          42.64     87.79     55.31\n",
       "PS3         106.86     35.29    103.38\n",
       "PS4         141.09     15.96    108.74\n",
       "X360         74.52      1.57    140.05\n",
       "XOne         51.59      0.34     93.12"
      ]
     },
     "execution_count": 31,
     "metadata": {},
     "output_type": "execute_result"
    }
   ],
   "source": [
    "region = profit_platforms.pivot_table(index='platform', values=['na_sales', 'eu_sales', 'jp_sales'], aggfunc ='sum')\n",
    "region"
   ]
  },
  {
   "cell_type": "code",
   "execution_count": 32,
   "metadata": {},
   "outputs": [
    {
     "data": {
      "image/png": "[encoded data removed]",
      "text/plain": [
       "<Figure size 432x288 with 1 Axes>"
      ]
     },
     "metadata": {},
     "output_type": "display_data"
    },
    {
     "data": {
      "image/png": "[encoded data removed]",
      "text/plain": [
       "<Figure size 432x288 with 1 Axes>"
      ]
     },
     "metadata": {},
     "output_type": "display_data"
    },
    {
     "data": {
      "image/png": "[encoded data removed]",
      "text/plain": [
       "<Figure size 432x288 with 1 Axes>"
      ]
     },
     "metadata": {},
     "output_type": "display_data"
    }
   ],
   "source": [
    "for reg in ['na_sales', 'eu_sales', 'jp_sales']:\n",
    "    region.plot(kind='pie', x='platform', y=reg)\n",
    "    plt.show()"
   ]
  },
  {
   "cell_type": "markdown",
   "metadata": {},
   "source": [
    "В регионе NA наиболее популярны платформы X360,PS4, PS3. В регионе EU наиболее популярны платформы PS3 и PS4. А в регионе JP огромную долю рынка заняла 3DS, а наименее популярными платформами являются XOne и X360. Эти 3 рынка довольно сильно отличаются друг от друга в предпочтениях."
   ]
  },
  {
   "cell_type": "markdown",
   "metadata": {},
   "source": [
    "Определим для пользователя каждого региона (NA, EU, JP) самые популярные жанры (топ-5). Поясним разницу."
   ]
  },
  {
   "cell_type": "code",
   "execution_count": 33,
   "metadata": {},
   "outputs": [
    {
     "data": {
      "text/html": [
       "<div>\n",
       "<style scoped>\n",
       "    .dataframe tbody tr th:only-of-type {\n",
       "        vertical-align: middle;\n",
       "    }\n",
       "\n",
       "    .dataframe tbody tr th {\n",
       "        vertical-align: top;\n",
       "    }\n",
       "\n",
       "    .dataframe thead th {\n",
       "        text-align: right;\n",
       "    }\n",
       "</style>\n",
       "<table border=\"1\" class=\"dataframe\">\n",
       "  <thead>\n",
       "    <tr style=\"text-align: right;\">\n",
       "      <th></th>\n",
       "      <th>eu_sales</th>\n",
       "      <th>jp_sales</th>\n",
       "      <th>na_sales</th>\n",
       "    </tr>\n",
       "    <tr>\n",
       "      <th>genre</th>\n",
       "      <th></th>\n",
       "      <th></th>\n",
       "      <th></th>\n",
       "    </tr>\n",
       "  </thead>\n",
       "  <tbody>\n",
       "    <tr>\n",
       "      <th>Action</th>\n",
       "      <td>136.51</td>\n",
       "      <td>40.95</td>\n",
       "      <td>153.47</td>\n",
       "    </tr>\n",
       "    <tr>\n",
       "      <th>Adventure</th>\n",
       "      <td>7.84</td>\n",
       "      <td>4.28</td>\n",
       "      <td>8.19</td>\n",
       "    </tr>\n",
       "    <tr>\n",
       "      <th>Fighting</th>\n",
       "      <td>8.77</td>\n",
       "      <td>7.41</td>\n",
       "      <td>15.65</td>\n",
       "    </tr>\n",
       "    <tr>\n",
       "      <th>Misc</th>\n",
       "      <td>14.43</td>\n",
       "      <td>6.61</td>\n",
       "      <td>22.86</td>\n",
       "    </tr>\n",
       "    <tr>\n",
       "      <th>Platform</th>\n",
       "      <td>12.53</td>\n",
       "      <td>4.89</td>\n",
       "      <td>13.38</td>\n",
       "    </tr>\n",
       "    <tr>\n",
       "      <th>Puzzle</th>\n",
       "      <td>0.89</td>\n",
       "      <td>1.21</td>\n",
       "      <td>0.51</td>\n",
       "    </tr>\n",
       "    <tr>\n",
       "      <th>Racing</th>\n",
       "      <td>22.70</td>\n",
       "      <td>1.10</td>\n",
       "      <td>12.98</td>\n",
       "    </tr>\n",
       "    <tr>\n",
       "      <th>Role-Playing</th>\n",
       "      <td>38.04</td>\n",
       "      <td>49.49</td>\n",
       "      <td>51.81</td>\n",
       "    </tr>\n",
       "    <tr>\n",
       "      <th>Shooter</th>\n",
       "      <td>102.87</td>\n",
       "      <td>7.58</td>\n",
       "      <td>136.53</td>\n",
       "    </tr>\n",
       "    <tr>\n",
       "      <th>Simulation</th>\n",
       "      <td>7.62</td>\n",
       "      <td>10.23</td>\n",
       "      <td>5.96</td>\n",
       "    </tr>\n",
       "    <tr>\n",
       "      <th>Sports</th>\n",
       "      <td>63.30</td>\n",
       "      <td>5.61</td>\n",
       "      <td>77.65</td>\n",
       "    </tr>\n",
       "    <tr>\n",
       "      <th>Strategy</th>\n",
       "      <td>1.20</td>\n",
       "      <td>1.59</td>\n",
       "      <td>1.61</td>\n",
       "    </tr>\n",
       "  </tbody>\n",
       "</table>\n",
       "</div>"
      ],
      "text/plain": [
       "              eu_sales  jp_sales  na_sales\n",
       "genre                                     \n",
       "Action          136.51     40.95    153.47\n",
       "Adventure         7.84      4.28      8.19\n",
       "Fighting          8.77      7.41     15.65\n",
       "Misc             14.43      6.61     22.86\n",
       "Platform         12.53      4.89     13.38\n",
       "Puzzle            0.89      1.21      0.51\n",
       "Racing           22.70      1.10     12.98\n",
       "Role-Playing     38.04     49.49     51.81\n",
       "Shooter         102.87      7.58    136.53\n",
       "Simulation        7.62     10.23      5.96\n",
       "Sports           63.30      5.61     77.65\n",
       "Strategy          1.20      1.59      1.61"
      ]
     },
     "execution_count": 33,
     "metadata": {},
     "output_type": "execute_result"
    }
   ],
   "source": [
    "genre = profit_platforms.pivot_table(index='genre', values=['na_sales', 'eu_sales', 'jp_sales'], aggfunc ='sum')\n",
    "genre"
   ]
  },
  {
   "cell_type": "code",
   "execution_count": 34,
   "metadata": {},
   "outputs": [
    {
     "data": {
      "image/png": "[encoded data removed]",
      "text/plain": [
       "<Figure size 432x288 with 1 Axes>"
      ]
     },
     "metadata": {},
     "output_type": "display_data"
    },
    {
     "data": {
      "image/png": "[encoded data removed]",
      "text/plain": [
       "<Figure size 432x288 with 1 Axes>"
      ]
     },
     "metadata": {},
     "output_type": "display_data"
    },
    {
     "data": {
      "image/png": "[encoded data removed]",
      "text/plain": [
       "<Figure size 432x288 with 1 Axes>"
      ]
     },
     "metadata": {},
     "output_type": "display_data"
    }
   ],
   "source": [
    "for reg in ['na_sales', 'eu_sales', 'jp_sales']:\n",
    "    genre.plot(kind='pie', x='genre', y=reg).legend(loc='center left', bbox_to_anchor=(1.1, 0.5))\n",
    "    plt.show()"
   ]
  },
  {
   "cell_type": "markdown",
   "metadata": {},
   "source": [
    "В регионах NA и EU интересы пользователей в целом совпадают - наиболее популярные игры жанров Action, Shooter, Sports. А в регионе JP отдают предпочтение Action и Role-Playing."
   ]
  },
  {
   "cell_type": "markdown",
   "metadata": {},
   "source": [
    "Посмотрим, влияет ли рейтинг ESRB на продажи в отдельном регионе."
   ]
  },
  {
   "cell_type": "code",
   "execution_count": 35,
   "metadata": {},
   "outputs": [
    {
     "data": {
      "text/html": [
       "<div>\n",
       "<style scoped>\n",
       "    .dataframe tbody tr th:only-of-type {\n",
       "        vertical-align: middle;\n",
       "    }\n",
       "\n",
       "    .dataframe tbody tr th {\n",
       "        vertical-align: top;\n",
       "    }\n",
       "\n",
       "    .dataframe thead th {\n",
       "        text-align: right;\n",
       "    }\n",
       "</style>\n",
       "<table border=\"1\" class=\"dataframe\">\n",
       "  <thead>\n",
       "    <tr style=\"text-align: right;\">\n",
       "      <th></th>\n",
       "      <th>eu_sales</th>\n",
       "      <th>jp_sales</th>\n",
       "      <th>na_sales</th>\n",
       "    </tr>\n",
       "    <tr>\n",
       "      <th>rating</th>\n",
       "      <th></th>\n",
       "      <th></th>\n",
       "      <th></th>\n",
       "    </tr>\n",
       "  </thead>\n",
       "  <tbody>\n",
       "    <tr>\n",
       "      <th>E</th>\n",
       "      <td>91.71</td>\n",
       "      <td>19.98</td>\n",
       "      <td>93.39</td>\n",
       "    </tr>\n",
       "    <tr>\n",
       "      <th>E10+</th>\n",
       "      <td>34.22</td>\n",
       "      <td>4.82</td>\n",
       "      <td>47.99</td>\n",
       "    </tr>\n",
       "    <tr>\n",
       "      <th>M</th>\n",
       "      <td>172.57</td>\n",
       "      <td>18.96</td>\n",
       "      <td>214.11</td>\n",
       "    </tr>\n",
       "    <tr>\n",
       "      <th>T</th>\n",
       "      <td>41.78</td>\n",
       "      <td>19.51</td>\n",
       "      <td>56.07</td>\n",
       "    </tr>\n",
       "    <tr>\n",
       "      <th>unknown</th>\n",
       "      <td>76.42</td>\n",
       "      <td>77.68</td>\n",
       "      <td>89.04</td>\n",
       "    </tr>\n",
       "  </tbody>\n",
       "</table>\n",
       "</div>"
      ],
      "text/plain": [
       "         eu_sales  jp_sales  na_sales\n",
       "rating                               \n",
       "E           91.71     19.98     93.39\n",
       "E10+        34.22      4.82     47.99\n",
       "M          172.57     18.96    214.11\n",
       "T           41.78     19.51     56.07\n",
       "unknown     76.42     77.68     89.04"
      ]
     },
     "execution_count": 35,
     "metadata": {},
     "output_type": "execute_result"
    }
   ],
   "source": [
    "rating = profit_platforms.pivot_table(index='rating', values=['na_sales', 'eu_sales', 'jp_sales'], aggfunc='sum')\n",
    "rating"
   ]
  },
  {
   "cell_type": "code",
   "execution_count": 36,
   "metadata": {},
   "outputs": [
    {
     "data": {
      "image/png": "[encoded data removed]",
      "text/plain": [
       "<Figure size 432x288 with 1 Axes>"
      ]
     },
     "metadata": {},
     "output_type": "display_data"
    },
    {
     "data": {
      "image/png": "[encoded data removed]",
      "text/plain": [
       "<Figure size 432x288 with 1 Axes>"
      ]
     },
     "metadata": {},
     "output_type": "display_data"
    },
    {
     "data": {
      "image/png": "[encoded data removed]",
      "text/plain": [
       "<Figure size 432x288 with 1 Axes>"
      ]
     },
     "metadata": {},
     "output_type": "display_data"
    }
   ],
   "source": [
    "for rat in ['na_sales', 'eu_sales', 'jp_sales']:\n",
    "    rating.plot(kind='pie', x='rating', y=rat)\n",
    "    plt.show()"
   ]
  },
  {
   "cell_type": "markdown",
   "metadata": {},
   "source": [
    "Судя по всему рейтинг оказывает влияние на продажи, так как продажи игр с одним и тем же рейтингом в разных странах коррелируют между собой. "
   ]
  },
  {
   "cell_type": "markdown",
   "metadata": {},
   "source": [
    "В Северной Америке наиболее популярны игры для лиц, старше 17 лет, а также игры, подходящие для всех возрастов. При этом есть немалая доля популярности игр без возрастного рейтинга, возможно тут дело в том, что какие-то игры не сразу попадают на оценку для получения рейтинга или не все разработчики игр стремятся получить маркировку по рейтингу.  \n",
    "В Европе картина схожая с тем, что мы видим в Северной Америке, хотя рейтинг ESRB там не применятся. Но наверняка есть какой-то свой похожий возрастной ценз.   \n",
    "В Японии картина совсем другая - там большинство игр без рейтинга. Видимо в силу того, что с рейтингом ESRB мало кто знаком. "
   ]
  },
  {
   "cell_type": "code",
   "execution_count": 37,
   "metadata": {},
   "outputs": [
    {
     "name": "stdout",
     "output_type": "stream",
     "text": [
      "0 0.0\n"
     ]
    },
    {
     "data": {
      "text/plain": [
       "unknown    1275\n",
       "M           498\n",
       "T           412\n",
       "E           395\n",
       "E10+        306\n",
       "Name: rating, dtype: int64"
      ]
     },
     "execution_count": 37,
     "metadata": {},
     "output_type": "execute_result"
    }
   ],
   "source": [
    "temp = data.copy()\n",
    "print(temp.rating.isna().sum(), temp.rating.isna().sum()/len(temp))\n",
    "temp.rating.value_counts()"
   ]
  },
  {
   "cell_type": "markdown",
   "metadata": {},
   "source": [
    "## Проверка гипотез ##"
   ]
  },
  {
   "cell_type": "markdown",
   "metadata": {},
   "source": [
    "Гипотеза 1: H0 - Средние пользовательские рейтинги платформ Xbox One и PC одинаковые;\n",
    "H1 - Средние пользовательские рейтинги платформ Xbox One и PC разные"
   ]
  },
  {
   "cell_type": "code",
   "execution_count": 38,
   "metadata": {},
   "outputs": [
    {
     "name": "stdout",
     "output_type": "stream",
     "text": [
      "p-значение:  0.5535080500643661\n",
      "Отвергнуть нулевую гипотезу не получилось\n"
     ]
    }
   ],
   "source": [
    "XOne_rat = data.loc[data['platform'] == 'XOne', 'user_score'].dropna()\n",
    "PC_rat = data.loc[data['platform'] == 'PC', 'user_score'].dropna()\n",
    "alpha = .05\n",
    "results = st.ttest_ind(XOne_rat, PC_rat)\n",
    "print('p-значение: ', results.pvalue)\n",
    "if results.pvalue < alpha:\n",
    "    print('Отвергаем нулевую гипотезу')\n",
    "else:\n",
    "    print('Отвергнуть нулевую гипотезу не получилось')"
   ]
  },
  {
   "cell_type": "markdown",
   "metadata": {},
   "source": [
    "Гипотеза 2: Средние пользовательские рейтинги жанров Action (англ. «действие», экшен-игры) и Sports (англ. «спортивные соревнования») разные - примем эту гипотезу за Н1. А за нулевую гипотезу Н0 возьмем то, что рейтинги одинаковые."
   ]
  },
  {
   "cell_type": "code",
   "execution_count": 39,
   "metadata": {},
   "outputs": [
    {
     "name": "stdout",
     "output_type": "stream",
     "text": [
      "p-значение:  3.7163089460934874e-26\n",
      "Отвергаем нулевую гипотезу\n"
     ]
    }
   ],
   "source": [
    "Action_rat = data.loc[data['genre'] == 'Action', 'user_score'].dropna()\n",
    "Sports_rat = data.loc[data['genre'] == 'Sports', 'user_score'].dropna()\n",
    "alpha = .05\n",
    "results = st.ttest_ind(Action_rat, Sports_rat)\n",
    "print('p-значение: ', results.pvalue)\n",
    "if results.pvalue < alpha:\n",
    "    print('Отвергаем нулевую гипотезу')\n",
    "else:\n",
    "    print('Отвергнуть нулевую гипотезу не получилось')"
   ]
  },
  {
   "cell_type": "markdown",
   "metadata": {},
   "source": [
    "Как вы сформулировали нулевую и альтернативную гипотезы - нулевые гипотезы сформулированы, исходя из равенства двух рейтингов друг другу, а альтернативные наоборот берем, исходя из того, что рейтинги друг другу не равны. "
   ]
  },
  {
   "cell_type": "markdown",
   "metadata": {},
   "source": [
    "Какой критерий применили для проверки гипотез и почему - я проводила проверку гипотез о равенстве среднего двух генеральных совокупностей по взятым из них выборкам, так как эти выборки друг от друга не зависят. "
   ]
  },
  {
   "cell_type": "markdown",
   "metadata": {},
   "source": [
    "## Общий вывод ##"
   ]
  },
  {
   "cell_type": "markdown",
   "metadata": {},
   "source": [
    "Что было сделано в проекте:\n",
    "1. Изучены общие данные: что есть в сводной таблице, какой тип данных к каждом столбце, где есть пропуски и как они влияют на все данные в целом.\n",
    "2. Посчитаны суммарные продажи по всем регионам и записаны в отдельный столбец, чтобы в дальнейшем проводить расчеты с этими цифрами.\n",
    "3. Проведен исследовательский анализ данных:\n",
    "- Узнала, что год от года количество выпускаемых игр только растет. Исходя из этого для дальнейшего анализа был выбран период за последние 5 лет - с 2012 по 2016 года, чтобы анализ получился наиболее релевантным;\n",
    "- Посмотрела, как менялись продажи по платформам. Выбрала платформы с наибольшими суммарными продажами: X360, PS3, 3DS, PS4, XOne. Определила, что платформы живут от 4 до 12 лет самое большое, обычно не больше 10 лет. \n",
    "- Построила график «ящик с усами» по глобальным продажам игр в разбивке по платформам. Получилось, что медиана продаж для всех выбранных платформ примерно одинаковая - на уровне 0,1 (DS, PSP) - 0,3 ( X360). При этом межквартильный размах у разных платформ очень разный. Для всех платформ можно отметить большое количество выбросов;\n",
    "- Определила, что прямая корреляция между продажами игр на платформах и оценкой критиков есть, хотя и не очень сильная. А вот пользовательская оценка практически никак не отражается на продажах, здесь корреляция совсем незначительная. Это касается всех популярных платформ;\n",
    "- Посмотрела на общее распределение игр по жанрам. Жанр Shooter действительно обладает самыми высокими медианными продажими и самым большим размахом. В то время, как в продажи жанра Action судя по всему вклад делают большое количество выбросов.\n",
    "\n",
    "4. Составила портрет пользователя каждого региона: \n",
    "- В Северной Америке наиболее популярными являются платформы X360,PS4, PS3. Наиболее популярными жанрами игр можно назвать Action, Shooter, Sports. \n",
    "- в Европе пользователи предпочитают платформы PS3 и PS4. Как и в Северной Америке, здесь увлекаются жанрами Action, Shooter, Sports.\n",
    "- в Японии предпочитают XOne и X360. Из жанров - Role-Playing\tи Action.\n",
    "- в Северной Америке и Европе наиболее популярны игры для лиц старше 17 лет и игры, не имеющие ограничений по возрасту, значит можно сказать, что рейтинг ESRB там работает. А вот про Японию такого сказать нельзя, так как там видимо практически не используется маркировка ESRB в играх.  \n",
    "\n",
    "5. Проверила гипотезы:\n",
    "- Средние пользовательские рейтинги платформ Xbox One и PC одинаковые - здесь я не смогла отвергнуть нулевую гипотезу о равенстве рейтингов, поскольку получила уровень значимости чуть выше заданного. \n",
    "- Средние пользовательские рейтинги жанров Action и Sports разные - здесь не подтвердилась нулевая гипотеза о равенстве рейтингов этих двух жанров, а значит можно придерживаться альтернативной о том, что рейтинги разные. "
   ]
  }
 ],
 "metadata": {
  "ExecuteTimeLog": [
   {
    "duration": 442,
    "start_time": "2022-10-17T22:16:55.934Z"
   },
   {
    "duration": 85,
    "start_time": "2022-10-17T22:17:47.115Z"
   },
   {
    "duration": 7,
    "start_time": "2022-10-17T22:18:28.992Z"
   },
   {
    "duration": 813,
    "start_time": "2022-10-17T22:21:16.816Z"
   },
   {
    "duration": 3,
    "start_time": "2022-10-17T22:21:30.622Z"
   },
   {
    "duration": 65,
    "start_time": "2022-10-17T22:23:01.319Z"
   },
   {
    "duration": 1455,
    "start_time": "2022-10-19T20:03:09.480Z"
   },
   {
    "duration": 234,
    "start_time": "2022-10-19T20:03:12.568Z"
   },
   {
    "duration": 74,
    "start_time": "2022-10-19T21:47:24.064Z"
   },
   {
    "duration": 6,
    "start_time": "2022-10-19T21:47:47.941Z"
   },
   {
    "duration": 17,
    "start_time": "2022-10-19T22:04:26.481Z"
   },
   {
    "duration": 123,
    "start_time": "2022-10-19T22:05:41.350Z"
   },
   {
    "duration": 9,
    "start_time": "2022-10-19T22:09:20.029Z"
   },
   {
    "duration": 3,
    "start_time": "2022-10-19T22:09:26.951Z"
   },
   {
    "duration": 8,
    "start_time": "2022-10-19T22:09:41.780Z"
   },
   {
    "duration": 8,
    "start_time": "2022-10-19T22:09:47.772Z"
   },
   {
    "duration": 5,
    "start_time": "2022-10-19T22:10:40.789Z"
   },
   {
    "duration": 6,
    "start_time": "2022-10-19T22:13:17.168Z"
   },
   {
    "duration": 7,
    "start_time": "2022-10-19T22:13:26.581Z"
   },
   {
    "duration": 20,
    "start_time": "2022-10-19T22:13:53.599Z"
   },
   {
    "duration": 5,
    "start_time": "2022-10-19T22:14:15.159Z"
   },
   {
    "duration": 5,
    "start_time": "2022-10-19T22:14:21.806Z"
   },
   {
    "duration": 10,
    "start_time": "2022-10-19T22:20:44.520Z"
   },
   {
    "duration": 5,
    "start_time": "2022-10-19T22:20:47.528Z"
   },
   {
    "duration": 9,
    "start_time": "2022-10-19T22:21:18.953Z"
   },
   {
    "duration": 5,
    "start_time": "2022-10-19T22:23:38.009Z"
   },
   {
    "duration": 1278,
    "start_time": "2022-10-20T21:27:11.871Z"
   },
   {
    "duration": 3,
    "start_time": "2022-10-20T21:27:18.705Z"
   },
   {
    "duration": 279,
    "start_time": "2022-10-20T21:27:18.710Z"
   },
   {
    "duration": 6,
    "start_time": "2022-10-20T21:27:18.992Z"
   },
   {
    "duration": 23,
    "start_time": "2022-10-20T21:27:18.999Z"
   },
   {
    "duration": 38,
    "start_time": "2022-10-20T21:27:19.025Z"
   },
   {
    "duration": 13,
    "start_time": "2022-10-20T21:27:19.065Z"
   },
   {
    "duration": 116,
    "start_time": "2022-10-20T21:27:33.029Z"
   },
   {
    "duration": 79,
    "start_time": "2022-10-20T21:29:14.057Z"
   },
   {
    "duration": 1278,
    "start_time": "2022-10-20T21:41:24.605Z"
   },
   {
    "duration": 1196,
    "start_time": "2022-10-20T21:43:00.418Z"
   },
   {
    "duration": 4,
    "start_time": "2022-10-20T21:43:12.983Z"
   },
   {
    "duration": 5,
    "start_time": "2022-10-20T21:43:16.479Z"
   },
   {
    "duration": 9,
    "start_time": "2022-10-20T21:43:19.445Z"
   },
   {
    "duration": 5,
    "start_time": "2022-10-20T21:43:21.687Z"
   },
   {
    "duration": 7,
    "start_time": "2022-10-20T21:43:24.559Z"
   },
   {
    "duration": 1143,
    "start_time": "2022-10-20T21:46:56.967Z"
   },
   {
    "duration": 1207,
    "start_time": "2022-10-20T21:50:54.604Z"
   },
   {
    "duration": 1257,
    "start_time": "2022-10-20T21:51:33.713Z"
   },
   {
    "duration": 1371,
    "start_time": "2022-10-20T21:51:49.849Z"
   },
   {
    "duration": 1425,
    "start_time": "2022-10-20T21:52:38.362Z"
   },
   {
    "duration": 8,
    "start_time": "2022-10-20T21:53:04.031Z"
   },
   {
    "duration": 6,
    "start_time": "2022-10-20T21:55:25.180Z"
   },
   {
    "duration": 4,
    "start_time": "2022-10-20T21:58:14.735Z"
   },
   {
    "duration": 9,
    "start_time": "2022-10-20T21:58:54.056Z"
   },
   {
    "duration": 8,
    "start_time": "2022-10-20T21:59:03.831Z"
   },
   {
    "duration": 5,
    "start_time": "2022-10-20T21:59:18.686Z"
   },
   {
    "duration": 5,
    "start_time": "2022-10-20T22:09:00.281Z"
   },
   {
    "duration": 6,
    "start_time": "2022-10-20T22:25:41.619Z"
   },
   {
    "duration": 12,
    "start_time": "2022-10-20T23:30:45.791Z"
   },
   {
    "duration": 288,
    "start_time": "2022-10-20T23:31:26.466Z"
   },
   {
    "duration": 11,
    "start_time": "2022-10-20T23:31:57.166Z"
   },
   {
    "duration": 24,
    "start_time": "2022-10-20T23:32:06.455Z"
   },
   {
    "duration": 11,
    "start_time": "2022-10-20T23:33:41.715Z"
   },
   {
    "duration": 24,
    "start_time": "2022-10-20T23:33:48.423Z"
   },
   {
    "duration": 7,
    "start_time": "2022-10-20T23:36:51.619Z"
   },
   {
    "duration": 16,
    "start_time": "2022-10-20T23:37:02.258Z"
   },
   {
    "duration": 4,
    "start_time": "2022-10-20T23:37:24.507Z"
   },
   {
    "duration": 24,
    "start_time": "2022-10-20T23:39:54.259Z"
   },
   {
    "duration": 20,
    "start_time": "2022-10-20T23:40:35.088Z"
   },
   {
    "duration": 10,
    "start_time": "2022-10-20T23:41:32.694Z"
   },
   {
    "duration": 11,
    "start_time": "2022-10-20T23:41:57.820Z"
   },
   {
    "duration": 18,
    "start_time": "2022-10-20T23:42:08.317Z"
   },
   {
    "duration": 5,
    "start_time": "2022-10-20T23:42:41.660Z"
   },
   {
    "duration": 6,
    "start_time": "2022-10-20T23:44:37.099Z"
   },
   {
    "duration": 1213,
    "start_time": "2022-10-21T21:25:51.581Z"
   },
   {
    "duration": 3,
    "start_time": "2022-10-21T21:25:58.177Z"
   },
   {
    "duration": 100,
    "start_time": "2022-10-21T21:25:58.182Z"
   },
   {
    "duration": 4,
    "start_time": "2022-10-21T21:25:58.283Z"
   },
   {
    "duration": 7,
    "start_time": "2022-10-21T21:25:58.289Z"
   },
   {
    "duration": 9,
    "start_time": "2022-10-21T21:25:58.297Z"
   },
   {
    "duration": 6,
    "start_time": "2022-10-21T21:25:58.308Z"
   },
   {
    "duration": 5,
    "start_time": "2022-10-21T21:25:58.322Z"
   },
   {
    "duration": 8,
    "start_time": "2022-10-21T21:25:58.328Z"
   },
   {
    "duration": 6,
    "start_time": "2022-10-21T21:25:58.338Z"
   },
   {
    "duration": 6,
    "start_time": "2022-10-21T21:25:58.345Z"
   },
   {
    "duration": 7,
    "start_time": "2022-10-21T21:25:58.353Z"
   },
   {
    "duration": 6,
    "start_time": "2022-10-21T21:25:58.361Z"
   },
   {
    "duration": 5,
    "start_time": "2022-10-21T21:25:58.369Z"
   },
   {
    "duration": 6,
    "start_time": "2022-10-21T21:25:58.376Z"
   },
   {
    "duration": 4,
    "start_time": "2022-10-21T21:26:12.008Z"
   },
   {
    "duration": 14,
    "start_time": "2022-10-21T21:56:48.778Z"
   },
   {
    "duration": 95,
    "start_time": "2022-10-21T21:57:23.054Z"
   },
   {
    "duration": 14,
    "start_time": "2022-10-21T21:57:57.509Z"
   },
   {
    "duration": 14,
    "start_time": "2022-10-21T21:58:39.198Z"
   },
   {
    "duration": 15,
    "start_time": "2022-10-21T21:59:29.269Z"
   },
   {
    "duration": 9,
    "start_time": "2022-10-21T22:22:52.073Z"
   },
   {
    "duration": 14,
    "start_time": "2022-10-21T22:23:07.182Z"
   },
   {
    "duration": 10,
    "start_time": "2022-10-21T22:23:40.439Z"
   },
   {
    "duration": 14,
    "start_time": "2022-10-21T22:24:02.007Z"
   },
   {
    "duration": 28,
    "start_time": "2022-10-21T22:35:38.668Z"
   },
   {
    "duration": 7,
    "start_time": "2022-10-21T22:36:03.204Z"
   },
   {
    "duration": 36,
    "start_time": "2022-10-21T22:37:54.677Z"
   },
   {
    "duration": 723,
    "start_time": "2022-10-21T22:38:00.223Z"
   },
   {
    "duration": 5153,
    "start_time": "2022-10-21T22:38:30.204Z"
   },
   {
    "duration": 34864,
    "start_time": "2022-10-21T22:39:20.438Z"
   },
   {
    "duration": 4737,
    "start_time": "2022-10-21T22:39:55.710Z"
   },
   {
    "duration": 1847,
    "start_time": "2022-10-21T22:40:33.423Z"
   },
   {
    "duration": 1053,
    "start_time": "2022-10-21T22:40:57.109Z"
   },
   {
    "duration": 1269,
    "start_time": "2022-10-21T22:41:09.656Z"
   },
   {
    "duration": 369,
    "start_time": "2022-10-21T22:41:47.341Z"
   },
   {
    "duration": 1514,
    "start_time": "2022-10-21T22:42:51.446Z"
   },
   {
    "duration": 2357,
    "start_time": "2022-10-21T22:43:22.023Z"
   },
   {
    "duration": 2,
    "start_time": "2022-10-21T22:46:20.746Z"
   },
   {
    "duration": 64,
    "start_time": "2022-10-23T21:24:02.864Z"
   },
   {
    "duration": 1293,
    "start_time": "2022-10-23T21:24:10.849Z"
   },
   {
    "duration": 6,
    "start_time": "2022-10-23T21:24:15.014Z"
   },
   {
    "duration": 3,
    "start_time": "2022-10-23T21:24:22.356Z"
   },
   {
    "duration": 808,
    "start_time": "2022-10-23T21:24:22.360Z"
   },
   {
    "duration": 5,
    "start_time": "2022-10-23T21:24:23.169Z"
   },
   {
    "duration": 9,
    "start_time": "2022-10-23T21:24:23.175Z"
   },
   {
    "duration": 56,
    "start_time": "2022-10-23T21:24:23.190Z"
   },
   {
    "duration": 8,
    "start_time": "2022-10-23T21:24:23.248Z"
   },
   {
    "duration": 7,
    "start_time": "2022-10-23T21:24:23.258Z"
   },
   {
    "duration": 9,
    "start_time": "2022-10-23T21:24:23.266Z"
   },
   {
    "duration": 7,
    "start_time": "2022-10-23T21:24:23.276Z"
   },
   {
    "duration": 42,
    "start_time": "2022-10-23T21:24:23.284Z"
   },
   {
    "duration": 8,
    "start_time": "2022-10-23T21:24:23.327Z"
   },
   {
    "duration": 9,
    "start_time": "2022-10-23T21:24:23.336Z"
   },
   {
    "duration": 6,
    "start_time": "2022-10-23T21:24:23.347Z"
   },
   {
    "duration": 19,
    "start_time": "2022-10-23T21:24:23.354Z"
   },
   {
    "duration": 1364,
    "start_time": "2022-10-23T21:24:23.374Z"
   },
   {
    "duration": 1518,
    "start_time": "2022-10-23T21:24:24.739Z"
   },
   {
    "duration": 460,
    "start_time": "2022-10-23T21:24:26.259Z"
   },
   {
    "duration": 2057,
    "start_time": "2022-10-23T21:24:26.722Z"
   },
   {
    "duration": 2757,
    "start_time": "2022-10-23T21:24:28.781Z"
   },
   {
    "duration": 1732,
    "start_time": "2022-10-23T21:24:31.540Z"
   },
   {
    "duration": 9,
    "start_time": "2022-10-23T21:28:23.364Z"
   },
   {
    "duration": 11,
    "start_time": "2022-10-23T21:29:24.179Z"
   },
   {
    "duration": 15,
    "start_time": "2022-10-23T21:30:30.462Z"
   },
   {
    "duration": 1553,
    "start_time": "2022-10-23T21:30:58.007Z"
   },
   {
    "duration": 21,
    "start_time": "2022-10-23T21:31:21.925Z"
   },
   {
    "duration": 148,
    "start_time": "2022-10-23T21:35:32.521Z"
   },
   {
    "duration": 11,
    "start_time": "2022-10-23T21:36:29.226Z"
   },
   {
    "duration": 5,
    "start_time": "2022-10-23T21:45:01.806Z"
   },
   {
    "duration": 18,
    "start_time": "2022-10-23T21:45:24.982Z"
   },
   {
    "duration": 10,
    "start_time": "2022-10-23T21:45:43.209Z"
   },
   {
    "duration": 8,
    "start_time": "2022-10-23T21:45:50.316Z"
   },
   {
    "duration": 8,
    "start_time": "2022-10-23T21:46:04.415Z"
   },
   {
    "duration": 5,
    "start_time": "2022-10-23T21:47:09.951Z"
   },
   {
    "duration": 9,
    "start_time": "2022-10-23T21:47:18.085Z"
   },
   {
    "duration": 3,
    "start_time": "2022-10-23T21:47:30.412Z"
   },
   {
    "duration": 1387,
    "start_time": "2022-10-23T22:00:12.013Z"
   },
   {
    "duration": 4,
    "start_time": "2022-10-23T22:00:26.918Z"
   },
   {
    "duration": 3,
    "start_time": "2022-10-23T22:01:12.974Z"
   },
   {
    "duration": 3,
    "start_time": "2022-10-23T22:02:09.415Z"
   },
   {
    "duration": 3,
    "start_time": "2022-10-23T22:02:14.294Z"
   },
   {
    "duration": 2,
    "start_time": "2022-10-23T22:03:33.542Z"
   },
   {
    "duration": 3,
    "start_time": "2022-10-23T22:03:41.344Z"
   },
   {
    "duration": 210,
    "start_time": "2022-10-23T22:03:41.348Z"
   },
   {
    "duration": 4,
    "start_time": "2022-10-23T22:03:41.559Z"
   },
   {
    "duration": 8,
    "start_time": "2022-10-23T22:03:41.565Z"
   },
   {
    "duration": 22,
    "start_time": "2022-10-23T22:03:41.575Z"
   },
   {
    "duration": 5,
    "start_time": "2022-10-23T22:03:41.598Z"
   },
   {
    "duration": 8,
    "start_time": "2022-10-23T22:03:41.604Z"
   },
   {
    "duration": 9,
    "start_time": "2022-10-23T22:03:41.613Z"
   },
   {
    "duration": 7,
    "start_time": "2022-10-23T22:03:41.625Z"
   },
   {
    "duration": 6,
    "start_time": "2022-10-23T22:03:41.634Z"
   },
   {
    "duration": 6,
    "start_time": "2022-10-23T22:03:41.641Z"
   },
   {
    "duration": 6,
    "start_time": "2022-10-23T22:03:41.649Z"
   },
   {
    "duration": 10,
    "start_time": "2022-10-23T22:03:41.656Z"
   },
   {
    "duration": 16,
    "start_time": "2022-10-23T22:03:41.685Z"
   },
   {
    "duration": 1062,
    "start_time": "2022-10-23T22:03:41.703Z"
   },
   {
    "duration": 1215,
    "start_time": "2022-10-23T22:03:42.766Z"
   },
   {
    "duration": 483,
    "start_time": "2022-10-23T22:03:43.982Z"
   },
   {
    "duration": 1574,
    "start_time": "2022-10-23T22:03:44.467Z"
   },
   {
    "duration": 2400,
    "start_time": "2022-10-23T22:03:46.042Z"
   },
   {
    "duration": 5,
    "start_time": "2022-10-23T22:03:48.444Z"
   },
   {
    "duration": 24,
    "start_time": "2022-10-23T22:03:48.450Z"
   },
   {
    "duration": 16,
    "start_time": "2022-10-23T22:03:59.453Z"
   },
   {
    "duration": 2354,
    "start_time": "2022-10-23T22:04:50.271Z"
   },
   {
    "duration": 2188,
    "start_time": "2022-10-23T22:05:19.335Z"
   },
   {
    "duration": 2219,
    "start_time": "2022-10-23T22:24:41.282Z"
   },
   {
    "duration": 2167,
    "start_time": "2022-10-23T22:25:14.630Z"
   },
   {
    "duration": 69,
    "start_time": "2022-10-23T22:26:57.946Z"
   },
   {
    "duration": 2045,
    "start_time": "2022-10-23T22:27:09.427Z"
   },
   {
    "duration": 433,
    "start_time": "2022-10-23T22:32:55.340Z"
   },
   {
    "duration": 815,
    "start_time": "2022-10-23T22:35:17.884Z"
   },
   {
    "duration": 452,
    "start_time": "2022-10-23T22:35:35.761Z"
   },
   {
    "duration": 10,
    "start_time": "2022-10-23T22:35:59.387Z"
   },
   {
    "duration": 447,
    "start_time": "2022-10-23T22:36:08.931Z"
   },
   {
    "duration": 533,
    "start_time": "2022-10-23T22:37:18.283Z"
   },
   {
    "duration": 453,
    "start_time": "2022-10-23T22:37:35.307Z"
   },
   {
    "duration": 197,
    "start_time": "2022-10-23T22:38:17.236Z"
   },
   {
    "duration": 431,
    "start_time": "2022-10-23T22:38:32.092Z"
   },
   {
    "duration": 498,
    "start_time": "2022-10-23T22:40:33.276Z"
   },
   {
    "duration": 291,
    "start_time": "2022-10-23T22:42:17.629Z"
   },
   {
    "duration": 434,
    "start_time": "2022-10-23T22:42:34.451Z"
   },
   {
    "duration": 522,
    "start_time": "2022-10-23T22:44:30.310Z"
   },
   {
    "duration": 146,
    "start_time": "2022-10-23T22:44:45.317Z"
   },
   {
    "duration": 513,
    "start_time": "2022-10-23T22:44:59.590Z"
   },
   {
    "duration": 302,
    "start_time": "2022-10-23T22:46:16.765Z"
   },
   {
    "duration": 2092,
    "start_time": "2022-10-23T22:46:32.326Z"
   },
   {
    "duration": 531,
    "start_time": "2022-10-23T22:47:01.911Z"
   },
   {
    "duration": 1351,
    "start_time": "2022-10-26T20:21:29.457Z"
   },
   {
    "duration": 209,
    "start_time": "2022-10-26T20:21:32.879Z"
   },
   {
    "duration": 5,
    "start_time": "2022-10-26T20:21:35.477Z"
   },
   {
    "duration": 6,
    "start_time": "2022-10-26T20:21:36.870Z"
   },
   {
    "duration": 8,
    "start_time": "2022-10-26T20:21:37.831Z"
   },
   {
    "duration": 5,
    "start_time": "2022-10-26T20:21:38.730Z"
   },
   {
    "duration": 5,
    "start_time": "2022-10-26T20:21:40.237Z"
   },
   {
    "duration": 7,
    "start_time": "2022-10-26T20:21:41.613Z"
   },
   {
    "duration": 5,
    "start_time": "2022-10-26T20:21:42.567Z"
   },
   {
    "duration": 4,
    "start_time": "2022-10-26T20:21:43.502Z"
   },
   {
    "duration": 5,
    "start_time": "2022-10-26T20:21:44.477Z"
   },
   {
    "duration": 5,
    "start_time": "2022-10-26T20:21:46.030Z"
   },
   {
    "duration": 6,
    "start_time": "2022-10-26T20:21:47.142Z"
   },
   {
    "duration": 16,
    "start_time": "2022-10-26T20:21:49.002Z"
   },
   {
    "duration": 1088,
    "start_time": "2022-10-26T20:21:50.150Z"
   },
   {
    "duration": 1276,
    "start_time": "2022-10-26T20:21:51.240Z"
   },
   {
    "duration": 389,
    "start_time": "2022-10-26T20:21:52.517Z"
   },
   {
    "duration": 1666,
    "start_time": "2022-10-26T20:21:52.908Z"
   },
   {
    "duration": 2333,
    "start_time": "2022-10-26T20:21:54.575Z"
   },
   {
    "duration": 15,
    "start_time": "2022-10-26T20:21:56.910Z"
   },
   {
    "duration": 567,
    "start_time": "2022-10-26T20:21:56.927Z"
   },
   {
    "duration": 398,
    "start_time": "2022-10-26T20:43:28.408Z"
   },
   {
    "duration": 461,
    "start_time": "2022-10-26T20:43:35.704Z"
   },
   {
    "duration": 621,
    "start_time": "2022-10-26T20:43:57.944Z"
   },
   {
    "duration": 684,
    "start_time": "2022-10-26T20:45:09.809Z"
   },
   {
    "duration": 956,
    "start_time": "2022-10-26T20:45:27.985Z"
   },
   {
    "duration": 1337,
    "start_time": "2022-10-26T20:45:55.663Z"
   },
   {
    "duration": 1382,
    "start_time": "2022-10-26T20:47:24.500Z"
   },
   {
    "duration": 1459,
    "start_time": "2022-10-26T20:47:48.285Z"
   },
   {
    "duration": 2012,
    "start_time": "2022-10-26T20:48:18.156Z"
   },
   {
    "duration": 2421,
    "start_time": "2022-10-26T20:48:29.628Z"
   },
   {
    "duration": 99,
    "start_time": "2022-10-26T22:12:40.097Z"
   },
   {
    "duration": 67,
    "start_time": "2022-10-26T22:13:11.584Z"
   },
   {
    "duration": 12,
    "start_time": "2022-10-26T22:13:24.502Z"
   },
   {
    "duration": 14,
    "start_time": "2022-10-26T22:17:47.320Z"
   },
   {
    "duration": 10,
    "start_time": "2022-10-26T22:20:16.378Z"
   },
   {
    "duration": 30,
    "start_time": "2022-10-26T22:20:30.258Z"
   },
   {
    "duration": 21,
    "start_time": "2022-10-26T22:22:35.868Z"
   },
   {
    "duration": 20,
    "start_time": "2022-10-26T22:23:16.756Z"
   },
   {
    "duration": 149,
    "start_time": "2022-10-26T22:29:07.990Z"
   },
   {
    "duration": 144,
    "start_time": "2022-10-26T22:29:35.862Z"
   },
   {
    "duration": 132,
    "start_time": "2022-10-26T22:29:44.574Z"
   },
   {
    "duration": 133,
    "start_time": "2022-10-26T22:29:56.222Z"
   },
   {
    "duration": 14,
    "start_time": "2022-10-26T22:30:02.807Z"
   },
   {
    "duration": 151,
    "start_time": "2022-10-26T22:30:06.719Z"
   },
   {
    "duration": 144,
    "start_time": "2022-10-26T22:30:50.791Z"
   },
   {
    "duration": 120,
    "start_time": "2022-10-26T22:30:56.976Z"
   },
   {
    "duration": 146,
    "start_time": "2022-10-26T22:31:04.472Z"
   },
   {
    "duration": 140,
    "start_time": "2022-10-26T22:31:12.454Z"
   },
   {
    "duration": 141,
    "start_time": "2022-10-26T22:31:26.207Z"
   },
   {
    "duration": 138,
    "start_time": "2022-10-26T22:31:42.520Z"
   },
   {
    "duration": 155,
    "start_time": "2022-10-26T22:33:09.856Z"
   },
   {
    "duration": 156,
    "start_time": "2022-10-26T22:33:29.071Z"
   },
   {
    "duration": 154,
    "start_time": "2022-10-26T22:33:40.497Z"
   },
   {
    "duration": 142,
    "start_time": "2022-10-26T22:33:48.231Z"
   },
   {
    "duration": 140,
    "start_time": "2022-10-26T22:34:04.024Z"
   },
   {
    "duration": 164,
    "start_time": "2022-10-26T22:34:13.289Z"
   },
   {
    "duration": 11,
    "start_time": "2022-10-26T22:39:36.891Z"
   },
   {
    "duration": 12,
    "start_time": "2022-10-26T22:40:04.043Z"
   },
   {
    "duration": 4,
    "start_time": "2022-10-26T22:40:15.763Z"
   },
   {
    "duration": 8,
    "start_time": "2022-10-26T22:45:00.229Z"
   },
   {
    "duration": 5,
    "start_time": "2022-10-26T22:45:23.527Z"
   },
   {
    "duration": 7,
    "start_time": "2022-10-26T22:45:45.949Z"
   },
   {
    "duration": 7,
    "start_time": "2022-10-26T22:46:14.097Z"
   },
   {
    "duration": 100,
    "start_time": "2022-10-26T22:47:19.935Z"
   },
   {
    "duration": 10,
    "start_time": "2022-10-26T22:48:05.745Z"
   },
   {
    "duration": 12,
    "start_time": "2022-10-26T22:52:08.209Z"
   },
   {
    "duration": 11,
    "start_time": "2022-10-26T22:53:43.777Z"
   },
   {
    "duration": 6,
    "start_time": "2022-10-26T23:04:06.573Z"
   },
   {
    "duration": 6,
    "start_time": "2022-10-26T23:04:41.774Z"
   },
   {
    "duration": 10,
    "start_time": "2022-10-26T23:07:38.875Z"
   },
   {
    "duration": 9,
    "start_time": "2022-10-26T23:08:29.392Z"
   },
   {
    "duration": 95,
    "start_time": "2022-10-26T23:10:48.002Z"
   },
   {
    "duration": 6,
    "start_time": "2022-10-26T23:12:02.946Z"
   },
   {
    "duration": 7,
    "start_time": "2022-10-26T23:13:59.970Z"
   },
   {
    "duration": 7,
    "start_time": "2022-10-26T23:14:21.819Z"
   },
   {
    "duration": 94,
    "start_time": "2022-10-26T23:15:26.324Z"
   },
   {
    "duration": 44,
    "start_time": "2022-10-26T23:17:22.960Z"
   },
   {
    "duration": 1028,
    "start_time": "2022-10-26T23:17:37.251Z"
   },
   {
    "duration": 75,
    "start_time": "2022-10-26T23:17:38.281Z"
   },
   {
    "duration": 4,
    "start_time": "2022-10-26T23:17:38.358Z"
   },
   {
    "duration": 7,
    "start_time": "2022-10-26T23:17:38.364Z"
   },
   {
    "duration": 10,
    "start_time": "2022-10-26T23:17:38.372Z"
   },
   {
    "duration": 7,
    "start_time": "2022-10-26T23:17:38.384Z"
   },
   {
    "duration": 5,
    "start_time": "2022-10-26T23:17:38.393Z"
   },
   {
    "duration": 6,
    "start_time": "2022-10-26T23:17:38.399Z"
   },
   {
    "duration": 5,
    "start_time": "2022-10-26T23:17:38.407Z"
   },
   {
    "duration": 4,
    "start_time": "2022-10-26T23:17:38.415Z"
   },
   {
    "duration": 6,
    "start_time": "2022-10-26T23:17:38.420Z"
   },
   {
    "duration": 5,
    "start_time": "2022-10-26T23:17:38.428Z"
   },
   {
    "duration": 6,
    "start_time": "2022-10-26T23:17:38.435Z"
   },
   {
    "duration": 60,
    "start_time": "2022-10-26T23:17:38.442Z"
   },
   {
    "duration": 1089,
    "start_time": "2022-10-26T23:17:38.503Z"
   },
   {
    "duration": 1295,
    "start_time": "2022-10-26T23:17:39.594Z"
   },
   {
    "duration": 392,
    "start_time": "2022-10-26T23:17:40.890Z"
   },
   {
    "duration": 1753,
    "start_time": "2022-10-26T23:17:41.284Z"
   },
   {
    "duration": 2250,
    "start_time": "2022-10-26T23:17:43.039Z"
   },
   {
    "duration": 17,
    "start_time": "2022-10-26T23:17:45.290Z"
   },
   {
    "duration": 2250,
    "start_time": "2022-10-26T23:17:45.308Z"
   },
   {
    "duration": 16,
    "start_time": "2022-10-26T23:17:52.256Z"
   },
   {
    "duration": 20,
    "start_time": "2022-10-26T23:18:02.601Z"
   },
   {
    "duration": 23,
    "start_time": "2022-10-26T23:18:17.369Z"
   },
   {
    "duration": 152,
    "start_time": "2022-10-26T23:18:32.016Z"
   },
   {
    "duration": 154,
    "start_time": "2022-10-26T23:18:57.215Z"
   },
   {
    "duration": 144,
    "start_time": "2022-10-26T23:19:06.848Z"
   },
   {
    "duration": 237,
    "start_time": "2022-10-26T23:19:17.874Z"
   },
   {
    "duration": 144,
    "start_time": "2022-10-26T23:19:27.016Z"
   },
   {
    "duration": 166,
    "start_time": "2022-10-26T23:19:38.057Z"
   },
   {
    "duration": 111,
    "start_time": "2022-10-26T23:44:48.694Z"
   },
   {
    "duration": 1208,
    "start_time": "2022-10-26T23:45:49.173Z"
   },
   {
    "duration": 1353,
    "start_time": "2022-10-26T23:46:25.862Z"
   },
   {
    "duration": 11,
    "start_time": "2022-10-26T23:47:25.150Z"
   },
   {
    "duration": 101,
    "start_time": "2022-10-26T23:48:56.105Z"
   },
   {
    "duration": 104,
    "start_time": "2022-10-26T23:49:21.735Z"
   },
   {
    "duration": 54,
    "start_time": "2022-10-26T23:58:39.676Z"
   },
   {
    "duration": 95,
    "start_time": "2022-10-26T23:59:30.236Z"
   },
   {
    "duration": 1482,
    "start_time": "2022-10-27T00:14:50.464Z"
   },
   {
    "duration": 1109,
    "start_time": "2022-10-27T00:15:09.275Z"
   },
   {
    "duration": 1443,
    "start_time": "2022-10-27T00:17:23.077Z"
   },
   {
    "duration": 19,
    "start_time": "2022-10-27T00:19:47.148Z"
   },
   {
    "duration": 1377,
    "start_time": "2022-10-27T00:25:46.103Z"
   },
   {
    "duration": 1304,
    "start_time": "2022-10-27T00:27:12.471Z"
   },
   {
    "duration": 618,
    "start_time": "2022-10-27T00:27:59.193Z"
   },
   {
    "duration": 746,
    "start_time": "2022-10-27T00:28:18.402Z"
   },
   {
    "duration": 596,
    "start_time": "2022-10-27T00:36:55.343Z"
   },
   {
    "duration": 617,
    "start_time": "2022-10-27T00:39:50.531Z"
   },
   {
    "duration": 698,
    "start_time": "2022-10-27T00:40:10.222Z"
   },
   {
    "duration": 634,
    "start_time": "2022-10-27T00:40:21.118Z"
   },
   {
    "duration": 1484,
    "start_time": "2022-10-27T18:37:54.116Z"
   },
   {
    "duration": 144,
    "start_time": "2022-10-27T18:37:55.604Z"
   },
   {
    "duration": 5,
    "start_time": "2022-10-27T18:37:55.750Z"
   },
   {
    "duration": 12,
    "start_time": "2022-10-27T18:37:55.757Z"
   },
   {
    "duration": 13,
    "start_time": "2022-10-27T18:37:55.771Z"
   },
   {
    "duration": 8,
    "start_time": "2022-10-27T18:37:55.786Z"
   },
   {
    "duration": 12,
    "start_time": "2022-10-27T18:37:55.796Z"
   },
   {
    "duration": 12,
    "start_time": "2022-10-27T18:37:55.810Z"
   },
   {
    "duration": 35,
    "start_time": "2022-10-27T18:37:55.824Z"
   },
   {
    "duration": 13,
    "start_time": "2022-10-27T18:37:55.862Z"
   },
   {
    "duration": 16,
    "start_time": "2022-10-27T18:37:55.878Z"
   },
   {
    "duration": 23,
    "start_time": "2022-10-27T18:37:55.896Z"
   },
   {
    "duration": 9,
    "start_time": "2022-10-27T18:37:55.921Z"
   },
   {
    "duration": 37,
    "start_time": "2022-10-27T18:37:55.932Z"
   },
   {
    "duration": 1713,
    "start_time": "2022-10-27T18:37:55.971Z"
   },
   {
    "duration": 1611,
    "start_time": "2022-10-27T18:37:57.686Z"
   },
   {
    "duration": 486,
    "start_time": "2022-10-27T18:37:59.299Z"
   },
   {
    "duration": 2396,
    "start_time": "2022-10-27T18:37:59.788Z"
   },
   {
    "duration": 2937,
    "start_time": "2022-10-27T18:38:02.187Z"
   },
   {
    "duration": 31,
    "start_time": "2022-10-27T18:38:05.126Z"
   },
   {
    "duration": 2708,
    "start_time": "2022-10-27T18:38:05.159Z"
   },
   {
    "duration": 32,
    "start_time": "2022-10-27T18:38:07.869Z"
   },
   {
    "duration": 201,
    "start_time": "2022-10-27T18:38:07.904Z"
   },
   {
    "duration": 982,
    "start_time": "2022-10-27T18:38:08.107Z"
   },
   {
    "duration": 3,
    "start_time": "2022-10-27T18:38:09.092Z"
   },
   {
    "duration": 225,
    "start_time": "2022-10-27T18:39:14.316Z"
   },
   {
    "duration": 25,
    "start_time": "2022-10-27T18:40:24.468Z"
   },
   {
    "duration": 15,
    "start_time": "2022-10-27T18:41:18.843Z"
   },
   {
    "duration": 5,
    "start_time": "2022-10-27T18:41:32.076Z"
   },
   {
    "duration": 8,
    "start_time": "2022-10-27T18:42:07.913Z"
   },
   {
    "duration": 8,
    "start_time": "2022-10-27T18:43:05.579Z"
   },
   {
    "duration": 15,
    "start_time": "2022-10-27T18:43:15.803Z"
   },
   {
    "duration": 4,
    "start_time": "2022-10-27T18:43:25.746Z"
   },
   {
    "duration": 16,
    "start_time": "2022-10-27T18:43:36.036Z"
   },
   {
    "duration": 24,
    "start_time": "2022-10-27T18:43:42.349Z"
   },
   {
    "duration": 683,
    "start_time": "2022-10-27T18:43:47.939Z"
   },
   {
    "duration": 70,
    "start_time": "2022-10-27T20:44:15.980Z"
   },
   {
    "duration": 60,
    "start_time": "2022-10-27T20:44:51.019Z"
   },
   {
    "duration": 106,
    "start_time": "2022-10-27T20:45:18.490Z"
   },
   {
    "duration": 17,
    "start_time": "2022-10-27T20:46:03.227Z"
   },
   {
    "duration": 52,
    "start_time": "2022-10-27T20:46:41.928Z"
   },
   {
    "duration": 24,
    "start_time": "2022-10-27T20:47:00.537Z"
   },
   {
    "duration": 9,
    "start_time": "2022-10-27T20:47:29.372Z"
   },
   {
    "duration": 16,
    "start_time": "2022-10-27T20:48:02.704Z"
   },
   {
    "duration": 24,
    "start_time": "2022-10-27T20:54:20.604Z"
   },
   {
    "duration": 23,
    "start_time": "2022-10-27T20:58:29.016Z"
   },
   {
    "duration": 126,
    "start_time": "2022-10-27T21:01:35.183Z"
   },
   {
    "duration": 23,
    "start_time": "2022-10-27T21:01:52.703Z"
   },
   {
    "duration": 16,
    "start_time": "2022-10-27T21:02:30.912Z"
   },
   {
    "duration": 24,
    "start_time": "2022-10-27T21:02:45.815Z"
   },
   {
    "duration": 122,
    "start_time": "2022-10-27T21:03:12.400Z"
   },
   {
    "duration": 287,
    "start_time": "2022-10-27T21:06:44.082Z"
   },
   {
    "duration": 401,
    "start_time": "2022-10-27T21:07:12.705Z"
   },
   {
    "duration": 33,
    "start_time": "2022-10-27T21:07:31.674Z"
   },
   {
    "duration": 340,
    "start_time": "2022-10-27T21:07:41.307Z"
   },
   {
    "duration": 281,
    "start_time": "2022-10-27T21:07:48.819Z"
   },
   {
    "duration": 373,
    "start_time": "2022-10-27T21:09:17.996Z"
   },
   {
    "duration": 241,
    "start_time": "2022-10-27T21:09:25.556Z"
   },
   {
    "duration": 287,
    "start_time": "2022-10-27T21:09:32.340Z"
   },
   {
    "duration": 415,
    "start_time": "2022-10-27T21:09:39.047Z"
   },
   {
    "duration": 22,
    "start_time": "2022-10-27T22:00:11.683Z"
   },
   {
    "duration": 5,
    "start_time": "2022-10-27T22:12:11.577Z"
   },
   {
    "duration": 126,
    "start_time": "2022-10-27T22:12:11.584Z"
   },
   {
    "duration": 6,
    "start_time": "2022-10-27T22:12:11.712Z"
   },
   {
    "duration": 16,
    "start_time": "2022-10-27T22:12:11.719Z"
   },
   {
    "duration": 24,
    "start_time": "2022-10-27T22:12:11.737Z"
   },
   {
    "duration": 6,
    "start_time": "2022-10-27T22:12:11.763Z"
   },
   {
    "duration": 6,
    "start_time": "2022-10-27T22:12:11.773Z"
   },
   {
    "duration": 9,
    "start_time": "2022-10-27T22:12:11.780Z"
   },
   {
    "duration": 10,
    "start_time": "2022-10-27T22:12:11.791Z"
   },
   {
    "duration": 19,
    "start_time": "2022-10-27T22:12:11.803Z"
   },
   {
    "duration": 19,
    "start_time": "2022-10-27T22:12:11.824Z"
   },
   {
    "duration": 29,
    "start_time": "2022-10-27T22:12:11.845Z"
   },
   {
    "duration": 25,
    "start_time": "2022-10-27T22:12:11.875Z"
   },
   {
    "duration": 27,
    "start_time": "2022-10-27T22:12:11.901Z"
   },
   {
    "duration": 1193,
    "start_time": "2022-10-27T22:12:11.930Z"
   },
   {
    "duration": 1329,
    "start_time": "2022-10-27T22:12:13.125Z"
   },
   {
    "duration": 443,
    "start_time": "2022-10-27T22:12:14.456Z"
   },
   {
    "duration": 1845,
    "start_time": "2022-10-27T22:12:14.901Z"
   },
   {
    "duration": 2692,
    "start_time": "2022-10-27T22:12:16.748Z"
   },
   {
    "duration": 27,
    "start_time": "2022-10-27T22:12:19.442Z"
   },
   {
    "duration": 6542,
    "start_time": "2022-10-27T22:12:19.470Z"
   },
   {
    "duration": 25,
    "start_time": "2022-10-27T22:12:26.014Z"
   },
   {
    "duration": 193,
    "start_time": "2022-10-27T22:12:26.041Z"
   },
   {
    "duration": 718,
    "start_time": "2022-10-27T22:12:26.236Z"
   },
   {
    "duration": 669,
    "start_time": "2022-10-27T22:12:26.956Z"
   },
   {
    "duration": 33,
    "start_time": "2022-10-27T22:12:27.627Z"
   },
   {
    "duration": 280,
    "start_time": "2022-10-27T22:12:27.661Z"
   },
   {
    "duration": 25,
    "start_time": "2022-10-27T22:12:27.942Z"
   },
   {
    "duration": 107775,
    "start_time": "2022-10-27T22:12:27.970Z"
   },
   {
    "duration": 163,
    "start_time": "2022-10-27T22:14:29.964Z"
   },
   {
    "duration": 4413,
    "start_time": "2022-10-27T22:15:41.157Z"
   },
   {
    "duration": 19,
    "start_time": "2022-10-27T22:22:02.885Z"
   },
   {
    "duration": 733,
    "start_time": "2022-10-27T23:06:27.693Z"
   },
   {
    "duration": 12,
    "start_time": "2022-10-27T23:06:55.117Z"
   },
   {
    "duration": 705,
    "start_time": "2022-10-27T23:08:04.735Z"
   },
   {
    "duration": 15,
    "start_time": "2022-10-27T23:08:17.070Z"
   },
   {
    "duration": 8,
    "start_time": "2022-10-27T23:18:16.328Z"
   },
   {
    "duration": 11,
    "start_time": "2022-10-27T23:18:48.035Z"
   },
   {
    "duration": 9,
    "start_time": "2022-10-27T23:21:11.836Z"
   },
   {
    "duration": 552,
    "start_time": "2022-10-27T23:40:00.725Z"
   },
   {
    "duration": 12,
    "start_time": "2022-10-27T23:41:21.135Z"
   },
   {
    "duration": 5,
    "start_time": "2022-10-27T23:43:27.616Z"
   },
   {
    "duration": 8,
    "start_time": "2022-10-27T23:43:46.736Z"
   },
   {
    "duration": 8,
    "start_time": "2022-10-27T23:45:38.321Z"
   },
   {
    "duration": 8,
    "start_time": "2022-10-27T23:58:54.318Z"
   },
   {
    "duration": 20,
    "start_time": "2022-10-28T00:09:56.193Z"
   },
   {
    "duration": 125,
    "start_time": "2022-10-28T00:12:54.661Z"
   },
   {
    "duration": 17,
    "start_time": "2022-10-28T00:17:06.289Z"
   },
   {
    "duration": 17,
    "start_time": "2022-10-28T00:22:21.886Z"
   },
   {
    "duration": 474,
    "start_time": "2022-10-28T00:23:02.220Z"
   },
   {
    "duration": 1372,
    "start_time": "2022-10-28T20:11:43.509Z"
   },
   {
    "duration": 129,
    "start_time": "2022-10-28T20:11:44.883Z"
   },
   {
    "duration": 4,
    "start_time": "2022-10-28T20:11:45.014Z"
   },
   {
    "duration": 44,
    "start_time": "2022-10-28T20:11:45.020Z"
   },
   {
    "duration": 20,
    "start_time": "2022-10-28T20:11:45.066Z"
   },
   {
    "duration": 16,
    "start_time": "2022-10-28T20:11:45.087Z"
   },
   {
    "duration": 17,
    "start_time": "2022-10-28T20:11:45.105Z"
   },
   {
    "duration": 28,
    "start_time": "2022-10-28T20:11:45.124Z"
   },
   {
    "duration": 16,
    "start_time": "2022-10-28T20:11:45.153Z"
   },
   {
    "duration": 18,
    "start_time": "2022-10-28T20:11:45.171Z"
   },
   {
    "duration": 16,
    "start_time": "2022-10-28T20:11:45.190Z"
   },
   {
    "duration": 16,
    "start_time": "2022-10-28T20:11:45.207Z"
   },
   {
    "duration": 17,
    "start_time": "2022-10-28T20:11:45.224Z"
   },
   {
    "duration": 20,
    "start_time": "2022-10-28T20:11:45.243Z"
   },
   {
    "duration": 1206,
    "start_time": "2022-10-28T20:11:45.265Z"
   },
   {
    "duration": 1449,
    "start_time": "2022-10-28T20:11:46.473Z"
   },
   {
    "duration": 424,
    "start_time": "2022-10-28T20:11:47.924Z"
   },
   {
    "duration": 1761,
    "start_time": "2022-10-28T20:11:48.350Z"
   },
   {
    "duration": 2689,
    "start_time": "2022-10-28T20:11:50.113Z"
   },
   {
    "duration": 19,
    "start_time": "2022-10-28T20:11:52.804Z"
   },
   {
    "duration": 2455,
    "start_time": "2022-10-28T20:11:52.824Z"
   },
   {
    "duration": 22,
    "start_time": "2022-10-28T20:11:55.281Z"
   },
   {
    "duration": 195,
    "start_time": "2022-10-28T20:11:55.305Z"
   },
   {
    "duration": 818,
    "start_time": "2022-10-28T20:11:55.502Z"
   },
   {
    "duration": 655,
    "start_time": "2022-10-28T20:11:56.322Z"
   },
   {
    "duration": 22,
    "start_time": "2022-10-28T20:11:56.979Z"
   },
   {
    "duration": 281,
    "start_time": "2022-10-28T20:11:57.003Z"
   },
   {
    "duration": 15,
    "start_time": "2022-10-28T20:11:57.287Z"
   },
   {
    "duration": 514,
    "start_time": "2022-10-28T20:11:57.304Z"
   },
   {
    "duration": 16,
    "start_time": "2022-10-28T20:11:57.820Z"
   },
   {
    "duration": 21,
    "start_time": "2022-10-28T20:11:57.838Z"
   },
   {
    "duration": 25,
    "start_time": "2022-10-28T20:11:57.861Z"
   },
   {
    "duration": 562,
    "start_time": "2022-10-28T20:11:57.887Z"
   },
   {
    "duration": 265,
    "start_time": "2022-10-28T20:16:58.690Z"
   },
   {
    "duration": 280,
    "start_time": "2022-10-28T20:17:27.588Z"
   },
   {
    "duration": 282,
    "start_time": "2022-10-28T20:17:45.460Z"
   },
   {
    "duration": 250,
    "start_time": "2022-10-28T20:18:09.789Z"
   },
   {
    "duration": 262,
    "start_time": "2022-10-28T20:18:17.365Z"
   },
   {
    "duration": 356,
    "start_time": "2022-10-28T20:19:15.561Z"
   },
   {
    "duration": 328,
    "start_time": "2022-10-28T20:19:21.499Z"
   },
   {
    "duration": 261,
    "start_time": "2022-10-28T20:19:32.469Z"
   },
   {
    "duration": 265,
    "start_time": "2022-10-28T20:19:52.118Z"
   },
   {
    "duration": 268,
    "start_time": "2022-10-28T20:21:53.847Z"
   },
   {
    "duration": 479,
    "start_time": "2022-10-28T20:22:02.375Z"
   },
   {
    "duration": 379,
    "start_time": "2022-10-28T20:22:06.431Z"
   },
   {
    "duration": 350,
    "start_time": "2022-10-28T20:22:27.334Z"
   },
   {
    "duration": 295,
    "start_time": "2022-10-28T20:24:18.200Z"
   },
   {
    "duration": 362,
    "start_time": "2022-10-28T20:24:34.409Z"
   },
   {
    "duration": 354,
    "start_time": "2022-10-28T20:26:20.881Z"
   },
   {
    "duration": 476,
    "start_time": "2022-10-28T20:26:39.775Z"
   },
   {
    "duration": 364,
    "start_time": "2022-10-28T20:26:57.304Z"
   },
   {
    "duration": 379,
    "start_time": "2022-10-28T20:28:00.288Z"
   },
   {
    "duration": 271,
    "start_time": "2022-10-28T20:28:32.096Z"
   },
   {
    "duration": 269,
    "start_time": "2022-10-28T20:31:18.201Z"
   },
   {
    "duration": 400,
    "start_time": "2022-10-28T20:31:30.866Z"
   },
   {
    "duration": 381,
    "start_time": "2022-10-28T20:31:39.400Z"
   },
   {
    "duration": 282,
    "start_time": "2022-10-28T20:32:21.835Z"
   },
   {
    "duration": 270,
    "start_time": "2022-10-28T20:34:08.084Z"
   },
   {
    "duration": 260,
    "start_time": "2022-10-28T20:35:27.053Z"
   },
   {
    "duration": 261,
    "start_time": "2022-10-28T20:35:48.158Z"
   },
   {
    "duration": 7,
    "start_time": "2022-10-28T20:55:09.785Z"
   },
   {
    "duration": 6,
    "start_time": "2022-10-28T20:56:19.034Z"
   },
   {
    "duration": 989,
    "start_time": "2022-10-28T21:06:42.471Z"
   },
   {
    "duration": 309,
    "start_time": "2022-10-28T21:09:30.720Z"
   },
   {
    "duration": 638,
    "start_time": "2022-10-28T21:10:12.471Z"
   },
   {
    "duration": 683,
    "start_time": "2022-10-28T21:10:29.879Z"
   },
   {
    "duration": 815,
    "start_time": "2022-10-28T21:10:40.302Z"
   },
   {
    "duration": 664,
    "start_time": "2022-10-28T21:10:48.719Z"
   },
   {
    "duration": 11,
    "start_time": "2022-10-28T21:29:17.391Z"
   },
   {
    "duration": 3,
    "start_time": "2022-10-28T21:29:32.968Z"
   },
   {
    "duration": 675,
    "start_time": "2022-10-28T21:47:12.038Z"
   },
   {
    "duration": 24,
    "start_time": "2022-10-28T22:00:08.354Z"
   },
   {
    "duration": 8,
    "start_time": "2022-10-28T22:12:30.194Z"
   },
   {
    "duration": 8,
    "start_time": "2022-10-28T22:14:24.177Z"
   },
   {
    "duration": 9,
    "start_time": "2022-10-28T22:16:30.316Z"
   },
   {
    "duration": 9,
    "start_time": "2022-10-28T22:20:15.317Z"
   },
   {
    "duration": 1098,
    "start_time": "2022-10-29T14:28:19.160Z"
   },
   {
    "duration": 83,
    "start_time": "2022-10-29T14:28:20.259Z"
   },
   {
    "duration": 5,
    "start_time": "2022-10-29T14:28:20.343Z"
   },
   {
    "duration": 7,
    "start_time": "2022-10-29T14:28:20.349Z"
   },
   {
    "duration": 8,
    "start_time": "2022-10-29T14:28:20.358Z"
   },
   {
    "duration": 14,
    "start_time": "2022-10-29T14:28:20.368Z"
   },
   {
    "duration": 12,
    "start_time": "2022-10-29T14:28:20.383Z"
   },
   {
    "duration": 11,
    "start_time": "2022-10-29T14:28:20.396Z"
   },
   {
    "duration": 12,
    "start_time": "2022-10-29T14:28:20.409Z"
   },
   {
    "duration": 7,
    "start_time": "2022-10-29T14:28:20.423Z"
   },
   {
    "duration": 6,
    "start_time": "2022-10-29T14:28:20.431Z"
   },
   {
    "duration": 12,
    "start_time": "2022-10-29T14:28:20.438Z"
   },
   {
    "duration": 7,
    "start_time": "2022-10-29T14:28:20.451Z"
   },
   {
    "duration": 21,
    "start_time": "2022-10-29T14:28:20.461Z"
   },
   {
    "duration": 1112,
    "start_time": "2022-10-29T14:28:20.489Z"
   },
   {
    "duration": 1408,
    "start_time": "2022-10-29T14:28:21.603Z"
   },
   {
    "duration": 393,
    "start_time": "2022-10-29T14:28:23.013Z"
   },
   {
    "duration": 1763,
    "start_time": "2022-10-29T14:28:23.408Z"
   },
   {
    "duration": 2372,
    "start_time": "2022-10-29T14:28:25.177Z"
   },
   {
    "duration": 28,
    "start_time": "2022-10-29T14:28:27.551Z"
   },
   {
    "duration": 2307,
    "start_time": "2022-10-29T14:28:27.585Z"
   },
   {
    "duration": 20,
    "start_time": "2022-10-29T14:28:29.894Z"
   },
   {
    "duration": 177,
    "start_time": "2022-10-29T14:28:29.916Z"
   },
   {
    "duration": 755,
    "start_time": "2022-10-29T14:28:30.096Z"
   },
   {
    "duration": 591,
    "start_time": "2022-10-29T14:28:30.853Z"
   },
   {
    "duration": 19,
    "start_time": "2022-10-29T14:28:31.445Z"
   },
   {
    "duration": 253,
    "start_time": "2022-10-29T14:28:31.465Z"
   },
   {
    "duration": 14,
    "start_time": "2022-10-29T14:28:31.719Z"
   },
   {
    "duration": 458,
    "start_time": "2022-10-29T14:28:31.734Z"
   },
   {
    "duration": 17,
    "start_time": "2022-10-29T14:28:32.193Z"
   },
   {
    "duration": 733,
    "start_time": "2022-10-29T14:28:32.211Z"
   },
   {
    "duration": 14,
    "start_time": "2022-10-29T14:28:32.946Z"
   },
   {
    "duration": 438,
    "start_time": "2022-10-29T14:28:32.961Z"
   },
   {
    "duration": 7,
    "start_time": "2022-10-29T14:28:33.401Z"
   },
   {
    "duration": 30,
    "start_time": "2022-10-29T14:28:33.409Z"
   },
   {
    "duration": 46,
    "start_time": "2022-10-29T14:33:15.428Z"
   },
   {
    "duration": 1050,
    "start_time": "2022-10-29T14:33:25.744Z"
   },
   {
    "duration": 78,
    "start_time": "2022-10-29T14:33:26.796Z"
   },
   {
    "duration": 6,
    "start_time": "2022-10-29T14:33:26.876Z"
   },
   {
    "duration": 16,
    "start_time": "2022-10-29T14:33:26.885Z"
   },
   {
    "duration": 11,
    "start_time": "2022-10-29T14:33:26.904Z"
   },
   {
    "duration": 5,
    "start_time": "2022-10-29T14:33:26.917Z"
   },
   {
    "duration": 20,
    "start_time": "2022-10-29T14:33:26.923Z"
   },
   {
    "duration": 22,
    "start_time": "2022-10-29T14:33:26.945Z"
   },
   {
    "duration": 24,
    "start_time": "2022-10-29T14:33:26.969Z"
   },
   {
    "duration": 21,
    "start_time": "2022-10-29T14:33:26.995Z"
   },
   {
    "duration": 15,
    "start_time": "2022-10-29T14:33:27.018Z"
   },
   {
    "duration": 14,
    "start_time": "2022-10-29T14:33:27.035Z"
   },
   {
    "duration": 79,
    "start_time": "2022-10-29T14:33:27.051Z"
   },
   {
    "duration": 5,
    "start_time": "2022-10-29T14:33:27.133Z"
   },
   {
    "duration": 30,
    "start_time": "2022-10-29T14:33:27.140Z"
   },
   {
    "duration": 1215,
    "start_time": "2022-10-29T14:33:27.172Z"
   },
   {
    "duration": 1509,
    "start_time": "2022-10-29T14:33:28.390Z"
   },
   {
    "duration": 899,
    "start_time": "2022-10-29T14:33:29.901Z"
   },
   {
    "duration": 1907,
    "start_time": "2022-10-29T14:33:30.802Z"
   },
   {
    "duration": 2316,
    "start_time": "2022-10-29T14:33:32.711Z"
   },
   {
    "duration": 15,
    "start_time": "2022-10-29T14:33:35.029Z"
   },
   {
    "duration": 2423,
    "start_time": "2022-10-29T14:33:35.046Z"
   },
   {
    "duration": 30,
    "start_time": "2022-10-29T14:33:37.476Z"
   },
   {
    "duration": 209,
    "start_time": "2022-10-29T14:33:37.507Z"
   },
   {
    "duration": 881,
    "start_time": "2022-10-29T14:33:37.719Z"
   },
   {
    "duration": 631,
    "start_time": "2022-10-29T14:33:38.603Z"
   },
   {
    "duration": 25,
    "start_time": "2022-10-29T14:33:39.236Z"
   },
   {
    "duration": 265,
    "start_time": "2022-10-29T14:33:39.263Z"
   },
   {
    "duration": 16,
    "start_time": "2022-10-29T14:33:39.530Z"
   },
   {
    "duration": 475,
    "start_time": "2022-10-29T14:33:39.547Z"
   },
   {
    "duration": 16,
    "start_time": "2022-10-29T14:33:40.025Z"
   },
   {
    "duration": 849,
    "start_time": "2022-10-29T14:33:40.043Z"
   },
   {
    "duration": 17,
    "start_time": "2022-10-29T14:33:40.894Z"
   },
   {
    "duration": 476,
    "start_time": "2022-10-29T14:33:40.913Z"
   },
   {
    "duration": 9,
    "start_time": "2022-10-29T14:33:41.391Z"
   },
   {
    "duration": 10,
    "start_time": "2022-10-29T14:33:41.402Z"
   },
   {
    "duration": 2034,
    "start_time": "2022-10-29T14:40:32.167Z"
   },
   {
    "duration": 366,
    "start_time": "2022-10-29T14:49:50.338Z"
   },
   {
    "duration": 246,
    "start_time": "2022-10-29T14:50:11.256Z"
   },
   {
    "duration": 240,
    "start_time": "2022-10-29T14:50:18.133Z"
   },
   {
    "duration": 244,
    "start_time": "2022-10-29T14:50:34.817Z"
   },
   {
    "duration": 11,
    "start_time": "2022-10-29T14:53:37.490Z"
   },
   {
    "duration": 1300,
    "start_time": "2022-10-29T22:37:56.524Z"
   },
   {
    "duration": 156,
    "start_time": "2022-10-29T22:37:57.826Z"
   },
   {
    "duration": 5,
    "start_time": "2022-10-29T22:37:57.983Z"
   },
   {
    "duration": 11,
    "start_time": "2022-10-29T22:37:57.990Z"
   },
   {
    "duration": 11,
    "start_time": "2022-10-29T22:37:58.002Z"
   },
   {
    "duration": 5,
    "start_time": "2022-10-29T22:37:58.014Z"
   },
   {
    "duration": 7,
    "start_time": "2022-10-29T22:37:58.020Z"
   },
   {
    "duration": 11,
    "start_time": "2022-10-29T22:37:58.029Z"
   },
   {
    "duration": 18,
    "start_time": "2022-10-29T22:37:58.042Z"
   },
   {
    "duration": 6,
    "start_time": "2022-10-29T22:37:58.063Z"
   },
   {
    "duration": 9,
    "start_time": "2022-10-29T22:37:58.071Z"
   },
   {
    "duration": 30,
    "start_time": "2022-10-29T22:37:58.082Z"
   },
   {
    "duration": 77,
    "start_time": "2022-10-29T22:37:58.113Z"
   },
   {
    "duration": 6,
    "start_time": "2022-10-29T22:37:58.209Z"
   },
   {
    "duration": 20,
    "start_time": "2022-10-29T22:37:58.217Z"
   },
   {
    "duration": 1155,
    "start_time": "2022-10-29T22:37:58.239Z"
   },
   {
    "duration": 1314,
    "start_time": "2022-10-29T22:37:59.396Z"
   },
   {
    "duration": 415,
    "start_time": "2022-10-29T22:38:00.712Z"
   },
   {
    "duration": 1945,
    "start_time": "2022-10-29T22:38:01.129Z"
   },
   {
    "duration": 2348,
    "start_time": "2022-10-29T22:38:03.075Z"
   },
   {
    "duration": 15,
    "start_time": "2022-10-29T22:38:05.425Z"
   },
   {
    "duration": 2260,
    "start_time": "2022-10-29T22:38:05.442Z"
   },
   {
    "duration": 22,
    "start_time": "2022-10-29T22:38:07.708Z"
   },
   {
    "duration": 177,
    "start_time": "2022-10-29T22:38:07.732Z"
   },
   {
    "duration": 749,
    "start_time": "2022-10-29T22:38:07.910Z"
   },
   {
    "duration": 656,
    "start_time": "2022-10-29T22:38:08.661Z"
   },
   {
    "duration": 21,
    "start_time": "2022-10-29T22:38:09.319Z"
   },
   {
    "duration": 262,
    "start_time": "2022-10-29T22:38:09.344Z"
   },
   {
    "duration": 16,
    "start_time": "2022-10-29T22:38:09.607Z"
   },
   {
    "duration": 447,
    "start_time": "2022-10-29T22:38:09.624Z"
   },
   {
    "duration": 17,
    "start_time": "2022-10-29T22:38:10.072Z"
   },
   {
    "duration": 704,
    "start_time": "2022-10-29T22:38:10.091Z"
   },
   {
    "duration": 22,
    "start_time": "2022-10-29T22:38:10.796Z"
   },
   {
    "duration": 463,
    "start_time": "2022-10-29T22:38:10.820Z"
   },
   {
    "duration": 11,
    "start_time": "2022-10-29T22:38:11.284Z"
   },
   {
    "duration": 9,
    "start_time": "2022-10-29T22:38:11.308Z"
   },
   {
    "duration": 10,
    "start_time": "2022-10-29T22:38:11.319Z"
   },
   {
    "duration": 50,
    "start_time": "2022-10-29T22:42:28.357Z"
   },
   {
    "duration": 11,
    "start_time": "2022-10-29T23:09:11.658Z"
   },
   {
    "duration": 102,
    "start_time": "2022-10-29T23:18:06.472Z"
   },
   {
    "duration": 125,
    "start_time": "2022-10-29T23:18:43.002Z"
   },
   {
    "duration": 120,
    "start_time": "2022-10-29T23:19:30.302Z"
   },
   {
    "duration": 148,
    "start_time": "2022-10-29T23:19:45.033Z"
   },
   {
    "duration": 180,
    "start_time": "2022-10-29T23:19:54.169Z"
   },
   {
    "duration": 230,
    "start_time": "2022-10-29T23:20:00.704Z"
   },
   {
    "duration": 278,
    "start_time": "2022-10-29T23:20:42.681Z"
   },
   {
    "duration": 6,
    "start_time": "2022-10-29T23:22:02.458Z"
   },
   {
    "duration": 6,
    "start_time": "2022-10-29T23:22:27.089Z"
   },
   {
    "duration": 5,
    "start_time": "2022-10-29T23:23:36.562Z"
   },
   {
    "duration": 6,
    "start_time": "2022-10-29T23:24:12.195Z"
   },
   {
    "duration": 6,
    "start_time": "2022-10-29T23:25:31.924Z"
   },
   {
    "duration": 1258,
    "start_time": "2022-10-30T09:20:53.993Z"
   },
   {
    "duration": 232,
    "start_time": "2022-10-30T09:20:55.253Z"
   },
   {
    "duration": 15,
    "start_time": "2022-10-30T09:20:55.486Z"
   },
   {
    "duration": 4,
    "start_time": "2022-10-30T09:20:55.504Z"
   },
   {
    "duration": 14,
    "start_time": "2022-10-30T09:20:55.509Z"
   },
   {
    "duration": 9,
    "start_time": "2022-10-30T09:20:55.524Z"
   },
   {
    "duration": 5,
    "start_time": "2022-10-30T09:20:55.534Z"
   },
   {
    "duration": 7,
    "start_time": "2022-10-30T09:20:55.540Z"
   },
   {
    "duration": 9,
    "start_time": "2022-10-30T09:20:55.548Z"
   },
   {
    "duration": 9,
    "start_time": "2022-10-30T09:20:55.559Z"
   },
   {
    "duration": 4,
    "start_time": "2022-10-30T09:20:55.569Z"
   },
   {
    "duration": 7,
    "start_time": "2022-10-30T09:20:55.575Z"
   },
   {
    "duration": 6,
    "start_time": "2022-10-30T09:20:55.583Z"
   },
   {
    "duration": 82,
    "start_time": "2022-10-30T09:20:55.590Z"
   },
   {
    "duration": 5,
    "start_time": "2022-10-30T09:20:55.673Z"
   },
   {
    "duration": 20,
    "start_time": "2022-10-30T09:20:55.680Z"
   },
   {
    "duration": 1122,
    "start_time": "2022-10-30T09:20:55.701Z"
   },
   {
    "duration": 1218,
    "start_time": "2022-10-30T09:20:56.825Z"
   },
   {
    "duration": 409,
    "start_time": "2022-10-30T09:20:58.045Z"
   },
   {
    "duration": 1618,
    "start_time": "2022-10-30T09:20:58.456Z"
   },
   {
    "duration": 2139,
    "start_time": "2022-10-30T09:21:00.076Z"
   },
   {
    "duration": 16,
    "start_time": "2022-10-30T09:21:02.221Z"
   },
   {
    "duration": 2066,
    "start_time": "2022-10-30T09:21:02.239Z"
   },
   {
    "duration": 30,
    "start_time": "2022-10-30T09:21:04.307Z"
   },
   {
    "duration": 176,
    "start_time": "2022-10-30T09:21:04.339Z"
   },
   {
    "duration": 689,
    "start_time": "2022-10-30T09:21:04.517Z"
   },
   {
    "duration": 571,
    "start_time": "2022-10-30T09:21:05.208Z"
   },
   {
    "duration": 20,
    "start_time": "2022-10-30T09:21:05.783Z"
   },
   {
    "duration": 259,
    "start_time": "2022-10-30T09:21:05.805Z"
   },
   {
    "duration": 19,
    "start_time": "2022-10-30T09:21:06.066Z"
   },
   {
    "duration": 438,
    "start_time": "2022-10-30T09:21:06.087Z"
   },
   {
    "duration": 16,
    "start_time": "2022-10-30T09:21:06.527Z"
   },
   {
    "duration": 640,
    "start_time": "2022-10-30T09:21:06.544Z"
   },
   {
    "duration": 13,
    "start_time": "2022-10-30T09:21:07.185Z"
   },
   {
    "duration": 398,
    "start_time": "2022-10-30T09:21:07.200Z"
   },
   {
    "duration": 9,
    "start_time": "2022-10-30T09:21:07.599Z"
   },
   {
    "duration": 8,
    "start_time": "2022-10-30T09:21:07.622Z"
   },
   {
    "duration": 7,
    "start_time": "2022-10-30T09:21:07.631Z"
   },
   {
    "duration": 115,
    "start_time": "2022-10-30T09:50:14.173Z"
   },
   {
    "duration": 135,
    "start_time": "2022-10-30T09:50:42.279Z"
   },
   {
    "duration": 119,
    "start_time": "2022-10-30T09:51:17.962Z"
   },
   {
    "duration": 99,
    "start_time": "2022-10-30T10:06:27.235Z"
   },
   {
    "duration": 99,
    "start_time": "2022-10-30T10:06:40.588Z"
   },
   {
    "duration": 110,
    "start_time": "2022-10-30T10:08:31.205Z"
   },
   {
    "duration": 99,
    "start_time": "2022-10-30T10:08:43.646Z"
   },
   {
    "duration": 200,
    "start_time": "2022-10-30T10:08:54.915Z"
   },
   {
    "duration": 5,
    "start_time": "2022-10-30T10:09:05.860Z"
   },
   {
    "duration": 121,
    "start_time": "2022-10-30T10:09:12.535Z"
   },
   {
    "duration": 5,
    "start_time": "2022-10-30T10:09:42.071Z"
   },
   {
    "duration": 118,
    "start_time": "2022-10-30T10:09:46.933Z"
   },
   {
    "duration": 94,
    "start_time": "2022-10-30T10:09:52.479Z"
   },
   {
    "duration": 2,
    "start_time": "2022-10-30T10:10:06.687Z"
   },
   {
    "duration": 99,
    "start_time": "2022-10-30T10:10:06.691Z"
   },
   {
    "duration": 12,
    "start_time": "2022-10-30T10:10:06.791Z"
   },
   {
    "duration": 12,
    "start_time": "2022-10-30T10:10:06.804Z"
   },
   {
    "duration": 28,
    "start_time": "2022-10-30T10:10:06.818Z"
   },
   {
    "duration": 22,
    "start_time": "2022-10-30T10:10:06.847Z"
   },
   {
    "duration": 28,
    "start_time": "2022-10-30T10:10:06.871Z"
   },
   {
    "duration": 27,
    "start_time": "2022-10-30T10:10:06.901Z"
   },
   {
    "duration": 36,
    "start_time": "2022-10-30T10:10:06.930Z"
   },
   {
    "duration": 41,
    "start_time": "2022-10-30T10:10:06.967Z"
   },
   {
    "duration": 41,
    "start_time": "2022-10-30T10:10:07.009Z"
   },
   {
    "duration": 23,
    "start_time": "2022-10-30T10:10:07.051Z"
   },
   {
    "duration": 37,
    "start_time": "2022-10-30T10:10:07.075Z"
   },
   {
    "duration": 94,
    "start_time": "2022-10-30T10:10:07.114Z"
   },
   {
    "duration": 5,
    "start_time": "2022-10-30T10:10:07.209Z"
   },
   {
    "duration": 147,
    "start_time": "2022-10-30T10:10:07.215Z"
   },
   {
    "duration": 15,
    "start_time": "2022-10-30T10:10:07.364Z"
   },
   {
    "duration": 212,
    "start_time": "2022-10-30T10:10:07.381Z"
   },
   {
    "duration": 0,
    "start_time": "2022-10-30T10:10:07.595Z"
   },
   {
    "duration": 0,
    "start_time": "2022-10-30T10:10:07.597Z"
   },
   {
    "duration": 0,
    "start_time": "2022-10-30T10:10:07.598Z"
   },
   {
    "duration": 0,
    "start_time": "2022-10-30T10:10:07.600Z"
   },
   {
    "duration": 0,
    "start_time": "2022-10-30T10:10:07.601Z"
   },
   {
    "duration": 1,
    "start_time": "2022-10-30T10:10:07.602Z"
   },
   {
    "duration": 0,
    "start_time": "2022-10-30T10:10:07.621Z"
   },
   {
    "duration": 0,
    "start_time": "2022-10-30T10:10:07.623Z"
   },
   {
    "duration": 0,
    "start_time": "2022-10-30T10:10:07.624Z"
   },
   {
    "duration": 0,
    "start_time": "2022-10-30T10:10:07.626Z"
   },
   {
    "duration": 0,
    "start_time": "2022-10-30T10:10:07.627Z"
   },
   {
    "duration": 0,
    "start_time": "2022-10-30T10:10:07.628Z"
   },
   {
    "duration": 0,
    "start_time": "2022-10-30T10:10:07.629Z"
   },
   {
    "duration": 0,
    "start_time": "2022-10-30T10:10:07.630Z"
   },
   {
    "duration": 0,
    "start_time": "2022-10-30T10:10:07.631Z"
   },
   {
    "duration": 0,
    "start_time": "2022-10-30T10:10:07.633Z"
   },
   {
    "duration": 0,
    "start_time": "2022-10-30T10:10:07.634Z"
   },
   {
    "duration": 0,
    "start_time": "2022-10-30T10:10:07.636Z"
   },
   {
    "duration": 0,
    "start_time": "2022-10-30T10:10:07.638Z"
   },
   {
    "duration": 0,
    "start_time": "2022-10-30T10:10:07.639Z"
   },
   {
    "duration": 0,
    "start_time": "2022-10-30T10:10:07.640Z"
   },
   {
    "duration": 654,
    "start_time": "2022-10-30T10:10:58.055Z"
   },
   {
    "duration": 13,
    "start_time": "2022-10-30T10:20:37.203Z"
   },
   {
    "duration": 13,
    "start_time": "2022-10-30T10:21:41.772Z"
   },
   {
    "duration": 86,
    "start_time": "2022-10-30T10:22:08.574Z"
   },
   {
    "duration": 12,
    "start_time": "2022-10-30T10:22:40.037Z"
   },
   {
    "duration": 88,
    "start_time": "2022-10-30T10:22:51.884Z"
   },
   {
    "duration": 128,
    "start_time": "2022-10-30T10:24:01.606Z"
   },
   {
    "duration": 179,
    "start_time": "2022-10-30T10:24:25.551Z"
   },
   {
    "duration": 560,
    "start_time": "2022-10-30T10:29:02.666Z"
   },
   {
    "duration": 129,
    "start_time": "2022-10-30T10:29:46.200Z"
   },
   {
    "duration": 581,
    "start_time": "2022-10-30T10:29:59.944Z"
   },
   {
    "duration": 113,
    "start_time": "2022-10-30T10:31:11.033Z"
   },
   {
    "duration": 591,
    "start_time": "2022-10-30T10:33:58.247Z"
   },
   {
    "duration": 13,
    "start_time": "2022-10-30T10:38:11.582Z"
   },
   {
    "duration": 164,
    "start_time": "2022-10-30T10:38:45.403Z"
   },
   {
    "duration": 165,
    "start_time": "2022-10-30T10:39:11.429Z"
   },
   {
    "duration": 13,
    "start_time": "2022-10-30T10:43:42.513Z"
   },
   {
    "duration": 12,
    "start_time": "2022-10-30T10:44:05.521Z"
   },
   {
    "duration": 13,
    "start_time": "2022-10-30T10:44:13.488Z"
   },
   {
    "duration": 12,
    "start_time": "2022-10-30T10:44:28.111Z"
   },
   {
    "duration": 90,
    "start_time": "2022-10-30T10:44:42.618Z"
   },
   {
    "duration": 12,
    "start_time": "2022-10-30T10:44:59.328Z"
   },
   {
    "duration": 592,
    "start_time": "2022-10-30T10:53:09.431Z"
   },
   {
    "duration": 549,
    "start_time": "2022-10-30T10:55:23.289Z"
   },
   {
    "duration": 13,
    "start_time": "2022-10-30T10:57:49.014Z"
   },
   {
    "duration": 1069,
    "start_time": "2022-10-30T10:58:09.656Z"
   },
   {
    "duration": 1231,
    "start_time": "2022-10-30T10:58:49.121Z"
   },
   {
    "duration": 14,
    "start_time": "2022-10-30T10:59:58.671Z"
   },
   {
    "duration": 1080,
    "start_time": "2022-10-30T11:00:09.786Z"
   },
   {
    "duration": 1071,
    "start_time": "2022-10-30T11:00:18.304Z"
   },
   {
    "duration": 13,
    "start_time": "2022-10-30T11:01:03.216Z"
   },
   {
    "duration": 11,
    "start_time": "2022-10-30T11:04:47.666Z"
   },
   {
    "duration": 14,
    "start_time": "2022-10-30T11:19:39.993Z"
   },
   {
    "duration": 738,
    "start_time": "2022-10-30T11:22:54.573Z"
   },
   {
    "duration": 75,
    "start_time": "2022-10-30T11:24:34.117Z"
   },
   {
    "duration": 860,
    "start_time": "2022-10-30T11:24:45.684Z"
   },
   {
    "duration": 1601,
    "start_time": "2022-10-30T11:26:13.469Z"
   },
   {
    "duration": 1715,
    "start_time": "2022-10-30T11:26:42.020Z"
   },
   {
    "duration": 28,
    "start_time": "2022-10-30T11:46:09.695Z"
   },
   {
    "duration": 1666,
    "start_time": "2022-10-30T11:46:29.370Z"
   },
   {
    "duration": 265,
    "start_time": "2022-10-30T12:01:32.503Z"
   },
   {
    "duration": 204,
    "start_time": "2022-10-30T12:01:48.985Z"
   },
   {
    "duration": 217,
    "start_time": "2022-10-30T12:02:00.851Z"
   },
   {
    "duration": 206,
    "start_time": "2022-10-30T12:02:09.631Z"
   },
   {
    "duration": 212,
    "start_time": "2022-10-30T12:02:17.879Z"
   },
   {
    "duration": 335,
    "start_time": "2022-10-30T12:02:23.879Z"
   },
   {
    "duration": 243,
    "start_time": "2022-10-30T12:02:41.657Z"
   },
   {
    "duration": 799,
    "start_time": "2022-10-30T12:51:52.473Z"
   },
   {
    "duration": 7,
    "start_time": "2022-10-30T12:53:44.306Z"
   },
   {
    "duration": 10,
    "start_time": "2022-10-30T12:56:42.866Z"
   },
   {
    "duration": 8,
    "start_time": "2022-10-30T12:57:10.988Z"
   },
   {
    "duration": 5,
    "start_time": "2022-10-30T12:57:15.801Z"
   },
   {
    "duration": 6,
    "start_time": "2022-10-30T12:57:25.492Z"
   },
   {
    "duration": 6,
    "start_time": "2022-10-30T12:59:06.066Z"
   },
   {
    "duration": 156,
    "start_time": "2022-10-30T12:59:12.248Z"
   },
   {
    "duration": 5,
    "start_time": "2022-10-30T12:59:35.476Z"
   },
   {
    "duration": 6,
    "start_time": "2022-10-30T12:59:48.103Z"
   },
   {
    "duration": 6,
    "start_time": "2022-10-30T12:59:50.285Z"
   },
   {
    "duration": 6,
    "start_time": "2022-10-30T12:59:52.652Z"
   },
   {
    "duration": 3,
    "start_time": "2022-10-30T13:00:23.666Z"
   },
   {
    "duration": 83,
    "start_time": "2022-10-30T13:00:23.670Z"
   },
   {
    "duration": 13,
    "start_time": "2022-10-30T13:00:23.755Z"
   },
   {
    "duration": 4,
    "start_time": "2022-10-30T13:00:23.769Z"
   },
   {
    "duration": 12,
    "start_time": "2022-10-30T13:00:23.775Z"
   },
   {
    "duration": 5,
    "start_time": "2022-10-30T13:00:23.789Z"
   },
   {
    "duration": 27,
    "start_time": "2022-10-30T13:00:23.796Z"
   },
   {
    "duration": 29,
    "start_time": "2022-10-30T13:00:23.825Z"
   },
   {
    "duration": 8,
    "start_time": "2022-10-30T13:00:23.856Z"
   },
   {
    "duration": 7,
    "start_time": "2022-10-30T13:00:23.865Z"
   },
   {
    "duration": 4,
    "start_time": "2022-10-30T13:00:23.874Z"
   },
   {
    "duration": 7,
    "start_time": "2022-10-30T13:00:23.879Z"
   },
   {
    "duration": 6,
    "start_time": "2022-10-30T13:00:23.887Z"
   },
   {
    "duration": 73,
    "start_time": "2022-10-30T13:00:23.894Z"
   },
   {
    "duration": 6,
    "start_time": "2022-10-30T13:00:23.969Z"
   },
   {
    "duration": 7,
    "start_time": "2022-10-30T13:00:23.977Z"
   },
   {
    "duration": 8,
    "start_time": "2022-10-30T13:00:23.986Z"
   },
   {
    "duration": 163,
    "start_time": "2022-10-30T13:00:23.996Z"
   },
   {
    "duration": 15,
    "start_time": "2022-10-30T13:00:24.161Z"
   },
   {
    "duration": 1978,
    "start_time": "2022-10-30T13:00:24.178Z"
   },
   {
    "duration": 1430,
    "start_time": "2022-10-30T13:00:26.158Z"
   },
   {
    "duration": 433,
    "start_time": "2022-10-30T13:00:27.594Z"
   },
   {
    "duration": 1719,
    "start_time": "2022-10-30T13:00:28.028Z"
   },
   {
    "duration": 3225,
    "start_time": "2022-10-30T13:00:29.748Z"
   },
   {
    "duration": 17,
    "start_time": "2022-10-30T13:00:32.975Z"
   },
   {
    "duration": 1810,
    "start_time": "2022-10-30T13:00:32.994Z"
   },
   {
    "duration": 243,
    "start_time": "2022-10-30T13:00:34.806Z"
   },
   {
    "duration": 217,
    "start_time": "2022-10-30T13:00:35.050Z"
   },
   {
    "duration": 915,
    "start_time": "2022-10-30T13:00:35.271Z"
   },
   {
    "duration": 978,
    "start_time": "2022-10-30T13:00:36.188Z"
   },
   {
    "duration": 20,
    "start_time": "2022-10-30T13:00:37.167Z"
   },
   {
    "duration": 293,
    "start_time": "2022-10-30T13:00:37.188Z"
   },
   {
    "duration": 15,
    "start_time": "2022-10-30T13:00:37.483Z"
   },
   {
    "duration": 565,
    "start_time": "2022-10-30T13:00:37.499Z"
   },
   {
    "duration": 16,
    "start_time": "2022-10-30T13:00:38.065Z"
   },
   {
    "duration": 645,
    "start_time": "2022-10-30T13:00:38.083Z"
   },
   {
    "duration": 16,
    "start_time": "2022-10-30T13:00:38.736Z"
   },
   {
    "duration": 523,
    "start_time": "2022-10-30T13:00:38.754Z"
   },
   {
    "duration": 8,
    "start_time": "2022-10-30T13:00:39.279Z"
   },
   {
    "duration": 8,
    "start_time": "2022-10-30T13:00:39.288Z"
   },
   {
    "duration": 6,
    "start_time": "2022-10-30T13:00:39.297Z"
   },
   {
    "duration": 705,
    "start_time": "2022-10-30T13:05:57.663Z"
   },
   {
    "duration": 741,
    "start_time": "2022-10-30T13:07:24.255Z"
   },
   {
    "duration": 798,
    "start_time": "2022-10-30T13:07:33.991Z"
   },
   {
    "duration": 403,
    "start_time": "2022-10-30T13:11:23.488Z"
   },
   {
    "duration": 414,
    "start_time": "2022-10-30T13:11:41.523Z"
   },
   {
    "duration": 362,
    "start_time": "2022-10-30T13:11:53.704Z"
   },
   {
    "duration": 308,
    "start_time": "2022-10-30T13:12:48.881Z"
   },
   {
    "duration": 413,
    "start_time": "2022-10-30T13:12:57.398Z"
   },
   {
    "duration": 287,
    "start_time": "2022-10-30T13:13:03.747Z"
   },
   {
    "duration": 280,
    "start_time": "2022-10-30T13:14:03.763Z"
   },
   {
    "duration": 14,
    "start_time": "2022-10-30T13:14:57.141Z"
   },
   {
    "duration": 456,
    "start_time": "2022-10-30T13:14:59.356Z"
   },
   {
    "duration": 15,
    "start_time": "2022-10-30T13:20:51.158Z"
   },
   {
    "duration": 478,
    "start_time": "2022-10-30T13:20:56.318Z"
   },
   {
    "duration": 30,
    "start_time": "2022-10-30T13:23:33.321Z"
   },
   {
    "duration": 765,
    "start_time": "2022-10-30T13:23:38.080Z"
   },
   {
    "duration": 8,
    "start_time": "2022-10-30T13:51:37.974Z"
   },
   {
    "duration": 5,
    "start_time": "2022-10-30T13:51:51.966Z"
   },
   {
    "duration": 34,
    "start_time": "2022-10-30T13:56:46.385Z"
   },
   {
    "duration": 14,
    "start_time": "2022-10-30T13:59:12.672Z"
   },
   {
    "duration": 7,
    "start_time": "2022-10-30T14:00:10.354Z"
   },
   {
    "duration": 3,
    "start_time": "2022-10-30T14:01:43.852Z"
   },
   {
    "duration": 95,
    "start_time": "2022-10-30T14:01:43.856Z"
   },
   {
    "duration": 13,
    "start_time": "2022-10-30T14:01:43.952Z"
   },
   {
    "duration": 9,
    "start_time": "2022-10-30T14:01:43.967Z"
   },
   {
    "duration": 14,
    "start_time": "2022-10-30T14:01:43.978Z"
   },
   {
    "duration": 24,
    "start_time": "2022-10-30T14:01:43.994Z"
   },
   {
    "duration": 52,
    "start_time": "2022-10-30T14:01:44.019Z"
   },
   {
    "duration": 18,
    "start_time": "2022-10-30T14:01:44.073Z"
   },
   {
    "duration": 11,
    "start_time": "2022-10-30T14:01:44.092Z"
   },
   {
    "duration": 49,
    "start_time": "2022-10-30T14:01:44.104Z"
   },
   {
    "duration": 4,
    "start_time": "2022-10-30T14:01:44.156Z"
   },
   {
    "duration": 21,
    "start_time": "2022-10-30T14:01:44.161Z"
   },
   {
    "duration": 26,
    "start_time": "2022-10-30T14:01:44.184Z"
   },
   {
    "duration": 14,
    "start_time": "2022-10-30T14:01:44.211Z"
   },
   {
    "duration": 99,
    "start_time": "2022-10-30T14:01:44.227Z"
   },
   {
    "duration": 11,
    "start_time": "2022-10-30T14:01:44.328Z"
   },
   {
    "duration": 28,
    "start_time": "2022-10-30T14:01:44.341Z"
   },
   {
    "duration": 11,
    "start_time": "2022-10-30T14:01:44.370Z"
   },
   {
    "duration": 130,
    "start_time": "2022-10-30T14:01:44.382Z"
   },
   {
    "duration": 23,
    "start_time": "2022-10-30T14:01:44.514Z"
   },
   {
    "duration": 1820,
    "start_time": "2022-10-30T14:01:44.539Z"
   },
   {
    "duration": 1363,
    "start_time": "2022-10-30T14:01:46.361Z"
   },
   {
    "duration": 390,
    "start_time": "2022-10-30T14:01:47.725Z"
   },
   {
    "duration": 1729,
    "start_time": "2022-10-30T14:01:48.117Z"
   },
   {
    "duration": 2818,
    "start_time": "2022-10-30T14:01:49.848Z"
   },
   {
    "duration": 15,
    "start_time": "2022-10-30T14:01:52.668Z"
   },
   {
    "duration": 1482,
    "start_time": "2022-10-30T14:01:52.685Z"
   },
   {
    "duration": 212,
    "start_time": "2022-10-30T14:01:54.169Z"
   },
   {
    "duration": 230,
    "start_time": "2022-10-30T14:01:54.384Z"
   },
   {
    "duration": 833,
    "start_time": "2022-10-30T14:01:54.616Z"
   },
   {
    "duration": 621,
    "start_time": "2022-10-30T14:01:55.456Z"
   },
   {
    "duration": 20,
    "start_time": "2022-10-30T14:01:56.080Z"
   },
   {
    "duration": 327,
    "start_time": "2022-10-30T14:01:56.102Z"
   },
   {
    "duration": 18,
    "start_time": "2022-10-30T14:01:56.430Z"
   },
   {
    "duration": 489,
    "start_time": "2022-10-30T14:01:56.452Z"
   },
   {
    "duration": 20,
    "start_time": "2022-10-30T14:01:56.943Z"
   },
   {
    "duration": 762,
    "start_time": "2022-10-30T14:01:56.964Z"
   },
   {
    "duration": 18,
    "start_time": "2022-10-30T14:01:57.728Z"
   },
   {
    "duration": 455,
    "start_time": "2022-10-30T14:01:57.747Z"
   },
   {
    "duration": 23,
    "start_time": "2022-10-30T14:01:58.204Z"
   },
   {
    "duration": 12,
    "start_time": "2022-10-30T14:01:58.229Z"
   },
   {
    "duration": 12,
    "start_time": "2022-10-30T14:01:58.243Z"
   },
   {
    "duration": 5,
    "start_time": "2022-10-30T14:03:05.171Z"
   },
   {
    "duration": 3,
    "start_time": "2022-10-30T14:05:13.890Z"
   },
   {
    "duration": 102,
    "start_time": "2022-10-30T14:05:13.895Z"
   },
   {
    "duration": 12,
    "start_time": "2022-10-30T14:05:13.999Z"
   },
   {
    "duration": 40,
    "start_time": "2022-10-30T14:05:14.013Z"
   },
   {
    "duration": 25,
    "start_time": "2022-10-30T14:05:14.054Z"
   },
   {
    "duration": 21,
    "start_time": "2022-10-30T14:05:14.080Z"
   },
   {
    "duration": 44,
    "start_time": "2022-10-30T14:05:14.102Z"
   },
   {
    "duration": 25,
    "start_time": "2022-10-30T14:05:14.150Z"
   },
   {
    "duration": 32,
    "start_time": "2022-10-30T14:05:14.176Z"
   },
   {
    "duration": 41,
    "start_time": "2022-10-30T14:05:14.210Z"
   },
   {
    "duration": 23,
    "start_time": "2022-10-30T14:05:14.253Z"
   },
   {
    "duration": 27,
    "start_time": "2022-10-30T14:05:14.278Z"
   },
   {
    "duration": 20,
    "start_time": "2022-10-30T14:05:14.306Z"
   },
   {
    "duration": 42,
    "start_time": "2022-10-30T14:05:14.329Z"
   },
   {
    "duration": 28,
    "start_time": "2022-10-30T14:05:14.373Z"
   },
   {
    "duration": 113,
    "start_time": "2022-10-30T14:05:14.402Z"
   },
   {
    "duration": 11,
    "start_time": "2022-10-30T14:05:14.516Z"
   },
   {
    "duration": 59,
    "start_time": "2022-10-30T14:05:14.529Z"
   },
   {
    "duration": 19,
    "start_time": "2022-10-30T14:05:14.589Z"
   },
   {
    "duration": 164,
    "start_time": "2022-10-30T14:05:14.610Z"
   },
   {
    "duration": 14,
    "start_time": "2022-10-30T14:05:14.775Z"
   },
   {
    "duration": 1991,
    "start_time": "2022-10-30T14:05:14.791Z"
   },
   {
    "duration": 1291,
    "start_time": "2022-10-30T14:05:16.783Z"
   },
   {
    "duration": 393,
    "start_time": "2022-10-30T14:05:18.076Z"
   },
   {
    "duration": 1701,
    "start_time": "2022-10-30T14:05:18.471Z"
   },
   {
    "duration": 2675,
    "start_time": "2022-10-30T14:05:20.173Z"
   },
   {
    "duration": 15,
    "start_time": "2022-10-30T14:05:22.850Z"
   },
   {
    "duration": 1486,
    "start_time": "2022-10-30T14:05:22.867Z"
   },
   {
    "duration": 377,
    "start_time": "2022-10-30T14:05:24.355Z"
   },
   {
    "duration": 225,
    "start_time": "2022-10-30T14:05:24.734Z"
   },
   {
    "duration": 708,
    "start_time": "2022-10-30T14:05:24.960Z"
   },
   {
    "duration": 699,
    "start_time": "2022-10-30T14:05:25.670Z"
   },
   {
    "duration": 18,
    "start_time": "2022-10-30T14:05:26.370Z"
   },
   {
    "duration": 408,
    "start_time": "2022-10-30T14:05:26.390Z"
   },
   {
    "duration": 29,
    "start_time": "2022-10-30T14:05:26.800Z"
   },
   {
    "duration": 453,
    "start_time": "2022-10-30T14:05:26.830Z"
   },
   {
    "duration": 18,
    "start_time": "2022-10-30T14:05:27.285Z"
   },
   {
    "duration": 664,
    "start_time": "2022-10-30T14:05:27.304Z"
   },
   {
    "duration": 14,
    "start_time": "2022-10-30T14:05:27.969Z"
   },
   {
    "duration": 431,
    "start_time": "2022-10-30T14:05:27.985Z"
   },
   {
    "duration": 15,
    "start_time": "2022-10-30T14:05:28.431Z"
   },
   {
    "duration": 14,
    "start_time": "2022-10-30T14:05:28.447Z"
   },
   {
    "duration": 7,
    "start_time": "2022-10-30T14:05:28.462Z"
   },
   {
    "duration": 7,
    "start_time": "2022-10-30T14:05:44.805Z"
   },
   {
    "duration": 5,
    "start_time": "2022-10-30T14:05:50.612Z"
   },
   {
    "duration": 29,
    "start_time": "2022-10-30T14:06:03.074Z"
   },
   {
    "duration": 15,
    "start_time": "2022-10-30T14:06:24.980Z"
   },
   {
    "duration": 8,
    "start_time": "2022-10-30T14:07:24.261Z"
   },
   {
    "duration": 91,
    "start_time": "2022-10-30T14:09:04.658Z"
   },
   {
    "duration": 88,
    "start_time": "2022-10-30T14:09:10.880Z"
   },
   {
    "duration": 13,
    "start_time": "2022-10-30T14:09:20.148Z"
   },
   {
    "duration": 13,
    "start_time": "2022-10-30T14:10:39.739Z"
   },
   {
    "duration": 15,
    "start_time": "2022-10-30T14:14:50.592Z"
   },
   {
    "duration": 14,
    "start_time": "2022-10-30T14:15:28.000Z"
   },
   {
    "duration": 93,
    "start_time": "2022-10-30T14:16:05.407Z"
   },
   {
    "duration": 13,
    "start_time": "2022-10-30T14:16:53.866Z"
   },
   {
    "duration": 26,
    "start_time": "2022-10-30T14:19:21.085Z"
   },
   {
    "duration": 682,
    "start_time": "2022-10-30T14:19:48.547Z"
   },
   {
    "duration": 1528,
    "start_time": "2022-10-31T12:21:47.171Z"
   },
   {
    "duration": 220,
    "start_time": "2022-10-31T12:21:48.702Z"
   },
   {
    "duration": 17,
    "start_time": "2022-10-31T12:21:48.924Z"
   },
   {
    "duration": 5,
    "start_time": "2022-10-31T12:21:48.944Z"
   },
   {
    "duration": 13,
    "start_time": "2022-10-31T12:21:48.951Z"
   },
   {
    "duration": 10,
    "start_time": "2022-10-31T12:21:48.966Z"
   },
   {
    "duration": 6,
    "start_time": "2022-10-31T12:21:48.978Z"
   },
   {
    "duration": 6,
    "start_time": "2022-10-31T12:21:48.986Z"
   },
   {
    "duration": 39,
    "start_time": "2022-10-31T12:21:48.994Z"
   },
   {
    "duration": 8,
    "start_time": "2022-10-31T12:21:49.036Z"
   },
   {
    "duration": 6,
    "start_time": "2022-10-31T12:21:49.046Z"
   },
   {
    "duration": 7,
    "start_time": "2022-10-31T12:21:49.054Z"
   },
   {
    "duration": 9,
    "start_time": "2022-10-31T12:21:49.063Z"
   },
   {
    "duration": 7,
    "start_time": "2022-10-31T12:21:49.074Z"
   },
   {
    "duration": 48,
    "start_time": "2022-10-31T12:21:49.084Z"
   },
   {
    "duration": 108,
    "start_time": "2022-10-31T12:21:49.134Z"
   },
   {
    "duration": 11,
    "start_time": "2022-10-31T12:21:49.243Z"
   },
   {
    "duration": 18,
    "start_time": "2022-10-31T12:21:49.256Z"
   },
   {
    "duration": 7,
    "start_time": "2022-10-31T12:21:49.277Z"
   },
   {
    "duration": 225,
    "start_time": "2022-10-31T12:21:49.286Z"
   },
   {
    "duration": 29,
    "start_time": "2022-10-31T12:21:49.513Z"
   },
   {
    "duration": 2205,
    "start_time": "2022-10-31T12:21:49.544Z"
   },
   {
    "duration": 18,
    "start_time": "2022-10-31T12:21:51.751Z"
   },
   {
    "duration": 1837,
    "start_time": "2022-10-31T12:21:51.770Z"
   },
   {
    "duration": 269,
    "start_time": "2022-10-31T12:21:53.609Z"
   },
   {
    "duration": 278,
    "start_time": "2022-10-31T12:21:53.880Z"
   },
   {
    "duration": 890,
    "start_time": "2022-10-31T12:21:54.159Z"
   },
   {
    "duration": 741,
    "start_time": "2022-10-31T12:21:55.053Z"
   },
   {
    "duration": 38,
    "start_time": "2022-10-31T12:21:55.795Z"
   },
   {
    "duration": 313,
    "start_time": "2022-10-31T12:21:55.834Z"
   },
   {
    "duration": 18,
    "start_time": "2022-10-31T12:21:56.149Z"
   },
   {
    "duration": 669,
    "start_time": "2022-10-31T12:21:56.169Z"
   },
   {
    "duration": 18,
    "start_time": "2022-10-31T12:21:56.840Z"
   },
   {
    "duration": 743,
    "start_time": "2022-10-31T12:21:56.859Z"
   },
   {
    "duration": 28,
    "start_time": "2022-10-31T12:21:57.603Z"
   },
   {
    "duration": 581,
    "start_time": "2022-10-31T12:21:57.633Z"
   },
   {
    "duration": 22,
    "start_time": "2022-10-31T12:21:58.217Z"
   },
   {
    "duration": 9,
    "start_time": "2022-10-31T12:21:58.241Z"
   },
   {
    "duration": 21,
    "start_time": "2022-10-31T12:21:58.251Z"
   },
   {
    "duration": 1367,
    "start_time": "2022-10-31T20:28:15.761Z"
   },
   {
    "duration": 123,
    "start_time": "2022-10-31T20:28:17.130Z"
   },
   {
    "duration": 16,
    "start_time": "2022-10-31T20:28:17.255Z"
   },
   {
    "duration": 4,
    "start_time": "2022-10-31T20:28:17.273Z"
   },
   {
    "duration": 7,
    "start_time": "2022-10-31T20:28:17.279Z"
   },
   {
    "duration": 10,
    "start_time": "2022-10-31T20:28:17.287Z"
   },
   {
    "duration": 4,
    "start_time": "2022-10-31T20:28:17.298Z"
   },
   {
    "duration": 31,
    "start_time": "2022-10-31T20:28:17.304Z"
   },
   {
    "duration": 10,
    "start_time": "2022-10-31T20:28:17.336Z"
   },
   {
    "duration": 7,
    "start_time": "2022-10-31T20:28:17.348Z"
   },
   {
    "duration": 5,
    "start_time": "2022-10-31T20:28:17.357Z"
   },
   {
    "duration": 9,
    "start_time": "2022-10-31T20:28:17.363Z"
   },
   {
    "duration": 6,
    "start_time": "2022-10-31T20:28:17.373Z"
   },
   {
    "duration": 11,
    "start_time": "2022-10-31T20:28:17.381Z"
   },
   {
    "duration": 15,
    "start_time": "2022-10-31T20:28:17.394Z"
   },
   {
    "duration": 97,
    "start_time": "2022-10-31T20:28:17.410Z"
   },
   {
    "duration": 7,
    "start_time": "2022-10-31T20:28:17.509Z"
   },
   {
    "duration": 8,
    "start_time": "2022-10-31T20:28:17.532Z"
   },
   {
    "duration": 8,
    "start_time": "2022-10-31T20:28:17.541Z"
   },
   {
    "duration": 173,
    "start_time": "2022-10-31T20:28:17.550Z"
   },
   {
    "duration": 22,
    "start_time": "2022-10-31T20:28:17.725Z"
   },
   {
    "duration": 1911,
    "start_time": "2022-10-31T20:28:17.749Z"
   },
   {
    "duration": 15,
    "start_time": "2022-10-31T20:28:19.662Z"
   },
   {
    "duration": 1633,
    "start_time": "2022-10-31T20:28:19.680Z"
   },
   {
    "duration": 228,
    "start_time": "2022-10-31T20:28:21.315Z"
   },
   {
    "duration": 233,
    "start_time": "2022-10-31T20:28:21.544Z"
   },
   {
    "duration": 788,
    "start_time": "2022-10-31T20:28:21.779Z"
   },
   {
    "duration": 678,
    "start_time": "2022-10-31T20:28:22.570Z"
   },
   {
    "duration": 23,
    "start_time": "2022-10-31T20:28:23.250Z"
   },
   {
    "duration": 280,
    "start_time": "2022-10-31T20:28:23.275Z"
   },
   {
    "duration": 16,
    "start_time": "2022-10-31T20:28:23.557Z"
   },
   {
    "duration": 572,
    "start_time": "2022-10-31T20:28:23.576Z"
   },
   {
    "duration": 16,
    "start_time": "2022-10-31T20:28:24.150Z"
   },
   {
    "duration": 677,
    "start_time": "2022-10-31T20:28:24.168Z"
   },
   {
    "duration": 17,
    "start_time": "2022-10-31T20:28:24.847Z"
   },
   {
    "duration": 507,
    "start_time": "2022-10-31T20:28:24.865Z"
   },
   {
    "duration": 8,
    "start_time": "2022-10-31T20:28:25.373Z"
   },
   {
    "duration": 8,
    "start_time": "2022-10-31T20:28:25.383Z"
   },
   {
    "duration": 10,
    "start_time": "2022-10-31T20:28:25.392Z"
   },
   {
    "duration": 250,
    "start_time": "2022-10-31T20:30:57.635Z"
   },
   {
    "duration": 155,
    "start_time": "2022-10-31T20:35:16.756Z"
   },
   {
    "duration": 159,
    "start_time": "2022-10-31T20:36:30.906Z"
   },
   {
    "duration": 258,
    "start_time": "2022-10-31T20:37:34.275Z"
   },
   {
    "duration": 1076,
    "start_time": "2022-11-01T00:50:16.566Z"
   },
   {
    "duration": 88,
    "start_time": "2022-11-01T00:50:17.645Z"
   },
   {
    "duration": 15,
    "start_time": "2022-11-01T00:50:17.735Z"
   },
   {
    "duration": 20,
    "start_time": "2022-11-01T00:50:17.751Z"
   },
   {
    "duration": 18,
    "start_time": "2022-11-01T00:50:17.773Z"
   },
   {
    "duration": 25,
    "start_time": "2022-11-01T00:50:17.793Z"
   },
   {
    "duration": 18,
    "start_time": "2022-11-01T00:50:17.820Z"
   },
   {
    "duration": 33,
    "start_time": "2022-11-01T00:50:17.839Z"
   },
   {
    "duration": 30,
    "start_time": "2022-11-01T00:50:17.873Z"
   },
   {
    "duration": 31,
    "start_time": "2022-11-01T00:50:17.904Z"
   },
   {
    "duration": 30,
    "start_time": "2022-11-01T00:50:17.936Z"
   },
   {
    "duration": 29,
    "start_time": "2022-11-01T00:50:17.967Z"
   },
   {
    "duration": 27,
    "start_time": "2022-11-01T00:50:17.997Z"
   },
   {
    "duration": 26,
    "start_time": "2022-11-01T00:50:18.027Z"
   },
   {
    "duration": 16,
    "start_time": "2022-11-01T00:50:18.055Z"
   },
   {
    "duration": 85,
    "start_time": "2022-11-01T00:50:18.072Z"
   },
   {
    "duration": 8,
    "start_time": "2022-11-01T00:50:18.159Z"
   },
   {
    "duration": 25,
    "start_time": "2022-11-01T00:50:18.168Z"
   },
   {
    "duration": 30,
    "start_time": "2022-11-01T00:50:18.195Z"
   },
   {
    "duration": 183,
    "start_time": "2022-11-01T00:50:18.226Z"
   },
   {
    "duration": 19,
    "start_time": "2022-11-01T00:50:18.411Z"
   },
   {
    "duration": 1875,
    "start_time": "2022-11-01T00:50:18.432Z"
   },
   {
    "duration": 25,
    "start_time": "2022-11-01T00:50:20.309Z"
   },
   {
    "duration": 1655,
    "start_time": "2022-11-01T00:50:20.336Z"
   },
   {
    "duration": 222,
    "start_time": "2022-11-01T00:50:21.993Z"
   },
   {
    "duration": 226,
    "start_time": "2022-11-01T00:50:22.220Z"
   },
   {
    "duration": 792,
    "start_time": "2022-11-01T00:50:22.448Z"
   },
   {
    "duration": 641,
    "start_time": "2022-11-01T00:50:23.242Z"
   },
   {
    "duration": 21,
    "start_time": "2022-11-01T00:50:23.885Z"
   },
   {
    "duration": 286,
    "start_time": "2022-11-01T00:50:23.907Z"
   },
   {
    "duration": 27,
    "start_time": "2022-11-01T00:50:24.195Z"
   },
   {
    "duration": 564,
    "start_time": "2022-11-01T00:50:24.224Z"
   },
   {
    "duration": 16,
    "start_time": "2022-11-01T00:50:24.790Z"
   },
   {
    "duration": 629,
    "start_time": "2022-11-01T00:50:24.820Z"
   },
   {
    "duration": 16,
    "start_time": "2022-11-01T00:50:25.451Z"
   },
   {
    "duration": 452,
    "start_time": "2022-11-01T00:50:25.468Z"
   },
   {
    "duration": 8,
    "start_time": "2022-11-01T00:50:25.922Z"
   },
   {
    "duration": 19,
    "start_time": "2022-11-01T00:50:25.932Z"
   },
   {
    "duration": 26,
    "start_time": "2022-11-01T00:50:25.952Z"
   }
  ],
  "kernelspec": {
   "display_name": "Python 3 (ipykernel)",
   "language": "python",
   "name": "python3"
  },
  "language_info": {
   "codemirror_mode": {
    "name": "ipython",
    "version": 3
   },
   "file_extension": ".py",
   "mimetype": "text/x-python",
   "name": "python",
   "nbconvert_exporter": "python",
   "pygments_lexer": "ipython3",
   "version": "3.9.5"
  },
  "toc": {
   "base_numbering": 1,
   "nav_menu": {},
   "number_sections": true,
   "sideBar": true,
   "skip_h1_title": true,
   "title_cell": "Table of Contents",
   "title_sidebar": "Contents",
   "toc_cell": false,
   "toc_position": {
    "height": "calc(100% - 180px)",
    "left": "10px",
    "top": "150px",
    "width": "195.682px"
   },
   "toc_section_display": true,
   "toc_window_display": true
  }
 },
 "nbformat": 4,
 "nbformat_minor": 2
}
